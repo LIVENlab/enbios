{
 "cells": [
  {
   "cell_type": "code",
   "execution_count": 104,
   "outputs": [
    {
     "data": {
      "text/plain": "'nonlinear-method-test'"
     },
     "execution_count": 104,
     "metadata": {},
     "output_type": "execute_result"
    }
   ],
   "source": [
    "import bw2data as bd\n",
    "\n",
    "bd.projects.current"
   ],
   "metadata": {
    "collapsed": false,
    "ExecuteTime": {
     "end_time": "2023-12-06T21:47:06.205598521Z",
     "start_time": "2023-12-06T21:47:06.197802123Z"
    }
   },
   "id": "467023445ef69aa7"
  },
  {
   "cell_type": "code",
   "execution_count": 105,
   "outputs": [],
   "source": [
    "try:\n",
    "    bd.projects.delete_project(\"nonlinear-method-test\", True)\n",
    "except ValueError:\n",
    "    print(\"project does not exist\")"
   ],
   "metadata": {
    "collapsed": false,
    "ExecuteTime": {
     "end_time": "2023-12-06T21:47:06.391352161Z",
     "start_time": "2023-12-06T21:47:06.370576618Z"
    }
   },
   "id": "bb351b028ec6785"
  },
  {
   "cell_type": "code",
   "execution_count": 106,
   "outputs": [],
   "source": [
    "bd.projects.set_current(\"nonlinear-method-test\")"
   ],
   "metadata": {
    "collapsed": false,
    "ExecuteTime": {
     "end_time": "2023-12-06T21:47:06.800587328Z",
     "start_time": "2023-12-06T21:47:06.491006592Z"
    }
   },
   "id": "9da691e27ee57702"
  },
  {
   "cell_type": "code",
   "execution_count": 107,
   "outputs": [],
   "source": [
    "db = bd.Database(\"db\")\n",
    "# Let the metadata system know this database exists. Not necessary if using a `bw2io` importer.\n",
    "db.register()"
   ],
   "metadata": {
    "collapsed": false,
    "ExecuteTime": {
     "end_time": "2023-12-06T21:47:06.813783308Z",
     "start_time": "2023-12-06T21:47:06.798613424Z"
    }
   },
   "id": "6428848ad9a649ab"
  },
  {
   "cell_type": "markdown",
   "source": [
    "![](/home/ra/projects/enbios/enbios/experiment/non_linear_poc.png)"
   ],
   "metadata": {
    "collapsed": false
   },
   "id": "accc8288f1110a19"
  },
  {
   "cell_type": "code",
   "execution_count": 108,
   "outputs": [],
   "source": [
    "final_product = db.new_node(\n",
    "    code='product',\n",
    "    name='random production',\n",
    "    location='ES',\n",
    "    unit='unit'\n",
    ")\n",
    "final_product.save()\n",
    "\n",
    "cf = db.new_node(\n",
    "    code='cf',\n",
    "    name='carbon fibre production',\n",
    "    location='NO',\n",
    "    unit='kg'\n",
    ")\n",
    "cf.save()\n",
    "\n",
    "ng = db.new_node(\n",
    "    code='ng',\n",
    "    name='natural gas production',\n",
    "    location='NO',\n",
    "    unit='MJ'\n",
    ")\n",
    "ng.save()\n",
    "\n",
    "steel = db.new_node(\n",
    "    code='steel',\n",
    "    name='steel production',\n",
    "    location='DE',\n",
    "    unit='kg'\n",
    ")\n",
    "steel.save()"
   ],
   "metadata": {
    "collapsed": false,
    "ExecuteTime": {
     "end_time": "2023-12-06T21:47:07.000084447Z",
     "start_time": "2023-12-06T21:47:06.942547931Z"
    }
   },
   "id": "912f573fa32e7739"
  },
  {
   "cell_type": "code",
   "execution_count": 109,
   "outputs": [],
   "source": [
    "co2 = db.new_node(\n",
    "    code='co2',\n",
    "    name=\"Carbon Dioxide\",\n",
    "    categories=('air',),\n",
    "    type='emission',\n",
    "    unit='kg'\n",
    ")\n",
    "\n",
    "co2.save()\n",
    "\n",
    "bio_chem = db.new_node(\n",
    "    code='bio_chem',\n",
    "    name=\"Biochemicals\",\n",
    "    categories=('air',),\n",
    "    type='emission',\n",
    "    unit='kg'\n",
    ")\n",
    "\n",
    "bio_chem.save()"
   ],
   "metadata": {
    "collapsed": false,
    "ExecuteTime": {
     "end_time": "2023-12-06T21:47:07.307818728Z",
     "start_time": "2023-12-06T21:47:07.269740863Z"
    }
   },
   "id": "2f28b72f6efcfc2f"
  },
  {
   "cell_type": "code",
   "execution_count": 110,
   "outputs": [],
   "source": [
    "def create_edge(act, input, amount, type):\n",
    "    return act.new_edge(\n",
    "        amount=amount,\n",
    "        type=type,\n",
    "        input=input\n",
    "    ).save()\n",
    "\n",
    "\n",
    "TECHNOSPHERE = 'technosphere'\n",
    "BIOSPHERE = 'biosphere'\n",
    "\n",
    "create_edge(final_product, cf, 1, TECHNOSPHERE)\n",
    "create_edge(final_product, steel, 2, TECHNOSPHERE)\n",
    "\n",
    "create_edge(cf, co2, 25, BIOSPHERE)\n",
    "create_edge(cf, ng, 100, TECHNOSPHERE)\n",
    "create_edge(cf, bio_chem, 10, BIOSPHERE)\n",
    "\n",
    "create_edge(steel, bio_chem, 5, BIOSPHERE)\n",
    "create_edge(ng, bio_chem, 1, BIOSPHERE)"
   ],
   "metadata": {
    "collapsed": false,
    "ExecuteTime": {
     "end_time": "2023-12-06T21:47:07.649415221Z",
     "start_time": "2023-12-06T21:47:07.596776810Z"
    }
   },
   "id": "4facc5e88086aff0"
  },
  {
   "cell_type": "code",
   "execution_count": 111,
   "outputs": [],
   "source": [
    "ipcc = bd.Method(('IPCC',))\n",
    "ipcc.write([\n",
    "    (co2.key, {'amount': 1}),\n",
    "    (bio_chem.key, {'amount': 2})\n",
    "])"
   ],
   "metadata": {
    "collapsed": false,
    "ExecuteTime": {
     "end_time": "2023-12-06T21:47:07.838523681Z",
     "start_time": "2023-12-06T21:47:07.827258074Z"
    }
   },
   "id": "ae15a71fb9d3c75b"
  },
  {
   "cell_type": "code",
   "execution_count": 112,
   "outputs": [
    {
     "data": {
      "text/plain": "265.0"
     },
     "execution_count": 112,
     "metadata": {},
     "output_type": "execute_result"
    }
   ],
   "source": [
    "import bw2calc\n",
    "lca = bw2calc.LCA(demand={final_product: 1}, method=('IPCC',))\n",
    "lca.lci()\n",
    "lca.lcia()\n",
    "lca.score\n"
   ],
   "metadata": {
    "collapsed": false,
    "ExecuteTime": {
     "end_time": "2023-12-06T21:47:08.050028902Z",
     "start_time": "2023-12-06T21:47:08.021415167Z"
    }
   },
   "id": "f8e9d138e2a87834"
  },
  {
   "cell_type": "markdown",
   "source": [
    "note that we actually dont need to pass a method, in order to do the lci, because we are not doing any lcia, when doing non-linear calculations"
   ],
   "metadata": {
    "collapsed": false
   },
   "id": "33dec1d454c793a8"
  },
  {
   "cell_type": "code",
   "execution_count": 113,
   "outputs": [
    {
     "data": {
      "text/plain": "array([  1.,   1., 100.,   2.])"
     },
     "execution_count": 113,
     "metadata": {},
     "output_type": "execute_result"
    }
   ],
   "source": [
    "lca.supply_array"
   ],
   "metadata": {
    "collapsed": false,
    "ExecuteTime": {
     "end_time": "2023-12-06T21:47:09.007216988Z",
     "start_time": "2023-12-06T21:47:08.994957901Z"
    }
   },
   "id": "20a596f9a141c0e4"
  },
  {
   "cell_type": "code",
   "execution_count": 114,
   "outputs": [
    {
     "data": {
      "text/plain": "array([[  0.,  25.,   0.,   0.],\n       [  0.,  10., 100.,  10.]])"
     },
     "execution_count": 114,
     "metadata": {},
     "output_type": "execute_result"
    }
   ],
   "source": [
    "# this is the most important matrix\n",
    "lca.inventory.toarray()"
   ],
   "metadata": {
    "collapsed": false,
    "ExecuteTime": {
     "end_time": "2023-12-06T21:47:09.358544949Z",
     "start_time": "2023-12-06T21:47:09.339002461Z"
    }
   },
   "id": "23353eac072abc73"
  },
  {
   "cell_type": "code",
   "execution_count": 115,
   "outputs": [],
   "source": [
    "# lca.biosphere_matrix.toarray()"
   ],
   "metadata": {
    "collapsed": false,
    "ExecuteTime": {
     "end_time": "2023-12-06T21:47:09.799836319Z",
     "start_time": "2023-12-06T21:47:09.786818628Z"
    }
   },
   "id": "d941de5dc89d11d5"
  },
  {
   "cell_type": "code",
   "execution_count": 116,
   "outputs": [
    {
     "data": {
      "text/plain": "array([[1., 0.],\n       [0., 2.]])"
     },
     "execution_count": 116,
     "metadata": {},
     "output_type": "execute_result"
    }
   ],
   "source": [
    "# not sure exactly why it has this shape\n",
    "lca.characterization_matrix.toarray()"
   ],
   "metadata": {
    "collapsed": false,
    "ExecuteTime": {
     "end_time": "2023-12-06T21:47:10.463964553Z",
     "start_time": "2023-12-06T21:47:10.454088879Z"
    }
   },
   "id": "aadd41fc7d95cde3"
  },
  {
   "cell_type": "code",
   "execution_count": 117,
   "outputs": [
    {
     "data": {
      "text/plain": "(array([[  0.,  25.,   0.,   0.],\n        [  0.,  20., 200.,  20.]]),\n 'SCORE: 265.0')"
     },
     "execution_count": 117,
     "metadata": {},
     "output_type": "execute_result"
    }
   ],
   "source": [
    "# this is how lcia is done normally\n",
    "char_inv = lca.characterization_matrix * lca.inventory.toarray()\n",
    "char_inv, f\"SCORE: {char_inv.sum()}\""
   ],
   "metadata": {
    "collapsed": false,
    "ExecuteTime": {
     "end_time": "2023-12-06T21:47:11.090783225Z",
     "start_time": "2023-12-06T21:47:11.064160906Z"
    }
   },
   "id": "c1dd19fab9eda5b3"
  },
  {
   "cell_type": "code",
   "execution_count": 118,
   "outputs": [
    {
     "data": {
      "text/plain": "matrix([[ 25.],\n        [120.]])"
     },
     "execution_count": 118,
     "metadata": {},
     "output_type": "execute_result"
    }
   ],
   "source": [
    "# we can also sum up only one axis (which is, summing each individual bioflow)\n",
    "# this is the starting point for the nonlinear calculations\n",
    "# Term candidates: Total Biosphere Demand Vector, Aggregated Environmental Impact Vector, Environmental Load Vector\n",
    "summed_inventory = lca.inventory.sum(1)\n",
    "summed_inventory"
   ],
   "metadata": {
    "collapsed": false,
    "ExecuteTime": {
     "end_time": "2023-12-06T21:47:11.509722192Z",
     "start_time": "2023-12-06T21:47:11.506668112Z"
    }
   },
   "id": "2991a07879501d17"
  },
  {
   "cell_type": "code",
   "execution_count": 119,
   "outputs": [
    {
     "data": {
      "text/plain": "265.0"
     },
     "execution_count": 119,
     "metadata": {},
     "output_type": "execute_result"
    }
   ],
   "source": [
    "# this allows still the same matrix multiplication, because the number of rows is the same\n",
    "(lca.characterization_matrix * summed_inventory).sum()"
   ],
   "metadata": {
    "collapsed": false,
    "ExecuteTime": {
     "end_time": "2023-12-06T21:47:12.911048226Z",
     "start_time": "2023-12-06T21:47:12.900926466Z"
    }
   },
   "id": "5b2ce521971593c2"
  },
  {
   "cell_type": "code",
   "execution_count": 120,
   "outputs": [
    {
     "data": {
      "text/plain": "array([1., 2.])"
     },
     "execution_count": 120,
     "metadata": {},
     "output_type": "execute_result"
    }
   ],
   "source": [
    "# lets make a test of arbitrary functions, but use the linear values initially\n",
    "import numpy as np\n",
    "cm = lca.characterization_matrix.sum(0)\n",
    "lin_values = np.squeeze(np.asarray(cm))\n",
    "# the characterisation array\n",
    "lin_values "
   ],
   "metadata": {
    "collapsed": false,
    "ExecuteTime": {
     "end_time": "2023-12-06T21:47:13.612846771Z",
     "start_time": "2023-12-06T21:47:13.602732490Z"
    }
   },
   "id": "534cf4f4bc0dff7a"
  },
  {
   "cell_type": "code",
   "execution_count": 123,
   "outputs": [
    {
     "name": "stdout",
     "output_type": "stream",
     "text": [
      "[<function <lambda> at 0x7f825d34be20>, <function <lambda> at 0x7f825d349990>]\n",
      "1.0\n",
      "2.0\n"
     ]
    }
   ],
   "source": [
    "# this looks strange, but we need v=value, because of python closures \n",
    "funcs = []\n",
    "for value in lin_values:\n",
    "  f = lambda x, v=value: x * v\n",
    "  funcs.append(f)\n",
    "# what we get now is a list of functions, each of them is linear with the same coefficient as in the characterisation matrix\n",
    "print(funcs)\n",
    "print(funcs[0](1))\n",
    "print(funcs[1](1))"
   ],
   "metadata": {
    "collapsed": false,
    "ExecuteTime": {
     "end_time": "2023-12-06T21:49:53.881810719Z",
     "start_time": "2023-12-06T21:49:53.867779316Z"
    }
   },
   "id": "1a92e5dab6ac6fb4"
  },
  {
   "cell_type": "code",
   "execution_count": 124,
   "outputs": [
    {
     "name": "stdout",
     "output_type": "stream",
     "text": [
      "[[25.]] [[25.]]\n",
      "[[120.]] [[240.]]\n",
      "265.0\n"
     ]
    }
   ],
   "source": [
    "# lets test it...\n",
    "result = 0.0\n",
    "for summed_row, function in zip(summed_inventory, funcs):\n",
    "    print(summed_row, function(summed_row))\n",
    "    result += function(summed_row)\n",
    "print(result.sum()) # voilà"
   ],
   "metadata": {
    "collapsed": false,
    "ExecuteTime": {
     "end_time": "2023-12-06T21:50:12.254070367Z",
     "start_time": "2023-12-06T21:50:12.187861904Z"
    }
   },
   "id": "de830585a4584ddb"
  },
  {
   "cell_type": "code",
   "execution_count": 61,
   "outputs": [
    {
     "name": "stdout",
     "output_type": "stream",
     "text": [
      "[627.  37.]\n",
      "664.0\n",
      "664.0\n"
     ]
    }
   ],
   "source": [
    "import numpy as np\n",
    "import bw2calc\n",
    "\n",
    "# create a LCA object\n",
    "lca = bw2calc.LCA(demand={final_product: 1})\n",
    "\n",
    "# calculate the lci\n",
    "lca.lci()\n",
    "\n",
    "# get the summed inventory, which are basically all biosphere activities outputs\n",
    "summed_inventory = lca.inventory.sum(1)\n",
    "\n",
    "# example: 2 arbitrary, independent functions:\n",
    "funcs = [\n",
    "    lambda x: x*x+2,\n",
    "    lambda x: (x/3)-3\n",
    "]\n",
    "\n",
    "# result value for each biosphere activity\n",
    "result = np.array([])\n",
    "for summed_row, function in zip(summed_inventory, funcs):\n",
    "    result = np.append(result, function(summed_row))\n",
    "    \n",
    "# non-linear impact of each biosphere activity\n",
    "print(result)\n",
    "# result\n",
    "print(result.sum())\n",
    "\n",
    "# same, but directly to a single value\n",
    "result = 0.0\n",
    "for summed_row, function in zip(summed_inventory, funcs):\n",
    "    result += function(summed_row)\n",
    "print(result.sum())"
   ],
   "metadata": {
    "collapsed": false,
    "ExecuteTime": {
     "end_time": "2023-12-06T21:13:03.580706175Z",
     "start_time": "2023-12-06T21:13:03.569682584Z"
    }
   },
   "id": "58b9c6d6a55ab93c"
  },
  {
   "cell_type": "code",
   "execution_count": 62,
   "outputs": [
    {
     "data": {
      "text/plain": "664.0"
     },
     "execution_count": 62,
     "metadata": {},
     "output_type": "execute_result"
    }
   ],
   "source": [
    "# since the example is very simple, we can also do it like this, to show the correctness\n",
    "(funcs[0](summed_inventory[0]) + funcs[1](summed_inventory[1])).sum()"
   ],
   "metadata": {
    "collapsed": false,
    "ExecuteTime": {
     "end_time": "2023-12-06T21:13:04.672062042Z",
     "start_time": "2023-12-06T21:13:04.660901791Z"
    }
   },
   "id": "4f7e42087955d3a8"
  },
  {
   "cell_type": "code",
   "execution_count": 102,
   "outputs": [
    {
     "name": "stdout",
     "output_type": "stream",
     "text": [
      "5 co2 Carbon Dioxide\n",
      "6 bio_chem Biochemicals\n"
     ]
    }
   ],
   "source": [
    "# appendix: how to get the biosphere activities in order in the matrix, so we can to specify the functions in the same order\n",
    "from bw2data.backends import Activity, ActivityDataset\n",
    "\n",
    "ids = []\n",
    "for index, activity_id in sorted(lca.dicts.biosphere.reversed.items()):\n",
    "    # print(index, activity_id)\n",
    "    # act = ActivityDataset.get_or_none(ActivityDataset.id == activity_id)\n",
    "    # print(act.code, act.name)\n",
    "    ids.append(activity_id)\n",
    "    \n",
    "activities = ActivityDataset.select().where(ActivityDataset.id.in_(ids))\n",
    "sorted_activities = sorted(activities, key=lambda activity: ids.index(activity.id))\n",
    "# sorted_activities\n",
    "for activity in sorted_activities:\n",
    "    print(activity.id, activity.code, activity.name)"
   ],
   "metadata": {
    "collapsed": false,
    "ExecuteTime": {
     "end_time": "2023-12-06T21:39:19.217414528Z",
     "start_time": "2023-12-06T21:39:19.202889200Z"
    }
   },
   "id": "7fd7bc68aedc6d9e"
  }
 ],
 "metadata": {
  "kernelspec": {
   "display_name": "Python 3",
   "language": "python",
   "name": "python3"
  },
  "language_info": {
   "codemirror_mode": {
    "name": "ipython",
    "version": 2
   },
   "file_extension": ".py",
   "mimetype": "text/x-python",
   "name": "python",
   "nbconvert_exporter": "python",
   "pygments_lexer": "ipython2",
   "version": "2.7.6"
  }
 },
 "nbformat": 4,
 "nbformat_minor": 5
}
