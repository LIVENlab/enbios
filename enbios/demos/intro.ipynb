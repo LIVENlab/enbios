{
 "cells": [
  {
   "cell_type": "code",
   "execution_count": 1,
   "outputs": [],
   "source": [
    "from copy import deepcopy\n",
    "\n",
    "import bw2data\n",
    "import pandas as pd\n",
    "\n",
    "from enbios.base.experiment import Experiment\n",
    "from enbios.bw2.util import report\n",
    "from enbios.models.experiment_base_models import ExperimentData"
   ],
   "metadata": {
    "collapsed": false,
    "ExecuteTime": {
     "end_time": "2024-01-09T11:48:13.855894042Z",
     "start_time": "2024-01-09T11:48:12.438224131Z"
    }
   }
  },
  {
   "cell_type": "code",
   "execution_count": 2,
   "metadata": {
    "ExecuteTime": {
     "end_time": "2024-01-09T11:43:49.102487665Z",
     "start_time": "2024-01-09T11:43:49.069890878Z"
    }
   },
   "outputs": [
    {
     "name": "stdout",
     "output_type": "stream",
     "text": [
      "Project: default\n",
      "['db']\n",
      "Project: ecoinvent_391\n",
      "['biosphere3', 'ecoinvent_391_cutoff']\n",
      "Project: supply chain graph\n",
      "['bike']\n",
      "Project: nonlinear-method-test\n",
      "['db']\n"
     ]
    }
   ],
   "source": [
    "# get an overview of brightway projects and databases\n",
    "report()"
   ]
  },
  {
   "cell_type": "code",
   "execution_count": 3,
   "metadata": {
    "ExecuteTime": {
     "end_time": "2024-01-09T11:43:49.119897476Z",
     "start_time": "2024-01-09T11:43:49.104296028Z"
    }
   },
   "outputs": [],
   "source": [
    "# select the brightway project and database (e.g. some ecoinvent database)\n",
    "PROJECT_NAME = \"ecoinvent_391\"\n",
    "DATABASE = \"ecoinvent_391_cutoff\"\n",
    "\n",
    "bw2data.projects.set_current(PROJECT_NAME)\n",
    "db = bw2data.Database(DATABASE)"
   ]
  },
  {
   "cell_type": "markdown",
   "metadata": {},
   "source": [
    "# Simple example experiment\n",
    "In this first simple example we calculate the impact of 4 wind turbine activities in spain, using 2 different methods."
   ]
  },
  {
   "cell_type": "code",
   "execution_count": 5,
   "metadata": {
    "ExecuteTime": {
     "end_time": "2024-01-09T11:43:49.308305677Z",
     "start_time": "2024-01-09T11:43:49.122450321Z"
    }
   },
   "outputs": [
    {
     "name": "stdout",
     "output_type": "stream",
     "text": [
      "Excluding 319 filtered results\n"
     ]
    },
    {
     "data": {
      "text/plain": "['electricity production, wind, >3MW turbine, onshore' (kilowatt hour, ES, None),\n 'electricity production, wind, 1-3MW turbine, onshore' (kilowatt hour, ES, None)]"
     },
     "execution_count": 5,
     "metadata": {},
     "output_type": "execute_result"
    }
   ],
   "source": [
    "wind_turbines_spain = db.search(\n",
    "    \"electricity production, wind, 1-3MW turbine, onshore\", filter={\"location\": \"ES\"}\n",
    ")[:2]\n",
    "wind_turbines_spain"
   ]
  },
  {
   "cell_type": "code",
   "execution_count": 6,
   "metadata": {
    "ExecuteTime": {
     "end_time": "2024-01-09T11:43:49.354931175Z",
     "start_time": "2024-01-09T11:43:49.310311953Z"
    }
   },
   "outputs": [],
   "source": [
    "# for the experiment we need to specify some (even if very simple) hierarchy made out of activity nodes at the bottom. \n",
    "# Activity notes\n",
    "# we are using the brightway adapter, that is integrated into enbios.\n",
    "\n",
    "experiment_activities = []\n",
    "\n",
    "for activity in wind_turbines_spain:\n",
    "    experiment_activities.append(\n",
    "        {\"name\": activity[\"name\"], \"adapter\": \"bw\", \"config\": {\n",
    "            \"code\": activity[\"code\"]\n",
    "        }}\n",
    "    )"
   ]
  },
  {
   "cell_type": "code",
   "execution_count": 7,
   "metadata": {
    "ExecuteTime": {
     "end_time": "2024-01-09T11:43:49.356406077Z",
     "start_time": "2024-01-09T11:43:49.354322782Z"
    }
   },
   "outputs": [
    {
     "data": {
      "text/plain": "[{'name': 'electricity production, wind, >3MW turbine, onshore',\n  'adapter': 'bw',\n  'config': {'code': '0d48975a3766c13e68cedeb6c24f6f74',\n   'default_output': {'unit': 'kilowatt_hour', 'magnitude': 3}}},\n {'name': 'electricity production, wind, 1-3MW turbine, onshore',\n  'adapter': 'bw',\n  'config': {'code': 'ed3da88fc23311ee183e9ffd376de89b'}}]"
     },
     "execution_count": 7,
     "metadata": {},
     "output_type": "execute_result"
    }
   ],
   "source": [
    "# we can modify the output of the activities, by default it is the reference product (1 of the activity unit)\n",
    "experiment_activities[0][\"config\"][\"default_output\"] = {\"unit\": \"kilowatt_hour\", \"magnitude\": 3}\n",
    "experiment_activities"
   ]
  },
  {
   "cell_type": "code",
   "execution_count": 8,
   "outputs": [],
   "source": [
    "hierarchy = {\n",
    "    \"name\": \"root\",\n",
    "    \"aggregator\": \"sum\",\n",
    "    \"children\": experiment_activities\n",
    "}"
   ],
   "metadata": {
    "collapsed": false,
    "ExecuteTime": {
     "end_time": "2024-01-09T11:43:50.030339465Z",
     "start_time": "2024-01-09T11:43:50.024857141Z"
    }
   }
  },
  {
   "cell_type": "code",
   "execution_count": 9,
   "metadata": {
    "ExecuteTime": {
     "end_time": "2024-01-09T11:43:50.759775236Z",
     "start_time": "2024-01-09T11:43:50.754547666Z"
    }
   },
   "outputs": [
    {
     "data": {
      "text/plain": "{'EF v3.1 no LT_human toxicity: carcinogenic no LT_comparative toxic unit for human (CTUh) no LT': ('EF v3.1 no LT',\n  'human toxicity: carcinogenic no LT',\n  'comparative toxic unit for human (CTUh) no LT'),\n 'EF v3.1 no LT_photochemical oxidant formation: human health no LT_tropospheric ozone concentration increase no LT': ('EF v3.1 no LT',\n  'photochemical oxidant formation: human health no LT',\n  'tropospheric ozone concentration increase no LT')}"
     },
     "execution_count": 9,
     "metadata": {},
     "output_type": "execute_result"
    }
   ],
   "source": [
    "# select 2 random methods and convert them into the form for enbios2\n",
    "experiment_methods = [bw2data.methods.random() for _ in range(2)]\n",
    "\n",
    "experiment_methods = {\"_\".join(m): m for m in experiment_methods}\n",
    "experiment_methods"
   ]
  },
  {
   "cell_type": "code",
   "execution_count": 10,
   "outputs": [],
   "source": [
    "# alternatively, we could just specify two methods\n",
    "experiment_methods = {\n",
    "    \"GWP1000\": (\n",
    "        \"ReCiPe 2016 v1.03, midpoint (H)\",\n",
    "        \"climate change\",\n",
    "        \"global warming potential (GWP1000)\",\n",
    "    ),\n",
    "    \"FETP\": (\n",
    "        \"ReCiPe 2016 v1.03, midpoint (H)\",\n",
    "        \"ecotoxicity: freshwater\",\n",
    "        \"freshwater ecotoxicity potential (FETP)\",\n",
    "    )\n",
    "}"
   ],
   "metadata": {
    "collapsed": false,
    "ExecuteTime": {
     "end_time": "2024-01-09T11:43:51.582572544Z",
     "start_time": "2024-01-09T11:43:51.570318735Z"
    }
   }
  },
  {
   "cell_type": "code",
   "execution_count": 11,
   "metadata": {
    "ExecuteTime": {
     "end_time": "2024-01-09T11:43:52.213156765Z",
     "start_time": "2024-01-09T11:43:52.208566046Z"
    }
   },
   "outputs": [
    {
     "data": {
      "text/plain": "{'adapters': [{'adapter_name': 'brightway-adapter',\n   'config': {'bw_project': 'ecoinvent_391'},\n   'methods': {'GWP1000': ('ReCiPe 2016 v1.03, midpoint (H)',\n     'climate change',\n     'global warming potential (GWP1000)'),\n    'FETP': ('ReCiPe 2016 v1.03, midpoint (H)',\n     'ecotoxicity: freshwater',\n     'freshwater ecotoxicity potential (FETP)')}}],\n 'hierarchy': {'name': 'root',\n  'aggregator': 'sum',\n  'children': [{'name': 'electricity production, wind, >3MW turbine, onshore',\n    'config': {'code': '0d48975a3766c13e68cedeb6c24f6f74',\n     'default_output': {'unit': 'kilowatt_hour', 'magnitude': 3}},\n    'adapter': 'bw'},\n   {'name': 'electricity production, wind, 1-3MW turbine, onshore',\n    'config': {'code': 'ed3da88fc23311ee183e9ffd376de89b'},\n    'adapter': 'bw'}]}}"
     },
     "execution_count": 11,
     "metadata": {},
     "output_type": "execute_result"
    }
   ],
   "source": [
    "# let's store the raw data, because we want to modify it later\n",
    "simple_raw_data = {\n",
    "    \"adapters\": [\n",
    "        {\n",
    "            \"adapter_name\": \"brightway-adapter\",\n",
    "            \"config\": {\n",
    "                \"bw_project\": PROJECT_NAME\n",
    "            },\n",
    "            \"methods\": experiment_methods\n",
    "        }],\n",
    "    \"hierarchy\": hierarchy\n",
    "}\n",
    "\n",
    "# make a first validation of the experiment data\n",
    "exp_data = ExperimentData(**simple_raw_data)\n",
    "exp_data.model_dump(exclude_unset=True)"
   ]
  },
  {
   "cell_type": "code",
   "execution_count": 12,
   "metadata": {
    "ExecuteTime": {
     "end_time": "2024-01-09T11:43:53.232755245Z",
     "start_time": "2024-01-09T11:43:53.161714546Z"
    }
   },
   "outputs": [],
   "source": [
    "# create experiment object. This will validate the activities, their outputs, the methods and the scenarios.\n",
    "simple_experiment: Experiment = Experiment(simple_raw_data)"
   ]
  },
  {
   "cell_type": "code",
   "execution_count": 13,
   "metadata": {
    "ExecuteTime": {
     "end_time": "2024-01-09T11:43:54.910143421Z",
     "start_time": "2024-01-09T11:43:54.891737039Z"
    }
   },
   "outputs": [
    {
     "name": "stdout",
     "output_type": "stream",
     "text": [
      "Experiment: \n",
      "Activities: 2\n",
      "root - sum-aggregator\n",
      " electricity production, wind, >3MW turbine, onshore - brightway-adapter\n",
      " electricity production, wind, 1-3MW turbine, onshore - brightway-adapter\n",
      "Methods: 2\n",
      " bw.GWP1000\n",
      " bw.FETP\n",
      "Hierarchy (depth): 2\n",
      "Scenarios: 1\n"
     ]
    }
   ],
   "source": [
    "print(simple_experiment.info())"
   ]
  },
  {
   "cell_type": "markdown",
   "metadata": {},
   "source": [
    "## Running the experiment"
   ]
  },
  {
   "cell_type": "code",
   "execution_count": 14,
   "metadata": {
    "ExecuteTime": {
     "end_time": "2024-01-09T10:59:10.038205630Z",
     "start_time": "2024-01-09T10:58:52.062868972Z"
    }
   },
   "outputs": [
    {
     "name": "stdout",
     "output_type": "stream",
     "text": [
      "2024-01-09 11:58:52,060 - enbios.demos.enbios.base - INFO - Running scenario 'default scenario'\n"
     ]
    }
   ],
   "source": [
    "# run all scenarios at once, Results will be returned as dictionary\n",
    "# <scenario_name : str> : <scenario_result : dict>\n",
    "# <scenario_result> : dict represents the root node of the results tree, with the following keys:\n",
    "# name, output, results, children\n",
    "# where results, is a dictionary of impacts to dict: unit, amount | multi_amount\n",
    "# The first and only positional parameter 'results_as_dict' can be set to False, to get the tree unserialized as :  BasicTreeNode[ScenarioResultNodeData]\n",
    "results = simple_experiment.run()"
   ]
  },
  {
   "cell_type": "markdown",
   "metadata": {},
   "source": [
    "# Result\n",
    "The result is a dictionary of scenario names, where for each scenario we have a tree (representing the activity hierarchy). Each node (`BasicTreeNode`) in the tree has a `data` object, which is of the type `ScenarioResultNodeData`, which have the fields `output`, `result`."
   ]
  },
  {
   "cell_type": "code",
   "execution_count": 15,
   "metadata": {
    "ExecuteTime": {
     "end_time": "2024-01-08T14:53:02.556936073Z",
     "start_time": "2024-01-08T14:53:02.540556482Z"
    }
   },
   "outputs": [
    {
     "data": {
      "text/plain": "{'default scenario': {'name': 'root',\n  'results': {'GWP1000': {'unit': 'kg CO2-Eq', 'amount': 0.09015601391278945},\n   'FETP': {'unit': 'kg 1,4-DCB-Eq', 'amount': 0.1572424802402813}},\n  'output': {'unit': 'kilowatt_hour', 'amount': 4.0},\n  'children': [{'name': 'electricity production, wind, >3MW turbine, onshore',\n    'results': {'GWP1000': {'unit': 'kg CO2-Eq', 'amount': 0.0749124025799977},\n     'FETP': {'unit': 'kg 1,4-DCB-Eq', 'amount': 0.15081687216577483}},\n    'output': {'unit': 'kilowatt_hour', 'amount': 3.0}},\n   {'name': 'electricity production, wind, 1-3MW turbine, onshore',\n    'results': {'GWP1000': {'unit': 'kg CO2-Eq',\n      'amount': 0.015243611332791748},\n     'FETP': {'unit': 'kg 1,4-DCB-Eq', 'amount': 0.0064256080745064845}},\n    'output': {'unit': 'kilowatt_hour', 'amount': 1.0}}]}}"
     },
     "execution_count": 15,
     "metadata": {},
     "output_type": "execute_result"
    }
   ],
   "source": [
    "results"
   ]
  },
  {
   "cell_type": "code",
   "execution_count": 16,
   "outputs": [
    {
     "data": {
      "text/plain": "ScenarioResultNodeData(output=EnbiosQuantity(unit='kilowatt_hour', amount=3.0), results={'GWP1000': ResultValue(unit='kg CO2-Eq', amount=0.0749124025799977, multi_amount=[]), 'FETP': ResultValue(unit='kg 1,4-DCB-Eq', amount=0.15081687216577483, multi_amount=[])}, adapter='bw', aggregator=None)"
     },
     "execution_count": 16,
     "metadata": {},
     "output_type": "execute_result"
    }
   ],
   "source": [
    "simple_experiment.get_scenario(\"default scenario\").result_tree.children[0].data"
   ],
   "metadata": {
    "collapsed": false,
    "ExecuteTime": {
     "end_time": "2024-01-08T14:53:02.574118640Z",
     "start_time": "2024-01-08T14:53:02.540763487Z"
    }
   }
  },
  {
   "cell_type": "code",
   "execution_count": 17,
   "metadata": {
    "ExecuteTime": {
     "end_time": "2024-01-08T14:53:02.576621757Z",
     "start_time": "2024-01-08T14:53:02.540913426Z"
    }
   },
   "outputs": [
    {
     "data": {
      "text/plain": "           scenario lvl_0                                              lvl_1  \\\n0  default scenario  root                                                      \n1                          electricity production, wind, >3MW turbine, on...   \n2                          electricity production, wind, 1-3MW turbine, o...   \n\n  GWP1000_unit  GWP1000_amount      FETP_unit  FETP_amount    output_unit  \\\n0    kg CO2-Eq        0.090156  kg 1,4-DCB-Eq     0.157242  kilowatt_hour   \n1    kg CO2-Eq        0.074912  kg 1,4-DCB-Eq     0.150817  kilowatt_hour   \n2    kg CO2-Eq        0.015244  kg 1,4-DCB-Eq     0.006426  kilowatt_hour   \n\n   output_amount  \n0            4.0  \n1            3.0  \n2            1.0  ",
      "text/html": "<div>\n<style scoped>\n    .dataframe tbody tr th:only-of-type {\n        vertical-align: middle;\n    }\n\n    .dataframe tbody tr th {\n        vertical-align: top;\n    }\n\n    .dataframe thead th {\n        text-align: right;\n    }\n</style>\n<table border=\"1\" class=\"dataframe\">\n  <thead>\n    <tr style=\"text-align: right;\">\n      <th></th>\n      <th>scenario</th>\n      <th>lvl_0</th>\n      <th>lvl_1</th>\n      <th>GWP1000_unit</th>\n      <th>GWP1000_amount</th>\n      <th>FETP_unit</th>\n      <th>FETP_amount</th>\n      <th>output_unit</th>\n      <th>output_amount</th>\n    </tr>\n  </thead>\n  <tbody>\n    <tr>\n      <th>0</th>\n      <td>default scenario</td>\n      <td>root</td>\n      <td></td>\n      <td>kg CO2-Eq</td>\n      <td>0.090156</td>\n      <td>kg 1,4-DCB-Eq</td>\n      <td>0.157242</td>\n      <td>kilowatt_hour</td>\n      <td>4.0</td>\n    </tr>\n    <tr>\n      <th>1</th>\n      <td></td>\n      <td></td>\n      <td>electricity production, wind, &gt;3MW turbine, on...</td>\n      <td>kg CO2-Eq</td>\n      <td>0.074912</td>\n      <td>kg 1,4-DCB-Eq</td>\n      <td>0.150817</td>\n      <td>kilowatt_hour</td>\n      <td>3.0</td>\n    </tr>\n    <tr>\n      <th>2</th>\n      <td></td>\n      <td></td>\n      <td>electricity production, wind, 1-3MW turbine, o...</td>\n      <td>kg CO2-Eq</td>\n      <td>0.015244</td>\n      <td>kg 1,4-DCB-Eq</td>\n      <td>0.006426</td>\n      <td>kilowatt_hour</td>\n      <td>1.0</td>\n    </tr>\n  </tbody>\n</table>\n</div>"
     },
     "execution_count": 17,
     "metadata": {},
     "output_type": "execute_result"
    }
   ],
   "source": [
    "# we can dump the results into a csv file\n",
    "simple_experiment.results_to_csv(\"test.csv\")\n",
    "pd.read_csv(\"test.csv\").fillna(\"\")"
   ]
  },
  {
   "cell_type": "code",
   "execution_count": 18,
   "metadata": {
    "ExecuteTime": {
     "end_time": "2024-01-08T14:53:02.632698109Z",
     "start_time": "2024-01-08T14:53:02.560632351Z"
    }
   },
   "outputs": [
    {
     "data": {
      "text/plain": "{'name': 'root',\n 'results': {'GWP1000': {'unit': 'kg CO2-Eq', 'amount': 0.09015601391278945},\n  'FETP': {'unit': 'kg 1,4-DCB-Eq', 'amount': 0.1572424802402813}},\n 'output': {'unit': 'kilowatt_hour', 'amount': 4.0},\n 'children': [{'name': 'electricity production, wind, >3MW turbine, onshore',\n   'results': {'GWP1000': {'unit': 'kg CO2-Eq', 'amount': 0.0749124025799977},\n    'FETP': {'unit': 'kg 1,4-DCB-Eq', 'amount': 0.15081687216577483}},\n   'output': {'unit': 'kilowatt_hour', 'amount': 3.0}},\n  {'name': 'electricity production, wind, 1-3MW turbine, onshore',\n   'results': {'GWP1000': {'unit': 'kg CO2-Eq',\n     'amount': 0.015243611332791748},\n    'FETP': {'unit': 'kg 1,4-DCB-Eq', 'amount': 0.0064256080745064845}},\n   'output': {'unit': 'kilowatt_hour', 'amount': 1.0}}]}"
     },
     "execution_count": 18,
     "metadata": {},
     "output_type": "execute_result"
    }
   ],
   "source": [
    "simple_experiment.scenarios[0].result_to_dict()"
   ]
  },
  {
   "cell_type": "markdown",
   "metadata": {},
   "source": [
    "## Add a technology hierarchy (dendrogram) \n",
    "Let's now add a few more activities to the experiment and create a hierarchy of activities."
   ]
  },
  {
   "cell_type": "code",
   "execution_count": 14,
   "metadata": {
    "ExecuteTime": {
     "end_time": "2024-01-09T11:44:04.187555162Z",
     "start_time": "2024-01-09T11:44:04.118072022Z"
    }
   },
   "outputs": [
    {
     "name": "stdout",
     "output_type": "stream",
     "text": [
      "Excluding 465 filtered results\n"
     ]
    },
    {
     "data": {
      "text/plain": "['electricity production, solar tower power plant, 20 MW' (kilowatt hour, ES, None),\n 'electricity production, solar thermal parabolic trough, 50 MW' (kilowatt hour, ES, None)]"
     },
     "execution_count": 14,
     "metadata": {},
     "output_type": "execute_result"
    }
   ],
   "source": [
    "solar_spain = db.search(\"solar\", filter={\"location\": \"ES\"})[:2]\n",
    "solar_spain"
   ]
  },
  {
   "cell_type": "code",
   "execution_count": 15,
   "outputs": [],
   "source": [
    "experiment_activities_solar = []\n",
    "for activity in solar_spain:\n",
    "    experiment_activities_solar.append(\n",
    "        {\"name\": activity[\"name\"], \"adapter\": \"bw\", \"config\": {\n",
    "            \"code\": activity[\"code\"]\n",
    "        }}\n",
    "    )\n",
    "    \n",
    "hierarchy_raw_data = deepcopy(simple_raw_data)\n",
    "\n",
    "hierarchy_raw_data[\"hierarchy\"] = {\n",
    "    \"name\": \"root\",\n",
    "    \"aggregator\": \"sum\",\n",
    "    \"children\": [{\n",
    "        \"name\": \"wind\",\n",
    "        \"aggregator\": \"sum\",\n",
    "        \"children\": experiment_activities\n",
    "    },\n",
    "        {\n",
    "            \"name\": \"solar\",\n",
    "            \"aggregator\": \"sum\",\n",
    "            \"children\": experiment_activities_solar\n",
    "        }\n",
    "    ]\n",
    "}"
   ],
   "metadata": {
    "collapsed": false,
    "ExecuteTime": {
     "end_time": "2024-01-09T11:44:04.727946309Z",
     "start_time": "2024-01-09T11:44:04.723173213Z"
    }
   }
  },
  {
   "cell_type": "code",
   "execution_count": 16,
   "metadata": {
    "ExecuteTime": {
     "end_time": "2024-01-09T11:44:06.183000373Z",
     "start_time": "2024-01-09T11:44:06.083422664Z"
    }
   },
   "outputs": [],
   "source": [
    "hierarchy_experiment: Experiment = Experiment(hierarchy_raw_data)"
   ]
  },
  {
   "cell_type": "markdown",
   "source": [
    "# Run the 2nd experiment"
   ],
   "metadata": {
    "collapsed": false
   }
  },
  {
   "cell_type": "code",
   "execution_count": 17,
   "metadata": {
    "ExecuteTime": {
     "end_time": "2024-01-08T14:58:25.465836483Z",
     "start_time": "2024-01-08T14:57:44.259397522Z"
    }
   },
   "outputs": [
    {
     "name": "stdout",
     "output_type": "stream",
     "text": [
      "2024-01-08 15:57:44,257 - enbios.demos.enbios.base - INFO - Running scenario 'default scenario'\n"
     ]
    },
    {
     "data": {
      "text/plain": "{'default scenario': {'name': 'root',\n  'results': {'GWP1000': {'unit': 'kg CO2-Eq', 'amount': 0.1925567846170288},\n   'FETP': {'unit': 'kg 1,4-DCB-Eq', 'amount': 0.1635778761202299}},\n  'output': {'unit': 'kilowatt_hour', 'amount': 6.0},\n  'children': [{'name': 'wind',\n    'results': {'GWP1000': {'unit': 'kg CO2-Eq',\n      'amount': 0.09015601391278945},\n     'FETP': {'unit': 'kg 1,4-DCB-Eq', 'amount': 0.1572424802402813}},\n    'output': {'unit': 'kilowatt_hour', 'amount': 4.0},\n    'children': [{'name': 'electricity production, wind, >3MW turbine, onshore',\n      'results': {'GWP1000': {'unit': 'kg CO2-Eq',\n        'amount': 0.0749124025799977},\n       'FETP': {'unit': 'kg 1,4-DCB-Eq', 'amount': 0.15081687216577483}},\n      'output': {'unit': 'kilowatt_hour', 'amount': 3.0}},\n     {'name': 'electricity production, wind, 1-3MW turbine, onshore',\n      'results': {'GWP1000': {'unit': 'kg CO2-Eq',\n        'amount': 0.015243611332791748},\n       'FETP': {'unit': 'kg 1,4-DCB-Eq', 'amount': 0.0064256080745064845}},\n      'output': {'unit': 'kilowatt_hour', 'amount': 1.0}}]},\n   {'name': 'solar',\n    'results': {'GWP1000': {'unit': 'kg CO2-Eq',\n      'amount': 0.10240077070423936},\n     'FETP': {'unit': 'kg 1,4-DCB-Eq', 'amount': 0.006335395879948579}},\n    'output': {'unit': 'kilowatt_hour', 'amount': 2.0},\n    'children': [{'name': 'electricity production, solar tower power plant, 20 MW',\n      'results': {'GWP1000': {'unit': 'kg CO2-Eq',\n        'amount': 0.048204581910669446},\n       'FETP': {'unit': 'kg 1,4-DCB-Eq', 'amount': 0.003242319969953703}},\n      'output': {'unit': 'kilowatt_hour', 'amount': 1.0}},\n     {'name': 'electricity production, solar thermal parabolic trough, 50 MW',\n      'results': {'GWP1000': {'unit': 'kg CO2-Eq',\n        'amount': 0.054196188793569924},\n       'FETP': {'unit': 'kg 1,4-DCB-Eq', 'amount': 0.003093075909994876}},\n      'output': {'unit': 'kilowatt_hour', 'amount': 1.0}}]}]}}"
     },
     "execution_count": 17,
     "metadata": {},
     "output_type": "execute_result"
    }
   ],
   "source": [
    "hierarchy_experiment.run()"
   ]
  },
  {
   "cell_type": "code",
   "execution_count": 18,
   "metadata": {
    "ExecuteTime": {
     "end_time": "2024-01-08T14:58:25.467481761Z",
     "start_time": "2024-01-08T14:58:25.448544232Z"
    }
   },
   "outputs": [
    {
     "data": {
      "text/plain": "   root technology                                           activity  \\\n0  root                                                                 \n1             wind                                                      \n2                   electricity production, wind, >3MW turbine, on...   \n3                   electricity production, wind, 1-3MW turbine, o...   \n4            solar                                                      \n5                   electricity production, solar tower power plan...   \n6                   electricity production, solar thermal paraboli...   \n\n   GWP1000_amount (kg CO2-Eq)  FETP_amount (kg 1,4-DCB-Eq)    output_unit  \\\n0                    0.192557                     0.163578  kilowatt_hour   \n1                    0.090156                     0.157242  kilowatt_hour   \n2                    0.074912                     0.150817  kilowatt_hour   \n3                    0.015244                     0.006426  kilowatt_hour   \n4                    0.102401                     0.006335  kilowatt_hour   \n5                    0.048205                     0.003242  kilowatt_hour   \n6                    0.054196                     0.003093  kilowatt_hour   \n\n   output_amount  \n0            6.0  \n1            4.0  \n2            3.0  \n3            1.0  \n4            2.0  \n5            1.0  \n6            1.0  ",
      "text/html": "<div>\n<style scoped>\n    .dataframe tbody tr th:only-of-type {\n        vertical-align: middle;\n    }\n\n    .dataframe tbody tr th {\n        vertical-align: top;\n    }\n\n    .dataframe thead th {\n        text-align: right;\n    }\n</style>\n<table border=\"1\" class=\"dataframe\">\n  <thead>\n    <tr style=\"text-align: right;\">\n      <th></th>\n      <th>root</th>\n      <th>technology</th>\n      <th>activity</th>\n      <th>GWP1000_amount (kg CO2-Eq)</th>\n      <th>FETP_amount (kg 1,4-DCB-Eq)</th>\n      <th>output_unit</th>\n      <th>output_amount</th>\n    </tr>\n  </thead>\n  <tbody>\n    <tr>\n      <th>0</th>\n      <td>root</td>\n      <td></td>\n      <td></td>\n      <td>0.192557</td>\n      <td>0.163578</td>\n      <td>kilowatt_hour</td>\n      <td>6.0</td>\n    </tr>\n    <tr>\n      <th>1</th>\n      <td></td>\n      <td>wind</td>\n      <td></td>\n      <td>0.090156</td>\n      <td>0.157242</td>\n      <td>kilowatt_hour</td>\n      <td>4.0</td>\n    </tr>\n    <tr>\n      <th>2</th>\n      <td></td>\n      <td></td>\n      <td>electricity production, wind, &gt;3MW turbine, on...</td>\n      <td>0.074912</td>\n      <td>0.150817</td>\n      <td>kilowatt_hour</td>\n      <td>3.0</td>\n    </tr>\n    <tr>\n      <th>3</th>\n      <td></td>\n      <td></td>\n      <td>electricity production, wind, 1-3MW turbine, o...</td>\n      <td>0.015244</td>\n      <td>0.006426</td>\n      <td>kilowatt_hour</td>\n      <td>1.0</td>\n    </tr>\n    <tr>\n      <th>4</th>\n      <td></td>\n      <td>solar</td>\n      <td></td>\n      <td>0.102401</td>\n      <td>0.006335</td>\n      <td>kilowatt_hour</td>\n      <td>2.0</td>\n    </tr>\n    <tr>\n      <th>5</th>\n      <td></td>\n      <td></td>\n      <td>electricity production, solar tower power plan...</td>\n      <td>0.048205</td>\n      <td>0.003242</td>\n      <td>kilowatt_hour</td>\n      <td>1.0</td>\n    </tr>\n    <tr>\n      <th>6</th>\n      <td></td>\n      <td></td>\n      <td>electricity production, solar thermal paraboli...</td>\n      <td>0.054196</td>\n      <td>0.003093</td>\n      <td>kilowatt_hour</td>\n      <td>1.0</td>\n    </tr>\n  </tbody>\n</table>\n</div>"
     },
     "execution_count": 18,
     "metadata": {},
     "output_type": "execute_result"
    }
   ],
   "source": [
    "# print(json.dumps((exp.scenarios[0].result_to_dict()), indent=2))\n",
    "hierarchy_experiment.scenarios[0].results_to_csv(\n",
    "    \"test.csv\", level_names=[\"root\", \"technology\", \"activity\"]\n",
    ")\n",
    "pd.read_csv(\"test.csv\").fillna(\"\")"
   ]
  },
  {
   "cell_type": "markdown",
   "source": [
    "## Create several scenarios"
   ],
   "metadata": {
    "collapsed": false
   }
  },
  {
   "cell_type": "code",
   "execution_count": 20,
   "outputs": [
    {
     "data": {
      "text/plain": "[{'name': 'normal scenario',\n  'activities': {'electricity production, wind, >3MW turbine, onshore': ('kilowatt_hour',\n    1),\n   'electricity production, wind, 1-3MW turbine, onshore': ('kilowatt_hour',\n    1),\n   'electricity production, solar tower power plant, 20 MW': ('kilowatt_hour',\n    1),\n   'electricity production, solar thermal parabolic trough, 50 MW': ('kilowatt_hour',\n    1)}},\n {'name': None,\n  'activities': {'electricity production, wind, >3MW turbine, onshore': ('kilowatt_hour',\n    5),\n   'electricity production, wind, 1-3MW turbine, onshore': ('kilowatt_hour',\n    9),\n   'electricity production, solar tower power plant, 20 MW': ('kilowatt_hour',\n    8),\n   'electricity production, solar thermal parabolic trough, 50 MW': ('kilowatt_hour',\n    3)}},\n {'name': None,\n  'activities': {'electricity production, wind, >3MW turbine, onshore': ('kilowatt_hour',\n    2),\n   'electricity production, wind, 1-3MW turbine, onshore': ('kilowatt_hour',\n    10),\n   'electricity production, solar tower power plant, 20 MW': ('kilowatt_hour',\n    5),\n   'electricity production, solar thermal parabolic trough, 50 MW': ('kilowatt_hour',\n    4)}}]"
     },
     "execution_count": 20,
     "metadata": {},
     "output_type": "execute_result"
    }
   ],
   "source": [
    "from typing import Optional\n",
    "from random import randint\n",
    "\n",
    "def create_normal_scenario():\n",
    "    return {\n",
    "        \"name\":\"normal scenario\",\n",
    "        \"activities\": {act: (\"kilowatt_hour\", 1) for act in hierarchy_experiment.activities_names}\n",
    "    }\n",
    "\n",
    "def create_random_scenario(scneario_name: Optional[str] = None):\n",
    "    return {\n",
    "        \"name\": scneario_name,\n",
    "        \"activities\": {act: (\"kilowatt_hour\", randint(1, 10)) for act in hierarchy_experiment.activities_names}\n",
    "    }\n",
    "\n",
    "scenarios_raw_data = deepcopy(hierarchy_raw_data)\n",
    "\n",
    "scenarios_raw_data[\"scenarios\"] = [create_normal_scenario(),create_random_scenario(), create_random_scenario()]\n",
    "\n",
    "scenarios_raw_data[\"scenarios\"]"
   ],
   "metadata": {
    "collapsed": false,
    "ExecuteTime": {
     "end_time": "2024-01-08T15:32:52.379251777Z",
     "start_time": "2024-01-08T15:32:52.358109938Z"
    }
   }
  },
  {
   "cell_type": "code",
   "execution_count": 21,
   "outputs": [],
   "source": [
    "scenarios_experiment = Experiment(scenarios_raw_data)"
   ],
   "metadata": {
    "collapsed": false,
    "ExecuteTime": {
     "end_time": "2024-01-08T15:32:56.202566515Z",
     "start_time": "2024-01-08T15:32:56.120803270Z"
    }
   }
  },
  {
   "cell_type": "markdown",
   "source": [
    " ## Run the experiment for the 3rd time\n",
    "This time will likely take some more time since we need to run 2 scenarios. "
   ],
   "metadata": {
    "collapsed": false
   }
  },
  {
   "cell_type": "code",
   "execution_count": 32,
   "outputs": [
    {
     "name": "stdout",
     "output_type": "stream",
     "text": [
      "2024-01-08 16:27:02,460 - enbios.demos.enbios.base - INFO - Running scenario 'normal scenario'\n"
     ]
    }
   ],
   "source": [
    "_ = scenarios_experiment.run()"
   ],
   "metadata": {
    "collapsed": false,
    "ExecuteTime": {
     "end_time": "2024-01-08T15:27:54.328041700Z",
     "start_time": "2024-01-08T15:27:02.463867148Z"
    }
   }
  },
  {
   "cell_type": "code",
   "execution_count": 33,
   "outputs": [
    {
     "data": {
      "text/plain": "   root technology                                           activity  \\\n0  root                                                                 \n1             wind                                                      \n2                   electricity production, wind, >3MW turbine, on...   \n3                   electricity production, wind, 1-3MW turbine, o...   \n4            solar                                                      \n5                   electricity production, solar tower power plan...   \n6                   electricity production, solar thermal paraboli...   \n\n   GWP1000_amount (kg CO2-Eq)  FETP_amount (kg 1,4-DCB-Eq)    output_unit  \\\n0                    0.142615                     0.063033  kilowatt_hour   \n1                    0.040214                     0.056698  kilowatt_hour   \n2                    0.024971                     0.050272  kilowatt_hour   \n3                    0.015244                     0.006426  kilowatt_hour   \n4                    0.102401                     0.006335  kilowatt_hour   \n5                    0.048205                     0.003242  kilowatt_hour   \n6                    0.054196                     0.003093  kilowatt_hour   \n\n   output_amount  \n0            4.0  \n1            2.0  \n2            1.0  \n3            1.0  \n4            2.0  \n5            1.0  \n6            1.0  ",
      "text/html": "<div>\n<style scoped>\n    .dataframe tbody tr th:only-of-type {\n        vertical-align: middle;\n    }\n\n    .dataframe tbody tr th {\n        vertical-align: top;\n    }\n\n    .dataframe thead th {\n        text-align: right;\n    }\n</style>\n<table border=\"1\" class=\"dataframe\">\n  <thead>\n    <tr style=\"text-align: right;\">\n      <th></th>\n      <th>root</th>\n      <th>technology</th>\n      <th>activity</th>\n      <th>GWP1000_amount (kg CO2-Eq)</th>\n      <th>FETP_amount (kg 1,4-DCB-Eq)</th>\n      <th>output_unit</th>\n      <th>output_amount</th>\n    </tr>\n  </thead>\n  <tbody>\n    <tr>\n      <th>0</th>\n      <td>root</td>\n      <td></td>\n      <td></td>\n      <td>0.142615</td>\n      <td>0.063033</td>\n      <td>kilowatt_hour</td>\n      <td>4.0</td>\n    </tr>\n    <tr>\n      <th>1</th>\n      <td></td>\n      <td>wind</td>\n      <td></td>\n      <td>0.040214</td>\n      <td>0.056698</td>\n      <td>kilowatt_hour</td>\n      <td>2.0</td>\n    </tr>\n    <tr>\n      <th>2</th>\n      <td></td>\n      <td></td>\n      <td>electricity production, wind, &gt;3MW turbine, on...</td>\n      <td>0.024971</td>\n      <td>0.050272</td>\n      <td>kilowatt_hour</td>\n      <td>1.0</td>\n    </tr>\n    <tr>\n      <th>3</th>\n      <td></td>\n      <td></td>\n      <td>electricity production, wind, 1-3MW turbine, o...</td>\n      <td>0.015244</td>\n      <td>0.006426</td>\n      <td>kilowatt_hour</td>\n      <td>1.0</td>\n    </tr>\n    <tr>\n      <th>4</th>\n      <td></td>\n      <td>solar</td>\n      <td></td>\n      <td>0.102401</td>\n      <td>0.006335</td>\n      <td>kilowatt_hour</td>\n      <td>2.0</td>\n    </tr>\n    <tr>\n      <th>5</th>\n      <td></td>\n      <td></td>\n      <td>electricity production, solar tower power plan...</td>\n      <td>0.048205</td>\n      <td>0.003242</td>\n      <td>kilowatt_hour</td>\n      <td>1.0</td>\n    </tr>\n    <tr>\n      <th>6</th>\n      <td></td>\n      <td></td>\n      <td>electricity production, solar thermal paraboli...</td>\n      <td>0.054196</td>\n      <td>0.003093</td>\n      <td>kilowatt_hour</td>\n      <td>1.0</td>\n    </tr>\n  </tbody>\n</table>\n</div>"
     },
     "execution_count": 33,
     "metadata": {},
     "output_type": "execute_result"
    }
   ],
   "source": [
    "scenarios_experiment.scenarios[0].results_to_csv(\n",
    "    \"s1.csv\", level_names=[\"root\", \"technology\", \"activity\"]\n",
    ")\n",
    "pd.read_csv(\"s1.csv\").fillna(\"\")"
   ],
   "metadata": {
    "collapsed": false,
    "ExecuteTime": {
     "end_time": "2024-01-08T15:27:54.371645373Z",
     "start_time": "2024-01-08T15:27:54.368641861Z"
    }
   }
  },
  {
   "cell_type": "markdown",
   "source": [
    "We can also now run any new scenario configuration for the given experiment using `run_scenario_config`"
   ],
   "metadata": {
    "collapsed": false
   }
  },
  {
   "cell_type": "code",
   "execution_count": 24,
   "outputs": [
    {
     "name": "stdout",
     "output_type": "stream",
     "text": [
      "2024-01-08 16:39:18,606 - enbios.demos.enbios.base - INFO - Running scenario 'new scenario'\n"
     ]
    }
   ],
   "source": [
    "new_random_scenario = create_random_scenario()\n",
    "new_random_scenario[\"name\"] = \"new scenario\"\n",
    "new_results = scenarios_experiment.run_scenario_config(new_random_scenario)"
   ],
   "metadata": {
    "collapsed": false,
    "ExecuteTime": {
     "end_time": "2024-01-08T15:39:57.836743287Z",
     "start_time": "2024-01-08T15:39:18.610260673Z"
    }
   }
  },
  {
   "cell_type": "code",
   "outputs": [
    {
     "name": "stdout",
     "output_type": "stream",
     "text": [
      "{\n",
      "  \"simple-assignment-adapter\": {\n",
      "    \"activity_indicator\": \"assign\"\n",
      "  },\n",
      "  \"brightway-adapter\": {\n",
      "    \"activity_indicator\": \"bw\"\n",
      "  }\n",
      "}\n"
     ]
    }
   ],
   "source": [
    "import json\n",
    "\n",
    "print(json.dumps(Experiment.get_builtin_adapters(False), indent=2))"
   ],
   "metadata": {
    "collapsed": false,
    "ExecuteTime": {
     "end_time": "2024-01-09T11:51:43.182585679Z",
     "start_time": "2024-01-09T11:51:43.140654288Z"
    }
   },
   "execution_count": 5
  },
  {
   "cell_type": "code",
   "execution_count": 18,
   "outputs": [
    {
     "name": "stdout",
     "output_type": "stream",
     "text": [
      "None\n"
     ]
    },
    {
     "data": {
      "text/plain": "[None]"
     },
     "execution_count": 18,
     "metadata": {},
     "output_type": "execute_result"
    }
   ],
   "source": [
    "from pathlib import Path\n",
    "\n",
    "# Experiment.get_builtin_adapters()\n",
    "[print(json.dump(a.get_config_schemas(), Path(\"temp.json\").open(\"w\"), indent=2)) for a in hierarchy_experiment.adapters]"
   ],
   "metadata": {
    "collapsed": false,
    "ExecuteTime": {
     "end_time": "2024-01-09T11:44:31.152500297Z",
     "start_time": "2024-01-09T11:44:31.122799067Z"
    }
   }
  },
  {
   "cell_type": "code",
   "outputs": [
    {
     "name": "stdout",
     "output_type": "stream",
     "text": [
      "== Generating schema_doc.md ==\n",
      "== Generated schema_doc.md in 0:00:00.020017 ==\n"
     ]
    }
   ],
   "source": [
    "from json_schema_for_humans.generate import generate_from_filename, generate_from_schema, generate_schemas_doc\n",
    "from json_schema_for_humans.generation_configuration import GenerationConfiguration\n",
    "\n",
    "config = GenerationConfiguration(copy_css=False, expand_buttons=False,template_name=\"md\")\n",
    "\n",
    "generate_from_filename(\"temp.json\", \"schema_doc.md\", config=config)\n",
    "# generate_from_schema(json.dumps(hierarchy_experiment.adapters[0].get_config_schemas()))\n",
    "# Your doc is now in a file named \"schema_doc.html\". Next to it, \"schema_doc.min.js\" was copied, but not \"schema_doc.css\"\n",
    "# Your doc will contain a \"Expand all\" and a \"Collapse all\" button at the top\n"
   ],
   "metadata": {
    "collapsed": false,
    "ExecuteTime": {
     "end_time": "2024-01-09T10:45:15.782527891Z",
     "start_time": "2024-01-09T10:45:15.583189026Z"
    }
   },
   "execution_count": 16
  },
  {
   "cell_type": "markdown",
   "source": [
    "## Inspecting the results\n",
    "\n",
    "We can now do some transformations of the results. For that is useful to know how to retrieve is singular result from a scenario result. \n",
    "The result of a scenario is a tree structure, where the nodes `name`s are activity aliases or names defined in the hierarchy. With the function of BasicTreeNode.find_child_by_name we can directly access the result of a node.    \n",
    "\n",
    "Following we transform the results into a dictionary of the following structure:\n",
    "```json\n",
    "{\n",
    "    \"activity_alias\": {\n",
    "        \"method_alias\": \"[list of results for each scenario]\"\n",
    "    }\n",
    "}\n",
    "```"
   ],
   "metadata": {
    "collapsed": false
   }
  },
  {
   "cell_type": "code",
   "execution_count": null,
   "outputs": [],
   "source": [
    "all_results = {}\n",
    "for activity in activity_aliases:\n",
    "    all_results[activity] = {\n",
    "        method_alias: [] for method_alias in scenarios_experiment.method_aliases\n",
    "    }\n",
    "    for scenario in scenarios_experiment.scenarios:\n",
    "        activity_result = scenario.result_tree.find_child_by_name(activity)\n",
    "        for method, score in activity_result.data.results.items():\n",
    "            all_results[activity][method].append(score)\n",
    "\n",
    "all_results"
   ],
   "metadata": {
    "collapsed": false
   }
  },
  {
   "cell_type": "code",
   "execution_count": null,
   "outputs": [],
   "source": [
    "distribution_raw_data = deepcopy(simple_raw_data)\n",
    "distribution_raw_data[\"config\"] = {\"use_k_bw_distributions\": 5}"
   ],
   "metadata": {
    "collapsed": false
   }
  },
  {
   "cell_type": "code",
   "execution_count": null,
   "outputs": [],
   "source": [
    "distribution_experiment = Experiment(distribution_raw_data)\n",
    "results = distribution_experiment.run()"
   ],
   "metadata": {
    "collapsed": false
   }
  },
  {
   "cell_type": "code",
   "execution_count": null,
   "outputs": [],
   "source": [
    "results[\"default scenario\"].data.distribution_results"
   ],
   "metadata": {
    "collapsed": false
   }
  },
  {
   "cell_type": "code",
   "execution_count": null,
   "outputs": [],
   "source": [],
   "metadata": {
    "collapsed": false
   }
  }
 ],
 "metadata": {
  "kernelspec": {
   "display_name": "Python 3 (ipykernel)",
   "language": "python",
   "name": "python3"
  },
  "language_info": {
   "codemirror_mode": {
    "name": "ipython",
    "version": 3
   },
   "file_extension": ".py",
   "mimetype": "text/x-python",
   "name": "python",
   "nbconvert_exporter": "python",
   "pygments_lexer": "ipython3",
   "version": "3.11.4"
  }
 },
 "nbformat": 4,
 "nbformat_minor": 1
}
