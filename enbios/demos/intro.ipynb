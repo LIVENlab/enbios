{
 "cells": [
  {
   "cell_type": "code",
   "execution_count": 48,
   "outputs": [],
   "source": [
    "from copy import deepcopy\n",
    "from pathlib import Path\n",
    "\n",
    "import bw2data\n",
    "import pandas as pd\n",
    "\n",
    "from enbios.base.experiment import Experiment\n",
    "from enbios.bw2.util import report\n",
    "from enbios.models.experiment_base_models import ExperimentData"
   ],
   "metadata": {
    "collapsed": false,
    "ExecuteTime": {
     "end_time": "2024-01-15T11:07:19.329388854Z",
     "start_time": "2024-01-15T11:07:19.288275768Z"
    }
   }
  },
  {
   "cell_type": "markdown",
   "source": [
    "In this demo, we demonstrate the basic working of Enbios. There are 4 main parts to this introduction. The first three parts, incrementally extend the experiment, while the 4. part displays some useful functionalities, that helps to understand how to configure enbios.\n",
    "\n",
    "For this introduction, we are going to use Brightway to do LCA calculations of ecoinvent (v.3.9.1) activities, that are at the bottom of the MuSIASEM hierarchy, so one should have a brigthway project, with some the ecoinvent dataset created before starting.\n",
    "\n",
    "In the first step, we get some brighway activities are construct the enbios configuration step by step."
   ],
   "metadata": {
    "collapsed": false
   }
  },
  {
   "cell_type": "code",
   "execution_count": 49,
   "metadata": {
    "ExecuteTime": {
     "end_time": "2024-01-15T11:07:19.613412515Z",
     "start_time": "2024-01-15T11:07:19.577398035Z"
    }
   },
   "outputs": [
    {
     "name": "stdout",
     "output_type": "stream",
     "text": [
      "Project: default\n",
      "[]\n",
      "Project: ecoinvent_391\n",
      "['biosphere3', 'ecoinvent_391_cutoff']\n",
      "Project: Spain case study\n",
      "['biosphere', 'food']\n",
      "Project: nonlinear-method-test\n",
      "['db']\n"
     ]
    }
   ],
   "source": [
    "# get an overview of brightway projects and databases\n",
    "report()"
   ]
  },
  {
   "cell_type": "code",
   "execution_count": 50,
   "metadata": {
    "ExecuteTime": {
     "end_time": "2024-01-15T11:07:19.792091271Z",
     "start_time": "2024-01-15T11:07:19.761376067Z"
    }
   },
   "outputs": [],
   "source": [
    "# select the brightway project and database (e.g. some ecoinvent database)\n",
    "PROJECT_NAME = \"ecoinvent_391\"\n",
    "DATABASE = \"ecoinvent_391_cutoff\"\n",
    "\n",
    "bw2data.projects.set_current(PROJECT_NAME)\n",
    "db = bw2data.Database(DATABASE)"
   ]
  },
  {
   "cell_type": "markdown",
   "metadata": {},
   "source": [
    "# Simple example experiment\n",
    "Let's get 2 wind turbines from Spain"
   ]
  },
  {
   "cell_type": "code",
   "execution_count": 51,
   "metadata": {
    "ExecuteTime": {
     "end_time": "2024-01-15T11:07:20.663997819Z",
     "start_time": "2024-01-15T11:07:20.522982866Z"
    }
   },
   "outputs": [
    {
     "name": "stdout",
     "output_type": "stream",
     "text": [
      "Excluding 319 filtered results\n"
     ]
    },
    {
     "data": {
      "text/plain": "['electricity production, wind, 1-3MW turbine, onshore' (kilowatt hour, ES, None),\n 'electricity production, wind, 1-3MW turbine, offshore' (kilowatt hour, ES, None)]"
     },
     "execution_count": 51,
     "metadata": {},
     "output_type": "execute_result"
    }
   ],
   "source": [
    "wind_turbines_spain = db.search(\n",
    "    \"electricity production, wind, 1-3MW turbine, onshore\", filter={\"location\": \"ES\"}\n",
    ")[:2]\n",
    "wind_turbines_spain"
   ]
  },
  {
   "cell_type": "code",
   "outputs": [
    {
     "name": "stdout",
     "output_type": "stream",
     "text": [
      "Excluding 846 filtered results\n"
     ]
    },
    {
     "data": {
      "text/plain": "('electricity production, hard coal',\n 'ecoinvent_391_cutoff',\n ('ecoinvent_391_cutoff', 'cfa79d34d94d122a4fd35786da2c6d4e'))"
     },
     "execution_count": 52,
     "metadata": {},
     "output_type": "execute_result"
    }
   ],
   "source": [
    "e = db.search(\"coal\", filter={\"location\": \"ES\"})[0]\n",
    "e[\"name\"], e[\"database\"], e.key"
   ],
   "metadata": {
    "collapsed": false,
    "ExecuteTime": {
     "end_time": "2024-01-15T11:07:20.906725995Z",
     "start_time": "2024-01-15T11:07:20.839042975Z"
    }
   },
   "execution_count": 52
  },
  {
   "cell_type": "code",
   "outputs": [],
   "source": [
    "from bw2data.backends import ActivityDataset\n",
    "\n",
    "# db.get('cfa79d34d94d122a4fd35786da2c6d4e')\n",
    "names = [a.data[\"name\"] for a in ActivityDataset.select()]"
   ],
   "metadata": {
    "collapsed": false,
    "ExecuteTime": {
     "end_time": "2024-01-15T11:07:22.170272398Z",
     "start_time": "2024-01-15T11:07:21.221833391Z"
    }
   },
   "execution_count": 53
  },
  {
   "cell_type": "code",
   "outputs": [
    {
     "data": {
      "text/plain": "['Acetochlor',\n 'Aclonifen',\n 'Aldicarb',\n 'Aldrin',\n 'Aluminium, 24% in bauxite, 11% in crude ore',\n 'Ametryn',\n 'Amidosulfuron',\n 'Anhydrite',\n 'Anthraquinone',\n 'Asulam',\n 'Azinphos-methyl',\n 'Barite, 15% in crude ore',\n 'Basalt',\n 'Benazolin',\n 'Benomyl',\n 'Bensulfuron methyl ester',\n 'Bifenox',\n 'Bitertanol',\n 'Borax',\n 'Bromuconazole',\n 'Buprofezin',\n 'Cadmium, 0.30% in sulfide, Cd 0.18%, Pb, Zn, Ag, In',\n 'Calcite',\n 'Captan',\n 'Carbetamide',\n 'Carbofuran',\n 'Carbon dioxide, in air',\n 'Carbon, organic, in soil or biomass stock',\n 'Cerium, 24% in bastnasite, 2.4% in crude ore',\n 'Chloridazon',\n 'Chlormequat',\n 'Chlormequat chloride',\n 'Chlorsulfuron',\n 'Choline chloride',\n 'Chromium, 25.5% in chromite, 11.6% in crude ore',\n 'Chrysotile',\n 'Cinidon-ethyl',\n 'Cinnabar',\n 'Clay, bentonite',\n 'Clay, unspecified',\n 'Clodinafop-propargyl',\n 'Clomazone',\n 'Clopyralid',\n 'Cloquintocet-mexyl',\n 'Coal, brown',\n 'Coal, hard, unspecified',\n 'Colemanite',\n 'Copper, 0.52% in sulfide, Cu 0.27% and Mo 8.2E-3% in crude ore',\n 'Copper, 0.59% in sulfide, Cu 0.22% and Mo 8.2E-3% in crude ore',\n 'Copper, 0.97% in sulfide, Cu 0.36% and Mo 4.1E-2% in crude ore',\n 'Copper, 0.99% in sulfide, Cu 0.36% and Mo 8.2E-3% in crude ore',\n 'Copper, 1.13% in sulfide, Cu 0.76% and Ni 0.76% in crude ore',\n 'Copper, 1.18% in sulfide, Cu 0.39% and Mo 8.2E-3% in crude ore',\n 'Copper, 1.42% in sulfide, Cu 0.81% and Mo 8.2E-3% in crude ore',\n 'Copper, 2.19% in sulfide, Cu 1.83% and Mo 8.2E-3% in crude ore',\n 'Cu, Cu 3.2E+0%, Pt 2.5E-4%, Pd 7.3E-4%, Rh 2.0E-5%, Ni 2.3E+0% in ore',\n 'Cu, Cu 5.2E-2%, Pt 4.8E-4%, Pd 2.0E-4%, Rh 2.4E-5%, Ni 3.7E-2% in ore',\n 'Cyanazine',\n 'Cyclanilide',\n 'Cycloxydim',\n 'Cymoxanil',\n 'Cyprodinil',\n 'Desmedipham',\n 'Diatomite',\n 'Diazinon',\n 'Dichlobenil',\n 'Dichlorprop-P',\n 'Diclofop',\n 'Diclofop-methyl',\n 'Dicofol',\n 'Dicrotophos',\n 'Diflufenican',\n 'Diflufenzopyr-sodium',\n 'Dimethachlor',\n 'Dimethipin',\n 'Dimethomorph',\n 'Dinoseb',\n 'Diquat',\n 'Disulfoton',\n 'Dithianon',\n 'DNOC',\n 'Dolomite',\n 'DSMA',\n 'Endosulfan',\n 'Endothall',\n 'Ethofumesate',\n 'Ethoprop',\n 'Etridiazole',\n 'Europium, 0.06% in bastnasite, 0.006% in crude ore',\n 'Expenditures on primary production factors',\n 'Feldspar',\n 'Fenbuconazole',\n 'Fenoxaprop-P ethyl ester',\n 'Fenpiclonil',\n 'Fenpropathrin',\n 'Fenpropidin',\n 'Fenpropimorph',\n 'Fentin acetate',\n 'Fentin hydroxide',\n 'Florasulam',\n 'Flucarbazone sodium salt',\n 'Fluometuron',\n 'Fluorspar, 92%',\n 'Flupyrsulfuron-methyl',\n 'Fluquinconazole',\n 'Fluroxypyr',\n 'Flurtamone',\n 'Flusilazole',\n 'Flutolanil',\n 'Foramsulfuron',\n 'Fuberidazole',\n 'Gadolinium, 0.15% in bastnasite, 0.015% in crude ore',\n 'Gallium, 0.014% in bauxite',\n 'Glufosinate',\n 'Gold, Au 1.1E-4%, Ag 4.2E-3%, in ore',\n 'Gold, Au 1.3E-4%, Ag 4.6E-5%, in ore',\n 'Gold, Au 1.4E-4%, in ore',\n 'Gold, Au 2.1E-4%, Ag 2.1E-4%, in ore',\n 'Gold, Au 4.3E-4%, in ore',\n 'Gold, Au 4.9E-5%, in ore',\n 'Gold, Au 6.7E-4%, in ore',\n 'Gold, Au 7.1E-4%, in ore',\n 'Granite',\n 'Gravel',\n 'Gypsum',\n 'Halosulfuron-methyl',\n 'Helium, 0.08% in natural gas',\n 'Hexaconazole',\n 'Imazalil',\n 'Imazapyr',\n 'Indium, 0.005% in sulfide, In 0.003%, Pb, Zn, Ag, Cd',\n 'Iodosulfuron',\n 'Iodosulfuron-methyl-sodium',\n 'Ioxynil',\n 'Iron, 46% in ore, 25% in crude ore',\n 'Isoproturon',\n 'Isoxaflutole',\n 'Kaolinite, 24% in crude ore',\n 'Kieserite, 25% in crude ore',\n 'Kresoxim-methyl',\n 'Krypton',\n 'Lanthanum, 7.2% in bastnasite, 0.72% in crude ore',\n 'Lead, 5.0% in sulfide, Pb 3.0%, Zn, Ag, Cd, In',\n 'Lindane',\n 'Linuron',\n 'Lithium, 0.15% in brine',\n 'Magnesite, 60% in crude ore',\n 'Magnesium, 0.13% in water',\n 'Malathion',\n 'Maleic hydrazide',\n 'Maneb',\n 'Manganese, 35.7% in sedimentary deposit, 14.2% in crude ore',\n 'Mecoprop',\n 'Mecoprop-P',\n 'Mefenpyr',\n 'Mefenpyr-diethyl',\n 'Mepiquat chloride',\n 'Mesosulfuron-methyl (prop)',\n 'Metalaxil',\n 'Metaldehyde',\n 'Metamitron',\n 'Graphite',\n 'Metam-sodium',\n 'Metazachlor',\n 'Methabenzthiazuron',\n 'Methamidophos',\n 'Methiocarb',\n 'Metosulam',\n 'Molinate',\n 'Molybdenum, 0.010% in sulfide, Mo 8.2E-3% and Cu 1.83% in crude ore',\n 'Molybdenum, 0.014% in sulfide, Mo 8.2E-3% and Cu 0.81% in crude ore',\n 'Molybdenum, 0.016% in sulfide, Mo 8.2E-3% and Cu 0.27% in crude ore',\n 'Molybdenum, 0.022% in sulfide, Mo 8.2E-3% and Cu 0.22% in crude ore',\n 'Molybdenum, 0.022% in sulfide, Mo 8.2E-3% and Cu 0.36% in crude ore',\n 'Molybdenum, 0.025% in sulfide, Mo 8.2E-3% and Cu 0.39% in crude ore',\n 'Molybdenum, 0.11% in sulfide, Mo 4.1E-2% and Cu 0.36% in crude ore',\n 'Monocrotophos',\n 'Monolinuron',\n 'MSMA',\n 'Naled',\n 'Napropamide',\n 'Neodymium, 4% in bastnasite, 0.4% in crude ore',\n 'Net operating surplus',\n 'Net tax',\n 'Ni, Ni 2.3E+0%, Pt 2.5E-4%, Pd 7.3E-4%, Rh 2.0E-5%, Cu 3.2E+0% in ore',\n 'Ni, Ni 3.7E-2%, Pt 4.8E-4%, Pd 2.0E-4%, Rh 2.4E-5%, Cu 5.2E-2% in ore',\n 'Nickel, 1.13% in sulfide, Ni 0.76% and Cu 0.76% in crude ore',\n 'Nickel, 1.98% in silicates, 1.04% in crude ore',\n 'Norflurazon',\n 'Occupation, annual crop',\n 'Occupation, annual crop, flooded crop',\n 'Occupation, annual crop, greenhouse',\n 'Occupation, annual crop, irrigated',\n 'Occupation, annual crop, irrigated, extensive',\n 'Occupation, annual crop, irrigated, intensive',\n 'Occupation, annual crop, non-irrigated',\n 'Occupation, annual crop, non-irrigated, extensive',\n 'Occupation, annual crop, non-irrigated, intensive',\n 'Occupation, arable land, unspecified use',\n 'Occupation, bare area (non-use)',\n 'Occupation, construction site',\n 'Occupation, cropland fallow (non-use)',\n 'Occupation, dump site',\n 'Occupation, field margin/hedgerow',\n 'Occupation, forest, extensive',\n 'Occupation, forest, intensive',\n 'Occupation, forest, primary (non-use)',\n 'Occupation, forest, secondary (non-use)',\n 'Occupation, forest, unspecified',\n 'Occupation, grassland, natural (non-use)',\n 'Occupation, grassland, natural, for livestock grazing',\n 'Occupation, heterogeneous, agricultural',\n 'Occupation, industrial area',\n 'Occupation, inland waterbody, unspecified',\n 'Occupation, lake, artificial',\n 'Occupation, lake, natural (non-use)',\n 'Occupation, mineral extraction site',\n 'Occupation, pasture, man made',\n 'Occupation, pasture, man made, extensive',\n 'Occupation, pasture, man made, intensive',\n 'Occupation, permanent crop',\n 'Occupation, permanent crop, irrigated',\n 'Occupation, permanent crop, irrigated, extensive',\n 'Occupation, permanent crop, irrigated, intensive',\n 'Occupation, permanent crop, non-irrigated',\n 'Occupation, permanent crop, non-irrigated, extensive',\n 'Occupation, permanent crop, non-irrigated, intensive',\n 'Occupation, river, artificial',\n 'Occupation, river, natural (non-use)',\n 'Occupation, seabed, drilling and mining',\n 'Occupation, seabed, infrastructure',\n 'Occupation, seabed, natural (non-use)',\n 'Occupation, seabed, unspecified',\n 'Occupation, shrub land, sclerophyllous',\n 'Occupation, snow and ice (non-use)',\n 'Occupation, traffic area, rail network',\n 'Occupation, traffic area, rail/road embankment',\n 'Occupation, traffic area, road network',\n 'Occupation, unspecified',\n 'Occupation, unspecified, natural (non-use)',\n 'Occupation, urban, continuously built',\n 'Occupation, urban, discontinuously built',\n 'Occupation, urban, green area',\n 'Occupation, urban/industrial fallow (non-use)',\n 'Occupation, wetland, coastal (non-use)',\n 'Occupation, wetland, inland (non-use)',\n 'Olivine',\n 'Orbencarb',\n 'Oxadixyl',\n 'Oxamyl',\n 'Oxydemeton-methyl',\n 'Oxyfluorfen',\n 'Parathion',\n 'Pd, Pd 2.0E-4%, Pt 4.8E-4%, Rh 2.4E-5%, Ni 3.7E-2%, Cu 5.2E-2% in ore',\n 'Pd, Pd 7.3E-4%, Pt 2.5E-4%, Rh 2.0E-5%, Ni 2.3E+0%, Cu 3.2E+0% in ore',\n 'Peat',\n 'Perlite',\n 'Phenmedipham',\n 'Phorate',\n 'Phosmet',\n 'Phosphorus, 18% in apatite, 12% in crude ore',\n 'Phosphorus, 18% in apatite, 4% in crude ore',\n 'Picloram',\n 'Piperonyl butoxide',\n 'Pirimicarb',\n 'Praseodymium, 0.42% in bastnasite, 0.042% in crude ore',\n 'Primisulfuron',\n 'Prochloraz',\n 'Procymidone',\n 'Profenofos',\n 'Prohexadione-calcium',\n 'Prometryn',\n 'Pronamide',\n 'Propamocarb HCl',\n 'Propanil',\n 'Propaquizafop',\n 'Propargite',\n 'Propoxycarbazone-sodium (prop)',\n 'Prosulfocarb',\n 'Prosulfuron',\n 'Pt, Pt 2.5E-4%, Pd 7.3E-4%, Rh 2.0E-5%, Ni 2.3E+0%, Cu 3.2E+0% in ore',\n 'Pt, Pt 4.8E-4%, Pd 2.0E-4%, Rh 2.4E-5%, Ni 3.7E-2%, Cu 5.2E-2% in ore',\n 'Pumice',\n 'Pymetrozine',\n 'Pyridate',\n 'Pyrite',\n 'Pyrithiobac sodium salt',\n 'Pyrolusite',\n 'Quinclorac',\n 'Quinmerac',\n 'Quinoxyfen',\n 'Quintozene',\n 'Quizalofop-P',\n 'Rent',\n 'Rh, Rh 2.0E-5%, Pt 2.5E-4%, Pd 7.3E-4%, Ni 2.3E+0%, Cu 3.2E+0% in ore',\n 'Rh, Rh 2.4E-5%, Pt 4.8E-4%, Pd 2.0E-4%, Ni 3.7E-2%, Cu 5.2E-2% in ore',\n 'Rhenium, in crude ore',\n 'Rimsulfuron',\n 'Samarium, 0.3% in bastnasite, 0.03% in crude ore',\n 'Sand, unspecified',\n 'Shale',\n 'Silthiofam',\n 'Silver, 0.007% in sulfide, Ag 0.004%, Pb, Zn, Cd, In',\n 'Silver, 0.01% in crude ore',\n 'Silver, 3.2ppm in sulfide, Ag 1.2ppm, Cu and Te, in crude ore',\n 'Silver, Ag 2.1E-4%, Au 2.1E-4%, in ore',\n 'Silver, Ag 4.2E-3%, Au 1.1E-4%, in ore',\n 'Silver, Ag 4.6E-5%, Au 1.3E-4%, in ore',\n 'Sodium chloride',\n 'Sodium nitrate',\n 'Sodium sulphate, various forms',\n 'Spinosad',\n 'Spiroxamine',\n 'Spodumene',\n 'Stibnite',\n 'Sulfosate',\n 'Sulfosulfuron',\n 'Sylvite, 25 % in sylvinite',\n 'Talc',\n 'Tantalum, 81.9% in tantalite, 1.6E-4% in crude ore',\n 'tau-Fluvalinate',\n 'TCMTB',\n 'Tebufenozide',\n 'Tebupirimfos',\n 'Tebutam',\n 'Tellurium, 0.5ppm in sulfide, Te 0.2ppm, Cu and Ag, in crude ore',\n 'Terbufos',\n 'Terbuthylazin',\n 'Thidiazuron',\n 'Thifensulfuron-methyl',\n 'Thiobencarb',\n 'Tin, 79% in cassiterite, 0.1% in crude ore',\n 'TiO2, 54% in ilmenite, 2.6% in crude ore',\n 'TiO2, 95% in rutile, 0.40% in crude ore',\n 'Tralkoxydim',\n 'Tralomethrin',\n 'Transformation, from annual crop',\n 'Transformation, from annual crop, flooded crop',\n 'Transformation, from annual crop, greenhouse',\n 'Transformation, from annual crop, irrigated',\n 'Transformation, from annual crop, irrigated, extensive',\n 'Transformation, from annual crop, irrigated, intensive',\n 'Transformation, from annual crop, non-irrigated',\n 'Transformation, from annual crop, non-irrigated, extensive',\n 'Transformation, from annual crop, non-irrigated, intensive',\n 'Transformation, from arable land, unspecified use',\n 'Transformation, from bare area (non-use)',\n 'Transformation, from cropland fallow (non-use)',\n 'Transformation, from dump site',\n 'Transformation, from dump site, inert material landfill',\n 'Transformation, from dump site, residual material landfill',\n 'Transformation, from dump site, sanitary landfill',\n 'Transformation, from dump site, slag compartment',\n 'Transformation, from field margin/hedgerow',\n 'Transformation, from forest, extensive',\n 'Transformation, from forest, intensive',\n 'Transformation, from forest, primary (non-use)',\n 'Transformation, from forest, secondary (non-use)',\n 'Transformation, from forest, unspecified',\n 'Transformation, from grassland, natural (non-use)',\n 'Transformation, from grassland, natural, for livestock grazing',\n 'Transformation, from heterogeneous, agricultural',\n 'Transformation, from industrial area',\n 'Transformation, from inland waterbody, unspecified',\n 'Transformation, from lake, artificial',\n 'Transformation, from lake, natural (non-use)',\n 'Transformation, from mineral extraction site',\n 'Transformation, from pasture, man made',\n 'Transformation, from pasture, man made, extensive',\n 'Transformation, from pasture, man made, intensive',\n 'Transformation, from permanent crop',\n 'Transformation, from permanent crop, irrigated',\n 'Transformation, from permanent crop, irrigated, extensive',\n 'Transformation, from permanent crop, irrigated, intensive',\n 'Transformation, from permanent crop, non-irrigated',\n 'Transformation, from permanent crop, non-irrigated, extensive',\n 'Transformation, from permanent crop, non-irrigated, intensive',\n 'Transformation, from river, artificial',\n 'Transformation, from river, natural (non-use)',\n 'Transformation, from seabed, drilling and mining',\n 'Transformation, from seabed, infrastructure',\n 'Transformation, from seabed, natural (non-use)',\n 'Transformation, from seabed, unspecified',\n 'Transformation, from shrub land, sclerophyllous',\n 'Transformation, from snow and ice (non-use)',\n 'Transformation, from traffic area, rail network',\n 'Transformation, from traffic area, rail/road embankment',\n 'Transformation, from traffic area, road network',\n 'Transformation, from unspecified',\n 'Transformation, from unspecified, natural (non-use)',\n 'Transformation, from urban, continuously built',\n 'Transformation, from urban, discontinuously built',\n 'Transformation, from urban, green area',\n 'Transformation, from urban/industrial fallow (non-use)',\n 'Transformation, from wetland, coastal (non-use)',\n 'Transformation, from wetland, inland (non-use)',\n 'Transformation, to annual crop',\n 'Transformation, to annual crop, flooded crop',\n 'Transformation, to annual crop, greenhouse',\n 'Transformation, to annual crop, irrigated',\n 'Transformation, to annual crop, irrigated, extensive',\n 'Transformation, to annual crop, irrigated, intensive',\n 'Transformation, to annual crop, non-irrigated',\n 'Transformation, to annual crop, non-irrigated, extensive',\n 'Transformation, to annual crop, non-irrigated, intensive',\n 'Transformation, to arable land, unspecified use',\n 'Transformation, to bare area (non-use)',\n 'Transformation, to cropland fallow (non-use)',\n 'Transformation, to dump site',\n 'Transformation, to dump site, inert material landfill',\n 'Transformation, to dump site, residual material landfill',\n 'Transformation, to dump site, sanitary landfill',\n 'Transformation, to dump site, slag compartment',\n 'Transformation, to field margin/hedgerow',\n 'Transformation, to forest, extensive',\n 'Transformation, to forest, intensive',\n 'Transformation, to forest, primary (non-use)',\n 'Transformation, to forest, secondary (non-use)',\n 'Transformation, to forest, unspecified',\n 'Transformation, to grassland, natural (non-use)',\n 'Transformation, to grassland, natural, for livestock grazing',\n 'Transformation, to heterogeneous, agricultural',\n 'Transformation, to industrial area',\n 'Transformation, to inland waterbody, unspecified',\n 'Transformation, to lake, artificial',\n 'Transformation, to lake, natural (non-use)',\n 'Transformation, to mineral extraction site',\n 'Transformation, to pasture, man made',\n 'Transformation, to pasture, man made, extensive',\n 'Transformation, to pasture, man made, intensive',\n 'Transformation, to permanent crop',\n 'Transformation, to permanent crop, irrigated',\n 'Transformation, to permanent crop, irrigated, extensive',\n 'Transformation, to permanent crop, irrigated, intensive',\n 'Transformation, to permanent crop, non-irrigated',\n 'Transformation, to permanent crop, non-irrigated, extensive',\n 'Transformation, to permanent crop, non-irrigated, intensive',\n 'Transformation, to river, artificial',\n 'Transformation, to river, natural (non-use)',\n 'Transformation, to seabed, drilling and mining',\n 'Transformation, to seabed, infrastructure',\n 'Transformation, to seabed, natural (non-use)',\n 'Transformation, to seabed, unspecified',\n 'Transformation, to shrub land, sclerophyllous',\n 'Transformation, to snow and ice (non-use)',\n 'Transformation, to traffic area, rail network',\n 'Transformation, to traffic area, rail/road embankment',\n 'Transformation, to traffic area, road network',\n 'Transformation, to unspecified',\n 'Transformation, to unspecified, natural (non-use)',\n 'Transformation, to urban, continuously built',\n 'Transformation, to urban, discontinuously built',\n 'Transformation, to urban, green area',\n 'Transformation, to urban/industrial fallow (non-use)',\n 'Transformation, to wetland, coastal (non-use)',\n 'Transformation, to wetland, inland (non-use)',\n 'Triadimenol',\n 'Triasulfuron',\n 'Tribenuron',\n 'Tribufos',\n 'Trichlorfon',\n 'Triclopyr',\n 'Tridemorph',\n 'Triflusulfuron-methyl',\n 'Trinexapac-ethyl',\n 'Ulexite',\n 'Vermiculite',\n 'Vinclozolin',\n 'Volume occupied, final repository for low-active radioactive waste',\n 'Volume occupied, final repository for radioactive waste',\n 'Volume occupied, reservoir',\n 'Volume occupied, underground deposit',\n 'Water, cooling, unspecified natural origin',\n 'Water, lake',\n 'Water, river',\n 'Water, salt, ocean',\n 'Water, salt, sole',\n 'Water, turbine use, unspecified natural origin',\n 'Water, well, in ground',\n 'Wood, hard, standing',\n 'Wood, primary forest, standing',\n 'Wood, soft, standing',\n 'Wood, unspecified, standing',\n 'Xenon',\n 'Zinc, 9.0% in sulfide, Zn 5.3%, Pb, Ag, Cd, In',\n 'Zirconia, as baddeleyite',\n 'Zirconium, 50% in zircon, 0.39% in crude ore',\n 'Labour cost',\n 'Allyl chloride',\n 'Perfluoropentane',\n 'Water, in air',\n 'Thifensulfuron',\n 'Mineral oil',\n 'Fenoxycarb',\n 'Oryzalin',\n 'Amitraz',\n 'Bromacil',\n 'Fosetyl-aluminium',\n 'Hexazinone',\n 'Fenamiphos',\n 'Hydramethylnon',\n 'Pyrimethanil',\n 'Propachlor',\n 'Pyrethrin',\n 'Rotenone',\n 'Terbacil',\n 'Folpet',\n 'Chlorfenvinphos',\n 'Furathiocarb',\n 'Triforine',\n 'TiO2, 54% in ilmenite, 18% in crude ore',\n 'Iron, 72% in magnetite, 14% in crude ore',\n 'Benfluralin',\n 'Lenacil',\n 'Tolylfluanid',\n 'Occupation, arable, conservation tillage (obsolete)',\n 'Occupation, arable, conventional tillage (obsolete)',\n 'Occupation, arable, reduced tillage (obsolete)',\n 'Salt water (obsolete)',\n 'Fresh water (obsolete)',\n 'Cyclohexane (for all cycloalkanes)',\n 'Chromium IV',\n 'Tebufenpyrad',\n 'Chlorides, unspecified',\n 'Sulfur oxides',\n 'Carbonyl sulfide',\n 'Steatite',\n '2,2,4-Trimethyl pentane',\n 'Silicon tetrachloride',\n 'Silicon dioxide',\n 'Gold, Au 9.7E-5%, Ag 7.6E-5%, in ore',\n 'Gold, Au 6.8E-4%, Ag 1.5E-4%, in ore',\n 'Gold, Au 5.4E-4%, Ag 1.5E-5%, in ore',\n 'Silver, Ag 7.6E-5%, Au 9.7E-5%, in ore',\n 'Silver, Ag 1.5E-4%, Au 6.8E-4%, in ore',\n 'Silver, Ag 1.5E-5%, Au 5.4E-4%, in ore',\n 'Carnallite',\n 'Copper, Cu 0.38%, in mixed ore',\n 'Gold, Au 9.7E-4%, in mixed ore',\n 'Lead, Pb 0.014%, in mixed ore',\n 'Silver, Ag 9.7E-4%, in mixed ore',\n 'Zinc, Zn 0.63%, in mixed ore',\n 'Silver, Ag 5.4E-3%, in mixed ore',\n 'Gold, Au 1.8E-4%, in mixed ore',\n 'Copper, Cu 0.2%, in mixed ore',\n 'Lead, Pb 3.6E-1%, in mixed ore',\n 'Zinc, Zn 3.1%, in mixed ore',\n 'Energy, geothermal, converted',\n 'Energy, kinetic (in wind), converted',\n 'Energy, potential (in hydropower reservoir), converted',\n 'Energy, solar, converted',\n 'Silver, Ag 1.8E-6%, in mixed ore',\n 'Gold, Au 1.0E-7%, in mixed ore',\n 'Nickel, Ni 2.5E+0%, in mixed ore',\n 'Copper, Cu 6.8E-1%, in mixed ore',\n 'Cobalt, Co 5.0E-2%, in mixed ore',\n 'Platinum, Pt 4.7E-7%, in mixed ore',\n 'Palladium, Pd 1.6E-6%, in mixed ore',\n 'Rhodium, Rh 1.6E-7%, in mixed ore',\n 'Mandipropamid',\n 'Myclobutanil',\n 'Chlorpyrifos methyl',\n 'Boscalid',\n 'Fluazifop',\n 'Kaolin',\n 'Fosetyl',\n 'Chloropicrin',\n 'Acrinathrin',\n 'Pirimiphos methyl',\n 'Cyhalothrin',\n 'Energy, gross calorific value, in biomass',\n 'Energy, gross calorific value, in biomass, primary forest',\n 'Dodecanol',\n 'Glucose',\n '2-chlorobenzaldehyde',\n 'Diethanolamine',\n '1,3-Dioxolan-2-one',\n 'Dimethyl carbonate',\n 'Dimethyl hexynediol',\n 'Dinitrogen tetroxide',\n 'Nitric oxide',\n 'Bisphenol A',\n 'Phosgene',\n 'Octaethylene glycol monododecyl ether',\n 'Decanoic acid',\n 'Phosphorus pentachloride',\n 'Aluminium hydroxide',\n 'Maleic anhydride',\n 'Phosphorus oxychloride',\n '2,4-di-tert-butylphenol',\n 'Trisodium phosphate',\n 'Dimethyl hexanediol',\n '2-Amino-3-chloro-1,4-naphthoquinone',\n '2-Phenylphenol',\n '8-Quinolinol',\n 'Acibenzolar-S-methyl',\n 'Alanycarb',\n 'Allethrin',\n 'Anilazine',\n 'Azaconazol',\n 'Azadirachtin',\n 'Aziprotryne',\n 'Benalaxyl',\n 'Benoxacor',\n 'Bensultap',\n 'Benthiavalicarb',\n 'Benthiavalicarb-isopropyl',\n 'Benzoic acid',\n 'Benzoximate',\n 'Benzthiazuron',\n 'Beta-cypermethrin',\n 'Bromofenoxim',\n 'Bromopropylate',\n 'Bromoxynil octanoate',\n 'Bupirimate',\n 'Butafenacil',\n 'Butoxycarboxim',\n 'Butralin',\n 'Calcium cyanamide',\n 'Carbosulfan',\n 'Chlorbromuron',\n 'Chlorbufam',\n 'Chlorthal',\n 'Chlozolinate',\n 'Clofentezine',\n 'Clothianidin',\n 'Cyanamide',\n 'Cyazofamid',\n 'Cycluron',\n 'Cyhexatin',\n 'Cyromazine',\n 'Daminozide',\n 'Dazomet',\n 'Demeton-S-methylsulfon',\n 'Dialifor',\n 'Dichlofluanid',\n 'Dichlorvos',\n 'Dienochlor',\n 'Diethofencarb',\n 'Dinocap',\n 'Diofenolan',\n 'Dodemorph',\n 'Ethiofencarb',\n 'Etoxazole',\n 'Famoxadone',\n 'Fenamidone',\n 'Fenazaquin',\n 'Fenbutatin oxide',\n 'Fenfuram',\n 'Fenhexamid',\n 'Fenitrothion',\n 'Fenpyroximate',\n 'Flazasulfuron',\n 'Fluoroglycofen',\n 'Flurenol',\n 'Fonofos',\n 'Furalaxyl',\n 'Guazatine',\n 'Heptenophos',\n 'Hexaflumuron',\n 'Hexythiazox',\n 'Hymexazol',\n 'Ioxynil methyl ester',\n 'Iprovalicarb',\n 'Isoxadifen-ethyl',\n 'Magnesium phosphide',\n 'Mepanipyrim',\n 'Mepronil',\n 'Mesosulfuron',\n 'Methidathion',\n 'Methoprene',\n 'Metobromuron',\n 'Mevinfos',\n 'Neburon',\n 'Nitrothal-isopropyl',\n 'Novaluron',\n 'Octanoic acid',\n 'Oxasulfuron',\n 'Penconazole',\n 'Pencycuron',\n 'Pethoxamid',\n 'Phosalone',\n 'Pinoxaden',\n 'Potassium soap',\n 'Propamocarb',\n 'Propham',\n 'Propineb',\n 'Proquinazid',\n 'P-tert-amylphenol',\n 'Pyrazophos',\n 'Pyrethrins',\n 'Pyrethrum',\n 'Pyrifenox',\n 'Rabon',\n 'Siduron',\n 'Sodium fluorosilicate',\n 'Spirodiclofen',\n 'Sulcotrione',\n 'Sulfotep',\n 'Tepraloxydim',\n 'Terbutryn',\n 'Thiacloprid',\n 'Thiocyclam',\n 'Triazamate',\n 'Triflumizole',\n 'Triticonazole',\n 'Vamidothion',\n 'Ziram',\n 'Zoxamide',\n 'Laterite',\n 'Monobutyltin (III)',\n 'Dibutyltin',\n 'Monophenyltin',\n 'Diphenyltin',\n 'Triphenyltin',\n 'Trioctyltin',\n 'Ammonium sulfate',\n 'Discarded fish, pelagic, to ocean',\n 'Discarded fish, demersal, to ocean',\n 'Rhodium III',\n 'Furfural',\n 'Zinc',\n 'Lead',\n 'Silver',\n 'Isobutane',\n 'Cyclopentane',\n 'Copper, 1.25% in sulfide, Cu 0.24% and Zn 0,1% in crude ore',\n 'Barium',\n 'Cadmium',\n 'Manganese',\n 'Mercury',\n 'Potassium',\n 'Vanadium',\n 'Transformation, from unknown',\n 'Transformation, to unknown',\n 'Actinium',\n 'Antimony',\n 'Arsenic',\n 'Astatine',\n 'Beryllium',\n 'Bismuth',\n 'Cerium',\n 'Dysprosium',\n 'Erbium',\n 'Europium',\n 'Fluorspar',\n 'Gadolinium',\n 'Germanium',\n 'Helium, in natural gas',\n 'Hafnium',\n 'Holmium',\n 'Indium',\n 'Iridium',\n 'Kaolinite',\n 'Kieserite',\n 'Lithium',\n 'Lutetium',\n 'Magnesite',\n 'Molybdenum',\n 'Neodymium',\n 'Niobium',\n 'Osmium',\n 'Polonium',\n 'Protactinium',\n 'Praseodymium',\n 'Radium',\n 'Rhenium',\n 'Ruthenium',\n 'Samarium',\n 'Selenium',\n 'Sylvite',\n 'Tantalum',\n 'Terbium',\n 'Thallium',\n 'Thulium',\n 'Ytterbium',\n 'Yttrium',\n 'Cobalt',\n 'Gallium',\n 'Aluminium',\n 'Iron',\n 'Chromium',\n 'Titanium',\n 'Palladium',\n 'Rhodium',\n 'Nickel',\n 'Copper',\n 'Tin',\n 'Fish, pelagic, in ocean',\n 'Fish, demersal, in ocean',\n 'Materials for recycling',\n 'Renewable secondary fuels',\n 'Intermediate and low-level radioactive waste disposed',\n 'High-level radioactive waste disposed',\n 'Recovered energy',\n 'Materials for energy recovery',\n 'Secondary materials',\n 'Hazardous waste disposed',\n 'Exported energy - electricity',\n 'Exported energy - heat',\n 'Non-hazardous waste disposed',\n 'Chlorfenapyr',\n 'Carbon dioxide, non-fossil, resource correction',\n 'N-methyl-2-pyrrolidone',\n 'Triethylammonium',\n 'Chlortoluron',\n 'Flurochloridone',\n 'Cupric chloride dihydrate',\n 'Monopotassium phosphite',\n 'Flonicamid',\n 'Cupric hydroxide',\n 'Fluthiacet-methyl',\n 'Flupyradifurone',\n 'Phosphorous acid',\n 'Tetraconazole',\n 'Tolfenpyrad',\n 'Bicyclorpyrone',\n 'Bifenazate',\n 'Flubendiamide',\n 'Thiencarbazone-methyl',\n 'Topramezone',\n 'Spirotetramat',\n 'Spiromesifen',\n 'Spinetoram J',\n 'Spinetoram L',\n 'Spinetoram',\n 'Waste mass, total, placed in landfill',\n 'Organic carbon, placed in landfill',\n 'Gangue',\n 'Haloxyfop-P-methyl',\n 'Starane',\n 'Fluoroglycofen-ethyl',\n 'Dimefuron',\n 'Barium sulfide',\n 'Zineb',\n 'Fenoxaprop ethyl ester',\n 'Dodine',\n 'Diphenylether compounds',\n 'Amine oxides',\n 'Copper oxide',\n 'Flutriafol',\n 'Propylene glycol',\n 'Sulfadiazine',\n 'Gas, mine, off-gas, process, coal mining',\n 'Bromine, 0.23% in water',\n 'Iodine, 0.03% in water',\n 'Fluorine, 4.5% in apatite, 3% in crude ore',\n 'Fluorine, 4.5% in apatite, 1% in crude ore',\n 'Cu-HDO',\n 'Nitrogen dioxide',\n 'Gas, natural',\n 'Oil, crude',\n 'EDTA, Ethylenediaminetetraacetic Acid',\n 'Iprodione',\n 'aircraft production, belly-freight aircraft, medium haul',\n 'market for used refrigeration machine, R134a as refrigerant',\n 'inductor production, low value multilayer chip',\n 'treatment of used domestic refrigerator, uncontrolled dismantling',\n 'market for extrusion, plastic pipes',\n 'market for sodium tetrahydridoborate',\n 'market for vegetable oil refinery',\n 'market for carbon dioxide, in chemical industry',\n 'market for waste emulsion paint, on wall',\n 'market for green manure, Swiss integrated production, until February',\n 'sunflower production, Swiss integrated production, intensive',\n 'market for 6-benzyladenine',\n 'fibre, viscose to generic market for silky fibres',\n 'market for paraffin',\n 'magnesium chloride, from titanium sponge production, Recycled Content cut-off',\n 'methyl acrylate production',\n 'dioctyl adipate production',\n 'market for synthetic rubber',\n 'market for nickel, class 1',\n 'market for building operation, luxury hotel',\n 'non-ionic surfactant production, ethylene oxide derivate',\n 'treatment of waste graphical paper, open dump, hyperarid infiltration class (-250mm)',\n 'market for carrot',\n 'market for assembly of generator and motor, auxilliaries and energy use, for mini CHP plant',\n 'market for energy wood harvester',\n 'electricity, high voltage, import from MD',\n 'treatment of residues, MSWI-WWT, WW from plywood production, residual material landfill',\n 'market for core board',\n 'treatment of used liquid crystal display, manual dismantling',\n 'market for palm date, conditioned and dried',\n 'market for bottom ash, MSWI-WWT, WW from potato starch production',\n 'market for furnace, logs, hardwood storage area, 100kW',\n 'treatment of low level radioactive waste, plasma torch incineration',\n 'treatment of bottom ash, MSWI-WWT, WW from liquid crystal production, slag compartment',\n 'treatment of waste wood, untreated, open dump, moist infiltration class (300mm)',\n 'market for tomato, processing grade',\n 'market for chromium steel removed by milling, large parts',\n 'market for polyethylene terephthalate, granulate, amorphous',\n 'market for bottom ash, MSWI-WWT, WW from plywood production',\n 'market for cast iron removed by milling, small parts',\n 'market group for land use change, forest, intensive',\n 'kiwi production',\n 'market for heat and power co-generation unit, 200kW electrical, components for electricity only',\n 'natural gas, high pressure, import from CN',\n 'cable production, three-conductor cable',\n 'market for collector field area, solar tower power plant, 20 MW',\n 'sodium chloride to generic market for de-icer',\n 'treatment of waste plastic, mixture, open dump, hyperarid infiltration class (-250mm)',\n 'market for mattress',\n 'market for used lorry, 40 metric ton',\n 'electricity, high voltage, import from AR',\n 'market for wood preservative, organic, indoor use, dry',\n 'market for N,N-dimethylformamide',\n 'market for lutetium oxide',\n 'market for liquid manure tank trailer',\n 'grass silage production, Swiss integrated production, intensive',\n 'lithium manganese oxide production',\n 'market for exhaust air roof hood, steel, DN 400',\n 'market for air filter, in exhaust air valve',\n 'deep well closure, for geothermal power, onshore, 6000m',\n 'aircraft production, dedicated freight aircraft, very short haul',\n 'potato seed production, Swiss integrated production, for setting',\n 'market for copper, anode',\n 'market for sodium ethoxide',\n 'market for hydrazine sulfate',\n 'market for printed wiring board, mounted mainboard, desktop computer, Pb free',\n 'market for transport, freight, lorry with refrigeration machine, 7.5-16 ton, EURO4, carbon dioxide, liquid refrig(...)_6',\n 'market for transport, freight, lorry with refrigeration machine, 3.5-7.5 ton, EURO4, carbon dioxide, liquid refri(...)_2',\n 'market for door, outer, wood-aluminium',\n 'market for manual dismantling of used electric passenger car',\n 'market for aircraft, passenger, very short haul',\n 'transport, passenger car, electric',\n 'market for packaging box factory',\n 'treatment of spent oxychlor catalyst, hazardous waste incineration',\n 'treatment of waste polyethylene, open burning',\n 'market for motor scooter, 50 cubic cm engine',\n 'treatment of waste glass, unsanitary landfill, very wet infiltration class (1000mm)',\n 'market for pulp factory',\n 'market for hafnium tetrachloride',\n 'market for melamine urea formaldehyde adhesive',\n 'market for sodium cumenesulphonate',\n 'market for steel removed by turning, average, computer numerical controlled',\n 'transistor production, wired, big size, through-hole mounting',\n 'market for expanded clay',\n 'market for sugar beet pulp',\n 'market for cobalt carbonate',\n 'treatment of waste polyethylene, open dump, dry infiltration class (100mm)',\n 'market for sewage sludge, 75% water, WWT, heat carrier liquid, 40% C3H8O2',\n 'treatment of bottom ash, MSWI[F]-WWT, WW from glass production, slag compartment',\n 'market for furnace, wood chips, with silo, 50kW',\n 'catch crop growing, ryegrass-red&Egyptian clover-mixture, August-April, organic fertiliser 60 kg N, three cuts',\n 'market for furnace, wood chips, softwood storage area, 1000kW',\n 'market for cottonseed oil, refined',\n 'market for propyl amine',\n 'market for recultivation, shale quarry',\n 'potato seed production, at farm',\n 'oat seed production, Swiss integrated production, at farm',\n 'market for natural gas, unprocessed, at extraction',\n 'natural gas, liquefied, import from MY',\n 'market for fibre cement facing tile, small format',\n 'market for stalk',\n 'market for used smartphone',\n 'wastewater treatment facility construction, lagoon, capacity 1.0E9l/year',\n 'market for cast iron removed by milling, average',\n 'market for used diesel-electric generating set, 18.5kW',\n 'market for chromium steel removed by turning, primarily dressing, computer numerical controlled',\n 'terbium-dysprosium oxide to generic market for mischmetal',\n 'market for furrow covering, sugarcane',\n 'market for electric kettle',\n 'electricity, high voltage, import from CN-CCG',\n 'treatment of scrap tin sheet, municipal incineration with fly ash extraction',\n 'electricity, low voltage, European attribute mix',\n 'market for transport, freight, train with reefer, freezing',\n 'market for glass cullet, mixed glass from used cathode ray tube',\n 'market for palm date',\n 'market for paper machine',\n 'wind power plant construction, 800kW, fixed parts',\n 'treatment of waste polyethylene, unsanitary landfill, moist infiltration class (300mm)',\n 'market for permanent magnet, for electric motor',\n 'sulfamic acid production',\n 'market for mancozeb',\n 'market for urea formaldehyde foam, in situ foaming',\n 'market for petroleum refinery',\n 'treatment of wood ash mixture, pure, municipal incineration with fly ash extraction',\n 'market for chloropropionic acid',\n 'treatment of bottom ash, MSWI-WWT, WW from wafer fabrication, slag compartment',\n 'market for natural gas, high pressure, vehicle grade',\n 'transport, freight, aircraft, belly-freight, short haul',\n 'market for printed wiring board, for through-hole mounting, Pb containing surface',\n 'market for sunflower seed, for sowing',\n 'transport, freight, lorry with refrigeration machine, 3.5-7.5 ton, EURO3, R134a refrigerant, freezing',\n 'market for glass tube factory',\n 'market for goods wagon',\n 'electricity production, photovoltaic, 3kWp slanted-roof installation, single-Si, panel, mounted, renewable energy produc',\n 'market for aircraft, dedicated freight, very short haul',\n 'market for wastewater treatment facility, capacity 1.1E10l/year',\n 'treatment of used powertrain for electric passenger car, manual dismantling',\n 'market for glass from used cathode ray tube',\n 'market for uranium ore, as U',\n 'amidosulfuron production',\n 'treatment of waste graphical paper, unsanitary landfill, very wet infiltration class (1000mm)',\n 'operation, internet access equipment, electricity from renewable energy products',\n 'market for residues, MSWI-WWT, WW from glass production',\n 'market for decommissioned airport infrastructure, contaminated gravel',\n 'market for transport, passenger aircraft, very short haul',\n 'market for sewage sludge, 97% water, WWT, WW from vegetable oil refinery',\n ...]"
     },
     "execution_count": 54,
     "metadata": {},
     "output_type": "execute_result"
    }
   ],
   "source": [
    "from collections import Counter\n",
    "\n",
    "counter = Counter(names)\n",
    "uniques = [an for an, c in counter.items() if c == 1]\n",
    "uniques"
   ],
   "metadata": {
    "collapsed": false,
    "ExecuteTime": {
     "end_time": "2024-01-15T11:07:22.202977906Z",
     "start_time": "2024-01-15T11:07:22.190621796Z"
    }
   },
   "execution_count": 54
  },
  {
   "cell_type": "code",
   "execution_count": 55,
   "metadata": {
    "ExecuteTime": {
     "end_time": "2024-01-15T11:07:22.204010184Z",
     "start_time": "2024-01-15T11:07:22.194789884Z"
    }
   },
   "outputs": [],
   "source": [
    "# Now we use those, to define 2 leaf-nodes in our hierarchy.\n",
    "experiment_activities = []\n",
    "\n",
    "for activity in wind_turbines_spain:\n",
    "    experiment_activities.append(\n",
    "        {\n",
    "            \"name\": activity[\"name\"],\n",
    "            \"adapter\": \"brightway-adapter\",\n",
    "            \"config\": {\"code\": activity[\"code\"]},\n",
    "        }\n",
    "    )"
   ]
  },
  {
   "cell_type": "code",
   "execution_count": 56,
   "metadata": {
    "ExecuteTime": {
     "end_time": "2024-01-15T11:07:24.176028260Z",
     "start_time": "2024-01-15T11:07:24.167892757Z"
    }
   },
   "outputs": [
    {
     "data": {
      "text/plain": "[{'name': 'electricity production, wind, 1-3MW turbine, onshore',\n  'adapter': 'brightway-adapter',\n  'config': {'code': 'ed3da88fc23311ee183e9ffd376de89b',\n   'default_output': {'unit': 'kilowatt_hour', 'magnitude': 3}}},\n {'name': 'electricity production, wind, 1-3MW turbine, offshore',\n  'adapter': 'brightway-adapter',\n  'config': {'code': '6ebfe52dc3ef5b4d35bb603b03559023'}}]"
     },
     "execution_count": 56,
     "metadata": {},
     "output_type": "execute_result"
    }
   ],
   "source": [
    "# we can modify the output of the activities, by default it is the reference product (1 of the activity unit)\n",
    "experiment_activities[0][\"config\"][\"default_output\"] = {\n",
    "    \"unit\": \"kilowatt_hour\",\n",
    "    \"magnitude\": 3,\n",
    "}\n",
    "experiment_activities"
   ]
  },
  {
   "cell_type": "code",
   "execution_count": 57,
   "outputs": [],
   "source": [
    "hierarchy = {\n",
    "    \"name\": \"root\",\n",
    "    \"aggregator\": \"sum-aggregator\",\n",
    "    \"children\": experiment_activities,\n",
    "}"
   ],
   "metadata": {
    "collapsed": false,
    "ExecuteTime": {
     "end_time": "2024-01-15T11:07:24.778176676Z",
     "start_time": "2024-01-15T11:07:24.773884378Z"
    }
   }
  },
  {
   "cell_type": "code",
   "execution_count": 58,
   "metadata": {
    "ExecuteTime": {
     "end_time": "2024-01-15T11:07:25.234570208Z",
     "start_time": "2024-01-15T11:07:25.229916250Z"
    }
   },
   "outputs": [
    {
     "data": {
      "text/plain": "{'accumulated exceedance (AE)': ('EF v3.0 EN15804',\n  'eutrophication: terrestrial',\n  'accumulated exceedance (AE)'),\n 'exergy content': ('Cumulative Exergy Demand (CExD)',\n  'material resources: water',\n  'exergy content')}"
     },
     "execution_count": 58,
     "metadata": {},
     "output_type": "execute_result"
    }
   ],
   "source": [
    "# select 2 random methods and convert them into the form for enbios2\n",
    "experiment_methods = [bw2data.methods.random() for _ in range(2)]\n",
    "\n",
    "experiment_methods = {m[-1]: m for m in experiment_methods}\n",
    "experiment_methods"
   ]
  },
  {
   "cell_type": "code",
   "execution_count": 63,
   "outputs": [],
   "source": [
    "# alternatively, we could just specify two methods\n",
    "experiment_methods = {\n",
    "    \"GWP1000\": (\n",
    "        \"ReCiPe 2016 v1.03, midpoint (H)\",\n",
    "        \"climate change\",\n",
    "        \"global warming potential (GWP1000)\",\n",
    "    ),\n",
    "    \"FETP\": (\n",
    "        \"ReCiPe 2016 v1.03, midpoint (H)\",\n",
    "        \"ecotoxicity: freshwater\",\n",
    "        \"freshwater ecotoxicity potential (FETP)\",\n",
    "    ),\n",
    "    \"HTPnc\": (\n",
    "        \"ReCiPe 2016 v1.03, midpoint (H)\",\n",
    "        \"human toxicity: non-carcinogenic\",\n",
    "        \"human toxicity potential (HTPnc)\",\n",
    "    ),\n",
    "}"
   ],
   "metadata": {
    "collapsed": false,
    "ExecuteTime": {
     "end_time": "2024-01-15T11:10:10.676954648Z",
     "start_time": "2024-01-15T11:10:10.632017904Z"
    }
   }
  },
  {
   "cell_type": "code",
   "outputs": [
    {
     "data": {
      "text/plain": "[('ReCiPe 2016 v1.03, midpoint (H)',\n  'acidification: terrestrial',\n  'terrestrial acidification potential (TAP)'),\n ('ReCiPe 2016 v1.03, midpoint (H)',\n  'climate change',\n  'global warming potential (GWP1000)'),\n ('ReCiPe 2016 v1.03, midpoint (H)',\n  'ecotoxicity: freshwater',\n  'freshwater ecotoxicity potential (FETP)'),\n ('ReCiPe 2016 v1.03, midpoint (H)',\n  'ecotoxicity: marine',\n  'marine ecotoxicity potential (METP)'),\n ('ReCiPe 2016 v1.03, midpoint (H)',\n  'ecotoxicity: terrestrial',\n  'terrestrial ecotoxicity potential (TETP)'),\n ('ReCiPe 2016 v1.03, midpoint (H)',\n  'energy resources: non-renewable, fossil',\n  'fossil fuel potential (FFP)'),\n ('ReCiPe 2016 v1.03, midpoint (H)',\n  'eutrophication: freshwater',\n  'freshwater eutrophication potential (FEP)'),\n ('ReCiPe 2016 v1.03, midpoint (H)',\n  'eutrophication: marine',\n  'marine eutrophication potential (MEP)'),\n ('ReCiPe 2016 v1.03, midpoint (H)',\n  'human toxicity: carcinogenic',\n  'human toxicity potential (HTPc)'),\n ('ReCiPe 2016 v1.03, midpoint (H)',\n  'human toxicity: non-carcinogenic',\n  'human toxicity potential (HTPnc)'),\n ('ReCiPe 2016 v1.03, midpoint (H)',\n  'ionising radiation',\n  'ionising radiation potential (IRP)'),\n ('ReCiPe 2016 v1.03, midpoint (H)',\n  'land use',\n  'agricultural land occupation (LOP)'),\n ('ReCiPe 2016 v1.03, midpoint (H)',\n  'material resources: metals/minerals',\n  'surplus ore potential (SOP)'),\n ('ReCiPe 2016 v1.03, midpoint (H)',\n  'ozone depletion',\n  'ozone depletion potential (ODPinfinite)'),\n ('ReCiPe 2016 v1.03, midpoint (H)',\n  'particulate matter formation',\n  'particulate matter formation potential (PMFP)'),\n ('ReCiPe 2016 v1.03, midpoint (H)',\n  'photochemical oxidant formation: human health',\n  'photochemical oxidant formation potential: humans (HOFP)'),\n ('ReCiPe 2016 v1.03, midpoint (H)',\n  'photochemical oxidant formation: terrestrial ecosystems',\n  'photochemical oxidant formation potential: ecosystems (EOFP)'),\n ('ReCiPe 2016 v1.03, midpoint (H)',\n  'water use',\n  'water consumption potential (WCP)')]"
     },
     "execution_count": 64,
     "metadata": {},
     "output_type": "execute_result"
    }
   ],
   "source": [
    "list(filter(lambda m: m[0] == \"ReCiPe 2016 v1.03, midpoint (H)\", bw2data.methods))"
   ],
   "metadata": {
    "collapsed": false,
    "ExecuteTime": {
     "end_time": "2024-01-15T11:10:11.443805869Z",
     "start_time": "2024-01-15T11:10:11.440311048Z"
    }
   },
   "execution_count": 64
  },
  {
   "cell_type": "code",
   "execution_count": 65,
   "metadata": {
    "ExecuteTime": {
     "end_time": "2024-01-15T11:10:11.738499849Z",
     "start_time": "2024-01-15T11:10:11.722860299Z"
    }
   },
   "outputs": [
    {
     "data": {
      "text/plain": "{'adapters': [{'adapter_name': 'brightway-adapter',\n   'config': {'bw_project': 'ecoinvent_391'},\n   'methods': {'GWP1000': ('ReCiPe 2016 v1.03, midpoint (H)',\n     'climate change',\n     'global warming potential (GWP1000)'),\n    'FETP': ('ReCiPe 2016 v1.03, midpoint (H)',\n     'ecotoxicity: freshwater',\n     'freshwater ecotoxicity potential (FETP)'),\n    'HTPnc': ('ReCiPe 2016 v1.03, midpoint (H)',\n     'human toxicity: non-carcinogenic',\n     'human toxicity potential (HTPnc)')}}],\n 'hierarchy': {'name': 'root',\n  'aggregator': 'sum-aggregator',\n  'children': [{'name': 'electricity production, wind, 1-3MW turbine, onshore',\n    'config': {'code': 'ed3da88fc23311ee183e9ffd376de89b',\n     'default_output': {'unit': 'kilowatt_hour', 'magnitude': 3}},\n    'adapter': 'brightway-adapter'},\n   {'name': 'electricity production, wind, 1-3MW turbine, offshore',\n    'config': {'code': '6ebfe52dc3ef5b4d35bb603b03559023'},\n    'adapter': 'brightway-adapter'}]}}"
     },
     "execution_count": 65,
     "metadata": {},
     "output_type": "execute_result"
    }
   ],
   "source": [
    "# let's store the raw data, because we want to modify it later\n",
    "simple_raw_data = {\n",
    "    \"adapters\": [\n",
    "        {\n",
    "            \"adapter_name\": \"brightway-adapter\",\n",
    "            \"config\": {\"bw_project\": PROJECT_NAME},\n",
    "            \"methods\": experiment_methods,\n",
    "        }\n",
    "    ],\n",
    "    \"hierarchy\": hierarchy,\n",
    "}\n",
    "\n",
    "# make a first validation of the experiment data\n",
    "exp_data = ExperimentData(**simple_raw_data)\n",
    "exp_data.model_dump(exclude_unset=True)"
   ]
  },
  {
   "cell_type": "code",
   "execution_count": 66,
   "metadata": {
    "ExecuteTime": {
     "end_time": "2024-01-15T11:10:12.086311161Z",
     "start_time": "2024-01-15T11:10:12.008522862Z"
    }
   },
   "outputs": [],
   "source": [
    "# create experiment object. This will validate the activities, their outputs, the methods and the scenarios.\n",
    "simple_experiment: Experiment = Experiment(simple_raw_data)"
   ]
  },
  {
   "cell_type": "code",
   "execution_count": 67,
   "metadata": {
    "ExecuteTime": {
     "end_time": "2024-01-15T11:10:12.285759385Z",
     "start_time": "2024-01-15T11:10:12.265645984Z"
    }
   },
   "outputs": [
    {
     "name": "stdout",
     "output_type": "stream",
     "text": [
      "Experiment: \n",
      "Activities: 2\n",
      "root - sum-aggregator\n",
      " electricity production, wind, 1-3MW turbine, onshore - brightway-adapter\n",
      " electricity production, wind, 1-3MW turbine, offshore - brightway-adapter\n",
      "Methods: 3\n",
      " bw.GWP1000\n",
      " bw.FETP\n",
      " bw.HTPnc\n",
      "Hierarchy (depth): 2\n",
      "Scenarios: 1\n"
     ]
    }
   ],
   "source": [
    "print(simple_experiment.info())"
   ]
  },
  {
   "cell_type": "markdown",
   "metadata": {},
   "source": [
    "## Running the experiment"
   ]
  },
  {
   "cell_type": "code",
   "execution_count": 68,
   "metadata": {
    "ExecuteTime": {
     "end_time": "2024-01-15T11:10:36.865491931Z",
     "start_time": "2024-01-15T11:10:12.807570522Z"
    }
   },
   "outputs": [
    {
     "name": "stdout",
     "output_type": "stream",
     "text": [
      "2024-01-15 12:10:12,805 - ............enbios.demos.enbios.base - INFO - Running scenario 'default scenario'\n"
     ]
    }
   ],
   "source": [
    "# run all scenarios at once, Results will be returned as dictionary\n",
    "# <scenario_name : str> : <scenario_result : dict>\n",
    "# <scenario_result> : dict represents the root node of the results tree, with the following keys:\n",
    "# name, output, results, children\n",
    "# where results, is a dictionary of impacts to dict: unit, magnitude | multi_magnitude\n",
    "# The first and only positional parameter 'results_as_dict' can be set to False, to get the tree unserialized as :  BasicTreeNode[ScenarioResultNodeData]\n",
    "results = simple_experiment.run()"
   ]
  },
  {
   "cell_type": "markdown",
   "metadata": {},
   "source": [
    "# Result\n",
    "The result is a dictionary of scenario names, where for each scenario we have a tree (representing the activity hierarchy). Each node (`BasicTreeNode`) in the tree has a `data` object, which is of the type `ScenarioResultNodeData`, which have the fields `output`, `result`."
   ]
  },
  {
   "cell_type": "code",
   "execution_count": 69,
   "metadata": {
    "ExecuteTime": {
     "end_time": "2024-01-15T11:10:36.912516986Z",
     "start_time": "2024-01-15T11:10:36.904831925Z"
    }
   },
   "outputs": [
    {
     "data": {
      "text/plain": "{'default scenario': {'name': 'root',\n  'results': {'GWP1000': {'unit': 'kg CO2-Eq',\n    'magnitude': 0.06275128225929673},\n   'FETP': {'unit': 'kg 1,4-DCB-Eq', 'magnitude': 0.023866276586311866},\n   'HTPnc': {'unit': 'kg 1,4-DCB-Eq', 'magnitude': 0.15274278160174964}},\n  'output': {'unit': 'kilowatt_hour', 'magnitude': 4.0},\n  'children': [{'name': 'electricity production, wind, 1-3MW turbine, onshore',\n    'results': {'GWP1000': {'unit': 'kg CO2-Eq',\n      'magnitude': 0.045730834001617954},\n     'FETP': {'unit': 'kg 1,4-DCB-Eq', 'magnitude': 0.0192768242242305},\n     'HTPnc': {'unit': 'kg 1,4-DCB-Eq', 'magnitude': 0.10636436307514271}},\n    'output': {'unit': 'kilowatt_hour', 'magnitude': 3.0}},\n   {'name': 'electricity production, wind, 1-3MW turbine, offshore',\n    'results': {'GWP1000': {'unit': 'kg CO2-Eq',\n      'magnitude': 0.017020448257678778},\n     'FETP': {'unit': 'kg 1,4-DCB-Eq', 'magnitude': 0.004589452362081367},\n     'HTPnc': {'unit': 'kg 1,4-DCB-Eq', 'magnitude': 0.046378418526606936}},\n    'output': {'unit': 'kilowatt_hour', 'magnitude': 1.0}}]}}"
     },
     "execution_count": 69,
     "metadata": {},
     "output_type": "execute_result"
    }
   ],
   "source": [
    "results"
   ]
  },
  {
   "cell_type": "code",
   "execution_count": 70,
   "metadata": {
    "ExecuteTime": {
     "end_time": "2024-01-15T11:10:36.934570024Z",
     "start_time": "2024-01-15T11:10:36.905125045Z"
    }
   },
   "outputs": [
    {
     "data": {
      "text/plain": "           scenario lvl_0                                              lvl_1  \\\n0  default scenario  root                                                      \n1                          electricity production, wind, 1-3MW turbine, o...   \n2                          electricity production, wind, 1-3MW turbine, o...   \n\n   GWP1000_magnitude (kg CO2-Eq)  FETP_magnitude (kg 1,4-DCB-Eq)  \\\n0                       0.062751                        0.023866   \n1                       0.045731                        0.019277   \n2                       0.017020                        0.004589   \n\n   HTPnc_magnitude (kg 1,4-DCB-Eq)    output_unit  output_magnitude  \n0                         0.152743  kilowatt_hour               4.0  \n1                         0.106364  kilowatt_hour               3.0  \n2                         0.046378  kilowatt_hour               1.0  ",
      "text/html": "<div>\n<style scoped>\n    .dataframe tbody tr th:only-of-type {\n        vertical-align: middle;\n    }\n\n    .dataframe tbody tr th {\n        vertical-align: top;\n    }\n\n    .dataframe thead th {\n        text-align: right;\n    }\n</style>\n<table border=\"1\" class=\"dataframe\">\n  <thead>\n    <tr style=\"text-align: right;\">\n      <th></th>\n      <th>scenario</th>\n      <th>lvl_0</th>\n      <th>lvl_1</th>\n      <th>GWP1000_magnitude (kg CO2-Eq)</th>\n      <th>FETP_magnitude (kg 1,4-DCB-Eq)</th>\n      <th>HTPnc_magnitude (kg 1,4-DCB-Eq)</th>\n      <th>output_unit</th>\n      <th>output_magnitude</th>\n    </tr>\n  </thead>\n  <tbody>\n    <tr>\n      <th>0</th>\n      <td>default scenario</td>\n      <td>root</td>\n      <td></td>\n      <td>0.062751</td>\n      <td>0.023866</td>\n      <td>0.152743</td>\n      <td>kilowatt_hour</td>\n      <td>4.0</td>\n    </tr>\n    <tr>\n      <th>1</th>\n      <td></td>\n      <td></td>\n      <td>electricity production, wind, 1-3MW turbine, o...</td>\n      <td>0.045731</td>\n      <td>0.019277</td>\n      <td>0.106364</td>\n      <td>kilowatt_hour</td>\n      <td>3.0</td>\n    </tr>\n    <tr>\n      <th>2</th>\n      <td></td>\n      <td></td>\n      <td>electricity production, wind, 1-3MW turbine, o...</td>\n      <td>0.017020</td>\n      <td>0.004589</td>\n      <td>0.046378</td>\n      <td>kilowatt_hour</td>\n      <td>1.0</td>\n    </tr>\n  </tbody>\n</table>\n</div>"
     },
     "execution_count": 70,
     "metadata": {},
     "output_type": "execute_result"
    }
   ],
   "source": [
    "# we can dump the results into a csv file\n",
    "simple_experiment.results_to_csv(\"test.csv\")\n",
    "pd.read_csv(\"test.csv\").fillna(\"\")"
   ]
  },
  {
   "cell_type": "code",
   "execution_count": 71,
   "metadata": {
    "ExecuteTime": {
     "end_time": "2024-01-15T11:10:36.975274029Z",
     "start_time": "2024-01-15T11:10:36.924246523Z"
    }
   },
   "outputs": [
    {
     "data": {
      "text/plain": "{'name': 'root',\n 'results': {'GWP1000': {'unit': 'kg CO2-Eq',\n   'magnitude': 0.06275128225929673},\n  'FETP': {'unit': 'kg 1,4-DCB-Eq', 'magnitude': 0.023866276586311866},\n  'HTPnc': {'unit': 'kg 1,4-DCB-Eq', 'magnitude': 0.15274278160174964}},\n 'output': {'unit': 'kilowatt_hour', 'magnitude': 4.0},\n 'children': [{'name': 'electricity production, wind, 1-3MW turbine, onshore',\n   'results': {'GWP1000': {'unit': 'kg CO2-Eq',\n     'magnitude': 0.045730834001617954},\n    'FETP': {'unit': 'kg 1,4-DCB-Eq', 'magnitude': 0.0192768242242305},\n    'HTPnc': {'unit': 'kg 1,4-DCB-Eq', 'magnitude': 0.10636436307514271}},\n   'output': {'unit': 'kilowatt_hour', 'magnitude': 3.0}},\n  {'name': 'electricity production, wind, 1-3MW turbine, offshore',\n   'results': {'GWP1000': {'unit': 'kg CO2-Eq',\n     'magnitude': 0.017020448257678778},\n    'FETP': {'unit': 'kg 1,4-DCB-Eq', 'magnitude': 0.004589452362081367},\n    'HTPnc': {'unit': 'kg 1,4-DCB-Eq', 'magnitude': 0.046378418526606936}},\n   'output': {'unit': 'kilowatt_hour', 'magnitude': 1.0}}]}"
     },
     "execution_count": 71,
     "metadata": {},
     "output_type": "execute_result"
    }
   ],
   "source": [
    "simple_experiment.scenarios[0].result_to_dict()"
   ]
  },
  {
   "cell_type": "markdown",
   "metadata": {},
   "source": [
    "## Add a technology hierarchy (dendrogram) \n",
    "Let's now add a few more activities to the experiment and create a hierarchy of activities."
   ]
  },
  {
   "cell_type": "code",
   "execution_count": 72,
   "metadata": {
    "ExecuteTime": {
     "end_time": "2024-01-15T11:10:37.047003711Z",
     "start_time": "2024-01-15T11:10:36.929965214Z"
    }
   },
   "outputs": [
    {
     "name": "stdout",
     "output_type": "stream",
     "text": [
      "Excluding 465 filtered results\n"
     ]
    },
    {
     "data": {
      "text/plain": "['electricity production, solar tower power plant, 20 MW' (kilowatt hour, ES, None),\n 'electricity production, solar thermal parabolic trough, 50 MW' (kilowatt hour, ES, None)]"
     },
     "execution_count": 72,
     "metadata": {},
     "output_type": "execute_result"
    }
   ],
   "source": [
    "solar_spain = db.search(\"solar\", filter={\"location\": \"ES\"})[:2]\n",
    "solar_spain"
   ]
  },
  {
   "cell_type": "code",
   "execution_count": 73,
   "outputs": [],
   "source": [
    "experiment_activities_solar = []\n",
    "for activity in solar_spain:\n",
    "    experiment_activities_solar.append(\n",
    "        {\"name\": activity[\"name\"], \"adapter\": \"bw\", \"config\": {\"code\": activity[\"code\"]}}\n",
    "    )\n",
    "\n",
    "hierarchy_raw_data = deepcopy(simple_raw_data)\n",
    "\n",
    "hierarchy_raw_data[\"hierarchy\"] = {\n",
    "    \"name\": \"root\",\n",
    "    \"aggregator\": \"sum\",\n",
    "    \"children\": [\n",
    "        {\"name\": \"wind\", \"aggregator\": \"sum\", \"children\": experiment_activities},\n",
    "        {\"name\": \"solar\", \"aggregator\": \"sum\", \"children\": experiment_activities_solar},\n",
    "    ],\n",
    "}"
   ],
   "metadata": {
    "collapsed": false,
    "ExecuteTime": {
     "end_time": "2024-01-15T11:10:37.088766994Z",
     "start_time": "2024-01-15T11:10:36.996400316Z"
    }
   }
  },
  {
   "cell_type": "code",
   "execution_count": 74,
   "metadata": {
    "ExecuteTime": {
     "end_time": "2024-01-15T11:10:37.152106433Z",
     "start_time": "2024-01-15T11:10:37.040907157Z"
    }
   },
   "outputs": [],
   "source": [
    "hierarchy_experiment: Experiment = Experiment(hierarchy_raw_data)"
   ]
  },
  {
   "cell_type": "markdown",
   "source": [
    "# Run the 2nd experiment"
   ],
   "metadata": {
    "collapsed": false
   }
  },
  {
   "cell_type": "code",
   "execution_count": 75,
   "metadata": {
    "ExecuteTime": {
     "end_time": "2024-01-15T11:11:16.206803099Z",
     "start_time": "2024-01-15T11:10:37.124210586Z"
    }
   },
   "outputs": [
    {
     "name": "stdout",
     "output_type": "stream",
     "text": [
      "2024-01-15 12:10:37,120 - ............enbios.demos.enbios.base - INFO - Running scenario 'default scenario'\n"
     ]
    },
    {
     "data": {
      "text/plain": "{'default scenario': {'name': 'root',\n  'results': {'GWP1000': {'unit': 'kg CO2-Eq',\n    'magnitude': 0.16515205296353608},\n   'FETP': {'unit': 'kg 1,4-DCB-Eq', 'magnitude': 0.030201672466260446},\n   'HTPnc': {'unit': 'kg 1,4-DCB-Eq', 'magnitude': 0.2077213370172139}},\n  'output': {'unit': 'kilowatt_hour', 'magnitude': 6.0},\n  'children': [{'name': 'wind',\n    'results': {'GWP1000': {'unit': 'kg CO2-Eq',\n      'magnitude': 0.06275128225929673},\n     'FETP': {'unit': 'kg 1,4-DCB-Eq', 'magnitude': 0.023866276586311866},\n     'HTPnc': {'unit': 'kg 1,4-DCB-Eq', 'magnitude': 0.15274278160174964}},\n    'output': {'unit': 'kilowatt_hour', 'magnitude': 4.0},\n    'children': [{'name': 'electricity production, wind, 1-3MW turbine, onshore',\n      'results': {'GWP1000': {'unit': 'kg CO2-Eq',\n        'magnitude': 0.045730834001617954},\n       'FETP': {'unit': 'kg 1,4-DCB-Eq', 'magnitude': 0.0192768242242305},\n       'HTPnc': {'unit': 'kg 1,4-DCB-Eq', 'magnitude': 0.10636436307514271}},\n      'output': {'unit': 'kilowatt_hour', 'magnitude': 3.0}},\n     {'name': 'electricity production, wind, 1-3MW turbine, offshore',\n      'results': {'GWP1000': {'unit': 'kg CO2-Eq',\n        'magnitude': 0.017020448257678778},\n       'FETP': {'unit': 'kg 1,4-DCB-Eq', 'magnitude': 0.004589452362081367},\n       'HTPnc': {'unit': 'kg 1,4-DCB-Eq', 'magnitude': 0.046378418526606936}},\n      'output': {'unit': 'kilowatt_hour', 'magnitude': 1.0}}]},\n   {'name': 'solar',\n    'results': {'GWP1000': {'unit': 'kg CO2-Eq',\n      'magnitude': 0.10240077070423936},\n     'FETP': {'unit': 'kg 1,4-DCB-Eq', 'magnitude': 0.006335395879948579},\n     'HTPnc': {'unit': 'kg 1,4-DCB-Eq', 'magnitude': 0.054978555415464266}},\n    'output': {'unit': 'kilowatt_hour', 'magnitude': 2.0},\n    'children': [{'name': 'electricity production, solar tower power plant, 20 MW',\n      'results': {'GWP1000': {'unit': 'kg CO2-Eq',\n        'magnitude': 0.048204581910669446},\n       'FETP': {'unit': 'kg 1,4-DCB-Eq', 'magnitude': 0.003242319969953703},\n       'HTPnc': {'unit': 'kg 1,4-DCB-Eq', 'magnitude': 0.027197097783352518}},\n      'output': {'unit': 'kilowatt_hour', 'magnitude': 1.0}},\n     {'name': 'electricity production, solar thermal parabolic trough, 50 MW',\n      'results': {'GWP1000': {'unit': 'kg CO2-Eq',\n        'magnitude': 0.054196188793569924},\n       'FETP': {'unit': 'kg 1,4-DCB-Eq', 'magnitude': 0.003093075909994876},\n       'HTPnc': {'unit': 'kg 1,4-DCB-Eq', 'magnitude': 0.027781457632111747}},\n      'output': {'unit': 'kilowatt_hour', 'magnitude': 1.0}}]}]}}"
     },
     "execution_count": 75,
     "metadata": {},
     "output_type": "execute_result"
    }
   ],
   "source": [
    "hierarchy_experiment.run()"
   ]
  },
  {
   "cell_type": "code",
   "execution_count": 76,
   "metadata": {
    "ExecuteTime": {
     "end_time": "2024-01-15T11:11:16.209098785Z",
     "start_time": "2024-01-15T11:11:16.204846284Z"
    }
   },
   "outputs": [
    {
     "data": {
      "text/plain": "   root technology                                           activity  \\\n0  root                                                                 \n1             wind                                                      \n2                   electricity production, wind, 1-3MW turbine, o...   \n3                   electricity production, wind, 1-3MW turbine, o...   \n4            solar                                                      \n5                   electricity production, solar tower power plan...   \n6                   electricity production, solar thermal paraboli...   \n\n   GWP1000_magnitude (kg CO2-Eq)  FETP_magnitude (kg 1,4-DCB-Eq)  \\\n0                       0.165152                        0.030202   \n1                       0.062751                        0.023866   \n2                       0.045731                        0.019277   \n3                       0.017020                        0.004589   \n4                       0.102401                        0.006335   \n5                       0.048205                        0.003242   \n6                       0.054196                        0.003093   \n\n   HTPnc_magnitude (kg 1,4-DCB-Eq)    output_unit  output_magnitude  \n0                         0.207721  kilowatt_hour               6.0  \n1                         0.152743  kilowatt_hour               4.0  \n2                         0.106364  kilowatt_hour               3.0  \n3                         0.046378  kilowatt_hour               1.0  \n4                         0.054979  kilowatt_hour               2.0  \n5                         0.027197  kilowatt_hour               1.0  \n6                         0.027781  kilowatt_hour               1.0  ",
      "text/html": "<div>\n<style scoped>\n    .dataframe tbody tr th:only-of-type {\n        vertical-align: middle;\n    }\n\n    .dataframe tbody tr th {\n        vertical-align: top;\n    }\n\n    .dataframe thead th {\n        text-align: right;\n    }\n</style>\n<table border=\"1\" class=\"dataframe\">\n  <thead>\n    <tr style=\"text-align: right;\">\n      <th></th>\n      <th>root</th>\n      <th>technology</th>\n      <th>activity</th>\n      <th>GWP1000_magnitude (kg CO2-Eq)</th>\n      <th>FETP_magnitude (kg 1,4-DCB-Eq)</th>\n      <th>HTPnc_magnitude (kg 1,4-DCB-Eq)</th>\n      <th>output_unit</th>\n      <th>output_magnitude</th>\n    </tr>\n  </thead>\n  <tbody>\n    <tr>\n      <th>0</th>\n      <td>root</td>\n      <td></td>\n      <td></td>\n      <td>0.165152</td>\n      <td>0.030202</td>\n      <td>0.207721</td>\n      <td>kilowatt_hour</td>\n      <td>6.0</td>\n    </tr>\n    <tr>\n      <th>1</th>\n      <td></td>\n      <td>wind</td>\n      <td></td>\n      <td>0.062751</td>\n      <td>0.023866</td>\n      <td>0.152743</td>\n      <td>kilowatt_hour</td>\n      <td>4.0</td>\n    </tr>\n    <tr>\n      <th>2</th>\n      <td></td>\n      <td></td>\n      <td>electricity production, wind, 1-3MW turbine, o...</td>\n      <td>0.045731</td>\n      <td>0.019277</td>\n      <td>0.106364</td>\n      <td>kilowatt_hour</td>\n      <td>3.0</td>\n    </tr>\n    <tr>\n      <th>3</th>\n      <td></td>\n      <td></td>\n      <td>electricity production, wind, 1-3MW turbine, o...</td>\n      <td>0.017020</td>\n      <td>0.004589</td>\n      <td>0.046378</td>\n      <td>kilowatt_hour</td>\n      <td>1.0</td>\n    </tr>\n    <tr>\n      <th>4</th>\n      <td></td>\n      <td>solar</td>\n      <td></td>\n      <td>0.102401</td>\n      <td>0.006335</td>\n      <td>0.054979</td>\n      <td>kilowatt_hour</td>\n      <td>2.0</td>\n    </tr>\n    <tr>\n      <th>5</th>\n      <td></td>\n      <td></td>\n      <td>electricity production, solar tower power plan...</td>\n      <td>0.048205</td>\n      <td>0.003242</td>\n      <td>0.027197</td>\n      <td>kilowatt_hour</td>\n      <td>1.0</td>\n    </tr>\n    <tr>\n      <th>6</th>\n      <td></td>\n      <td></td>\n      <td>electricity production, solar thermal paraboli...</td>\n      <td>0.054196</td>\n      <td>0.003093</td>\n      <td>0.027781</td>\n      <td>kilowatt_hour</td>\n      <td>1.0</td>\n    </tr>\n  </tbody>\n</table>\n</div>"
     },
     "execution_count": 76,
     "metadata": {},
     "output_type": "execute_result"
    }
   ],
   "source": [
    "# print(json.dumps((exp.scenarios[0].result_to_dict()), indent=2))\n",
    "hierarchy_experiment.scenarios[0].results_to_csv(\n",
    "    \"test.csv\", level_names=[\"root\", \"technology\", \"activity\"]\n",
    ")\n",
    "pd.read_csv(\"test.csv\").fillna(\"\")"
   ]
  },
  {
   "cell_type": "markdown",
   "source": [
    "## Create several scenarios"
   ],
   "metadata": {
    "collapsed": false
   }
  },
  {
   "cell_type": "code",
   "execution_count": 77,
   "outputs": [
    {
     "data": {
      "text/plain": "[{'name': 'normal scenario',\n  'activities': {'electricity production, wind, 1-3MW turbine, onshore': ('kilowatt_hour',\n    1),\n   'electricity production, wind, 1-3MW turbine, offshore': ('kilowatt_hour',\n    1),\n   'electricity production, solar tower power plant, 20 MW': ('kilowatt_hour',\n    1),\n   'electricity production, solar thermal parabolic trough, 50 MW': ('kilowatt_hour',\n    1)}},\n {'name': None,\n  'activities': {'electricity production, wind, 1-3MW turbine, onshore': ('kilowatt_hour',\n    10),\n   'electricity production, wind, 1-3MW turbine, offshore': ('kilowatt_hour',\n    2),\n   'electricity production, solar tower power plant, 20 MW': ('kilowatt_hour',\n    8),\n   'electricity production, solar thermal parabolic trough, 50 MW': ('kilowatt_hour',\n    10)}},\n {'name': None,\n  'activities': {'electricity production, wind, 1-3MW turbine, onshore': ('kilowatt_hour',\n    3),\n   'electricity production, wind, 1-3MW turbine, offshore': ('kilowatt_hour',\n    7),\n   'electricity production, solar tower power plant, 20 MW': ('kilowatt_hour',\n    6),\n   'electricity production, solar thermal parabolic trough, 50 MW': ('kilowatt_hour',\n    1)}}]"
     },
     "execution_count": 77,
     "metadata": {},
     "output_type": "execute_result"
    }
   ],
   "source": [
    "from typing import Optional\n",
    "from random import randint\n",
    "\n",
    "\n",
    "def create_normal_scenario():\n",
    "    return {\n",
    "        \"name\": \"normal scenario\",\n",
    "        \"activities\": {\n",
    "            act: (\"kilowatt_hour\", 1) for act in hierarchy_experiment.activities_names\n",
    "        },\n",
    "    }\n",
    "\n",
    "\n",
    "def create_random_scenario(scneario_name: Optional[str] = None):\n",
    "    return {\n",
    "        \"name\": scneario_name,\n",
    "        \"activities\": {\n",
    "            act: (\"kilowatt_hour\", randint(1, 10))\n",
    "            for act in hierarchy_experiment.activities_names\n",
    "        },\n",
    "    }\n",
    "\n",
    "\n",
    "scenarios_raw_data = deepcopy(hierarchy_raw_data)\n",
    "scenarios_raw_data[\"scenarios\"] = [\n",
    "    create_normal_scenario(),\n",
    "    create_random_scenario(),\n",
    "    create_random_scenario(),\n",
    "]\n",
    "\n",
    "scenarios_raw_data[\"scenarios\"]"
   ],
   "metadata": {
    "collapsed": false,
    "ExecuteTime": {
     "end_time": "2024-01-15T11:11:16.211664779Z",
     "start_time": "2024-01-15T11:11:16.205075362Z"
    }
   }
  },
  {
   "cell_type": "code",
   "execution_count": 78,
   "outputs": [],
   "source": [
    "scenarios_experiment = Experiment(scenarios_raw_data)"
   ],
   "metadata": {
    "collapsed": false,
    "ExecuteTime": {
     "end_time": "2024-01-15T11:11:16.347122560Z",
     "start_time": "2024-01-15T11:11:16.205220478Z"
    }
   }
  },
  {
   "cell_type": "markdown",
   "source": [
    " ## Run the experiment for the 3rd time\n",
    "This time will likely take some more time since we need to run 2 scenarios. "
   ],
   "metadata": {
    "collapsed": false
   }
  },
  {
   "cell_type": "code",
   "execution_count": 79,
   "outputs": [
    {
     "name": "stdout",
     "output_type": "stream",
     "text": [
      "2024-01-15 12:11:16,331 - ............enbios.demos.enbios.base - INFO - Running scenario 'normal scenario'\n",
      "2024-01-15 12:11:57,892 - ............enbios.demos.enbios.base - INFO - Running scenario 'Scenario 1'\n",
      "2024-01-15 12:12:43,043 - ............enbios.demos.enbios.base - INFO - Running scenario 'Scenario 2'\n"
     ]
    }
   ],
   "source": [
    "_ = scenarios_experiment.run()\n",
    "# don't print the whole result"
   ],
   "metadata": {
    "collapsed": false,
    "ExecuteTime": {
     "end_time": "2024-01-15T11:13:31.140910173Z",
     "start_time": "2024-01-15T11:11:16.332892485Z"
    }
   }
  },
  {
   "cell_type": "code",
   "execution_count": 80,
   "outputs": [],
   "source": [
    "scenarios_experiment.scenarios[0].results_to_csv(\n",
    "    \"s1.csv\", level_names=[\"root\", \"technology\", \"activity\"]\n",
    ")\n",
    "pd.read_csv(\"s1.csv\").fillna(\"\")\n",
    "Path(\"s1.csv\").unlink()  # delete the file again"
   ],
   "metadata": {
    "collapsed": false,
    "ExecuteTime": {
     "end_time": "2024-01-15T11:13:31.188114999Z",
     "start_time": "2024-01-15T11:13:31.180860439Z"
    }
   }
  },
  {
   "cell_type": "markdown",
   "source": [
    "We can also now run any new scenario configuration for the given experiment using `run_scenario_config`"
   ],
   "metadata": {
    "collapsed": false
   }
  },
  {
   "cell_type": "code",
   "execution_count": 81,
   "outputs": [
    {
     "name": "stdout",
     "output_type": "stream",
     "text": [
      "2024-01-15 12:13:31,170 - ............enbios.demos.enbios.base - INFO - Running scenario 'new scenario'\n"
     ]
    }
   ],
   "source": [
    "new_random_scenario = create_random_scenario()\n",
    "new_random_scenario[\"name\"] = \"new scenario\"\n",
    "new_results = scenarios_experiment.run_scenario_config(new_random_scenario)"
   ],
   "metadata": {
    "collapsed": false,
    "ExecuteTime": {
     "end_time": "2024-01-15T11:14:16.320339754Z",
     "start_time": "2024-01-15T11:13:31.181078787Z"
    }
   }
  },
  {
   "cell_type": "markdown",
   "source": [
    "## Inspecting the results\n",
    "\n",
    "We can now do some transformations of the results. For that is useful to know how to retrieve is singular result from a scenario result. \n",
    "The result of a scenario is a tree structure, where the nodes `name`s are activity aliases or names defined in the hierarchy. With the function of BasicTreeNode.find_child_by_name we can directly access the result of a node.    \n",
    "\n",
    "Following we transform the results into a dictionary of the following structure:\n",
    "```json\n",
    "{\n",
    "    \"node\": {\n",
    "        \"method\": \"[list of results for each scenario]\"\n",
    "    }\n",
    "}\n",
    "```"
   ],
   "metadata": {
    "collapsed": false
   }
  },
  {
   "cell_type": "code",
   "execution_count": 82,
   "outputs": [
    {
     "data": {
      "text/plain": "{'electricity production, wind, 1-3MW turbine, onshore': {'GWP1000': [{'unit': 'kg CO2-Eq',\n    'magnitude': 0.015243611332791748},\n   {'unit': 'kg CO2-Eq', 'magnitude': 0.15243611332532284},\n   {'unit': 'kg CO2-Eq', 'magnitude': 0.045730834001617954}],\n  'FETP': [{'unit': 'kg 1,4-DCB-Eq', 'magnitude': 0.0064256080745064845},\n   {'unit': 'kg 1,4-DCB-Eq', 'magnitude': 0.06425608074975031},\n   {'unit': 'kg 1,4-DCB-Eq', 'magnitude': 0.0192768242242305}],\n  'HTPnc': [{'unit': 'kg 1,4-DCB-Eq', 'magnitude': 0.03545478768772618},\n   {'unit': 'kg 1,4-DCB-Eq', 'magnitude': 0.3545478769436299},\n   {'unit': 'kg 1,4-DCB-Eq', 'magnitude': 0.10636436307514271}]},\n 'electricity production, wind, 1-3MW turbine, offshore': {'GWP1000': [{'unit': 'kg CO2-Eq',\n    'magnitude': 0.017020448257678778},\n   {'unit': 'kg CO2-Eq', 'magnitude': 0.034040896515357556},\n   {'unit': 'kg CO2-Eq', 'magnitude': 0.11914313779678103}],\n  'FETP': [{'unit': 'kg 1,4-DCB-Eq', 'magnitude': 0.004589452362081367},\n   {'unit': 'kg 1,4-DCB-Eq', 'magnitude': 0.009178904724162733},\n   {'unit': 'kg 1,4-DCB-Eq', 'magnitude': 0.032126166530582596}],\n  'HTPnc': [{'unit': 'kg 1,4-DCB-Eq', 'magnitude': 0.046378418526606936},\n   {'unit': 'kg 1,4-DCB-Eq', 'magnitude': 0.09275683705321387},\n   {'unit': 'kg 1,4-DCB-Eq', 'magnitude': 0.32464892962566394}]},\n 'electricity production, solar tower power plant, 20 MW': {'GWP1000': [{'unit': 'kg CO2-Eq',\n    'magnitude': 0.048204581910669446},\n   {'unit': 'kg CO2-Eq', 'magnitude': 0.38563665528535557},\n   {'unit': 'kg CO2-Eq', 'magnitude': 0.2892274914639682}],\n  'FETP': [{'unit': 'kg 1,4-DCB-Eq', 'magnitude': 0.003242319969953703},\n   {'unit': 'kg 1,4-DCB-Eq', 'magnitude': 0.025938559759629623},\n   {'unit': 'kg 1,4-DCB-Eq', 'magnitude': 0.019453919819704724}],\n  'HTPnc': [{'unit': 'kg 1,4-DCB-Eq', 'magnitude': 0.027197097783352518},\n   {'unit': 'kg 1,4-DCB-Eq', 'magnitude': 0.21757678226682015},\n   {'unit': 'kg 1,4-DCB-Eq', 'magnitude': 0.16318258669983277}]},\n 'electricity production, solar thermal parabolic trough, 50 MW': {'GWP1000': [{'unit': 'kg CO2-Eq',\n    'magnitude': 0.054196188793569924},\n   {'unit': 'kg CO2-Eq', 'magnitude': 0.5419618879356717},\n   {'unit': 'kg CO2-Eq', 'magnitude': 0.054196188793569924}],\n  'FETP': [{'unit': 'kg 1,4-DCB-Eq', 'magnitude': 0.003093075909994876},\n   {'unit': 'kg 1,4-DCB-Eq', 'magnitude': 0.03093075909996125},\n   {'unit': 'kg 1,4-DCB-Eq', 'magnitude': 0.003093075909994876}],\n  'HTPnc': [{'unit': 'kg 1,4-DCB-Eq', 'magnitude': 0.027781457632111747},\n   {'unit': 'kg 1,4-DCB-Eq', 'magnitude': 0.27781457632129947},\n   {'unit': 'kg 1,4-DCB-Eq', 'magnitude': 0.027781457632111747}]}}"
     },
     "execution_count": 82,
     "metadata": {},
     "output_type": "execute_result"
    }
   ],
   "source": [
    "all_results = {}\n",
    "for activity in scenarios_experiment.activities_names:\n",
    "    all_results[activity] = {method: [] for method in scenarios_experiment.method_names}\n",
    "    for scenario in scenarios_experiment.scenarios:\n",
    "        activity_result = scenario.result_tree.find_subnode_by_name(activity)\n",
    "        for method, score in activity_result.data.results.items():\n",
    "            all_results[activity][method].append(score.model_dump(exclude_defaults=True))\n",
    "\n",
    "all_results"
   ],
   "metadata": {
    "collapsed": false,
    "ExecuteTime": {
     "end_time": "2024-01-15T11:14:16.361631031Z",
     "start_time": "2024-01-15T11:14:16.360834751Z"
    }
   }
  },
  {
   "cell_type": "markdown",
   "source": [
    "## Let's pickle the file in order to use it in the other demo notebooks"
   ],
   "metadata": {
    "collapsed": false
   }
  },
  {
   "cell_type": "code",
   "outputs": [],
   "source": [
    "import pickle\n",
    "\n",
    "pickle.dump(scenarios_experiment, open(\"exp.pickle\", \"wb\"))"
   ],
   "metadata": {
    "collapsed": false,
    "ExecuteTime": {
     "end_time": "2024-01-15T11:14:16.362192796Z",
     "start_time": "2024-01-15T11:14:16.361087880Z"
    }
   },
   "execution_count": 83
  }
 ],
 "metadata": {
  "kernelspec": {
   "display_name": "Python 3 (ipykernel)",
   "language": "python",
   "name": "python3"
  },
  "language_info": {
   "codemirror_mode": {
    "name": "ipython",
    "version": 3
   },
   "file_extension": ".py",
   "mimetype": "text/x-python",
   "name": "python",
   "nbconvert_exporter": "python",
   "pygments_lexer": "ipython3",
   "version": "3.11.4"
  }
 },
 "nbformat": 4,
 "nbformat_minor": 1
}
