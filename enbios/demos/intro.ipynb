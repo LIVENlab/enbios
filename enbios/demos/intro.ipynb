{
 "cells": [
  {
   "cell_type": "code",
   "execution_count": 2,
   "outputs": [],
   "source": [
    "from copy import deepcopy\n",
    "\n",
    "import bw2data\n",
    "import pandas as pd\n",
    "\n",
    "from enbios.base.experiment import Experiment\n",
    "from enbios.bw2.util import report\n",
    "from enbios.models.experiment_base_models import ExperimentData, AdapterModel"
   ],
   "metadata": {
    "collapsed": false,
    "ExecuteTime": {
     "end_time": "2023-12-21T15:04:48.828845986Z",
     "start_time": "2023-12-21T15:04:48.821997831Z"
    }
   }
  },
  {
   "cell_type": "code",
   "execution_count": 3,
   "metadata": {
    "ExecuteTime": {
     "end_time": "2023-12-21T15:04:49.236543546Z",
     "start_time": "2023-12-21T15:04:49.202467388Z"
    }
   },
   "outputs": [
    {
     "name": "stdout",
     "output_type": "stream",
     "text": [
      "Project: default\n",
      "['db']\n",
      "Project: ecoinvent_391\n",
      "['biosphere3', 'ecoinvent_391_cutoff']\n",
      "Project: supply chain graph\n",
      "['bike']\n",
      "Project: nonlinear-method-test\n",
      "['db']\n"
     ]
    }
   ],
   "source": [
    "# get an overview of brightway projects and databases\n",
    "report()"
   ]
  },
  {
   "cell_type": "code",
   "execution_count": 4,
   "metadata": {
    "ExecuteTime": {
     "end_time": "2023-12-21T15:04:50.277251529Z",
     "start_time": "2023-12-21T15:04:50.261095905Z"
    }
   },
   "outputs": [],
   "source": [
    "# select the brightway project and database (some ecoinvent database)\n",
    "PROJECT_NAME = \"ecoinvent_391\"\n",
    "DATABASE = \"ecoinvent_391_cutoff\"\n",
    "\n",
    "bw2data.projects.set_current(PROJECT_NAME)\n",
    "db = bw2data.Database(DATABASE)"
   ]
  },
  {
   "cell_type": "code",
   "execution_count": 5,
   "outputs": [
    {
     "name": "stdout",
     "output_type": "stream",
     "text": [
      "{\n",
      "  \"simple-assignment-adapter\": {\n",
      "    \"activity_indicator\": \"assign\",\n",
      "    \"configs\": {\n",
      "      \"activity\": {\n",
      "        \"$defs\": {\n",
      "          \"ActivityOutput\": {\n",
      "            \"properties\": {\n",
      "              \"unit\": {\n",
      "                \"title\": \"Unit\",\n",
      "                \"type\": \"string\"\n",
      "              },\n",
      "              \"magnitude\": {\n",
      "                \"default\": 1.0,\n",
      "                \"title\": \"Magnitude\",\n",
      "                \"type\": \"number\"\n",
      "              }\n",
      "            },\n",
      "            \"required\": [\n",
      "              \"unit\"\n",
      "            ],\n",
      "            \"title\": \"ActivityOutput\",\n",
      "            \"type\": \"object\"\n",
      "          },\n",
      "          \"ResultValue\": {\n",
      "            \"properties\": {\n",
      "              \"unit\": {\n",
      "                \"title\": \"Unit\",\n",
      "                \"type\": \"string\"\n",
      "              },\n",
      "              \"amount\": {\n",
      "                \"anyOf\": [\n",
      "                  {\n",
      "                    \"type\": \"number\"\n",
      "                  },\n",
      "                  {\n",
      "                    \"type\": \"null\"\n",
      "                  }\n",
      "                ],\n",
      "                \"default\": 0,\n",
      "                \"title\": \"Amount\"\n",
      "              },\n",
      "              \"multi_amount\": {\n",
      "                \"anyOf\": [\n",
      "                  {\n",
      "                    \"items\": {\n",
      "                      \"type\": \"number\"\n",
      "                    },\n",
      "                    \"type\": \"array\"\n",
      "                  },\n",
      "                  {\n",
      "                    \"type\": \"null\"\n",
      "                  }\n",
      "                ],\n",
      "                \"title\": \"Multi Amount\"\n",
      "              }\n",
      "            },\n",
      "            \"required\": [\n",
      "              \"unit\"\n",
      "            ],\n",
      "            \"title\": \"ResultValue\",\n",
      "            \"type\": \"object\"\n",
      "          }\n",
      "        },\n",
      "        \"properties\": {\n",
      "          \"activity\": {\n",
      "            \"title\": \"Activity\",\n",
      "            \"type\": \"string\"\n",
      "          },\n",
      "          \"output_unit\": {\n",
      "            \"title\": \"Output Unit\",\n",
      "            \"type\": \"string\"\n",
      "          },\n",
      "          \"default_output\": {\n",
      "            \"$ref\": \"#/$defs/ActivityOutput\"\n",
      "          },\n",
      "          \"default_impacts\": {\n",
      "            \"anyOf\": [\n",
      "              {\n",
      "                \"additionalProperties\": {\n",
      "                  \"$ref\": \"#/$defs/ResultValue\"\n",
      "                },\n",
      "                \"type\": \"object\"\n",
      "              },\n",
      "              {\n",
      "                \"type\": \"null\"\n",
      "              }\n",
      "            ],\n",
      "            \"default\": null,\n",
      "            \"title\": \"Default Impacts\"\n",
      "          },\n",
      "          \"scenario_outputs\": {\n",
      "            \"anyOf\": [\n",
      "              {\n",
      "                \"additionalProperties\": {\n",
      "                  \"$ref\": \"#/$defs/ActivityOutput\"\n",
      "                },\n",
      "                \"type\": \"object\"\n",
      "              },\n",
      "              {\n",
      "                \"type\": \"null\"\n",
      "              }\n",
      "            ],\n",
      "            \"default\": null,\n",
      "            \"title\": \"Scenario Outputs\"\n",
      "          },\n",
      "          \"scenario_impacts\": {\n",
      "            \"anyOf\": [\n",
      "              {\n",
      "                \"additionalProperties\": {\n",
      "                  \"additionalProperties\": {\n",
      "                    \"$ref\": \"#/$defs/ResultValue\"\n",
      "                  },\n",
      "                  \"type\": \"object\"\n",
      "                },\n",
      "                \"type\": \"object\"\n",
      "              },\n",
      "              {\n",
      "                \"type\": \"null\"\n",
      "              }\n",
      "            ],\n",
      "            \"default\": null,\n",
      "            \"title\": \"Scenario Impacts\"\n",
      "          }\n",
      "        },\n",
      "        \"required\": [\n",
      "          \"activity\",\n",
      "          \"output_unit\",\n",
      "          \"default_output\"\n",
      "        ],\n",
      "        \"title\": \"SimpleAssignment\",\n",
      "        \"type\": \"object\"\n",
      "      }\n",
      "    }\n",
      "  },\n",
      "  \"brightway-adapter\": {\n",
      "    \"activity_indicator\": \"bw\",\n",
      "    \"configs\": {\n",
      "      \"adapter\": {\n",
      "        \"description\": \"BWAdapterConfig(*, bw_project: str, use_k_bw_distributions: int = 1, store_raw_results: Optional[bool] = False, store_lca_object: Optional[bool] = False)\",\n",
      "        \"properties\": {\n",
      "          \"bw_project\": {\n",
      "            \"title\": \"Bw Project\",\n",
      "            \"type\": \"string\"\n",
      "          },\n",
      "          \"use_k_bw_distributions\": {\n",
      "            \"default\": 1,\n",
      "            \"description\": \"Number of samples to use for MonteCarlo\",\n",
      "            \"title\": \"Use K Bw Distributions\",\n",
      "            \"type\": \"integer\"\n",
      "          },\n",
      "          \"store_raw_results\": {\n",
      "            \"anyOf\": [\n",
      "              {\n",
      "                \"type\": \"boolean\"\n",
      "              },\n",
      "              {\n",
      "                \"type\": \"null\"\n",
      "              }\n",
      "            ],\n",
      "            \"default\": false,\n",
      "            \"title\": \"Store Raw Results\"\n",
      "          },\n",
      "          \"store_lca_object\": {\n",
      "            \"anyOf\": [\n",
      "              {\n",
      "                \"type\": \"boolean\"\n",
      "              },\n",
      "              {\n",
      "                \"type\": \"null\"\n",
      "              }\n",
      "            ],\n",
      "            \"default\": false,\n",
      "            \"title\": \"Store Lca Object\"\n",
      "          }\n",
      "        },\n",
      "        \"required\": [\n",
      "          \"bw_project\"\n",
      "        ],\n",
      "        \"title\": \"BWAdapterConfig\",\n",
      "        \"type\": \"object\"\n",
      "      },\n",
      "      \"activity\": {\n",
      "        \"$defs\": {\n",
      "          \"ActivityOutput\": {\n",
      "            \"properties\": {\n",
      "              \"unit\": {\n",
      "                \"title\": \"Unit\",\n",
      "                \"type\": \"string\"\n",
      "              },\n",
      "              \"magnitude\": {\n",
      "                \"default\": 1.0,\n",
      "                \"title\": \"Magnitude\",\n",
      "                \"type\": \"number\"\n",
      "              }\n",
      "            },\n",
      "            \"required\": [\n",
      "              \"unit\"\n",
      "            ],\n",
      "            \"title\": \"ActivityOutput\",\n",
      "            \"type\": \"object\"\n",
      "          }\n",
      "        },\n",
      "        \"properties\": {\n",
      "          \"name\": {\n",
      "            \"default\": null,\n",
      "            \"description\": \"Search:Name of the brightway activity\",\n",
      "            \"title\": \"Name\",\n",
      "            \"type\": \"string\"\n",
      "          },\n",
      "          \"database\": {\n",
      "            \"default\": null,\n",
      "            \"description\": \"Search:Name of the database to search first\",\n",
      "            \"title\": \"Database\",\n",
      "            \"type\": \"string\"\n",
      "          },\n",
      "          \"code\": {\n",
      "            \"default\": null,\n",
      "            \"description\": \"Search:Brightway activity code\",\n",
      "            \"title\": \"Code\",\n",
      "            \"type\": \"string\"\n",
      "          },\n",
      "          \"location\": {\n",
      "            \"default\": null,\n",
      "            \"description\": \"Search:Location filter\",\n",
      "            \"title\": \"Location\",\n",
      "            \"type\": \"string\"\n",
      "          },\n",
      "          \"unit\": {\n",
      "            \"default\": null,\n",
      "            \"description\": \"Search: unit filter of results\",\n",
      "            \"title\": \"Unit\",\n",
      "            \"type\": \"string\"\n",
      "          },\n",
      "          \"default_output\": {\n",
      "            \"allOf\": [\n",
      "              {\n",
      "                \"$ref\": \"#/$defs/ActivityOutput\"\n",
      "              }\n",
      "            ],\n",
      "            \"default\": null,\n",
      "            \"description\": \"Default output of the activity for all scenarios\"\n",
      "          }\n",
      "        },\n",
      "        \"title\": \"BrightwayActivityConfig\",\n",
      "        \"type\": \"object\"\n",
      "      }\n",
      "    }\n",
      "  }\n",
      "}\n"
     ]
    }
   ],
   "source": [
    "import json\n",
    "\n",
    "print(json.dumps(Experiment.get_builtin_adapters(), indent=2))"
   ],
   "metadata": {
    "collapsed": false,
    "ExecuteTime": {
     "end_time": "2023-12-21T15:04:50.959937239Z",
     "start_time": "2023-12-21T15:04:50.955879238Z"
    }
   }
  },
  {
   "cell_type": "markdown",
   "metadata": {},
   "source": [
    "# Simple example experiment\n",
    "In this first simple example we calculate the impact of 4 wind turbine activities in spain, using 2 different methods."
   ]
  },
  {
   "cell_type": "code",
   "execution_count": 4,
   "metadata": {
    "ExecuteTime": {
     "end_time": "2023-12-21T13:23:07.086603243Z",
     "start_time": "2023-12-21T13:23:06.872983464Z"
    }
   },
   "outputs": [
    {
     "name": "stdout",
     "output_type": "stream",
     "text": [
      "Excluding 319 filtered results\n"
     ]
    },
    {
     "data": {
      "text/plain": "['electricity production, wind, >3MW turbine, onshore' (kilowatt hour, ES, None),\n 'electricity production, wind, 1-3MW turbine, onshore' (kilowatt hour, ES, None)]"
     },
     "execution_count": 4,
     "metadata": {},
     "output_type": "execute_result"
    }
   ],
   "source": [
    "wind_turbines_spain = db.search(\n",
    "    \"electricity production, wind, 1-3MW turbine, onshore\", filter={\"location\": \"ES\"}\n",
    ")[:2]\n",
    "wind_turbines_spain"
   ]
  },
  {
   "cell_type": "code",
   "execution_count": 5,
   "metadata": {
    "ExecuteTime": {
     "end_time": "2023-12-21T13:27:34.183557544Z",
     "start_time": "2023-12-21T13:27:34.142234997Z"
    }
   },
   "outputs": [],
   "source": [
    "# for the experiment we need to specify some (even if very simple) hierarchy made out of activity nodes at the bottom. \n",
    "# Activity notes\n",
    "# we are using the brightway adapter, that is integrated into enbios.\n",
    "\n",
    "experiment_activities = []\n",
    "\n",
    "for activity in wind_turbines_spain:\n",
    "    experiment_activities.append(\n",
    "        {\"name\": activity[\"name\"], \"adapter\": \"bw\", \"config\": {\n",
    "            \"code\": activity[\"code\"]\n",
    "        }}\n",
    "    )"
   ]
  },
  {
   "cell_type": "code",
   "execution_count": 6,
   "metadata": {
    "ExecuteTime": {
     "end_time": "2023-11-14T17:08:09.788393693Z",
     "start_time": "2023-11-14T17:08:09.787670975Z"
    }
   },
   "outputs": [
    {
     "data": {
      "text/plain": "[{'id': {'name': 'electricity production, wind, >3MW turbine, onshore',\n   'code': '0d48975a3766c13e68cedeb6c24f6f74'},\n  'output': ['kilowatt_hour', 3]},\n {'id': {'name': 'electricity production, wind, 1-3MW turbine, onshore',\n   'code': 'ed3da88fc23311ee183e9ffd376de89b'}}]"
     },
     "execution_count": 6,
     "metadata": {},
     "output_type": "execute_result"
    }
   ],
   "source": [
    "# we can modify the output of the activities, by default it is the reference product (1 of the activity unit)\n",
    "experiment_activities[0][\"config\"][\"default_output\"] = [\"kilowatt_hour\", 3]\n",
    "experiment_activities"
   ]
  },
  {
   "cell_type": "code",
   "execution_count": 6,
   "metadata": {
    "ExecuteTime": {
     "end_time": "2023-12-21T15:07:33.190589169Z",
     "start_time": "2023-12-21T15:07:33.146918137Z"
    }
   },
   "outputs": [
    {
     "data": {
      "text/plain": "[('Ecological Scarcity 2021', 'emissions to water', 'water pollutants'),\n ('EDIP 2003', 'non-renewable resources', 'copper')]"
     },
     "execution_count": 6,
     "metadata": {},
     "output_type": "execute_result"
    }
   ],
   "source": [
    "# select 2 random methods and convert them into the form for enbios2\n",
    "experiment_methods = [bw2data.methods.random() for _ in range(2)]\n",
    "\n",
    "experiment_methods"
   ]
  },
  {
   "cell_type": "code",
   "execution_count": null,
   "outputs": [],
   "source": [
    "# alternatively, we could just specify two methods\n",
    "experiment_methods = [\n",
    "    (\n",
    "        \"ReCiPe 2016 v1.03, midpoint (H)\",\n",
    "        \"climate change\",\n",
    "        \"global warming potential (GWP1000)\",\n",
    "    ),\n",
    "    (\n",
    "        \"ReCiPe 2016 v1.03, midpoint (H)\",\n",
    "        \"ecotoxicity: freshwater\",\n",
    "        \"freshwater ecotoxicity potential (FETP)\",\n",
    "    )\n",
    "]"
   ],
   "metadata": {
    "collapsed": false
   }
  },
  {
   "cell_type": "code",
   "execution_count": null,
   "metadata": {},
   "outputs": [],
   "source": [
    "# let's store the raw data, because we want to modify it later\n",
    "simple_raw_data = {\n",
    "    \"adapters\": [{\"config\": {\n",
    "        \"bw_project\": PROJECT_NAME\n",
    "    },\n",
    "        \"methods\": experiment_methods\n",
    "    }]\n",
    "}\n",
    "\n",
    "# make a first validation of the experiment data\n",
    "exp_data = ExperimentData(**simple_raw_data)"
   ]
  },
  {
   "cell_type": "code",
   "execution_count": null,
   "metadata": {},
   "outputs": [],
   "source": [
    "# create experiment object. This will validate the activities, their outputs, the methods and the scenarios.\n",
    "simple_experiment: Experiment = Experiment(exp_data)"
   ]
  },
  {
   "cell_type": "code",
   "execution_count": null,
   "metadata": {},
   "outputs": [],
   "source": [
    "print(simple_experiment.info())"
   ]
  },
  {
   "cell_type": "code",
   "execution_count": null,
   "outputs": [],
   "source": [
    "ExperimentData(adapters=[AdapterModel(adapter_name=\"bw\", config={\"bw_project\": PROJECT_NAME})])"
   ],
   "metadata": {
    "collapsed": false
   }
  },
  {
   "cell_type": "markdown",
   "metadata": {},
   "source": [
    "## Running the experiment"
   ]
  },
  {
   "cell_type": "code",
   "execution_count": null,
   "metadata": {},
   "outputs": [],
   "source": [
    "# run all scenarios at once\n",
    "results = simple_experiment.run()"
   ]
  },
  {
   "cell_type": "markdown",
   "metadata": {},
   "source": [
    "# Result\n",
    "The result is a dictionary of scenario names, where for each scenario we have a tree (representing the activity hierarchy). Each node (`BasicTreeNode`) in the tree has a `data` object, which is of the type `ScenarioResultNodeData`, which have the fields `output`, `result` and `bw_activity`."
   ]
  },
  {
   "cell_type": "code",
   "execution_count": null,
   "metadata": {},
   "outputs": [],
   "source": [
    "# from enbios.generic.tree.basic_tree import BasicTreeNode\n",
    "# from enbios.models.experiment_models import ScenarioResultNodeData\n",
    "\n",
    "results"
   ]
  },
  {
   "cell_type": "code",
   "execution_count": null,
   "metadata": {},
   "outputs": [],
   "source": [
    "print(results[\"default scenario\"].info())\n",
    "print(\"---\")\n",
    "for children in results[\"default scenario\"]:\n",
    "    print(children.info())\n",
    "    print(\"---\")"
   ]
  },
  {
   "cell_type": "code",
   "execution_count": null,
   "metadata": {},
   "outputs": [],
   "source": [
    "# we can dump the results into a csv file\n",
    "simple_experiment.results_to_csv(\"test.csv\")\n",
    "pd.read_csv(\"test.csv\").fillna(\"\")"
   ]
  },
  {
   "cell_type": "code",
   "execution_count": null,
   "metadata": {},
   "outputs": [],
   "source": [
    "simple_experiment.scenarios[0].result_to_dict()"
   ]
  },
  {
   "cell_type": "markdown",
   "metadata": {},
   "source": [
    "## Add a technology hierarchy (dendrogram) \n",
    "Let's now add a few more activities to the experiment and create a hierarchy of activities."
   ]
  },
  {
   "cell_type": "code",
   "execution_count": null,
   "metadata": {},
   "outputs": [],
   "source": [
    "solar_spain = db.search(\"solar\", filter={\"location\": \"ES\"})[:2]\n",
    "solar_spain"
   ]
  },
  {
   "cell_type": "code",
   "execution_count": null,
   "metadata": {},
   "outputs": [],
   "source": [
    "hierarchy_raw_data = deepcopy(simple_raw_data)\n",
    "\n",
    "hierarchy_raw_data[\"activities\"].extend(\n",
    "    [\n",
    "        {\"id\": {\"name\": activity[\"name\"], \"code\": activity[\"code\"]}}\n",
    "        for activity in solar_spain\n",
    "    ]\n",
    ")"
   ]
  },
  {
   "cell_type": "code",
   "execution_count": null,
   "metadata": {},
   "outputs": [],
   "source": [
    "hierarchy = {\n",
    "    \"wind\": [wind_act[\"name\"] for wind_act in wind_turbines_spain],\n",
    "    \"solar\": [solar_act[\"name\"] for solar_act in solar_spain],\n",
    "}\n",
    "\n",
    "hierarchy_raw_data[\"hierarchy\"] = hierarchy\n",
    "hierarchy"
   ]
  },
  {
   "cell_type": "code",
   "execution_count": null,
   "metadata": {},
   "outputs": [],
   "source": [
    "hierarchy_experiment = Experiment(hierarchy_raw_data)\n",
    "hierarchy_experiment"
   ]
  },
  {
   "cell_type": "markdown",
   "source": [
    "# Run the 2nd experiment"
   ],
   "metadata": {
    "collapsed": false
   }
  },
  {
   "cell_type": "code",
   "execution_count": null,
   "metadata": {},
   "outputs": [],
   "source": [
    "hierarchy_experiment.run()"
   ]
  },
  {
   "cell_type": "code",
   "execution_count": null,
   "metadata": {},
   "outputs": [],
   "source": [
    "# print(json.dumps((exp.scenarios[0].result_to_dict()), indent=2))\n",
    "hierarchy_experiment.scenarios[0].results_to_csv(\n",
    "    \"test.csv\", level_names=[\"root\", \"technology\", \"activity\"]\n",
    ")\n",
    "pd.read_csv(\"test.csv\").fillna(\"\")"
   ]
  },
  {
   "cell_type": "markdown",
   "source": [
    "## Create several scenarios"
   ],
   "metadata": {
    "collapsed": false
   }
  },
  {
   "cell_type": "code",
   "execution_count": null,
   "outputs": [],
   "source": [
    "from random import randint\n",
    "\n",
    "activity_aliases = hierarchy_experiment.activities_aliases\n",
    "\n",
    "\n",
    "def create_random_scenario():\n",
    "    return {\n",
    "        \"activities\": {act: [\"kilowatt_hour\", randint(1, 10)] for act in activity_aliases}\n",
    "    }\n",
    "\n",
    "\n",
    "scenarios_raw_data = deepcopy(hierarchy_raw_data)\n",
    "\n",
    "scenarios_raw_data[\"scenarios\"] = [create_random_scenario(), create_random_scenario()]\n",
    "\n",
    "scenarios_raw_data[\"scenarios\"]"
   ],
   "metadata": {
    "collapsed": false
   }
  },
  {
   "cell_type": "code",
   "execution_count": null,
   "outputs": [],
   "source": [
    "scenarios_experiment = Experiment(scenarios_raw_data)"
   ],
   "metadata": {
    "collapsed": false
   }
  },
  {
   "cell_type": "markdown",
   "source": [
    "## Run the experiment for the 3rd time\n",
    "This time will likely take some more time since we need to run 2 scenarios. "
   ],
   "metadata": {
    "collapsed": false
   }
  },
  {
   "cell_type": "code",
   "execution_count": null,
   "outputs": [],
   "source": [
    "_ = scenarios_experiment.run()"
   ],
   "metadata": {
    "collapsed": false
   }
  },
  {
   "cell_type": "code",
   "execution_count": null,
   "outputs": [],
   "source": [
    "scenarios_experiment.scenarios[0].results_to_csv(\n",
    "    \"s1.csv\", level_names=[\"root\", \"technology\", \"activity\"]\n",
    ")\n",
    "pd.read_csv(\"s1.csv\").fillna(\"\")"
   ],
   "metadata": {
    "collapsed": false
   }
  },
  {
   "cell_type": "markdown",
   "source": [
    "## Inspecting the results\n",
    "\n",
    "We can now do some transformations of the results. For that is useful to know how to retrieve is singular result from a scenario result. \n",
    "The result of a scenario is a tree structure, where the nodes `name`s are activity aliases or names defined in the hierarchy. With the function of BasicTreeNode.find_child_by_name we can directly access the result of a node.    \n",
    "\n",
    "Following we transform the results into a dictionary of the following structure:\n",
    "```json\n",
    "{\n",
    "    \"activity_alias\": {\n",
    "        \"method_alias\": \"[list of results for each scenario]\"\n",
    "    }\n",
    "}\n",
    "```"
   ],
   "metadata": {
    "collapsed": false
   }
  },
  {
   "cell_type": "code",
   "execution_count": null,
   "outputs": [],
   "source": [
    "all_results = {}\n",
    "for activity in activity_aliases:\n",
    "    all_results[activity] = {\n",
    "        method_alias: [] for method_alias in scenarios_experiment.method_aliases\n",
    "    }\n",
    "    for scenario in scenarios_experiment.scenarios:\n",
    "        activity_result = scenario.result_tree.find_child_by_name(activity)\n",
    "        for method, score in activity_result.data.results.items():\n",
    "            all_results[activity][method].append(score)\n",
    "\n",
    "all_results"
   ],
   "metadata": {
    "collapsed": false
   }
  },
  {
   "cell_type": "code",
   "execution_count": null,
   "outputs": [],
   "source": [
    "distribution_raw_data = deepcopy(simple_raw_data)\n",
    "distribution_raw_data[\"config\"] = {\"use_k_bw_distributions\": 5}"
   ],
   "metadata": {
    "collapsed": false
   }
  },
  {
   "cell_type": "code",
   "execution_count": null,
   "outputs": [],
   "source": [
    "distribution_experiment = Experiment(distribution_raw_data)\n",
    "results = distribution_experiment.run()"
   ],
   "metadata": {
    "collapsed": false
   }
  },
  {
   "cell_type": "code",
   "execution_count": null,
   "outputs": [],
   "source": [
    "results[\"default scenario\"].data.distribution_results"
   ],
   "metadata": {
    "collapsed": false
   }
  },
  {
   "cell_type": "code",
   "execution_count": null,
   "outputs": [],
   "source": [],
   "metadata": {
    "collapsed": false
   }
  }
 ],
 "metadata": {
  "kernelspec": {
   "display_name": "Python 3 (ipykernel)",
   "language": "python",
   "name": "python3"
  },
  "language_info": {
   "codemirror_mode": {
    "name": "ipython",
    "version": 3
   },
   "file_extension": ".py",
   "mimetype": "text/x-python",
   "name": "python",
   "nbconvert_exporter": "python",
   "pygments_lexer": "ipython3",
   "version": "3.11.4"
  }
 },
 "nbformat": 4,
 "nbformat_minor": 1
}
