{
 "cells": [
  {
   "cell_type": "code",
   "execution_count": 1,
   "outputs": [
    {
     "name": "stdout",
     "output_type": "stream",
     "text": [
      "PROJECT_PATH /home/ra/projects/enbios/venv/lib/python3.10/site-packages\n",
      "Creating logging config file at: /home/ra/projects/enbios/venv/lib/python3.10/site-packages/data/logging.json\n",
      "Creating 'ecoinvent_pint_unit_match' file at: /home/ra/projects/enbios/venv/lib/python3.10/site-packages/data/ecoinvent_pint_unit_match.txt\n"
     ]
    }
   ],
   "source": [
    "from copy import deepcopy\n",
    "from pathlib import Path\n",
    "\n",
    "import bw2data\n",
    "import pandas as pd\n",
    "\n",
    "from enbios.base.experiment import Experiment\n",
    "from enbios.bw2.util import report\n",
    "from enbios.models.experiment_base_models import ExperimentData"
   ],
   "metadata": {
    "collapsed": false,
    "ExecuteTime": {
     "end_time": "2024-01-12T11:32:45.819440792Z",
     "start_time": "2024-01-12T11:32:43.885879575Z"
    }
   }
  },
  {
   "cell_type": "markdown",
   "source": [
    "In this demo, we demonstrate the basic working of Enbios. There are 4 main parts to this introduction. The first three parts, incrementally extend the experiment, while the 4. part displays some useful functionalities, that helps to understand how to configure enbios.\n",
    "\n",
    "For this introduction, we are going to use Brightway to do LCA calculations of ecoinvent (v.3.9.1) activities, that are at the bottom of the MuSIASEM hierarchy, so one should have a brigthway project, with some the ecoinvent dataset created before starting.\n",
    "\n",
    "In the first step, we get some brighway activities are construct the enbios configuration step by step."
   ],
   "metadata": {
    "collapsed": false
   }
  },
  {
   "cell_type": "code",
   "execution_count": 4,
   "metadata": {
    "ExecuteTime": {
     "end_time": "2024-01-12T11:41:45.184094883Z",
     "start_time": "2024-01-12T11:41:45.148415365Z"
    }
   },
   "outputs": [
    {
     "name": "stdout",
     "output_type": "stream",
     "text": [
      "Project: default\n",
      "[]\n",
      "Project: ecoinvent_391\n",
      "['biosphere3', 'ecoinvent_391_cutoff']\n",
      "Project: ei391\n",
      "['biosphere3', 'ei391_cutoff_ecoSpold02']\n"
     ]
    }
   ],
   "source": [
    "# get an overview of brightway projects and databases\n",
    "report()"
   ]
  },
  {
   "cell_type": "code",
   "execution_count": null,
   "metadata": {},
   "outputs": [],
   "source": [
    "# select the brightway project and database (e.g. some ecoinvent database)\n",
    "PROJECT_NAME = \"ecoinvent_391\"\n",
    "DATABASE = \"ecoinvent_391_cutoff\"\n",
    "\n",
    "bw2data.projects.set_current(PROJECT_NAME)\n",
    "db = bw2data.Database(DATABASE)"
   ]
  },
  {
   "cell_type": "markdown",
   "metadata": {},
   "source": [
    "# Simple example experiment\n",
    "Let's get 2 wind turbines from Spain"
   ]
  },
  {
   "cell_type": "code",
   "execution_count": null,
   "metadata": {},
   "outputs": [],
   "source": [
    "wind_turbines_spain = db.search(\n",
    "    \"electricity production, wind, 1-3MW turbine, onshore\", filter={\"location\": \"ES\"}\n",
    ")[:2]\n",
    "wind_turbines_spain"
   ]
  },
  {
   "cell_type": "code",
   "execution_count": null,
   "metadata": {},
   "outputs": [],
   "source": [
    "# Now we use those, to define 2 leaf-nodes in our hierarchy.\n",
    "experiment_activities = []\n",
    "\n",
    "for activity in wind_turbines_spain:\n",
    "    experiment_activities.append(\n",
    "        {\n",
    "            \"name\": activity[\"name\"],\n",
    "            \"adapter\": \"brightway-adapter\",\n",
    "            \"config\": {\"code\": activity[\"code\"]},\n",
    "        }\n",
    "    )"
   ]
  },
  {
   "cell_type": "code",
   "execution_count": null,
   "metadata": {},
   "outputs": [],
   "source": [
    "# we can modify the output of the activities, by default it is the reference product (1 of the activity unit)\n",
    "experiment_activities[0][\"config\"][\"default_output\"] = {\n",
    "    \"unit\": \"kilowatt_hour\",\n",
    "    \"magnitude\": 3,\n",
    "}\n",
    "experiment_activities"
   ]
  },
  {
   "cell_type": "code",
   "execution_count": null,
   "outputs": [],
   "source": [
    "hierarchy = {\n",
    "    \"name\": \"root\",\n",
    "    \"aggregator\": \"sum-aggregator\",\n",
    "    \"children\": experiment_activities,\n",
    "}"
   ],
   "metadata": {
    "collapsed": false
   }
  },
  {
   "cell_type": "code",
   "execution_count": null,
   "metadata": {},
   "outputs": [],
   "source": [
    "# select 2 random methods and convert them into the form for enbios2\n",
    "experiment_methods = [bw2data.methods.random() for _ in range(2)]\n",
    "\n",
    "experiment_methods = {m[-1]: m for m in experiment_methods}\n",
    "experiment_methods"
   ]
  },
  {
   "cell_type": "code",
   "execution_count": null,
   "outputs": [],
   "source": [
    "# alternatively, we could just specify two methods\n",
    "experiment_methods = {\n",
    "    \"GWP1000\": (\n",
    "        \"ReCiPe 2016 v1.03, midpoint (H)\",\n",
    "        \"climate change\",\n",
    "        \"global warming potential (GWP1000)\",\n",
    "    ),\n",
    "    \"FETP\": (\n",
    "        \"ReCiPe 2016 v1.03, midpoint (H)\",\n",
    "        \"ecotoxicity: freshwater\",\n",
    "        \"freshwater ecotoxicity potential (FETP)\",\n",
    "    ),\n",
    "}"
   ],
   "metadata": {
    "collapsed": false
   }
  },
  {
   "cell_type": "code",
   "execution_count": null,
   "metadata": {},
   "outputs": [],
   "source": [
    "# let's store the raw data, because we want to modify it later\n",
    "simple_raw_data = {\n",
    "    \"adapters\": [\n",
    "        {\n",
    "            \"adapter_name\": \"brightway-adapter\",\n",
    "            \"config\": {\"bw_project\": PROJECT_NAME},\n",
    "            \"methods\": experiment_methods,\n",
    "        }\n",
    "    ],\n",
    "    \"hierarchy\": hierarchy,\n",
    "}\n",
    "\n",
    "# make a first validation of the experiment data\n",
    "exp_data = ExperimentData(**simple_raw_data)\n",
    "exp_data.model_dump(exclude_unset=True)"
   ]
  },
  {
   "cell_type": "code",
   "execution_count": null,
   "metadata": {},
   "outputs": [],
   "source": [
    "# create experiment object. This will validate the activities, their outputs, the methods and the scenarios.\n",
    "simple_experiment: Experiment = Experiment(simple_raw_data)"
   ]
  },
  {
   "cell_type": "code",
   "execution_count": null,
   "metadata": {},
   "outputs": [],
   "source": [
    "print(simple_experiment.info())"
   ]
  },
  {
   "cell_type": "markdown",
   "metadata": {},
   "source": [
    "## Running the experiment"
   ]
  },
  {
   "cell_type": "code",
   "execution_count": null,
   "metadata": {},
   "outputs": [],
   "source": [
    "# run all scenarios at once, Results will be returned as dictionary\n",
    "# <scenario_name : str> : <scenario_result : dict>\n",
    "# <scenario_result> : dict represents the root node of the results tree, with the following keys:\n",
    "# name, output, results, children\n",
    "# where results, is a dictionary of impacts to dict: unit, magnitude | multi_magnitude\n",
    "# The first and only positional parameter 'results_as_dict' can be set to False, to get the tree unserialized as :  BasicTreeNode[ScenarioResultNodeData]\n",
    "results = simple_experiment.run()"
   ]
  },
  {
   "cell_type": "markdown",
   "metadata": {},
   "source": [
    "# Result\n",
    "The result is a dictionary of scenario names, where for each scenario we have a tree (representing the activity hierarchy). Each node (`BasicTreeNode`) in the tree has a `data` object, which is of the type `ScenarioResultNodeData`, which have the fields `output`, `result`."
   ]
  },
  {
   "cell_type": "code",
   "execution_count": null,
   "metadata": {},
   "outputs": [],
   "source": [
    "results"
   ]
  },
  {
   "cell_type": "code",
   "execution_count": null,
   "metadata": {},
   "outputs": [],
   "source": [
    "# we can dump the results into a csv file\n",
    "simple_experiment.results_to_csv(\"test.csv\")\n",
    "pd.read_csv(\"test.csv\").fillna(\"\")"
   ]
  },
  {
   "cell_type": "code",
   "execution_count": null,
   "metadata": {},
   "outputs": [],
   "source": [
    "simple_experiment.scenarios[0].result_to_dict()"
   ]
  },
  {
   "cell_type": "markdown",
   "metadata": {},
   "source": [
    "## Add a technology hierarchy (dendrogram) \n",
    "Let's now add a few more activities to the experiment and create a hierarchy of activities."
   ]
  },
  {
   "cell_type": "code",
   "execution_count": null,
   "metadata": {},
   "outputs": [],
   "source": [
    "solar_spain = db.search(\"solar\", filter={\"location\": \"ES\"})[:2]\n",
    "solar_spain"
   ]
  },
  {
   "cell_type": "code",
   "execution_count": null,
   "outputs": [],
   "source": [
    "experiment_activities_solar = []\n",
    "for activity in solar_spain:\n",
    "    experiment_activities_solar.append(\n",
    "        {\"name\": activity[\"name\"], \"adapter\": \"bw\", \"config\": {\"code\": activity[\"code\"]}}\n",
    "    )\n",
    "\n",
    "hierarchy_raw_data = deepcopy(simple_raw_data)\n",
    "\n",
    "hierarchy_raw_data[\"hierarchy\"] = {\n",
    "    \"name\": \"root\",\n",
    "    \"aggregator\": \"sum\",\n",
    "    \"children\": [\n",
    "        {\"name\": \"wind\", \"aggregator\": \"sum\", \"children\": experiment_activities},\n",
    "        {\"name\": \"solar\", \"aggregator\": \"sum\", \"children\": experiment_activities_solar},\n",
    "    ],\n",
    "}"
   ],
   "metadata": {
    "collapsed": false
   }
  },
  {
   "cell_type": "code",
   "execution_count": null,
   "metadata": {},
   "outputs": [],
   "source": [
    "hierarchy_experiment: Experiment = Experiment(hierarchy_raw_data)"
   ]
  },
  {
   "cell_type": "markdown",
   "source": [
    "# Run the 2nd experiment"
   ],
   "metadata": {
    "collapsed": false
   }
  },
  {
   "cell_type": "code",
   "execution_count": null,
   "metadata": {},
   "outputs": [],
   "source": [
    "hierarchy_experiment.run()"
   ]
  },
  {
   "cell_type": "code",
   "execution_count": null,
   "metadata": {},
   "outputs": [],
   "source": [
    "# print(json.dumps((exp.scenarios[0].result_to_dict()), indent=2))\n",
    "hierarchy_experiment.scenarios[0].results_to_csv(\n",
    "    \"test.csv\", level_names=[\"root\", \"technology\", \"activity\"]\n",
    ")\n",
    "pd.read_csv(\"test.csv\").fillna(\"\")"
   ]
  },
  {
   "cell_type": "markdown",
   "source": [
    "## Create several scenarios"
   ],
   "metadata": {
    "collapsed": false
   }
  },
  {
   "cell_type": "code",
   "execution_count": null,
   "outputs": [],
   "source": [
    "from typing import Optional\n",
    "from random import randint\n",
    "\n",
    "\n",
    "def create_normal_scenario():\n",
    "    return {\n",
    "        \"name\": \"normal scenario\",\n",
    "        \"activities\": {\n",
    "            act: (\"kilowatt_hour\", 1) for act in hierarchy_experiment.activities_names\n",
    "        },\n",
    "    }\n",
    "\n",
    "\n",
    "def create_random_scenario(scneario_name: Optional[str] = None):\n",
    "    return {\n",
    "        \"name\": scneario_name,\n",
    "        \"activities\": {\n",
    "            act: (\"kilowatt_hour\", randint(1, 10))\n",
    "            for act in hierarchy_experiment.activities_names\n",
    "        },\n",
    "    }\n",
    "\n",
    "\n",
    "scenarios_raw_data = deepcopy(hierarchy_raw_data)\n",
    "scenarios_raw_data[\"scenarios\"] = [\n",
    "    create_normal_scenario(),\n",
    "    create_random_scenario(),\n",
    "    create_random_scenario(),\n",
    "]\n",
    "\n",
    "scenarios_raw_data[\"scenarios\"]"
   ],
   "metadata": {
    "collapsed": false
   }
  },
  {
   "cell_type": "code",
   "execution_count": null,
   "outputs": [],
   "source": [
    "scenarios_experiment = Experiment(scenarios_raw_data)"
   ],
   "metadata": {
    "collapsed": false
   }
  },
  {
   "cell_type": "markdown",
   "source": [
    " ## Run the experiment for the 3rd time\n",
    "This time will likely take some more time since we need to run 2 scenarios. "
   ],
   "metadata": {
    "collapsed": false
   }
  },
  {
   "cell_type": "code",
   "execution_count": null,
   "outputs": [],
   "source": [
    "_ = scenarios_experiment.run()\n",
    "# don't print the whole result"
   ],
   "metadata": {
    "collapsed": false
   }
  },
  {
   "cell_type": "code",
   "execution_count": null,
   "outputs": [],
   "source": [
    "scenarios_experiment.scenarios[0].results_to_csv(\n",
    "    \"s1.csv\", level_names=[\"root\", \"technology\", \"activity\"]\n",
    ")\n",
    "pd.read_csv(\"s1.csv\").fillna(\"\")\n",
    "Path(\"s1.csv\").unlink()  # delete the file again"
   ],
   "metadata": {
    "collapsed": false
   }
  },
  {
   "cell_type": "markdown",
   "source": [
    "We can also now run any new scenario configuration for the given experiment using `run_scenario_config`"
   ],
   "metadata": {
    "collapsed": false
   }
  },
  {
   "cell_type": "code",
   "execution_count": null,
   "outputs": [],
   "source": [
    "new_random_scenario = create_random_scenario()\n",
    "new_random_scenario[\"name\"] = \"new scenario\"\n",
    "new_results = scenarios_experiment.run_scenario_config(new_random_scenario)"
   ],
   "metadata": {
    "collapsed": false
   }
  },
  {
   "cell_type": "markdown",
   "source": [
    "## Inspecting the results\n",
    "\n",
    "We can now do some transformations of the results. For that is useful to know how to retrieve is singular result from a scenario result. \n",
    "The result of a scenario is a tree structure, where the nodes `name`s are activity aliases or names defined in the hierarchy. With the function of BasicTreeNode.find_child_by_name we can directly access the result of a node.    \n",
    "\n",
    "Following we transform the results into a dictionary of the following structure:\n",
    "```json\n",
    "{\n",
    "    \"node\": {\n",
    "        \"method\": \"[list of results for each scenario]\"\n",
    "    }\n",
    "}\n",
    "```"
   ],
   "metadata": {
    "collapsed": false
   }
  },
  {
   "cell_type": "code",
   "execution_count": null,
   "outputs": [],
   "source": [
    "all_results = {}\n",
    "for activity in scenarios_experiment.activities_names:\n",
    "    all_results[activity] = {method: [] for method in scenarios_experiment.method_names}\n",
    "    for scenario in scenarios_experiment.scenarios:\n",
    "        activity_result = scenario.result_tree.find_subnode_by_name(activity)\n",
    "        for method, score in activity_result.data.results.items():\n",
    "            all_results[activity][method].append(score.model_dump(exclude_defaults=True))\n",
    "\n",
    "all_results"
   ],
   "metadata": {
    "collapsed": false
   }
  },
  {
   "cell_type": "markdown",
   "source": [
    "## Let's pickle the file in order to use it in the other demo notebooks"
   ],
   "metadata": {
    "collapsed": false
   }
  },
  {
   "cell_type": "code",
   "outputs": [],
   "source": [
    "import pickle\n",
    "\n",
    "pickle.dump(scenarios_experiment, open(\"exp.pickle\", \"wb\"))"
   ],
   "metadata": {
    "collapsed": false
   }
  }
 ],
 "metadata": {
  "kernelspec": {
   "display_name": "Python 3 (ipykernel)",
   "language": "python",
   "name": "python3"
  },
  "language_info": {
   "codemirror_mode": {
    "name": "ipython",
    "version": 3
   },
   "file_extension": ".py",
   "mimetype": "text/x-python",
   "name": "python",
   "nbconvert_exporter": "python",
   "pygments_lexer": "ipython3",
   "version": "3.11.4"
  }
 },
 "nbformat": 4,
 "nbformat_minor": 1
}
