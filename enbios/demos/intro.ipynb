{
 "cells": [
  {
   "cell_type": "code",
   "execution_count": 1,
   "outputs": [],
   "source": [
    "from copy import deepcopy\n",
    "from pathlib import Path\n",
    "\n",
    "import bw2data\n",
    "import pandas as pd\n",
    "\n",
    "from enbios.base.experiment import Experiment\n",
    "from enbios.bw2.util import report\n",
    "from enbios.models.experiment_base_models import ExperimentData"
   ],
   "metadata": {
    "collapsed": false,
    "ExecuteTime": {
     "end_time": "2024-02-07T13:57:18.336951389Z",
     "start_time": "2024-02-07T13:57:16.252756953Z"
    }
   }
  },
  {
   "cell_type": "markdown",
   "source": [
    "In this demo, we demonstrate the basic working of Enbios. There are 4 main parts to this introduction. The first three parts, incrementally extend the experiment, while the 4. part displays some useful functionalities, that helps to understand how to configure enbios.\n",
    "\n",
    "For this introduction, we are going to use Brightway to do LCA calculations of ecoinvent (v.3.9.1) activities, that are at the bottom of the MuSIASEM hierarchy, so one should have a brigthway project, with some the ecoinvent dataset created before starting.\n",
    "\n",
    "In the first step, we get some brighway activities are construct the enbios configuration step by step."
   ],
   "metadata": {
    "collapsed": false
   }
  },
  {
   "cell_type": "code",
   "execution_count": 2,
   "metadata": {
    "ExecuteTime": {
     "end_time": "2024-02-07T13:57:18.543217907Z",
     "start_time": "2024-02-07T13:57:18.341608632Z"
    }
   },
   "outputs": [
    {
     "name": "stdout",
     "output_type": "stream",
     "text": [
      "Project: default\n",
      "[]\n",
      "Project: ecoinvent_391\n",
      "['biosphere3', 'ecoinvent_391_cutoff']\n",
      "Project: Spain case study\n",
      "['biosphere', 'food']\n",
      "Project: supply chain graph\n",
      "['bike']\n",
      "Project: matrix-test\n",
      "['db']\n",
      "Project: nonlinear-method-test\n",
      "['db']\n",
      "Project: ecoinvent_391_apos\n",
      "['biosphere3', 'ecoinvent_391_apos']\n",
      "Project: 1\n",
      "[]\n",
      "Project: ecoinvent_391_consequential\n",
      "['biosphere3', 'ecoinvent_391_consequential']\n",
      "Project: super_simple_builder_test\n",
      "['db']\n",
      "Project: builder_test\n",
      "['db']\n",
      "Project: ppp\n",
      "['db']\n"
     ]
    }
   ],
   "source": [
    "# get an overview of brightway projects and databases\n",
    "report()"
   ]
  },
  {
   "cell_type": "code",
   "execution_count": 3,
   "metadata": {
    "ExecuteTime": {
     "end_time": "2024-02-07T13:57:18.547334232Z",
     "start_time": "2024-02-07T13:57:18.518599806Z"
    }
   },
   "outputs": [],
   "source": [
    "# select the brightway project and database (e.g. some ecoinvent database)\n",
    "PROJECT_NAME = \"ecoinvent_391\"\n",
    "DATABASE = \"ecoinvent_391_cutoff\"\n",
    "\n",
    "bw2data.projects.set_current(PROJECT_NAME)\n",
    "db = bw2data.Database(DATABASE)"
   ]
  },
  {
   "cell_type": "markdown",
   "metadata": {},
   "source": [
    "# Simple example experiment\n",
    "Let's get 2 wind turbines from Spain"
   ]
  },
  {
   "cell_type": "code",
   "execution_count": 4,
   "metadata": {
    "ExecuteTime": {
     "end_time": "2024-02-07T13:57:19.156224751Z",
     "start_time": "2024-02-07T13:57:18.553975968Z"
    }
   },
   "outputs": [
    {
     "name": "stdout",
     "output_type": "stream",
     "text": [
      "Excluding 319 filtered results\n"
     ]
    },
    {
     "data": {
      "text/plain": "['electricity production, wind, 1-3MW turbine, onshore' (kilowatt hour, ES, None),\n 'electricity production, wind, 1-3MW turbine, offshore' (kilowatt hour, ES, None)]"
     },
     "execution_count": 4,
     "metadata": {},
     "output_type": "execute_result"
    }
   ],
   "source": [
    "wind_turbines_spain = db.search(\n",
    "    \"electricity production, wind, 1-3MW turbine, onshore\", filter={\"location\": \"ES\"}\n",
    ")[:2]\n",
    "wind_turbines_spain"
   ]
  },
  {
   "cell_type": "code",
   "execution_count": 5,
   "metadata": {
    "ExecuteTime": {
     "end_time": "2024-02-07T13:57:19.295447069Z",
     "start_time": "2024-02-07T13:57:19.155345332Z"
    }
   },
   "outputs": [],
   "source": [
    "# Now we use those, to define 2 leaf-nodes in our hierarchy.\n",
    "experiment_nodes = []\n",
    "\n",
    "for activity in wind_turbines_spain:\n",
    "    experiment_nodes.append(\n",
    "        {\n",
    "            \"name\": activity[\"name\"],\n",
    "            \"adapter\": \"brightway-adapter\",\n",
    "            \"config\": {\"code\": activity[\"code\"]},\n",
    "        }\n",
    "    )"
   ]
  },
  {
   "cell_type": "code",
   "execution_count": 6,
   "metadata": {
    "ExecuteTime": {
     "end_time": "2024-02-07T13:57:19.833350770Z",
     "start_time": "2024-02-07T13:57:19.710487746Z"
    }
   },
   "outputs": [
    {
     "data": {
      "text/plain": "[{'name': 'electricity production, wind, 1-3MW turbine, onshore',\n  'adapter': 'brightway-adapter',\n  'config': {'code': 'ed3da88fc23311ee183e9ffd376de89b',\n   'default_output': {'unit': 'kilowatt_hour', 'magnitude': 3}}},\n {'name': 'electricity production, wind, 1-3MW turbine, offshore',\n  'adapter': 'brightway-adapter',\n  'config': {'code': '6ebfe52dc3ef5b4d35bb603b03559023'}}]"
     },
     "execution_count": 6,
     "metadata": {},
     "output_type": "execute_result"
    }
   ],
   "source": [
    "# we can modify the output of the activities, by default it is the reference product (1 of the activity unit)\n",
    "experiment_nodes[0][\"config\"][\"default_output\"] = {\n",
    "    \"unit\": \"kilowatt_hour\",\n",
    "    \"magnitude\": 3,\n",
    "}\n",
    "experiment_nodes"
   ]
  },
  {
   "cell_type": "code",
   "execution_count": 7,
   "outputs": [],
   "source": [
    "hierarchy = {\n",
    "    \"name\": \"root\",\n",
    "    \"aggregator\": \"sum-aggregator\",\n",
    "    \"children\": experiment_nodes,\n",
    "}"
   ],
   "metadata": {
    "collapsed": false,
    "ExecuteTime": {
     "end_time": "2024-02-07T13:57:20.685308052Z",
     "start_time": "2024-02-07T13:57:20.571255961Z"
    }
   }
  },
  {
   "cell_type": "code",
   "execution_count": 8,
   "metadata": {
    "ExecuteTime": {
     "end_time": "2024-02-07T13:57:21.358849973Z",
     "start_time": "2024-02-07T13:57:21.274478476Z"
    }
   },
   "outputs": [
    {
     "data": {
      "text/plain": "{'user deprivation potential (deprivation-weighted water consumption)': ('EF v3.0 EN15804',\n  'water use',\n  'user deprivation potential (deprivation-weighted water consumption)'),\n 'materials for recycling': ('EN15804',\n  'inventory indicators ISO21930',\n  'materials for recycling')}"
     },
     "execution_count": 8,
     "metadata": {},
     "output_type": "execute_result"
    }
   ],
   "source": [
    "# select 2 random methods and convert them into the form for enbios2\n",
    "experiment_methods = [bw2data.methods.random() for _ in range(2)]\n",
    "\n",
    "experiment_methods = {m[-1]: m for m in experiment_methods}\n",
    "experiment_methods"
   ]
  },
  {
   "cell_type": "code",
   "execution_count": 9,
   "outputs": [],
   "source": [
    "# alternatively, we could just specify two methods\n",
    "experiment_methods = {\n",
    "    \"GWP1000\": (\n",
    "        \"ReCiPe 2016 v1.03, midpoint (H)\",\n",
    "        \"climate change\",\n",
    "        \"global warming potential (GWP1000)\",\n",
    "    ),\n",
    "    \"LOP\": (\n",
    "        \"ReCiPe 2016 v1.03, midpoint (E)\",\n",
    "        \"land use\",\n",
    "        \"agricultural land occupation (LOP)\",\n",
    "    ),\n",
    "    \"WCP\": (\n",
    "        \"ReCiPe 2016 v1.03, midpoint (E)\",\n",
    "        \"water use\",\n",
    "        \"water consumption potential (WCP)\",\n",
    "    ),\n",
    "}"
   ],
   "metadata": {
    "collapsed": false,
    "ExecuteTime": {
     "end_time": "2024-02-07T13:57:22.280626965Z",
     "start_time": "2024-02-07T13:57:22.195851251Z"
    }
   }
  },
  {
   "cell_type": "code",
   "execution_count": 10,
   "metadata": {
    "ExecuteTime": {
     "end_time": "2024-02-07T13:57:23.184192893Z",
     "start_time": "2024-02-07T13:57:23.074322404Z"
    }
   },
   "outputs": [
    {
     "data": {
      "text/plain": "{'adapters': [{'adapter_name': 'brightway-adapter',\n   'config': {'bw_project': 'ecoinvent_391'},\n   'methods': {'GWP1000': ('ReCiPe 2016 v1.03, midpoint (H)',\n     'climate change',\n     'global warming potential (GWP1000)'),\n    'LOP': ('ReCiPe 2016 v1.03, midpoint (E)',\n     'land use',\n     'agricultural land occupation (LOP)'),\n    'WCP': ('ReCiPe 2016 v1.03, midpoint (E)',\n     'water use',\n     'water consumption potential (WCP)')}}],\n 'hierarchy': {'name': 'root',\n  'aggregator': 'sum-aggregator',\n  'children': [{'name': 'electricity production, wind, 1-3MW turbine, onshore',\n    'config': {'code': 'ed3da88fc23311ee183e9ffd376de89b',\n     'default_output': {'unit': 'kilowatt_hour', 'magnitude': 3}},\n    'adapter': 'brightway-adapter'},\n   {'name': 'electricity production, wind, 1-3MW turbine, offshore',\n    'config': {'code': '6ebfe52dc3ef5b4d35bb603b03559023'},\n    'adapter': 'brightway-adapter'}]}}"
     },
     "execution_count": 10,
     "metadata": {},
     "output_type": "execute_result"
    }
   ],
   "source": [
    "# let's store the raw data, because we want to modify it later\n",
    "simple_raw_data = {\n",
    "    \"adapters\": [\n",
    "        {\n",
    "            \"adapter_name\": \"brightway-adapter\",\n",
    "            \"config\": {\"bw_project\": PROJECT_NAME},\n",
    "            \"methods\": experiment_methods,\n",
    "        }\n",
    "    ],\n",
    "    \"hierarchy\": hierarchy,\n",
    "}\n",
    "\n",
    "# make a first validation of the experiment data\n",
    "exp_data = ExperimentData(**simple_raw_data)\n",
    "exp_data.model_dump(exclude_unset=True)"
   ]
  },
  {
   "cell_type": "code",
   "execution_count": 11,
   "metadata": {
    "ExecuteTime": {
     "end_time": "2024-02-07T13:57:25.630986030Z",
     "start_time": "2024-02-07T13:57:23.894972227Z"
    }
   },
   "outputs": [],
   "source": [
    "# create experiment object. This will validate the activities, their outputs, the methods and the scenarios.\n",
    "simple_experiment: Experiment = Experiment(simple_raw_data)"
   ]
  },
  {
   "cell_type": "code",
   "execution_count": 12,
   "metadata": {
    "ExecuteTime": {
     "end_time": "2024-02-07T13:57:25.714895505Z",
     "start_time": "2024-02-07T13:57:25.635347896Z"
    }
   },
   "outputs": [
    {
     "name": "stdout",
     "output_type": "stream",
     "text": [
      "Experiment: \n",
      "Structural nodes: 2\n",
      "root - sum-aggregator\n",
      " electricity production, wind, 1-3MW turbine, onshore - brightway-adapter\n",
      " electricity production, wind, 1-3MW turbine, offshore - brightway-adapter\n",
      "Methods: 3\n",
      " bw.GWP1000\n",
      " bw.LOP\n",
      " bw.WCP\n",
      "Hierarchy (depth): 2\n",
      "Scenarios: 1\n"
     ]
    }
   ],
   "source": [
    "print(simple_experiment.info())"
   ]
  },
  {
   "cell_type": "markdown",
   "metadata": {},
   "source": [
    "## Running the experiment"
   ]
  },
  {
   "cell_type": "code",
   "execution_count": 13,
   "metadata": {
    "ExecuteTime": {
     "end_time": "2024-02-07T13:58:19.704212265Z",
     "start_time": "2024-02-07T13:57:26.900962419Z"
    }
   },
   "outputs": [
    {
     "name": "stdout",
     "output_type": "stream",
     "text": [
      "2024-02-07 14:57:26,897 - ............enbios.demos.enbios.base - INFO - Running scenario 'default scenario'\n",
      "2024-02-07 14:57:26,905 - ............enbios.demos.ADAPTER::(brightway-adapter) - INFO - Brightway adapter: Run distribution 1/1\n"
     ]
    }
   ],
   "source": [
    "# run all scenarios at once, Results will be returned as dictionary\n",
    "# <scenario_name : str> : <scenario_result : dict>\n",
    "# <scenario_result> : dict represents the root node of the results tree, with the following keys:\n",
    "# name, output, results, children\n",
    "# where results, is a dictionary of impacts to dict: unit, magnitude | multi_magnitude\n",
    "# The first and only positional parameter 'results_as_dict' can be set to False, to get the tree unserialized as :  BasicTreeNode[ScenarioResultNodeData]\n",
    "results = simple_experiment.run()"
   ]
  },
  {
   "cell_type": "markdown",
   "metadata": {},
   "source": [
    "# Result\n",
    "The result is a dictionary of scenario names, where for each scenario we have a tree (representing the activity hierarchy). Each node (`BasicTreeNode`) in the tree has a `data` object, which is of the type `ScenarioResultNodeData`, which have the fields `output`, `result`."
   ]
  },
  {
   "cell_type": "code",
   "execution_count": 14,
   "metadata": {
    "ExecuteTime": {
     "end_time": "2024-02-07T13:58:19.705364661Z",
     "start_time": "2024-02-07T13:58:19.697961955Z"
    }
   },
   "outputs": [
    {
     "data": {
      "text/plain": "{'default scenario': {'name': 'root',\n  'results': {'GWP1000': {'unit': 'kg CO2-Eq',\n    'magnitude': 0.06275128225929673},\n   'LOP': {'unit': 'm2*a crop-Eq', 'magnitude': 0.0035793235283765198},\n   'WCP': {'unit': 'cubic meter', 'magnitude': 0.0005971209632048599}},\n  'output': {'unit': 'kilowatt_hour', 'magnitude': 4.0},\n  'children': [{'name': 'electricity production, wind, 1-3MW turbine, onshore',\n    'results': {'GWP1000': {'unit': 'kg CO2-Eq',\n      'magnitude': 0.045730834001617954},\n     'LOP': {'unit': 'm2*a crop-Eq', 'magnitude': 0.003198359333504506},\n     'WCP': {'unit': 'cubic meter', 'magnitude': 0.0004090798125724361}},\n    'output': {'unit': 'kilowatt_hour', 'magnitude': 3.0}},\n   {'name': 'electricity production, wind, 1-3MW turbine, offshore',\n    'results': {'GWP1000': {'unit': 'kg CO2-Eq',\n      'magnitude': 0.017020448257678778},\n     'LOP': {'unit': 'm2*a crop-Eq', 'magnitude': 0.00038096419487201346},\n     'WCP': {'unit': 'cubic meter', 'magnitude': 0.00018804115063242375}},\n    'output': {'unit': 'kilowatt_hour', 'magnitude': 1.0}}]}}"
     },
     "execution_count": 14,
     "metadata": {},
     "output_type": "execute_result"
    }
   ],
   "source": [
    "results"
   ]
  },
  {
   "cell_type": "code",
   "execution_count": 15,
   "metadata": {
    "ExecuteTime": {
     "end_time": "2024-02-07T14:02:44.161613811Z",
     "start_time": "2024-02-07T14:02:44.119678583Z"
    }
   },
   "outputs": [
    {
     "data": {
      "text/plain": "           scenario lvl_0                                              lvl_1  \\\n0  default scenario  root                                                      \n1                          electricity production, wind, 1-3MW turbine, o...   \n2                          electricity production, wind, 1-3MW turbine, o...   \n\n   GWP1000_magnitude (kg CO2-Eq)  LOP_magnitude (m2*a crop-Eq)  \\\n0                       0.062751                      0.003579   \n1                       0.045731                      0.003198   \n2                       0.017020                      0.000381   \n\n   WCP_magnitude (cubic meter)    output_unit  output_magnitude  \n0                     0.000597  kilowatt_hour               4.0  \n1                     0.000409  kilowatt_hour               3.0  \n2                     0.000188  kilowatt_hour               1.0  ",
      "text/html": "<div>\n<style scoped>\n    .dataframe tbody tr th:only-of-type {\n        vertical-align: middle;\n    }\n\n    .dataframe tbody tr th {\n        vertical-align: top;\n    }\n\n    .dataframe thead th {\n        text-align: right;\n    }\n</style>\n<table border=\"1\" class=\"dataframe\">\n  <thead>\n    <tr style=\"text-align: right;\">\n      <th></th>\n      <th>scenario</th>\n      <th>lvl_0</th>\n      <th>lvl_1</th>\n      <th>GWP1000_magnitude (kg CO2-Eq)</th>\n      <th>LOP_magnitude (m2*a crop-Eq)</th>\n      <th>WCP_magnitude (cubic meter)</th>\n      <th>output_unit</th>\n      <th>output_magnitude</th>\n    </tr>\n  </thead>\n  <tbody>\n    <tr>\n      <th>0</th>\n      <td>default scenario</td>\n      <td>root</td>\n      <td></td>\n      <td>0.062751</td>\n      <td>0.003579</td>\n      <td>0.000597</td>\n      <td>kilowatt_hour</td>\n      <td>4.0</td>\n    </tr>\n    <tr>\n      <th>1</th>\n      <td></td>\n      <td></td>\n      <td>electricity production, wind, 1-3MW turbine, o...</td>\n      <td>0.045731</td>\n      <td>0.003198</td>\n      <td>0.000409</td>\n      <td>kilowatt_hour</td>\n      <td>3.0</td>\n    </tr>\n    <tr>\n      <th>2</th>\n      <td></td>\n      <td></td>\n      <td>electricity production, wind, 1-3MW turbine, o...</td>\n      <td>0.017020</td>\n      <td>0.000381</td>\n      <td>0.000188</td>\n      <td>kilowatt_hour</td>\n      <td>1.0</td>\n    </tr>\n  </tbody>\n</table>\n</div>"
     },
     "execution_count": 15,
     "metadata": {},
     "output_type": "execute_result"
    }
   ],
   "source": [
    "# we can dump the results into a csv file\n",
    "simple_experiment.results_to_csv(\"test.csv\")\n",
    "pd.read_csv(\"test.csv\").fillna(\"\")"
   ]
  },
  {
   "cell_type": "code",
   "execution_count": 16,
   "metadata": {
    "ExecuteTime": {
     "end_time": "2024-02-07T14:02:44.374786096Z",
     "start_time": "2024-02-07T14:02:44.369741488Z"
    }
   },
   "outputs": [
    {
     "data": {
      "text/plain": "{'name': 'root',\n 'results': {'GWP1000': {'unit': 'kg CO2-Eq',\n   'magnitude': 0.06275128225929673},\n  'LOP': {'unit': 'm2*a crop-Eq', 'magnitude': 0.0035793235283765198},\n  'WCP': {'unit': 'cubic meter', 'magnitude': 0.0005971209632048599}},\n 'output': {'unit': 'kilowatt_hour', 'magnitude': 4.0},\n 'children': [{'name': 'electricity production, wind, 1-3MW turbine, onshore',\n   'results': {'GWP1000': {'unit': 'kg CO2-Eq',\n     'magnitude': 0.045730834001617954},\n    'LOP': {'unit': 'm2*a crop-Eq', 'magnitude': 0.003198359333504506},\n    'WCP': {'unit': 'cubic meter', 'magnitude': 0.0004090798125724361}},\n   'output': {'unit': 'kilowatt_hour', 'magnitude': 3.0}},\n  {'name': 'electricity production, wind, 1-3MW turbine, offshore',\n   'results': {'GWP1000': {'unit': 'kg CO2-Eq',\n     'magnitude': 0.017020448257678778},\n    'LOP': {'unit': 'm2*a crop-Eq', 'magnitude': 0.00038096419487201346},\n    'WCP': {'unit': 'cubic meter', 'magnitude': 0.00018804115063242375}},\n   'output': {'unit': 'kilowatt_hour', 'magnitude': 1.0}}]}"
     },
     "execution_count": 16,
     "metadata": {},
     "output_type": "execute_result"
    }
   ],
   "source": [
    "simple_experiment.scenarios[0].result_to_dict()"
   ]
  },
  {
   "cell_type": "markdown",
   "metadata": {},
   "source": [
    "## Add a technology hierarchy (dendrogram) \n",
    "Let's now add a few more activities to the experiment and create a hierarchy of activities."
   ]
  },
  {
   "cell_type": "code",
   "execution_count": 17,
   "metadata": {
    "ExecuteTime": {
     "end_time": "2024-02-07T14:02:46.095001001Z",
     "start_time": "2024-02-07T14:02:46.027329670Z"
    }
   },
   "outputs": [
    {
     "name": "stdout",
     "output_type": "stream",
     "text": [
      "Excluding 465 filtered results\n"
     ]
    },
    {
     "data": {
      "text/plain": "['electricity production, solar tower power plant, 20 MW' (kilowatt hour, ES, None),\n 'electricity production, solar thermal parabolic trough, 50 MW' (kilowatt hour, ES, None)]"
     },
     "execution_count": 17,
     "metadata": {},
     "output_type": "execute_result"
    }
   ],
   "source": [
    "solar_spain = db.search(\"solar\", filter={\"location\": \"ES\"})[:2]\n",
    "solar_spain"
   ]
  },
  {
   "cell_type": "code",
   "execution_count": 18,
   "outputs": [],
   "source": [
    "experiment_nodes_solar = []\n",
    "for activity in solar_spain:\n",
    "    experiment_nodes_solar.append(\n",
    "        {\"name\": activity[\"name\"], \"adapter\": \"bw\", \"config\": {\"code\": activity[\"code\"]}}\n",
    "    )\n",
    "\n",
    "hierarchy_raw_data = deepcopy(simple_raw_data)\n",
    "\n",
    "hierarchy_raw_data[\"hierarchy\"] = {\n",
    "    \"name\": \"root\",\n",
    "    \"aggregator\": \"sum\",\n",
    "    \"children\": [\n",
    "        {\"name\": \"wind\", \"aggregator\": \"sum\", \"children\": experiment_nodes},\n",
    "        {\"name\": \"solar\", \"aggregator\": \"sum\", \"children\": experiment_nodes_solar},\n",
    "    ],\n",
    "}"
   ],
   "metadata": {
    "collapsed": false,
    "ExecuteTime": {
     "end_time": "2024-02-07T14:02:46.838707608Z",
     "start_time": "2024-02-07T14:02:46.835713533Z"
    }
   }
  },
  {
   "cell_type": "code",
   "execution_count": 19,
   "metadata": {
    "ExecuteTime": {
     "end_time": "2024-02-07T14:02:49.077135952Z",
     "start_time": "2024-02-07T14:02:47.731074186Z"
    }
   },
   "outputs": [],
   "source": [
    "hierarchy_experiment: Experiment = Experiment(hierarchy_raw_data)"
   ]
  },
  {
   "cell_type": "markdown",
   "source": [
    "# Run the 2nd experiment"
   ],
   "metadata": {
    "collapsed": false
   }
  },
  {
   "cell_type": "code",
   "execution_count": 20,
   "metadata": {
    "ExecuteTime": {
     "end_time": "2024-02-07T14:03:31.465308303Z",
     "start_time": "2024-02-07T14:02:49.434384930Z"
    }
   },
   "outputs": [
    {
     "name": "stdout",
     "output_type": "stream",
     "text": [
      "2024-02-07 15:02:49,430 - ............enbios.demos.enbios.base - INFO - Running scenario 'default scenario'\n",
      "2024-02-07 15:02:49,436 - ............enbios.demos.ADAPTER::(brightway-adapter) - INFO - Brightway adapter: Run distribution 1/1\n"
     ]
    },
    {
     "data": {
      "text/plain": "{'default scenario': {'name': 'root',\n  'results': {'GWP1000': {'unit': 'kg CO2-Eq',\n    'magnitude': 0.16515205296353608},\n   'LOP': {'unit': 'm2*a crop-Eq', 'magnitude': 0.01680896288924048},\n   'WCP': {'unit': 'cubic meter', 'magnitude': 0.0010633319876819894}},\n  'output': {'unit': 'kilowatt_hour', 'magnitude': 6.0},\n  'children': [{'name': 'wind',\n    'results': {'GWP1000': {'unit': 'kg CO2-Eq',\n      'magnitude': 0.06275128225929673},\n     'LOP': {'unit': 'm2*a crop-Eq', 'magnitude': 0.0035793235283765198},\n     'WCP': {'unit': 'cubic meter', 'magnitude': 0.0005971209632048599}},\n    'output': {'unit': 'kilowatt_hour', 'magnitude': 4.0},\n    'children': [{'name': 'electricity production, wind, 1-3MW turbine, onshore',\n      'results': {'GWP1000': {'unit': 'kg CO2-Eq',\n        'magnitude': 0.045730834001617954},\n       'LOP': {'unit': 'm2*a crop-Eq', 'magnitude': 0.003198359333504506},\n       'WCP': {'unit': 'cubic meter', 'magnitude': 0.0004090798125724361}},\n      'output': {'unit': 'kilowatt_hour', 'magnitude': 3.0}},\n     {'name': 'electricity production, wind, 1-3MW turbine, offshore',\n      'results': {'GWP1000': {'unit': 'kg CO2-Eq',\n        'magnitude': 0.017020448257678778},\n       'LOP': {'unit': 'm2*a crop-Eq', 'magnitude': 0.00038096419487201346},\n       'WCP': {'unit': 'cubic meter', 'magnitude': 0.00018804115063242375}},\n      'output': {'unit': 'kilowatt_hour', 'magnitude': 1.0}}]},\n   {'name': 'solar',\n    'results': {'GWP1000': {'unit': 'kg CO2-Eq',\n      'magnitude': 0.10240077070423936},\n     'LOP': {'unit': 'm2*a crop-Eq', 'magnitude': 0.01322963936086396},\n     'WCP': {'unit': 'cubic meter', 'magnitude': 0.00046621102447712965}},\n    'output': {'unit': 'kilowatt_hour', 'magnitude': 2.0},\n    'children': [{'name': 'electricity production, solar tower power plant, 20 MW',\n      'results': {'GWP1000': {'unit': 'kg CO2-Eq',\n        'magnitude': 0.048204581910669446},\n       'LOP': {'unit': 'm2*a crop-Eq', 'magnitude': 0.006941032057389291},\n       'WCP': {'unit': 'cubic meter', 'magnitude': 0.00021147976576316738}},\n      'output': {'unit': 'kilowatt_hour', 'magnitude': 1.0}},\n     {'name': 'electricity production, solar thermal parabolic trough, 50 MW',\n      'results': {'GWP1000': {'unit': 'kg CO2-Eq',\n        'magnitude': 0.054196188793569924},\n       'LOP': {'unit': 'm2*a crop-Eq', 'magnitude': 0.006288607303474669},\n       'WCP': {'unit': 'cubic meter', 'magnitude': 0.00025473125871396227}},\n      'output': {'unit': 'kilowatt_hour', 'magnitude': 1.0}}]}]}}"
     },
     "execution_count": 20,
     "metadata": {},
     "output_type": "execute_result"
    }
   ],
   "source": [
    "hierarchy_experiment.run()"
   ]
  },
  {
   "cell_type": "code",
   "execution_count": 21,
   "metadata": {
    "ExecuteTime": {
     "end_time": "2024-02-07T14:03:49.962306427Z",
     "start_time": "2024-02-07T14:03:49.919609455Z"
    }
   },
   "outputs": [
    {
     "data": {
      "text/plain": "   root technology                                           activity  \\\n0  root                                                                 \n1             wind                                                      \n2                   electricity production, wind, 1-3MW turbine, o...   \n3                   electricity production, wind, 1-3MW turbine, o...   \n4            solar                                                      \n5                   electricity production, solar tower power plan...   \n6                   electricity production, solar thermal paraboli...   \n\n   GWP1000_magnitude (kg CO2-Eq)  LOP_magnitude (m2*a crop-Eq)  \\\n0                       0.165152                      0.016809   \n1                       0.062751                      0.003579   \n2                       0.045731                      0.003198   \n3                       0.017020                      0.000381   \n4                       0.102401                      0.013230   \n5                       0.048205                      0.006941   \n6                       0.054196                      0.006289   \n\n   WCP_magnitude (cubic meter)    output_unit  output_magnitude  \n0                     0.001063  kilowatt_hour               6.0  \n1                     0.000597  kilowatt_hour               4.0  \n2                     0.000409  kilowatt_hour               3.0  \n3                     0.000188  kilowatt_hour               1.0  \n4                     0.000466  kilowatt_hour               2.0  \n5                     0.000211  kilowatt_hour               1.0  \n6                     0.000255  kilowatt_hour               1.0  ",
      "text/html": "<div>\n<style scoped>\n    .dataframe tbody tr th:only-of-type {\n        vertical-align: middle;\n    }\n\n    .dataframe tbody tr th {\n        vertical-align: top;\n    }\n\n    .dataframe thead th {\n        text-align: right;\n    }\n</style>\n<table border=\"1\" class=\"dataframe\">\n  <thead>\n    <tr style=\"text-align: right;\">\n      <th></th>\n      <th>root</th>\n      <th>technology</th>\n      <th>activity</th>\n      <th>GWP1000_magnitude (kg CO2-Eq)</th>\n      <th>LOP_magnitude (m2*a crop-Eq)</th>\n      <th>WCP_magnitude (cubic meter)</th>\n      <th>output_unit</th>\n      <th>output_magnitude</th>\n    </tr>\n  </thead>\n  <tbody>\n    <tr>\n      <th>0</th>\n      <td>root</td>\n      <td></td>\n      <td></td>\n      <td>0.165152</td>\n      <td>0.016809</td>\n      <td>0.001063</td>\n      <td>kilowatt_hour</td>\n      <td>6.0</td>\n    </tr>\n    <tr>\n      <th>1</th>\n      <td></td>\n      <td>wind</td>\n      <td></td>\n      <td>0.062751</td>\n      <td>0.003579</td>\n      <td>0.000597</td>\n      <td>kilowatt_hour</td>\n      <td>4.0</td>\n    </tr>\n    <tr>\n      <th>2</th>\n      <td></td>\n      <td></td>\n      <td>electricity production, wind, 1-3MW turbine, o...</td>\n      <td>0.045731</td>\n      <td>0.003198</td>\n      <td>0.000409</td>\n      <td>kilowatt_hour</td>\n      <td>3.0</td>\n    </tr>\n    <tr>\n      <th>3</th>\n      <td></td>\n      <td></td>\n      <td>electricity production, wind, 1-3MW turbine, o...</td>\n      <td>0.017020</td>\n      <td>0.000381</td>\n      <td>0.000188</td>\n      <td>kilowatt_hour</td>\n      <td>1.0</td>\n    </tr>\n    <tr>\n      <th>4</th>\n      <td></td>\n      <td>solar</td>\n      <td></td>\n      <td>0.102401</td>\n      <td>0.013230</td>\n      <td>0.000466</td>\n      <td>kilowatt_hour</td>\n      <td>2.0</td>\n    </tr>\n    <tr>\n      <th>5</th>\n      <td></td>\n      <td></td>\n      <td>electricity production, solar tower power plan...</td>\n      <td>0.048205</td>\n      <td>0.006941</td>\n      <td>0.000211</td>\n      <td>kilowatt_hour</td>\n      <td>1.0</td>\n    </tr>\n    <tr>\n      <th>6</th>\n      <td></td>\n      <td></td>\n      <td>electricity production, solar thermal paraboli...</td>\n      <td>0.054196</td>\n      <td>0.006289</td>\n      <td>0.000255</td>\n      <td>kilowatt_hour</td>\n      <td>1.0</td>\n    </tr>\n  </tbody>\n</table>\n</div>"
     },
     "execution_count": 21,
     "metadata": {},
     "output_type": "execute_result"
    }
   ],
   "source": [
    "# print(json.dumps((exp.scenarios[0].result_to_dict()), indent=2))\n",
    "hierarchy_experiment.scenarios[0].results_to_csv(\n",
    "    \"test.csv\", level_names=[\"root\", \"technology\", \"activity\"]\n",
    ")\n",
    "pd.read_csv(\"test.csv\").fillna(\"\")"
   ]
  },
  {
   "cell_type": "markdown",
   "source": [
    "## Create several scenarios"
   ],
   "metadata": {
    "collapsed": false
   }
  },
  {
   "cell_type": "code",
   "execution_count": 22,
   "outputs": [
    {
     "data": {
      "text/plain": "[{'name': 'normal scenario',\n  'nodes': {'electricity production, wind, 1-3MW turbine, onshore': ('kilowatt_hour',\n    1),\n   'electricity production, wind, 1-3MW turbine, offshore': ('kilowatt_hour',\n    1),\n   'electricity production, solar tower power plant, 20 MW': ('kilowatt_hour',\n    1),\n   'electricity production, solar thermal parabolic trough, 50 MW': ('kilowatt_hour',\n    1)}},\n {'name': None,\n  'nodes': {'electricity production, wind, 1-3MW turbine, onshore': ('kilowatt_hour',\n    8),\n   'electricity production, wind, 1-3MW turbine, offshore': ('kilowatt_hour',\n    7),\n   'electricity production, solar tower power plant, 20 MW': ('kilowatt_hour',\n    1),\n   'electricity production, solar thermal parabolic trough, 50 MW': ('kilowatt_hour',\n    1)}},\n {'name': None,\n  'nodes': {'electricity production, wind, 1-3MW turbine, onshore': ('kilowatt_hour',\n    9),\n   'electricity production, wind, 1-3MW turbine, offshore': ('kilowatt_hour',\n    6),\n   'electricity production, solar tower power plant, 20 MW': ('kilowatt_hour',\n    2),\n   'electricity production, solar thermal parabolic trough, 50 MW': ('kilowatt_hour',\n    8)}}]"
     },
     "execution_count": 22,
     "metadata": {},
     "output_type": "execute_result"
    }
   ],
   "source": [
    "from typing import Optional\n",
    "from random import randint\n",
    "\n",
    "\n",
    "def create_normal_scenario():\n",
    "    return {\n",
    "        \"name\": \"normal scenario\",\n",
    "        \"nodes\": {\n",
    "            act: (\"kilowatt_hour\", 1)\n",
    "            for act in hierarchy_experiment.structural_nodes_names\n",
    "        },\n",
    "    }\n",
    "\n",
    "\n",
    "def create_random_scenario(scneario_name: Optional[str] = None):\n",
    "    return {\n",
    "        \"name\": scneario_name,\n",
    "        \"nodes\": {\n",
    "            act: (\"kilowatt_hour\", randint(1, 10))\n",
    "            for act in hierarchy_experiment.structural_nodes_names\n",
    "        },\n",
    "    }\n",
    "\n",
    "\n",
    "scenarios_raw_data = deepcopy(hierarchy_raw_data)\n",
    "scenarios_raw_data[\"scenarios\"] = [\n",
    "    create_normal_scenario(),\n",
    "    create_random_scenario(),\n",
    "    create_random_scenario(),\n",
    "]\n",
    "\n",
    "scenarios_raw_data[\"scenarios\"]"
   ],
   "metadata": {
    "collapsed": false,
    "ExecuteTime": {
     "end_time": "2024-02-07T14:04:04.405457903Z",
     "start_time": "2024-02-07T14:04:04.385275315Z"
    }
   }
  },
  {
   "cell_type": "code",
   "outputs": [
    {
     "data": {
      "text/plain": "{'adapters': [{'adapter_name': 'brightway-adapter',\n   'config': {'bw_project': 'ecoinvent_391'},\n   'methods': {'GWP1000': ('ReCiPe 2016 v1.03, midpoint (H)',\n     'climate change',\n     'global warming potential (GWP1000)'),\n    'LOP': ('ReCiPe 2016 v1.03, midpoint (E)',\n     'land use',\n     'agricultural land occupation (LOP)'),\n    'WCP': ('ReCiPe 2016 v1.03, midpoint (E)',\n     'water use',\n     'water consumption potential (WCP)')}}],\n 'hierarchy': {'name': 'root',\n  'aggregator': 'sum',\n  'children': [{'name': 'wind',\n    'aggregator': 'sum',\n    'children': [{'name': 'electricity production, wind, 1-3MW turbine, onshore',\n      'adapter': 'brightway-adapter',\n      'config': {'code': 'ed3da88fc23311ee183e9ffd376de89b',\n       'default_output': {'unit': 'kilowatt_hour', 'magnitude': 3}}},\n     {'name': 'electricity production, wind, 1-3MW turbine, offshore',\n      'adapter': 'brightway-adapter',\n      'config': {'code': '6ebfe52dc3ef5b4d35bb603b03559023'}}]},\n   {'name': 'solar',\n    'aggregator': 'sum',\n    'children': [{'name': 'electricity production, solar tower power plant, 20 MW',\n      'adapter': 'bw',\n      'config': {'code': 'f2700b2ffcb6b32143a6f95d9cca1721'}},\n     {'name': 'electricity production, solar thermal parabolic trough, 50 MW',\n      'adapter': 'bw',\n      'config': {'code': '19040cdacdbf038e2f6ad59814f7a9ed'}}]}]},\n 'scenarios': [{'name': 'normal scenario',\n   'nodes': {'electricity production, wind, 1-3MW turbine, onshore': ('kilowatt_hour',\n     1),\n    'electricity production, wind, 1-3MW turbine, offshore': ('kilowatt_hour',\n     1),\n    'electricity production, solar tower power plant, 20 MW': ('kilowatt_hour',\n     1),\n    'electricity production, solar thermal parabolic trough, 50 MW': ('kilowatt_hour',\n     1)}},\n  {'name': None,\n   'nodes': {'electricity production, wind, 1-3MW turbine, onshore': ('kilowatt_hour',\n     8),\n    'electricity production, wind, 1-3MW turbine, offshore': ('kilowatt_hour',\n     7),\n    'electricity production, solar tower power plant, 20 MW': ('kilowatt_hour',\n     1),\n    'electricity production, solar thermal parabolic trough, 50 MW': ('kilowatt_hour',\n     1)}},\n  {'name': None,\n   'nodes': {'electricity production, wind, 1-3MW turbine, onshore': ('kilowatt_hour',\n     9),\n    'electricity production, wind, 1-3MW turbine, offshore': ('kilowatt_hour',\n     6),\n    'electricity production, solar tower power plant, 20 MW': ('kilowatt_hour',\n     2),\n    'electricity production, solar thermal parabolic trough, 50 MW': ('kilowatt_hour',\n     8)}}]}"
     },
     "execution_count": 23,
     "metadata": {},
     "output_type": "execute_result"
    }
   ],
   "source": [
    "scenarios_raw_data"
   ],
   "metadata": {
    "collapsed": false,
    "ExecuteTime": {
     "end_time": "2024-02-07T14:04:04.966663717Z",
     "start_time": "2024-02-07T14:04:04.951023202Z"
    }
   },
   "execution_count": 23
  },
  {
   "cell_type": "code",
   "execution_count": 24,
   "outputs": [],
   "source": [
    "scenarios_experiment = Experiment(scenarios_raw_data)"
   ],
   "metadata": {
    "collapsed": false,
    "ExecuteTime": {
     "end_time": "2024-02-07T14:04:07.034191912Z",
     "start_time": "2024-02-07T14:04:05.510462483Z"
    }
   }
  },
  {
   "cell_type": "markdown",
   "source": [
    " ## Run the experiment for the 3rd time\n",
    "This time will likely take some more time since we need to run 2 scenarios. "
   ],
   "metadata": {
    "collapsed": false
   }
  },
  {
   "cell_type": "code",
   "execution_count": 25,
   "outputs": [
    {
     "name": "stdout",
     "output_type": "stream",
     "text": [
      "2024-02-07 15:04:07,080 - ............enbios.demos.enbios.base - INFO - Running scenario 'normal scenario'\n",
      "2024-02-07 15:04:07,084 - ............enbios.demos.ADAPTER::(brightway-adapter) - INFO - Brightway adapter: Run distribution 1/1\n",
      "2024-02-07 15:04:51,874 - ............enbios.demos.enbios.base - INFO - Running scenario 'Scenario 1'\n",
      "2024-02-07 15:04:51,886 - ............enbios.demos.ADAPTER::(brightway-adapter) - INFO - Brightway adapter: Run distribution 1/1\n",
      "2024-02-07 15:05:39,431 - ............enbios.demos.enbios.base - INFO - Running scenario 'Scenario 2'\n",
      "2024-02-07 15:05:39,439 - ............enbios.demos.ADAPTER::(brightway-adapter) - INFO - Brightway adapter: Run distribution 1/1\n"
     ]
    }
   ],
   "source": [
    "_ = scenarios_experiment.run()\n",
    "# don't print the whole result"
   ],
   "metadata": {
    "collapsed": false,
    "ExecuteTime": {
     "end_time": "2024-02-07T14:06:40.184384808Z",
     "start_time": "2024-02-07T14:04:07.124910395Z"
    }
   }
  },
  {
   "cell_type": "code",
   "execution_count": 27,
   "outputs": [],
   "source": [
    "scenarios_experiment.scenarios[0].results_to_csv(\n",
    "    \"s1.csv\", level_names=[\"root\", \"technology\", \"activity\"]\n",
    ")\n",
    "pd.read_csv(\"s1.csv\").fillna(\"\")\n",
    "Path(\"s1.csv\").unlink()  # delete the file again"
   ],
   "metadata": {
    "collapsed": false,
    "ExecuteTime": {
     "end_time": "2024-02-07T14:07:03.075086080Z",
     "start_time": "2024-02-07T14:07:03.026967882Z"
    }
   }
  },
  {
   "cell_type": "markdown",
   "source": [
    "We can also now run any new scenario configuration for the given experiment using `run_scenario_config`"
   ],
   "metadata": {
    "collapsed": false
   }
  },
  {
   "cell_type": "code",
   "execution_count": 28,
   "outputs": [
    {
     "name": "stdout",
     "output_type": "stream",
     "text": [
      "2024-02-07 15:07:04,809 - ............enbios.demos.enbios.base - INFO - Running scenario 'new scenario'\n",
      "2024-02-07 15:07:04,814 - ............enbios.demos.ADAPTER::(brightway-adapter) - INFO - Brightway adapter: Run distribution 1/1\n"
     ]
    }
   ],
   "source": [
    "new_random_scenario = create_random_scenario()\n",
    "new_random_scenario[\"name\"] = \"new scenario\"\n",
    "new_results = scenarios_experiment.run_scenario_config(new_random_scenario)"
   ],
   "metadata": {
    "collapsed": false,
    "ExecuteTime": {
     "end_time": "2024-02-07T14:07:43.203970661Z",
     "start_time": "2024-02-07T14:07:04.812856338Z"
    }
   }
  },
  {
   "cell_type": "markdown",
   "source": [
    "## Inspecting the results\n",
    "\n",
    "We can now do some transformations of the results. For that is useful to know how to retrieve is singular result from a scenario result. \n",
    "The result of a scenario is a tree structure, where the nodes `name`s are activity aliases or names defined in the hierarchy. With the function of BasicTreeNode.find_child_by_name we can directly access the result of a node.    \n",
    "\n",
    "Following we transform the results into a dictionary of the following structure:\n",
    "```json\n",
    "{\n",
    "    \"node\": {\n",
    "        \"method\": \"[list of results for each scenario]\"\n",
    "    }\n",
    "}\n",
    "```"
   ],
   "metadata": {
    "collapsed": false
   }
  },
  {
   "cell_type": "code",
   "execution_count": 29,
   "outputs": [
    {
     "data": {
      "text/plain": "{'electricity production, wind, 1-3MW turbine, onshore': {'GWP1000': [{'unit': 'kg CO2-Eq',\n    'magnitude': 0.015243611332791748},\n   {'unit': 'kg CO2-Eq', 'magnitude': 0.12194889066233398},\n   {'unit': 'kg CO2-Eq', 'magnitude': 0.13719250200876407}],\n  'LOP': [{'unit': 'm2*a crop-Eq', 'magnitude': 0.0010661197743596256},\n   {'unit': 'm2*a crop-Eq', 'magnitude': 0.008528958194877005},\n   {'unit': 'm2*a crop-Eq', 'magnitude': 0.009595078053187335}],\n  'WCP': [{'unit': 'cubic meter', 'magnitude': 0.000136359937516592},\n   {'unit': 'cubic meter', 'magnitude': 0.001090879500132736},\n   {'unit': 'cubic meter', 'magnitude': 0.0012272394377443956}]},\n 'electricity production, wind, 1-3MW turbine, offshore': {'GWP1000': [{'unit': 'kg CO2-Eq',\n    'magnitude': 0.017020448257678778},\n   {'unit': 'kg CO2-Eq', 'magnitude': 0.11914313779678103},\n   {'unit': 'kg CO2-Eq', 'magnitude': 0.1021226895590089}],\n  'LOP': [{'unit': 'm2*a crop-Eq', 'magnitude': 0.00038096419487201346},\n   {'unit': 'm2*a crop-Eq', 'magnitude': 0.0026667494260329766},\n   {'unit': 'm2*a crop-Eq', 'magnitude': 0.00228578520814503}],\n  'WCP': [{'unit': 'cubic meter', 'magnitude': 0.00018804115063242375},\n   {'unit': 'cubic meter', 'magnitude': 0.001316288054387219},\n   {'unit': 'cubic meter', 'magnitude': 0.0011282469038874268}]},\n 'electricity production, solar tower power plant, 20 MW': {'GWP1000': [{'unit': 'kg CO2-Eq',\n    'magnitude': 0.048204581910669446},\n   {'unit': 'kg CO2-Eq', 'magnitude': 0.048204581910669446},\n   {'unit': 'kg CO2-Eq', 'magnitude': 0.09640916382133889}],\n  'LOP': [{'unit': 'm2*a crop-Eq', 'magnitude': 0.006941032057389291},\n   {'unit': 'm2*a crop-Eq', 'magnitude': 0.006941032057389291},\n   {'unit': 'm2*a crop-Eq', 'magnitude': 0.013882064114778582}],\n  'WCP': [{'unit': 'cubic meter', 'magnitude': 0.00021147976576316738},\n   {'unit': 'cubic meter', 'magnitude': 0.00021147976576316738},\n   {'unit': 'cubic meter', 'magnitude': 0.00042295953152633476}]},\n 'electricity production, solar thermal parabolic trough, 50 MW': {'GWP1000': [{'unit': 'kg CO2-Eq',\n    'magnitude': 0.054196188793569924},\n   {'unit': 'kg CO2-Eq', 'magnitude': 0.054196188793569924},\n   {'unit': 'kg CO2-Eq', 'magnitude': 0.4335695103485594}],\n  'LOP': [{'unit': 'm2*a crop-Eq', 'magnitude': 0.006288607303474669},\n   {'unit': 'm2*a crop-Eq', 'magnitude': 0.006288607303474669},\n   {'unit': 'm2*a crop-Eq', 'magnitude': 0.05030885842779735}],\n  'WCP': [{'unit': 'cubic meter', 'magnitude': 0.00025473125871396227},\n   {'unit': 'cubic meter', 'magnitude': 0.00025473125871396227},\n   {'unit': 'cubic meter', 'magnitude': 0.002037850069711698}]}}"
     },
     "execution_count": 29,
     "metadata": {},
     "output_type": "execute_result"
    }
   ],
   "source": [
    "all_results = {}\n",
    "for node in scenarios_experiment.structural_nodes_names:\n",
    "    all_results[node] = {method: [] for method in scenarios_experiment.method_names}\n",
    "    for scenario in scenarios_experiment.scenarios:\n",
    "        activity_result = scenario.result_tree.find_subnode_by_name(node)\n",
    "        for method, score in activity_result.data.results.items():\n",
    "            all_results[node][method].append(score.model_dump(exclude_defaults=True))\n",
    "\n",
    "all_results"
   ],
   "metadata": {
    "collapsed": false,
    "ExecuteTime": {
     "end_time": "2024-02-07T14:08:02.397416661Z",
     "start_time": "2024-02-07T14:08:02.351133512Z"
    }
   }
  }
 ],
 "metadata": {
  "kernelspec": {
   "display_name": "Python 3 (ipykernel)",
   "language": "python",
   "name": "python3"
  },
  "language_info": {
   "codemirror_mode": {
    "name": "ipython",
    "version": 3
   },
   "file_extension": ".py",
   "mimetype": "text/x-python",
   "name": "python",
   "nbconvert_exporter": "python",
   "pygments_lexer": "ipython3",
   "version": "3.11.4"
  }
 },
 "nbformat": 4,
 "nbformat_minor": 1
}
