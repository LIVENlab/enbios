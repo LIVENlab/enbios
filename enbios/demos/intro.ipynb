{
 "cells": [
  {
   "cell_type": "code",
   "execution_count": 1,
   "outputs": [],
   "source": [
    "from copy import deepcopy\n",
    "from pathlib import Path\n",
    "\n",
    "import bw2data\n",
    "import pandas as pd\n",
    "\n",
    "from enbios.base.experiment import Experiment\n",
    "from enbios.bw2.util import report\n",
    "from enbios.models.experiment_base_models import ExperimentData"
   ],
   "metadata": {
    "collapsed": false,
    "ExecuteTime": {
     "end_time": "2024-01-15T08:49:18.808229661Z",
     "start_time": "2024-01-15T08:49:16.968917768Z"
    }
   }
  },
  {
   "cell_type": "markdown",
   "source": [
    "In this demo, we demonstrate the basic working of Enbios. There are 4 main parts to this introduction. The first three parts, incrementally extend the experiment, while the 4. part displays some useful functionalities, that helps to understand how to configure enbios.\n",
    "\n",
    "For this introduction, we are going to use Brightway to do LCA calculations of ecoinvent (v.3.9.1) activities, that are at the bottom of the MuSIASEM hierarchy, so one should have a brigthway project, with some the ecoinvent dataset created before starting.\n",
    "\n",
    "In the first step, we get some brighway activities are construct the enbios configuration step by step."
   ],
   "metadata": {
    "collapsed": false
   }
  },
  {
   "cell_type": "code",
   "execution_count": 2,
   "metadata": {
    "ExecuteTime": {
     "end_time": "2024-01-15T08:51:14.086313766Z",
     "start_time": "2024-01-15T08:51:14.043284262Z"
    }
   },
   "outputs": [
    {
     "name": "stdout",
     "output_type": "stream",
     "text": [
      "Project: default\n",
      "[]\n",
      "Project: ecoinvent_391\n",
      "['biosphere3', 'ecoinvent_391_cutoff']\n",
      "Project: Spain case study\n",
      "['biosphere', 'food']\n",
      "Project: nonlinear-method-test\n",
      "['db']\n"
     ]
    }
   ],
   "source": [
    "# get an overview of brightway projects and databases\n",
    "report()"
   ]
  },
  {
   "cell_type": "code",
   "execution_count": 3,
   "metadata": {
    "ExecuteTime": {
     "end_time": "2024-01-15T08:51:14.448935905Z",
     "start_time": "2024-01-15T08:51:14.437446Z"
    }
   },
   "outputs": [],
   "source": [
    "# select the brightway project and database (e.g. some ecoinvent database)\n",
    "PROJECT_NAME = \"ecoinvent_391\"\n",
    "DATABASE = \"ecoinvent_391_cutoff\"\n",
    "\n",
    "bw2data.projects.set_current(PROJECT_NAME)\n",
    "db = bw2data.Database(DATABASE)"
   ]
  },
  {
   "cell_type": "markdown",
   "metadata": {},
   "source": [
    "# Simple example experiment\n",
    "Let's get 2 wind turbines from Spain"
   ]
  },
  {
   "cell_type": "code",
   "execution_count": 4,
   "metadata": {
    "ExecuteTime": {
     "end_time": "2024-01-15T08:51:15.916189153Z",
     "start_time": "2024-01-15T08:51:15.704905996Z"
    }
   },
   "outputs": [
    {
     "name": "stdout",
     "output_type": "stream",
     "text": [
      "Excluding 319 filtered results\n"
     ]
    },
    {
     "data": {
      "text/plain": "['electricity production, wind, 1-3MW turbine, onshore' (kilowatt hour, ES, None),\n 'electricity production, wind, 1-3MW turbine, offshore' (kilowatt hour, ES, None)]"
     },
     "execution_count": 4,
     "metadata": {},
     "output_type": "execute_result"
    }
   ],
   "source": [
    "wind_turbines_spain = db.search(\n",
    "    \"electricity production, wind, 1-3MW turbine, onshore\", filter={\"location\": \"ES\"}\n",
    ")[:2]\n",
    "wind_turbines_spain"
   ]
  },
  {
   "cell_type": "code",
   "execution_count": 5,
   "metadata": {
    "ExecuteTime": {
     "end_time": "2024-01-15T08:51:16.595137947Z",
     "start_time": "2024-01-15T08:51:16.585975353Z"
    }
   },
   "outputs": [],
   "source": [
    "# Now we use those, to define 2 leaf-nodes in our hierarchy.\n",
    "experiment_activities = []\n",
    "\n",
    "for activity in wind_turbines_spain:\n",
    "    experiment_activities.append(\n",
    "        {\n",
    "            \"name\": activity[\"name\"],\n",
    "            \"adapter\": \"brightway-adapter\",\n",
    "            \"config\": {\"code\": activity[\"code\"]},\n",
    "        }\n",
    "    )"
   ]
  },
  {
   "cell_type": "code",
   "execution_count": 6,
   "metadata": {
    "ExecuteTime": {
     "end_time": "2024-01-15T08:51:17.255455184Z",
     "start_time": "2024-01-15T08:51:17.250875489Z"
    }
   },
   "outputs": [
    {
     "data": {
      "text/plain": "[{'name': 'electricity production, wind, 1-3MW turbine, onshore',\n  'adapter': 'brightway-adapter',\n  'config': {'code': 'ed3da88fc23311ee183e9ffd376de89b',\n   'default_output': {'unit': 'kilowatt_hour', 'magnitude': 3}}},\n {'name': 'electricity production, wind, 1-3MW turbine, offshore',\n  'adapter': 'brightway-adapter',\n  'config': {'code': '6ebfe52dc3ef5b4d35bb603b03559023'}}]"
     },
     "execution_count": 6,
     "metadata": {},
     "output_type": "execute_result"
    }
   ],
   "source": [
    "# we can modify the output of the activities, by default it is the reference product (1 of the activity unit)\n",
    "experiment_activities[0][\"config\"][\"default_output\"] = {\n",
    "    \"unit\": \"kilowatt_hour\",\n",
    "    \"magnitude\": 3,\n",
    "}\n",
    "experiment_activities"
   ]
  },
  {
   "cell_type": "code",
   "execution_count": 7,
   "outputs": [],
   "source": [
    "hierarchy = {\n",
    "    \"name\": \"root\",\n",
    "    \"aggregator\": \"sum-aggregator\",\n",
    "    \"children\": experiment_activities,\n",
    "}"
   ],
   "metadata": {
    "collapsed": false,
    "ExecuteTime": {
     "end_time": "2024-01-15T08:51:18.112133224Z",
     "start_time": "2024-01-15T08:51:18.109171816Z"
    }
   }
  },
  {
   "cell_type": "code",
   "execution_count": 8,
   "metadata": {
    "ExecuteTime": {
     "end_time": "2024-01-15T08:51:18.719404064Z",
     "start_time": "2024-01-15T08:51:18.715221166Z"
    }
   },
   "outputs": [
    {
     "data": {
      "text/plain": "{'brown coal': ('EDIP 2003', 'non-renewable resources', 'brown coal'),\n 'ionising radiation potential (IRP)': ('ReCiPe 2016 v1.03, midpoint (H)',\n  'ionising radiation',\n  'ionising radiation potential (IRP)')}"
     },
     "execution_count": 8,
     "metadata": {},
     "output_type": "execute_result"
    }
   ],
   "source": [
    "# select 2 random methods and convert them into the form for enbios2\n",
    "experiment_methods = [bw2data.methods.random() for _ in range(2)]\n",
    "\n",
    "experiment_methods = {m[-1]: m for m in experiment_methods}\n",
    "experiment_methods"
   ]
  },
  {
   "cell_type": "code",
   "execution_count": 9,
   "outputs": [],
   "source": [
    "# alternatively, we could just specify two methods\n",
    "experiment_methods = {\n",
    "    \"GWP1000\": (\n",
    "        \"ReCiPe 2016 v1.03, midpoint (H)\",\n",
    "        \"climate change\",\n",
    "        \"global warming potential (GWP1000)\",\n",
    "    ),\n",
    "    \"FETP\": (\n",
    "        \"ReCiPe 2016 v1.03, midpoint (H)\",\n",
    "        \"ecotoxicity: freshwater\",\n",
    "        \"freshwater ecotoxicity potential (FETP)\",\n",
    "    ),\n",
    "}"
   ],
   "metadata": {
    "collapsed": false,
    "ExecuteTime": {
     "end_time": "2024-01-15T08:51:19.382910575Z",
     "start_time": "2024-01-15T08:51:19.380026664Z"
    }
   }
  },
  {
   "cell_type": "code",
   "execution_count": 10,
   "metadata": {
    "ExecuteTime": {
     "end_time": "2024-01-15T08:51:19.896066730Z",
     "start_time": "2024-01-15T08:51:19.892294277Z"
    }
   },
   "outputs": [
    {
     "data": {
      "text/plain": "{'adapters': [{'adapter_name': 'brightway-adapter',\n   'config': {'bw_project': 'ecoinvent_391'},\n   'methods': {'GWP1000': ('ReCiPe 2016 v1.03, midpoint (H)',\n     'climate change',\n     'global warming potential (GWP1000)'),\n    'FETP': ('ReCiPe 2016 v1.03, midpoint (H)',\n     'ecotoxicity: freshwater',\n     'freshwater ecotoxicity potential (FETP)')}}],\n 'hierarchy': {'name': 'root',\n  'aggregator': 'sum-aggregator',\n  'children': [{'name': 'electricity production, wind, 1-3MW turbine, onshore',\n    'config': {'code': 'ed3da88fc23311ee183e9ffd376de89b',\n     'default_output': {'unit': 'kilowatt_hour', 'magnitude': 3}},\n    'adapter': 'brightway-adapter'},\n   {'name': 'electricity production, wind, 1-3MW turbine, offshore',\n    'config': {'code': '6ebfe52dc3ef5b4d35bb603b03559023'},\n    'adapter': 'brightway-adapter'}]}}"
     },
     "execution_count": 10,
     "metadata": {},
     "output_type": "execute_result"
    }
   ],
   "source": [
    "# let's store the raw data, because we want to modify it later\n",
    "simple_raw_data = {\n",
    "    \"adapters\": [\n",
    "        {\n",
    "            \"adapter_name\": \"brightway-adapter\",\n",
    "            \"config\": {\"bw_project\": PROJECT_NAME},\n",
    "            \"methods\": experiment_methods,\n",
    "        }\n",
    "    ],\n",
    "    \"hierarchy\": hierarchy,\n",
    "}\n",
    "\n",
    "# make a first validation of the experiment data\n",
    "exp_data = ExperimentData(**simple_raw_data)\n",
    "exp_data.model_dump(exclude_unset=True)"
   ]
  },
  {
   "cell_type": "code",
   "execution_count": 11,
   "metadata": {
    "ExecuteTime": {
     "end_time": "2024-01-15T08:51:20.742376807Z",
     "start_time": "2024-01-15T08:51:20.622090993Z"
    }
   },
   "outputs": [],
   "source": [
    "# create experiment object. This will validate the activities, their outputs, the methods and the scenarios.\n",
    "simple_experiment: Experiment = Experiment(simple_raw_data)"
   ]
  },
  {
   "cell_type": "code",
   "execution_count": 12,
   "metadata": {
    "ExecuteTime": {
     "end_time": "2024-01-15T08:51:21.435083167Z",
     "start_time": "2024-01-15T08:51:21.430300825Z"
    }
   },
   "outputs": [
    {
     "name": "stdout",
     "output_type": "stream",
     "text": [
      "Experiment: \n",
      "Activities: 2\n",
      "root - sum-aggregator\n",
      " electricity production, wind, 1-3MW turbine, onshore - brightway-adapter\n",
      " electricity production, wind, 1-3MW turbine, offshore - brightway-adapter\n",
      "Methods: 2\n",
      " bw.GWP1000\n",
      " bw.FETP\n",
      "Hierarchy (depth): 2\n",
      "Scenarios: 1\n"
     ]
    }
   ],
   "source": [
    "print(simple_experiment.info())"
   ]
  },
  {
   "cell_type": "markdown",
   "metadata": {},
   "source": [
    "## Running the experiment"
   ]
  },
  {
   "cell_type": "code",
   "execution_count": 13,
   "metadata": {
    "ExecuteTime": {
     "end_time": "2024-01-15T08:51:55.112989602Z",
     "start_time": "2024-01-15T08:51:22.869669946Z"
    }
   },
   "outputs": [
    {
     "name": "stdout",
     "output_type": "stream",
     "text": [
      "2024-01-15 09:51:22,867 - ............enbios.demos.enbios.base - INFO - Running scenario 'default scenario'\n"
     ]
    }
   ],
   "source": [
    "# run all scenarios at once, Results will be returned as dictionary\n",
    "# <scenario_name : str> : <scenario_result : dict>\n",
    "# <scenario_result> : dict represents the root node of the results tree, with the following keys:\n",
    "# name, output, results, children\n",
    "# where results, is a dictionary of impacts to dict: unit, magnitude | multi_magnitude\n",
    "# The first and only positional parameter 'results_as_dict' can be set to False, to get the tree unserialized as :  BasicTreeNode[ScenarioResultNodeData]\n",
    "results = simple_experiment.run()"
   ]
  },
  {
   "cell_type": "markdown",
   "metadata": {},
   "source": [
    "# Result\n",
    "The result is a dictionary of scenario names, where for each scenario we have a tree (representing the activity hierarchy). Each node (`BasicTreeNode`) in the tree has a `data` object, which is of the type `ScenarioResultNodeData`, which have the fields `output`, `result`."
   ]
  },
  {
   "cell_type": "code",
   "execution_count": 14,
   "metadata": {
    "ExecuteTime": {
     "end_time": "2024-01-15T08:51:55.114162689Z",
     "start_time": "2024-01-15T08:51:55.112808954Z"
    }
   },
   "outputs": [
    {
     "data": {
      "text/plain": "{'default scenario': {'name': 'root',\n  'results': {'GWP1000': {'unit': 'kg CO2-Eq',\n    'magnitude': 0.06275128225929673},\n   'FETP': {'unit': 'kg 1,4-DCB-Eq', 'magnitude': 0.023866276586311866}},\n  'output': {'unit': 'kilowatt_hour', 'magnitude': 4.0},\n  'children': [{'name': 'electricity production, wind, 1-3MW turbine, onshore',\n    'results': {'GWP1000': {'unit': 'kg CO2-Eq',\n      'magnitude': 0.045730834001617954},\n     'FETP': {'unit': 'kg 1,4-DCB-Eq', 'magnitude': 0.0192768242242305}},\n    'output': {'unit': 'kilowatt_hour', 'magnitude': 3.0}},\n   {'name': 'electricity production, wind, 1-3MW turbine, offshore',\n    'results': {'GWP1000': {'unit': 'kg CO2-Eq',\n      'magnitude': 0.017020448257678778},\n     'FETP': {'unit': 'kg 1,4-DCB-Eq', 'magnitude': 0.004589452362081367}},\n    'output': {'unit': 'kilowatt_hour', 'magnitude': 1.0}}]}}"
     },
     "execution_count": 14,
     "metadata": {},
     "output_type": "execute_result"
    }
   ],
   "source": [
    "results"
   ]
  },
  {
   "cell_type": "code",
   "execution_count": 15,
   "metadata": {
    "ExecuteTime": {
     "end_time": "2024-01-15T08:51:55.128011826Z",
     "start_time": "2024-01-15T08:51:55.113079048Z"
    }
   },
   "outputs": [
    {
     "data": {
      "text/plain": "           scenario lvl_0                                              lvl_1  \\\n0  default scenario  root                                                      \n1                          electricity production, wind, 1-3MW turbine, o...   \n2                          electricity production, wind, 1-3MW turbine, o...   \n\n   GWP1000_magnitude (kg CO2-Eq)  FETP_magnitude (kg 1,4-DCB-Eq)  \\\n0                       0.062751                        0.023866   \n1                       0.045731                        0.019277   \n2                       0.017020                        0.004589   \n\n     output_unit  output_magnitude  \n0  kilowatt_hour               4.0  \n1  kilowatt_hour               3.0  \n2  kilowatt_hour               1.0  ",
      "text/html": "<div>\n<style scoped>\n    .dataframe tbody tr th:only-of-type {\n        vertical-align: middle;\n    }\n\n    .dataframe tbody tr th {\n        vertical-align: top;\n    }\n\n    .dataframe thead th {\n        text-align: right;\n    }\n</style>\n<table border=\"1\" class=\"dataframe\">\n  <thead>\n    <tr style=\"text-align: right;\">\n      <th></th>\n      <th>scenario</th>\n      <th>lvl_0</th>\n      <th>lvl_1</th>\n      <th>GWP1000_magnitude (kg CO2-Eq)</th>\n      <th>FETP_magnitude (kg 1,4-DCB-Eq)</th>\n      <th>output_unit</th>\n      <th>output_magnitude</th>\n    </tr>\n  </thead>\n  <tbody>\n    <tr>\n      <th>0</th>\n      <td>default scenario</td>\n      <td>root</td>\n      <td></td>\n      <td>0.062751</td>\n      <td>0.023866</td>\n      <td>kilowatt_hour</td>\n      <td>4.0</td>\n    </tr>\n    <tr>\n      <th>1</th>\n      <td></td>\n      <td></td>\n      <td>electricity production, wind, 1-3MW turbine, o...</td>\n      <td>0.045731</td>\n      <td>0.019277</td>\n      <td>kilowatt_hour</td>\n      <td>3.0</td>\n    </tr>\n    <tr>\n      <th>2</th>\n      <td></td>\n      <td></td>\n      <td>electricity production, wind, 1-3MW turbine, o...</td>\n      <td>0.017020</td>\n      <td>0.004589</td>\n      <td>kilowatt_hour</td>\n      <td>1.0</td>\n    </tr>\n  </tbody>\n</table>\n</div>"
     },
     "execution_count": 15,
     "metadata": {},
     "output_type": "execute_result"
    }
   ],
   "source": [
    "# we can dump the results into a csv file\n",
    "simple_experiment.results_to_csv(\"test.csv\")\n",
    "pd.read_csv(\"test.csv\").fillna(\"\")"
   ]
  },
  {
   "cell_type": "code",
   "execution_count": 16,
   "metadata": {
    "ExecuteTime": {
     "end_time": "2024-01-15T08:51:55.179449847Z",
     "start_time": "2024-01-15T08:51:55.120680848Z"
    }
   },
   "outputs": [
    {
     "data": {
      "text/plain": "{'name': 'root',\n 'results': {'GWP1000': {'unit': 'kg CO2-Eq',\n   'magnitude': 0.06275128225929673},\n  'FETP': {'unit': 'kg 1,4-DCB-Eq', 'magnitude': 0.023866276586311866}},\n 'output': {'unit': 'kilowatt_hour', 'magnitude': 4.0},\n 'children': [{'name': 'electricity production, wind, 1-3MW turbine, onshore',\n   'results': {'GWP1000': {'unit': 'kg CO2-Eq',\n     'magnitude': 0.045730834001617954},\n    'FETP': {'unit': 'kg 1,4-DCB-Eq', 'magnitude': 0.0192768242242305}},\n   'output': {'unit': 'kilowatt_hour', 'magnitude': 3.0}},\n  {'name': 'electricity production, wind, 1-3MW turbine, offshore',\n   'results': {'GWP1000': {'unit': 'kg CO2-Eq',\n     'magnitude': 0.017020448257678778},\n    'FETP': {'unit': 'kg 1,4-DCB-Eq', 'magnitude': 0.004589452362081367}},\n   'output': {'unit': 'kilowatt_hour', 'magnitude': 1.0}}]}"
     },
     "execution_count": 16,
     "metadata": {},
     "output_type": "execute_result"
    }
   ],
   "source": [
    "simple_experiment.scenarios[0].result_to_dict()"
   ]
  },
  {
   "cell_type": "markdown",
   "metadata": {},
   "source": [
    "## Add a technology hierarchy (dendrogram) \n",
    "Let's now add a few more activities to the experiment and create a hierarchy of activities."
   ]
  },
  {
   "cell_type": "code",
   "execution_count": 17,
   "metadata": {
    "ExecuteTime": {
     "end_time": "2024-01-15T08:51:55.442445398Z",
     "start_time": "2024-01-15T08:51:55.164917416Z"
    }
   },
   "outputs": [
    {
     "name": "stdout",
     "output_type": "stream",
     "text": [
      "Excluding 465 filtered results\n"
     ]
    },
    {
     "data": {
      "text/plain": "['electricity production, solar tower power plant, 20 MW' (kilowatt hour, ES, None),\n 'electricity production, solar thermal parabolic trough, 50 MW' (kilowatt hour, ES, None)]"
     },
     "execution_count": 17,
     "metadata": {},
     "output_type": "execute_result"
    }
   ],
   "source": [
    "solar_spain = db.search(\"solar\", filter={\"location\": \"ES\"})[:2]\n",
    "solar_spain"
   ]
  },
  {
   "cell_type": "code",
   "execution_count": 18,
   "outputs": [],
   "source": [
    "experiment_activities_solar = []\n",
    "for activity in solar_spain:\n",
    "    experiment_activities_solar.append(\n",
    "        {\"name\": activity[\"name\"], \"adapter\": \"bw\", \"config\": {\"code\": activity[\"code\"]}}\n",
    "    )\n",
    "\n",
    "hierarchy_raw_data = deepcopy(simple_raw_data)\n",
    "\n",
    "hierarchy_raw_data[\"hierarchy\"] = {\n",
    "    \"name\": \"root\",\n",
    "    \"aggregator\": \"sum\",\n",
    "    \"children\": [\n",
    "        {\"name\": \"wind\", \"aggregator\": \"sum\", \"children\": experiment_activities},\n",
    "        {\"name\": \"solar\", \"aggregator\": \"sum\", \"children\": experiment_activities_solar},\n",
    "    ],\n",
    "}"
   ],
   "metadata": {
    "collapsed": false,
    "ExecuteTime": {
     "end_time": "2024-01-15T08:51:55.444458221Z",
     "start_time": "2024-01-15T08:51:55.216302915Z"
    }
   }
  },
  {
   "cell_type": "code",
   "execution_count": 19,
   "metadata": {
    "ExecuteTime": {
     "end_time": "2024-01-15T08:51:55.501042810Z",
     "start_time": "2024-01-15T08:51:55.256901702Z"
    }
   },
   "outputs": [],
   "source": [
    "hierarchy_experiment: Experiment = Experiment(hierarchy_raw_data)"
   ]
  },
  {
   "cell_type": "markdown",
   "source": [
    "# Run the 2nd experiment"
   ],
   "metadata": {
    "collapsed": false
   }
  },
  {
   "cell_type": "code",
   "execution_count": 20,
   "metadata": {
    "ExecuteTime": {
     "end_time": "2024-01-15T08:52:37.559667390Z",
     "start_time": "2024-01-15T08:51:55.339832304Z"
    }
   },
   "outputs": [
    {
     "name": "stdout",
     "output_type": "stream",
     "text": [
      "2024-01-15 09:51:55,338 - ............enbios.demos.enbios.base - INFO - Running scenario 'default scenario'\n"
     ]
    },
    {
     "data": {
      "text/plain": "{'default scenario': {'name': 'root',\n  'results': {'GWP1000': {'unit': 'kg CO2-Eq',\n    'magnitude': 0.16515205296353608},\n   'FETP': {'unit': 'kg 1,4-DCB-Eq', 'magnitude': 0.030201672466260446}},\n  'output': {'unit': 'kilowatt_hour', 'magnitude': 6.0},\n  'children': [{'name': 'wind',\n    'results': {'GWP1000': {'unit': 'kg CO2-Eq',\n      'magnitude': 0.06275128225929673},\n     'FETP': {'unit': 'kg 1,4-DCB-Eq', 'magnitude': 0.023866276586311866}},\n    'output': {'unit': 'kilowatt_hour', 'magnitude': 4.0},\n    'children': [{'name': 'electricity production, wind, 1-3MW turbine, onshore',\n      'results': {'GWP1000': {'unit': 'kg CO2-Eq',\n        'magnitude': 0.045730834001617954},\n       'FETP': {'unit': 'kg 1,4-DCB-Eq', 'magnitude': 0.0192768242242305}},\n      'output': {'unit': 'kilowatt_hour', 'magnitude': 3.0}},\n     {'name': 'electricity production, wind, 1-3MW turbine, offshore',\n      'results': {'GWP1000': {'unit': 'kg CO2-Eq',\n        'magnitude': 0.017020448257678778},\n       'FETP': {'unit': 'kg 1,4-DCB-Eq', 'magnitude': 0.004589452362081367}},\n      'output': {'unit': 'kilowatt_hour', 'magnitude': 1.0}}]},\n   {'name': 'solar',\n    'results': {'GWP1000': {'unit': 'kg CO2-Eq',\n      'magnitude': 0.10240077070423936},\n     'FETP': {'unit': 'kg 1,4-DCB-Eq', 'magnitude': 0.006335395879948579}},\n    'output': {'unit': 'kilowatt_hour', 'magnitude': 2.0},\n    'children': [{'name': 'electricity production, solar tower power plant, 20 MW',\n      'results': {'GWP1000': {'unit': 'kg CO2-Eq',\n        'magnitude': 0.048204581910669446},\n       'FETP': {'unit': 'kg 1,4-DCB-Eq', 'magnitude': 0.003242319969953703}},\n      'output': {'unit': 'kilowatt_hour', 'magnitude': 1.0}},\n     {'name': 'electricity production, solar thermal parabolic trough, 50 MW',\n      'results': {'GWP1000': {'unit': 'kg CO2-Eq',\n        'magnitude': 0.054196188793569924},\n       'FETP': {'unit': 'kg 1,4-DCB-Eq', 'magnitude': 0.003093075909994876}},\n      'output': {'unit': 'kilowatt_hour', 'magnitude': 1.0}}]}]}}"
     },
     "execution_count": 20,
     "metadata": {},
     "output_type": "execute_result"
    }
   ],
   "source": [
    "hierarchy_experiment.run()"
   ]
  },
  {
   "cell_type": "code",
   "execution_count": 21,
   "metadata": {
    "ExecuteTime": {
     "end_time": "2024-01-15T08:52:37.563919740Z",
     "start_time": "2024-01-15T08:52:37.548835887Z"
    }
   },
   "outputs": [
    {
     "data": {
      "text/plain": "   root technology                                           activity  \\\n0  root                                                                 \n1             wind                                                      \n2                   electricity production, wind, 1-3MW turbine, o...   \n3                   electricity production, wind, 1-3MW turbine, o...   \n4            solar                                                      \n5                   electricity production, solar tower power plan...   \n6                   electricity production, solar thermal paraboli...   \n\n   GWP1000_magnitude (kg CO2-Eq)  FETP_magnitude (kg 1,4-DCB-Eq)  \\\n0                       0.165152                        0.030202   \n1                       0.062751                        0.023866   \n2                       0.045731                        0.019277   \n3                       0.017020                        0.004589   \n4                       0.102401                        0.006335   \n5                       0.048205                        0.003242   \n6                       0.054196                        0.003093   \n\n     output_unit  output_magnitude  \n0  kilowatt_hour               6.0  \n1  kilowatt_hour               4.0  \n2  kilowatt_hour               3.0  \n3  kilowatt_hour               1.0  \n4  kilowatt_hour               2.0  \n5  kilowatt_hour               1.0  \n6  kilowatt_hour               1.0  ",
      "text/html": "<div>\n<style scoped>\n    .dataframe tbody tr th:only-of-type {\n        vertical-align: middle;\n    }\n\n    .dataframe tbody tr th {\n        vertical-align: top;\n    }\n\n    .dataframe thead th {\n        text-align: right;\n    }\n</style>\n<table border=\"1\" class=\"dataframe\">\n  <thead>\n    <tr style=\"text-align: right;\">\n      <th></th>\n      <th>root</th>\n      <th>technology</th>\n      <th>activity</th>\n      <th>GWP1000_magnitude (kg CO2-Eq)</th>\n      <th>FETP_magnitude (kg 1,4-DCB-Eq)</th>\n      <th>output_unit</th>\n      <th>output_magnitude</th>\n    </tr>\n  </thead>\n  <tbody>\n    <tr>\n      <th>0</th>\n      <td>root</td>\n      <td></td>\n      <td></td>\n      <td>0.165152</td>\n      <td>0.030202</td>\n      <td>kilowatt_hour</td>\n      <td>6.0</td>\n    </tr>\n    <tr>\n      <th>1</th>\n      <td></td>\n      <td>wind</td>\n      <td></td>\n      <td>0.062751</td>\n      <td>0.023866</td>\n      <td>kilowatt_hour</td>\n      <td>4.0</td>\n    </tr>\n    <tr>\n      <th>2</th>\n      <td></td>\n      <td></td>\n      <td>electricity production, wind, 1-3MW turbine, o...</td>\n      <td>0.045731</td>\n      <td>0.019277</td>\n      <td>kilowatt_hour</td>\n      <td>3.0</td>\n    </tr>\n    <tr>\n      <th>3</th>\n      <td></td>\n      <td></td>\n      <td>electricity production, wind, 1-3MW turbine, o...</td>\n      <td>0.017020</td>\n      <td>0.004589</td>\n      <td>kilowatt_hour</td>\n      <td>1.0</td>\n    </tr>\n    <tr>\n      <th>4</th>\n      <td></td>\n      <td>solar</td>\n      <td></td>\n      <td>0.102401</td>\n      <td>0.006335</td>\n      <td>kilowatt_hour</td>\n      <td>2.0</td>\n    </tr>\n    <tr>\n      <th>5</th>\n      <td></td>\n      <td></td>\n      <td>electricity production, solar tower power plan...</td>\n      <td>0.048205</td>\n      <td>0.003242</td>\n      <td>kilowatt_hour</td>\n      <td>1.0</td>\n    </tr>\n    <tr>\n      <th>6</th>\n      <td></td>\n      <td></td>\n      <td>electricity production, solar thermal paraboli...</td>\n      <td>0.054196</td>\n      <td>0.003093</td>\n      <td>kilowatt_hour</td>\n      <td>1.0</td>\n    </tr>\n  </tbody>\n</table>\n</div>"
     },
     "execution_count": 21,
     "metadata": {},
     "output_type": "execute_result"
    }
   ],
   "source": [
    "# print(json.dumps((exp.scenarios[0].result_to_dict()), indent=2))\n",
    "hierarchy_experiment.scenarios[0].results_to_csv(\n",
    "    \"test.csv\", level_names=[\"root\", \"technology\", \"activity\"]\n",
    ")\n",
    "pd.read_csv(\"test.csv\").fillna(\"\")"
   ]
  },
  {
   "cell_type": "markdown",
   "source": [
    "## Create several scenarios"
   ],
   "metadata": {
    "collapsed": false
   }
  },
  {
   "cell_type": "code",
   "execution_count": 22,
   "outputs": [
    {
     "data": {
      "text/plain": "[{'name': 'normal scenario',\n  'activities': {'electricity production, wind, 1-3MW turbine, onshore': ('kilowatt_hour',\n    1),\n   'electricity production, wind, 1-3MW turbine, offshore': ('kilowatt_hour',\n    1),\n   'electricity production, solar tower power plant, 20 MW': ('kilowatt_hour',\n    1),\n   'electricity production, solar thermal parabolic trough, 50 MW': ('kilowatt_hour',\n    1)}},\n {'name': None,\n  'activities': {'electricity production, wind, 1-3MW turbine, onshore': ('kilowatt_hour',\n    7),\n   'electricity production, wind, 1-3MW turbine, offshore': ('kilowatt_hour',\n    2),\n   'electricity production, solar tower power plant, 20 MW': ('kilowatt_hour',\n    2),\n   'electricity production, solar thermal parabolic trough, 50 MW': ('kilowatt_hour',\n    8)}},\n {'name': None,\n  'activities': {'electricity production, wind, 1-3MW turbine, onshore': ('kilowatt_hour',\n    6),\n   'electricity production, wind, 1-3MW turbine, offshore': ('kilowatt_hour',\n    1),\n   'electricity production, solar tower power plant, 20 MW': ('kilowatt_hour',\n    8),\n   'electricity production, solar thermal parabolic trough, 50 MW': ('kilowatt_hour',\n    3)}}]"
     },
     "execution_count": 22,
     "metadata": {},
     "output_type": "execute_result"
    }
   ],
   "source": [
    "from typing import Optional\n",
    "from random import randint\n",
    "\n",
    "\n",
    "def create_normal_scenario():\n",
    "    return {\n",
    "        \"name\": \"normal scenario\",\n",
    "        \"activities\": {\n",
    "            act: (\"kilowatt_hour\", 1) for act in hierarchy_experiment.activities_names\n",
    "        },\n",
    "    }\n",
    "\n",
    "\n",
    "def create_random_scenario(scneario_name: Optional[str] = None):\n",
    "    return {\n",
    "        \"name\": scneario_name,\n",
    "        \"activities\": {\n",
    "            act: (\"kilowatt_hour\", randint(1, 10))\n",
    "            for act in hierarchy_experiment.activities_names\n",
    "        },\n",
    "    }\n",
    "\n",
    "\n",
    "scenarios_raw_data = deepcopy(hierarchy_raw_data)\n",
    "scenarios_raw_data[\"scenarios\"] = [\n",
    "    create_normal_scenario(),\n",
    "    create_random_scenario(),\n",
    "    create_random_scenario(),\n",
    "]\n",
    "\n",
    "scenarios_raw_data[\"scenarios\"]"
   ],
   "metadata": {
    "collapsed": false,
    "ExecuteTime": {
     "end_time": "2024-01-15T08:52:37.577538462Z",
     "start_time": "2024-01-15T08:52:37.549150314Z"
    }
   }
  },
  {
   "cell_type": "code",
   "execution_count": 23,
   "outputs": [],
   "source": [
    "scenarios_experiment = Experiment(scenarios_raw_data)"
   ],
   "metadata": {
    "collapsed": false,
    "ExecuteTime": {
     "end_time": "2024-01-15T08:52:37.699517931Z",
     "start_time": "2024-01-15T08:52:37.552553304Z"
    }
   }
  },
  {
   "cell_type": "markdown",
   "source": [
    " ## Run the experiment for the 3rd time\n",
    "This time will likely take some more time since we need to run 2 scenarios. "
   ],
   "metadata": {
    "collapsed": false
   }
  },
  {
   "cell_type": "code",
   "execution_count": 24,
   "outputs": [
    {
     "name": "stdout",
     "output_type": "stream",
     "text": [
      "2024-01-15 09:52:37,683 - ............enbios.demos.enbios.base - INFO - Running scenario 'normal scenario'\n",
      "2024-01-15 09:53:16,054 - ............enbios.demos.enbios.base - INFO - Running scenario 'Scenario 1'\n",
      "2024-01-15 09:53:49,518 - ............enbios.demos.enbios.base - INFO - Running scenario 'Scenario 2'\n"
     ]
    }
   ],
   "source": [
    "_ = scenarios_experiment.run()\n",
    "# don't print the whole result"
   ],
   "metadata": {
    "collapsed": false,
    "ExecuteTime": {
     "end_time": "2024-01-15T08:54:25.544975445Z",
     "start_time": "2024-01-15T08:52:37.687172016Z"
    }
   }
  },
  {
   "cell_type": "code",
   "execution_count": 25,
   "outputs": [],
   "source": [
    "scenarios_experiment.scenarios[0].results_to_csv(\n",
    "    \"s1.csv\", level_names=[\"root\", \"technology\", \"activity\"]\n",
    ")\n",
    "pd.read_csv(\"s1.csv\").fillna(\"\")\n",
    "Path(\"s1.csv\").unlink()  # delete the file again"
   ],
   "metadata": {
    "collapsed": false,
    "ExecuteTime": {
     "end_time": "2024-01-15T08:54:25.589976508Z",
     "start_time": "2024-01-15T08:54:25.588767017Z"
    }
   }
  },
  {
   "cell_type": "markdown",
   "source": [
    "We can also now run any new scenario configuration for the given experiment using `run_scenario_config`"
   ],
   "metadata": {
    "collapsed": false
   }
  },
  {
   "cell_type": "code",
   "execution_count": 26,
   "outputs": [
    {
     "name": "stdout",
     "output_type": "stream",
     "text": [
      "2024-01-15 09:54:25,572 - ............enbios.demos.enbios.base - INFO - Running scenario 'new scenario'\n"
     ]
    }
   ],
   "source": [
    "new_random_scenario = create_random_scenario()\n",
    "new_random_scenario[\"name\"] = \"new scenario\"\n",
    "new_results = scenarios_experiment.run_scenario_config(new_random_scenario)"
   ],
   "metadata": {
    "collapsed": false,
    "ExecuteTime": {
     "end_time": "2024-01-15T08:55:03.582336346Z",
     "start_time": "2024-01-15T08:54:25.588979870Z"
    }
   }
  },
  {
   "cell_type": "markdown",
   "source": [
    "## Inspecting the results\n",
    "\n",
    "We can now do some transformations of the results. For that is useful to know how to retrieve is singular result from a scenario result. \n",
    "The result of a scenario is a tree structure, where the nodes `name`s are activity aliases or names defined in the hierarchy. With the function of BasicTreeNode.find_child_by_name we can directly access the result of a node.    \n",
    "\n",
    "Following we transform the results into a dictionary of the following structure:\n",
    "```json\n",
    "{\n",
    "    \"node\": {\n",
    "        \"method\": \"[list of results for each scenario]\"\n",
    "    }\n",
    "}\n",
    "```"
   ],
   "metadata": {
    "collapsed": false
   }
  },
  {
   "cell_type": "code",
   "execution_count": 27,
   "outputs": [
    {
     "data": {
      "text/plain": "{'electricity production, wind, 1-3MW turbine, onshore': {'GWP1000': [{'unit': 'kg CO2-Eq',\n    'magnitude': 0.015243611332791748},\n   {'unit': 'kg CO2-Eq', 'magnitude': 0.10670527933637915},\n   {'unit': 'kg CO2-Eq', 'magnitude': 0.09146166800323591}],\n  'FETP': [{'unit': 'kg 1,4-DCB-Eq', 'magnitude': 0.0064256080745064845},\n   {'unit': 'kg 1,4-DCB-Eq', 'magnitude': 0.044979256522763626},\n   {'unit': 'kg 1,4-DCB-Eq', 'magnitude': 0.038553648448461}]},\n 'electricity production, wind, 1-3MW turbine, offshore': {'GWP1000': [{'unit': 'kg CO2-Eq',\n    'magnitude': 0.017020448257678778},\n   {'unit': 'kg CO2-Eq', 'magnitude': 0.034040896515357556},\n   {'unit': 'kg CO2-Eq', 'magnitude': 0.017020448257678778}],\n  'FETP': [{'unit': 'kg 1,4-DCB-Eq', 'magnitude': 0.004589452362081367},\n   {'unit': 'kg 1,4-DCB-Eq', 'magnitude': 0.009178904724162733},\n   {'unit': 'kg 1,4-DCB-Eq', 'magnitude': 0.004589452362081367}]},\n 'electricity production, solar tower power plant, 20 MW': {'GWP1000': [{'unit': 'kg CO2-Eq',\n    'magnitude': 0.048204581910669446},\n   {'unit': 'kg CO2-Eq', 'magnitude': 0.09640916382133889},\n   {'unit': 'kg CO2-Eq', 'magnitude': 0.38563665528535557}],\n  'FETP': [{'unit': 'kg 1,4-DCB-Eq', 'magnitude': 0.003242319969953703},\n   {'unit': 'kg 1,4-DCB-Eq', 'magnitude': 0.006484639939907406},\n   {'unit': 'kg 1,4-DCB-Eq', 'magnitude': 0.025938559759629623}]},\n 'electricity production, solar thermal parabolic trough, 50 MW': {'GWP1000': [{'unit': 'kg CO2-Eq',\n    'magnitude': 0.054196188793569924},\n   {'unit': 'kg CO2-Eq', 'magnitude': 0.4335695103485594},\n   {'unit': 'kg CO2-Eq', 'magnitude': 0.1625885663807389}],\n  'FETP': [{'unit': 'kg 1,4-DCB-Eq', 'magnitude': 0.003093075909994876},\n   {'unit': 'kg 1,4-DCB-Eq', 'magnitude': 0.02474460727995901},\n   {'unit': 'kg 1,4-DCB-Eq', 'magnitude': 0.009279227729981526}]}}"
     },
     "execution_count": 27,
     "metadata": {},
     "output_type": "execute_result"
    }
   ],
   "source": [
    "all_results = {}\n",
    "for activity in scenarios_experiment.activities_names:\n",
    "    all_results[activity] = {method: [] for method in scenarios_experiment.method_names}\n",
    "    for scenario in scenarios_experiment.scenarios:\n",
    "        activity_result = scenario.result_tree.find_subnode_by_name(activity)\n",
    "        for method, score in activity_result.data.results.items():\n",
    "            all_results[activity][method].append(score.model_dump(exclude_defaults=True))\n",
    "\n",
    "all_results"
   ],
   "metadata": {
    "collapsed": false,
    "ExecuteTime": {
     "end_time": "2024-01-15T08:55:03.628675804Z",
     "start_time": "2024-01-15T08:55:03.620890823Z"
    }
   }
  },
  {
   "cell_type": "markdown",
   "source": [
    "## Let's pickle the file in order to use it in the other demo notebooks"
   ],
   "metadata": {
    "collapsed": false
   }
  },
  {
   "cell_type": "code",
   "outputs": [],
   "source": [
    "import pickle\n",
    "\n",
    "pickle.dump(scenarios_experiment, open(\"exp.pickle\", \"wb\"))"
   ],
   "metadata": {
    "collapsed": false,
    "ExecuteTime": {
     "end_time": "2024-01-15T08:55:03.630097362Z",
     "start_time": "2024-01-15T08:55:03.621163732Z"
    }
   },
   "execution_count": 28
  }
 ],
 "metadata": {
  "kernelspec": {
   "display_name": "Python 3 (ipykernel)",
   "language": "python",
   "name": "python3"
  },
  "language_info": {
   "codemirror_mode": {
    "name": "ipython",
    "version": 3
   },
   "file_extension": ".py",
   "mimetype": "text/x-python",
   "name": "python",
   "nbconvert_exporter": "python",
   "pygments_lexer": "ipython3",
   "version": "3.11.4"
  }
 },
 "nbformat": 4,
 "nbformat_minor": 1
}
