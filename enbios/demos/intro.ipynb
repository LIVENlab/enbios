{
 "cells": [
  {
   "cell_type": "code",
   "execution_count": 1,
   "outputs": [],
   "source": [
    "from copy import deepcopy\n",
    "from pathlib import Path\n",
    "\n",
    "import bw2data\n",
    "import pandas as pd\n",
    "\n",
    "from enbios.base.experiment import Experiment\n",
    "from enbios.bw2.util import report\n",
    "from enbios.models.experiment_base_models import ExperimentData"
   ],
   "metadata": {
    "collapsed": false,
    "ExecuteTime": {
     "end_time": "2024-01-19T09:51:16.820907148Z",
     "start_time": "2024-01-19T09:51:15.392809459Z"
    }
   }
  },
  {
   "cell_type": "markdown",
   "source": [
    "In this demo, we demonstrate the basic working of Enbios. There are 4 main parts to this introduction. The first three parts, incrementally extend the experiment, while the 4. part displays some useful functionalities, that helps to understand how to configure enbios.\n",
    "\n",
    "For this introduction, we are going to use Brightway to do LCA calculations of ecoinvent (v.3.9.1) activities, that are at the bottom of the MuSIASEM hierarchy, so one should have a brigthway project, with some the ecoinvent dataset created before starting.\n",
    "\n",
    "In the first step, we get some brighway activities are construct the enbios configuration step by step."
   ],
   "metadata": {
    "collapsed": false
   }
  },
  {
   "cell_type": "code",
   "execution_count": 2,
   "metadata": {
    "ExecuteTime": {
     "end_time": "2024-01-19T09:51:16.856747428Z",
     "start_time": "2024-01-19T09:51:16.823740373Z"
    }
   },
   "outputs": [
    {
     "name": "stdout",
     "output_type": "stream",
     "text": [
      "Project: default\n",
      "[]\n",
      "Project: ecoinvent_391\n",
      "['biosphere3', 'ecoinvent_391_cutoff']\n",
      "Project: nonlinear-method-test\n",
      "['db']\n",
      "Project: Spain case study\n",
      "['biosphere', 'food']\n"
     ]
    }
   ],
   "source": [
    "# get an overview of brightway projects and databases\n",
    "report()"
   ]
  },
  {
   "cell_type": "code",
   "execution_count": 3,
   "metadata": {
    "ExecuteTime": {
     "end_time": "2024-01-19T09:51:16.867630439Z",
     "start_time": "2024-01-19T09:51:16.853955396Z"
    }
   },
   "outputs": [],
   "source": [
    "# select the brightway project and database (e.g. some ecoinvent database)\n",
    "PROJECT_NAME = \"ecoinvent_391\"\n",
    "DATABASE = \"ecoinvent_391_cutoff\"\n",
    "\n",
    "bw2data.projects.set_current(PROJECT_NAME)\n",
    "db = bw2data.Database(DATABASE)"
   ]
  },
  {
   "cell_type": "markdown",
   "metadata": {},
   "source": [
    "# Simple example experiment\n",
    "Let's get 2 wind turbines from Spain"
   ]
  },
  {
   "cell_type": "code",
   "execution_count": 4,
   "metadata": {
    "ExecuteTime": {
     "end_time": "2024-01-19T09:51:17.253510595Z",
     "start_time": "2024-01-19T09:51:16.939141265Z"
    }
   },
   "outputs": [
    {
     "name": "stdout",
     "output_type": "stream",
     "text": [
      "Excluding 319 filtered results\n"
     ]
    },
    {
     "data": {
      "text/plain": "['electricity production, wind, 1-3MW turbine, onshore' (kilowatt hour, ES, None),\n 'electricity production, wind, 1-3MW turbine, offshore' (kilowatt hour, ES, None)]"
     },
     "execution_count": 4,
     "metadata": {},
     "output_type": "execute_result"
    }
   ],
   "source": [
    "wind_turbines_spain = db.search(\n",
    "    \"electricity production, wind, 1-3MW turbine, onshore\", filter={\"location\": \"ES\"}\n",
    ")[:2]\n",
    "wind_turbines_spain"
   ]
  },
  {
   "cell_type": "code",
   "outputs": [
    {
     "name": "stdout",
     "output_type": "stream",
     "text": [
      "Excluding 846 filtered results\n"
     ]
    },
    {
     "data": {
      "text/plain": "('electricity production, hard coal',\n 'ecoinvent_391_cutoff',\n ('ecoinvent_391_cutoff', 'cfa79d34d94d122a4fd35786da2c6d4e'))"
     },
     "execution_count": 5,
     "metadata": {},
     "output_type": "execute_result"
    }
   ],
   "source": [
    "e = db.search(\"coal\", filter={\"location\": \"ES\"})[0]\n",
    "e[\"name\"], e[\"database\"], e.key"
   ],
   "metadata": {
    "collapsed": false,
    "ExecuteTime": {
     "end_time": "2024-01-19T09:51:17.412252389Z",
     "start_time": "2024-01-19T09:51:17.312435075Z"
    }
   },
   "execution_count": 5
  },
  {
   "cell_type": "code",
   "outputs": [],
   "source": [
    "from bw2data.backends import ActivityDataset\n",
    "\n",
    "# db.get('cfa79d34d94d122a4fd35786da2c6d4e')\n",
    "names = [a.data[\"name\"] for a in ActivityDataset.select()]"
   ],
   "metadata": {
    "collapsed": false,
    "ExecuteTime": {
     "end_time": "2024-01-19T09:51:19.099022336Z",
     "start_time": "2024-01-19T09:51:17.862603582Z"
    }
   },
   "execution_count": 6
  },
  {
   "cell_type": "code",
   "execution_count": 7,
   "metadata": {
    "ExecuteTime": {
     "end_time": "2024-01-19T09:51:19.103021479Z",
     "start_time": "2024-01-19T09:51:19.100693912Z"
    }
   },
   "outputs": [],
   "source": [
    "# Now we use those, to define 2 leaf-nodes in our hierarchy.\n",
    "experiment_nodes = []\n",
    "\n",
    "for activity in wind_turbines_spain:\n",
    "    experiment_nodes.append(\n",
    "        {\n",
    "            \"name\": activity[\"name\"],\n",
    "            \"adapter\": \"brightway-adapter\",\n",
    "            \"config\": {\"code\": activity[\"code\"]},\n",
    "        }\n",
    "    )"
   ]
  },
  {
   "cell_type": "code",
   "execution_count": 8,
   "metadata": {
    "ExecuteTime": {
     "end_time": "2024-01-19T09:51:19.149121646Z",
     "start_time": "2024-01-19T09:51:19.104930072Z"
    }
   },
   "outputs": [
    {
     "data": {
      "text/plain": "[{'name': 'electricity production, wind, 1-3MW turbine, onshore',\n  'adapter': 'brightway-adapter',\n  'config': {'code': 'ed3da88fc23311ee183e9ffd376de89b',\n   'default_output': {'unit': 'kilowatt_hour', 'magnitude': 3}}},\n {'name': 'electricity production, wind, 1-3MW turbine, offshore',\n  'adapter': 'brightway-adapter',\n  'config': {'code': '6ebfe52dc3ef5b4d35bb603b03559023'}}]"
     },
     "execution_count": 8,
     "metadata": {},
     "output_type": "execute_result"
    }
   ],
   "source": [
    "# we can modify the output of the activities, by default it is the reference product (1 of the activity unit)\n",
    "experiment_nodes[0][\"config\"][\"default_output\"] = {\n",
    "    \"unit\": \"kilowatt_hour\",\n",
    "    \"magnitude\": 3,\n",
    "}\n",
    "experiment_nodes"
   ]
  },
  {
   "cell_type": "code",
   "execution_count": 9,
   "outputs": [],
   "source": [
    "hierarchy = {\n",
    "    \"name\": \"root\",\n",
    "    \"aggregator\": \"sum-aggregator\",\n",
    "    \"children\": experiment_nodes,\n",
    "}"
   ],
   "metadata": {
    "collapsed": false,
    "ExecuteTime": {
     "end_time": "2024-01-19T09:51:19.352767581Z",
     "start_time": "2024-01-19T09:51:19.336494752Z"
    }
   }
  },
  {
   "cell_type": "code",
   "execution_count": 10,
   "metadata": {
    "ExecuteTime": {
     "end_time": "2024-01-19T09:51:19.864545338Z",
     "start_time": "2024-01-19T09:51:19.860342592Z"
    }
   },
   "outputs": [
    {
     "data": {
      "text/plain": "{'human exposure efficiency relative to u235': ('EF v3.0 EN15804',\n  'ionising radiation: human health',\n  'human exposure efficiency relative to u235'),\n 'ozone layer depletion (ODP steady state) no LT': ('CML v4.8 2016 no LT',\n  'ozone depletion no LT',\n  'ozone layer depletion (ODP steady state) no LT')}"
     },
     "execution_count": 10,
     "metadata": {},
     "output_type": "execute_result"
    }
   ],
   "source": [
    "# select 2 random methods and convert them into the form for enbios2\n",
    "experiment_methods = [bw2data.methods.random() for _ in range(2)]\n",
    "\n",
    "experiment_methods = {m[-1]: m for m in experiment_methods}\n",
    "experiment_methods"
   ]
  },
  {
   "cell_type": "code",
   "execution_count": 11,
   "outputs": [],
   "source": [
    "# alternatively, we could just specify two methods\n",
    "experiment_methods = {\n",
    "    \"GWP1000\": (\n",
    "        \"ReCiPe 2016 v1.03, midpoint (H)\",\n",
    "        \"climate change\",\n",
    "        \"global warming potential (GWP1000)\",\n",
    "    ),\n",
    "    \"FETP\": (\n",
    "        \"ReCiPe 2016 v1.03, midpoint (H)\",\n",
    "        \"ecotoxicity: freshwater\",\n",
    "        \"freshwater ecotoxicity potential (FETP)\",\n",
    "    ),\n",
    "    \"HTPnc\": (\n",
    "        \"ReCiPe 2016 v1.03, midpoint (H)\",\n",
    "        \"human toxicity: non-carcinogenic\",\n",
    "        \"human toxicity potential (HTPnc)\",\n",
    "    ),\n",
    "}"
   ],
   "metadata": {
    "collapsed": false,
    "ExecuteTime": {
     "end_time": "2024-01-19T09:51:20.315810895Z",
     "start_time": "2024-01-19T09:51:20.312408640Z"
    }
   }
  },
  {
   "cell_type": "code",
   "outputs": [
    {
     "data": {
      "text/plain": "[('ReCiPe 2016 v1.03, midpoint (H)',\n  'acidification: terrestrial',\n  'terrestrial acidification potential (TAP)'),\n ('ReCiPe 2016 v1.03, midpoint (H)',\n  'climate change',\n  'global warming potential (GWP1000)'),\n ('ReCiPe 2016 v1.03, midpoint (H)',\n  'ecotoxicity: freshwater',\n  'freshwater ecotoxicity potential (FETP)'),\n ('ReCiPe 2016 v1.03, midpoint (H)',\n  'ecotoxicity: marine',\n  'marine ecotoxicity potential (METP)'),\n ('ReCiPe 2016 v1.03, midpoint (H)',\n  'ecotoxicity: terrestrial',\n  'terrestrial ecotoxicity potential (TETP)'),\n ('ReCiPe 2016 v1.03, midpoint (H)',\n  'energy resources: non-renewable, fossil',\n  'fossil fuel potential (FFP)'),\n ('ReCiPe 2016 v1.03, midpoint (H)',\n  'eutrophication: freshwater',\n  'freshwater eutrophication potential (FEP)'),\n ('ReCiPe 2016 v1.03, midpoint (H)',\n  'eutrophication: marine',\n  'marine eutrophication potential (MEP)'),\n ('ReCiPe 2016 v1.03, midpoint (H)',\n  'human toxicity: carcinogenic',\n  'human toxicity potential (HTPc)'),\n ('ReCiPe 2016 v1.03, midpoint (H)',\n  'human toxicity: non-carcinogenic',\n  'human toxicity potential (HTPnc)'),\n ('ReCiPe 2016 v1.03, midpoint (H)',\n  'ionising radiation',\n  'ionising radiation potential (IRP)'),\n ('ReCiPe 2016 v1.03, midpoint (H)',\n  'land use',\n  'agricultural land occupation (LOP)'),\n ('ReCiPe 2016 v1.03, midpoint (H)',\n  'material resources: metals/minerals',\n  'surplus ore potential (SOP)'),\n ('ReCiPe 2016 v1.03, midpoint (H)',\n  'ozone depletion',\n  'ozone depletion potential (ODPinfinite)'),\n ('ReCiPe 2016 v1.03, midpoint (H)',\n  'particulate matter formation',\n  'particulate matter formation potential (PMFP)'),\n ('ReCiPe 2016 v1.03, midpoint (H)',\n  'photochemical oxidant formation: human health',\n  'photochemical oxidant formation potential: humans (HOFP)'),\n ('ReCiPe 2016 v1.03, midpoint (H)',\n  'photochemical oxidant formation: terrestrial ecosystems',\n  'photochemical oxidant formation potential: ecosystems (EOFP)'),\n ('ReCiPe 2016 v1.03, midpoint (H)',\n  'water use',\n  'water consumption potential (WCP)')]"
     },
     "execution_count": 12,
     "metadata": {},
     "output_type": "execute_result"
    }
   ],
   "source": [
    "list(filter(lambda m: m[0] == \"ReCiPe 2016 v1.03, midpoint (H)\", bw2data.methods))"
   ],
   "metadata": {
    "collapsed": false,
    "ExecuteTime": {
     "end_time": "2024-01-19T09:51:20.809662283Z",
     "start_time": "2024-01-19T09:51:20.806000486Z"
    }
   },
   "execution_count": 12
  },
  {
   "cell_type": "code",
   "execution_count": 13,
   "metadata": {
    "ExecuteTime": {
     "end_time": "2024-01-19T09:51:21.630938043Z",
     "start_time": "2024-01-19T09:51:21.626369512Z"
    }
   },
   "outputs": [
    {
     "data": {
      "text/plain": "{'adapters': [{'adapter_name': 'brightway-adapter',\n   'config': {'bw_project': 'ecoinvent_391'},\n   'methods': {'GWP1000': ('ReCiPe 2016 v1.03, midpoint (H)',\n     'climate change',\n     'global warming potential (GWP1000)'),\n    'FETP': ('ReCiPe 2016 v1.03, midpoint (H)',\n     'ecotoxicity: freshwater',\n     'freshwater ecotoxicity potential (FETP)'),\n    'HTPnc': ('ReCiPe 2016 v1.03, midpoint (H)',\n     'human toxicity: non-carcinogenic',\n     'human toxicity potential (HTPnc)')}}],\n 'hierarchy': {'name': 'root',\n  'aggregator': 'sum-aggregator',\n  'children': [{'name': 'electricity production, wind, 1-3MW turbine, onshore',\n    'config': {'code': 'ed3da88fc23311ee183e9ffd376de89b',\n     'default_output': {'unit': 'kilowatt_hour', 'magnitude': 3}},\n    'adapter': 'brightway-adapter'},\n   {'name': 'electricity production, wind, 1-3MW turbine, offshore',\n    'config': {'code': '6ebfe52dc3ef5b4d35bb603b03559023'},\n    'adapter': 'brightway-adapter'}]}}"
     },
     "execution_count": 13,
     "metadata": {},
     "output_type": "execute_result"
    }
   ],
   "source": [
    "# let's store the raw data, because we want to modify it later\n",
    "simple_raw_data = {\n",
    "    \"adapters\": [\n",
    "        {\n",
    "            \"adapter_name\": \"brightway-adapter\",\n",
    "            \"config\": {\"bw_project\": PROJECT_NAME},\n",
    "            \"methods\": experiment_methods,\n",
    "        }\n",
    "    ],\n",
    "    \"hierarchy\": hierarchy,\n",
    "}\n",
    "\n",
    "# make a first validation of the experiment data\n",
    "exp_data = ExperimentData(**simple_raw_data)\n",
    "exp_data.model_dump(exclude_unset=True)"
   ]
  },
  {
   "cell_type": "code",
   "execution_count": 14,
   "metadata": {
    "ExecuteTime": {
     "end_time": "2024-01-19T09:51:22.253211626Z",
     "start_time": "2024-01-19T09:51:22.178886947Z"
    }
   },
   "outputs": [],
   "source": [
    "# create experiment object. This will validate the activities, their outputs, the methods and the scenarios.\n",
    "simple_experiment: Experiment = Experiment(simple_raw_data)"
   ]
  },
  {
   "cell_type": "code",
   "execution_count": 15,
   "metadata": {
    "ExecuteTime": {
     "end_time": "2024-01-19T09:51:23.154484598Z",
     "start_time": "2024-01-19T09:51:23.135067344Z"
    }
   },
   "outputs": [
    {
     "name": "stdout",
     "output_type": "stream",
     "text": [
      "Experiment: \n",
      "Structural nodes: 2\n",
      "root - sum-aggregator\n",
      " electricity production, wind, 1-3MW turbine, onshore - brightway-adapter\n",
      " electricity production, wind, 1-3MW turbine, offshore - brightway-adapter\n",
      "Methods: 3\n",
      " bw.GWP1000\n",
      " bw.FETP\n",
      " bw.HTPnc\n",
      "Hierarchy (depth): 2\n",
      "Scenarios: 1\n"
     ]
    }
   ],
   "source": [
    "print(simple_experiment.info())"
   ]
  },
  {
   "cell_type": "markdown",
   "metadata": {},
   "source": [
    "## Running the experiment"
   ]
  },
  {
   "cell_type": "code",
   "execution_count": 16,
   "metadata": {
    "ExecuteTime": {
     "end_time": "2024-01-19T09:51:56.854472665Z",
     "start_time": "2024-01-19T09:51:31.669825124Z"
    }
   },
   "outputs": [
    {
     "name": "stdout",
     "output_type": "stream",
     "text": [
      "2024-01-19 10:51:31,667 - ............enbios.demos.enbios.base - INFO - Running scenario 'default scenario'\n"
     ]
    }
   ],
   "source": [
    "# run all scenarios at once, Results will be returned as dictionary\n",
    "# <scenario_name : str> : <scenario_result : dict>\n",
    "# <scenario_result> : dict represents the root node of the results tree, with the following keys:\n",
    "# name, output, results, children\n",
    "# where results, is a dictionary of impacts to dict: unit, magnitude | multi_magnitude\n",
    "# The first and only positional parameter 'results_as_dict' can be set to False, to get the tree unserialized as :  BasicTreeNode[ScenarioResultNodeData]\n",
    "results = simple_experiment.run()"
   ]
  },
  {
   "cell_type": "markdown",
   "metadata": {},
   "source": [
    "# Result\n",
    "The result is a dictionary of scenario names, where for each scenario we have a tree (representing the activity hierarchy). Each node (`BasicTreeNode`) in the tree has a `data` object, which is of the type `ScenarioResultNodeData`, which have the fields `output`, `result`."
   ]
  },
  {
   "cell_type": "code",
   "execution_count": 17,
   "metadata": {
    "ExecuteTime": {
     "end_time": "2024-01-19T09:51:56.855893909Z",
     "start_time": "2024-01-19T09:51:56.172748208Z"
    }
   },
   "outputs": [
    {
     "data": {
      "text/plain": "{'default scenario': {'name': 'root',\n  'results': {'GWP1000': {'unit': 'kg CO2-Eq',\n    'magnitude': 0.06275128225929673},\n   'FETP': {'unit': 'kg 1,4-DCB-Eq', 'magnitude': 0.023866276586311866},\n   'HTPnc': {'unit': 'kg 1,4-DCB-Eq', 'magnitude': 0.15274278160174964}},\n  'output': {'unit': 'kilowatt_hour', 'magnitude': 4.0},\n  'children': [{'name': 'electricity production, wind, 1-3MW turbine, onshore',\n    'results': {'GWP1000': {'unit': 'kg CO2-Eq',\n      'magnitude': 0.045730834001617954},\n     'FETP': {'unit': 'kg 1,4-DCB-Eq', 'magnitude': 0.0192768242242305},\n     'HTPnc': {'unit': 'kg 1,4-DCB-Eq', 'magnitude': 0.10636436307514271}},\n    'output': {'unit': 'kilowatt_hour', 'magnitude': 3.0}},\n   {'name': 'electricity production, wind, 1-3MW turbine, offshore',\n    'results': {'GWP1000': {'unit': 'kg CO2-Eq',\n      'magnitude': 0.017020448257678778},\n     'FETP': {'unit': 'kg 1,4-DCB-Eq', 'magnitude': 0.004589452362081367},\n     'HTPnc': {'unit': 'kg 1,4-DCB-Eq', 'magnitude': 0.046378418526606936}},\n    'output': {'unit': 'kilowatt_hour', 'magnitude': 1.0}}]}}"
     },
     "execution_count": 17,
     "metadata": {},
     "output_type": "execute_result"
    }
   ],
   "source": [
    "results"
   ]
  },
  {
   "cell_type": "code",
   "execution_count": 18,
   "metadata": {
    "ExecuteTime": {
     "end_time": "2024-01-19T09:51:56.857628532Z",
     "start_time": "2024-01-19T09:51:56.173212316Z"
    }
   },
   "outputs": [
    {
     "data": {
      "text/plain": "           scenario lvl_0                                              lvl_1  \\\n0  default scenario  root                                                      \n1                          electricity production, wind, 1-3MW turbine, o...   \n2                          electricity production, wind, 1-3MW turbine, o...   \n\n   GWP1000_magnitude (kg CO2-Eq)  FETP_magnitude (kg 1,4-DCB-Eq)  \\\n0                       0.062751                        0.023866   \n1                       0.045731                        0.019277   \n2                       0.017020                        0.004589   \n\n   HTPnc_magnitude (kg 1,4-DCB-Eq)    output_unit  output_magnitude  \n0                         0.152743  kilowatt_hour               4.0  \n1                         0.106364  kilowatt_hour               3.0  \n2                         0.046378  kilowatt_hour               1.0  ",
      "text/html": "<div>\n<style scoped>\n    .dataframe tbody tr th:only-of-type {\n        vertical-align: middle;\n    }\n\n    .dataframe tbody tr th {\n        vertical-align: top;\n    }\n\n    .dataframe thead th {\n        text-align: right;\n    }\n</style>\n<table border=\"1\" class=\"dataframe\">\n  <thead>\n    <tr style=\"text-align: right;\">\n      <th></th>\n      <th>scenario</th>\n      <th>lvl_0</th>\n      <th>lvl_1</th>\n      <th>GWP1000_magnitude (kg CO2-Eq)</th>\n      <th>FETP_magnitude (kg 1,4-DCB-Eq)</th>\n      <th>HTPnc_magnitude (kg 1,4-DCB-Eq)</th>\n      <th>output_unit</th>\n      <th>output_magnitude</th>\n    </tr>\n  </thead>\n  <tbody>\n    <tr>\n      <th>0</th>\n      <td>default scenario</td>\n      <td>root</td>\n      <td></td>\n      <td>0.062751</td>\n      <td>0.023866</td>\n      <td>0.152743</td>\n      <td>kilowatt_hour</td>\n      <td>4.0</td>\n    </tr>\n    <tr>\n      <th>1</th>\n      <td></td>\n      <td></td>\n      <td>electricity production, wind, 1-3MW turbine, o...</td>\n      <td>0.045731</td>\n      <td>0.019277</td>\n      <td>0.106364</td>\n      <td>kilowatt_hour</td>\n      <td>3.0</td>\n    </tr>\n    <tr>\n      <th>2</th>\n      <td></td>\n      <td></td>\n      <td>electricity production, wind, 1-3MW turbine, o...</td>\n      <td>0.017020</td>\n      <td>0.004589</td>\n      <td>0.046378</td>\n      <td>kilowatt_hour</td>\n      <td>1.0</td>\n    </tr>\n  </tbody>\n</table>\n</div>"
     },
     "execution_count": 18,
     "metadata": {},
     "output_type": "execute_result"
    }
   ],
   "source": [
    "# we can dump the results into a csv file\n",
    "simple_experiment.results_to_csv(\"test.csv\")\n",
    "pd.read_csv(\"test.csv\").fillna(\"\")"
   ]
  },
  {
   "cell_type": "code",
   "execution_count": 19,
   "metadata": {
    "ExecuteTime": {
     "end_time": "2024-01-19T09:51:56.858834330Z",
     "start_time": "2024-01-19T09:51:56.181992140Z"
    }
   },
   "outputs": [
    {
     "data": {
      "text/plain": "{'name': 'root',\n 'results': {'GWP1000': {'unit': 'kg CO2-Eq',\n   'magnitude': 0.06275128225929673},\n  'FETP': {'unit': 'kg 1,4-DCB-Eq', 'magnitude': 0.023866276586311866},\n  'HTPnc': {'unit': 'kg 1,4-DCB-Eq', 'magnitude': 0.15274278160174964}},\n 'output': {'unit': 'kilowatt_hour', 'magnitude': 4.0},\n 'children': [{'name': 'electricity production, wind, 1-3MW turbine, onshore',\n   'results': {'GWP1000': {'unit': 'kg CO2-Eq',\n     'magnitude': 0.045730834001617954},\n    'FETP': {'unit': 'kg 1,4-DCB-Eq', 'magnitude': 0.0192768242242305},\n    'HTPnc': {'unit': 'kg 1,4-DCB-Eq', 'magnitude': 0.10636436307514271}},\n   'output': {'unit': 'kilowatt_hour', 'magnitude': 3.0}},\n  {'name': 'electricity production, wind, 1-3MW turbine, offshore',\n   'results': {'GWP1000': {'unit': 'kg CO2-Eq',\n     'magnitude': 0.017020448257678778},\n    'FETP': {'unit': 'kg 1,4-DCB-Eq', 'magnitude': 0.004589452362081367},\n    'HTPnc': {'unit': 'kg 1,4-DCB-Eq', 'magnitude': 0.046378418526606936}},\n   'output': {'unit': 'kilowatt_hour', 'magnitude': 1.0}}]}"
     },
     "execution_count": 19,
     "metadata": {},
     "output_type": "execute_result"
    }
   ],
   "source": [
    "simple_experiment.scenarios[0].result_to_dict()"
   ]
  },
  {
   "cell_type": "markdown",
   "metadata": {},
   "source": [
    "## Add a technology hierarchy (dendrogram) \n",
    "Let's now add a few more activities to the experiment and create a hierarchy of activities."
   ]
  },
  {
   "cell_type": "code",
   "execution_count": 21,
   "metadata": {
    "ExecuteTime": {
     "end_time": "2024-01-19T09:51:59.794674220Z",
     "start_time": "2024-01-19T09:51:59.713359612Z"
    }
   },
   "outputs": [
    {
     "name": "stdout",
     "output_type": "stream",
     "text": [
      "Excluding 465 filtered results\n"
     ]
    },
    {
     "data": {
      "text/plain": "['electricity production, solar tower power plant, 20 MW' (kilowatt hour, ES, None),\n 'electricity production, solar thermal parabolic trough, 50 MW' (kilowatt hour, ES, None)]"
     },
     "execution_count": 21,
     "metadata": {},
     "output_type": "execute_result"
    }
   ],
   "source": [
    "solar_spain = db.search(\"solar\", filter={\"location\": \"ES\"})[:2]\n",
    "solar_spain"
   ]
  },
  {
   "cell_type": "code",
   "execution_count": 23,
   "outputs": [],
   "source": [
    "experiment_nodes_solar = []\n",
    "for activity in solar_spain:\n",
    "    experiment_nodes_solar.append(\n",
    "        {\"name\": activity[\"name\"], \"adapter\": \"bw\", \"config\": {\"code\": activity[\"code\"]}}\n",
    "    )\n",
    "\n",
    "hierarchy_raw_data = deepcopy(simple_raw_data)\n",
    "\n",
    "hierarchy_raw_data[\"hierarchy\"] = {\n",
    "    \"name\": \"root\",\n",
    "    \"aggregator\": \"sum\",\n",
    "    \"children\": [\n",
    "        {\"name\": \"wind\", \"aggregator\": \"sum\", \"children\": experiment_nodes},\n",
    "        {\"name\": \"solar\", \"aggregator\": \"sum\", \"children\": experiment_nodes_solar},\n",
    "    ],\n",
    "}"
   ],
   "metadata": {
    "collapsed": false,
    "ExecuteTime": {
     "end_time": "2024-01-19T09:52:16.255300637Z",
     "start_time": "2024-01-19T09:52:16.245092583Z"
    }
   }
  },
  {
   "cell_type": "code",
   "execution_count": 24,
   "metadata": {
    "ExecuteTime": {
     "end_time": "2024-01-19T09:52:16.982126992Z",
     "start_time": "2024-01-19T09:52:16.875167871Z"
    }
   },
   "outputs": [],
   "source": [
    "hierarchy_experiment: Experiment = Experiment(hierarchy_raw_data)"
   ]
  },
  {
   "cell_type": "markdown",
   "source": [
    "# Run the 2nd experiment"
   ],
   "metadata": {
    "collapsed": false
   }
  },
  {
   "cell_type": "code",
   "execution_count": 25,
   "metadata": {
    "ExecuteTime": {
     "end_time": "2024-01-19T09:52:58.493019331Z",
     "start_time": "2024-01-19T09:52:18.232710888Z"
    }
   },
   "outputs": [
    {
     "name": "stdout",
     "output_type": "stream",
     "text": [
      "2024-01-19 10:52:18,230 - ............enbios.demos.enbios.base - INFO - Running scenario 'default scenario'\n"
     ]
    },
    {
     "data": {
      "text/plain": "{'default scenario': {'name': 'root',\n  'results': {'GWP1000': {'unit': 'kg CO2-Eq',\n    'magnitude': 0.16515205296353608},\n   'FETP': {'unit': 'kg 1,4-DCB-Eq', 'magnitude': 0.030201672466260446},\n   'HTPnc': {'unit': 'kg 1,4-DCB-Eq', 'magnitude': 0.2077213370172139}},\n  'output': {'unit': 'kilowatt_hour', 'magnitude': 6.0},\n  'children': [{'name': 'wind',\n    'results': {'GWP1000': {'unit': 'kg CO2-Eq',\n      'magnitude': 0.06275128225929673},\n     'FETP': {'unit': 'kg 1,4-DCB-Eq', 'magnitude': 0.023866276586311866},\n     'HTPnc': {'unit': 'kg 1,4-DCB-Eq', 'magnitude': 0.15274278160174964}},\n    'output': {'unit': 'kilowatt_hour', 'magnitude': 4.0},\n    'children': [{'name': 'electricity production, wind, 1-3MW turbine, onshore',\n      'results': {'GWP1000': {'unit': 'kg CO2-Eq',\n        'magnitude': 0.045730834001617954},\n       'FETP': {'unit': 'kg 1,4-DCB-Eq', 'magnitude': 0.0192768242242305},\n       'HTPnc': {'unit': 'kg 1,4-DCB-Eq', 'magnitude': 0.10636436307514271}},\n      'output': {'unit': 'kilowatt_hour', 'magnitude': 3.0}},\n     {'name': 'electricity production, wind, 1-3MW turbine, offshore',\n      'results': {'GWP1000': {'unit': 'kg CO2-Eq',\n        'magnitude': 0.017020448257678778},\n       'FETP': {'unit': 'kg 1,4-DCB-Eq', 'magnitude': 0.004589452362081367},\n       'HTPnc': {'unit': 'kg 1,4-DCB-Eq', 'magnitude': 0.046378418526606936}},\n      'output': {'unit': 'kilowatt_hour', 'magnitude': 1.0}}]},\n   {'name': 'solar',\n    'results': {'GWP1000': {'unit': 'kg CO2-Eq',\n      'magnitude': 0.10240077070423936},\n     'FETP': {'unit': 'kg 1,4-DCB-Eq', 'magnitude': 0.006335395879948579},\n     'HTPnc': {'unit': 'kg 1,4-DCB-Eq', 'magnitude': 0.054978555415464266}},\n    'output': {'unit': 'kilowatt_hour', 'magnitude': 2.0},\n    'children': [{'name': 'electricity production, solar tower power plant, 20 MW',\n      'results': {'GWP1000': {'unit': 'kg CO2-Eq',\n        'magnitude': 0.048204581910669446},\n       'FETP': {'unit': 'kg 1,4-DCB-Eq', 'magnitude': 0.003242319969953703},\n       'HTPnc': {'unit': 'kg 1,4-DCB-Eq', 'magnitude': 0.027197097783352518}},\n      'output': {'unit': 'kilowatt_hour', 'magnitude': 1.0}},\n     {'name': 'electricity production, solar thermal parabolic trough, 50 MW',\n      'results': {'GWP1000': {'unit': 'kg CO2-Eq',\n        'magnitude': 0.054196188793569924},\n       'FETP': {'unit': 'kg 1,4-DCB-Eq', 'magnitude': 0.003093075909994876},\n       'HTPnc': {'unit': 'kg 1,4-DCB-Eq', 'magnitude': 0.027781457632111747}},\n      'output': {'unit': 'kilowatt_hour', 'magnitude': 1.0}}]}]}}"
     },
     "execution_count": 25,
     "metadata": {},
     "output_type": "execute_result"
    }
   ],
   "source": [
    "hierarchy_experiment.run()"
   ]
  },
  {
   "cell_type": "code",
   "execution_count": 26,
   "metadata": {
    "ExecuteTime": {
     "end_time": "2024-01-19T09:52:58.495570182Z",
     "start_time": "2024-01-19T09:52:58.492816376Z"
    }
   },
   "outputs": [
    {
     "data": {
      "text/plain": "   root technology                                           activity  \\\n0  root                                                                 \n1             wind                                                      \n2                   electricity production, wind, 1-3MW turbine, o...   \n3                   electricity production, wind, 1-3MW turbine, o...   \n4            solar                                                      \n5                   electricity production, solar tower power plan...   \n6                   electricity production, solar thermal paraboli...   \n\n   GWP1000_magnitude (kg CO2-Eq)  FETP_magnitude (kg 1,4-DCB-Eq)  \\\n0                       0.165152                        0.030202   \n1                       0.062751                        0.023866   \n2                       0.045731                        0.019277   \n3                       0.017020                        0.004589   \n4                       0.102401                        0.006335   \n5                       0.048205                        0.003242   \n6                       0.054196                        0.003093   \n\n   HTPnc_magnitude (kg 1,4-DCB-Eq)    output_unit  output_magnitude  \n0                         0.207721  kilowatt_hour               6.0  \n1                         0.152743  kilowatt_hour               4.0  \n2                         0.106364  kilowatt_hour               3.0  \n3                         0.046378  kilowatt_hour               1.0  \n4                         0.054979  kilowatt_hour               2.0  \n5                         0.027197  kilowatt_hour               1.0  \n6                         0.027781  kilowatt_hour               1.0  ",
      "text/html": "<div>\n<style scoped>\n    .dataframe tbody tr th:only-of-type {\n        vertical-align: middle;\n    }\n\n    .dataframe tbody tr th {\n        vertical-align: top;\n    }\n\n    .dataframe thead th {\n        text-align: right;\n    }\n</style>\n<table border=\"1\" class=\"dataframe\">\n  <thead>\n    <tr style=\"text-align: right;\">\n      <th></th>\n      <th>root</th>\n      <th>technology</th>\n      <th>activity</th>\n      <th>GWP1000_magnitude (kg CO2-Eq)</th>\n      <th>FETP_magnitude (kg 1,4-DCB-Eq)</th>\n      <th>HTPnc_magnitude (kg 1,4-DCB-Eq)</th>\n      <th>output_unit</th>\n      <th>output_magnitude</th>\n    </tr>\n  </thead>\n  <tbody>\n    <tr>\n      <th>0</th>\n      <td>root</td>\n      <td></td>\n      <td></td>\n      <td>0.165152</td>\n      <td>0.030202</td>\n      <td>0.207721</td>\n      <td>kilowatt_hour</td>\n      <td>6.0</td>\n    </tr>\n    <tr>\n      <th>1</th>\n      <td></td>\n      <td>wind</td>\n      <td></td>\n      <td>0.062751</td>\n      <td>0.023866</td>\n      <td>0.152743</td>\n      <td>kilowatt_hour</td>\n      <td>4.0</td>\n    </tr>\n    <tr>\n      <th>2</th>\n      <td></td>\n      <td></td>\n      <td>electricity production, wind, 1-3MW turbine, o...</td>\n      <td>0.045731</td>\n      <td>0.019277</td>\n      <td>0.106364</td>\n      <td>kilowatt_hour</td>\n      <td>3.0</td>\n    </tr>\n    <tr>\n      <th>3</th>\n      <td></td>\n      <td></td>\n      <td>electricity production, wind, 1-3MW turbine, o...</td>\n      <td>0.017020</td>\n      <td>0.004589</td>\n      <td>0.046378</td>\n      <td>kilowatt_hour</td>\n      <td>1.0</td>\n    </tr>\n    <tr>\n      <th>4</th>\n      <td></td>\n      <td>solar</td>\n      <td></td>\n      <td>0.102401</td>\n      <td>0.006335</td>\n      <td>0.054979</td>\n      <td>kilowatt_hour</td>\n      <td>2.0</td>\n    </tr>\n    <tr>\n      <th>5</th>\n      <td></td>\n      <td></td>\n      <td>electricity production, solar tower power plan...</td>\n      <td>0.048205</td>\n      <td>0.003242</td>\n      <td>0.027197</td>\n      <td>kilowatt_hour</td>\n      <td>1.0</td>\n    </tr>\n    <tr>\n      <th>6</th>\n      <td></td>\n      <td></td>\n      <td>electricity production, solar thermal paraboli...</td>\n      <td>0.054196</td>\n      <td>0.003093</td>\n      <td>0.027781</td>\n      <td>kilowatt_hour</td>\n      <td>1.0</td>\n    </tr>\n  </tbody>\n</table>\n</div>"
     },
     "execution_count": 26,
     "metadata": {},
     "output_type": "execute_result"
    }
   ],
   "source": [
    "# print(json.dumps((exp.scenarios[0].result_to_dict()), indent=2))\n",
    "hierarchy_experiment.scenarios[0].results_to_csv(\n",
    "    \"test.csv\", level_names=[\"root\", \"technology\", \"activity\"]\n",
    ")\n",
    "pd.read_csv(\"test.csv\").fillna(\"\")"
   ]
  },
  {
   "cell_type": "markdown",
   "source": [
    "## Create several scenarios"
   ],
   "metadata": {
    "collapsed": false
   }
  },
  {
   "cell_type": "code",
   "execution_count": 28,
   "outputs": [
    {
     "data": {
      "text/plain": "[{'name': 'normal scenario',\n  'nodes': {'electricity production, wind, 1-3MW turbine, onshore': ('kilowatt_hour',\n    1),\n   'electricity production, wind, 1-3MW turbine, offshore': ('kilowatt_hour',\n    1),\n   'electricity production, solar tower power plant, 20 MW': ('kilowatt_hour',\n    1),\n   'electricity production, solar thermal parabolic trough, 50 MW': ('kilowatt_hour',\n    1)}},\n {'name': None,\n  'nodes': {'electricity production, wind, 1-3MW turbine, onshore': ('kilowatt_hour',\n    8),\n   'electricity production, wind, 1-3MW turbine, offshore': ('kilowatt_hour',\n    5),\n   'electricity production, solar tower power plant, 20 MW': ('kilowatt_hour',\n    7),\n   'electricity production, solar thermal parabolic trough, 50 MW': ('kilowatt_hour',\n    7)}},\n {'name': None,\n  'nodes': {'electricity production, wind, 1-3MW turbine, onshore': ('kilowatt_hour',\n    10),\n   'electricity production, wind, 1-3MW turbine, offshore': ('kilowatt_hour',\n    6),\n   'electricity production, solar tower power plant, 20 MW': ('kilowatt_hour',\n    7),\n   'electricity production, solar thermal parabolic trough, 50 MW': ('kilowatt_hour',\n    6)}}]"
     },
     "execution_count": 28,
     "metadata": {},
     "output_type": "execute_result"
    }
   ],
   "source": [
    "from typing import Optional\n",
    "from random import randint\n",
    "\n",
    "\n",
    "def create_normal_scenario():\n",
    "    return {\n",
    "        \"name\": \"normal scenario\",\n",
    "        \"nodes\": {\n",
    "            act: (\"kilowatt_hour\", 1)\n",
    "            for act in hierarchy_experiment.structural_nodes_names\n",
    "        },\n",
    "    }\n",
    "\n",
    "\n",
    "def create_random_scenario(scneario_name: Optional[str] = None):\n",
    "    return {\n",
    "        \"name\": scneario_name,\n",
    "        \"nodes\": {\n",
    "            act: (\"kilowatt_hour\", randint(1, 10))\n",
    "            for act in hierarchy_experiment.structural_nodes_names\n",
    "        },\n",
    "    }\n",
    "\n",
    "\n",
    "scenarios_raw_data = deepcopy(hierarchy_raw_data)\n",
    "scenarios_raw_data[\"scenarios\"] = [\n",
    "    create_normal_scenario(),\n",
    "    create_random_scenario(),\n",
    "    create_random_scenario(),\n",
    "]\n",
    "\n",
    "scenarios_raw_data[\"scenarios\"]"
   ],
   "metadata": {
    "collapsed": false,
    "ExecuteTime": {
     "end_time": "2024-01-19T09:53:01.169232480Z",
     "start_time": "2024-01-19T09:53:01.161712277Z"
    }
   }
  },
  {
   "cell_type": "code",
   "execution_count": 29,
   "outputs": [],
   "source": [
    "scenarios_experiment = Experiment(scenarios_raw_data)"
   ],
   "metadata": {
    "collapsed": false,
    "ExecuteTime": {
     "end_time": "2024-01-19T09:53:04.617989561Z",
     "start_time": "2024-01-19T09:53:04.505838713Z"
    }
   }
  },
  {
   "cell_type": "markdown",
   "source": [
    " ## Run the experiment for the 3rd time\n",
    "This time will likely take some more time since we need to run 2 scenarios. "
   ],
   "metadata": {
    "collapsed": false
   }
  },
  {
   "cell_type": "code",
   "execution_count": 30,
   "outputs": [
    {
     "name": "stdout",
     "output_type": "stream",
     "text": [
      "2024-01-19 10:53:06,002 - ............enbios.demos.enbios.base - INFO - Running scenario 'normal scenario'\n",
      "2024-01-19 10:53:52,913 - ............enbios.demos.enbios.base - INFO - Running scenario 'Scenario 1'\n",
      "2024-01-19 10:54:22,247 - ............enbios.demos.enbios.base - INFO - Running scenario 'Scenario 2'\n"
     ]
    }
   ],
   "source": [
    "_ = scenarios_experiment.run()\n",
    "# don't print the whole result"
   ],
   "metadata": {
    "collapsed": false,
    "ExecuteTime": {
     "end_time": "2024-01-19T09:54:51.464586556Z",
     "start_time": "2024-01-19T09:53:06.004178656Z"
    }
   }
  },
  {
   "cell_type": "code",
   "execution_count": 31,
   "outputs": [],
   "source": [
    "scenarios_experiment.scenarios[0].results_to_csv(\n",
    "    \"s1.csv\", level_names=[\"root\", \"technology\", \"activity\"]\n",
    ")\n",
    "pd.read_csv(\"s1.csv\").fillna(\"\")\n",
    "Path(\"s1.csv\").unlink()  # delete the file again"
   ],
   "metadata": {
    "collapsed": false,
    "ExecuteTime": {
     "end_time": "2024-01-19T09:54:51.505200370Z",
     "start_time": "2024-01-19T09:54:51.504624138Z"
    }
   }
  },
  {
   "cell_type": "markdown",
   "source": [
    "We can also now run any new scenario configuration for the given experiment using `run_scenario_config`"
   ],
   "metadata": {
    "collapsed": false
   }
  },
  {
   "cell_type": "code",
   "execution_count": 34,
   "outputs": [
    {
     "name": "stdout",
     "output_type": "stream",
     "text": [
      "2024-01-19 10:57:01,271 - ............enbios.demos.enbios.base - INFO - Running scenario 'new scenario'\n"
     ]
    }
   ],
   "source": [
    "new_random_scenario = create_random_scenario()\n",
    "new_random_scenario[\"name\"] = \"new scenario\"\n",
    "new_results = scenarios_experiment.run_scenario_config(new_random_scenario)"
   ],
   "metadata": {
    "collapsed": false,
    "ExecuteTime": {
     "end_time": "2024-01-19T09:57:37.167960664Z",
     "start_time": "2024-01-19T09:57:01.273852577Z"
    }
   }
  },
  {
   "cell_type": "markdown",
   "source": [
    "## Inspecting the results\n",
    "\n",
    "We can now do some transformations of the results. For that is useful to know how to retrieve is singular result from a scenario result. \n",
    "The result of a scenario is a tree structure, where the nodes `name`s are activity aliases or names defined in the hierarchy. With the function of BasicTreeNode.find_child_by_name we can directly access the result of a node.    \n",
    "\n",
    "Following we transform the results into a dictionary of the following structure:\n",
    "```json\n",
    "{\n",
    "    \"node\": {\n",
    "        \"method\": \"[list of results for each scenario]\"\n",
    "    }\n",
    "}\n",
    "```"
   ],
   "metadata": {
    "collapsed": false
   }
  },
  {
   "cell_type": "code",
   "execution_count": 35,
   "outputs": [
    {
     "data": {
      "text/plain": "{'electricity production, wind, 1-3MW turbine, onshore': {'GWP1000': [{'unit': 'kg CO2-Eq',\n    'magnitude': 0.015243611332791748},\n   {'unit': 'kg CO2-Eq', 'magnitude': 0.12194889066233398},\n   {'unit': 'kg CO2-Eq', 'magnitude': 0.15243611332532284}],\n  'FETP': [{'unit': 'kg 1,4-DCB-Eq', 'magnitude': 0.0064256080745064845},\n   {'unit': 'kg 1,4-DCB-Eq', 'magnitude': 0.051404864596051876},\n   {'unit': 'kg 1,4-DCB-Eq', 'magnitude': 0.06425608074975031}],\n  'HTPnc': [{'unit': 'kg 1,4-DCB-Eq', 'magnitude': 0.03545478768772618},\n   {'unit': 'kg 1,4-DCB-Eq', 'magnitude': 0.28363830150180946},\n   {'unit': 'kg 1,4-DCB-Eq', 'magnitude': 0.3545478769436299}]},\n 'electricity production, wind, 1-3MW turbine, offshore': {'GWP1000': [{'unit': 'kg CO2-Eq',\n    'magnitude': 0.017020448257678778},\n   {'unit': 'kg CO2-Eq', 'magnitude': 0.0851022412843441},\n   {'unit': 'kg CO2-Eq', 'magnitude': 0.1021226895590089}],\n  'FETP': [{'unit': 'kg 1,4-DCB-Eq', 'magnitude': 0.004589452362081367},\n   {'unit': 'kg 1,4-DCB-Eq', 'magnitude': 0.022947261806520725},\n   {'unit': 'kg 1,4-DCB-Eq', 'magnitude': 0.027536714183906293}],\n  'HTPnc': [{'unit': 'kg 1,4-DCB-Eq', 'magnitude': 0.046378418526606936},\n   {'unit': 'kg 1,4-DCB-Eq', 'magnitude': 0.2318920925756993},\n   {'unit': 'kg 1,4-DCB-Eq', 'magnitude': 0.2782705113294806}]},\n 'electricity production, solar tower power plant, 20 MW': {'GWP1000': [{'unit': 'kg CO2-Eq',\n    'magnitude': 0.048204581910669446},\n   {'unit': 'kg CO2-Eq', 'magnitude': 0.3374320733746541},\n   {'unit': 'kg CO2-Eq', 'magnitude': 0.3374320733746541}],\n  'FETP': [{'unit': 'kg 1,4-DCB-Eq', 'magnitude': 0.003242319969953703},\n   {'unit': 'kg 1,4-DCB-Eq', 'magnitude': 0.022696239789655123},\n   {'unit': 'kg 1,4-DCB-Eq', 'magnitude': 0.022696239789655123}],\n  'HTPnc': [{'unit': 'kg 1,4-DCB-Eq', 'magnitude': 0.027197097783352518},\n   {'unit': 'kg 1,4-DCB-Eq', 'magnitude': 0.1903796844831218},\n   {'unit': 'kg 1,4-DCB-Eq', 'magnitude': 0.1903796844831218}]},\n 'electricity production, solar thermal parabolic trough, 50 MW': {'GWP1000': [{'unit': 'kg CO2-Eq',\n    'magnitude': 0.054196188793569924},\n   {'unit': 'kg CO2-Eq', 'magnitude': 0.3793733215550353},\n   {'unit': 'kg CO2-Eq', 'magnitude': 0.3251771327614778}],\n  'FETP': [{'unit': 'kg 1,4-DCB-Eq', 'magnitude': 0.003093075909994876},\n   {'unit': 'kg 1,4-DCB-Eq', 'magnitude': 0.021651531369984517},\n   {'unit': 'kg 1,4-DCB-Eq', 'magnitude': 0.018558455459963052}],\n  'HTPnc': [{'unit': 'kg 1,4-DCB-Eq', 'magnitude': 0.027781457632111747},\n   {'unit': 'kg 1,4-DCB-Eq', 'magnitude': 0.1944702034249311},\n   {'unit': 'kg 1,4-DCB-Eq', 'magnitude': 0.16668874579254483}]}}"
     },
     "execution_count": 35,
     "metadata": {},
     "output_type": "execute_result"
    }
   ],
   "source": [
    "all_results = {}\n",
    "for node in scenarios_experiment.structural_nodes_names:\n",
    "    all_results[node] = {method: [] for method in scenarios_experiment.method_names}\n",
    "    for scenario in scenarios_experiment.scenarios:\n",
    "        activity_result = scenario.result_tree.find_subnode_by_name(node)\n",
    "        for method, score in activity_result.data.results.items():\n",
    "            all_results[node][method].append(score.model_dump(exclude_defaults=True))\n",
    "\n",
    "all_results"
   ],
   "metadata": {
    "collapsed": false,
    "ExecuteTime": {
     "end_time": "2024-01-19T09:57:37.210482033Z",
     "start_time": "2024-01-19T09:57:37.208729504Z"
    }
   }
  },
  {
   "cell_type": "markdown",
   "source": [
    "## Let's pickle the file in order to use it in the other demo notebooks"
   ],
   "metadata": {
    "collapsed": false
   }
  },
  {
   "cell_type": "code",
   "outputs": [],
   "source": [
    "import pickle\n",
    "\n",
    "pickle.dump(scenarios_experiment, open(\"exp.pickle\", \"wb\"))"
   ],
   "metadata": {
    "collapsed": false,
    "ExecuteTime": {
     "end_time": "2024-01-19T09:57:37.211111527Z",
     "start_time": "2024-01-19T09:57:37.209113057Z"
    }
   },
   "execution_count": 36
  }
 ],
 "metadata": {
  "kernelspec": {
   "display_name": "Python 3 (ipykernel)",
   "language": "python",
   "name": "python3"
  },
  "language_info": {
   "codemirror_mode": {
    "name": "ipython",
    "version": 3
   },
   "file_extension": ".py",
   "mimetype": "text/x-python",
   "name": "python",
   "nbconvert_exporter": "python",
   "pygments_lexer": "ipython3",
   "version": "3.11.4"
  }
 },
 "nbformat": 4,
 "nbformat_minor": 1
}
