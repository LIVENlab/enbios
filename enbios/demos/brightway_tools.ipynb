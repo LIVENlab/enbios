{
 "cells": [
  {
   "cell_type": "code",
   "execution_count": null,
   "outputs": [],
   "source": [
    "%load_ext autoreload\n",
    "%autoreload 2"
   ],
   "metadata": {
    "collapsed": false
   },
   "id": "5532348f32e10f86"
  },
  {
   "cell_type": "code",
   "execution_count": null,
   "outputs": [],
   "source": [
    "from enbios.bw2.util import report\n",
    "\n",
    "report()"
   ],
   "metadata": {
    "collapsed": false
   },
   "id": "initial_id"
  },
  {
   "cell_type": "code",
   "execution_count": null,
   "outputs": [],
   "source": [
    "from enbios.ecoinvent.ecoinvent_index import get_ecoinvent_dataset_index \n",
    "\n",
    "get_ecoinvent_dataset_index()"
   ],
   "metadata": {
    "collapsed": false
   },
   "id": "f328c9298797d303"
  },
  {
   "cell_type": "code",
   "execution_count": null,
   "outputs": [],
   "source": [
    "from enbios.ecoinvent.ecoinvent_index import analyze_directory\n",
    "\n",
    "datasets = analyze_directory()\n",
    "datasets"
   ],
   "metadata": {
    "collapsed": false
   },
   "id": "3d049163c3b991e4"
  },
  {
   "cell_type": "code",
   "execution_count": null,
   "outputs": [],
   "source": [
    "from enbios.ecoinvent.ecoinvent_index import auto_import\n",
    "\n",
    "auto_import(datasets[0])"
   ],
   "metadata": {
    "collapsed": false
   },
   "id": "63adcf59f3042606"
  },
  {
   "cell_type": "code",
   "execution_count": null,
   "outputs": [],
   "source": [
    "get_ecoinvent_dataset_index()"
   ],
   "metadata": {
    "collapsed": false
   },
   "id": "66edbcd30efdd3ec"
  },
  {
   "cell_type": "code",
   "execution_count": null,
   "outputs": [],
   "source": [
    "report()"
   ],
   "metadata": {
    "collapsed": false
   },
   "id": "3b04cf9b009cabf7"
  },
  {
   "cell_type": "code",
   "execution_count": null,
   "outputs": [],
   "source": [
    "from enbios.bw2.bw_autoimporter import setup_bw_project\n",
    "from enbios.models.bw_project_models import BWProjectDatabase, BWProject\n",
    "\n",
    "setup_bw_project(\n",
    "    BWProject(\n",
    "        project_name=\"ecoinvent_391\",\n",
    "        databases=[\n",
    "            BWProjectDatabase(\n",
    "                name=\"ecoinvent_391_cutoff\",\n",
    "                source=\"ecoinvent/ecoinvent 3.9.1_cutoff_ecoSpold02/datasets\",\n",
    "                format=\"Ecospold2\",\n",
    "            )\n",
    "        ],\n",
    "    )\n",
    ")"
   ],
   "metadata": {
    "collapsed": false
   },
   "id": "a4bd22364d575bb6"
  },
  {
   "cell_type": "code",
   "execution_count": null,
   "outputs": [],
   "source": [
    "from enbios.bw2.util import report\n",
    "\n",
    "report()"
   ],
   "metadata": {
    "collapsed": false
   },
   "id": "f49bd0a71458be5c"
  },
  {
   "cell_type": "code",
   "execution_count": null,
   "outputs": [],
   "source": [],
   "metadata": {
    "collapsed": false
   },
   "id": "dfca96575477f3a8"
  }
 ],
 "metadata": {
  "kernelspec": {
   "display_name": "Python 3",
   "language": "python",
   "name": "python3"
  },
  "language_info": {
   "codemirror_mode": {
    "name": "ipython",
    "version": 2
   },
   "file_extension": ".py",
   "mimetype": "text/x-python",
   "name": "python",
   "nbconvert_exporter": "python",
   "pygments_lexer": "ipython2",
   "version": "2.7.6"
  }
 },
 "nbformat": 4,
 "nbformat_minor": 5
}
