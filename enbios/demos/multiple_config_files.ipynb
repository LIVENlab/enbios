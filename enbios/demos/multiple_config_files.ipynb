{
 "cells": [
  {
   "cell_type": "code",
   "execution_count": null,
   "id": "initial_id",
   "metadata": {
    "collapsed": true
   },
   "outputs": [],
   "source": [
    "from pathlib import Path\n",
    "\n",
    "from enbios.base.experiment import Experiment\n",
    "from enbios.bw2.util import report"
   ]
  },
  {
   "cell_type": "code",
   "outputs": [],
   "source": [
    "report()"
   ],
   "metadata": {
    "collapsed": false
   },
   "id": "ff48a157fd952cc7",
   "execution_count": null
  },
  {
   "cell_type": "code",
   "outputs": [],
   "source": [
    "base_experiment_data = {\n",
    "    \"adapters\": [\n",
    "        {\n",
    "            \"adapter_name\": \"brightway-adapter\",\n",
    "            \"config\": {\"bw_project\": \"ecoinvent_391\"},\n",
    "            \"methods\": {\n",
    "                \"GWP1000\": [\n",
    "                    \"ReCiPe 2016 v1.03, midpoint (H)\",\n",
    "                    \"climate change\",\n",
    "                    \"global warming potential (GWP1000)\",\n",
    "                ],\n",
    "                \"FETP\": [\n",
    "                    \"ReCiPe 2016 v1.03, midpoint (H)\",\n",
    "                    \"ecotoxicity: freshwater\",\n",
    "                    \"freshwater ecotoxicity potential (FETP)\",\n",
    "                ],\n",
    "            },\n",
    "        }\n",
    "    ]\n",
    "}"
   ],
   "metadata": {
    "collapsed": false
   },
   "id": "23fb01e4a272fd72",
   "execution_count": null
  },
  {
   "cell_type": "code",
   "outputs": [],
   "source": [
    "from enbios.const import BASE_TEST_DATA_PATH\n",
    "\n",
    "PROJECT_NAME = \"ecoinvent_391\"\n",
    "\n",
    "BASE_PATH = Path(BASE_TEST_DATA_PATH / \"experiment_separated/a\")"
   ],
   "metadata": {
    "collapsed": false
   },
   "id": "c63a84a1b1eb812a",
   "execution_count": null
  },
  {
   "cell_type": "code",
   "execution_count": null,
   "outputs": [],
   "source": [
    "experiment_data = base_experiment_data | {\n",
    "    \"hierarchy\": (BASE_PATH / \"hierarchy.json\").as_posix(),\n",
    "    \"scenarios\": (BASE_PATH / \"scenarios.json\").as_posix(),\n",
    "}\n",
    "experiment = Experiment(experiment_data)\n",
    "experiment"
   ],
   "metadata": {
    "collapsed": false
   },
   "id": "c4323efc61aaa7fe"
  },
  {
   "cell_type": "code",
   "outputs": [],
   "source": [
    "experiment.run()"
   ],
   "metadata": {
    "collapsed": false
   },
   "id": "9d002a5166add9c6",
   "execution_count": null
  }
 ],
 "metadata": {
  "kernelspec": {
   "display_name": "Python 3",
   "language": "python",
   "name": "python3"
  },
  "language_info": {
   "codemirror_mode": {
    "name": "ipython",
    "version": 2
   },
   "file_extension": ".py",
   "mimetype": "text/x-python",
   "name": "python",
   "nbconvert_exporter": "python",
   "pygments_lexer": "ipython2",
   "version": "2.7.6"
  }
 },
 "nbformat": 4,
 "nbformat_minor": 5
}
