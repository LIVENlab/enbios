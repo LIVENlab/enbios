{
 "cells": [
  {
   "cell_type": "code",
   "execution_count": null,
   "id": "initial_id",
   "metadata": {
    "collapsed": true
   },
   "outputs": [],
   "source": [
    "from enbios.generic.tree.basic_tree import BasicTreeNode"
   ]
  },
  {
   "cell_type": "code",
   "execution_count": null,
   "outputs": [],
   "source": [
    "root = BasicTreeNode(\"root\", data={\"a\": 1, \"b\": 2})\n",
    "root.data"
   ],
   "metadata": {
    "collapsed": false
   },
   "id": "9928dd8c5a1f4cbb"
  },
  {
   "cell_type": "code",
   "execution_count": null,
   "outputs": [],
   "source": [
    "some_child = BasicTreeNode(\"some_child\")\n",
    "root.add_child(some_child)"
   ],
   "metadata": {
    "collapsed": false
   },
   "id": "cb621938e804e903"
  },
  {
   "cell_type": "code",
   "execution_count": null,
   "outputs": [],
   "source": [
    "root.children"
   ],
   "metadata": {
    "collapsed": false
   },
   "id": "91bcffbf3a0f2a61"
  },
  {
   "cell_type": "code",
   "execution_count": null,
   "outputs": [],
   "source": [
    "root.children[0]"
   ],
   "metadata": {
    "collapsed": false
   },
   "id": "5949ac37ae7c6f21"
  },
  {
   "cell_type": "code",
   "execution_count": null,
   "outputs": [],
   "source": [
    "root[0]"
   ],
   "metadata": {
    "collapsed": false
   },
   "id": "1cc3480efa3d2271"
  },
  {
   "cell_type": "code",
   "execution_count": null,
   "outputs": [],
   "source": [
    "assert root.children[0] == root[0] == some_child"
   ],
   "metadata": {
    "collapsed": false
   },
   "id": "814da73c323d265d"
  },
  {
   "cell_type": "code",
   "execution_count": null,
   "outputs": [],
   "source": [
    "root[\"some_child\"]"
   ],
   "metadata": {
    "collapsed": false
   },
   "id": "792f42825f735268"
  },
  {
   "cell_type": "code",
   "execution_count": null,
   "outputs": [],
   "source": [
    "another_child = BasicTreeNode(\"another_child\")\n",
    "root.add_child(another_child)\n",
    "root.children"
   ],
   "metadata": {
    "collapsed": false
   },
   "id": "9a787cf565c1e37f"
  },
  {
   "cell_type": "code",
   "execution_count": null,
   "outputs": [],
   "source": [
    "# this will throw an error\n",
    "some_new_root = BasicTreeNode(\"root\", children=[some_child, another_child])"
   ],
   "metadata": {
    "collapsed": false
   },
   "id": "c31ec47282655244"
  },
  {
   "cell_type": "code",
   "execution_count": null,
   "outputs": [],
   "source": [
    "root.remove_child(\"some_child\")\n",
    "root.clear()"
   ],
   "metadata": {
    "collapsed": false
   },
   "id": "34f6268fb3528f01"
  },
  {
   "cell_type": "code",
   "execution_count": null,
   "outputs": [],
   "source": [
    "new_root = BasicTreeNode(\"root\", children=[some_child, another_child])"
   ],
   "metadata": {
    "collapsed": false
   },
   "id": "5eec9a1d973be3c1"
  },
  {
   "cell_type": "code",
   "execution_count": null,
   "outputs": [],
   "source": [
    "new_root.level, new_root.is_leaf, some_child.level, some_child.is_leaf"
   ],
   "metadata": {
    "collapsed": false
   },
   "id": "b25bc5edb427b0a1"
  },
  {
   "cell_type": "code",
   "execution_count": null,
   "outputs": [],
   "source": [
    "for child in new_root:\n",
    "    print(child)"
   ],
   "metadata": {
    "collapsed": false
   },
   "id": "7cbcac9abbf672a"
  },
  {
   "cell_type": "code",
   "execution_count": null,
   "outputs": [],
   "source": [
    "grand_child = BasicTreeNode(\"grandchild\")\n",
    "some_child.add_child(grand_child)"
   ],
   "metadata": {
    "collapsed": false
   },
   "id": "a461826aa4dc3455"
  },
  {
   "cell_type": "code",
   "execution_count": null,
   "outputs": [],
   "source": [
    "grand_child.parent"
   ],
   "metadata": {
    "collapsed": false
   },
   "id": "5d2c667dee2c6687"
  },
  {
   "cell_type": "code",
   "execution_count": null,
   "outputs": [],
   "source": [
    "grand_child.location()"
   ],
   "metadata": {
    "collapsed": false
   },
   "id": "8860c2978da81764"
  },
  {
   "cell_type": "code",
   "execution_count": null,
   "outputs": [],
   "source": [
    "new_root.find_subnode_by_name(\"grandchild\")"
   ],
   "metadata": {
    "collapsed": false
   },
   "id": "5ac25066d292c2c8"
  },
  {
   "cell_type": "code",
   "execution_count": null,
   "outputs": [],
   "source": [
    "# a generator going through all nodes\n",
    "list(new_root.iter_all_nodes())"
   ],
   "metadata": {
    "collapsed": false
   },
   "id": "84962bcae9dd28ee"
  },
  {
   "cell_type": "code",
   "execution_count": null,
   "outputs": [],
   "source": [
    "list(new_root.get_leaves())"
   ],
   "metadata": {
    "collapsed": false
   },
   "id": "28fce304c41ce121"
  },
  {
   "cell_type": "code",
   "execution_count": null,
   "outputs": [],
   "source": [
    "from typing import Optional\n",
    "from dataclasses import dataclass\n",
    "\n",
    "\n",
    "@dataclass\n",
    "class TreeData:\n",
    "    value: float\n",
    "    summed_values: Optional[float] = None\n",
    "\n",
    "\n",
    "data_tree = BasicTreeNode[TreeData](\"root\", data={\"value\": 1})"
   ],
   "metadata": {
    "collapsed": false
   },
   "id": "fc984097065a81a9"
  },
  {
   "cell_type": "code",
   "execution_count": null,
   "outputs": [],
   "source": [
    "data_tree.data"
   ],
   "metadata": {
    "collapsed": false
   },
   "id": "cec39dace97f3b99"
  },
  {
   "cell_type": "code",
   "execution_count": null,
   "outputs": [],
   "source": [
    "data_tree = BasicTreeNode[TreeData](\"root\", data=TreeData(value=1))"
   ],
   "metadata": {
    "collapsed": false
   },
   "id": "49dbfe079725cd02"
  },
  {
   "cell_type": "code",
   "execution_count": null,
   "outputs": [],
   "source": [
    "data_tree.as_dict()"
   ],
   "metadata": {
    "collapsed": false
   },
   "id": "4e5f50947d18da94"
  },
  {
   "cell_type": "code",
   "execution_count": null,
   "outputs": [],
   "source": [
    "data_tree.as_dict(include_data=True)"
   ],
   "metadata": {
    "collapsed": false
   },
   "id": "43bc21bdd321f0d4"
  },
  {
   "cell_type": "code",
   "execution_count": null,
   "outputs": [],
   "source": [
    "from dataclasses import asdict\n",
    "\n",
    "data_tree.as_dict(include_data=True, data_serializer=lambda x: asdict(x))"
   ],
   "metadata": {
    "collapsed": false
   },
   "id": "6b1c132061052e9d"
  },
  {
   "cell_type": "code",
   "execution_count": null,
   "outputs": [],
   "source": [
    "data_tree.add_child(BasicTreeNode(\"child\", data=TreeData(value=3)))"
   ],
   "metadata": {
    "collapsed": false
   },
   "id": "294dfa83141940e6"
  },
  {
   "cell_type": "code",
   "execution_count": null,
   "outputs": [],
   "source": [
    "# when lazy is set to True, the function will be applied to the node only when it is accessed and the result will be a generator\n",
    "\n",
    "\n",
    "def aggregate_values(node: BasicTreeNode[TreeData]):\n",
    "    return node, sum([x.data.value for x in node])\n",
    "\n",
    "\n",
    "results = data_tree.recursive_apply(aggregate_values, depth_first=True, lazy=True)"
   ],
   "metadata": {
    "collapsed": false
   },
   "id": "ed85e163e271c976"
  },
  {
   "cell_type": "code",
   "execution_count": null,
   "outputs": [],
   "source": [
    "list(results)"
   ],
   "metadata": {
    "collapsed": false
   },
   "id": "91c95c6c8ecbe985"
  },
  {
   "cell_type": "code",
   "execution_count": null,
   "outputs": [],
   "source": [
    "# here lazy has the default value False, so the function will be applied to all nodes immediately and there will be no return value\n",
    "\n",
    "\n",
    "def aggregate_values2(node: BasicTreeNode[TreeData]):\n",
    "    if node.is_leaf:\n",
    "        node.data.summed_values = node.data.value\n",
    "    else:\n",
    "        node.data.summed_values = sum([x.data.summed_values for x in node])\n",
    "\n",
    "\n",
    "data_tree.recursive_apply(aggregate_values2, depth_first=True)"
   ],
   "metadata": {
    "collapsed": false
   },
   "id": "3cf4fd4899b2c058"
  },
  {
   "cell_type": "code",
   "execution_count": null,
   "outputs": [],
   "source": [
    "data_tree.as_dict(include_data=True, data_serializer=lambda x: asdict(x))"
   ],
   "metadata": {
    "collapsed": false
   },
   "id": "5f5b7583ed75ef13"
  },
  {
   "cell_type": "code",
   "execution_count": null,
   "outputs": [],
   "source": [],
   "metadata": {
    "collapsed": false
   },
   "id": "d2b314ded1f231d0"
  }
 ],
 "metadata": {
  "kernelspec": {
   "display_name": "Python 3",
   "language": "python",
   "name": "python3"
  },
  "language_info": {
   "codemirror_mode": {
    "name": "ipython",
    "version": 2
   },
   "file_extension": ".py",
   "mimetype": "text/x-python",
   "name": "python",
   "nbconvert_exporter": "python",
   "pygments_lexer": "ipython2",
   "version": "2.7.6"
  }
 },
 "nbformat": 4,
 "nbformat_minor": 5
}
