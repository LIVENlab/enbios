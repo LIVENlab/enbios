{
 "cells": [
  {
   "cell_type": "code",
   "execution_count": 8,
   "id": "initial_id",
   "metadata": {
    "collapsed": true,
    "ExecuteTime": {
     "end_time": "2024-01-22T08:40:46.975439171Z",
     "start_time": "2024-01-22T08:40:46.930919323Z"
    }
   },
   "outputs": [
    {
     "name": "stdout",
     "output_type": "stream",
     "text": [
      "Project: default\n",
      "[]\n",
      "Project: ecoinvent_391\n",
      "['biosphere3', 'ecoinvent_391_cutoff']\n",
      "Project: nonlinear-method-test\n",
      "['db']\n",
      "Project: Spain case study\n",
      "['biosphere', 'food']\n"
     ]
    }
   ],
   "source": [
    "import json\n",
    "\n",
    "from enbios.bw2.util import report\n",
    "\n",
    "report()"
   ]
  },
  {
   "cell_type": "code",
   "outputs": [],
   "source": [
    "BRIGHTWAY_PROJECT = \"ecoinvent_391\""
   ],
   "metadata": {
    "collapsed": false,
    "ExecuteTime": {
     "end_time": "2024-01-22T08:40:47.457617043Z",
     "start_time": "2024-01-22T08:40:47.455308275Z"
    }
   },
   "id": "1189b6bea0407463",
   "execution_count": 9
  },
  {
   "cell_type": "code",
   "outputs": [],
   "source": [
    "experiment_data = json.load(open(\"data/uncertainty_experiment_data.json\"))\n",
    "# set the bw project to one that has ecoinvent 3.9.1 datasets\n",
    "experiment_data[\"adapters\"][0][\"config\"][\"bw_project\"] = \"----------------\""
   ],
   "metadata": {
    "collapsed": false,
    "ExecuteTime": {
     "end_time": "2024-01-22T08:50:33.415367663Z",
     "start_time": "2024-01-22T08:50:33.372981658Z"
    }
   },
   "id": "6d3103743605c287",
   "execution_count": 30
  },
  {
   "cell_type": "code",
   "outputs": [
    {
     "name": "stdout",
     "output_type": "stream",
     "text": [
      "2024-01-22 09:50:34,264 - ............enbios.demos.enbios.base.adapters_aggregators.builtin - WARNING - Cannot aggregate output to parent: Thermal_generation. From earlier children the base unit is 2842897593.0081835 kilogram and from chp_biofuel_extraction__heat it is 941785.54105752 megajoule. Cannot convert from 'kilogram' ([mass]) to 'megajoule' ([length] ** 2 * [mass] / [time] ** 2)\n",
      "2024-01-22 09:50:34,265 - ............enbios.demos.enbios.base.adapters_aggregators.builtin - WARNING - Scenario: '0': No output for node: 'Thermal_generation' (lvl: 2). Not calculating any upper nodes.\n",
      "2024-01-22 09:50:34,266 - ............enbios.demos.enbios.base.adapters_aggregators.builtin - WARNING - Cannot aggregate output to parent: ConversionsT. From earlier children the base unit is 226141452.37025702 kilogram and from biofuel_to_methane__methane it is 240964492.04181156 meter ** 3. Cannot convert from 'kilogram' ([mass]) to 'meter ** 3' ([length] ** 3)\n",
      "2024-01-22 09:50:34,266 - ............enbios.demos.enbios.base.adapters_aggregators.builtin - WARNING - Scenario: '0': No output for node: 'ConversionsT' (lvl: 2). Not calculating any upper nodes.\n",
      "2024-01-22 09:50:34,267 - ............enbios.demos.enbios.base.adapters_aggregators.builtin - WARNING - Scenario: '0': No output for node: 'Conversions' (lvl: 1). Not calculating any upper nodes.\n",
      "2024-01-22 09:50:34,267 - ............enbios.demos.enbios.base - INFO - Running scenario '0'\n",
      "2024-01-22 09:50:34,271 - ............enbios.demos.ADAPTER::(brightway-adapter) - INFO - Brightway adapter: Run distribution 0/5\n",
      "2024-01-22 09:50:34,943 - ............enbios.demos.ADAPTER::(brightway-adapter) - INFO - {'message': 'Started MultiLCA calculation', 'methods': [('ReCiPe 2016 v1.03, midpoint (H)', 'climate change', 'global warming potential (GWP1000)'), ('Ecological Scarcity 2021', 'emissions to water', 'water pollutants')], 'functional units': [[{'database': 'ecoinvent_391_cutoff', 'code': '81174ec2c20931c1a36f65c654bbd11e', 'amount': 57514890465.62103}], [{'database': 'ecoinvent_391_cutoff', 'code': '46839adbc3cf15621ddbbe687eaa6df1', 'amount': 1142566.6357662922}], [{'database': 'ecoinvent_391_cutoff', 'code': 'f1cc5e0b69dcd3bdb2c6a4d393521a65', 'amount': 2842897593.0081835}], [{'database': 'ecoinvent_391_cutoff', 'code': '413bc4617794c6e8b07038dbeca64adb', 'amount': 941785.54105752}], [{'database': 'ecoinvent_391_cutoff', 'code': '3a6586952eff793738eef72743703e90', 'amount': 226141452.37025702}], [{'database': 'ecoinvent_391_cutoff', 'code': '7d82a9b0a28dc30058260b5c68fbad95', 'amount': 240964492.04181156}]]}\n",
      "2024-01-22 09:50:42,735 - ............enbios.demos.ADAPTER::(brightway-adapter) - DEBUG - Demand 0/6\n",
      "2024-01-22 09:50:51,124 - ............enbios.demos.ADAPTER::(brightway-adapter) - DEBUG - Demand 1/6\n",
      "2024-01-22 09:50:57,807 - ............enbios.demos.ADAPTER::(brightway-adapter) - DEBUG - Demand 2/6\n",
      "2024-01-22 09:51:04,893 - ............enbios.demos.ADAPTER::(brightway-adapter) - DEBUG - Demand 3/6\n",
      "2024-01-22 09:51:15,088 - ............enbios.demos.ADAPTER::(brightway-adapter) - DEBUG - Demand 4/6\n",
      "2024-01-22 09:51:21,615 - ............enbios.demos.ADAPTER::(brightway-adapter) - DEBUG - Demand 5/6\n",
      "2024-01-22 09:51:32,715 - ............enbios.demos.ADAPTER::(brightway-adapter) - INFO - Brightway adapter: Run distribution 1/5\n",
      "2024-01-22 09:51:33,512 - ............enbios.demos.ADAPTER::(brightway-adapter) - INFO - {'message': 'Started MultiLCA calculation', 'methods': [('ReCiPe 2016 v1.03, midpoint (H)', 'climate change', 'global warming potential (GWP1000)'), ('Ecological Scarcity 2021', 'emissions to water', 'water pollutants')], 'functional units': [[{'database': 'ecoinvent_391_cutoff', 'code': '81174ec2c20931c1a36f65c654bbd11e', 'amount': 57514890465.62103}], [{'database': 'ecoinvent_391_cutoff', 'code': '46839adbc3cf15621ddbbe687eaa6df1', 'amount': 1142566.6357662922}], [{'database': 'ecoinvent_391_cutoff', 'code': 'f1cc5e0b69dcd3bdb2c6a4d393521a65', 'amount': 2842897593.0081835}], [{'database': 'ecoinvent_391_cutoff', 'code': '413bc4617794c6e8b07038dbeca64adb', 'amount': 941785.54105752}], [{'database': 'ecoinvent_391_cutoff', 'code': '3a6586952eff793738eef72743703e90', 'amount': 226141452.37025702}], [{'database': 'ecoinvent_391_cutoff', 'code': '7d82a9b0a28dc30058260b5c68fbad95', 'amount': 240964492.04181156}]]}\n",
      "2024-01-22 09:51:44,941 - ............enbios.demos.ADAPTER::(brightway-adapter) - DEBUG - Demand 0/6\n",
      "2024-01-22 09:51:51,440 - ............enbios.demos.ADAPTER::(brightway-adapter) - DEBUG - Demand 1/6\n",
      "2024-01-22 09:52:01,579 - ............enbios.demos.ADAPTER::(brightway-adapter) - DEBUG - Demand 2/6\n",
      "2024-01-22 09:52:12,802 - ............enbios.demos.ADAPTER::(brightway-adapter) - DEBUG - Demand 3/6\n",
      "2024-01-22 09:52:18,452 - ............enbios.demos.ADAPTER::(brightway-adapter) - DEBUG - Demand 4/6\n",
      "2024-01-22 09:52:26,499 - ............enbios.demos.ADAPTER::(brightway-adapter) - DEBUG - Demand 5/6\n",
      "2024-01-22 09:52:35,414 - ............enbios.demos.ADAPTER::(brightway-adapter) - INFO - Brightway adapter: Run distribution 2/5\n",
      "2024-01-22 09:52:36,076 - ............enbios.demos.ADAPTER::(brightway-adapter) - INFO - {'message': 'Started MultiLCA calculation', 'methods': [('ReCiPe 2016 v1.03, midpoint (H)', 'climate change', 'global warming potential (GWP1000)'), ('Ecological Scarcity 2021', 'emissions to water', 'water pollutants')], 'functional units': [[{'database': 'ecoinvent_391_cutoff', 'code': '81174ec2c20931c1a36f65c654bbd11e', 'amount': 57514890465.62103}], [{'database': 'ecoinvent_391_cutoff', 'code': '46839adbc3cf15621ddbbe687eaa6df1', 'amount': 1142566.6357662922}], [{'database': 'ecoinvent_391_cutoff', 'code': 'f1cc5e0b69dcd3bdb2c6a4d393521a65', 'amount': 2842897593.0081835}], [{'database': 'ecoinvent_391_cutoff', 'code': '413bc4617794c6e8b07038dbeca64adb', 'amount': 941785.54105752}], [{'database': 'ecoinvent_391_cutoff', 'code': '3a6586952eff793738eef72743703e90', 'amount': 226141452.37025702}], [{'database': 'ecoinvent_391_cutoff', 'code': '7d82a9b0a28dc30058260b5c68fbad95', 'amount': 240964492.04181156}]]}\n",
      "2024-01-22 09:52:44,770 - ............enbios.demos.ADAPTER::(brightway-adapter) - DEBUG - Demand 0/6\n",
      "2024-01-22 09:52:55,823 - ............enbios.demos.ADAPTER::(brightway-adapter) - DEBUG - Demand 1/6\n",
      "2024-01-22 09:53:03,886 - ............enbios.demos.ADAPTER::(brightway-adapter) - DEBUG - Demand 2/6\n",
      "2024-01-22 09:53:11,866 - ............enbios.demos.ADAPTER::(brightway-adapter) - DEBUG - Demand 3/6\n",
      "2024-01-22 09:53:23,247 - ............enbios.demos.ADAPTER::(brightway-adapter) - DEBUG - Demand 4/6\n",
      "2024-01-22 09:53:32,789 - ............enbios.demos.ADAPTER::(brightway-adapter) - DEBUG - Demand 5/6\n",
      "2024-01-22 09:53:40,504 - ............enbios.demos.ADAPTER::(brightway-adapter) - INFO - Brightway adapter: Run distribution 3/5\n",
      "2024-01-22 09:53:41,246 - ............enbios.demos.ADAPTER::(brightway-adapter) - INFO - {'message': 'Started MultiLCA calculation', 'methods': [('ReCiPe 2016 v1.03, midpoint (H)', 'climate change', 'global warming potential (GWP1000)'), ('Ecological Scarcity 2021', 'emissions to water', 'water pollutants')], 'functional units': [[{'database': 'ecoinvent_391_cutoff', 'code': '81174ec2c20931c1a36f65c654bbd11e', 'amount': 57514890465.62103}], [{'database': 'ecoinvent_391_cutoff', 'code': '46839adbc3cf15621ddbbe687eaa6df1', 'amount': 1142566.6357662922}], [{'database': 'ecoinvent_391_cutoff', 'code': 'f1cc5e0b69dcd3bdb2c6a4d393521a65', 'amount': 2842897593.0081835}], [{'database': 'ecoinvent_391_cutoff', 'code': '413bc4617794c6e8b07038dbeca64adb', 'amount': 941785.54105752}], [{'database': 'ecoinvent_391_cutoff', 'code': '3a6586952eff793738eef72743703e90', 'amount': 226141452.37025702}], [{'database': 'ecoinvent_391_cutoff', 'code': '7d82a9b0a28dc30058260b5c68fbad95', 'amount': 240964492.04181156}]]}\n",
      "2024-01-22 09:53:49,686 - ............enbios.demos.ADAPTER::(brightway-adapter) - DEBUG - Demand 0/6\n",
      "2024-01-22 09:53:57,697 - ............enbios.demos.ADAPTER::(brightway-adapter) - DEBUG - Demand 1/6\n",
      "2024-01-22 09:54:03,692 - ............enbios.demos.ADAPTER::(brightway-adapter) - DEBUG - Demand 2/6\n",
      "2024-01-22 09:54:09,991 - ............enbios.demos.ADAPTER::(brightway-adapter) - DEBUG - Demand 3/6\n",
      "2024-01-22 09:54:15,795 - ............enbios.demos.ADAPTER::(brightway-adapter) - DEBUG - Demand 4/6\n",
      "2024-01-22 09:54:24,642 - ............enbios.demos.ADAPTER::(brightway-adapter) - DEBUG - Demand 5/6\n",
      "2024-01-22 09:54:30,811 - ............enbios.demos.ADAPTER::(brightway-adapter) - INFO - Brightway adapter: Run distribution 4/5\n",
      "2024-01-22 09:54:31,522 - ............enbios.demos.ADAPTER::(brightway-adapter) - INFO - {'message': 'Started MultiLCA calculation', 'methods': [('ReCiPe 2016 v1.03, midpoint (H)', 'climate change', 'global warming potential (GWP1000)'), ('Ecological Scarcity 2021', 'emissions to water', 'water pollutants')], 'functional units': [[{'database': 'ecoinvent_391_cutoff', 'code': '81174ec2c20931c1a36f65c654bbd11e', 'amount': 57514890465.62103}], [{'database': 'ecoinvent_391_cutoff', 'code': '46839adbc3cf15621ddbbe687eaa6df1', 'amount': 1142566.6357662922}], [{'database': 'ecoinvent_391_cutoff', 'code': 'f1cc5e0b69dcd3bdb2c6a4d393521a65', 'amount': 2842897593.0081835}], [{'database': 'ecoinvent_391_cutoff', 'code': '413bc4617794c6e8b07038dbeca64adb', 'amount': 941785.54105752}], [{'database': 'ecoinvent_391_cutoff', 'code': '3a6586952eff793738eef72743703e90', 'amount': 226141452.37025702}], [{'database': 'ecoinvent_391_cutoff', 'code': '7d82a9b0a28dc30058260b5c68fbad95', 'amount': 240964492.04181156}]]}\n",
      "2024-01-22 09:54:38,845 - ............enbios.demos.ADAPTER::(brightway-adapter) - DEBUG - Demand 0/6\n",
      "2024-01-22 09:54:45,300 - ............enbios.demos.ADAPTER::(brightway-adapter) - DEBUG - Demand 1/6\n",
      "2024-01-22 09:54:51,754 - ............enbios.demos.ADAPTER::(brightway-adapter) - DEBUG - Demand 2/6\n",
      "2024-01-22 09:54:58,788 - ............enbios.demos.ADAPTER::(brightway-adapter) - DEBUG - Demand 3/6\n",
      "2024-01-22 09:55:09,398 - ............enbios.demos.ADAPTER::(brightway-adapter) - DEBUG - Demand 4/6\n",
      "2024-01-22 09:55:16,745 - ............enbios.demos.ADAPTER::(brightway-adapter) - DEBUG - Demand 5/6\n"
     ]
    }
   ],
   "source": [
    "from enbios.base.experiment import Experiment\n",
    "\n",
    "exp = Experiment(experiment_data)\n",
    "result = exp.run()"
   ],
   "metadata": {
    "collapsed": false,
    "ExecuteTime": {
     "end_time": "2024-01-22T08:55:25.134304915Z",
     "start_time": "2024-01-22T08:50:34.149995645Z"
    }
   },
   "id": "8163df7005a1e1be",
   "execution_count": 31
  },
  {
   "cell_type": "code",
   "outputs": [],
   "source": [
    "import pickle\n",
    "pickle.dump(exp, open(\"data/uncertainty_experiment.pickle\",\"wb\"))"
   ],
   "metadata": {
    "collapsed": false,
    "ExecuteTime": {
     "end_time": "2024-01-22T08:56:46.034536458Z",
     "start_time": "2024-01-22T08:56:46.026412882Z"
    }
   },
   "id": "175f764550523bb4",
   "execution_count": 32
  },
  {
   "cell_type": "code",
   "outputs": [],
   "source": [],
   "metadata": {
    "collapsed": false
   },
   "id": "9bd8c8921436893c"
  }
 ],
 "metadata": {
  "kernelspec": {
   "display_name": "Python 3",
   "language": "python",
   "name": "python3"
  },
  "language_info": {
   "codemirror_mode": {
    "name": "ipython",
    "version": 2
   },
   "file_extension": ".py",
   "mimetype": "text/x-python",
   "name": "python",
   "nbconvert_exporter": "python",
   "pygments_lexer": "ipython2",
   "version": "2.7.6"
  }
 },
 "nbformat": 4,
 "nbformat_minor": 5
}
