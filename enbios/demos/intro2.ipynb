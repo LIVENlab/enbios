{
 "cells": [
  {
   "cell_type": "code",
   "execution_count": null,
   "outputs": [],
   "source": [
    "%load_ext autoreload\n",
    "%autoreload 2"
   ],
   "metadata": {
    "collapsed": false
   }
  },
  {
   "cell_type": "code",
   "execution_count": null,
   "outputs": [],
   "source": [
    "import json\n",
    "import pandas as pd\n",
    "from enbios.base.experiment import Experiment\n",
    "import bw2data\n",
    "\n",
    "from enbios.bw2.util import report\n",
    "from enbios.models.experiment_models import ExperimentData"
   ],
   "metadata": {
    "collapsed": false
   }
  },
  {
   "cell_type": "code",
   "execution_count": null,
   "metadata": {},
   "outputs": [],
   "source": [
    "# get an overview of brighway projects and databases\n",
    "report()"
   ]
  },
  {
   "cell_type": "code",
   "execution_count": null,
   "metadata": {},
   "outputs": [],
   "source": [
    "# select the brightway project and database (some ecoinvent database)\n",
    "PROJECT_NAME = \"ecoinvent_391\"\n",
    "DATABASE = \"ecoinvent_391_cutoff\"\n",
    "\n",
    "bw2data.projects.set_current(PROJECT_NAME)\n",
    "db = bw2data.Database(DATABASE)"
   ]
  },
  {
   "cell_type": "code",
   "execution_count": null,
   "metadata": {},
   "outputs": [],
   "source": [
    "wind_turbines_spain = db.search(\n",
    "    \"electricity production, wind, 1-3MW turbine, onshore\", filter={\"location\": \"ES\"}\n",
    ")[:1]\n",
    "wind_turbines_spain"
   ]
  },
  {
   "cell_type": "code",
   "execution_count": null,
   "outputs": [],
   "source": [
    "solar_spain = db.search(\"solar\", filter={\"location\": \"ES\"})[:2]\n",
    "solar_spain"
   ],
   "metadata": {
    "collapsed": false
   }
  },
  {
   "cell_type": "code",
   "execution_count": null,
   "metadata": {},
   "outputs": [],
   "source": [
    "# for the experiment we need to create a list of activities (or a dict, where the keys represent the aliases)\n",
    "# We need to add the codes, otherwise the brightway search will not be not uniquely identify the activities\n",
    "# adding name is just for convenience\n",
    "experiment_activities = []\n",
    "\n",
    "for activity in wind_turbines_spain + solar_spain:\n",
    "    experiment_activities.append(\n",
    "        {\n",
    "            \"id\": {\n",
    "                \"name\": activity[\"name\"],\n",
    "                \"code\": activity[\"code\"],\n",
    "                \"alias\": activity[\"name\"],\n",
    "            }\n",
    "        }\n",
    "    )\n",
    "\n",
    "experiment_activities"
   ]
  },
  {
   "cell_type": "code",
   "execution_count": null,
   "metadata": {},
   "outputs": [],
   "source": [
    "# select 2 random methods and convert them into the form for enbios2\n",
    "methods = [bw2data.methods.random() for _ in range(1)]\n",
    "experiment_methods = [{\"id\": method} for method in methods]\n",
    "\n",
    "experiment_methods"
   ]
  },
  {
   "cell_type": "code",
   "execution_count": null,
   "outputs": [],
   "source": [
    "hierarchy = {\n",
    "    \"wind\": [wind_act[\"name\"] for wind_act in wind_turbines_spain],\n",
    "    \"solar\": [solar_act[\"name\"] for solar_act in solar_spain],\n",
    "}"
   ],
   "metadata": {
    "collapsed": false
   }
  },
  {
   "cell_type": "code",
   "execution_count": null,
   "outputs": [],
   "source": [
    "from random import randint\n",
    "\n",
    "\n",
    "def create_random_scenario():\n",
    "    return {\n",
    "        \"activities\": {\n",
    "            act[\"id\"][\"alias\"]: [\"kilowatt_hour\", randint(1, 10)]\n",
    "            for act in experiment_activities\n",
    "        }\n",
    "    }\n",
    "\n",
    "\n",
    "scenarios = [create_random_scenario() for _ in range(8)]"
   ],
   "metadata": {
    "collapsed": false
   }
  },
  {
   "cell_type": "code",
   "execution_count": null,
   "outputs": [],
   "source": [
    "# let's store the raw data, because we want to modify it later\n",
    "raw_data = {\n",
    "    \"bw_project\": PROJECT_NAME,\n",
    "    \"activities\": experiment_activities,\n",
    "    \"methods\": experiment_methods,\n",
    "    \"hierarchy\": hierarchy,\n",
    "    \"scenarios\": scenarios,\n",
    "}\n",
    "\n",
    "raw_data"
   ],
   "metadata": {
    "collapsed": false
   }
  },
  {
   "cell_type": "code",
   "execution_count": null,
   "metadata": {},
   "outputs": [],
   "source": [
    "# create a experiment object. This will validate the activities, their outputs, the methods and the scenarios.\n",
    "exp: Experiment = Experiment(raw_data)"
   ]
  },
  {
   "cell_type": "code",
   "execution_count": null,
   "metadata": {},
   "outputs": [],
   "source": [
    "print(exp.info())"
   ]
  },
  {
   "cell_type": "code",
   "execution_count": null,
   "metadata": {},
   "outputs": [],
   "source": [
    "exp = Experiment(raw_data)"
   ]
  },
  {
   "cell_type": "code",
   "execution_count": null,
   "outputs": [],
   "source": [
    "_ = exp.run()"
   ],
   "metadata": {
    "collapsed": false
   }
  },
  {
   "cell_type": "code",
   "execution_count": null,
   "outputs": [],
   "source": [
    "exp.execution_time"
   ],
   "metadata": {
    "collapsed": false
   }
  },
  {
   "cell_type": "code",
   "execution_count": null,
   "outputs": [],
   "source": [
    "from pathlib import Path\n",
    "\n",
    "exp.results_to_csv(\"s1.csv\", level_names=[\"root\", \"technology\", \"activity\"])\n",
    "df = pd.read_csv(\"s1.csv\").fillna(\"\")\n",
    "Path(\"s1.csv\").unlink()\n",
    "df"
   ],
   "metadata": {
    "collapsed": false
   }
  },
  {
   "cell_type": "code",
   "execution_count": null,
   "outputs": [],
   "source": [
    "from enbios.generic.files import DataPath\n",
    "import pickle\n",
    "\n",
    "pickle.dump(exp, DataPath(\"test_data/exp.pkl\").open(\"wb\"))"
   ],
   "metadata": {
    "collapsed": false
   }
  },
  {
   "cell_type": "code",
   "execution_count": null,
   "outputs": [],
   "source": [
    "activities = list(exp.scenarios[0].result_tree.get_leaves())\n",
    "[a._data for a in activities]"
   ],
   "metadata": {
    "collapsed": false
   }
  },
  {
   "cell_type": "code",
   "execution_count": null,
   "outputs": [],
   "source": [
    "exp.scenarios[0].rearrange_results(\n",
    "    {\n",
    "        \"group1\": [\n",
    "            \"electricity production, wind, >3MW turbine, onshore\",\n",
    "            \"electricity production, wind, 1-3MW turbine, onshore\",\n",
    "            \"electricity production, wind, 1-3MW turbine, offshore\",\n",
    "        ],\n",
    "        \"group2\": [\n",
    "            \"electricity production, wind, <1MW turbine, onshore\",\n",
    "            \"electricity production, solar tower power plant, 20 MW\",\n",
    "            \"electricity production, solar thermal parabolic trough, 50 MW\",\n",
    "        ],\n",
    "    }\n",
    ")"
   ],
   "metadata": {
    "collapsed": false
   }
  },
  {
   "cell_type": "code",
   "execution_count": null,
   "outputs": [],
   "source": [],
   "metadata": {
    "collapsed": false
   }
  }
 ],
 "metadata": {
  "kernelspec": {
   "display_name": "Python 3 (ipykernel)",
   "language": "python",
   "name": "python3"
  },
  "language_info": {
   "codemirror_mode": {
    "name": "ipython",
    "version": 3
   },
   "file_extension": ".py",
   "mimetype": "text/x-python",
   "name": "python",
   "nbconvert_exporter": "python",
   "pygments_lexer": "ipython3",
   "version": "3.11.4"
  }
 },
 "nbformat": 4,
 "nbformat_minor": 1
}
