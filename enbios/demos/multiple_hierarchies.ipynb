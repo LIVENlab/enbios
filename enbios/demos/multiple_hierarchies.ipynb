{
 "cells": [
  {
   "cell_type": "code",
   "execution_count": 1,
   "id": "initial_id",
   "metadata": {
    "collapsed": true,
    "ExecuteTime": {
     "end_time": "2024-01-11T12:33:02.083104317Z",
     "start_time": "2024-01-11T12:33:00.515595102Z"
    }
   },
   "outputs": [],
   "source": [
    "import pickle\n",
    "\n",
    "from enbios.base.experiment import Experiment"
   ]
  },
  {
   "cell_type": "code",
   "execution_count": 2,
   "outputs": [],
   "source": [
    "# Open a pickled experiment object.\n",
    "from pathlib import Path\n",
    "\n",
    "# exp: Experiment = pickle.load(DataPath(\"test_data/exp.pkl\").open(\"rb\"))\n",
    "exp: Experiment = pickle.load(Path(\"exp.pickle\").open(\"rb\"))"
   ],
   "metadata": {
    "collapsed": false,
    "ExecuteTime": {
     "end_time": "2024-01-11T12:33:02.090680038Z",
     "start_time": "2024-01-11T12:33:02.086504403Z"
    }
   },
   "id": "664eeffc63230f08"
  },
  {
   "cell_type": "code",
   "execution_count": 3,
   "outputs": [
    {
     "data": {
      "text/plain": "['electricity production, wind, >3MW turbine, onshore',\n 'electricity production, wind, 1-3MW turbine, onshore',\n 'electricity production, solar tower power plant, 20 MW',\n 'electricity production, solar thermal parabolic trough, 50 MW']"
     },
     "execution_count": 3,
     "metadata": {},
     "output_type": "execute_result"
    }
   ],
   "source": [
    "exp.activities_names"
   ],
   "metadata": {
    "collapsed": false,
    "ExecuteTime": {
     "end_time": "2024-01-11T12:33:02.103695238Z",
     "start_time": "2024-01-11T12:33:02.091591363Z"
    }
   },
   "id": "459a94523b6f2b36"
  },
  {
   "cell_type": "code",
   "outputs": [],
   "source": [
    "alt_hierarchy = {\n",
    "    \"name\": \"root\",\n",
    "    \"aggregator\": \"sum\",\n",
    "    \"children\": [\n",
    "        \"electricity production, wind, >3MW turbine, onshore\",\n",
    "        \"electricity production, wind, 1-3MW turbine, onshore\",\n",
    "        \"electricity production, solar tower power plant, 20 MW\",\n",
    "        \"electricity production, solar thermal parabolic trough, 50 MW\",\n",
    "    ],\n",
    "}"
   ],
   "metadata": {
    "collapsed": false,
    "ExecuteTime": {
     "end_time": "2024-01-11T12:33:02.115727919Z",
     "start_time": "2024-01-11T12:33:02.101112092Z"
    }
   },
   "id": "e6e7cf38d4f978b0",
   "execution_count": 4
  },
  {
   "cell_type": "code",
   "execution_count": 5,
   "outputs": [
    {
     "data": {
      "text/plain": "{'natural resources': ResultValue(unit='USD 2013', magnitude=0.015781910423478995, multi_magnitude=[]),\n 'land use': ResultValue(unit='species.yr', magnitude=1.3778406410190067e-10, multi_magnitude=[]),\n 'GWP1000': ResultValue(unit='kg CO2-Eq', magnitude=0.14261518289620362, multi_magnitude=[]),\n 'FETP': ResultValue(unit='kg 1,4-DCB-Eq', magnitude=0.06303329467579132, multi_magnitude=[])}"
     },
     "execution_count": 5,
     "metadata": {},
     "output_type": "execute_result"
    }
   ],
   "source": [
    "rearranged_result_tree = exp.scenarios[0].rearrange_results(alt_hierarchy)\n",
    "\n",
    "rearranged_result_tree.data.results"
   ],
   "metadata": {
    "collapsed": false,
    "ExecuteTime": {
     "end_time": "2024-01-11T12:33:02.156134019Z",
     "start_time": "2024-01-11T12:33:02.112122934Z"
    }
   },
   "id": "100295acd9c780b6"
  },
  {
   "cell_type": "code",
   "execution_count": 6,
   "outputs": [
    {
     "data": {
      "text/plain": "{'name': 'root',\n 'results': {'natural resources': {'unit': 'USD 2013',\n   'magnitude': 0.015781910423478995},\n  'land use': {'unit': 'species.yr', 'magnitude': 1.3778406410190067e-10},\n  'GWP1000': {'unit': 'kg CO2-Eq', 'magnitude': 0.14261518289620362},\n  'FETP': {'unit': 'kg 1,4-DCB-Eq', 'magnitude': 0.06303329467579132}},\n 'output': {'unit': 'kilowatt_hour', 'magnitude': 4.0},\n 'children': [{'name': 'electricity production, wind, >3MW turbine, onshore',\n   'results': {'natural resources': {'unit': 'USD 2013',\n     'magnitude': 0.0023355880047714155},\n    'land use': {'unit': 'species.yr', 'magnitude': 1.0884934668481906e-11},\n    'GWP1000': {'unit': 'kg CO2-Eq', 'magnitude': 0.024970800859172478},\n    'FETP': {'unit': 'kg 1,4-DCB-Eq', 'magnitude': 0.05027229072133625}},\n   'output': {'unit': 'kilowatt_hour', 'magnitude': 1.0}},\n  {'name': 'electricity production, wind, 1-3MW turbine, onshore',\n   'results': {'natural resources': {'unit': 'USD 2013',\n     'magnitude': 0.0015629542931550023},\n    'land use': {'unit': 'species.yr', 'magnitude': 9.462494004089154e-12},\n    'GWP1000': {'unit': 'kg CO2-Eq', 'magnitude': 0.015243611332791748},\n    'FETP': {'unit': 'kg 1,4-DCB-Eq', 'magnitude': 0.0064256080745064845}},\n   'output': {'unit': 'kilowatt_hour', 'magnitude': 1.0}},\n  {'name': 'electricity production, solar tower power plant, 20 MW',\n   'results': {'natural resources': {'unit': 'USD 2013',\n     'magnitude': 0.005427431652382674},\n    'land use': {'unit': 'species.yr', 'magnitude': 6.161406680930125e-11},\n    'GWP1000': {'unit': 'kg CO2-Eq', 'magnitude': 0.048204581910669446},\n    'FETP': {'unit': 'kg 1,4-DCB-Eq', 'magnitude': 0.003242319969953703}},\n   'output': {'unit': 'kilowatt_hour', 'magnitude': 1.0}},\n  {'name': 'electricity production, solar thermal parabolic trough, 50 MW',\n   'results': {'natural resources': {'unit': 'USD 2013',\n     'magnitude': 0.006455936473169902},\n    'land use': {'unit': 'species.yr', 'magnitude': 5.5822568620028366e-11},\n    'GWP1000': {'unit': 'kg CO2-Eq', 'magnitude': 0.054196188793569924},\n    'FETP': {'unit': 'kg 1,4-DCB-Eq', 'magnitude': 0.003093075909994876}},\n   'output': {'unit': 'kilowatt_hour', 'magnitude': 1.0}}]}"
     },
     "execution_count": 6,
     "metadata": {},
     "output_type": "execute_result"
    }
   ],
   "source": [
    "exp.scenarios[0].result_to_dict(alternative_hierarchy=alt_hierarchy)"
   ],
   "metadata": {
    "collapsed": false,
    "ExecuteTime": {
     "end_time": "2024-01-11T12:33:02.915266060Z",
     "start_time": "2024-01-11T12:33:02.901074889Z"
    }
   },
   "id": "96f9e7e4659d49f6"
  },
  {
   "cell_type": "code",
   "outputs": [
    {
     "data": {
      "text/plain": "   root   tech                                           activity  \\\n0  root                                                             \n1         wind                                                      \n2               electricity production, wind, >3MW turbine, on...   \n3               electricity production, wind, 1-3MW turbine, o...   \n4        solar                                                      \n5               electricity production, solar tower power plan...   \n6               electricity production, solar thermal paraboli...   \n\n   natural resources_magnitude (USD 2013)  land use_magnitude (species.yr)  \\\n0                                0.015782                     1.377841e-10   \n1                                0.003899                     2.034743e-11   \n2                                0.002336                     1.088493e-11   \n3                                0.001563                     9.462494e-12   \n4                                0.011883                     1.174366e-10   \n5                                0.005427                     6.161407e-11   \n6                                0.006456                     5.582257e-11   \n\n   GWP1000_magnitude (kg CO2-Eq)  FETP_magnitude (kg 1,4-DCB-Eq)  \\\n0                       0.142615                        0.063033   \n1                       0.040214                        0.056698   \n2                       0.024971                        0.050272   \n3                       0.015244                        0.006426   \n4                       0.102401                        0.006335   \n5                       0.048205                        0.003242   \n6                       0.054196                        0.003093   \n\n     output_unit  output_magnitude  \n0  kilowatt_hour               4.0  \n1  kilowatt_hour               2.0  \n2  kilowatt_hour               1.0  \n3  kilowatt_hour               1.0  \n4  kilowatt_hour               2.0  \n5  kilowatt_hour               1.0  \n6  kilowatt_hour               1.0  ",
      "text/html": "<div>\n<style scoped>\n    .dataframe tbody tr th:only-of-type {\n        vertical-align: middle;\n    }\n\n    .dataframe tbody tr th {\n        vertical-align: top;\n    }\n\n    .dataframe thead th {\n        text-align: right;\n    }\n</style>\n<table border=\"1\" class=\"dataframe\">\n  <thead>\n    <tr style=\"text-align: right;\">\n      <th></th>\n      <th>root</th>\n      <th>tech</th>\n      <th>activity</th>\n      <th>natural resources_magnitude (USD 2013)</th>\n      <th>land use_magnitude (species.yr)</th>\n      <th>GWP1000_magnitude (kg CO2-Eq)</th>\n      <th>FETP_magnitude (kg 1,4-DCB-Eq)</th>\n      <th>output_unit</th>\n      <th>output_magnitude</th>\n    </tr>\n  </thead>\n  <tbody>\n    <tr>\n      <th>0</th>\n      <td>root</td>\n      <td></td>\n      <td></td>\n      <td>0.015782</td>\n      <td>1.377841e-10</td>\n      <td>0.142615</td>\n      <td>0.063033</td>\n      <td>kilowatt_hour</td>\n      <td>4.0</td>\n    </tr>\n    <tr>\n      <th>1</th>\n      <td></td>\n      <td>wind</td>\n      <td></td>\n      <td>0.003899</td>\n      <td>2.034743e-11</td>\n      <td>0.040214</td>\n      <td>0.056698</td>\n      <td>kilowatt_hour</td>\n      <td>2.0</td>\n    </tr>\n    <tr>\n      <th>2</th>\n      <td></td>\n      <td></td>\n      <td>electricity production, wind, &gt;3MW turbine, on...</td>\n      <td>0.002336</td>\n      <td>1.088493e-11</td>\n      <td>0.024971</td>\n      <td>0.050272</td>\n      <td>kilowatt_hour</td>\n      <td>1.0</td>\n    </tr>\n    <tr>\n      <th>3</th>\n      <td></td>\n      <td></td>\n      <td>electricity production, wind, 1-3MW turbine, o...</td>\n      <td>0.001563</td>\n      <td>9.462494e-12</td>\n      <td>0.015244</td>\n      <td>0.006426</td>\n      <td>kilowatt_hour</td>\n      <td>1.0</td>\n    </tr>\n    <tr>\n      <th>4</th>\n      <td></td>\n      <td>solar</td>\n      <td></td>\n      <td>0.011883</td>\n      <td>1.174366e-10</td>\n      <td>0.102401</td>\n      <td>0.006335</td>\n      <td>kilowatt_hour</td>\n      <td>2.0</td>\n    </tr>\n    <tr>\n      <th>5</th>\n      <td></td>\n      <td></td>\n      <td>electricity production, solar tower power plan...</td>\n      <td>0.005427</td>\n      <td>6.161407e-11</td>\n      <td>0.048205</td>\n      <td>0.003242</td>\n      <td>kilowatt_hour</td>\n      <td>1.0</td>\n    </tr>\n    <tr>\n      <th>6</th>\n      <td></td>\n      <td></td>\n      <td>electricity production, solar thermal paraboli...</td>\n      <td>0.006456</td>\n      <td>5.582257e-11</td>\n      <td>0.054196</td>\n      <td>0.003093</td>\n      <td>kilowatt_hour</td>\n      <td>1.0</td>\n    </tr>\n  </tbody>\n</table>\n</div>"
     },
     "execution_count": 7,
     "metadata": {},
     "output_type": "execute_result"
    }
   ],
   "source": [
    "import pandas as pd\n",
    "\n",
    "exp.scenarios[0].results_to_csv(\"s1.csv\", level_names=[\"root\", \"tech\", \"activity\"])\n",
    "pd.read_csv(\"s1.csv\").fillna(\"\")"
   ],
   "metadata": {
    "collapsed": false,
    "ExecuteTime": {
     "end_time": "2024-01-11T12:33:04.094582822Z",
     "start_time": "2024-01-11T12:33:04.079292694Z"
    }
   },
   "id": "2c78a05b602f3bcc",
   "execution_count": 7
  },
  {
   "cell_type": "code",
   "outputs": [
    {
     "data": {
      "text/plain": "   root                                           activity  \\\n0  root                                                      \n1        electricity production, wind, >3MW turbine, on...   \n2        electricity production, wind, 1-3MW turbine, o...   \n3        electricity production, solar tower power plan...   \n4        electricity production, solar thermal paraboli...   \n\n   natural resources_magnitude (USD 2013)  land use_magnitude (species.yr)  \\\n0                                0.015782                     1.377841e-10   \n1                                0.002336                     1.088493e-11   \n2                                0.001563                     9.462494e-12   \n3                                0.005427                     6.161407e-11   \n4                                0.006456                     5.582257e-11   \n\n   GWP1000_magnitude (kg CO2-Eq)  FETP_magnitude (kg 1,4-DCB-Eq)  \\\n0                       0.142615                        0.063033   \n1                       0.024971                        0.050272   \n2                       0.015244                        0.006426   \n3                       0.048205                        0.003242   \n4                       0.054196                        0.003093   \n\n     output_unit  output_magnitude  \n0  kilowatt_hour               4.0  \n1  kilowatt_hour               1.0  \n2  kilowatt_hour               1.0  \n3  kilowatt_hour               1.0  \n4  kilowatt_hour               1.0  ",
      "text/html": "<div>\n<style scoped>\n    .dataframe tbody tr th:only-of-type {\n        vertical-align: middle;\n    }\n\n    .dataframe tbody tr th {\n        vertical-align: top;\n    }\n\n    .dataframe thead th {\n        text-align: right;\n    }\n</style>\n<table border=\"1\" class=\"dataframe\">\n  <thead>\n    <tr style=\"text-align: right;\">\n      <th></th>\n      <th>root</th>\n      <th>activity</th>\n      <th>natural resources_magnitude (USD 2013)</th>\n      <th>land use_magnitude (species.yr)</th>\n      <th>GWP1000_magnitude (kg CO2-Eq)</th>\n      <th>FETP_magnitude (kg 1,4-DCB-Eq)</th>\n      <th>output_unit</th>\n      <th>output_magnitude</th>\n    </tr>\n  </thead>\n  <tbody>\n    <tr>\n      <th>0</th>\n      <td>root</td>\n      <td></td>\n      <td>0.015782</td>\n      <td>1.377841e-10</td>\n      <td>0.142615</td>\n      <td>0.063033</td>\n      <td>kilowatt_hour</td>\n      <td>4.0</td>\n    </tr>\n    <tr>\n      <th>1</th>\n      <td></td>\n      <td>electricity production, wind, &gt;3MW turbine, on...</td>\n      <td>0.002336</td>\n      <td>1.088493e-11</td>\n      <td>0.024971</td>\n      <td>0.050272</td>\n      <td>kilowatt_hour</td>\n      <td>1.0</td>\n    </tr>\n    <tr>\n      <th>2</th>\n      <td></td>\n      <td>electricity production, wind, 1-3MW turbine, o...</td>\n      <td>0.001563</td>\n      <td>9.462494e-12</td>\n      <td>0.015244</td>\n      <td>0.006426</td>\n      <td>kilowatt_hour</td>\n      <td>1.0</td>\n    </tr>\n    <tr>\n      <th>3</th>\n      <td></td>\n      <td>electricity production, solar tower power plan...</td>\n      <td>0.005427</td>\n      <td>6.161407e-11</td>\n      <td>0.048205</td>\n      <td>0.003242</td>\n      <td>kilowatt_hour</td>\n      <td>1.0</td>\n    </tr>\n    <tr>\n      <th>4</th>\n      <td></td>\n      <td>electricity production, solar thermal paraboli...</td>\n      <td>0.006456</td>\n      <td>5.582257e-11</td>\n      <td>0.054196</td>\n      <td>0.003093</td>\n      <td>kilowatt_hour</td>\n      <td>1.0</td>\n    </tr>\n  </tbody>\n</table>\n</div>"
     },
     "execution_count": 8,
     "metadata": {},
     "output_type": "execute_result"
    }
   ],
   "source": [
    "import pandas as pd\n",
    "\n",
    "exp.scenarios[0].results_to_csv(\n",
    "    \"s1.csv\", alternative_hierarchy=alt_hierarchy, level_names=[\"root\", \"activity\"]\n",
    ")\n",
    "pd.read_csv(\"s1.csv\").fillna(\"\")"
   ],
   "metadata": {
    "collapsed": false,
    "ExecuteTime": {
     "end_time": "2024-01-11T12:33:04.941833865Z",
     "start_time": "2024-01-11T12:33:04.924512242Z"
    }
   },
   "id": "222d40231ddaf996",
   "execution_count": 8
  },
  {
   "cell_type": "code",
   "outputs": [],
   "source": [],
   "metadata": {
    "collapsed": false
   },
   "id": "4dc2d7ff2aad29bb"
  }
 ],
 "metadata": {
  "kernelspec": {
   "display_name": "Python 3",
   "language": "python",
   "name": "python3"
  },
  "language_info": {
   "codemirror_mode": {
    "name": "ipython",
    "version": 2
   },
   "file_extension": ".py",
   "mimetype": "text/x-python",
   "name": "python",
   "nbconvert_exporter": "python",
   "pygments_lexer": "ipython2",
   "version": "2.7.6"
  }
 },
 "nbformat": 4,
 "nbformat_minor": 5
}
