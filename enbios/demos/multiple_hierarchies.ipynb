{
 "cells": [
  {
   "cell_type": "code",
   "execution_count": 8,
   "id": "initial_id",
   "metadata": {
    "collapsed": true,
    "ExecuteTime": {
     "end_time": "2024-01-15T11:15:06.849567223Z",
     "start_time": "2024-01-15T11:15:06.802402827Z"
    }
   },
   "outputs": [],
   "source": [
    "import pickle\n",
    "\n",
    "from enbios.base.experiment import Experiment"
   ]
  },
  {
   "cell_type": "code",
   "execution_count": 9,
   "outputs": [],
   "source": [
    "# Open a pickled experiment object.\n",
    "from pathlib import Path\n",
    "\n",
    "# exp: Experiment = pickle.load(DataPath(\"test_data/exp.pkl\").open(\"rb\"))\n",
    "exp: Experiment = pickle.load(Path(\"exp.pickle\").open(\"rb\"))"
   ],
   "metadata": {
    "collapsed": false,
    "ExecuteTime": {
     "end_time": "2024-01-15T11:15:07.140522548Z",
     "start_time": "2024-01-15T11:15:07.133955637Z"
    }
   },
   "id": "664eeffc63230f08"
  },
  {
   "cell_type": "code",
   "execution_count": 10,
   "outputs": [
    {
     "data": {
      "text/plain": "['electricity production, wind, 1-3MW turbine, onshore',\n 'electricity production, wind, 1-3MW turbine, offshore',\n 'electricity production, solar tower power plant, 20 MW',\n 'electricity production, solar thermal parabolic trough, 50 MW']"
     },
     "execution_count": 10,
     "metadata": {},
     "output_type": "execute_result"
    }
   ],
   "source": [
    "exp.activities_names"
   ],
   "metadata": {
    "collapsed": false,
    "ExecuteTime": {
     "end_time": "2024-01-15T11:15:07.564055291Z",
     "start_time": "2024-01-15T11:15:07.560092776Z"
    }
   },
   "id": "459a94523b6f2b36"
  },
  {
   "cell_type": "code",
   "outputs": [],
   "source": [
    "alt_hierarchy = {\n",
    "    \"name\": \"root\",\n",
    "    \"aggregator\": \"sum\",\n",
    "    \"children\": exp.activities_names,\n",
    "}"
   ],
   "metadata": {
    "collapsed": false,
    "ExecuteTime": {
     "end_time": "2024-01-15T11:16:07.045067583Z",
     "start_time": "2024-01-15T11:16:06.998026275Z"
    }
   },
   "id": "e6e7cf38d4f978b0",
   "execution_count": 14
  },
  {
   "cell_type": "code",
   "execution_count": 15,
   "outputs": [
    {
     "data": {
      "text/plain": "{'GWP1000': ResultValue(unit='kg CO2-Eq', magnitude=0.13466483029470988, multi_magnitude=[]),\n 'FETP': ResultValue(unit='kg 1,4-DCB-Eq', magnitude=0.01735045631653643, multi_magnitude=[]),\n 'HTPnc': ResultValue(unit='kg 1,4-DCB-Eq', magnitude=0.1368117616297974, multi_magnitude=[])}"
     },
     "execution_count": 15,
     "metadata": {},
     "output_type": "execute_result"
    }
   ],
   "source": [
    "rearranged_result_tree = exp.scenarios[0].rearrange_results(alt_hierarchy)\n",
    "\n",
    "rearranged_result_tree.data.results"
   ],
   "metadata": {
    "collapsed": false,
    "ExecuteTime": {
     "end_time": "2024-01-15T11:16:07.771735243Z",
     "start_time": "2024-01-15T11:16:07.762880086Z"
    }
   },
   "id": "100295acd9c780b6"
  },
  {
   "cell_type": "code",
   "execution_count": 16,
   "outputs": [
    {
     "data": {
      "text/plain": "{'name': 'root',\n 'results': {'GWP1000': {'unit': 'kg CO2-Eq',\n   'magnitude': 0.13466483029470988},\n  'FETP': {'unit': 'kg 1,4-DCB-Eq', 'magnitude': 0.01735045631653643},\n  'HTPnc': {'unit': 'kg 1,4-DCB-Eq', 'magnitude': 0.1368117616297974}},\n 'output': {'unit': 'kilowatt_hour', 'magnitude': 4.0},\n 'children': [{'name': 'electricity production, wind, 1-3MW turbine, onshore',\n   'results': {'GWP1000': {'unit': 'kg CO2-Eq',\n     'magnitude': 0.015243611332791748},\n    'FETP': {'unit': 'kg 1,4-DCB-Eq', 'magnitude': 0.0064256080745064845},\n    'HTPnc': {'unit': 'kg 1,4-DCB-Eq', 'magnitude': 0.03545478768772618}},\n   'output': {'unit': 'kilowatt_hour', 'magnitude': 1.0}},\n  {'name': 'electricity production, wind, 1-3MW turbine, offshore',\n   'results': {'GWP1000': {'unit': 'kg CO2-Eq',\n     'magnitude': 0.017020448257678778},\n    'FETP': {'unit': 'kg 1,4-DCB-Eq', 'magnitude': 0.004589452362081367},\n    'HTPnc': {'unit': 'kg 1,4-DCB-Eq', 'magnitude': 0.046378418526606936}},\n   'output': {'unit': 'kilowatt_hour', 'magnitude': 1.0}},\n  {'name': 'electricity production, solar tower power plant, 20 MW',\n   'results': {'GWP1000': {'unit': 'kg CO2-Eq',\n     'magnitude': 0.048204581910669446},\n    'FETP': {'unit': 'kg 1,4-DCB-Eq', 'magnitude': 0.003242319969953703},\n    'HTPnc': {'unit': 'kg 1,4-DCB-Eq', 'magnitude': 0.027197097783352518}},\n   'output': {'unit': 'kilowatt_hour', 'magnitude': 1.0}},\n  {'name': 'electricity production, solar thermal parabolic trough, 50 MW',\n   'results': {'GWP1000': {'unit': 'kg CO2-Eq',\n     'magnitude': 0.054196188793569924},\n    'FETP': {'unit': 'kg 1,4-DCB-Eq', 'magnitude': 0.003093075909994876},\n    'HTPnc': {'unit': 'kg 1,4-DCB-Eq', 'magnitude': 0.027781457632111747}},\n   'output': {'unit': 'kilowatt_hour', 'magnitude': 1.0}}]}"
     },
     "execution_count": 16,
     "metadata": {},
     "output_type": "execute_result"
    }
   ],
   "source": [
    "exp.scenarios[0].result_to_dict(alternative_hierarchy=alt_hierarchy)"
   ],
   "metadata": {
    "collapsed": false,
    "ExecuteTime": {
     "end_time": "2024-01-15T11:16:08.609695553Z",
     "start_time": "2024-01-15T11:16:08.597663839Z"
    }
   },
   "id": "96f9e7e4659d49f6"
  },
  {
   "cell_type": "code",
   "outputs": [
    {
     "data": {
      "text/plain": "   root   tech                                           activity  \\\n0  root                                                             \n1         wind                                                      \n2               electricity production, wind, 1-3MW turbine, o...   \n3               electricity production, wind, 1-3MW turbine, o...   \n4        solar                                                      \n5               electricity production, solar tower power plan...   \n6               electricity production, solar thermal paraboli...   \n\n   GWP1000_magnitude (kg CO2-Eq)  FETP_magnitude (kg 1,4-DCB-Eq)  \\\n0                       0.134665                        0.017350   \n1                       0.032264                        0.011015   \n2                       0.015244                        0.006426   \n3                       0.017020                        0.004589   \n4                       0.102401                        0.006335   \n5                       0.048205                        0.003242   \n6                       0.054196                        0.003093   \n\n   HTPnc_magnitude (kg 1,4-DCB-Eq)    output_unit  output_magnitude  \n0                         0.136812  kilowatt_hour               4.0  \n1                         0.081833  kilowatt_hour               2.0  \n2                         0.035455  kilowatt_hour               1.0  \n3                         0.046378  kilowatt_hour               1.0  \n4                         0.054979  kilowatt_hour               2.0  \n5                         0.027197  kilowatt_hour               1.0  \n6                         0.027781  kilowatt_hour               1.0  ",
      "text/html": "<div>\n<style scoped>\n    .dataframe tbody tr th:only-of-type {\n        vertical-align: middle;\n    }\n\n    .dataframe tbody tr th {\n        vertical-align: top;\n    }\n\n    .dataframe thead th {\n        text-align: right;\n    }\n</style>\n<table border=\"1\" class=\"dataframe\">\n  <thead>\n    <tr style=\"text-align: right;\">\n      <th></th>\n      <th>root</th>\n      <th>tech</th>\n      <th>activity</th>\n      <th>GWP1000_magnitude (kg CO2-Eq)</th>\n      <th>FETP_magnitude (kg 1,4-DCB-Eq)</th>\n      <th>HTPnc_magnitude (kg 1,4-DCB-Eq)</th>\n      <th>output_unit</th>\n      <th>output_magnitude</th>\n    </tr>\n  </thead>\n  <tbody>\n    <tr>\n      <th>0</th>\n      <td>root</td>\n      <td></td>\n      <td></td>\n      <td>0.134665</td>\n      <td>0.017350</td>\n      <td>0.136812</td>\n      <td>kilowatt_hour</td>\n      <td>4.0</td>\n    </tr>\n    <tr>\n      <th>1</th>\n      <td></td>\n      <td>wind</td>\n      <td></td>\n      <td>0.032264</td>\n      <td>0.011015</td>\n      <td>0.081833</td>\n      <td>kilowatt_hour</td>\n      <td>2.0</td>\n    </tr>\n    <tr>\n      <th>2</th>\n      <td></td>\n      <td></td>\n      <td>electricity production, wind, 1-3MW turbine, o...</td>\n      <td>0.015244</td>\n      <td>0.006426</td>\n      <td>0.035455</td>\n      <td>kilowatt_hour</td>\n      <td>1.0</td>\n    </tr>\n    <tr>\n      <th>3</th>\n      <td></td>\n      <td></td>\n      <td>electricity production, wind, 1-3MW turbine, o...</td>\n      <td>0.017020</td>\n      <td>0.004589</td>\n      <td>0.046378</td>\n      <td>kilowatt_hour</td>\n      <td>1.0</td>\n    </tr>\n    <tr>\n      <th>4</th>\n      <td></td>\n      <td>solar</td>\n      <td></td>\n      <td>0.102401</td>\n      <td>0.006335</td>\n      <td>0.054979</td>\n      <td>kilowatt_hour</td>\n      <td>2.0</td>\n    </tr>\n    <tr>\n      <th>5</th>\n      <td></td>\n      <td></td>\n      <td>electricity production, solar tower power plan...</td>\n      <td>0.048205</td>\n      <td>0.003242</td>\n      <td>0.027197</td>\n      <td>kilowatt_hour</td>\n      <td>1.0</td>\n    </tr>\n    <tr>\n      <th>6</th>\n      <td></td>\n      <td></td>\n      <td>electricity production, solar thermal paraboli...</td>\n      <td>0.054196</td>\n      <td>0.003093</td>\n      <td>0.027781</td>\n      <td>kilowatt_hour</td>\n      <td>1.0</td>\n    </tr>\n  </tbody>\n</table>\n</div>"
     },
     "execution_count": 17,
     "metadata": {},
     "output_type": "execute_result"
    }
   ],
   "source": [
    "import pandas as pd\n",
    "\n",
    "exp.scenarios[0].results_to_csv(\"s1.csv\", level_names=[\"root\", \"tech\", \"activity\"])\n",
    "pd.read_csv(\"s1.csv\").fillna(\"\")"
   ],
   "metadata": {
    "collapsed": false,
    "ExecuteTime": {
     "end_time": "2024-01-15T11:16:11.567444613Z",
     "start_time": "2024-01-15T11:16:11.541792113Z"
    }
   },
   "id": "2c78a05b602f3bcc",
   "execution_count": 17
  },
  {
   "cell_type": "code",
   "outputs": [
    {
     "data": {
      "text/plain": "   root                                           activity  \\\n0  root                                                      \n1        electricity production, wind, 1-3MW turbine, o...   \n2        electricity production, wind, 1-3MW turbine, o...   \n3        electricity production, solar tower power plan...   \n4        electricity production, solar thermal paraboli...   \n\n   GWP1000_magnitude (kg CO2-Eq)  FETP_magnitude (kg 1,4-DCB-Eq)  \\\n0                       0.134665                        0.017350   \n1                       0.015244                        0.006426   \n2                       0.017020                        0.004589   \n3                       0.048205                        0.003242   \n4                       0.054196                        0.003093   \n\n   HTPnc_magnitude (kg 1,4-DCB-Eq)    output_unit  output_magnitude  \n0                         0.136812  kilowatt_hour               4.0  \n1                         0.035455  kilowatt_hour               1.0  \n2                         0.046378  kilowatt_hour               1.0  \n3                         0.027197  kilowatt_hour               1.0  \n4                         0.027781  kilowatt_hour               1.0  ",
      "text/html": "<div>\n<style scoped>\n    .dataframe tbody tr th:only-of-type {\n        vertical-align: middle;\n    }\n\n    .dataframe tbody tr th {\n        vertical-align: top;\n    }\n\n    .dataframe thead th {\n        text-align: right;\n    }\n</style>\n<table border=\"1\" class=\"dataframe\">\n  <thead>\n    <tr style=\"text-align: right;\">\n      <th></th>\n      <th>root</th>\n      <th>activity</th>\n      <th>GWP1000_magnitude (kg CO2-Eq)</th>\n      <th>FETP_magnitude (kg 1,4-DCB-Eq)</th>\n      <th>HTPnc_magnitude (kg 1,4-DCB-Eq)</th>\n      <th>output_unit</th>\n      <th>output_magnitude</th>\n    </tr>\n  </thead>\n  <tbody>\n    <tr>\n      <th>0</th>\n      <td>root</td>\n      <td></td>\n      <td>0.134665</td>\n      <td>0.017350</td>\n      <td>0.136812</td>\n      <td>kilowatt_hour</td>\n      <td>4.0</td>\n    </tr>\n    <tr>\n      <th>1</th>\n      <td></td>\n      <td>electricity production, wind, 1-3MW turbine, o...</td>\n      <td>0.015244</td>\n      <td>0.006426</td>\n      <td>0.035455</td>\n      <td>kilowatt_hour</td>\n      <td>1.0</td>\n    </tr>\n    <tr>\n      <th>2</th>\n      <td></td>\n      <td>electricity production, wind, 1-3MW turbine, o...</td>\n      <td>0.017020</td>\n      <td>0.004589</td>\n      <td>0.046378</td>\n      <td>kilowatt_hour</td>\n      <td>1.0</td>\n    </tr>\n    <tr>\n      <th>3</th>\n      <td></td>\n      <td>electricity production, solar tower power plan...</td>\n      <td>0.048205</td>\n      <td>0.003242</td>\n      <td>0.027197</td>\n      <td>kilowatt_hour</td>\n      <td>1.0</td>\n    </tr>\n    <tr>\n      <th>4</th>\n      <td></td>\n      <td>electricity production, solar thermal paraboli...</td>\n      <td>0.054196</td>\n      <td>0.003093</td>\n      <td>0.027781</td>\n      <td>kilowatt_hour</td>\n      <td>1.0</td>\n    </tr>\n  </tbody>\n</table>\n</div>"
     },
     "execution_count": 18,
     "metadata": {},
     "output_type": "execute_result"
    }
   ],
   "source": [
    "import pandas as pd\n",
    "\n",
    "exp.scenarios[0].results_to_csv(\n",
    "    \"s1.csv\", alternative_hierarchy=alt_hierarchy, level_names=[\"root\", \"activity\"]\n",
    ")\n",
    "pd.read_csv(\"s1.csv\").fillna(\"\")"
   ],
   "metadata": {
    "collapsed": false,
    "ExecuteTime": {
     "end_time": "2024-01-15T11:16:12.579611277Z",
     "start_time": "2024-01-15T11:16:12.561511004Z"
    }
   },
   "id": "222d40231ddaf996",
   "execution_count": 18
  },
  {
   "cell_type": "code",
   "outputs": [],
   "source": [],
   "metadata": {
    "collapsed": false
   },
   "id": "4dc2d7ff2aad29bb"
  }
 ],
 "metadata": {
  "kernelspec": {
   "display_name": "Python 3",
   "language": "python",
   "name": "python3"
  },
  "language_info": {
   "codemirror_mode": {
    "name": "ipython",
    "version": 2
   },
   "file_extension": ".py",
   "mimetype": "text/x-python",
   "name": "python",
   "nbconvert_exporter": "python",
   "pygments_lexer": "ipython2",
   "version": "2.7.6"
  }
 },
 "nbformat": 4,
 "nbformat_minor": 5
}
