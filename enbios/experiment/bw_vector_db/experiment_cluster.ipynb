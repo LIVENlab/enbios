{
 "cells": [
  {
   "cell_type": "code",
   "execution_count": 13,
   "outputs": [
    {
     "name": "stdout",
     "output_type": "stream",
     "text": [
      "[1 1 1 1 1 1 1 1 1 1 3 1 4 1 1 1 1 1 1 1 1 1 1 1 1 1 1 1 2 1 1 5 1 1 1 1 1\n",
      " 1 1 1 1 1 1 1 1 1 1 1 1 1 1 1 1 1 1]\n"
     ]
    }
   ],
   "source": [
    "from scipy.cluster.hierarchy import linkage, fcluster\n",
    "from scipy.spatial.distance import pdist\n",
    "import numpy as np\n",
    "\n",
    "# Generate some data in 2D\n",
    "# np.random.seed(123)\n",
    "data = np.random.rand(55, 10)\n",
    "\n",
    "# Compute the distance between each pair of the two collections of inputs.\n",
    "Y = pdist(data)\n",
    "\n",
    "# Perform hierarchical/agglomerative clustering.\n",
    "Z = linkage(Y)\n",
    "\n",
    "# Form flat clusters from the hierarchical clustering defined by the given linkage matrix.\n",
    "# Here, we're cutting the dendrogram to create a certain number of clusters (e.g., 3)\n",
    "clusters = fcluster(Z, 5, criterion='maxclust')\n",
    "\n",
    "print(clusters)"
   ],
   "metadata": {
    "collapsed": false,
    "ExecuteTime": {
     "start_time": "2023-07-12T22:19:02.802281Z",
     "end_time": "2023-07-12T22:19:02.846910Z"
    }
   }
  },
  {
   "cell_type": "code",
   "execution_count": 25,
   "outputs": [],
   "source": [
    "from enbios2.experiment.bw_vector_db.create_vectors import get_all_vector_docs\n",
    "\n",
    "docs = get_all_vector_docs()"
   ],
   "metadata": {
    "collapsed": false,
    "ExecuteTime": {
     "start_time": "2023-07-12T22:43:24.608120Z",
     "end_time": "2023-07-12T22:43:26.761983Z"
    }
   }
  },
  {
   "cell_type": "code",
   "execution_count": 15,
   "outputs": [],
   "source": [
    "embeddings = [doc.embedding for doc in docs]\n",
    "Y = pdist(embeddings, metric='cosine')\n",
    "Z = linkage(Y)"
   ],
   "metadata": {
    "collapsed": false,
    "ExecuteTime": {
     "start_time": "2023-07-12T22:21:00.321110Z",
     "end_time": "2023-07-12T22:21:19.836322Z"
    }
   }
  },
  {
   "cell_type": "code",
   "execution_count": 30,
   "outputs": [
    {
     "data": {
      "text/plain": "array([[6.36000000e+02, 4.62400000e+03, 1.51983761e-03, 2.00000000e+00],\n       [2.44100000e+03, 4.93200000e+03, 1.67563821e-03, 2.00000000e+00],\n       [4.48000000e+02, 3.95500000e+03, 1.75458163e-03, 2.00000000e+00],\n       ...,\n       [1.94900000e+03, 1.65510000e+04, 5.51764802e-01, 8.27600000e+03],\n       [1.75600000e+03, 1.65520000e+04, 6.10256463e-01, 8.27700000e+03],\n       [2.14700000e+03, 1.65530000e+04, 6.29868526e-01, 8.27800000e+03]])"
     },
     "execution_count": 30,
     "metadata": {},
     "output_type": "execute_result"
    }
   ],
   "source": [
    "Z"
   ],
   "metadata": {
    "collapsed": false,
    "ExecuteTime": {
     "start_time": "2023-07-12T22:47:13.136450Z",
     "end_time": "2023-07-12T22:47:13.153525Z"
    }
   }
  },
  {
   "cell_type": "code",
   "execution_count": 22,
   "outputs": [],
   "source": [
    "from matplotlib import pyplot as plt\n",
    "\n",
    "from scipy.cluster.hierarchy import dendrogram\n",
    "#\n",
    "# fig = plt.figure(figsize=(10, 10))\n",
    "# dn = dendrogram(Z)\n",
    "#\n",
    "# plt.title('Dendrogram')\n",
    "# plt.xlabel('Sample index')\n",
    "# plt.ylabel('Distance')\n",
    "#\n",
    "# plt.show()"
   ],
   "metadata": {
    "collapsed": false,
    "ExecuteTime": {
     "start_time": "2023-07-12T22:43:06.339817Z",
     "end_time": "2023-07-12T22:43:06.390781Z"
    }
   }
  },
  {
   "cell_type": "code",
   "execution_count": 59,
   "outputs": [],
   "source": [
    "from dataclasses import dataclass\n",
    "from enbios2.experiment.bw_vector_db.psql_vectorDB import Document\n",
    "from typing import Optional\n",
    "from enbios2.generic.tree.basic_tree import BasicTreeNode\n",
    "\n",
    "\n",
    "@dataclass\n",
    "class WordCluster:\n",
    "    id: int\n",
    "    distance: float\n",
    "    document: Optional[Document] = None\n"
   ],
   "metadata": {
    "collapsed": false,
    "ExecuteTime": {
     "start_time": "2023-07-12T22:55:48.843965Z",
     "end_time": "2023-07-12T22:55:48.854311Z"
    }
   }
  },
  {
   "cell_type": "code",
   "execution_count": 60,
   "outputs": [],
   "source": [
    "idNodeMap: dict[int, BasicTreeNode] = {}\n",
    "\n",
    "for i, doc in enumerate(docs):\n",
    "    idNodeMap[i] = BasicTreeNode[WordCluster](doc.content, data=WordCluster(id=i, distance=0, document=doc))"
   ],
   "metadata": {
    "collapsed": false,
    "ExecuteTime": {
     "start_time": "2023-07-12T22:55:49.176704Z",
     "end_time": "2023-07-12T22:55:49.305987Z"
    }
   }
  },
  {
   "cell_type": "code",
   "execution_count": 61,
   "outputs": [
    {
     "name": "stderr",
     "output_type": "stream",
     "text": [
      "8277it [00:00, 34589.86it/s]\n"
     ]
    }
   ],
   "source": [
    "from tqdm import tqdm\n",
    "\n",
    "for index,row in tqdm(enumerate(Z)):\n",
    "    id1 = int(row[0])\n",
    "    id2 = int(row[1])\n",
    "    distance = row[2]\n",
    "    node1 = idNodeMap[id1]\n",
    "    node2 = idNodeMap[id2]\n",
    "    newNode = BasicTreeNode[WordCluster](f'{node1.data.id} {node2.data.id}',\n",
    "                                         children= [node1, node2],\n",
    "                                         data=WordCluster(id=len(docs) + index, distance=distance))\n",
    "    idNodeMap[newNode.data.id] = newNode"
   ],
   "metadata": {
    "collapsed": false,
    "ExecuteTime": {
     "start_time": "2023-07-12T22:55:49.576064Z",
     "end_time": "2023-07-12T22:55:49.838709Z"
    }
   }
  },
  {
   "cell_type": "code",
   "execution_count": 62,
   "outputs": [],
   "source": [
    "leaves = list(idNodeMap[len(idNodeMap)-1].get_leaves())"
   ],
   "metadata": {
    "collapsed": false,
    "ExecuteTime": {
     "start_time": "2023-07-12T22:55:50.244422Z",
     "end_time": "2023-07-12T22:55:51.219740Z"
    }
   }
  },
  {
   "cell_type": "code",
   "execution_count": 63,
   "outputs": [
    {
     "data": {
      "text/plain": "8278"
     },
     "execution_count": 63,
     "metadata": {},
     "output_type": "execute_result"
    }
   ],
   "source": [
    "len(leaves)"
   ],
   "metadata": {
    "collapsed": false,
    "ExecuteTime": {
     "start_time": "2023-07-12T22:55:51.332466Z",
     "end_time": "2023-07-12T22:55:51.335219Z"
    }
   }
  },
  {
   "cell_type": "code",
   "execution_count": 65,
   "outputs": [
    {
     "data": {
      "text/plain": "'inductor production, ring core choke type'"
     },
     "execution_count": 65,
     "metadata": {},
     "output_type": "execute_result"
    }
   ],
   "source": [
    "leaves[210].data.document.content"
   ],
   "metadata": {
    "collapsed": false,
    "ExecuteTime": {
     "start_time": "2023-07-12T22:56:03.119007Z",
     "end_time": "2023-07-12T22:56:03.161180Z"
    }
   }
  },
  {
   "cell_type": "code",
   "execution_count": 67,
   "outputs": [
    {
     "data": {
      "text/plain": "94"
     },
     "execution_count": 67,
     "metadata": {},
     "output_type": "execute_result"
    }
   ],
   "source": [],
   "metadata": {
    "collapsed": false,
    "ExecuteTime": {
     "start_time": "2023-07-12T22:56:30.575609Z",
     "end_time": "2023-07-12T22:56:30.638286Z"
    }
   }
  },
  {
   "cell_type": "code",
   "execution_count": 70,
   "outputs": [
    {
     "data": {
      "text/plain": "['market for inductor, ring core choke type',\n 'inductor production, ring core choke type',\n 'biogas purification to biomethane by amino washing',\n 'biogas purification to biomethane by membrane technique',\n 'biogas purification to biomethane by pressure swing adsorption',\n 'market for trellis system, wooden poles, soft wood, tar impregnated',\n 'trellis system construction, wooden poles, soft wood, tar impregnated',\n 'market for television',\n 'television production',\n 'market for pumice',\n 'market for non-ionic surfactant',\n 'non-ionic surfactant production, fatty acid derivate',\n 'non-ionic surfactant production, ethylene oxide derivate',\n 'horn meal production',\n 'market for horn meal',\n 'market for rice, non-basmati',\n 'market for rice, basmati',\n 'rice production, non-basmati',\n 'rice production, basmati',\n 'market for latex',\n 'latex production',\n 'dodecanol production, ziegler process',\n 'market for epichlorohydrin',\n 'epichlorohydrin production from allyl chloride',\n 'glycerine production, from epichlorohydrin',\n 'market for optical brighteners, for paper production',\n 'optical brighteners production, for paper production',\n 'market for stucco',\n 'stucco production',\n 'market for mustard',\n 'mustard production',\n 'market for chilli',\n 'chilli production',\n 'bell pepper production, in heated greenhouse',\n 'bell pepper production, open field',\n 'market for bell pepper',\n 'treatment of used smartphone, mechanical treatment',\n 'market for degreasing, metal part in alkaline bath',\n 'degreasing, metal part in alkaline bath',\n 'market for green liquor dregs',\n 'helium purification',\n 'market for pitch',\n 'pitch despergents production, in paper production',\n 'market for pitch despergents, in paper production',\n 'market for cabbage red',\n 'cabbage red production',\n 'cabbage white production',\n 'market for cabbage white',\n 'market for miscanthus, chopped',\n 'miscanthus production',\n 'miscanthus rhizome production, for planting',\n 'market for miscanthus rhizome, for planting',\n 'propanal production',\n 'market for propanal',\n 'market for asbestos, crysotile type',\n 'asbestos production, crysotile type',\n 'market for cryolite',\n 'cryolite production',\n 'cryolite production, from fluosilicic acid',\n 'enamelling',\n 'market for enamelling',\n 'treatment of crust from Parkes process for lead production',\n 'market for crust from Parkes process for lead production',\n 'market for dodecanol',\n 'dodecanol production, from coconut oil',\n 'market for krypton, gaseous',\n 'krypton to generic market for inert gas for discharge lamps',\n 'argon to generic market for inert gas for discharge lamps',\n 'market for inert gas for discharge lamps',\n 'process-specific burdens, import of copper to Switzerland',\n 'market for process-specific burdens, import of copper to Switzerland',\n 'market for mischmetal',\n 'molecular sieve separation of naphtha',\n 'niobium mine operation and beneficiation, from pyrochlore ore',\n 'market for explosive, tovex',\n 'explosive production, tovex',\n 'apricot production',\n 'market for apricot',\n 'oriented strand board production',\n 'market for oriented strand board',\n 'market for cucumber',\n 'market for 2,5-dimethylhexane-2,5-dihydroperoxide',\n '2,5-dimethylhexane-2,5-dihydroperoxide production',\n 'fosetyl-Al production',\n 'market for fosetyl-Al',\n 'folpet production',\n 'market for folpet',\n 'market for zucchini',\n 'zucchini production',\n 'market for metamitron',\n 'metamitron production',\n 'maleic anhydride production by direct oxidation of n-butane',\n 'maleic anhydride production by catalytic oxidation of benzene',\n 'lauric diethanolamide production',\n 'market for lauric diethanolamide',\n 'cocamide diethanolamine production',\n 'market for diethanolamine',\n 'market for cocamide diethanolamine',\n 'market for canal',\n 'canal construction',\n 'cauliflower production',\n 'market for cauliflower',\n 'treatment of tallow to esterquat',\n 'apple production',\n 'market for apple',\n 'engineered wood joist production',\n 'market for joist, engineered wood',\n 'market for soil, contaminated',\n 'suction, sawdust',\n 'suction, shavings, hardwood',\n 'suction, shavings, softwood',\n 'market for pineapple',\n 'pineapple production',\n 'banana production',\n 'market for banana',\n 'market for enzymes',\n 'enzymes production',\n 'market for willow stem cutting, for planting',\n 'willow stem cutting production, for planting',\n 'dioctyl adipate production',\n 'market for dioctyl adipate',\n 'market for cashew',\n 'cashew production',\n 'treatment of used silencer, steel, DN 315, 50 mm',\n 'treatment of used silencer, steel, DN 125',\n 'market for silencer, steel, DN 315, 50 mm',\n 'market for silencer, steel, DN 125',\n 'market for used silencer steel, DN 315',\n 'market for used silencer steel, DN 125',\n 'silencer production, steel, DN 315, 50 mm',\n 'silencer production, steel, DN 125',\n 'avocado production',\n 'market for avocado',\n 'azodicarbonamide production',\n 'market for azodicarbonamide',\n 'hydraulic fluid production, for geological stimulation',\n 'fodder loading, by self-loading trailer',\n 'market for fodder loading, by self-loading trailer',\n 'decabromodiphenyl ether production',\n 'market for decabromodiphenyl ether',\n 'three and five layered board production',\n 'market for three and five layered board',\n 'naphtha, import from RoW',\n 'market for tower silo, plastic',\n 'tower silo production, plastic',\n 'treatment of used domestic refrigerator, uncontrolled dismantling',\n 'treatment of used domestic refrigerator, controlled dismantling',\n 'cocoon production, silkworm rearing',\n 'sawing and planing, azobe, air dried',\n 'market for electric kettle',\n 'electric kettle production',\n 'ultrafiltration module production, hollow fiber',\n 'market for ultrafiltration module',\n 'market for whey',\n 'intral production',\n 'market for intral',\n 'market for spinach',\n 'spinach production',\n 'polar fleece production, energy use only',\n 'market for polar fleece, energy use only',\n 'fleece production, polyethylene',\n 'market for fleece, polyethylene',\n 'market for horticultural fleece',\n 'horticultural fleece production',\n 'market for tallow, unrefined',\n 'market for rhodium',\n 'alpha-picoline production',\n 'market for alpha-picoline',\n 'alpha-naphthol production',\n 'market for alpha-naphthol',\n 'market for sheep fleece in the grease',\n 'resorcinol production, hydrolysis of meta-phenylene diamine',\n 'market for ortho-phenylene diamine',\n 'market for para-phenylene diamine',\n 'para-phenylene diamine production',\n 'ortho-phenylene diamine production',\n 'coconut husk, Recycled Content cut-off',\n 'nutrient supply from compost',\n 'composting facility construction, open',\n 'market for compost',\n 'market for composting facility, open',\n 'calendering, rigid sheets',\n 'market for calendering, rigid sheets',\n 'market for expansion vessel, 80l',\n 'market for expansion vessel, 25l',\n 'expansion vessel production, 80l',\n 'expansion vessel production, 25l',\n 'treatment of Sn-based antifouling paint emissions',\n 'market for antifouling paint emissions',\n 'treatment of Cu-based antifouling paint emissions',\n 'cladding production, crossbar-pole, aluminium',\n 'market for cladding, crossbar-pole, aluminium',\n 'fertilising, by broadcaster',\n 'market for fertilising, by broadcaster',\n 'market for xenon, gaseous',\n 'market for vacuum cleaner',\n 'vacuum cleaner production',\n 'market for esterquat',\n 'DTPA production',\n 'market for aniline',\n 'aniline production',\n 'tuna, capture by purse seiner and landing whole, frozen',\n 'anchovy, capture by steel purse seiner and landing whole, fresh',\n 'anchovy, capture by wooden purse seiner and landing whole, fresh',\n 'pear production',\n 'market for pear',\n 'market for mattress',\n 'debarking, hardwood, meranti',\n 'debarking, hardwood, azobe',\n 'market for jatropha seed',\n 'jatropha seed production',\n 'forging, steel, large open die',\n 'scandium oxide production, from rare earth tailings',\n 'market for vanilla',\n 'vanilla production',\n 'market for light emitting diode',\n 'light emitting diode production',\n 'market for non-Fe-Co-metals, from used Li-ion battery, pyrometallurgical processing',\n 'market for non-Fe-Co-metals, from Li-ion battery, hydrometallurgical processing',\n 'treatment of non-Fe-Co-metals, from used Li-ion battery, hydrometallurgical processing',\n 'treatment of non-Fe-Co-metals, from used Li-ion battery, pyrometallurgical processing',\n 'treatment of used Li-ion battery, pyrometallurgical treatment',\n 'treatment of used Li-ion battery, hydrometallurgical treatment',\n 'treatment of used Ni-metal hydride battery, pyrometallurgical treatment',\n 'market for used Ni-metal hydride battery',\n 'market for application of plant protection product, by field sprayer',\n 'application of plant protection product, by field sprayer',\n 'sodium arsenide production from Imperial smelting furnace',\n 'pentaerythritol production in sodium hydroxide solution',\n 'market for tris(2,4-ditert-butylphenyl) phosphite',\n 'tris(2,4-ditert-butylphenyl) phosphite production',\n 'polycarboxylates production, 40% active substance',\n 'market for polycarboxylates, 40% active substance',\n 'market for copper telluride cement',\n 'chlor-alkali electrolysis, mercury cell',\n 'chlor-alkali electrolysis, diaphragm cell',\n 'chlor-alkali electrolysis, membrane cell',\n 'molybdenum production',\n 'molybdenum trioxide production',\n 'market for molybdenum trioxide',\n 'market for molybdenite',\n 'market for molybdenum',\n 'air separation, cryogenic',\n 'fermentation filtrate, Recycled Content cut-off',\n 'cork forestry',\n 'market for cork, raw',\n 'market for cork slab',\n 'cork slab production',\n 'market for purified terephthalic acid',\n 'purified terephthalic acid production',\n 'bipyridylium-compound production',\n 'market for bipyridylium-compound',\n 'decarboxylative cyclization of adipic acid',\n 'market for power sawing, with catalytic converter',\n 'market for power saw, with catalytic converter',\n 'market for power saw, without catalytic converter',\n 'market for power sawing, without catalytic converter',\n 'power sawing, without catalytic converter',\n 'power sawing, with catalytic converter',\n 'power saw production, without catalytic converter',\n 'power saw production, with catalytic converter',\n 'radish production, in heated greenhouse',\n 'tetrahydrofuran production',\n 'market for tetrahydrofuran',\n 'zinc mine operation',\n 'blasting',\n 'market for blasting',\n 'market for waste mixed aggregates, from demolition',\n 'fraction 1 from naphtha separation to generic market for chemical, organic',\n 'fraction 8 from naphtha separation to generic market for chemical, organic',\n 'fraction 7 from naphtha separation to generic market for chemical, organic',\n 'market for fraction 1 from naphtha separation',\n 'market for fraction 8 from naphtha separation',\n 'market for fraction 7 from naphtha separation',\n 'oxidation of butane',\n 'treatment of slaughterhouse waste, rendering',\n 'market for slaughterhouse waste',\n 'market for sunn hemp plant, harvested',\n 'sunn hemp production',\n 'peach production',\n 'market for peach',\n 'market for mandarin',\n 'market for mandarin, processing grade',\n 'market for mandarin, fresh grade',\n 'mandarin production, sorted and graded',\n 'mandarin production',\n 'market for ethephon',\n 'ethephon production',\n 'market for gallium, in Bayer liquor from aluminium production',\n 'gallium, in Bayer liquor from aluminium production',\n 'gallium production, semiconductor-grade',\n 'market for gallium, semiconductor-grade',\n 'dehydrogenation of butan-1,4-diol',\n 'airport construction',\n 'market for airport',\n 'market for rosin size, for paper production',\n 'rosin size production, for paper production',\n 'market for orange, fresh grade',\n 'market for orange, processing grade',\n 'orange production, processing grade',\n 'orange production, fresh grade',\n 'rare earth tailings, from bastnaesite and monazite ore, Recycled Content cut-off',\n 'market for rare earth tailings, from bastnaesite and monazite ore',\n 'rare earth element mine operation and beneficiation, ion adsorption clays',\n 'rare earth element mine operation and beneficiation, bastnaesite and monazite ore',\n 'rare earth element mine operation and beneficiation, bastnaesite ore',\n 'mecoprop production',\n 'market for mecoprop',\n 'cookstove production, gas or electric',\n 'market for cookstove',\n 'market for cyclic N-compound',\n 'cyclic N-compound production',\n 'benzene chlorination',\n 'polydimethylsiloxane production',\n 'market for polydimethylsiloxane',\n 'market for paclobutrazol',\n 'paclobutrazol production',\n 'market for electric connector, wire clamp',\n 'electric connector production, wire clamp',\n 'market for mowing, by rotary mower',\n 'market for mowing, by motor mower',\n 'mowing, by motor mower',\n 'mowing, by rotary mower',\n 'fish residues, Recycled Content cut-off',\n 'treatment of used sealing tape, aluminium/PE, 50 mm wide',\n 'sealing tape production, aluminium/PE, 50 mm wide',\n 'market for used sealing tape aluminium/PE, 50 mm wide',\n 'market for sealing tape, aluminium/PE, 50 mm wide',\n 'polysulfone production, for membrane filtration production',\n 'treatment of scrap printed wiring boards, shredding and separation',\n 'market for basalt',\n 'ilmenite - magnetite mine operation',\n 'magnetite production',\n 'market for magnetite',\n 'inductor production, miniature radio frequency chip',\n 'market for inductor, miniature radio frequency chip',\n 'inductor production, low value multilayer chip',\n 'market for inductor, low value multilayer chip',\n 'cucumber production, in heated greenhouse',\n 'market for lettuce',\n 'iceberg lettuce production',\n 'market for iceberg lettuce',\n 'lettuce361 production',\n 'lettuce360 production, in heated greenhouse',\n 'vanadium-titanomagnetite mine operation and beneficiation',\n 'potassium mining and benefication',\n 'market for dust collector, electrostatic precipitator, for industrial use',\n 'market for dust collector, electrostatic precipitator, for domestic use',\n 'dust collector production, electrostatic precipitator, for domestic use',\n 'dust collector production, electrostatic precipitator, for industrial use',\n 'market for dust collector, multicyclone',\n 'dust collector production, multicyclone',\n 'market for electrostatic paint',\n 'paint production, for electrostatic painting for aluminium',\n 'chicken production',\n 'bisphenol A production, powder',\n 'market for bisphenol A, powder',\n 'treatment of used cable',\n 'dewatering of ethanol from biomass, from 95% to 99.7% solution state',\n 'deinking emulsion production, in paper production',\n 'market for deinking emulsion, in paper production',\n 'electrode production, positive, LaNi5',\n 'market for electrode, positive, LaNi5',\n 'electrode production, negative, Ni',\n 'electrode production, negative, LiC6',\n 'market for electrode, negative, Ni',\n 'market for electrode, negative, LiC6',\n 'market for average incineration residue',\n 'soy-based resin production',\n 'alkyl sulphate (C12-14) production',\n 'market for alkyl sulphate (C12-14)',\n 'alkylbenzene sulfonate production, linear, petrochemical',\n 'market for alkylbenzene sulfonate, linear, petrochemical',\n 'alkylbenzene production, linear',\n 'market for alkylbenzene, linear',\n 'bamboo forestry, sustainable forest management',\n 'oxalic acid production',\n 'market for oxalic acid',\n 'market for portachrom',\n 'portachrom production',\n 'portafer production',\n 'market for portafer',\n 'port facilities construction',\n 'market for port facilities',\n 'market for establishing orchard',\n 'establishing orchard',\n 'market for battery separator',\n 'battery separator production',\n 'chickpea production',\n 'market for chickpea',\n 'market for deep well closure',\n 'weed control, by brush cutter, pasture',\n 'market for weed control, by brush cutter, pasture',\n 'silicon production, solar grade, modified Siemens process',\n 'market for used tablet',\n 'market for used smartphone',\n 'market for consumer electronics, mobile device, smartphone',\n 'market for consumer electronics, mobile device, tablet',\n 'consumer electronics production, mobile device, tablet',\n 'consumer electronics production, mobile device, smartphone',\n 'market for beryllium hydroxide',\n 'market for beryllium',\n 'beryllium production',\n 'beryllium hydroxide production',\n 'market for used beverage cans',\n 'treatment of used beverage cans, for recycling, unsorted, sorting',\n 'used beverage cans, Recycled Content cut-off',\n 'explosives factory construction',\n 'market for explosives factory',\n 'treatment of waste paper to pulp, wet lap, totally chlorine free bleached',\n 'textile production, nonwoven polyester, needle-punched',\n 'treatment of used double glazing, U<1.1W/m2K, laminated safety glass, collection for final disposal',\n 'treatment of used triple glazing, U<0.5W/m2K, collection for final disposal',\n 'treatment of used double glazing, U<1.1W/m2K, collection for final disposal',\n 'glazing production, double, U<1.1 W/m2K, laminated safety glass',\n 'market for used double glazing, U<1.1W/m2K, laminated safety glass',\n 'market for glazing, double, U<1.1 W/m2K, laminated safety glass',\n 'glazing production, triple, U<0.5 W/m2K',\n 'glazing production, double, U<1.1 W/m2K',\n 'market for glazing, triple, U<0.5 W/m2K',\n 'market for glazing, double, U<1.1 W/m2K',\n 'market for used triple glazing, U<0.5W/m2K',\n 'market for used double glazing, U<1.1W/m2K',\n 'cable yarder with sled winch production',\n 'market for cable yarder with sled winch',\n 'ioxynil production',\n 'market for ioxynil',\n 'organophosphorus-compound production, unspecified',\n 'market for organophosphorus-compound, unspecified',\n 'tilapia production, extensive aquaculture, in pond',\n 'tofu production',\n 'market for tofu',\n 'folding boxboard carton production',\n 'market for folding boxboard carton',\n 'market for hydrazine',\n 'market for hydrazine sulfate',\n 'hydrazine production',\n 'hydrazine sulfate production',\n 'market for maleic hydrazide',\n 'maleic hydrazide production',\n 'market for broccoli',\n 'broccoli production',\n 'bromine production',\n 'market for bromine',\n 'bromopropane production',\n 'market for bromopropane',\n 'bromoxynil production',\n 'market for bromoxynil',\n 'treatment of bagasse, from sugarcane, in heat and power co-generation unit, 6400kW thermal',\n 'treatment of bagasse, from sweet sorghum, in heat and power co-generation unit, 6400kW thermal',\n 'sodium borate mine operation and beneficiation',\n 'market for o-chlorobenzaldehyde',\n 'o-chlorobenzaldehyde production',\n 'fodder yeast to generic market for protein feed',\n 'market for fodder yeast',\n 'glucose production',\n 'air separation facility construction',\n 'market for air separation facility',\n 'market for dung slab',\n 'dung slab construction',\n 'ferrite production',\n 'market for ferrite',\n 'market for quicklime, in pieces, loose',\n 'market for quicklime, milled, loose',\n 'market for quicklime, milled, packed',\n 'quicklime production, milled, packed',\n 'quicklime production, in pieces, loose',\n 'quicklime production, milled, loose',\n 'solid bleached and unbleached board carton production',\n 'market for solid bleached and unbleached board carton',\n 'market for white lined chipboard carton',\n 'white lined chipboard carton production',\n \"market for storage, 10'000 l\",\n \"storage production, 10'000 l\",\n 'cooling energy, from natural gas, at cogen unit with absorption chiller 100kW',\n 'absorption chiller production, 100kW',\n 'market for absorption chiller, 100kW',\n 'market for anthraquinone',\n 'market for anthranilic acid',\n 'anthraquinone production',\n 'anthranilic acid production',\n 'indium production',\n 'market for indium',\n 'selenium production',\n 'market for selenium',\n 'treatment of redmud from bauxite digestion, residual material landfill',\n 'market for redmud from bauxite digestion',\n 'core board production',\n 'market for core board',\n 'market for diode, glass-, for through-hole mounting',\n 'diode production, glass-, for through-hole mounting',\n 'diode production, glass-, for surface-mounting',\n 'market for diode, glass-, for surface-mounting',\n 'trimesoyl chloride production, for membrane filtration production',\n 'treatment of automobile catalyst',\n 'ethanol production from whey',\n 'market for electric connector, peripheral component interconnect buss',\n 'market for electric connector, peripheral type buss',\n 'electric connector production, peripheral component interconnect buss',\n 'electric connector production, peripheral type buss',\n 'market for tantalum concentrate, 30% Ta2O5',\n 'market for tantalum powder, capacitor-grade',\n 'tantalum powder production, capacitor-grade',\n 'market for used printed wiring boards',\n 'printed wiring board mounting facility construction, through-hole mounting line',\n 'market for printed wiring board mounting facility, through-hole mounting line',\n 'printed wiring board mounting facility construction',\n 'printed wiring board production, mounted mainboard, laptop computer, Pb containing',\n 'printed wiring board production, mounted mainboard, desktop computer, Pb containing',\n 'printed wiring board production, mounted mainboard, desktop computer, Pb free',\n 'printed wiring board production, mounted mainboard, laptop computer, Pb free',\n 'printed wiring board production, for power supply unit, desktop computer, Pb free',\n 'printed wiring board production, for power supply unit, desktop computer, Pb containing',\n 'printed wiring board production, mounted mainboard, mobile device, double-sided, Pb free',\n 'market for printed wiring board, mounted mainboard, mobile device, double-sided, Pb free',\n 'market for printed wiring board, for power supply unit, desktop computer, Pb free',\n 'market for printed wiring board, for power supply unit, desktop computer, Pb containing',\n 'market for printed wiring board, mounted mainboard, laptop computer, Pb free',\n 'market for printed wiring board, mounted mainboard, desktop computer, Pb free',\n 'market for printed wiring board, mounted mainboard, laptop computer, Pb containing',\n 'market for printed wiring board, mounted mainboard, desktop computer, Pb containing',\n 'printed wiring board mounting facility construction, surface mounting line',\n 'printed wiring board production, surface mounted, unspecified, Pb free',\n 'printed wiring board production, surface mounted, unspecified, Pb containing',\n 'printed wiring board production, through-hole mounted, unspecified, Pb containing',\n 'printed wiring board production, through-hole mounted, unspecified, Pb free',\n 'market for printed wiring board, through-hole mounted, unspecified, Pb free',\n 'market for printed wiring board, through-hole mounted, unspecified, Pb containing',\n 'printed wiring board production, for surface mounting, Pb free surface',\n 'printed wiring board production, for surface mounting, Pb containing surface',\n 'printed wiring board production, for through-hole mounting, Pb containing surface',\n 'printed wiring board production, for through-hole mounting, Pb free surface',\n 'market for printed wiring board, surface mounted, unspecified, Pb containing',\n 'market for printed wiring board, surface mounted, unspecified, Pb free',\n 'market for printed wiring board, for surface mounting, Pb containing surface',\n 'market for printed wiring board, for surface mounting, Pb free surface',\n 'market for printed wiring board, for through-hole mounting, Pb containing surface',\n 'market for printed wiring board, for through-hole mounting, Pb free surface',\n 'market for printed wiring board mounting facility',\n 'market for printed wiring board mounting facility, surface mounting line',\n 'market for mounting, through-hole technology, Pb-containing solder',\n 'market for mounting, through-hole technology, Pb-free solder',\n 'mounting, through-hole technology, Pb-containing solder',\n 'mounting, through-hole technology, Pb-free solder',\n 'market for mounting, surface mount technology, Pb-containing solder',\n 'market for mounting, surface mount technology, Pb-free solder',\n 'mounting, surface mount technology, Pb-containing solder',\n 'mounting, surface mount technology, Pb-free solder',\n 'capacitor production, for surface-mounting',\n 'market for capacitor, for surface-mounting',\n 'market for capacitor, film type, for through-hole mounting',\n 'capacitor production, film type, for through-hole mounting',\n 'market for capacitor, tantalum-, for through-hole mounting',\n 'capacitor production, tantalum-, for through-hole mounting',\n 'resistor production, wirewound, through-hole mounting',\n 'market for resistor, wirewound, through-hole mounting',\n 'market for resistor, metal film type, through-hole mounting',\n 'resistor production, metal film type, through-hole mounting',\n 'market for resistor, surface-mounted',\n 'resistor production, surface-mounted',\n 'market for transistor, wired, big size, through-hole mounting',\n 'market for transistor, wired, small size, through-hole mounting',\n 'transistor production, wired, small size, through-hole mounting',\n 'transistor production, wired, big size, through-hole mounting',\n 'market for transistor, surface-mounted',\n 'transistor production, surface-mounted',\n 'market for capacitor, electrolyte type, > 2cm height',\n 'market for capacitor, electrolyte type, < 2cm height',\n 'capacitor production, electrolyte type, < 2cm height',\n 'capacitor production, electrolyte type, > 2cm height',\n 'inductor production, auxilliaries and energy use',\n 'market for inductor, auxilliaries and energy use',\n 'market for used capacitor',\n 'capacitor production, auxilliaries and energy use',\n 'market for capacitor, auxilliaries and energy use',\n 'resistor production, auxilliaries and energy use',\n 'market for resistor, auxilliaries and energy use',\n 'diode production, auxilliaries and energy use',\n 'market for diode, auxilliaries and energy use',\n 'market for transistor, auxilliaries and energy use',\n 'transistor production, auxilliaries and energy use',\n 'market for soft solder, Sn97Cu3',\n 'soft solder production, Sn97Cu3',\n 'solder production, paste, Sn63Pb37, for electronics industry',\n 'market for solder, paste, Sn63Pb37, for electronics industry',\n 'market for solder, paste, Sn95.5Ag3.9Cu0.6, for electronics industry',\n 'solder production, paste, Sn95.5Ag3.9Cu0.6, for electronics industry',\n 'solder production, bar, Sn63Pb37, for electronics industry',\n 'solder production, bar, Sn95.5Ag3.9Cu0.6, for electronics industry',\n 'market for solder, bar, Sn95.5Ag3.9Cu0.6, for electronics industry',\n 'market for solder, bar, Sn63Pb37, for electronics industry',\n 'solder factory construction',\n 'market for solder factory',\n 'autoclaved aerated concrete block production',\n 'market for autoclaved aerated concrete block',\n 'electricity production, wood, future',\n 'fluazifop-butyl production',\n 'market for fluazifop-butyl',\n 'treatment of H3PO4 purification residue, residual material landfill',\n 'market for H3PO4 purification residue',\n 'EDTA production',\n 'market for copper cake',\n 'treatment of copper cake',\n 'market for carbon black',\n 'carbon black production',\n 'market for air compressor, screw-type compressor, 4kW',\n 'market for air compressor, screw-type compressor, 300kW',\n 'air compressor production, screw-type compressor, 4kW',\n 'air compressor production, screw-type compressor, 300kW',\n 'market for waste x-ray film',\n 'treatment of waste x-ray film',\n 'treatment of salt tailing from potash mine, residual material landfill',\n 'fluorescent whitening agent production, DAS1, triazinylaminostilben type',\n 'market for fluorescent whitening agent, DAS1, triazinylaminostilben type',\n 'fluorescent whitening agent production, distyrylbiphenyl type',\n 'market for fluorescent whitening agent, distyrylbiphenyl type',\n 'treatment of used purse seiner, wood',\n 'purse seiner construction, wood',\n 'purse seiner maintenance, wood',\n 'market for purse seiner maintenance, wood',\n 'market for used purse seiner, wood',\n 'market for purse seiner, wood',\n 'treatment of used purse seiner, steel',\n 'purse seiner construction, steel',\n 'purse seiner maintenance, steel',\n 'market for purse seiner maintenance, steel',\n 'market for purse seiner, steel',\n 'market for used purse seiner, steel',\n 'treatment of used long liner, steel',\n 'market for long liner maintenance, steel',\n 'market for used long liner, steel',\n 'market for long liner, steel',\n 'long liner maintenance, steel',\n 'long liner construction, steel',\n 'helium, crude stockpiling',\n 'market for helium',\n 'market for helium, crude stockpiling',\n 'market for helium, crude',\n 'nutrient supply from fermentation filtrate',\n 'market for fermentation filtrate',\n 'market for piperidine',\n 'piperidine production',\n 'deep drawing, steel, 650 kN press, automode',\n 'deep drawing, steel, 3500 kN press, automode',\n 'deep drawing, steel, 38000 kN press, automode',\n 'deep drawing, steel, 10000 kN press, automode',\n 'deep drawing, steel, 650 kN press, single stroke',\n 'deep drawing, steel, 3500 kN press, single stroke',\n 'deep drawing, steel, 38000 kN press, single stroke',\n 'deep drawing, steel, 10000 kN press, single stroke',\n 'market for deep drawing, steel, 650 kN press, single stroke',\n 'market for deep drawing, steel, 10000 kN press, single stroke',\n 'market for deep drawing, steel, 38000 kN press, single stroke',\n 'market for deep drawing, steel, 3500 kN press, single stroke',\n 'market for deep drawing, steel, 650 kN press, automode',\n 'market for deep drawing, steel, 10000 kN press, automode',\n 'market for deep drawing, steel, 3500 kN press, automode',\n 'market for deep drawing, steel, 38000 kN press, automode',\n 'dairy construction',\n 'milking',\n 'market for cheese, from cow milk, fresh, unripened',\n 'cheese production, soft, from cow milk',\n 'milk production, from cow',\n 'yogurt production, from cow milk',\n 'market for yogurt, from cow milk',\n 'butter production, from cow milk',\n 'butter production, from cream, from cow milk',\n 'buttermilk, from cow milk to generic market for protein feed',\n 'market for butter, from cow milk',\n 'market for buttermilk, from cow milk',\n 'market for cream, from cow milk',\n 'skimmed milk, from cow milk to generic market for protein feed',\n 'market for skimmed milk, from cow milk',\n 'market for dairy',\n 'market for cow milk',\n 'market for milking',\n 'milking parlour construction',\n 'market for milking parlour',\n 'market for spray-drying of milk',\n 'milk spray-drying',\n 'milk evaporation',\n 'market for evaporation of milk',\n 'glyphosate production',\n 'market for glyphosate',\n 'market for geothermal power plant, 5.5MWel',\n 'market for geothermal power plant, undefined type',\n 'geothermal power plant construction, undefined type',\n 'market for geothermal power plant, Hot-Dry-Rock',\n 'geothermal power plant construction',\n 'geothermal power plant construction, Hot-Dry-Rock',\n 'electricity production, deep geothermal',\n 'stimulation of deep well, for geothermal power',\n 'deep well closure, for geothermal power, onshore, 6000m',\n 'market for deep well, for geothermal power, onshore, 6000m',\n 'market for deep well, drilled, for geothermal power',\n 'deep well drilling, for deep geothermal power',\n 'deep well drilling, for geothermal power, onshore, 6000m',\n 'market for welding, gas, steel',\n 'market for welding, arc, aluminium',\n 'market for welding, arc, steel',\n 'welding, gas, steel',\n 'welding, arc, aluminium',\n 'welding, arc, steel',\n 'solar glass production, low-iron',\n 'market for solar glass, low-iron',\n 'market for hydroquinone',\n 'hydroquinone production',\n 'market for aluminium collector foil, for Li-ion battery',\n 'aluminium collector foil production, for Li-ion battery',\n 'market for copper collector foil, for Li-ion battery',\n 'copper collector foil production, for Li-ion battery',\n '2,4-dinitrotoluene production',\n 'market for 2,4-dinitrotoluene',\n 'market for dinitroaniline-compound',\n 'dinitroaniline-compound production',\n 'market for dinitrogen tetroxide',\n 'dinitrogen tetroxide production',\n 'market for stibnite concentrate',\n 'market for used IT accessory',\n 'market for laterite, mineral',\n 'treatment of pollutant from rail ballast, residual material landfill',\n 'market for pollutant from rail ballast',\n 'treatment of decommissioned airport infrastructure, contaminated gravel',\n 'market for decommissioned airport infrastructure, contaminated gravel',\n 'ammonia production, partial oxidation, liquid',\n 'ammonia production, steam reforming, liquid',\n 'hydrogen production, steam reforming',\n 'antimony production',\n 'market for antimony',\n 'market for antimony slag, desulfurised',\n 'market for antimony slag, water-quenched',\n 'almond production',\n 'market for almond',\n 'regenerative thermal oxidation of nitrous oxide',\n 'market for N2O retained, by regenerative thermal oxidation',\n 'greenhouse construction, plastic walls and roof, plastic tubes',\n 'greenhouse construction, plastic walls and roof, metal tubes',\n 'greenhouse construction, glass walls and roof, metal tubes',\n 'greenhouse construction, glass walls and roof, plastic tubes',\n 'market for greenhouse, glass walls and roof',\n 'market for greenhouse, plastic walls and roof',\n 'market for butyrolactone',\n 'market for cleft timber, measured as dry mass',\n 'market for bilge oil',\n 'light fuel oil production, from waste polyethylene',\n 'sand to generic market for inert filler',\n 'market for inert filler',\n 'amidosulfuron production',\n 'market for amidosulfuron',\n 'treatment of sludge from FeCl3 production, underground deposit',\n 'market for sludge from FeCl3 production',\n 'gypsum quarry operation',\n 'treatment of waste refinery gas, burned in flare',\n 'treatment of waste natural gas, sweet, burned in production flare',\n 'treatment of waste natural gas, sour, burned in production flare',\n 'aclonifen production',\n 'market for aclonifen',\n 'acrolein production',\n 'market for acrolein',\n 'onion production',\n 'market for onion',\n 'onion seedling production, for planting',\n 'market for onion seedling, for planting',\n 'market for strontium sulfate, 90% SrSO4',\n 'strontium carbonate production',\n 'market for strontium carbonate',\n 'brazing solder production, cadmium free',\n 'market for brazing solder, cadmium free',\n 'cadmium production, primary',\n 'market for cadmium telluride, semiconductor-grade',\n 'cadmium telluride production, semiconductor-grade',\n 'market for tellurium, semiconductor-grade',\n 'tellurium production, semiconductor-grade',\n 'cadmium chloride production, semiconductor-grade',\n 'cadmium production, semiconductor-grade',\n 'cadmium sulfide production, semiconductor-grade',\n 'market for cadmium',\n 'market for cadmium sulfide, semiconductor-grade',\n 'market for cadmium, semiconductor-grade',\n 'market for cadmium chloride, semiconductor-grade',\n 'nutrient supply from NPK (26-15-15) fertiliser',\n 'nutrient supply from NPK (15-15-15) fertiliser',\n 'market for NPK (15-15-15) fertiliser',\n 'market for NPK (26-15-15) fertiliser',\n 'NPK (26-15-15) fertiliser production',\n 'NPK (15-15-15) fertiliser production',\n 'market for titanium zinc plate, without pre-weathering',\n 'titanium zinc plate production, without pre-weathering',\n 'market for particleboard, uncoated',\n 'tubular particleboard production',\n 'market for tubular particleboard',\n 'market for petrol, 15% ETBE additive by volume, with ethanol from biomass',\n 'market for petrol, 4% ETBE additive by volume, with ethanol from biomass',\n 'petrol production, 15% ETBE additive by volume, with ethanol from biomass',\n 'petrol production, 4% ETBE additive by volume, with ethanol from biomass',\n 'market for petrol, 5% ethanol by volume from biomass',\n 'petrol production, 85% ethanol by volume from biomass',\n 'petrol production, 5% ethanol by volume from biomass',\n 'lime production, algae',\n 'market for power adapter, for smartphone',\n 'power adapter production, for smartphone',\n 'market for power adapter, for laptop',\n 'power adapter production, for laptop',\n 'polyethylene pipe production, DN 200, SDR 41',\n 'market for polyethylene pipe, DN 200, SDR 41',\n 'polyethylene pipe production, corrugated, DN 75',\n 'market for polyethylene pipe, corrugated, DN 75',\n 'trout, production in semi-intensive system, in lake',\n 'triazine-compound production, unspecified',\n 'market for triazine-compound, unspecified',\n 'ultraviolet lamp production, for water desinfection',\n 'market for ultraviolet lamp',\n 'treatment of used fluorescent lamp',\n 'compact fluorescent lamp production',\n 'market for compact fluorescent lamp',\n 'market for used fluorescent lamp',\n 'borax production, anhydrous, powder',\n 'market for borax, anhydrous, powder',\n 'boric acid production, anhydrous, powder',\n 'market for boric acid, anhydrous, powder',\n 'boric oxide production',\n 'market for boric oxide',\n 'market for anti-reflex-coating, etching, solar glass',\n 'anti-reflex-coating, etching, solar glass',\n 'market for floor heating from borehole heat pump',\n 'market for floor heating from air-water heat pump',\n 'sawmill construction',\n 'market for sawmill',\n '[thio]carbamate-compound production',\n 'market for [thio]carbamate-compound',\n 'market for retention aid, for paper production',\n 'retention aid production, for paper production',\n 'market for asparagus seedling, for planting',\n 'asparagus seedling production, for planting',\n 'market for green asparagus',\n 'market for white asparagus',\n 'white asparagus production',\n 'green asparagus production',\n 'market for refractory, basic, packed',\n 'refractory production, basic, packed',\n 'refractory production, fireclay, packed',\n 'market for refractory, fireclay, packed',\n 'market for wood chips and particles, willow',\n 'market for 2-cyclopentone',\n 'flyash brick production',\n 'market for flyash brick',\n 'laminating service, foil, with acrylic binder',\n 'market for laminating service, foil, with acrylic binder',\n 'market for acrylic varnish, with water, in 53% solution state',\n 'acrylic varnish production, with water, in 53% solution state',\n 'market for acrylic dispersion, with water, in 58% solution',\n 'acrylic dispersion production, with water, in 58% solution',\n 'market for acrylic binder, with water, in 54% solution state',\n 'acrylic binder production, with water, in 54% solution state',\n 'market for dishwasher',\n 'dishwasher production',\n 'market for compressed air, 700 kPa gauge',\n 'market for compressed air, 600 kPa gauge',\n 'market for compressed air, 1000 kPa gauge',\n 'market for compressed air, 1200 kPa gauge',\n 'market for compressed air, 800 kPa gauge',\n 'compressed air production, 700 kPa gauge, >30kW, average generation',\n 'compressed air production, 1000 kPa gauge, <30kW, average generation',\n 'compressed air production, 1200 kPa gauge, <30kW, average generation',\n 'compressed air production, 600 kPa gauge, >30kW, average generation',\n 'compressed air production, 800 kPa gauge, >30kW, average generation',\n 'compressed air production, 800 kPa gauge, <30kW, average generation',\n 'compressed air production, 700 kPa gauge, >30kW, best generation',\n 'compressed air production, 600 kPa gauge, >30kW, best generation',\n 'compressed air production, 800 kPa gauge, >30kW, best generation',\n 'compressed air production, 700 kPa gauge, >30kW, optimized generation',\n 'compressed air production, 1000 kPa gauge, <30kW, optimised generation',\n 'compressed air production, 1200 kPa gauge, <30kW, optimized generation',\n 'compressed air production, 600 kPa gauge, >30kW, optimized generation',\n 'compressed air production, 800 kPa gauge, <30kW, optimized generation',\n 'compressed air production, 800 kPa gauge, >30kW, optimized generation',\n 'boron carbide production',\n 'market for boron carbide',\n 'calcium carbide production, technical grade',\n 'market for calcium carbide, technical grade',\n 'silicon carbide production',\n 'market for silicon carbide',\n 'market for ferrosilicon',\n 'ferrosilicon production',\n 'market for feldspar',\n 'feldspar production',\n 'market for ferrochromium, high-carbon, 55% Cr',\n 'market for ferrochromium, high-carbon, 68% Cr',\n 'ferrochromium production, high-carbon, 55% Cr',\n 'ferrochromium production, high-carbon, 68% Cr',\n 'ferroniobium production, from pyrochlore concentrate, 66% Nb',\n 'market for ferroniobium, 66% Nb',\n 'ferronickel production',\n 'market for ferronickel',\n 'mine construction, potash salt',\n 'treatment of used air distribution terminal panel, steel, 120 m3/h',\n 'air distribution terminal panel production, steel, 120 m3/h',\n 'market for air distribution terminal panel, steel, 120 m3/h',\n 'market for used air distribution terminal panel steel, 120 m3/h',\n 'rock crushing',\n 'market for rock crushing',\n 'market for sludge, NaCl electrolysis',\n 'market for sludge, NaCl electrolysis Hg',\n 'planting with starter fertiliser, by no till planter',\n 'market for planting with starter fertiliser, by no till planter',\n 'market for DTPA, diethylenetriaminepentaacetic acid',\n 'market for solar collector glass tube, with silver mirror',\n 'solar collector glass tube production, with silver mirror',\n 'fish oil to generic market for energy feed',\n 'market for tungsten concentrate',\n 'tungsten carbide powder production',\n 'market for tungsten carbide powder',\n 'market for palladium',\n 'catalytic converter production, three-way, 19.1l',\n 'market for catalytic converter, three-way, 19.1l',\n 'market for NOx retained, by selective catalytic reduction',\n 'treatment of spent catalytic converter NOx reduction, underground deposit',\n 'market for spent catalytic converter NOx reduction',\n 'catalytic converter production, selective catalytic reduction, 200 litre',\n 'market for catalytic converter, selective catalytic reduction, 200 litre',\n 'catalytic converter production, oxidation, 20 litre',\n 'market for catalytic converter, oxidation, 20 litre',\n 'rhodium to generic market for metal catalyst for catalytic converter',\n 'palladium to generic market for metal catalyst for catalytic converter',\n 'market for metal catalyst for catalytic converter',\n 'platinum to generic market for metal catalyst for catalytic converter',\n 'treatment of spent catalytic converter for cars, underground deposit',\n 'market for spent automobile catalyst',\n 'market for spent catalytic converter for cars',\n 'market for adhesive, for metal',\n 'adhesive production, for metal',\n 'desulfurisation of hard coal flue gas',\n 'desulfurisation of lignite flue gas',\n 'market for SOx retained, in hard coal flue gas desulfurisation',\n 'market for SOx retained, in lignite flue gas desulfurisation',\n 'market for hydrogen peroxide, without water, in 50% solution state',\n 'hydrogen peroxide production, product in 50% solution state',\n 'silica fume, densified, Recycled Content cut-off',\n 'hot water tank factory construction',\n 'market for hot water tank factory',\n 'hot water tank production, 600l',\n 'market for hot water tank, 600l',\n 'debarking, softwood, in forest',\n 'softwood forestry, paraná pine, sustainable forest management',\n 'softwood forestry, mixed species, boreal forest',\n 'softwood forestry, mixed species, sustainable forest management',\n 'softwood forestry, pine, sustainable forest management',\n 'softwood forestry, spruce, sustainable forest management',\n 'hardwood forestry, eucalyptus ssp., planted forest management',\n 'hardwood forestry, eucalyptus ssp., sustainable forest management',\n 'hardwood forestry, azobe, sustainable forest management',\n 'hardwood forestry, meranti, sustainable forest management',\n 'hardwood forestry, mixed species, sustainable forest management',\n 'hardwood forestry, oak, sustainable forest management',\n 'hardwood forestry, beech, sustainable forest management',\n 'hardwood forestry, birch, sustainable forest management',\n 'solid manure loading and spreading, by hydraulic loader and spreader',\n 'market for solid manure loading and spreading, by hydraulic loader and spreader',\n 'sawing and planing, paraná pine, kiln dried',\n 'corrugated board box production',\n 'market for corrugated board box',\n 'adipic acid production',\n 'market for adipic acid',\n 'adiponitrile production',\n 'market for adiponitrile',\n 'cocoa bean production, sun-dried',\n 'natural stone plate production, polished',\n 'natural stone plate production, cut',\n 'natural stone plate production, grounded',\n 'market for natural stone plate, grounded',\n 'market for natural stone plate, polished',\n 'market for natural stone plate, cut',\n 'stone meal production',\n 'market for stone meal',\n 'tantalum mine operation and beneficiation',\n 'colemanite mine operation and beneficiation',\n 'strontium mine operation and beneficiation',\n 'stibnite mine operation and beneficiation',\n 'toluene oxidation',\n 'treatment of spent pot liner from Al electrolysis, carbon fraction, residual material landfill',\n 'treatment of refractory spent pot liner from Al electrolysis, residual material landfill',\n 'market for spent pot liner from Al electrolysis, carbon fraction',\n 'market for refractory spent pot liner from Al electrolysis',\n 'market for spent catalyst base from ethyleneoxide production',\n 'market for spent Formox catalyst base from formaldehyde production',\n 'treatment of spent catalyst base from ethyleneoxide production, residual material landfill',\n 'treatment of spent Formox catalyst base from formaldehyde production, residual material landfill',\n 'market for residue from cooling tower',\n 'treatment of used tyre',\n 'market for used tyre',\n 'market for napropamide',\n 'napropamide production',\n 'treatment of used IT accessory, mechanical treatment',\n 'treatment of used desktop computer, manual dismantling',\n 'treatment of used laptop computer, manual dismantling',\n 'treatment of used desktop computer, mechanical treatment',\n 'treatment of used laptop computer, mechanical treatment',\n 'treatment of used industrial electronic device, mechanical treatment',\n 'treatment of used industrial electronic device, manual dismantling',\n 'market for turpentine',\n ...]"
     },
     "execution_count": 70,
     "metadata": {},
     "output_type": "execute_result"
    }
   ],
   "source": [
    "[d.data.document.content for d in leaves[210].level_up(2).get_leaves()]"
   ],
   "metadata": {
    "collapsed": false,
    "ExecuteTime": {
     "start_time": "2023-07-12T22:57:18.091013Z",
     "end_time": "2023-07-12T22:57:18.992890Z"
    }
   }
  },
  {
   "cell_type": "raw",
   "source": [
    "NEXT:\n",
    "\n",
    "Traditional hierarchical clustering, as implemented in methods such as scipy.cluster.hierarchy.linkage, always merges exactly two clusters at a time. This is inherent to the way this type of clustering is defined.\n",
    "\n",
    "However, there are alternatives that might suit your needs better:\n",
    "\n",
    "    DBSCAN (Density-Based Spatial Clustering of Applications with Noise): This is a density-based clustering algorithm, where a cluster is a dense pack of points. It doesn't require specifying the number of clusters beforehand and can discover clusters of arbitrary shape. It works based on two parameters: eps (the maximum distance between two samples for one to be considered as in the neighborhood of the other) and min_samples (the number of samples in a neighborhood for a point to be considered as a core point).\n",
    "\n",
    "    HDBSCAN (Hierarchical Density-Based Spatial Clustering of Applications with Noise): This is an extension of DBSCAN that converts the eps parameter into a range, allowing it to discover clusters of varying densities. It creates a hierarchy of clusters at different scales and stably extracts a flat clustering based on stability over scale.\n",
    "\n",
    "    OPTICS (Ordering Points To Identify the Clustering Structure): It's an algorithm for finding density-based clusters in spatial data. It's similar to DBSCAN, but can find clusters of various densities unlike DBSCAN. It doesn't require a prior knowledge of the number of clusters, but needs two other parameters.\n",
    "\n",
    "These algorithms can group together more than two points at a time based on their spatial/density properties. You can find all of them in the sklearn.cluster module of scikit-learn.\n",
    "\n",
    "Remember that these are fundamentally different approaches to clustering compared to traditional hierarchical clustering. Each method has its own strengths and weaknesses, and the best choice depends on your specific use case and the nature of your data."
   ],
   "metadata": {
    "collapsed": false
   }
  }
 ],
 "metadata": {
  "kernelspec": {
   "display_name": "Python 3",
   "language": "python",
   "name": "python3"
  },
  "language_info": {
   "codemirror_mode": {
    "name": "ipython",
    "version": 2
   },
   "file_extension": ".py",
   "mimetype": "text/x-python",
   "name": "python",
   "nbconvert_exporter": "python",
   "pygments_lexer": "ipython2",
   "version": "2.7.6"
  }
 },
 "nbformat": 4,
 "nbformat_minor": 0
}
