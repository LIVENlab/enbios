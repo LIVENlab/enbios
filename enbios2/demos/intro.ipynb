{
 "cells": [
  {
   "cell_type": "code",
   "execution_count": null,
   "outputs": [],
   "source": [
    "%load_ext autoreload\n",
    "%autoreload 2"
   ],
   "metadata": {
    "collapsed": false
   }
  },
  {
   "cell_type": "code",
   "execution_count": null,
   "outputs": [],
   "source": [
    "import json\n",
    "import pandas as pd\n",
    "from enbios2.base.experiment import Experiment\n",
    "import bw2data\n",
    "\n",
    "from enbios2.bw2.util import report\n",
    "from enbios2.models.experiment_models import ExperimentData"
   ],
   "metadata": {
    "collapsed": false
   }
  },
  {
   "cell_type": "code",
   "execution_count": null,
   "metadata": {},
   "outputs": [],
   "source": [
    "# get an overview of brighway projects and databases\n",
    "report()"
   ]
  },
  {
   "cell_type": "code",
   "execution_count": null,
   "metadata": {},
   "outputs": [],
   "source": [
    "# select the brightway project and database (some ecoinvent database)\n",
    "PROJECT_NAME = \"ecoinvent\"\n",
    "DATABASE = \"cutoff_3.9.1_default\"\n",
    "\n",
    "bw2data.projects.set_current(PROJECT_NAME)\n",
    "db = bw2data.Database(DATABASE)"
   ]
  },
  {
   "cell_type": "markdown",
   "metadata": {},
   "source": [
    "# Simple example experiment\n",
    "In this first simple example we calculate the impact of 4 wind turbine activities in spain, using 2 different methods."
   ]
  },
  {
   "cell_type": "code",
   "execution_count": null,
   "metadata": {},
   "outputs": [],
   "source": [
    "wind_turbines_spain = db.search(\n",
    "    \"electricity production, wind, 1-3MW turbine, onshore\", filter={\"location\": \"ES\"}\n",
    ")\n",
    "wind_turbines_spain"
   ]
  },
  {
   "cell_type": "code",
   "execution_count": null,
   "metadata": {},
   "outputs": [],
   "source": [
    "# for the experiment we need to create a list of activities (or a dict, where the keys represent the aliases)\n",
    "# We need to add the codes, otherwise the brightway search will not be not uniquely identify the activities\n",
    "# adding name is just for convenience\n",
    "experiment_activities = []\n",
    "\n",
    "for activity in wind_turbines_spain[:2]:\n",
    "    experiment_activities.append(\n",
    "        {\"id\": {\"name\": activity[\"name\"], \"code\": activity[\"code\"]}}\n",
    "    )"
   ]
  },
  {
   "cell_type": "code",
   "execution_count": null,
   "metadata": {},
   "outputs": [],
   "source": [
    "# we can modify the output of the activities, by default it is the reference product (1 of the activity unit)\n",
    "experiment_activities[0][\"output\"] = [\"kilowatt_hour\", 3]\n",
    "experiment_activities"
   ]
  },
  {
   "cell_type": "code",
   "execution_count": null,
   "metadata": {},
   "outputs": [],
   "source": [
    "# select 2 random methods and convert them into the form for enbios2\n",
    "methods = [bw2data.methods.random() for _ in range(2)]\n",
    "experiment_methods = [{\"id\": method} for method in methods]\n",
    "\n",
    "experiment_methods"
   ]
  },
  {
   "cell_type": "code",
   "execution_count": null,
   "metadata": {},
   "outputs": [],
   "source": [
    "# let's store the raw data, because we want to modify it later\n",
    "raw_data = {\n",
    "    \"bw_project\": \"ecoinvent\",\n",
    "    \"activities\": experiment_activities,\n",
    "    \"methods\": experiment_methods,\n",
    "}\n",
    "\n",
    "# make a first validation of the experiment data\n",
    "exp_data = ExperimentData(**raw_data)"
   ]
  },
  {
   "cell_type": "code",
   "execution_count": null,
   "metadata": {},
   "outputs": [],
   "source": [
    "# create a experiment object. This will validate the activities, their outputs, the methods and the scenarios.\n",
    "exp: Experiment = Experiment(exp_data)"
   ]
  },
  {
   "cell_type": "code",
   "execution_count": null,
   "metadata": {},
   "outputs": [],
   "source": [
    "print(exp.info())"
   ]
  },
  {
   "cell_type": "markdown",
   "metadata": {},
   "source": [
    "## Running the experiment"
   ]
  },
  {
   "cell_type": "code",
   "execution_count": null,
   "metadata": {},
   "outputs": [],
   "source": [
    "# run all scenarios at once\n",
    "results = exp.run()"
   ]
  },
  {
   "cell_type": "markdown",
   "metadata": {},
   "source": [
    "# Result\n",
    "The result is a dictionary of scenario names, where for each scenario we have a tree (representing the activity hierarchy). Each node (`BasicTreeNode`) in the tree has a `data` object, which is of the type `ScenarioResultNodeData`, which have the fields `output`, `result` and `bw_activity`."
   ]
  },
  {
   "cell_type": "code",
   "execution_count": null,
   "metadata": {},
   "outputs": [],
   "source": [
    "# from enbios2.generic.tree.basic_tree import BasicTreeNode\n",
    "# from enbios2.models.experiment_models import ScenarioResultNodeData\n",
    "\n",
    "results"
   ]
  },
  {
   "cell_type": "code",
   "execution_count": null,
   "metadata": {},
   "outputs": [],
   "source": [
    "print(results[\"default scenario\"].info())\n",
    "print(\"---\")\n",
    "for children in results[\"default scenario\"]:\n",
    "    print(children.info())\n",
    "    print(\"---\")"
   ]
  },
  {
   "cell_type": "code",
   "execution_count": null,
   "metadata": {},
   "outputs": [],
   "source": [
    "# we can dump the results into a csv file\n",
    "exp.results_to_csv(\"test.csv\")\n",
    "pd.read_csv(\"test.csv\").fillna(\"\")"
   ]
  },
  {
   "cell_type": "code",
   "execution_count": null,
   "metadata": {},
   "outputs": [],
   "source": [
    "exp.scenarios[0].result_to_dict()"
   ]
  },
  {
   "cell_type": "markdown",
   "metadata": {},
   "source": [
    "## Add a technology hierarchy (dendrogram) \n",
    "Let's now add a few more activities to the experiment and create a hierarchy of activities."
   ]
  },
  {
   "cell_type": "code",
   "execution_count": null,
   "metadata": {},
   "outputs": [],
   "source": [
    "solar_spain = db.search(\"solar\", filter={\"location\": \"ES\"})[:2]\n",
    "solar_spain"
   ]
  },
  {
   "cell_type": "code",
   "execution_count": null,
   "metadata": {},
   "outputs": [],
   "source": [
    "raw_data[\"activities\"].extend(\n",
    "    [\n",
    "        {\"id\": {\"name\": activity[\"name\"], \"code\": activity[\"code\"]}}\n",
    "        for activity in solar_spain\n",
    "    ]\n",
    ")"
   ]
  },
  {
   "cell_type": "code",
   "execution_count": null,
   "metadata": {},
   "outputs": [],
   "source": [
    "hierarchy = {\n",
    "    \"wind\": [wind_act[\"name\"] for wind_act in wind_turbines_spain],\n",
    "    \"solar\": [solar_act[\"name\"] for solar_act in solar_spain],\n",
    "}\n",
    "\n",
    "raw_data[\"hierarchy\"] = hierarchy\n",
    "hierarchy"
   ]
  },
  {
   "cell_type": "code",
   "execution_count": null,
   "metadata": {},
   "outputs": [],
   "source": [
    "exp = Experiment(raw_data)\n",
    "exp"
   ]
  },
  {
   "cell_type": "markdown",
   "source": [
    "# Run the 2nd experiment"
   ],
   "metadata": {
    "collapsed": false
   }
  },
  {
   "cell_type": "code",
   "execution_count": null,
   "metadata": {},
   "outputs": [],
   "source": [
    "exp.run()"
   ]
  },
  {
   "cell_type": "code",
   "execution_count": null,
   "metadata": {},
   "outputs": [],
   "source": [
    "# print(json.dumps((exp.scenarios[0].result_to_dict()), indent=2))\n",
    "exp.scenarios[0].results_to_csv(\n",
    "    \"test.csv\", level_names=[\"root\", \"technology\", \"activity\"]\n",
    ")\n",
    "pd.read_csv(\"test.csv\").fillna(\"\")"
   ]
  },
  {
   "cell_type": "markdown",
   "source": [
    "## Create several scenarios"
   ],
   "metadata": {
    "collapsed": false
   }
  },
  {
   "cell_type": "code",
   "execution_count": null,
   "outputs": [],
   "source": [
    "from random import randint\n",
    "\n",
    "activitiy_aliases = exp.activities_aliases()\n",
    "\n",
    "\n",
    "def create_random_scenario():\n",
    "    return {\n",
    "        \"activities\": {\n",
    "            act: [\"kilowatt_hour\", randint(1, 10)] for act in activitiy_aliases\n",
    "        }\n",
    "    }\n",
    "\n",
    "\n",
    "raw_data[\"scenarios\"] = [create_random_scenario(), create_random_scenario()]\n",
    "\n",
    "raw_data[\"scenarios\"]"
   ],
   "metadata": {
    "collapsed": false
   }
  },
  {
   "cell_type": "code",
   "execution_count": null,
   "outputs": [],
   "source": [
    "exp = Experiment(raw_data)"
   ],
   "metadata": {
    "collapsed": false
   }
  },
  {
   "cell_type": "markdown",
   "source": [
    "## Run the experiment for the 3rd time\n",
    "This time will likely take some more time since we need to run 2 scenarios. "
   ],
   "metadata": {
    "collapsed": false
   }
  },
  {
   "cell_type": "code",
   "execution_count": null,
   "outputs": [],
   "source": [
    "_ = exp.run()"
   ],
   "metadata": {
    "collapsed": false
   }
  },
  {
   "cell_type": "code",
   "execution_count": null,
   "outputs": [],
   "source": [
    "exp.scenarios[0].results_to_csv(\"s1.csv\", level_names=[\"root\", \"technology\", \"activity\"])\n",
    "pd.read_csv(\"s1.csv\").fillna(\"\")"
   ],
   "metadata": {
    "collapsed": false
   }
  },
  {
   "cell_type": "code",
   "execution_count": null,
   "outputs": [],
   "source": [
    "raw_data[\"scenarios\"]"
   ],
   "metadata": {
    "collapsed": false
   }
  },
  {
   "cell_type": "markdown",
   "source": [
    "## Inspecting the results\n",
    "\n",
    "We can now do some transformations of the results. For that is useful to know how to retrieve is singular result from a scenario result. \n",
    "The result of a scenario is a tree structure, where the nodes `name`s are activity aliases or names defined in the hierarchy. With the function of BasicTreeNode.find_child_by_name we can directly access the result of a node.    \n",
    "\n",
    "Following we transform the results into a dictionary of the following structure:\n",
    "```json\n",
    "{\n",
    "    \"activity_alias\": {\n",
    "        \"method_alias\": \"[list of results for each scenario]\"\n",
    "    }\n",
    "}\n",
    "```"
   ],
   "metadata": {
    "collapsed": false
   }
  },
  {
   "cell_type": "code",
   "execution_count": null,
   "outputs": [],
   "source": [
    "all_results = {}\n",
    "for activity in activitiy_aliases:\n",
    "    all_results[activity] = {method_alias: [] for method_alias in exp.method_aliases}\n",
    "    for scenario in exp.scenarios:\n",
    "        activity_result = scenario.result_tree.find_child_by_name(activity)\n",
    "        for method, score in activity_result.data.results.items():\n",
    "            all_results[activity][method].append(score)\n",
    "\n",
    "all_results"
   ],
   "metadata": {
    "collapsed": false
   }
  },
  {
   "cell_type": "code",
   "execution_count": null,
   "outputs": [],
   "source": [],
   "metadata": {
    "collapsed": false
   }
  }
 ],
 "metadata": {
  "kernelspec": {
   "display_name": "Python 3 (ipykernel)",
   "language": "python",
   "name": "python3"
  },
  "language_info": {
   "codemirror_mode": {
    "name": "ipython",
    "version": 3
   },
   "file_extension": ".py",
   "mimetype": "text/x-python",
   "name": "python",
   "nbconvert_exporter": "python",
   "pygments_lexer": "ipython3",
   "version": "3.11.4"
  }
 },
 "nbformat": 4,
 "nbformat_minor": 1
}
