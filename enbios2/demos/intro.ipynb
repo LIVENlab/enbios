{
 "cells": [
  {
   "cell_type": "code",
   "execution_count": 19,
   "outputs": [],
   "source": [
    "from random import choice\n",
    "from enbios2.base.experiment import Experiment\n",
    "import bw2data\n",
    "\n",
    "from enbios2.bw2.util import report\n",
    "from enbios2.models.experiment_models import ExperimentData"
   ],
   "metadata": {
    "collapsed": false,
    "ExecuteTime": {
     "end_time": "2023-08-02T15:01:19.344283907Z",
     "start_time": "2023-08-02T15:01:18.874561610Z"
    }
   }
  },
  {
   "cell_type": "code",
   "execution_count": 20,
   "outputs": [
    {
     "name": "stdout",
     "output_type": "stream",
     "text": [
      "Project: default\n",
      "['biosphere3']\n",
      "Project: ecoinvent\n",
      "['biosphere3', 'cutoff_3.9.1_default']\n"
     ]
    }
   ],
   "source": [
    "# get an overview of brighway projects and databases\n",
    "report()"
   ],
   "metadata": {
    "collapsed": false,
    "ExecuteTime": {
     "end_time": "2023-08-02T15:01:19.413831520Z",
     "start_time": "2023-08-02T15:01:19.347464388Z"
    }
   }
  },
  {
   "cell_type": "code",
   "execution_count": 21,
   "outputs": [],
   "source": [
    "bw2data.projects.set_current(\"ecoinvent\")\n",
    "database_name = 'cutoff_3.9.1_default'\n",
    "db = bw2data.Database(database_name)"
   ],
   "metadata": {
    "collapsed": false,
    "ExecuteTime": {
     "end_time": "2023-08-02T15:01:19.909627311Z",
     "start_time": "2023-08-02T15:01:19.850659358Z"
    }
   }
  },
  {
   "cell_type": "markdown",
   "source": [
    "# Simple example experiment\n",
    "In this first simple example we calculate the impact of 4 wind turbine activities in spain, using 2 different methods."
   ],
   "metadata": {
    "collapsed": false
   }
  },
  {
   "cell_type": "code",
   "execution_count": 22,
   "outputs": [
    {
     "name": "stdout",
     "output_type": "stream",
     "text": [
      "Excluding 319 filtered results\n"
     ]
    },
    {
     "data": {
      "text/plain": "['electricity production, wind, >3MW turbine, onshore' (kilowatt hour, ES, None),\n 'electricity production, wind, 1-3MW turbine, onshore' (kilowatt hour, ES, None),\n 'electricity production, wind, 1-3MW turbine, offshore' (kilowatt hour, ES, None),\n 'electricity production, wind, <1MW turbine, onshore' (kilowatt hour, ES, None)]"
     },
     "execution_count": 22,
     "metadata": {},
     "output_type": "execute_result"
    }
   ],
   "source": [
    "wind_turbines_spain = db.search(\"electricity production, wind, 1-3MW turbine, onshore\", filter={\"location\": \"ES\"})\n",
    "wind_turbines_spain"
   ],
   "metadata": {
    "collapsed": false,
    "ExecuteTime": {
     "end_time": "2023-08-02T15:02:10.335874221Z",
     "start_time": "2023-08-02T15:02:10.129315081Z"
    }
   }
  },
  {
   "cell_type": "code",
   "execution_count": 23,
   "outputs": [],
   "source": [
    "# for the experiment we need to create a list of activities (or a dict, where the keys represent the aliases)\n",
    "# We need to add the codes, otherwise the brightway search will not be not uniquely identify the activities \n",
    "# adding name is just for convenience\n",
    "experiment_activities = []\n",
    "\n",
    "for activity in wind_turbines_spain:\n",
    "    experiment_activities.append(\n",
    "        {\"id\":\n",
    "            {\n",
    "                \"name\": activity[\"name\"],\n",
    "                \"code\": activity[\"code\"]\n",
    "            }\n",
    "        }\n",
    "    )"
   ],
   "metadata": {
    "collapsed": false,
    "ExecuteTime": {
     "end_time": "2023-08-02T15:03:51.150158255Z",
     "start_time": "2023-08-02T15:03:51.089199669Z"
    }
   }
  },
  {
   "cell_type": "code",
   "execution_count": 24,
   "outputs": [
    {
     "data": {
      "text/plain": "[{'id': {'name': 'electricity production, wind, >3MW turbine, onshore',\n   'code': '0d48975a3766c13e68cedeb6c24f6f74'},\n  'output': ['kilowatt_hour', 3]},\n {'id': {'name': 'electricity production, wind, 1-3MW turbine, onshore',\n   'code': 'ed3da88fc23311ee183e9ffd376de89b'}},\n {'id': {'name': 'electricity production, wind, 1-3MW turbine, offshore',\n   'code': '6ebfe52dc3ef5b4d35bb603b03559023'}},\n {'id': {'name': 'electricity production, wind, <1MW turbine, onshore',\n   'code': '72cc067e1f4093c2e4c6ac9bdc93d844'}}]"
     },
     "execution_count": 24,
     "metadata": {},
     "output_type": "execute_result"
    }
   ],
   "source": [
    "# we can modify the output of the activities, by default it is the reference product (1 of the activity unit)\n",
    "experiment_activities[0][\"output\"] = [\"kilowatt_hour\", 3]\n",
    "experiment_activities"
   ],
   "metadata": {
    "collapsed": false,
    "ExecuteTime": {
     "end_time": "2023-08-02T15:04:22.137666513Z",
     "start_time": "2023-08-02T15:04:22.051541474Z"
    }
   }
  },
  {
   "cell_type": "code",
   "execution_count": 25,
   "outputs": [
    {
     "data": {
      "text/plain": "[{'id': ('EDIP 2003', 'non-renewable resources', 'copper')},\n {'id': ('Cumulative Exergy Demand (CExD)',\n   'energy resources: non-renewable, fossil',\n   'exergy content')}]"
     },
     "execution_count": 25,
     "metadata": {},
     "output_type": "execute_result"
    }
   ],
   "source": [
    "# select 2 random methods and convert them into the form for enbios2\n",
    "all_methods = list(bw2data.methods)\n",
    "methods = [choice(all_methods) for _ in range(2)]\n",
    "experiment_methods = [\n",
    "    {\n",
    "        \"id\": method\n",
    "    }\n",
    "    for method in methods\n",
    "]\n",
    "\n",
    "experiment_methods"
   ],
   "metadata": {
    "collapsed": false,
    "ExecuteTime": {
     "end_time": "2023-08-02T15:04:54.492395009Z",
     "start_time": "2023-08-02T15:04:54.444521156Z"
    }
   }
  },
  {
   "cell_type": "code",
   "execution_count": 26,
   "outputs": [],
   "source": [
    "# make a first validation of the experiment data\n",
    "exp_data = ExperimentData(\n",
    "    bw_project=\"ecoinvent\",\n",
    "    activities=experiment_activities,\n",
    "    methods=experiment_methods\n",
    ")"
   ],
   "metadata": {
    "collapsed": false,
    "ExecuteTime": {
     "end_time": "2023-08-02T15:05:12.904541072Z",
     "start_time": "2023-08-02T15:05:12.854502304Z"
    }
   }
  },
  {
   "cell_type": "code",
   "execution_count": 27,
   "outputs": [],
   "source": [
    "# create a experiment object. This will validate the activities, their outputs, the methods and the scenarios.\n",
    "exp: Experiment = Experiment(exp_data)"
   ],
   "metadata": {
    "collapsed": false,
    "ExecuteTime": {
     "end_time": "2023-08-02T15:06:02.453087038Z",
     "start_time": "2023-08-02T15:06:02.224456808Z"
    }
   }
  },
  {
   "cell_type": "code",
   "execution_count": 28,
   "outputs": [
    {
     "name": "stdout",
     "output_type": "stream",
     "text": [
      "Experiment: \n",
      "Activities: 4\n",
      "  electricity production, wind, >3MW turbine, onshore - electricity production, wind, >3MW turbine, onshore\n",
      "  electricity production, wind, 1-3MW turbine, onshore - electricity production, wind, 1-3MW turbine, onshore\n",
      "  electricity production, wind, 1-3MW turbine, offshore - electricity production, wind, 1-3MW turbine, offshore\n",
      "  electricity production, wind, <1MW turbine, onshore - electricity production, wind, <1MW turbine, onshore\n",
      "Methods: 2\n",
      " ('EDIP 2003', 'non-renewable resources', 'copper')\n",
      " ('Cumulative Exergy Demand (CExD)', 'energy resources: non-renewable, fossil', 'exergy content')\n",
      "Scenarios: 1\n"
     ]
    }
   ],
   "source": [
    "print(exp.info())"
   ],
   "metadata": {
    "collapsed": false,
    "ExecuteTime": {
     "end_time": "2023-08-02T15:06:13.039243413Z",
     "start_time": "2023-08-02T15:06:12.985309317Z"
    }
   }
  },
  {
   "cell_type": "code",
   "execution_count": 29,
   "outputs": [
    {
     "name": "stdout",
     "output_type": "stream",
     "text": [
      "2023-08-02 17:06:24,733 - bw2calc - INFO - Initialized LCA object. Demand: {25415: 1, 15150: 1, 25751: 1, 25926: 1}, data_objs: [<bw_processing.datapackage.Datapackage object at 0x7f433dda4f10>, <bw_processing.datapackage.Datapackage object at 0x7f433e591f90>, <bw_processing.datapackage.Datapackage object at 0x7f433e8e5110>, <bw_processing.datapackage.Datapackage object at 0x7f433e5d6d10>, <bw_processing.datapackage.Datapackage object at 0x7f433e5e7750>, <bw_processing.datapackage.Datapackage object at 0x7f433dda6b50>]\n",
      "2023-08-02 17:06:24,734 - bw2calc - INFO - {'message': 'Started MultiLCA calculation', 'methods': [('EDIP 2003', 'non-renewable resources', 'copper'), ('Cumulative Exergy Demand (CExD)', 'energy resources: non-renewable, fossil', 'exergy content')], 'functional units': [[{'database': 'cutoff_3.9.1_default', 'code': '0d48975a3766c13e68cedeb6c24f6f74', 'amount': 3.0}], [{'database': 'cutoff_3.9.1_default', 'code': 'ed3da88fc23311ee183e9ffd376de89b', 'amount': 1.0}], [{'database': 'cutoff_3.9.1_default', 'code': '6ebfe52dc3ef5b4d35bb603b03559023', 'amount': 1.0}], [{'database': 'cutoff_3.9.1_default', 'code': '72cc067e1f4093c2e4c6ac9bdc93d844', 'amount': 1.0}]]}\n",
      "2023-08-02 17:06:32,649 - bw2calc - INFO - Switched LCIA method. data_objs: [<bw_processing.datapackage.Datapackage object at 0x7f433dbfdad0>]\n",
      "2023-08-02 17:06:32,660 - bw2calc - INFO - Switched LCIA method. data_objs: [<bw_processing.datapackage.Datapackage object at 0x7f433dbff7d0>]\n"
     ]
    }
   ],
   "source": [
    "# run all scenarios at once\n",
    "results = exp.run()"
   ],
   "metadata": {
    "collapsed": false,
    "ExecuteTime": {
     "end_time": "2023-08-02T15:07:03.843171286Z",
     "start_time": "2023-08-02T15:06:23.735936875Z"
    }
   }
  },
  {
   "cell_type": "markdown",
   "source": [
    "# Result\n",
    "The result is a dictionary of scenario names, where for each scenario we have a tree (representing the activity hierarchy). Each node (`BasicTreeNode`) in the tree has a `data` object, which is of the type `ScenarioResultNodeData`, which have the fields `output`, `result` and `bw_activity`."
   ],
   "metadata": {
    "collapsed": false
   }
  },
  {
   "cell_type": "code",
   "execution_count": 30,
   "outputs": [
    {
     "data": {
      "text/plain": "{'default scenario': [root - 4 children ]}"
     },
     "execution_count": 30,
     "metadata": {},
     "output_type": "execute_result"
    }
   ],
   "source": [
    "# from enbios2.generic.tree.basic_tree import BasicTreeNode\n",
    "# from enbios2.models.experiment_models import ScenarioResultNodeData\n",
    "\n",
    "results"
   ],
   "metadata": {
    "collapsed": false,
    "ExecuteTime": {
     "end_time": "2023-08-02T15:07:03.902619980Z",
     "start_time": "2023-08-02T15:07:03.826082505Z"
    }
   }
  },
  {
   "cell_type": "code",
   "execution_count": 31,
   "outputs": [
    {
     "name": "stdout",
     "output_type": "stream",
     "text": [
      "[root - 4 children ]\n",
      "ScenarioResultNodeData(output=('kilowatt_hour', 6.0), results={'EDIP 2003_non-renewable resources_copper': 0.0009922747918774807, 'Cumulative Exergy Demand (CExD)_energy resources: non-renewable, fossil_exergy content': 1.3475895192549352}, bw_activity=None)\n",
      "---\n",
      "[electricity production, wind, >3MW turbine, onshore - 0 children  (root)]\n",
      "ScenarioResultNodeData(output=('kilowatt_hour', 3.0), results={'EDIP 2003_non-renewable resources_copper': 0.0008615528096952267, 'Cumulative Exergy Demand (CExD)_energy resources: non-renewable, fossil_exergy content': 0.8146299248462172}, bw_activity='electricity production, wind, >3MW turbine, onshore' (kilowatt hour, ES, None))\n",
      "---\n",
      "[electricity production, wind, 1-3MW turbine, onshore - 0 children  (root)]\n",
      "ScenarioResultNodeData(output=('kilowatt_hour', 1.0), results={'EDIP 2003_non-renewable resources_copper': 3.698917801892879e-05, 'Cumulative Exergy Demand (CExD)_energy resources: non-renewable, fossil_exergy content': 0.18504738991304837}, bw_activity='electricity production, wind, 1-3MW turbine, onshore' (kilowatt hour, ES, None))\n",
      "---\n",
      "[electricity production, wind, 1-3MW turbine, offshore - 0 children  (root)]\n",
      "ScenarioResultNodeData(output=('kilowatt_hour', 1.0), results={'EDIP 2003_non-renewable resources_copper': 5.12796596418229e-05, 'Cumulative Exergy Demand (CExD)_energy resources: non-renewable, fossil_exergy content': 0.18488021925583886}, bw_activity='electricity production, wind, 1-3MW turbine, offshore' (kilowatt hour, ES, None))\n",
      "---\n",
      "[electricity production, wind, <1MW turbine, onshore - 0 children  (root)]\n",
      "ScenarioResultNodeData(output=('kilowatt_hour', 1.0), results={'EDIP 2003_non-renewable resources_copper': 4.2453144521502325e-05, 'Cumulative Exergy Demand (CExD)_energy resources: non-renewable, fossil_exergy content': 0.16303198523983073}, bw_activity='electricity production, wind, <1MW turbine, onshore' (kilowatt hour, ES, None))\n",
      "---\n"
     ]
    }
   ],
   "source": [
    "print(results[\"default scenario\"].info())\n",
    "print(\"---\")\n",
    "for children in results[\"default scenario\"]:\n",
    "    print(children.info())\n",
    "    print(\"---\")"
   ],
   "metadata": {
    "collapsed": false,
    "ExecuteTime": {
     "end_time": "2023-08-02T15:07:03.959774852Z",
     "start_time": "2023-08-02T15:07:03.870790742Z"
    }
   }
  },
  {
   "cell_type": "code",
   "execution_count": 18,
   "outputs": [],
   "source": [
    "# we can dump the results into a csv file\n",
    "exp.results_to_csv(\"demo_result.csv\")\n",
    "# exp.scenarios[0].results_to_csv(\"test.csv\")"
   ],
   "metadata": {
    "collapsed": false,
    "ExecuteTime": {
     "end_time": "2023-08-02T14:02:50.105562126Z",
     "start_time": "2023-08-02T14:02:50.077022248Z"
    }
   }
  },
  {
   "cell_type": "code",
   "execution_count": null,
   "outputs": [],
   "source": [
    "exp.scenarios[0].result_to_dict()"
   ],
   "metadata": {
    "collapsed": false
   }
  }
 ],
 "metadata": {
  "kernelspec": {
   "display_name": "Python 3",
   "language": "python",
   "name": "python3"
  },
  "language_info": {
   "codemirror_mode": {
    "name": "ipython",
    "version": 2
   },
   "file_extension": ".py",
   "mimetype": "text/x-python",
   "name": "python",
   "nbconvert_exporter": "python",
   "pygments_lexer": "ipython2",
   "version": "2.7.6"
  }
 },
 "nbformat": 4,
 "nbformat_minor": 0
}
