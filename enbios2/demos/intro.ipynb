{
 "cells": [
  {
   "cell_type": "code",
   "execution_count": 1,
   "outputs": [],
   "source": [
    "%reload_ext autoreload\n",
    "%autoreload 2"
   ],
   "metadata": {
    "collapsed": false,
    "ExecuteTime": {
     "end_time": "2023-08-02T12:58:06.074468864Z",
     "start_time": "2023-08-02T12:58:06.052935306Z"
    }
   }
  },
  {
   "cell_type": "code",
   "execution_count": 2,
   "outputs": [],
   "source": [
    "from random import choice\n",
    "from enbios2.base.experiment import Experiment\n",
    "import bw2data\n",
    "\n",
    "from enbios2.bw2.util import report\n",
    "from enbios2.models.experiment_models import ExperimentData"
   ],
   "metadata": {
    "collapsed": false,
    "ExecuteTime": {
     "end_time": "2023-08-02T12:58:10.534229925Z",
     "start_time": "2023-08-02T12:58:06.079448859Z"
    }
   }
  },
  {
   "cell_type": "code",
   "execution_count": 3,
   "outputs": [
    {
     "name": "stdout",
     "output_type": "stream",
     "text": [
      "Project: default\n",
      "['biosphere3']\n",
      "Project: ecoinvent\n",
      "['biosphere3', 'cutoff_3.9.1_default']\n"
     ]
    }
   ],
   "source": [
    "report()"
   ],
   "metadata": {
    "collapsed": false,
    "ExecuteTime": {
     "end_time": "2023-08-02T12:58:10.607879491Z",
     "start_time": "2023-08-02T12:58:10.540712044Z"
    }
   }
  },
  {
   "cell_type": "code",
   "execution_count": 4,
   "outputs": [],
   "source": [
    "bw2data.projects.set_current(\"ecoinvent\")\n",
    "database_name = 'cutoff_3.9.1_default'\n",
    "db = bw2data.Database(database_name)"
   ],
   "metadata": {
    "collapsed": false,
    "ExecuteTime": {
     "end_time": "2023-08-02T12:58:10.662352883Z",
     "start_time": "2023-08-02T12:58:10.605710101Z"
    }
   }
  },
  {
   "cell_type": "code",
   "execution_count": 5,
   "outputs": [
    {
     "name": "stdout",
     "output_type": "stream",
     "text": [
      "Excluding 319 filtered results\n"
     ]
    },
    {
     "data": {
      "text/plain": "['electricity production, wind, >3MW turbine, onshore' (kilowatt hour, ES, None),\n 'electricity production, wind, 1-3MW turbine, onshore' (kilowatt hour, ES, None),\n 'electricity production, wind, 1-3MW turbine, offshore' (kilowatt hour, ES, None),\n 'electricity production, wind, <1MW turbine, onshore' (kilowatt hour, ES, None)]"
     },
     "execution_count": 5,
     "metadata": {},
     "output_type": "execute_result"
    }
   ],
   "source": [
    "wind_turbines_spain = db.search(\"electricity production, wind, 1-3MW turbine, onshore\", filter={\"location\": \"ES\"})\n",
    "wind_turbines_spain"
   ],
   "metadata": {
    "collapsed": false,
    "ExecuteTime": {
     "end_time": "2023-08-02T12:58:10.911502213Z",
     "start_time": "2023-08-02T12:58:10.652489084Z"
    }
   }
  },
  {
   "cell_type": "code",
   "execution_count": 6,
   "outputs": [],
   "source": [
    "experiment_activities = []\n",
    "for activity in wind_turbines_spain:\n",
    "    experiment_activities.append(\n",
    "        {\"id\":\n",
    "            {\n",
    "                \"name\": activity[\"name\"],\n",
    "                \"location\": activity[\"location\"],\n",
    "                \"code\": activity[\"code\"]\n",
    "            }\n",
    "        }\n",
    "    )"
   ],
   "metadata": {
    "collapsed": false,
    "ExecuteTime": {
     "end_time": "2023-08-02T12:58:10.982740822Z",
     "start_time": "2023-08-02T12:58:10.918925849Z"
    }
   }
  },
  {
   "cell_type": "code",
   "execution_count": 7,
   "outputs": [
    {
     "data": {
      "text/plain": "[{'id': {'name': 'electricity production, wind, >3MW turbine, onshore',\n   'location': 'ES',\n   'code': '0d48975a3766c13e68cedeb6c24f6f74'},\n  'output': ['kilowatt_hour', 3]},\n {'id': {'name': 'electricity production, wind, 1-3MW turbine, onshore',\n   'location': 'ES',\n   'code': 'ed3da88fc23311ee183e9ffd376de89b'}},\n {'id': {'name': 'electricity production, wind, 1-3MW turbine, offshore',\n   'location': 'ES',\n   'code': '6ebfe52dc3ef5b4d35bb603b03559023'}},\n {'id': {'name': 'electricity production, wind, <1MW turbine, onshore',\n   'location': 'ES',\n   'code': '72cc067e1f4093c2e4c6ac9bdc93d844'}}]"
     },
     "execution_count": 7,
     "metadata": {},
     "output_type": "execute_result"
    }
   ],
   "source": [
    "experiment_activities[0][\"output\"] = [\"kilowatt_hour\", 3]\n",
    "experiment_activities"
   ],
   "metadata": {
    "collapsed": false,
    "ExecuteTime": {
     "end_time": "2023-08-02T12:58:10.995433317Z",
     "start_time": "2023-08-02T12:58:10.950645584Z"
    }
   }
  },
  {
   "cell_type": "code",
   "execution_count": 8,
   "outputs": [
    {
     "data": {
      "text/plain": "[('Ecological Scarcity 2021', 'natural resources', 'biotic resources'),\n ('EDIP 2003', 'global warming', 'GWP 100a')]"
     },
     "execution_count": 8,
     "metadata": {},
     "output_type": "execute_result"
    }
   ],
   "source": [
    "all_methods = list(bw2data.methods)\n",
    "methods = [choice(all_methods) for _ in range(2)]\n",
    "methods"
   ],
   "metadata": {
    "collapsed": false,
    "ExecuteTime": {
     "end_time": "2023-08-02T12:58:11.065507902Z",
     "start_time": "2023-08-02T12:58:10.985391016Z"
    }
   }
  },
  {
   "cell_type": "code",
   "execution_count": 9,
   "outputs": [],
   "source": [
    "experiment_methods = [\n",
    "    {\n",
    "        \"id\": method\n",
    "    }\n",
    "    for method in methods\n",
    "]"
   ],
   "metadata": {
    "collapsed": false,
    "ExecuteTime": {
     "end_time": "2023-08-02T12:58:11.067137858Z",
     "start_time": "2023-08-02T12:58:11.019857308Z"
    }
   }
  },
  {
   "cell_type": "code",
   "execution_count": 10,
   "outputs": [],
   "source": [
    "exp_data = ExperimentData(\n",
    "    bw_project=\"ecoinvent\",\n",
    "    activities=experiment_activities,\n",
    "    methods=experiment_methods\n",
    ")"
   ],
   "metadata": {
    "collapsed": false,
    "ExecuteTime": {
     "end_time": "2023-08-02T12:58:12.196456239Z",
     "start_time": "2023-08-02T12:58:12.026820325Z"
    }
   }
  },
  {
   "cell_type": "code",
   "execution_count": 11,
   "outputs": [],
   "source": [
    "exp: Experiment = Experiment(exp_data)"
   ],
   "metadata": {
    "collapsed": false,
    "ExecuteTime": {
     "end_time": "2023-08-02T12:58:13.917020322Z",
     "start_time": "2023-08-02T12:58:13.752408141Z"
    }
   }
  },
  {
   "cell_type": "code",
   "execution_count": 16,
   "outputs": [
    {
     "data": {
      "text/plain": "ScenarioResultNodeData(output=('kilowatt_hour', 3.0), results={}, bw_activity='electricity production, wind, >3MW turbine, onshore' (kilowatt hour, ES, None))"
     },
     "execution_count": 16,
     "metadata": {},
     "output_type": "execute_result"
    }
   ],
   "source": [
    "exp.scenarios[0].result_tree[0].data"
   ],
   "metadata": {
    "collapsed": false,
    "ExecuteTime": {
     "end_time": "2023-08-02T12:58:45.845530183Z",
     "start_time": "2023-08-02T12:58:45.807707122Z"
    }
   }
  },
  {
   "cell_type": "code",
   "execution_count": 13,
   "outputs": [
    {
     "name": "stdout",
     "output_type": "stream",
     "text": [
      "Experiment: \n",
      "Activities: 4\n",
      "  electricity production, wind, >3MW turbine, onshore - electricity production, wind, >3MW turbine, onshore\n",
      "  electricity production, wind, 1-3MW turbine, onshore - electricity production, wind, 1-3MW turbine, onshore\n",
      "  electricity production, wind, 1-3MW turbine, offshore - electricity production, wind, 1-3MW turbine, offshore\n",
      "  electricity production, wind, <1MW turbine, onshore - electricity production, wind, <1MW turbine, onshore\n",
      "Methods: 2\n",
      " ('EF v3.0', 'climate change: fossil', 'global warming potential (GWP100)')\n",
      " ('EF v3.1', 'climate change: fossil', 'global warming potential (GWP100)')\n",
      "Scenarios: 1\n"
     ]
    }
   ],
   "source": [
    "print(exp.info())"
   ],
   "metadata": {
    "collapsed": false,
    "ExecuteTime": {
     "end_time": "2023-08-02T12:10:04.577155130Z",
     "start_time": "2023-08-02T12:10:04.541811895Z"
    }
   }
  },
  {
   "cell_type": "code",
   "execution_count": 18,
   "outputs": [
    {
     "name": "stdout",
     "output_type": "stream",
     "text": [
      "[root - 4 children ]\n",
      "ScenarioResultNodeData(output=('kilowatt_hour', 3.0), results={}, bw_activity=None)\n"
     ]
    }
   ],
   "source": [
    "print(exp.scenarios[0].result_tree.info())"
   ],
   "metadata": {
    "collapsed": false,
    "ExecuteTime": {
     "end_time": "2023-08-02T13:12:53.289618016Z",
     "start_time": "2023-08-02T13:12:53.244041384Z"
    }
   }
  },
  {
   "cell_type": "code",
   "execution_count": 19,
   "outputs": [
    {
     "name": "stdout",
     "output_type": "stream",
     "text": [
      "2023-08-02 15:12:57,517 - bw2calc - INFO - Initialized LCA object. Demand: {25415: 1, 15150: 1, 25751: 1, 25926: 1}, data_objs: [<bw_processing.datapackage.Datapackage object at 0x7f81c4e7c890>, <bw_processing.datapackage.Datapackage object at 0x7f81c46c7590>, <bw_processing.datapackage.Datapackage object at 0x7f81c470fc50>, <bw_processing.datapackage.Datapackage object at 0x7f81c46e1b90>, <bw_processing.datapackage.Datapackage object at 0x7f81c46e3990>, <bw_processing.datapackage.Datapackage object at 0x7f81c500ea10>]\n",
      "2023-08-02 15:12:57,517 - bw2calc - INFO - {'message': 'Started MultiLCA calculation', 'methods': [('Ecological Scarcity 2021', 'natural resources', 'biotic resources'), ('EDIP 2003', 'global warming', 'GWP 100a')], 'functional units': [[{'database': 'cutoff_3.9.1_default', 'code': '0d48975a3766c13e68cedeb6c24f6f74', 'amount': 3.0}], [{'database': 'cutoff_3.9.1_default', 'code': 'ed3da88fc23311ee183e9ffd376de89b', 'amount': 1.0}], [{'database': 'cutoff_3.9.1_default', 'code': '6ebfe52dc3ef5b4d35bb603b03559023', 'amount': 1.0}], [{'database': 'cutoff_3.9.1_default', 'code': '72cc067e1f4093c2e4c6ac9bdc93d844', 'amount': 1.0}]]}\n",
      "2023-08-02 15:13:06,685 - bw2calc - INFO - Switched LCIA method. data_objs: [<bw_processing.datapackage.Datapackage object at 0x7f81c4546950>]\n",
      "2023-08-02 15:13:06,696 - bw2calc - INFO - Switched LCIA method. data_objs: [<bw_processing.datapackage.Datapackage object at 0x7f81c4726010>]\n"
     ]
    }
   ],
   "source": [
    "# run all scenarios at once\n",
    "results = exp.run()"
   ],
   "metadata": {
    "collapsed": false,
    "ExecuteTime": {
     "end_time": "2023-08-02T13:13:43.071482779Z",
     "start_time": "2023-08-02T13:12:56.500264696Z"
    }
   }
  },
  {
   "cell_type": "markdown",
   "source": [
    "# Result\n",
    "The result is a dictionary of scenario names, where for each scenario we have a tree (representing the activity hierarchy). Each node (`BasicTreeNode`) in the tree has a data object, which is of the type `ScenarioResultNodeData`, which have the fields `output`, `result` and `bw_activity`."
   ],
   "metadata": {
    "collapsed": false
   }
  },
  {
   "cell_type": "code",
   "execution_count": 20,
   "outputs": [
    {
     "data": {
      "text/plain": "{'default scenario': [root - 4 children ]}"
     },
     "execution_count": 20,
     "metadata": {},
     "output_type": "execute_result"
    }
   ],
   "source": [
    "# from enbios2.generic.tree.basic_tree import BasicTreeNode\n",
    "# from enbios2.models.experiment_models import ScenarioResultNodeData\n",
    "\n",
    "results"
   ],
   "metadata": {
    "collapsed": false,
    "ExecuteTime": {
     "end_time": "2023-08-02T13:13:43.073759162Z",
     "start_time": "2023-08-02T13:13:43.071325265Z"
    }
   }
  },
  {
   "cell_type": "code",
   "execution_count": 21,
   "outputs": [
    {
     "name": "stdout",
     "output_type": "stream",
     "text": [
      "[root - 4 children ]\n",
      "ScenarioResultNodeData(output=('kilowatt_hour', 3.0), results={'Ecological Scarcity 2021_natural resources_biotic resources': 3.250685705874655e-15, 'EDIP 2003_global warming_GWP 100a': 0.11572048496828669}, bw_activity=None)\n",
      "---\n",
      "[electricity production, wind, >3MW turbine, onshore - 0 children  (root)]\n",
      "ScenarioResultNodeData(output=('kilowatt_hour', 3.0), results={'Ecological Scarcity 2021_natural resources_biotic resources': 3.0990748530770947e-15, 'EDIP 2003_global warming_GWP 100a': 0.07132284990943508}, bw_activity='electricity production, wind, >3MW turbine, onshore' (kilowatt hour, ES, None))\n",
      "---\n",
      "[electricity production, wind, 1-3MW turbine, onshore - 0 children  (root)]\n",
      "ScenarioResultNodeData(output=('kilowatt_hour', 1.0), results={'Ecological Scarcity 2021_natural resources_biotic resources': 1.4039679461985164e-16, 'EDIP 2003_global warming_GWP 100a': 0.014479886661438488}, bw_activity='electricity production, wind, 1-3MW turbine, onshore' (kilowatt hour, ES, None))\n",
      "---\n",
      "[electricity production, wind, 1-3MW turbine, offshore - 0 children  (root)]\n",
      "ScenarioResultNodeData(output=('kilowatt_hour', 1.0), results={'Ecological Scarcity 2021_natural resources_biotic resources': 6.210996335490012e-18, 'EDIP 2003_global warming_GWP 100a': 0.016103127389728675}, bw_activity='electricity production, wind, 1-3MW turbine, offshore' (kilowatt hour, ES, None))\n",
      "---\n",
      "[electricity production, wind, <1MW turbine, onshore - 0 children  (root)]\n",
      "ScenarioResultNodeData(output=('kilowatt_hour', 1.0), results={'Ecological Scarcity 2021_natural resources_biotic resources': 5.003061842218561e-18, 'EDIP 2003_global warming_GWP 100a': 0.013814621007684456}, bw_activity='electricity production, wind, <1MW turbine, onshore' (kilowatt hour, ES, None))\n",
      "---\n"
     ]
    }
   ],
   "source": [
    "print(results[\"default scenario\"].info())\n",
    "print(\"---\")\n",
    "for children in results[\"default scenario\"]:\n",
    "    print(children.info())\n",
    "    print(\"---\")"
   ],
   "metadata": {
    "collapsed": false,
    "ExecuteTime": {
     "end_time": "2023-08-02T13:13:43.128082162Z",
     "start_time": "2023-08-02T13:13:43.080191912Z"
    }
   }
  },
  {
   "cell_type": "code",
   "execution_count": null,
   "outputs": [],
   "source": [],
   "metadata": {
    "collapsed": false
   }
  },
  {
   "cell_type": "code",
   "execution_count": null,
   "outputs": [],
   "source": [],
   "metadata": {
    "collapsed": false
   }
  },
  {
   "cell_type": "code",
   "execution_count": null,
   "outputs": [],
   "source": [
    "from enbios2.models.experiment_models import ExperimentScenarioData\n",
    "\n",
    "exp_data.scenarios = []\n",
    "\n",
    "for _ in range(3):\n",
    "    random_activity = choice(list(exp.activitiesMap.keys()))\n",
    "    # print(random_activity)\n",
    "    exp_data.scenarios.append(\n",
    "        ExperimentScenarioData(activities={\n",
    "            random_activity: [exp.activitiesMap[random_activity].output.unit, 3]\n",
    "        })\n",
    "    )\n",
    "\n",
    "exp_data.scenarios"
   ],
   "metadata": {
    "collapsed": false
   }
  }
 ],
 "metadata": {
  "kernelspec": {
   "display_name": "Python 3",
   "language": "python",
   "name": "python3"
  },
  "language_info": {
   "codemirror_mode": {
    "name": "ipython",
    "version": 2
   },
   "file_extension": ".py",
   "mimetype": "text/x-python",
   "name": "python",
   "nbconvert_exporter": "python",
   "pygments_lexer": "ipython2",
   "version": "2.7.6"
  }
 },
 "nbformat": 4,
 "nbformat_minor": 0
}
