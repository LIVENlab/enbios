{
 "cells": [
  {
   "cell_type": "code",
   "execution_count": 1,
   "outputs": [],
   "source": [
    "%load_ext autoreload\n",
    "%autoreload 2"
   ],
   "metadata": {
    "collapsed": false,
    "ExecuteTime": {
     "end_time": "2023-08-03T13:43:48.188208224Z",
     "start_time": "2023-08-03T13:43:48.169977275Z"
    }
   }
  },
  {
   "cell_type": "code",
   "execution_count": 2,
   "outputs": [],
   "source": [
    "import json\n",
    "import pandas as pd\n",
    "from enbios2.base.experiment import Experiment\n",
    "import bw2data\n",
    "\n",
    "from enbios2.bw2.util import report\n",
    "from enbios2.models.experiment_models import ExperimentData"
   ],
   "metadata": {
    "collapsed": false,
    "ExecuteTime": {
     "end_time": "2023-08-03T13:43:53.545749295Z",
     "start_time": "2023-08-03T13:43:48.192995772Z"
    }
   }
  },
  {
   "cell_type": "code",
   "execution_count": 3,
   "metadata": {
    "ExecuteTime": {
     "end_time": "2023-08-03T13:43:53.640310836Z",
     "start_time": "2023-08-03T13:43:53.552012121Z"
    }
   },
   "outputs": [
    {
     "name": "stdout",
     "output_type": "stream",
     "text": [
      "Project: default\n",
      "['biosphere3']\n",
      "Project: ecoinvent\n",
      "['biosphere3', 'cutoff_3.9.1_default']\n"
     ]
    }
   ],
   "source": [
    "# get an overview of brighway projects and databases\n",
    "report()"
   ]
  },
  {
   "cell_type": "code",
   "execution_count": 4,
   "metadata": {
    "ExecuteTime": {
     "end_time": "2023-08-03T13:43:53.758344186Z",
     "start_time": "2023-08-03T13:43:53.640784660Z"
    }
   },
   "outputs": [],
   "source": [
    "bw2data.projects.set_current(\"ecoinvent\")\n",
    "database_name = 'cutoff_3.9.1_default'\n",
    "db = bw2data.Database(database_name)"
   ]
  },
  {
   "cell_type": "markdown",
   "metadata": {},
   "source": [
    "# Simple example experiment\n",
    "In this first simple example we calculate the impact of 4 wind turbine activities in spain, using 2 different methods."
   ]
  },
  {
   "cell_type": "code",
   "execution_count": 5,
   "metadata": {
    "ExecuteTime": {
     "end_time": "2023-08-03T13:43:53.977102660Z",
     "start_time": "2023-08-03T13:43:53.693414814Z"
    }
   },
   "outputs": [
    {
     "name": "stdout",
     "output_type": "stream",
     "text": [
      "Excluding 319 filtered results\n"
     ]
    },
    {
     "data": {
      "text/plain": "['electricity production, wind, >3MW turbine, onshore' (kilowatt hour, ES, None),\n 'electricity production, wind, 1-3MW turbine, onshore' (kilowatt hour, ES, None),\n 'electricity production, wind, 1-3MW turbine, offshore' (kilowatt hour, ES, None),\n 'electricity production, wind, <1MW turbine, onshore' (kilowatt hour, ES, None)]"
     },
     "execution_count": 5,
     "metadata": {},
     "output_type": "execute_result"
    }
   ],
   "source": [
    "wind_turbines_spain = db.search(\"electricity production, wind, 1-3MW turbine, onshore\", filter={\"location\": \"ES\"})\n",
    "wind_turbines_spain"
   ]
  },
  {
   "cell_type": "code",
   "execution_count": 6,
   "metadata": {
    "ExecuteTime": {
     "end_time": "2023-08-03T13:43:54.085080593Z",
     "start_time": "2023-08-03T13:43:53.978541229Z"
    }
   },
   "outputs": [],
   "source": [
    "# for the experiment we need to create a list of activities (or a dict, where the keys represent the aliases)\n",
    "# We need to add the codes, otherwise the brightway search will not be not uniquely identify the activities \n",
    "# adding name is just for convenience\n",
    "experiment_activities = []\n",
    "\n",
    "for activity in wind_turbines_spain:\n",
    "    experiment_activities.append(\n",
    "        {\"id\":\n",
    "            {\n",
    "                \"name\": activity[\"name\"],\n",
    "                \"code\": activity[\"code\"]\n",
    "            }\n",
    "        }\n",
    "    )"
   ]
  },
  {
   "cell_type": "code",
   "execution_count": 7,
   "metadata": {
    "ExecuteTime": {
     "end_time": "2023-08-03T13:43:54.122825734Z",
     "start_time": "2023-08-03T13:43:54.017319286Z"
    }
   },
   "outputs": [
    {
     "data": {
      "text/plain": "[{'id': {'name': 'electricity production, wind, >3MW turbine, onshore',\n   'code': '0d48975a3766c13e68cedeb6c24f6f74'},\n  'output': ['kilowatt_hour', 3]},\n {'id': {'name': 'electricity production, wind, 1-3MW turbine, onshore',\n   'code': 'ed3da88fc23311ee183e9ffd376de89b'}},\n {'id': {'name': 'electricity production, wind, 1-3MW turbine, offshore',\n   'code': '6ebfe52dc3ef5b4d35bb603b03559023'}},\n {'id': {'name': 'electricity production, wind, <1MW turbine, onshore',\n   'code': '72cc067e1f4093c2e4c6ac9bdc93d844'}}]"
     },
     "execution_count": 7,
     "metadata": {},
     "output_type": "execute_result"
    }
   ],
   "source": [
    "# we can modify the output of the activities, by default it is the reference product (1 of the activity unit)\n",
    "experiment_activities[0][\"output\"] = [\"kilowatt_hour\", 3]\n",
    "experiment_activities"
   ]
  },
  {
   "cell_type": "code",
   "execution_count": 8,
   "metadata": {
    "ExecuteTime": {
     "end_time": "2023-08-03T13:43:54.157638264Z",
     "start_time": "2023-08-03T13:43:54.052349731Z"
    }
   },
   "outputs": [
    {
     "data": {
      "text/plain": "[{'id': ('EDIP 2003 no LT', 'ecotoxicity no LT', 'acute, in water no LT')},\n {'id': ('Ecological Scarcity 2021 no LT',\n   'water use no LT',\n   'water resources, evaporated no LT')}]"
     },
     "execution_count": 8,
     "metadata": {},
     "output_type": "execute_result"
    }
   ],
   "source": [
    "# select 2 random methods and convert them into the form for enbios2\n",
    "methods = [bw2data.methods.random() for _ in range(2)]\n",
    "experiment_methods = [\n",
    "    {\n",
    "        \"id\": method\n",
    "    }\n",
    "    for method in methods\n",
    "]\n",
    "\n",
    "experiment_methods"
   ]
  },
  {
   "cell_type": "code",
   "execution_count": 9,
   "metadata": {
    "ExecuteTime": {
     "end_time": "2023-08-03T13:43:54.233046236Z",
     "start_time": "2023-08-03T13:43:54.103077615Z"
    }
   },
   "outputs": [],
   "source": [
    "# let's store the raw data, because we want to modify it later\n",
    "raw_data = {\n",
    "    \"bw_project\": \"ecoinvent\",\n",
    "    \"activities\": experiment_activities,\n",
    "    \"methods\": experiment_methods\n",
    "}\n",
    "\n",
    "# make a first validation of the experiment data\n",
    "exp_data = ExperimentData(**raw_data)"
   ]
  },
  {
   "cell_type": "code",
   "execution_count": 10,
   "metadata": {
    "ExecuteTime": {
     "end_time": "2023-08-03T13:43:54.351061754Z",
     "start_time": "2023-08-03T13:43:54.147307323Z"
    }
   },
   "outputs": [],
   "source": [
    "# create a experiment object. This will validate the activities, their outputs, the methods and the scenarios.\n",
    "exp: Experiment = Experiment(exp_data)"
   ]
  },
  {
   "cell_type": "code",
   "execution_count": 11,
   "metadata": {
    "ExecuteTime": {
     "end_time": "2023-08-03T13:43:54.396513796Z",
     "start_time": "2023-08-03T13:43:54.385286981Z"
    }
   },
   "outputs": [
    {
     "name": "stdout",
     "output_type": "stream",
     "text": [
      "Experiment: \n",
      "Activities: 4\n",
      "  electricity production, wind, >3MW turbine, onshore - electricity production, wind, >3MW turbine, onshore\n",
      "  electricity production, wind, 1-3MW turbine, onshore - electricity production, wind, 1-3MW turbine, onshore\n",
      "  electricity production, wind, 1-3MW turbine, offshore - electricity production, wind, 1-3MW turbine, offshore\n",
      "  electricity production, wind, <1MW turbine, onshore - electricity production, wind, <1MW turbine, onshore\n",
      "Methods: 2\n",
      " ('EDIP 2003 no LT', 'ecotoxicity no LT', 'acute, in water no LT')\n",
      " ('Ecological Scarcity 2021 no LT', 'water use no LT', 'water resources, evaporated no LT')\n",
      "Hierarchy (depth): 2\n",
      "Scenarios: 1\n"
     ]
    }
   ],
   "source": [
    "print(exp.info())"
   ]
  },
  {
   "cell_type": "markdown",
   "metadata": {},
   "source": [
    "## Running the experiment"
   ]
  },
  {
   "cell_type": "code",
   "execution_count": 12,
   "metadata": {
    "ExecuteTime": {
     "end_time": "2023-08-03T13:44:56.689872031Z",
     "start_time": "2023-08-03T13:43:57.074025196Z"
    }
   },
   "outputs": [
    {
     "name": "stdout",
     "output_type": "stream",
     "text": [
      "2023-08-03 15:43:58,146 - bw2calc - INFO - Initialized LCA object. Demand: {25415: 1, 15150: 1, 25751: 1, 25926: 1}, data_objs: [<bw_processing.datapackage.Datapackage object at 0x7f8da5ebcb10>, <bw_processing.datapackage.Datapackage object at 0x7f8dacf57050>, <bw_processing.datapackage.Datapackage object at 0x7f8dacf56810>, <bw_processing.datapackage.Datapackage object at 0x7f8da5f29e10>, <bw_processing.datapackage.Datapackage object at 0x7f8da5f2bdd0>, <bw_processing.datapackage.Datapackage object at 0x7f8db05f0d10>]\n",
      "2023-08-03 15:43:58,147 - bw2calc - INFO - {'message': 'Started MultiLCA calculation', 'methods': [('EDIP 2003 no LT', 'ecotoxicity no LT', 'acute, in water no LT'), ('Ecological Scarcity 2021 no LT', 'water use no LT', 'water resources, evaporated no LT')], 'functional units': [[{'database': 'cutoff_3.9.1_default', 'code': '0d48975a3766c13e68cedeb6c24f6f74', 'amount': 3.0}], [{'database': 'cutoff_3.9.1_default', 'code': 'ed3da88fc23311ee183e9ffd376de89b', 'amount': 1.0}], [{'database': 'cutoff_3.9.1_default', 'code': '6ebfe52dc3ef5b4d35bb603b03559023', 'amount': 1.0}], [{'database': 'cutoff_3.9.1_default', 'code': '72cc067e1f4093c2e4c6ac9bdc93d844', 'amount': 1.0}]]}\n",
      "2023-08-03 15:44:16,330 - bw2calc - INFO - Switched LCIA method. data_objs: [<bw_processing.datapackage.Datapackage object at 0x7f8dad190350>]\n",
      "2023-08-03 15:44:16,351 - bw2calc - INFO - Switched LCIA method. data_objs: [<bw_processing.datapackage.Datapackage object at 0x7f8dad18da50>]\n"
     ]
    }
   ],
   "source": [
    "# run all scenarios at once\n",
    "results = exp.run()"
   ]
  },
  {
   "cell_type": "markdown",
   "metadata": {},
   "source": [
    "# Result\n",
    "The result is a dictionary of scenario names, where for each scenario we have a tree (representing the activity hierarchy). Each node (`BasicTreeNode`) in the tree has a `data` object, which is of the type `ScenarioResultNodeData`, which have the fields `output`, `result` and `bw_activity`."
   ]
  },
  {
   "cell_type": "code",
   "execution_count": 13,
   "metadata": {
    "ExecuteTime": {
     "end_time": "2023-08-03T13:44:56.734363549Z",
     "start_time": "2023-08-03T13:44:56.688938249Z"
    }
   },
   "outputs": [
    {
     "data": {
      "text/plain": "{'default scenario': [root - 4 children ]}"
     },
     "execution_count": 13,
     "metadata": {},
     "output_type": "execute_result"
    }
   ],
   "source": [
    "# from enbios2.generic.tree.basic_tree import BasicTreeNode\n",
    "# from enbios2.models.experiment_models import ScenarioResultNodeData\n",
    "\n",
    "results"
   ]
  },
  {
   "cell_type": "code",
   "execution_count": 14,
   "metadata": {
    "ExecuteTime": {
     "end_time": "2023-08-03T13:44:56.786665162Z",
     "start_time": "2023-08-03T13:44:56.731437556Z"
    }
   },
   "outputs": [
    {
     "name": "stdout",
     "output_type": "stream",
     "text": [
      "[root - 4 children ]\n",
      "ScenarioResultNodeData(output=('kilowatt_hour', 6.0), results={'EDIP 2003 no LT_ecotoxicity no LT_acute, in water no LT': 29.345704498534026, 'Ecological Scarcity 2021 no LT_water use no LT_water resources, evaporated no LT': 1.1711947421892994}, bw_activity=None)\n",
      "---\n",
      "[electricity production, wind, >3MW turbine, onshore - 0 children  (root)]\n",
      "ScenarioResultNodeData(output=('kilowatt_hour', 3.0), results={'EDIP 2003 no LT_ecotoxicity no LT_acute, in water no LT': 24.671384740510995, 'Ecological Scarcity 2021 no LT_water use no LT_water resources, evaporated no LT': 0.6813872525495772}, bw_activity='electricity production, wind, >3MW turbine, onshore' (kilowatt hour, ES, None))\n",
      "---\n",
      "[electricity production, wind, 1-3MW turbine, onshore - 0 children  (root)]\n",
      "ScenarioResultNodeData(output=('kilowatt_hour', 1.0), results={'EDIP 2003 no LT_ecotoxicity no LT_acute, in water no LT': 1.5230402743802678, 'Ecological Scarcity 2021 no LT_water use no LT_water resources, evaporated no LT': 0.13498243649342634}, bw_activity='electricity production, wind, 1-3MW turbine, onshore' (kilowatt hour, ES, None))\n",
      "---\n",
      "[electricity production, wind, 1-3MW turbine, offshore - 0 children  (root)]\n",
      "ScenarioResultNodeData(output=('kilowatt_hour', 1.0), results={'EDIP 2003 no LT_ecotoxicity no LT_acute, in water no LT': 1.9511435306496767, 'Ecological Scarcity 2021 no LT_water use no LT_water resources, evaporated no LT': 0.18614175911721723}, bw_activity='electricity production, wind, 1-3MW turbine, offshore' (kilowatt hour, ES, None))\n",
      "---\n",
      "[electricity production, wind, <1MW turbine, onshore - 0 children  (root)]\n",
      "ScenarioResultNodeData(output=('kilowatt_hour', 1.0), results={'EDIP 2003 no LT_ecotoxicity no LT_acute, in water no LT': 1.2001359529930862, 'Ecological Scarcity 2021 no LT_water use no LT_water resources, evaporated no LT': 0.1686832940290786}, bw_activity='electricity production, wind, <1MW turbine, onshore' (kilowatt hour, ES, None))\n",
      "---\n"
     ]
    }
   ],
   "source": [
    "print(results[\"default scenario\"].info())\n",
    "print(\"---\")\n",
    "for children in results[\"default scenario\"]:\n",
    "    print(children.info())\n",
    "    print(\"---\")"
   ]
  },
  {
   "cell_type": "code",
   "execution_count": 15,
   "metadata": {
    "ExecuteTime": {
     "end_time": "2023-08-03T13:44:56.842833861Z",
     "start_time": "2023-08-03T13:44:56.790048908Z"
    }
   },
   "outputs": [
    {
     "data": {
      "text/plain": "  lvl_0                                              lvl_1           unit  \\\n0  root                                                     kilowatt_hour   \n1        electricity production, wind, >3MW turbine, on...  kilowatt_hour   \n2        electricity production, wind, 1-3MW turbine, o...  kilowatt_hour   \n3        electricity production, wind, 1-3MW turbine, o...  kilowatt_hour   \n4        electricity production, wind, <1MW turbine, on...  kilowatt_hour   \n\n   amount  EDIP 2003 no LT_ecotoxicity no LT_acute, in water no LT (m3 water)  \\\n0     6.0                                          29.345704                    \n1     3.0                                          24.671385                    \n2     1.0                                           1.523040                    \n3     1.0                                           1.951144                    \n4     1.0                                           1.200136                    \n\n   Ecological Scarcity 2021 no LT_water use no LT_water resources, evaporated no LT (UBP)  \n0                                           1.171195                                       \n1                                           0.681387                                       \n2                                           0.134982                                       \n3                                           0.186142                                       \n4                                           0.168683                                       ",
      "text/html": "<div>\n<style scoped>\n    .dataframe tbody tr th:only-of-type {\n        vertical-align: middle;\n    }\n\n    .dataframe tbody tr th {\n        vertical-align: top;\n    }\n\n    .dataframe thead th {\n        text-align: right;\n    }\n</style>\n<table border=\"1\" class=\"dataframe\">\n  <thead>\n    <tr style=\"text-align: right;\">\n      <th></th>\n      <th>lvl_0</th>\n      <th>lvl_1</th>\n      <th>unit</th>\n      <th>amount</th>\n      <th>EDIP 2003 no LT_ecotoxicity no LT_acute, in water no LT (m3 water)</th>\n      <th>Ecological Scarcity 2021 no LT_water use no LT_water resources, evaporated no LT (UBP)</th>\n    </tr>\n  </thead>\n  <tbody>\n    <tr>\n      <th>0</th>\n      <td>root</td>\n      <td></td>\n      <td>kilowatt_hour</td>\n      <td>6.0</td>\n      <td>29.345704</td>\n      <td>1.171195</td>\n    </tr>\n    <tr>\n      <th>1</th>\n      <td></td>\n      <td>electricity production, wind, &gt;3MW turbine, on...</td>\n      <td>kilowatt_hour</td>\n      <td>3.0</td>\n      <td>24.671385</td>\n      <td>0.681387</td>\n    </tr>\n    <tr>\n      <th>2</th>\n      <td></td>\n      <td>electricity production, wind, 1-3MW turbine, o...</td>\n      <td>kilowatt_hour</td>\n      <td>1.0</td>\n      <td>1.523040</td>\n      <td>0.134982</td>\n    </tr>\n    <tr>\n      <th>3</th>\n      <td></td>\n      <td>electricity production, wind, 1-3MW turbine, o...</td>\n      <td>kilowatt_hour</td>\n      <td>1.0</td>\n      <td>1.951144</td>\n      <td>0.186142</td>\n    </tr>\n    <tr>\n      <th>4</th>\n      <td></td>\n      <td>electricity production, wind, &lt;1MW turbine, on...</td>\n      <td>kilowatt_hour</td>\n      <td>1.0</td>\n      <td>1.200136</td>\n      <td>0.168683</td>\n    </tr>\n  </tbody>\n</table>\n</div>"
     },
     "execution_count": 15,
     "metadata": {},
     "output_type": "execute_result"
    }
   ],
   "source": [
    "# we can dump the results into a csv file\n",
    "exp.results_to_csv(\"test.csv\")\n",
    "pd.read_csv(\"test.csv\").fillna('')"
   ]
  },
  {
   "cell_type": "code",
   "execution_count": 16,
   "metadata": {
    "ExecuteTime": {
     "end_time": "2023-08-03T13:37:16.107818788Z",
     "start_time": "2023-08-03T13:37:15.998903138Z"
    }
   },
   "outputs": [
    {
     "data": {
      "text/plain": "{'alias': 'root',\n 'output': {'unit': 'kilowatt_hour', 'amount': 6.0},\n 'results': {'EDIP 2003 no LT_eutrophication no LT_separate N potential no LT': 0.00012899929675533388,\n  'CML v4.8 2016 no LT_ozone depletion no LT_ozone layer depletion (ODP steady state) no LT': 2.202663479917744e-09},\n 'children': [{'alias': 'electricity production, wind, >3MW turbine, onshore',\n   'output': {'unit': 'kilowatt_hour', 'amount': 3.0},\n   'results': {'EDIP 2003 no LT_eutrophication no LT_separate N potential no LT': 8.622677360100662e-05,\n    'CML v4.8 2016 no LT_ozone depletion no LT_ozone layer depletion (ODP steady state) no LT': 1.4346887570326957e-09},\n   'bw_activity': '0d48975a3766c13e68cedeb6c24f6f74'},\n  {'alias': 'electricity production, wind, 1-3MW turbine, onshore',\n   'output': {'unit': 'kilowatt_hour', 'amount': 1.0},\n   'results': {'EDIP 2003 no LT_eutrophication no LT_separate N potential no LT': 1.4156262380275074e-05,\n    'CML v4.8 2016 no LT_ozone depletion no LT_ozone layer depletion (ODP steady state) no LT': 2.9586954351346966e-10},\n   'bw_activity': 'ed3da88fc23311ee183e9ffd376de89b'},\n  {'alias': 'electricity production, wind, 1-3MW turbine, offshore',\n   'output': {'unit': 'kilowatt_hour', 'amount': 1.0},\n   'results': {'EDIP 2003 no LT_eutrophication no LT_separate N potential no LT': 1.565584287581663e-05,\n    'CML v4.8 2016 no LT_ozone depletion no LT_ozone layer depletion (ODP steady state) no LT': 2.494208388655944e-10},\n   'bw_activity': '6ebfe52dc3ef5b4d35bb603b03559023'},\n  {'alias': 'electricity production, wind, <1MW turbine, onshore',\n   'output': {'unit': 'kilowatt_hour', 'amount': 1.0},\n   'results': {'EDIP 2003 no LT_eutrophication no LT_separate N potential no LT': 1.2960417898235545e-05,\n    'CML v4.8 2016 no LT_ozone depletion no LT_ozone layer depletion (ODP steady state) no LT': 2.226843405059839e-10},\n   'bw_activity': '72cc067e1f4093c2e4c6ac9bdc93d844'}]}"
     },
     "execution_count": 16,
     "metadata": {},
     "output_type": "execute_result"
    }
   ],
   "source": [
    "exp.scenarios[0].result_to_dict()"
   ]
  },
  {
   "cell_type": "markdown",
   "metadata": {},
   "source": [
    "## Add a technology hierarchy (dendrogram) \n",
    "Let's now add a few more activities to the experiment and create a hierarchy of activities."
   ]
  },
  {
   "cell_type": "code",
   "execution_count": 16,
   "metadata": {
    "ExecuteTime": {
     "end_time": "2023-08-03T13:46:26.170463804Z",
     "start_time": "2023-08-03T13:46:23.152953486Z"
    }
   },
   "outputs": [
    {
     "name": "stdout",
     "output_type": "stream",
     "text": [
      "Excluding 465 filtered results\n"
     ]
    },
    {
     "data": {
      "text/plain": "['electricity production, solar tower power plant, 20 MW' (kilowatt hour, ES, None),\n 'electricity production, solar thermal parabolic trough, 50 MW' (kilowatt hour, ES, None)]"
     },
     "execution_count": 16,
     "metadata": {},
     "output_type": "execute_result"
    }
   ],
   "source": [
    "solar_spain = db.search(\"solar\", filter={\"location\": \"ES\"})[:2]\n",
    "solar_spain"
   ]
  },
  {
   "cell_type": "code",
   "execution_count": 17,
   "metadata": {
    "ExecuteTime": {
     "end_time": "2023-08-03T13:46:26.285257915Z",
     "start_time": "2023-08-03T13:46:26.174658984Z"
    }
   },
   "outputs": [],
   "source": [
    "raw_data[\"activities\"].extend([\n",
    "    {\n",
    "        \"id\": {\n",
    "            \"name\": activity[\"name\"],\n",
    "            \"code\": activity[\"code\"]\n",
    "        }\n",
    "    }\n",
    "    for activity in solar_spain\n",
    "])\n"
   ]
  },
  {
   "cell_type": "code",
   "execution_count": 18,
   "metadata": {
    "ExecuteTime": {
     "end_time": "2023-08-03T13:46:26.286471326Z",
     "start_time": "2023-08-03T13:46:26.261478857Z"
    }
   },
   "outputs": [
    {
     "data": {
      "text/plain": "{'wind': ['electricity production, wind, >3MW turbine, onshore',\n  'electricity production, wind, 1-3MW turbine, onshore',\n  'electricity production, wind, 1-3MW turbine, offshore',\n  'electricity production, wind, <1MW turbine, onshore'],\n 'solar': ['electricity production, solar tower power plant, 20 MW',\n  'electricity production, solar thermal parabolic trough, 50 MW']}"
     },
     "execution_count": 18,
     "metadata": {},
     "output_type": "execute_result"
    }
   ],
   "source": [
    "hierarchy = {\n",
    "    \"wind\": [wind_act[\"name\"] for wind_act in wind_turbines_spain],\n",
    "    \"solar\": [solar_act[\"name\"] for solar_act in solar_spain]\n",
    "}\n",
    "\n",
    "raw_data[\"hierarchy\"] = hierarchy\n",
    "hierarchy"
   ]
  },
  {
   "cell_type": "code",
   "execution_count": 19,
   "metadata": {
    "ExecuteTime": {
     "end_time": "2023-08-03T13:46:26.537796032Z",
     "start_time": "2023-08-03T13:46:26.262031226Z"
    }
   },
   "outputs": [
    {
     "data": {
      "text/plain": "Experiment: (call info() for details)\nActivities: 6\nMethods: 2\nHierarchy (depth): 3\nScenarios: 1"
     },
     "execution_count": 19,
     "metadata": {},
     "output_type": "execute_result"
    }
   ],
   "source": [
    "exp = Experiment(raw_data)\n",
    "exp"
   ]
  },
  {
   "cell_type": "markdown",
   "source": [
    "# Run the 2nd experiment"
   ],
   "metadata": {
    "collapsed": false
   }
  },
  {
   "cell_type": "code",
   "execution_count": 20,
   "metadata": {
    "ExecuteTime": {
     "end_time": "2023-08-03T13:47:31.836788563Z",
     "start_time": "2023-08-03T13:46:27.439993526Z"
    }
   },
   "outputs": [
    {
     "name": "stdout",
     "output_type": "stream",
     "text": [
      "2023-08-03 15:46:28,969 - bw2calc - INFO - Initialized LCA object. Demand: {25415: 1, 15150: 1, 25751: 1, 25926: 1, 13409: 1, 11123: 1}, data_objs: [<bw_processing.datapackage.Datapackage object at 0x7f8dac7cdc10>, <bw_processing.datapackage.Datapackage object at 0x7f8dad287650>, <bw_processing.datapackage.Datapackage object at 0x7f8dad096850>, <bw_processing.datapackage.Datapackage object at 0x7f8dae303cd0>, <bw_processing.datapackage.Datapackage object at 0x7f8da5eb92d0>, <bw_processing.datapackage.Datapackage object at 0x7f8da5eb9610>, <bw_processing.datapackage.Datapackage object at 0x7f8da5e7e350>, <bw_processing.datapackage.Datapackage object at 0x7f8dad142750>]\n",
      "2023-08-03 15:46:28,970 - bw2calc - INFO - {'message': 'Started MultiLCA calculation', 'methods': [('EDIP 2003 no LT', 'ecotoxicity no LT', 'acute, in water no LT'), ('Ecological Scarcity 2021 no LT', 'water use no LT', 'water resources, evaporated no LT')], 'functional units': [[{'database': 'cutoff_3.9.1_default', 'code': '0d48975a3766c13e68cedeb6c24f6f74', 'amount': 3.0}], [{'database': 'cutoff_3.9.1_default', 'code': 'ed3da88fc23311ee183e9ffd376de89b', 'amount': 1.0}], [{'database': 'cutoff_3.9.1_default', 'code': '6ebfe52dc3ef5b4d35bb603b03559023', 'amount': 1.0}], [{'database': 'cutoff_3.9.1_default', 'code': '72cc067e1f4093c2e4c6ac9bdc93d844', 'amount': 1.0}], [{'database': 'cutoff_3.9.1_default', 'code': 'f2700b2ffcb6b32143a6f95d9cca1721', 'amount': 1.0}], [{'database': 'cutoff_3.9.1_default', 'code': '19040cdacdbf038e2f6ad59814f7a9ed', 'amount': 1.0}]]}\n",
      "2023-08-03 15:46:44,705 - bw2calc - INFO - Switched LCIA method. data_objs: [<bw_processing.datapackage.Datapackage object at 0x7f8dac77a2d0>]\n",
      "2023-08-03 15:46:44,714 - bw2calc - INFO - Switched LCIA method. data_objs: [<bw_processing.datapackage.Datapackage object at 0x7f8dad19e790>]\n"
     ]
    },
    {
     "data": {
      "text/plain": "{'default scenario': [root - 2 children ]}"
     },
     "execution_count": 20,
     "metadata": {},
     "output_type": "execute_result"
    }
   ],
   "source": [
    "exp.run()"
   ]
  },
  {
   "cell_type": "code",
   "execution_count": 22,
   "metadata": {
    "ExecuteTime": {
     "end_time": "2023-08-03T13:47:31.958143492Z",
     "start_time": "2023-08-03T13:47:31.916595611Z"
    }
   },
   "outputs": [
    {
     "data": {
      "text/plain": "   root technology                                           activity  \\\n0  root                                                                 \n1             wind                                                      \n2                   electricity production, wind, >3MW turbine, on...   \n3                   electricity production, wind, 1-3MW turbine, o...   \n4                   electricity production, wind, 1-3MW turbine, o...   \n5                   electricity production, wind, <1MW turbine, on...   \n6            solar                                                      \n7                   electricity production, solar tower power plan...   \n8                   electricity production, solar thermal paraboli...   \n\n            unit  amount  \\\n0  kilowatt_hour     8.0   \n1  kilowatt_hour     6.0   \n2  kilowatt_hour     3.0   \n3  kilowatt_hour     1.0   \n4  kilowatt_hour     1.0   \n5  kilowatt_hour     1.0   \n6  kilowatt_hour     2.0   \n7  kilowatt_hour     1.0   \n8  kilowatt_hour     1.0   \n\n   EDIP 2003 no LT_ecotoxicity no LT_acute, in water no LT  \\\n0                                          33.019308         \n1                                          29.345704         \n2                                          24.671385         \n3                                           1.523040         \n4                                           1.951144         \n5                                           1.200136         \n6                                           3.673604         \n7                                           1.277954         \n8                                           2.395649         \n\n   Ecological Scarcity 2021 no LT_water use no LT_water resources, evaporated no LT  \n0                                           1.629857                                 \n1                                           1.171195                                 \n2                                           0.681387                                 \n3                                           0.134982                                 \n4                                           0.186142                                 \n5                                           0.168683                                 \n6                                           0.458662                                 \n7                                           0.207914                                 \n8                                           0.250748                                 ",
      "text/html": "<div>\n<style scoped>\n    .dataframe tbody tr th:only-of-type {\n        vertical-align: middle;\n    }\n\n    .dataframe tbody tr th {\n        vertical-align: top;\n    }\n\n    .dataframe thead th {\n        text-align: right;\n    }\n</style>\n<table border=\"1\" class=\"dataframe\">\n  <thead>\n    <tr style=\"text-align: right;\">\n      <th></th>\n      <th>root</th>\n      <th>technology</th>\n      <th>activity</th>\n      <th>unit</th>\n      <th>amount</th>\n      <th>EDIP 2003 no LT_ecotoxicity no LT_acute, in water no LT</th>\n      <th>Ecological Scarcity 2021 no LT_water use no LT_water resources, evaporated no LT</th>\n    </tr>\n  </thead>\n  <tbody>\n    <tr>\n      <th>0</th>\n      <td>root</td>\n      <td></td>\n      <td></td>\n      <td>kilowatt_hour</td>\n      <td>8.0</td>\n      <td>33.019308</td>\n      <td>1.629857</td>\n    </tr>\n    <tr>\n      <th>1</th>\n      <td></td>\n      <td>wind</td>\n      <td></td>\n      <td>kilowatt_hour</td>\n      <td>6.0</td>\n      <td>29.345704</td>\n      <td>1.171195</td>\n    </tr>\n    <tr>\n      <th>2</th>\n      <td></td>\n      <td></td>\n      <td>electricity production, wind, &gt;3MW turbine, on...</td>\n      <td>kilowatt_hour</td>\n      <td>3.0</td>\n      <td>24.671385</td>\n      <td>0.681387</td>\n    </tr>\n    <tr>\n      <th>3</th>\n      <td></td>\n      <td></td>\n      <td>electricity production, wind, 1-3MW turbine, o...</td>\n      <td>kilowatt_hour</td>\n      <td>1.0</td>\n      <td>1.523040</td>\n      <td>0.134982</td>\n    </tr>\n    <tr>\n      <th>4</th>\n      <td></td>\n      <td></td>\n      <td>electricity production, wind, 1-3MW turbine, o...</td>\n      <td>kilowatt_hour</td>\n      <td>1.0</td>\n      <td>1.951144</td>\n      <td>0.186142</td>\n    </tr>\n    <tr>\n      <th>5</th>\n      <td></td>\n      <td></td>\n      <td>electricity production, wind, &lt;1MW turbine, on...</td>\n      <td>kilowatt_hour</td>\n      <td>1.0</td>\n      <td>1.200136</td>\n      <td>0.168683</td>\n    </tr>\n    <tr>\n      <th>6</th>\n      <td></td>\n      <td>solar</td>\n      <td></td>\n      <td>kilowatt_hour</td>\n      <td>2.0</td>\n      <td>3.673604</td>\n      <td>0.458662</td>\n    </tr>\n    <tr>\n      <th>7</th>\n      <td></td>\n      <td></td>\n      <td>electricity production, solar tower power plan...</td>\n      <td>kilowatt_hour</td>\n      <td>1.0</td>\n      <td>1.277954</td>\n      <td>0.207914</td>\n    </tr>\n    <tr>\n      <th>8</th>\n      <td></td>\n      <td></td>\n      <td>electricity production, solar thermal paraboli...</td>\n      <td>kilowatt_hour</td>\n      <td>1.0</td>\n      <td>2.395649</td>\n      <td>0.250748</td>\n    </tr>\n  </tbody>\n</table>\n</div>"
     },
     "execution_count": 22,
     "metadata": {},
     "output_type": "execute_result"
    }
   ],
   "source": [
    "# print(json.dumps((exp.scenarios[0].result_to_dict()), indent=2))\n",
    "exp.scenarios[0].results_to_csv(\"test.csv\", level_names=[\"root\", \"technology\", \"activity\"])\n",
    "pd.read_csv(\"test.csv\").fillna('')"
   ]
  },
  {
   "cell_type": "markdown",
   "source": [
    "## Create several scenarios"
   ],
   "metadata": {
    "collapsed": false
   }
  },
  {
   "cell_type": "code",
   "execution_count": 23,
   "outputs": [
    {
     "data": {
      "text/plain": "[{'activities': {'electricity production, wind, >3MW turbine, onshore': ['kilowatt_hour',\n    5],\n   'electricity production, wind, 1-3MW turbine, onshore': ['kilowatt_hour',\n    2],\n   'electricity production, wind, 1-3MW turbine, offshore': ['kilowatt_hour',\n    6],\n   'electricity production, wind, <1MW turbine, onshore': ['kilowatt_hour',\n    10],\n   'electricity production, solar tower power plant, 20 MW': ['kilowatt_hour',\n    7],\n   'electricity production, solar thermal parabolic trough, 50 MW': ['kilowatt_hour',\n    6]}},\n {'activities': {'electricity production, wind, >3MW turbine, onshore': ['kilowatt_hour',\n    7],\n   'electricity production, wind, 1-3MW turbine, onshore': ['kilowatt_hour',\n    7],\n   'electricity production, wind, 1-3MW turbine, offshore': ['kilowatt_hour',\n    8],\n   'electricity production, wind, <1MW turbine, onshore': ['kilowatt_hour', 4],\n   'electricity production, solar tower power plant, 20 MW': ['kilowatt_hour',\n    2],\n   'electricity production, solar thermal parabolic trough, 50 MW': ['kilowatt_hour',\n    8]}}]"
     },
     "execution_count": 23,
     "metadata": {},
     "output_type": "execute_result"
    }
   ],
   "source": [
    "from random import randint\n",
    "\n",
    "activitiy_aliases = exp.get_all_activity_aliases()\n",
    "\n",
    "def create_random_scenario():\n",
    "    return {\n",
    "        \"activities\": {\n",
    "            act: [\"kilowatt_hour\", randint(1, 10)]\n",
    "            for act in activitiy_aliases\n",
    "        }\n",
    "    }\n",
    "\n",
    "raw_data[\"scenarios\"] = [\n",
    "    create_random_scenario(),\n",
    "    create_random_scenario()\n",
    "]\n",
    "\n",
    "raw_data[\"scenarios\"]"
   ],
   "metadata": {
    "collapsed": false,
    "ExecuteTime": {
     "end_time": "2023-08-03T13:48:41.986220759Z",
     "start_time": "2023-08-03T13:48:36.893621082Z"
    }
   }
  },
  {
   "cell_type": "code",
   "execution_count": 24,
   "outputs": [
    {
     "ename": "ValueError",
     "evalue": "Activity ExperimentActivityId(database=None, code='ed3da88fc23311ee183e9ffd376de89b', name='electricity production, wind, 1-3MW turbine, onshore', location=None, unit=None, alias=None) has invalid output format: 2 validation errors for ExperimentActivityData\noutput\n  instance of ActivityOutput, tuple or dict expected (type=type_error.dataclass; class_name=ActivityOutput)\noutput\n  value is not a valid tuple (type=type_error.tuple)",
     "output_type": "error",
     "traceback": [
      "\u001B[0;31m---------------------------------------------------------------------------\u001B[0m",
      "\u001B[0;31mValidationError\u001B[0m                           Traceback (most recent call last)",
      "File \u001B[0;32m~/projects/enbios2/enbios2/base/experiment.py:208\u001B[0m, in \u001B[0;36mExperiment._validate_activity\u001B[0;34m(activity, default_id_attr, required_output)\u001B[0m\n\u001B[1;32m    207\u001B[0m \u001B[38;5;28;01mtry\u001B[39;00m:\n\u001B[0;32m--> 208\u001B[0m     \u001B[43mactivity\u001B[49m\u001B[38;5;241;43m.\u001B[39;49m\u001B[43moutput\u001B[49m \u001B[38;5;241m=\u001B[39m ActivityOutput(unit\u001B[38;5;241m=\u001B[39mbw_activity[\u001B[38;5;124m\"\u001B[39m\u001B[38;5;124munit\u001B[39m\u001B[38;5;124m\"\u001B[39m])\n\u001B[1;32m    209\u001B[0m \u001B[38;5;28;01mexcept\u001B[39;00m ValidationError \u001B[38;5;28;01mas\u001B[39;00m err:\n",
      "File \u001B[0;32m~/projects/enbios2/venv/lib/python3.11/site-packages/pydantic/dataclasses.py:438\u001B[0m, in \u001B[0;36mpydantic.dataclasses._dataclass_validate_assignment_setattr\u001B[0;34m()\u001B[0m\n",
      "\u001B[0;31mValidationError\u001B[0m: 2 validation errors for ExperimentActivityData\noutput\n  instance of ActivityOutput, tuple or dict expected (type=type_error.dataclass; class_name=ActivityOutput)\noutput\n  value is not a valid tuple (type=type_error.tuple)",
      "\nDuring handling of the above exception, another exception occurred:\n",
      "\u001B[0;31mValueError\u001B[0m                                Traceback (most recent call last)",
      "Cell \u001B[0;32mIn[24], line 1\u001B[0m\n\u001B[0;32m----> 1\u001B[0m exp \u001B[38;5;241m=\u001B[39m \u001B[43mExperiment\u001B[49m\u001B[43m(\u001B[49m\u001B[43mraw_data\u001B[49m\u001B[43m)\u001B[49m\n",
      "File \u001B[0;32m~/projects/enbios2/enbios2/base/experiment.py:46\u001B[0m, in \u001B[0;36mExperiment.__init__\u001B[0;34m(self, raw_data)\u001B[0m\n\u001B[1;32m     43\u001B[0m \u001B[38;5;66;03m# alias to activity\u001B[39;00m\n\u001B[1;32m     45\u001B[0m \u001B[38;5;28mself\u001B[39m\u001B[38;5;241m.\u001B[39m_validate_bw_config()\n\u001B[0;32m---> 46\u001B[0m \u001B[38;5;28mself\u001B[39m\u001B[38;5;241m.\u001B[39m_activities: \u001B[38;5;28mdict\u001B[39m[\u001B[38;5;28mstr\u001B[39m, ExtendedExperimentActivityPrepData] \u001B[38;5;241m=\u001B[39m \u001B[43mExperiment\u001B[49m\u001B[38;5;241;43m.\u001B[39;49m\u001B[43m_validate_activities\u001B[49m\u001B[43m(\u001B[49m\n\u001B[1;32m     47\u001B[0m \u001B[43m    \u001B[49m\u001B[38;5;28;43mself\u001B[39;49m\u001B[38;5;241;43m.\u001B[39;49m\u001B[43m_prepare_activities\u001B[49m\u001B[43m(\u001B[49m\u001B[38;5;28;43mself\u001B[39;49m\u001B[38;5;241;43m.\u001B[39;49m\u001B[43mraw_data\u001B[49m\u001B[38;5;241;43m.\u001B[39;49m\u001B[43mactivities\u001B[49m\u001B[43m)\u001B[49m\u001B[43m,\u001B[49m\u001B[43m \u001B[49m\u001B[38;5;28;43mself\u001B[39;49m\u001B[38;5;241;43m.\u001B[39;49m\u001B[43mraw_data\u001B[49m\u001B[38;5;241;43m.\u001B[39;49m\u001B[43mbw_default_database\u001B[49m\u001B[43m)\u001B[49m\n\u001B[1;32m     48\u001B[0m \u001B[38;5;28mself\u001B[39m\u001B[38;5;241m.\u001B[39m_user_defined_hierarchy: \u001B[38;5;28mbool\u001B[39m \u001B[38;5;241m=\u001B[39m \u001B[38;5;28;01mTrue\u001B[39;00m\n\u001B[1;32m     49\u001B[0m \u001B[38;5;28mself\u001B[39m\u001B[38;5;241m.\u001B[39m_hierarchy_root: BasicTreeNode[ScenarioResultNodeData] \u001B[38;5;241m=\u001B[39m \u001B[38;5;28mself\u001B[39m\u001B[38;5;241m.\u001B[39m_validate_hierarchy()\n",
      "File \u001B[0;32m~/projects/enbios2/enbios2/base/experiment.py:145\u001B[0m, in \u001B[0;36mExperiment._validate_activities\u001B[0;34m(activities, bw_default_database, output_required)\u001B[0m\n\u001B[1;32m    143\u001B[0m \u001B[38;5;66;03m# validate\u001B[39;00m\n\u001B[1;32m    144\u001B[0m \u001B[38;5;28;01mfor\u001B[39;00m activity \u001B[38;5;129;01min\u001B[39;00m activities:\n\u001B[0;32m--> 145\u001B[0m     ext_activity: ExtendedExperimentActivityData \u001B[38;5;241m=\u001B[39m \u001B[43mExperiment\u001B[49m\u001B[38;5;241;43m.\u001B[39;49m\u001B[43m_validate_activity\u001B[49m\u001B[43m(\u001B[49m\u001B[43mactivity\u001B[49m\u001B[43m,\u001B[49m\n\u001B[1;32m    146\u001B[0m \u001B[43m                                                                                 \u001B[49m\u001B[43mdefault_id_data\u001B[49m\u001B[43m,\u001B[49m\n\u001B[1;32m    147\u001B[0m \u001B[43m                                                                                 \u001B[49m\u001B[43moutput_required\u001B[49m\u001B[43m)\u001B[49m\n\u001B[1;32m    148\u001B[0m     \u001B[38;5;66;03m# check unique aliases\u001B[39;00m\n\u001B[1;32m    149\u001B[0m     \u001B[38;5;28;01mif\u001B[39;00m ext_activity\u001B[38;5;241m.\u001B[39malias \u001B[38;5;129;01min\u001B[39;00m activities_map:\n",
      "File \u001B[0;32m~/projects/enbios2/enbios2/base/experiment.py:210\u001B[0m, in \u001B[0;36mExperiment._validate_activity\u001B[0;34m(activity, default_id_attr, required_output)\u001B[0m\n\u001B[1;32m    208\u001B[0m         activity\u001B[38;5;241m.\u001B[39moutput \u001B[38;5;241m=\u001B[39m ActivityOutput(unit\u001B[38;5;241m=\u001B[39mbw_activity[\u001B[38;5;124m\"\u001B[39m\u001B[38;5;124munit\u001B[39m\u001B[38;5;124m\"\u001B[39m])\n\u001B[1;32m    209\u001B[0m     \u001B[38;5;28;01mexcept\u001B[39;00m ValidationError \u001B[38;5;28;01mas\u001B[39;00m err:\n\u001B[0;32m--> 210\u001B[0m         \u001B[38;5;28;01mraise\u001B[39;00m \u001B[38;5;167;01mValueError\u001B[39;00m(\u001B[38;5;124mf\u001B[39m\u001B[38;5;124m\"\u001B[39m\u001B[38;5;124mActivity \u001B[39m\u001B[38;5;132;01m{\u001B[39;00mactivity\u001B[38;5;241m.\u001B[39mid\u001B[38;5;132;01m}\u001B[39;00m\u001B[38;5;124m has invalid output format: \u001B[39m\u001B[38;5;132;01m{\u001B[39;00merr\u001B[38;5;132;01m}\u001B[39;00m\u001B[38;5;124m\"\u001B[39m)\n\u001B[1;32m    212\u001B[0m activity_dict \u001B[38;5;241m=\u001B[39m asdict(activity)\n\u001B[1;32m    213\u001B[0m \u001B[38;5;28;01mif\u001B[39;00m output \u001B[38;5;241m:=\u001B[39m activity_dict\u001B[38;5;241m.\u001B[39mget(\u001B[38;5;124m\"\u001B[39m\u001B[38;5;124moutput\u001B[39m\u001B[38;5;124m\"\u001B[39m):\n",
      "\u001B[0;31mValueError\u001B[0m: Activity ExperimentActivityId(database=None, code='ed3da88fc23311ee183e9ffd376de89b', name='electricity production, wind, 1-3MW turbine, onshore', location=None, unit=None, alias=None) has invalid output format: 2 validation errors for ExperimentActivityData\noutput\n  instance of ActivityOutput, tuple or dict expected (type=type_error.dataclass; class_name=ActivityOutput)\noutput\n  value is not a valid tuple (type=type_error.tuple)"
     ]
    }
   ],
   "source": [
    "exp = Experiment(raw_data)"
   ],
   "metadata": {
    "collapsed": false,
    "ExecuteTime": {
     "end_time": "2023-08-03T13:48:42.644871234Z",
     "start_time": "2023-08-03T13:48:41.987836340Z"
    }
   }
  },
  {
   "cell_type": "markdown",
   "source": [
    "## Run the experiment for the 3rd time\n",
    "This time will likely take some more time since we need to run 2 scenarios. "
   ],
   "metadata": {
    "collapsed": false
   }
  },
  {
   "cell_type": "code",
   "execution_count": 28,
   "outputs": [
    {
     "name": "stdout",
     "output_type": "stream",
     "text": [
      "2023-08-03 15:48:58,892 - bw2calc - INFO - Initialized LCA object. Demand: {25415: 1, 15150: 1, 25751: 1, 25926: 1, 13409: 1, 11123: 1}, data_objs: [<bw_processing.datapackage.Datapackage object at 0x7f8dacd05810>, <bw_processing.datapackage.Datapackage object at 0x7f8dacd075d0>, <bw_processing.datapackage.Datapackage object at 0x7f8e07288ed0>, <bw_processing.datapackage.Datapackage object at 0x7f8dad132590>, <bw_processing.datapackage.Datapackage object at 0x7f8dacc93e50>, <bw_processing.datapackage.Datapackage object at 0x7f8daccd8550>, <bw_processing.datapackage.Datapackage object at 0x7f8dacc9d890>, <bw_processing.datapackage.Datapackage object at 0x7f8dad135a50>]\n",
      "2023-08-03 15:48:58,893 - bw2calc - INFO - {'message': 'Started MultiLCA calculation', 'methods': [('EDIP 2003 no LT', 'ecotoxicity no LT', 'acute, in water no LT'), ('Ecological Scarcity 2021 no LT', 'water use no LT', 'water resources, evaporated no LT')], 'functional units': [[{'database': 'cutoff_3.9.1_default', 'code': '0d48975a3766c13e68cedeb6c24f6f74', 'amount': 3.0}], [{'database': 'cutoff_3.9.1_default', 'code': 'ed3da88fc23311ee183e9ffd376de89b', 'amount': 1.0}], [{'database': 'cutoff_3.9.1_default', 'code': '6ebfe52dc3ef5b4d35bb603b03559023', 'amount': 1.0}], [{'database': 'cutoff_3.9.1_default', 'code': '72cc067e1f4093c2e4c6ac9bdc93d844', 'amount': 1.0}], [{'database': 'cutoff_3.9.1_default', 'code': 'f2700b2ffcb6b32143a6f95d9cca1721', 'amount': 1.0}], [{'database': 'cutoff_3.9.1_default', 'code': '19040cdacdbf038e2f6ad59814f7a9ed', 'amount': 1.0}]]}\n",
      "2023-08-03 15:49:09,158 - bw2calc - INFO - Switched LCIA method. data_objs: [<bw_processing.datapackage.Datapackage object at 0x7f8dacc60d90>]\n",
      "2023-08-03 15:49:09,167 - bw2calc - INFO - Switched LCIA method. data_objs: [<bw_processing.datapackage.Datapackage object at 0x7f8dacc82750>]\n"
     ]
    }
   ],
   "source": [
    "_ = exp.run()"
   ],
   "metadata": {
    "collapsed": false,
    "ExecuteTime": {
     "end_time": "2023-08-03T13:49:56.368371517Z",
     "start_time": "2023-08-03T13:48:57.375145677Z"
    }
   }
  },
  {
   "cell_type": "code",
   "execution_count": 29,
   "outputs": [
    {
     "data": {
      "text/plain": "   root technology                                           activity  \\\n0  root                                                                 \n1             wind                                                      \n2                   electricity production, wind, >3MW turbine, on...   \n3                   electricity production, wind, 1-3MW turbine, o...   \n4                   electricity production, wind, 1-3MW turbine, o...   \n5                   electricity production, wind, <1MW turbine, on...   \n6            solar                                                      \n7                   electricity production, solar tower power plan...   \n8                   electricity production, solar thermal paraboli...   \n\n            unit  amount  \\\n0  kilowatt_hour     8.0   \n1  kilowatt_hour     6.0   \n2  kilowatt_hour     3.0   \n3  kilowatt_hour     1.0   \n4  kilowatt_hour     1.0   \n5  kilowatt_hour     1.0   \n6  kilowatt_hour     2.0   \n7  kilowatt_hour     1.0   \n8  kilowatt_hour     1.0   \n\n   EDIP 2003 no LT_ecotoxicity no LT_acute, in water no LT  \\\n0                                          99.057924         \n1                                          58.691409         \n2                                          24.671385         \n3                                           1.523040         \n4                                           1.951144         \n5                                           1.200136         \n6                                           7.347207         \n7                                           1.277954         \n8                                           2.395649         \n\n   Ecological Scarcity 2021 no LT_water use no LT_water resources, evaporated no LT  \n0                                           4.889571                                 \n1                                           2.342389                                 \n2                                           0.681387                                 \n3                                           0.134982                                 \n4                                           0.186142                                 \n5                                           0.168683                                 \n6                                           0.917324                                 \n7                                           0.207914                                 \n8                                           0.250748                                 ",
      "text/html": "<div>\n<style scoped>\n    .dataframe tbody tr th:only-of-type {\n        vertical-align: middle;\n    }\n\n    .dataframe tbody tr th {\n        vertical-align: top;\n    }\n\n    .dataframe thead th {\n        text-align: right;\n    }\n</style>\n<table border=\"1\" class=\"dataframe\">\n  <thead>\n    <tr style=\"text-align: right;\">\n      <th></th>\n      <th>root</th>\n      <th>technology</th>\n      <th>activity</th>\n      <th>unit</th>\n      <th>amount</th>\n      <th>EDIP 2003 no LT_ecotoxicity no LT_acute, in water no LT</th>\n      <th>Ecological Scarcity 2021 no LT_water use no LT_water resources, evaporated no LT</th>\n    </tr>\n  </thead>\n  <tbody>\n    <tr>\n      <th>0</th>\n      <td>root</td>\n      <td></td>\n      <td></td>\n      <td>kilowatt_hour</td>\n      <td>8.0</td>\n      <td>99.057924</td>\n      <td>4.889571</td>\n    </tr>\n    <tr>\n      <th>1</th>\n      <td></td>\n      <td>wind</td>\n      <td></td>\n      <td>kilowatt_hour</td>\n      <td>6.0</td>\n      <td>58.691409</td>\n      <td>2.342389</td>\n    </tr>\n    <tr>\n      <th>2</th>\n      <td></td>\n      <td></td>\n      <td>electricity production, wind, &gt;3MW turbine, on...</td>\n      <td>kilowatt_hour</td>\n      <td>3.0</td>\n      <td>24.671385</td>\n      <td>0.681387</td>\n    </tr>\n    <tr>\n      <th>3</th>\n      <td></td>\n      <td></td>\n      <td>electricity production, wind, 1-3MW turbine, o...</td>\n      <td>kilowatt_hour</td>\n      <td>1.0</td>\n      <td>1.523040</td>\n      <td>0.134982</td>\n    </tr>\n    <tr>\n      <th>4</th>\n      <td></td>\n      <td></td>\n      <td>electricity production, wind, 1-3MW turbine, o...</td>\n      <td>kilowatt_hour</td>\n      <td>1.0</td>\n      <td>1.951144</td>\n      <td>0.186142</td>\n    </tr>\n    <tr>\n      <th>5</th>\n      <td></td>\n      <td></td>\n      <td>electricity production, wind, &lt;1MW turbine, on...</td>\n      <td>kilowatt_hour</td>\n      <td>1.0</td>\n      <td>1.200136</td>\n      <td>0.168683</td>\n    </tr>\n    <tr>\n      <th>6</th>\n      <td></td>\n      <td>solar</td>\n      <td></td>\n      <td>kilowatt_hour</td>\n      <td>2.0</td>\n      <td>7.347207</td>\n      <td>0.917324</td>\n    </tr>\n    <tr>\n      <th>7</th>\n      <td></td>\n      <td></td>\n      <td>electricity production, solar tower power plan...</td>\n      <td>kilowatt_hour</td>\n      <td>1.0</td>\n      <td>1.277954</td>\n      <td>0.207914</td>\n    </tr>\n    <tr>\n      <th>8</th>\n      <td></td>\n      <td></td>\n      <td>electricity production, solar thermal paraboli...</td>\n      <td>kilowatt_hour</td>\n      <td>1.0</td>\n      <td>2.395649</td>\n      <td>0.250748</td>\n    </tr>\n  </tbody>\n</table>\n</div>"
     },
     "execution_count": 29,
     "metadata": {},
     "output_type": "execute_result"
    }
   ],
   "source": [
    "exp.scenarios[0].results_to_csv(\"s1.csv\", level_names=[\"root\", \"technology\", \"activity\"])\n",
    "pd.read_csv(\"s1.csv\").fillna('')"
   ],
   "metadata": {
    "collapsed": false,
    "ExecuteTime": {
     "end_time": "2023-08-03T13:49:56.445345983Z",
     "start_time": "2023-08-03T13:49:56.367625039Z"
    }
   }
  },
  {
   "cell_type": "code",
   "execution_count": 30,
   "outputs": [
    {
     "data": {
      "text/plain": "[{'activities': {'electricity production, wind, >3MW turbine, onshore': ['kilowatt_hour',\n    5],\n   'electricity production, wind, 1-3MW turbine, onshore': ['kilowatt_hour',\n    2],\n   'electricity production, wind, 1-3MW turbine, offshore': ['kilowatt_hour',\n    6],\n   'electricity production, wind, <1MW turbine, onshore': ['kilowatt_hour',\n    10],\n   'electricity production, solar tower power plant, 20 MW': ['kilowatt_hour',\n    7],\n   'electricity production, solar thermal parabolic trough, 50 MW': ['kilowatt_hour',\n    6]}},\n {'activities': {'electricity production, wind, >3MW turbine, onshore': ['kilowatt_hour',\n    7],\n   'electricity production, wind, 1-3MW turbine, onshore': ['kilowatt_hour',\n    7],\n   'electricity production, wind, 1-3MW turbine, offshore': ['kilowatt_hour',\n    8],\n   'electricity production, wind, <1MW turbine, onshore': ['kilowatt_hour', 4],\n   'electricity production, solar tower power plant, 20 MW': ['kilowatt_hour',\n    2],\n   'electricity production, solar thermal parabolic trough, 50 MW': ['kilowatt_hour',\n    8]}}]"
     },
     "execution_count": 30,
     "metadata": {},
     "output_type": "execute_result"
    }
   ],
   "source": [
    "raw_data[\"scenarios\"]"
   ],
   "metadata": {
    "collapsed": false,
    "ExecuteTime": {
     "end_time": "2023-08-03T13:49:56.496050600Z",
     "start_time": "2023-08-03T13:49:56.440530243Z"
    }
   }
  },
  {
   "cell_type": "markdown",
   "source": [
    "## Inspecting the results\n",
    "\n",
    "We can now do some transformations of the results. For that is useful to know how to retrieve is singular result from a scenario result. \n",
    "The result of a scenario is a tree structure, where the nodes `name`s are activity aliases or names defined in the hierarchy. With the function of BasicTreeNode.find_child_by_name we can directly access the result of a node.    \n",
    "\n",
    "Following we transform the results into a dictionary of the following structure:\n",
    "```json\n",
    "{\n",
    "    \"activity_alias\": {\n",
    "        \"method_alias\": \"[list of results for each scenario]\"\n",
    "    }\n",
    "}\n",
    "```"
   ],
   "metadata": {
    "collapsed": false
   }
  },
  {
   "cell_type": "code",
   "execution_count": 31,
   "outputs": [
    {
     "data": {
      "text/plain": "{'electricity production, wind, >3MW turbine, onshore': {'EDIP 2003 no LT_ecotoxicity no LT_acute, in water no LT': [24.671384740510995],\n  'Ecological Scarcity 2021 no LT_water use no LT_water resources, evaporated no LT': [0.6813872525495772]},\n 'electricity production, wind, 1-3MW turbine, onshore': {'EDIP 2003 no LT_ecotoxicity no LT_acute, in water no LT': [1.5230402743802678],\n  'Ecological Scarcity 2021 no LT_water use no LT_water resources, evaporated no LT': [0.13498243649342634]},\n 'electricity production, wind, 1-3MW turbine, offshore': {'EDIP 2003 no LT_ecotoxicity no LT_acute, in water no LT': [1.9511435306496767],\n  'Ecological Scarcity 2021 no LT_water use no LT_water resources, evaporated no LT': [0.18614175911721723]},\n 'electricity production, wind, <1MW turbine, onshore': {'EDIP 2003 no LT_ecotoxicity no LT_acute, in water no LT': [1.2001359529930862],\n  'Ecological Scarcity 2021 no LT_water use no LT_water resources, evaporated no LT': [0.1686832940290786]},\n 'electricity production, solar tower power plant, 20 MW': {'EDIP 2003 no LT_ecotoxicity no LT_acute, in water no LT': [1.2779542257885095],\n  'Ecological Scarcity 2021 no LT_water use no LT_water resources, evaporated no LT': [0.2079138947386702]},\n 'electricity production, solar thermal parabolic trough, 50 MW': {'EDIP 2003 no LT_ecotoxicity no LT_acute, in water no LT': [2.395649314845042],\n  'Ecological Scarcity 2021 no LT_water use no LT_water resources, evaporated no LT': [0.25074821512293355]}}"
     },
     "execution_count": 31,
     "metadata": {},
     "output_type": "execute_result"
    }
   ],
   "source": [
    "all_results = {}\n",
    "for activity in activitiy_aliases:\n",
    "    all_results[activity] = {method_alias : [] for method_alias in exp.get_all_method_aliases()}\n",
    "    for scenario in exp.scenarios:\n",
    "        activity_result = scenario.result_tree.find_child_by_name(activity)\n",
    "        for method, score in activity_result.data.results.items():\n",
    "            all_results[activity][method].append(score)\n",
    "            \n",
    "all_results"
   ],
   "metadata": {
    "collapsed": false,
    "ExecuteTime": {
     "end_time": "2023-08-03T13:49:56.614150085Z",
     "start_time": "2023-08-03T13:49:56.488664145Z"
    }
   }
  },
  {
   "cell_type": "code",
   "execution_count": null,
   "outputs": [],
   "source": [],
   "metadata": {
    "collapsed": false
   }
  }
 ],
 "metadata": {
  "kernelspec": {
   "display_name": "Python 3 (ipykernel)",
   "language": "python",
   "name": "python3"
  },
  "language_info": {
   "codemirror_mode": {
    "name": "ipython",
    "version": 3
   },
   "file_extension": ".py",
   "mimetype": "text/x-python",
   "name": "python",
   "nbconvert_exporter": "python",
   "pygments_lexer": "ipython3",
   "version": "3.11.4"
  }
 },
 "nbformat": 4,
 "nbformat_minor": 1
}
