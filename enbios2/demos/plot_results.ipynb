{
 "cells": [
  {
   "cell_type": "code",
   "execution_count": null,
   "id": "initial_id",
   "metadata": {
    "collapsed": true
   },
   "outputs": [],
   "source": [
    "import json\n",
    "import pickle\n",
    "\n",
    "from enbios2.base.experiment import Experiment\n",
    "from enbios2.generic.files import DataPath"
   ]
  },
  {
   "cell_type": "code",
   "execution_count": null,
   "outputs": [],
   "source": [
    "# Open a pickled experiment object. \n",
    "exp: Experiment = pickle.load(DataPath(\"test_data/exp.pkl\").open(\"rb\"))"
   ],
   "metadata": {
    "collapsed": false
   },
   "id": "366b92c6299d7c3b"
  },
  {
   "cell_type": "code",
   "execution_count": null,
   "outputs": [],
   "source": [
    "from enbios2.analyse.util import ResultsSelector\n",
    "rs = ResultsSelector.get_result_selector(exp)\n",
    "rs.base_df"
   ],
   "metadata": {
    "collapsed": false
   },
   "id": "242f58f06b0731b9"
  },
  {
   "cell_type": "code",
   "execution_count": null,
   "outputs": [],
   "source": [
    "from enbios2.plotting.plot_experiment import one_axe_scatter_plot\n",
    "\n",
    "one_axe_scatter_plot(exp)"
   ],
   "metadata": {
    "collapsed": false
   },
   "id": "1b00bddd90fd4f1e"
  },
  {
   "cell_type": "code",
   "execution_count": null,
   "outputs": [],
   "source": [
    "# Let's introspect the experiment \n",
    "print(exp.info())\n",
    "print(json.dumps(exp.hierarchy_root.as_dict(remove_empty_childlist=True), indent=2))"
   ],
   "metadata": {
    "collapsed": false
   },
   "id": "69acfd71274157ce"
  },
  {
   "cell_type": "code",
   "execution_count": null,
   "outputs": [],
   "source": [
    "from enbios2.plotting.plot_experiment import bar_plot\n",
    "\n",
    "bar_plot(exp);"
   ],
   "metadata": {
    "collapsed": false
   },
   "id": "a3d2144bda343e91"
  },
  {
   "cell_type": "markdown",
   "source": [
    "These are a lot of plots. Let's just plot the first two methods. For the most plotting functions we can pass two lists, one for the scenarios and one for the methods. All items of these lists must be aliases of the corresponding collection. We can these aliases with `Experiment.scenario_aliases` and  `Experiment.method_aliases`  "
   ],
   "metadata": {
    "collapsed": false
   },
   "id": "2a08dc59b69276e2"
  },
  {
   "cell_type": "code",
   "execution_count": null,
   "outputs": [],
   "source": [
    "# just plot the first method\n",
    "bar_plot(exp, methods=exp.method_aliases[:1]);"
   ],
   "metadata": {
    "collapsed": false
   },
   "id": "11d29a7bf0b3651c"
  },
  {
   "cell_type": "code",
   "execution_count": null,
   "outputs": [],
   "source": [
    "# just plot the first three scenarios for the first method.\n",
    "bar_plot(exp, scenarios=exp.scenario_aliases[:3], methods=exp.method_aliases[:1]);"
   ],
   "metadata": {
    "collapsed": false
   },
   "id": "9e415f2790f72f41"
  },
  {
   "cell_type": "markdown",
   "source": [
    "Next, we inspect the values of part of the hierarchy. We can do that with the 'stacked_bar_plot' method. Besides the selection of the scenarios and the methods, there are two ways to select which nodes in the hierarchy should be selected.\n",
    "By default, it selects all nodes on `level = 1`, which are all nodes just below the root. By passing a `level` parameter, we can select another level."
   ],
   "metadata": {
    "collapsed": false
   },
   "id": "c81f78a958d98b8b"
  },
  {
   "cell_type": "code",
   "execution_count": null,
   "outputs": [],
   "source": [
    "from enbios2.plotting.plot_experiment import stacked_bar_plot\n",
    "\n",
    "stacked_bar_plot(exp, methods=exp.method_aliases[:1]);"
   ],
   "metadata": {
    "collapsed": false
   },
   "id": "5684a3f682f78104"
  },
  {
   "cell_type": "code",
   "execution_count": null,
   "outputs": [],
   "source": [
    "stacked_bar_plot(exp, methods=exp.method_aliases[:1], level=2);"
   ],
   "metadata": {
    "collapsed": false
   },
   "id": "13f25bad227a83b7"
  },
  {
   "cell_type": "code",
   "execution_count": null,
   "outputs": [],
   "source": [
    "print(exp.activities_aliases)\n",
    "stacked_bar_plot(exp,\n",
    "                 methods=exp.method_aliases[:1],\n",
    "                 aliases=['electricity production, solar tower power plant, 20 MW',\n",
    "                          'electricity production, solar thermal parabolic trough, 50 MW']);"
   ],
   "metadata": {
    "collapsed": false
   },
   "id": "65c008204502d630"
  },
  {
   "cell_type": "markdown",
   "source": [
    "Next comes a starplot, which normalized the values into the range between the lowest and highest values for each method. Note that for the normalization all scenarios are considered, not just the ones that are selected for plotting. "
   ],
   "metadata": {
    "collapsed": false
   },
   "id": "c69000e3b57e7bcb"
  },
  {
   "cell_type": "code",
   "execution_count": null,
   "outputs": [],
   "source": [
    "from enbios2.plotting.plot_experiment import star_plot\n",
    "\n",
    "star_plot(exp, fill=True);"
   ],
   "metadata": {
    "collapsed": false
   },
   "id": "b0e61bfe96a3f1af"
  },
  {
   "cell_type": "code",
   "execution_count": null,
   "outputs": [],
   "source": [
    "star_plot(exp, scenarios=[exp.scenario_aliases[1]]);"
   ],
   "metadata": {
    "collapsed": false
   },
   "id": "868087243eb9ede6"
  },
  {
   "cell_type": "markdown",
   "source": [
    "A heatmap also normalizes the values. "
   ],
   "metadata": {
    "collapsed": false
   },
   "id": "13b8744b1a844edb"
  },
  {
   "cell_type": "code",
   "execution_count": null,
   "outputs": [],
   "source": [
    "from enbios2.plotting.plot_experiment import plot_heatmap\n",
    "\n",
    "plot_heatmap(exp);"
   ],
   "metadata": {
    "collapsed": false
   },
   "id": "413deb812315c889"
  },
  {
   "cell_type": "markdown",
   "source": [
    "Instead of using normalized, we can also pass specific values. For example can we compare the values to some baseline values. All plotting functions use a `ResultsSelector` class in the background for filtering the scenarios, methods or tree-nodes. It also has a function to compare the values to a baseline (`compare_to_baseline`), which should be a numpy array with the same length as the number of methods. The result can be passed to the plotting functions as `special_df`.  "
   ],
   "metadata": {
    "collapsed": false
   },
   "id": "a121ccaf92cf92bb"
  },
  {
   "cell_type": "code",
   "execution_count": null,
   "outputs": [],
   "source": [
    "from enbios2.analyse.util import ResultsSelector\n",
    "import numpy as np\n",
    "\n",
    "rs = ResultsSelector.get_result_selector(exp)\n",
    "\n",
    "df = rs.base_df\n",
    "df = rs.compare_to_baseline(np.array(df.min()[1:]))\n",
    "plot_heatmap(exp, special_df=df);"
   ],
   "metadata": {
    "collapsed": false
   },
   "id": "1d0265e12885cf1d"
  },
  {
   "cell_type": "markdown",
   "source": [
    "Finally, we have a rudiementary sankey plot. It is not very flexible yet, but it can be useful to get a quick overview of the flows."
   ],
   "metadata": {
    "collapsed": false
   },
   "id": "10c3fc3da2686101"
  },
  {
   "cell_type": "code",
   "execution_count": null,
   "outputs": [],
   "source": [
    "from enbios2.plotting.plot_experiment import plot_sankey\n",
    "\n",
    "plot_sankey(exp, \"Scenario 1\", exp.method_aliases[0])"
   ],
   "metadata": {
    "collapsed": false
   },
   "id": "2be748e9fa66936a"
  },
  {
   "cell_type": "code",
   "execution_count": null,
   "outputs": [],
   "source": [],
   "metadata": {
    "collapsed": false
   },
   "id": "7fdbd02fae486695"
  }
 ],
 "metadata": {
  "kernelspec": {
   "display_name": "Python 3",
   "language": "python",
   "name": "python3"
  },
  "language_info": {
   "codemirror_mode": {
    "name": "ipython",
    "version": 2
   },
   "file_extension": ".py",
   "mimetype": "text/x-python",
   "name": "python",
   "nbconvert_exporter": "python",
   "pygments_lexer": "ipython2",
   "version": "2.7.6"
  }
 },
 "nbformat": 4,
 "nbformat_minor": 5
}
