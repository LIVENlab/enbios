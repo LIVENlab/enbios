{
 "cells": [
  {
   "cell_type": "code",
   "execution_count": null,
   "id": "initial_id",
   "metadata": {
    "collapsed": true
   },
   "outputs": [],
   "source": [
    "from generic.files import DataPath\n",
    "from enbios2.base.experiment import Experiment\n",
    "\n",
    "PROJECT_NAME = \"ecoinvent_391\"\n",
    "DATABASE = \"ecoinvent_391_cutoff\"\n",
    "\n",
    "BASE_PATH = DataPath(\"test_data/experiment_separated/a\")"
   ]
  },
  {
   "cell_type": "code",
   "execution_count": null,
   "outputs": [],
   "source": [
    "raw_data = {\n",
    "    \"bw_project\": PROJECT_NAME,\n",
    "    \"bw_default_database\": DATABASE,\n",
    "    \"activities\": BASE_PATH / \"single_activity.json\",\n",
    "    \"methods\": BASE_PATH / \"methods.csv\",\n",
    "}\n",
    "experiment = Experiment(raw_data)\n",
    "experiment"
   ],
   "metadata": {
    "collapsed": false
   },
   "id": "c4323efc61aaa7fe"
  },
  {
   "cell_type": "code",
   "execution_count": null,
   "outputs": [],
   "source": [
    "raw_data = {\n",
    "    \"bw_project\": PROJECT_NAME,\n",
    "    \"bw_default_database\": DATABASE,\n",
    "    \"activities\": BASE_PATH / \"single_activity.json\",\n",
    "    \"methods\": BASE_PATH / \"methods.csv\",\n",
    "    \"hierarchy\": BASE_PATH / \"hierarchy.json\",\n",
    "}\n",
    "experiment = Experiment(raw_data)\n",
    "experiment"
   ],
   "metadata": {
    "collapsed": false
   },
   "id": "3ec3a07fd1f724e2"
  },
  {
   "cell_type": "code",
   "execution_count": null,
   "outputs": [],
   "source": [
    "raw_data = {\n",
    "    \"bw_project\": PROJECT_NAME,\n",
    "    \"bw_default_database\": DATABASE,\n",
    "    \"activities\": BASE_PATH / \"single_activity.json\",\n",
    "    \"methods\": BASE_PATH / \"methods.csv\",\n",
    "    \"hierarchy\": BASE_PATH / \"hierarchy.csv\",\n",
    "}\n",
    "experiment = Experiment(raw_data)\n",
    "experiment"
   ],
   "metadata": {
    "collapsed": false
   },
   "id": "b7f26c1c80066b22"
  },
  {
   "cell_type": "code",
   "execution_count": null,
   "outputs": [],
   "source": [
    "experiment.hierarchy_root.children[0]"
   ],
   "metadata": {
    "collapsed": false
   },
   "id": "62b0f32fcfc043f3"
  },
  {
   "cell_type": "code",
   "execution_count": null,
   "outputs": [],
   "source": [
    "experiment.hierarchy_root.as_dict()"
   ],
   "metadata": {
    "collapsed": false
   },
   "id": "f807b1c82d0a644b"
  },
  {
   "cell_type": "code",
   "execution_count": null,
   "outputs": [],
   "source": [],
   "metadata": {
    "collapsed": false
   },
   "id": "aeb1053d60036f24"
  }
 ],
 "metadata": {
  "kernelspec": {
   "display_name": "Python 3",
   "language": "python",
   "name": "python3"
  },
  "language_info": {
   "codemirror_mode": {
    "name": "ipython",
    "version": 2
   },
   "file_extension": ".py",
   "mimetype": "text/x-python",
   "name": "python",
   "nbconvert_exporter": "python",
   "pygments_lexer": "ipython2",
   "version": "2.7.6"
  }
 },
 "nbformat": 4,
 "nbformat_minor": 5
}
