{
 "cells": [
  {
   "cell_type": "code",
   "execution_count": 10,
   "id": "initial_id",
   "metadata": {
    "collapsed": true,
    "ExecuteTime": {
     "end_time": "2023-09-20T08:05:58.034243080Z",
     "start_time": "2023-09-20T08:05:57.986024997Z"
    }
   },
   "outputs": [],
   "source": [
    "from generic.files import DataPath\n",
    "from models.experiment_models import ExperimentDataIO\n",
    "\n",
    "PROJECT_NAME = \"ecoinvent_391\"\n",
    "DATABASE = \"cutoff_3.9.1_default\"\n",
    "\n",
    "BASE_PATH = DataPath(\"test_data/experiment_separated/a\")"
   ]
  },
  {
   "cell_type": "code",
   "execution_count": 20,
   "outputs": [],
   "source": [
    "raw_data = {\n",
    "    \"bw_project\": PROJECT_NAME,\n",
    "    \"bw_default_database\": DATABASE,\n",
    "    \"activities\": BASE_PATH / \"single_activity.json\",\n",
    "    \"methods\": BASE_PATH / \"methods.csv\",\n",
    "}\n",
    "exp_data = ExperimentDataIO(**raw_data)"
   ],
   "metadata": {
    "collapsed": false,
    "ExecuteTime": {
     "end_time": "2023-09-20T08:10:55.916495316Z",
     "start_time": "2023-09-20T08:10:55.904661369Z"
    }
   },
   "id": "c4323efc61aaa7fe"
  },
  {
   "cell_type": "code",
   "execution_count": 21,
   "outputs": [
    {
     "data": {
      "text/plain": "ExperimentDataIO(bw_project='ecoinvent_391', bw_default_database='cutoff_3.9.1_default', activities=DataPath('/home/ram/projects/enbios2/data/test_data/experiment_separated/a/single_activity.json'), methods=DataPath('/home/ram/projects/enbios2/data/test_data/experiment_separated/a/methods.csv'), hierarchy=None, scenarios=None, config=ExperimentConfig(warn_default_demand=True, include_bw_activity_in_nodes=True, store_raw_results=False, use_k_bw_distributions=1, base_directory=None, debug_test_is_valid=True, debug_test_replace_bw_config=True, debug_test_expected_error_code=None, debug_test_run=False, note=None))"
     },
     "execution_count": 21,
     "metadata": {},
     "output_type": "execute_result"
    }
   ],
   "source": [
    "exp_data"
   ],
   "metadata": {
    "collapsed": false,
    "ExecuteTime": {
     "end_time": "2023-09-20T08:10:56.199206854Z",
     "start_time": "2023-09-20T08:10:56.189697235Z"
    }
   },
   "id": "74b0977bcb7b8cba"
  },
  {
   "cell_type": "code",
   "execution_count": 22,
   "outputs": [
    {
     "name": "stdout",
     "output_type": "stream",
     "text": [
      "Excluding 0 filtered results\n",
      "Excluding 104 filtered results\n"
     ]
    },
    {
     "data": {
      "text/plain": "Experiment: (call info() for details)\nActivities: 1\nMethods: 2\nHierarchy (depth): 2\nScenarios: 1"
     },
     "execution_count": 22,
     "metadata": {},
     "output_type": "execute_result"
    }
   ],
   "source": [
    "from base.experiment_io import read_experiment_io\n",
    "\n",
    "read_experiment_io(exp_data)"
   ],
   "metadata": {
    "collapsed": false,
    "ExecuteTime": {
     "end_time": "2023-09-20T08:10:56.871111223Z",
     "start_time": "2023-09-20T08:10:56.452008607Z"
    }
   },
   "id": "3ec3a07fd1f724e2"
  },
  {
   "cell_type": "code",
   "execution_count": null,
   "outputs": [],
   "source": [],
   "metadata": {
    "collapsed": false
   },
   "id": "b7f26c1c80066b22"
  }
 ],
 "metadata": {
  "kernelspec": {
   "display_name": "Python 3",
   "language": "python",
   "name": "python3"
  },
  "language_info": {
   "codemirror_mode": {
    "name": "ipython",
    "version": 2
   },
   "file_extension": ".py",
   "mimetype": "text/x-python",
   "name": "python",
   "nbconvert_exporter": "python",
   "pygments_lexer": "ipython2",
   "version": "2.7.6"
  }
 },
 "nbformat": 4,
 "nbformat_minor": 5
}
