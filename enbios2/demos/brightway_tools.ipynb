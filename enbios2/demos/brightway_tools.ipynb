{
 "cells": [
  {
   "cell_type": "code",
   "execution_count": null,
   "outputs": [],
   "source": [
    "%load_ext autoreload\n",
    "%autoreload 2"
   ],
   "metadata": {
    "collapsed": false
   },
   "id": "5532348f32e10f86"
  },
  {
   "cell_type": "code",
   "execution_count": null,
   "outputs": [],
   "source": [
    "from enbios2.bw2.util import report\n",
    "\n",
    "report()"
   ],
   "metadata": {
    "collapsed": false
   },
   "id": "initial_id"
  },
  {
   "cell_type": "code",
   "execution_count": null,
   "outputs": [],
   "source": [
    "from enbios2.ecoinvent import get_ecoinvent_dataset_index\n",
    "\n",
    "get_ecoinvent_dataset_index()"
   ],
   "metadata": {
    "collapsed": false
   },
   "id": "f328c9298797d303"
  },
  {
   "cell_type": "code",
   "execution_count": null,
   "outputs": [],
   "source": [
    "from enbios2.ecoinvent.ecoinvent_index import analyze_directory\n",
    "\n",
    "datasets = analyze_directory()\n",
    "datasets"
   ],
   "metadata": {
    "collapsed": false
   },
   "id": "3d049163c3b991e4"
  },
  {
   "cell_type": "code",
   "execution_count": null,
   "outputs": [],
   "source": [
    "from enbios2.ecoinvent.ecoinvent_index import auto_import\n",
    "\n",
    "auto_import(datasets[0])"
   ],
   "metadata": {
    "collapsed": false
   },
   "id": "63adcf59f3042606"
  },
  {
   "cell_type": "code",
   "execution_count": null,
   "outputs": [],
   "source": [
    "get_ecoinvent_dataset_index()"
   ],
   "metadata": {
    "collapsed": false
   },
   "id": "66edbcd30efdd3ec"
  },
  {
   "cell_type": "code",
   "execution_count": null,
   "outputs": [],
   "source": [
    "report()"
   ],
   "metadata": {
    "collapsed": false
   },
   "id": "3b04cf9b009cabf7"
  },
  {
   "cell_type": "code",
   "execution_count": null,
   "outputs": [],
   "source": [
    "from enbios2.bw2.bw_autoimporter import setup_bw_project\n",
    "from enbios2.models.bw_project_models import BWProjectDatabase, BWProject\n",
    "\n",
    "setup_bw_project(BWProject(\n",
    "    project_name=\"ecoinvent_391\",\n",
    "    databases=[\n",
    "        BWProjectDatabase(\n",
    "            name=\"ecoinvent_391_cutoff\",\n",
    "            source=\"/home/ram/projects/enbios2/data/ecoinvent/ecoinvent 3.9.1_cutoff_ecoSpold02/datasets\",\n",
    "            format=\"Ecospold2\"\n",
    "        )\n",
    "    ]\n",
    "))\n"
   ],
   "metadata": {
    "collapsed": false
   },
   "id": "a4bd22364d575bb6"
  },
  {
   "cell_type": "code",
   "execution_count": null,
   "outputs": [],
   "source": [
    "from enbios2.bw2.util import report\n",
    "\n",
    "report()"
   ],
   "metadata": {
    "collapsed": false
   },
   "id": "f49bd0a71458be5c"
  },
  {
   "cell_type": "code",
   "execution_count": null,
   "outputs": [],
   "source": [
    "from enbios2.base.experiment import Experiment\n",
    "\n",
    "TEST_BW_PROJECT = \"ecoinvent_391\"\n",
    "TEST_BW_DATABASE = \"ecoinvent_391_cutoff\"\n",
    "\n",
    "experiment = {\n",
    "    \"bw_project\": TEST_BW_PROJECT,\n",
    "    \"bw_default_database\": TEST_BW_DATABASE,\n",
    "    \"activities\": {\n",
    "        \"single_activity\": {\n",
    "            \"id\": {\n",
    "                \"name\": \"heat and power co-generation, wood chips, 6667 kW, state-of-the-art 2014\",\n",
    "                \"unit\": \"kilowatt hour\",\n",
    "                \"location\": \"DK\"\n",
    "            },\n",
    "            \"output\": [\n",
    "                \"kWh\",\n",
    "                1\n",
    "            ]\n",
    "        },\n",
    "        \"2nd\": {\n",
    "            \"id\": {\n",
    "                \"name\": \"concentrated solar power plant construction, solar tower power plant, 20 MW\",\n",
    "                \"code\": \"19978cf531d88e55aed33574e1087d78\",\n",
    "            },\n",
    "            \"output\": [\n",
    "                \"unit\",\n",
    "                1\n",
    "            ]\n",
    "        }\n",
    "    },\n",
    "    \"methods\": [\n",
    "        {\n",
    "            \"id\": ['EDIP 2003 no LT', 'non-renewable resources no LT', 'zinc no LT']\n",
    "        }\n",
    "    ],\n",
    "    \"hierarchy\": {\n",
    "        \"energy\": [\n",
    "            \"single_activity\",\n",
    "            \"2nd\"\n",
    "        ]\n",
    "    },\n",
    "    \"scenarios\": [\n",
    "        {\n",
    "            \"activities\": {\"single_activity\": [\"kWh\", 3]}\n",
    "        },\n",
    "        {\n",
    "            \"activities\": {\"single_activity\": [\"kWh\", 4]}\n",
    "        },\n",
    "        {\n",
    "            \"activities\": {\"single_activity\": [\"kWh\", 5]}\n",
    "        }\n",
    "    ]\n",
    "}\n",
    "\n",
    "exp = Experiment(experiment)"
   ],
   "metadata": {
    "collapsed": false
   },
   "id": "4e762273be725fe8"
  },
  {
   "cell_type": "code",
   "execution_count": null,
   "outputs": [],
   "source": [],
   "metadata": {
    "collapsed": false
   },
   "id": "dfca96575477f3a8"
  }
 ],
 "metadata": {
  "kernelspec": {
   "display_name": "Python 3",
   "language": "python",
   "name": "python3"
  },
  "language_info": {
   "codemirror_mode": {
    "name": "ipython",
    "version": 2
   },
   "file_extension": ".py",
   "mimetype": "text/x-python",
   "name": "python",
   "nbconvert_exporter": "python",
   "pygments_lexer": "ipython2",
   "version": "2.7.6"
  }
 },
 "nbformat": 4,
 "nbformat_minor": 5
}
