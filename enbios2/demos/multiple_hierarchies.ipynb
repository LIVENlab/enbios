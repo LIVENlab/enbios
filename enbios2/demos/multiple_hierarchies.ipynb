{
 "cells": [
  {
   "cell_type": "code",
   "execution_count": 1,
   "id": "initial_id",
   "metadata": {
    "collapsed": true,
    "ExecuteTime": {
     "end_time": "2023-09-18T15:53:08.561056025Z",
     "start_time": "2023-09-18T15:52:58.202710887Z"
    }
   },
   "outputs": [],
   "source": [
    "import json\n",
    "import pickle\n",
    "\n",
    "from enbios2.base.experiment import Experiment\n",
    "from enbios2.generic.files import DataPath"
   ]
  },
  {
   "cell_type": "code",
   "execution_count": 2,
   "outputs": [],
   "source": [
    "# Open a pickled experiment object. \n",
    "exp: Experiment = pickle.load(DataPath(\"test_data/exp.pkl\").open(\"rb\"))"
   ],
   "metadata": {
    "collapsed": false,
    "ExecuteTime": {
     "end_time": "2023-09-18T15:53:08.587869084Z",
     "start_time": "2023-09-18T15:53:08.557632416Z"
    }
   },
   "id": "664eeffc63230f08"
  },
  {
   "cell_type": "code",
   "execution_count": 3,
   "outputs": [
    {
     "data": {
      "text/plain": "['electricity production, wind, >3MW turbine, onshore',\n 'electricity production, wind, 1-3MW turbine, onshore',\n 'electricity production, wind, 1-3MW turbine, offshore',\n 'electricity production, wind, <1MW turbine, onshore',\n 'electricity production, solar tower power plant, 20 MW',\n 'electricity production, solar thermal parabolic trough, 50 MW']"
     },
     "execution_count": 3,
     "metadata": {},
     "output_type": "execute_result"
    }
   ],
   "source": [
    "exp.activities_aliases"
   ],
   "metadata": {
    "collapsed": false,
    "ExecuteTime": {
     "end_time": "2023-09-18T15:53:08.664141646Z",
     "start_time": "2023-09-18T15:53:08.592030298Z"
    }
   },
   "id": "459a94523b6f2b36"
  },
  {
   "cell_type": "code",
   "execution_count": 8,
   "outputs": [],
   "source": [
    "alt_hierarchies = exp.scenarios[1].rearrange_results({\n",
    "    \"wind\": {\n",
    "        \"small\": [\n",
    "            'electricity production, wind, <1MW turbine, onshore'\n",
    "        ],\n",
    "        \"medium\": [\n",
    "            'electricity production, wind, 1-3MW turbine, onshore',\n",
    "            'electricity production, wind, 1-3MW turbine, offshore'\n",
    "        ],\n",
    "        \"large\": [\n",
    "            'electricity production, wind, >3MW turbine, onshore'\n",
    "        ]\n",
    "    },\n",
    "    \"solar-very-large\": [\n",
    "        'electricity production, solar tower power plant, 20 MW',\n",
    "        'electricity production, solar thermal parabolic trough, 50 MW']\n",
    "})"
   ],
   "metadata": {
    "collapsed": false,
    "ExecuteTime": {
     "end_time": "2023-09-18T15:54:36.455380763Z",
     "start_time": "2023-09-18T15:54:36.359066743Z"
    }
   },
   "id": "100295acd9c780b6"
  },
  {
   "cell_type": "code",
   "execution_count": 9,
   "outputs": [
    {
     "data": {
      "text/plain": "{'alias': 'root',\n 'results': {'ReCiPe 2016 v1.03, endpoint (E) no LT_human health no LT_climate change: human health no LT': 7.879581824987034e-06,\n  'EDIP 2003_human toxicity_via air': 1831191.7490824037,\n  'EF v3.1 no LT_human toxicity: carcinogenic no LT_comparative toxic unit for human (CTUh) no LT': 2.3484506222004662e-09,\n  'ReCiPe 2016 v1.03, endpoint (H) no LT_human health no LT_ozone depletion no LT': 1.206523606445391e-10},\n 'output': {'unit': 'kilowatt_hour', 'amount': 24.0},\n 'children': [{'alias': 'wind',\n   'results': {'ReCiPe 2016 v1.03, endpoint (E) no LT_human health no LT_climate change: human health no LT': 3.829116347263937e-06,\n    'EDIP 2003_human toxicity_via air': 1051085.8831735682,\n    'EF v3.1 no LT_human toxicity: carcinogenic no LT_comparative toxic unit for human (CTUh) no LT': 1.7685170906700246e-09,\n    'ReCiPe 2016 v1.03, endpoint (H) no LT_human health no LT_ozone depletion no LT': 6.245971092678799e-11},\n   'output': {'unit': 'kilowatt_hour', 'amount': 17.0},\n   'children': [{'alias': 'small',\n     'results': {'ReCiPe 2016 v1.03, endpoint (E) no LT_human health no LT_climate change: human health no LT': 1.6286414560437695e-07,\n      'EDIP 2003_human toxicity_via air': 26641.079308277105,\n      'EF v3.1 no LT_human toxicity: carcinogenic no LT_comparative toxic unit for human (CTUh) no LT': 1.0922256276965721e-10,\n      'ReCiPe 2016 v1.03, endpoint (H) no LT_human health no LT_ozone depletion no LT': 2.6845969186772813e-12},\n     'output': {'unit': 'kilowatt_hour', 'amount': 1.0},\n     'children': [{'alias': 'electricity production, wind, <1MW turbine, onshore',\n       'results': {'ReCiPe 2016 v1.03, endpoint (E) no LT_human health no LT_climate change: human health no LT': 1.6286414560437695e-07,\n        'EDIP 2003_human toxicity_via air': 26641.079308277105,\n        'EF v3.1 no LT_human toxicity: carcinogenic no LT_comparative toxic unit for human (CTUh) no LT': 1.0922256276965721e-10,\n        'ReCiPe 2016 v1.03, endpoint (H) no LT_human health no LT_ozone depletion no LT': 2.6845969186772813e-12},\n       'output': {'unit': 'kilowatt_hour', 'amount': 1.0},\n       'bw_activity': '72cc067e1f4093c2e4c6ac9bdc93d844'}]},\n    {'alias': 'medium',\n     'results': {'ReCiPe 2016 v1.03, endpoint (E) no LT_human health no LT_climate change: human health no LT': 1.42027021029119e-06,\n      'EDIP 2003_human toxicity_via air': 232468.0814906456,\n      'EF v3.1 no LT_human toxicity: carcinogenic no LT_comparative toxic unit for human (CTUh) no LT': 7.18218402375376e-10,\n      'ReCiPe 2016 v1.03, endpoint (H) no LT_human health no LT_ozone depletion no LT': 2.2007468310701348e-11},\n     'output': {'unit': 'kilowatt_hour', 'amount': 8.0},\n     'children': [{'alias': 'electricity production, wind, 1-3MW turbine, onshore',\n       'results': {'ReCiPe 2016 v1.03, endpoint (E) no LT_human health no LT_climate change: human health no LT': 8.485319442351833e-07,\n        'EDIP 2003_human toxicity_via air': 139238.8489102109,\n        'EF v3.1 no LT_human toxicity: carcinogenic no LT_comparative toxic unit for human (CTUh) no LT': 3.871426983030142e-10,\n        'ReCiPe 2016 v1.03, endpoint (H) no LT_human health no LT_ozone depletion no LT': 1.1970200293389165e-11},\n       'output': {'unit': 'kilowatt_hour', 'amount': 5.0},\n       'bw_activity': 'ed3da88fc23311ee183e9ffd376de89b'},\n      {'alias': 'electricity production, wind, 1-3MW turbine, offshore',\n       'results': {'ReCiPe 2016 v1.03, endpoint (E) no LT_human health no LT_climate change: human health no LT': 5.717382660560067e-07,\n        'EDIP 2003_human toxicity_via air': 93229.2325804347,\n        'EF v3.1 no LT_human toxicity: carcinogenic no LT_comparative toxic unit for human (CTUh) no LT': 3.3107570407236177e-10,\n        'ReCiPe 2016 v1.03, endpoint (H) no LT_human health no LT_ozone depletion no LT': 1.0037268017312182e-11},\n       'output': {'unit': 'kilowatt_hour', 'amount': 3.0},\n       'bw_activity': '6ebfe52dc3ef5b4d35bb603b03559023'}]},\n    {'alias': 'large',\n     'results': {'ReCiPe 2016 v1.03, endpoint (E) no LT_human health no LT_climate change: human health no LT': 2.2459819913683697e-06,\n      'EDIP 2003_human toxicity_via air': 791976.7223746454,\n      'EF v3.1 no LT_human toxicity: carcinogenic no LT_comparative toxic unit for human (CTUh) no LT': 9.410761255249915e-10,\n      'ReCiPe 2016 v1.03, endpoint (H) no LT_human health no LT_ozone depletion no LT': 3.7767645697409365e-11},\n     'output': {'unit': 'kilowatt_hour', 'amount': 8.0},\n     'children': [{'alias': 'electricity production, wind, >3MW turbine, onshore',\n       'results': {'ReCiPe 2016 v1.03, endpoint (E) no LT_human health no LT_climate change: human health no LT': 2.2459819913683697e-06,\n        'EDIP 2003_human toxicity_via air': 791976.7223746454,\n        'EF v3.1 no LT_human toxicity: carcinogenic no LT_comparative toxic unit for human (CTUh) no LT': 9.410761255249915e-10,\n        'ReCiPe 2016 v1.03, endpoint (H) no LT_human health no LT_ozone depletion no LT': 3.7767645697409365e-11},\n       'output': {'unit': 'kilowatt_hour', 'amount': 8.0},\n       'bw_activity': '0d48975a3766c13e68cedeb6c24f6f74'}]}]},\n  {'alias': 'solar-very-large',\n   'results': {'ReCiPe 2016 v1.03, endpoint (E) no LT_human health no LT_climate change: human health no LT': 4.050465477723098e-06,\n    'EDIP 2003_human toxicity_via air': 780105.8659088355,\n    'EF v3.1 no LT_human toxicity: carcinogenic no LT_comparative toxic unit for human (CTUh) no LT': 5.799335315304416e-10,\n    'ReCiPe 2016 v1.03, endpoint (H) no LT_human health no LT_ozone depletion no LT': 5.8192649717751105e-11},\n   'output': {'unit': 'kilowatt_hour', 'amount': 7.0},\n   'children': [{'alias': 'electricity production, solar tower power plant, 20 MW',\n     'results': {'ReCiPe 2016 v1.03, endpoint (E) no LT_human health no LT_climate change: human health no LT': 1.6260748030531811e-06,\n      'EDIP 2003_human toxicity_via air': 80382.65386413464,\n      'EF v3.1 no LT_human toxicity: carcinogenic no LT_comparative toxic unit for human (CTUh) no LT': 2.6735748838431705e-10,\n      'ReCiPe 2016 v1.03, endpoint (H) no LT_human health no LT_ozone depletion no LT': 1.1132270626628833e-11},\n     'output': {'unit': 'kilowatt_hour', 'amount': 3.0},\n     'bw_activity': 'f2700b2ffcb6b32143a6f95d9cca1721'},\n    {'alias': 'electricity production, solar thermal parabolic trough, 50 MW',\n     'results': {'ReCiPe 2016 v1.03, endpoint (E) no LT_human health no LT_climate change: human health no LT': 2.4243906746699165e-06,\n      'EDIP 2003_human toxicity_via air': 699723.2120447009,\n      'EF v3.1 no LT_human toxicity: carcinogenic no LT_comparative toxic unit for human (CTUh) no LT': 3.125760431461245e-10,\n      'ReCiPe 2016 v1.03, endpoint (H) no LT_human health no LT_ozone depletion no LT': 4.706037909112227e-11},\n     'output': {'unit': 'kilowatt_hour', 'amount': 4.0},\n     'bw_activity': '19040cdacdbf038e2f6ad59814f7a9ed'}]}]}"
     },
     "execution_count": 9,
     "metadata": {},
     "output_type": "execute_result"
    }
   ],
   "source": [
    "exp.scenarios[1].result_to_dict(alternative_hierarchy=alt_hierarchies)"
   ],
   "metadata": {
    "collapsed": false,
    "ExecuteTime": {
     "end_time": "2023-09-18T15:54:37.303756681Z",
     "start_time": "2023-09-18T15:54:37.177649365Z"
    }
   },
   "id": "96f9e7e4659d49f6"
  },
  {
   "cell_type": "code",
   "execution_count": 10,
   "outputs": [],
   "source": [
    "from pathlib import Path\n",
    "\n",
    "exp.scenarios[1].results_to_csv(alternative_hierarchy=alt_hierarchies, file_path=Path(\"test.csv\"))"
   ],
   "metadata": {
    "collapsed": false,
    "ExecuteTime": {
     "end_time": "2023-09-18T15:54:38.926262200Z",
     "start_time": "2023-09-18T15:54:38.852607180Z"
    }
   },
   "id": "aef8a73586e53aca"
  }
 ],
 "metadata": {
  "kernelspec": {
   "display_name": "Python 3",
   "language": "python",
   "name": "python3"
  },
  "language_info": {
   "codemirror_mode": {
    "name": "ipython",
    "version": 2
   },
   "file_extension": ".py",
   "mimetype": "text/x-python",
   "name": "python",
   "nbconvert_exporter": "python",
   "pygments_lexer": "ipython2",
   "version": "2.7.6"
  }
 },
 "nbformat": 4,
 "nbformat_minor": 5
}
