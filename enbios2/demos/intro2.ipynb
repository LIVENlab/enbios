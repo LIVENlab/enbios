{
 "cells": [
  {
   "cell_type": "code",
   "execution_count": 1,
   "outputs": [],
   "source": [
    "%load_ext autoreload\n",
    "%autoreload 2"
   ],
   "metadata": {
    "collapsed": false,
    "ExecuteTime": {
     "end_time": "2023-09-20T08:08:57.548299571Z",
     "start_time": "2023-09-20T08:08:57.456765628Z"
    }
   }
  },
  {
   "cell_type": "code",
   "execution_count": 2,
   "outputs": [],
   "source": [
    "import json\n",
    "import pandas as pd\n",
    "from enbios2.base.experiment import Experiment\n",
    "import bw2data\n",
    "\n",
    "from enbios2.bw2.util import report\n",
    "from enbios2.models.experiment_models import ExperimentData"
   ],
   "metadata": {
    "collapsed": false,
    "ExecuteTime": {
     "end_time": "2023-09-20T08:09:04.647024196Z",
     "start_time": "2023-09-20T08:08:57.502618827Z"
    }
   }
  },
  {
   "cell_type": "code",
   "execution_count": 3,
   "metadata": {
    "ExecuteTime": {
     "end_time": "2023-09-20T08:09:04.755930801Z",
     "start_time": "2023-09-20T08:09:04.654984496Z"
    }
   },
   "outputs": [
    {
     "name": "stdout",
     "output_type": "stream",
     "text": [
      "Project: default\n",
      "['biosphere3']\n",
      "Project: ecoinvent_391\n",
      "['biosphere3', 'ecoinvent_391_cutoff']\n",
      "Project: ecoinvent\n",
      "[]\n"
     ]
    }
   ],
   "source": [
    "# get an overview of brighway projects and databases\n",
    "report()"
   ]
  },
  {
   "cell_type": "code",
   "execution_count": 4,
   "metadata": {
    "ExecuteTime": {
     "end_time": "2023-09-20T08:09:04.837281427Z",
     "start_time": "2023-09-20T08:09:04.761488979Z"
    }
   },
   "outputs": [],
   "source": [
    "# select the brightway project and database (some ecoinvent database)\n",
    "PROJECT_NAME = \"ecoinvent_391\"\n",
    "DATABASE = \"ecoinvent_391_cutoff\"\n",
    "\n",
    "bw2data.projects.set_current(PROJECT_NAME)\n",
    "db = bw2data.Database(DATABASE)"
   ]
  },
  {
   "cell_type": "code",
   "execution_count": 5,
   "metadata": {
    "ExecuteTime": {
     "end_time": "2023-09-20T08:09:05.258494118Z",
     "start_time": "2023-09-20T08:09:04.827892969Z"
    }
   },
   "outputs": [
    {
     "name": "stdout",
     "output_type": "stream",
     "text": [
      "Excluding 319 filtered results\n"
     ]
    },
    {
     "data": {
      "text/plain": "['electricity production, wind, >3MW turbine, onshore' (kilowatt hour, ES, None)]"
     },
     "execution_count": 5,
     "metadata": {},
     "output_type": "execute_result"
    }
   ],
   "source": [
    "wind_turbines_spain = db.search(\n",
    "    \"electricity production, wind, 1-3MW turbine, onshore\", filter={\"location\": \"ES\"}\n",
    ")[:1]\n",
    "wind_turbines_spain"
   ]
  },
  {
   "cell_type": "code",
   "execution_count": 6,
   "outputs": [
    {
     "name": "stdout",
     "output_type": "stream",
     "text": [
      "Excluding 465 filtered results\n"
     ]
    },
    {
     "data": {
      "text/plain": "['electricity production, solar tower power plant, 20 MW' (kilowatt hour, ES, None),\n 'electricity production, solar thermal parabolic trough, 50 MW' (kilowatt hour, ES, None)]"
     },
     "execution_count": 6,
     "metadata": {},
     "output_type": "execute_result"
    }
   ],
   "source": [
    "solar_spain = db.search(\"solar\", filter={\"location\": \"ES\"})[:2]\n",
    "solar_spain"
   ],
   "metadata": {
    "collapsed": false,
    "ExecuteTime": {
     "end_time": "2023-09-20T08:09:05.514490911Z",
     "start_time": "2023-09-20T08:09:05.244544124Z"
    }
   }
  },
  {
   "cell_type": "code",
   "execution_count": 7,
   "metadata": {
    "ExecuteTime": {
     "end_time": "2023-09-20T08:09:05.517068853Z",
     "start_time": "2023-09-20T08:09:05.453159203Z"
    }
   },
   "outputs": [
    {
     "data": {
      "text/plain": "[{'id': {'name': 'electricity production, wind, >3MW turbine, onshore',\n   'code': '0d48975a3766c13e68cedeb6c24f6f74',\n   'alias': 'electricity production, wind, >3MW turbine, onshore'}},\n {'id': {'name': 'electricity production, solar tower power plant, 20 MW',\n   'code': 'f2700b2ffcb6b32143a6f95d9cca1721',\n   'alias': 'electricity production, solar tower power plant, 20 MW'}},\n {'id': {'name': 'electricity production, solar thermal parabolic trough, 50 MW',\n   'code': '19040cdacdbf038e2f6ad59814f7a9ed',\n   'alias': 'electricity production, solar thermal parabolic trough, 50 MW'}}]"
     },
     "execution_count": 7,
     "metadata": {},
     "output_type": "execute_result"
    }
   ],
   "source": [
    "# for the experiment we need to create a list of activities (or a dict, where the keys represent the aliases)\n",
    "# We need to add the codes, otherwise the brightway search will not be not uniquely identify the activities\n",
    "# adding name is just for convenience\n",
    "experiment_activities = []\n",
    "\n",
    "for activity in wind_turbines_spain + solar_spain:\n",
    "    experiment_activities.append(\n",
    "        {\n",
    "            \"id\": {\n",
    "                \"name\": activity[\"name\"],\n",
    "                \"code\": activity[\"code\"],\n",
    "                \"alias\": activity[\"name\"],\n",
    "            }\n",
    "        }\n",
    "    )\n",
    "\n",
    "experiment_activities"
   ]
  },
  {
   "cell_type": "code",
   "execution_count": 9,
   "metadata": {
    "ExecuteTime": {
     "end_time": "2023-09-20T08:09:18.325674014Z",
     "start_time": "2023-09-20T08:09:18.262356171Z"
    }
   },
   "outputs": [
    {
     "data": {
      "text/plain": "[{'id': ('EPS 2020d no LT',\n   'emissions to soil no LT',\n   'monetary impact value no LT')}]"
     },
     "execution_count": 9,
     "metadata": {},
     "output_type": "execute_result"
    }
   ],
   "source": [
    "# select 2 random methods and convert them into the form for enbios2\n",
    "methods = [bw2data.methods.random() for _ in range(1)]\n",
    "experiment_methods = [{\"id\": method} for method in methods]\n",
    "\n",
    "experiment_methods"
   ]
  },
  {
   "cell_type": "code",
   "execution_count": 26,
   "outputs": [],
   "source": [
    "hierarchy = {\n",
    "    \"wind\": [wind_act[\"name\"] for wind_act in wind_turbines_spain],\n",
    "    \"solar\": [solar_act[\"name\"] for solar_act in solar_spain],\n",
    "}"
   ],
   "metadata": {
    "collapsed": false,
    "ExecuteTime": {
     "end_time": "2023-09-19T07:45:53.047261230Z",
     "start_time": "2023-09-19T07:45:52.997179372Z"
    }
   }
  },
  {
   "cell_type": "code",
   "execution_count": 27,
   "outputs": [],
   "source": [
    "from random import randint\n",
    "\n",
    "\n",
    "def create_random_scenario():\n",
    "    return {\n",
    "        \"activities\": {\n",
    "            act[\"id\"][\"alias\"]: [\"kilowatt_hour\", randint(1, 10)]\n",
    "            for act in experiment_activities\n",
    "        }\n",
    "    }\n",
    "\n",
    "\n",
    "scenarios = [create_random_scenario() for _ in range(8)]"
   ],
   "metadata": {
    "collapsed": false,
    "ExecuteTime": {
     "end_time": "2023-09-19T07:45:53.968828294Z",
     "start_time": "2023-09-19T07:45:53.914515652Z"
    }
   }
  },
  {
   "cell_type": "code",
   "execution_count": 28,
   "metadata": {
    "ExecuteTime": {
     "end_time": "2023-09-19T07:45:54.621021651Z",
     "start_time": "2023-09-19T07:45:54.560321329Z"
    }
   },
   "outputs": [],
   "source": [
    "# let's store the raw data, because we want to modify it later\n",
    "raw_data = {\n",
    "    \"bw_project\": PROJECT_NAME,\n",
    "    \"activities\": experiment_activities,\n",
    "    \"methods\": experiment_methods,\n",
    "    \"hierarchy\": hierarchy,\n",
    "    \"scenarios\": scenarios,\n",
    "}"
   ]
  },
  {
   "cell_type": "code",
   "execution_count": 29,
   "metadata": {
    "ExecuteTime": {
     "end_time": "2023-09-19T07:45:55.546326617Z",
     "start_time": "2023-09-19T07:45:55.280756395Z"
    }
   },
   "outputs": [],
   "source": [
    "# create a experiment object. This will validate the activities, their outputs, the methods and the scenarios.\n",
    "exp: Experiment = Experiment(raw_data)"
   ]
  },
  {
   "cell_type": "code",
   "execution_count": 19,
   "metadata": {
    "ExecuteTime": {
     "end_time": "2023-09-18T14:16:19.749771061Z",
     "start_time": "2023-09-18T14:16:19.705362299Z"
    }
   },
   "outputs": [
    {
     "name": "stdout",
     "output_type": "stream",
     "text": [
      "Experiment: \n",
      "Activities: 6\n",
      "  electricity production, wind, >3MW turbine, onshore - electricity production, wind, >3MW turbine, onshore\n",
      "  electricity production, wind, 1-3MW turbine, onshore - electricity production, wind, 1-3MW turbine, onshore\n",
      "  electricity production, wind, 1-3MW turbine, offshore - electricity production, wind, 1-3MW turbine, offshore\n",
      "  electricity production, wind, <1MW turbine, onshore - electricity production, wind, <1MW turbine, onshore\n",
      "  electricity production, solar tower power plant, 20 MW - electricity production, solar tower power plant, 20 MW\n",
      "  electricity production, solar thermal parabolic trough, 50 MW - electricity production, solar thermal parabolic trough, 50 MW\n",
      "Methods: 4\n",
      " ('ReCiPe 2016 v1.03, endpoint (E) no LT', 'human health no LT', 'climate change: human health no LT')\n",
      " ('EDIP 2003', 'human toxicity', 'via air')\n",
      " ('EF v3.1 no LT', 'human toxicity: carcinogenic no LT', 'comparative toxic unit for human (CTUh) no LT')\n",
      " ('ReCiPe 2016 v1.03, endpoint (H) no LT', 'human health no LT', 'ozone depletion no LT')\n",
      "Hierarchy (depth): 3\n",
      "Scenarios: 8\n"
     ]
    }
   ],
   "source": [
    "print(exp.info())"
   ]
  },
  {
   "cell_type": "code",
   "execution_count": 20,
   "metadata": {
    "ExecuteTime": {
     "end_time": "2023-09-18T14:16:21.190107524Z",
     "start_time": "2023-09-18T14:16:20.637793078Z"
    }
   },
   "outputs": [],
   "source": [
    "exp = Experiment(raw_data)"
   ]
  },
  {
   "cell_type": "code",
   "execution_count": 30,
   "outputs": [],
   "source": [
    "_ = exp.run()"
   ],
   "metadata": {
    "collapsed": false,
    "ExecuteTime": {
     "end_time": "2023-09-19T08:04:07.759187797Z",
     "start_time": "2023-09-19T07:50:37.912546619Z"
    }
   }
  },
  {
   "cell_type": "code",
   "execution_count": 31,
   "outputs": [
    {
     "data": {
      "text/plain": "'0:13:29'"
     },
     "execution_count": 31,
     "metadata": {},
     "output_type": "execute_result"
    }
   ],
   "source": [
    "exp.execution_time"
   ],
   "metadata": {
    "collapsed": false,
    "ExecuteTime": {
     "end_time": "2023-09-19T08:04:07.864905822Z",
     "start_time": "2023-09-19T08:04:07.802040376Z"
    }
   }
  },
  {
   "cell_type": "code",
   "execution_count": null,
   "outputs": [],
   "source": [
    "from pathlib import Path\n",
    "\n",
    "exp.results_to_csv(\"s1.csv\", level_names=[\"root\", \"technology\", \"activity\"])\n",
    "df = pd.read_csv(\"s1.csv\").fillna(\"\")\n",
    "Path(\"s1.csv\").unlink()\n",
    "df"
   ],
   "metadata": {
    "collapsed": false
   }
  },
  {
   "cell_type": "code",
   "execution_count": 23,
   "outputs": [],
   "source": [
    "from enbios2.generic.files import DataPath\n",
    "import pickle\n",
    "\n",
    "pickle.dump(exp, DataPath(\"test_data/exp.pkl\").open(\"wb\"))"
   ],
   "metadata": {
    "collapsed": false,
    "ExecuteTime": {
     "end_time": "2023-09-18T14:46:34.451863362Z",
     "start_time": "2023-09-18T14:46:34.359510237Z"
    }
   }
  },
  {
   "cell_type": "code",
   "execution_count": 32,
   "outputs": [
    {
     "data": {
      "text/plain": "[ScenarioResultNodeData(output=('kilowatt_hour', 8.0), results={'ReCiPe 2016 v1.03, endpoint (E) no LT_human health no LT_climate change: human health no LT': 2.2459819913683697e-06, 'EDIP 2003_human toxicity_via air': 791976.7223746454, 'EF v3.1 no LT_human toxicity: carcinogenic no LT_comparative toxic unit for human (CTUh) no LT': 9.410761255249915e-10, 'ReCiPe 2016 v1.03, endpoint (H) no LT_human health no LT_ozone depletion no LT': 3.7767645697409365e-11}, bw_activity='electricity production, wind, >3MW turbine, onshore' (kilowatt hour, ES, None)),\n ScenarioResultNodeData(output=('kilowatt_hour', 3.0), results={'ReCiPe 2016 v1.03, endpoint (E) no LT_human health no LT_climate change: human health no LT': 5.091191665386904e-07, 'EDIP 2003_human toxicity_via air': 83543.30934557733, 'EF v3.1 no LT_human toxicity: carcinogenic no LT_comparative toxic unit for human (CTUh) no LT': 2.3228561898088935e-10, 'ReCiPe 2016 v1.03, endpoint (H) no LT_human health no LT_ozone depletion no LT': 7.182120176006624e-12}, bw_activity='electricity production, wind, 1-3MW turbine, onshore' (kilowatt hour, ES, None)),\n ScenarioResultNodeData(output=('kilowatt_hour', 5.0), results={'ReCiPe 2016 v1.03, endpoint (E) no LT_human health no LT_climate change: human health no LT': 9.528971100928675e-07, 'EDIP 2003_human toxicity_via air': 155382.05430096044, 'EF v3.1 no LT_human toxicity: carcinogenic no LT_comparative toxic unit for human (CTUh) no LT': 5.517928401206116e-10, 'ReCiPe 2016 v1.03, endpoint (H) no LT_human health no LT_ozone depletion no LT': 1.672878002884798e-11}, bw_activity='electricity production, wind, 1-3MW turbine, offshore' (kilowatt hour, ES, None)),\n ScenarioResultNodeData(output=('kilowatt_hour', 7.0), results={'ReCiPe 2016 v1.03, endpoint (E) no LT_human health no LT_climate change: human health no LT': 1.1400490192310413e-06, 'EDIP 2003_human toxicity_via air': 186487.5551586023, 'EF v3.1 no LT_human toxicity: carcinogenic no LT_comparative toxic unit for human (CTUh) no LT': 7.645579393879784e-10, 'ReCiPe 2016 v1.03, endpoint (H) no LT_human health no LT_ozone depletion no LT': 1.8792178430756492e-11}, bw_activity='electricity production, wind, <1MW turbine, onshore' (kilowatt hour, ES, None)),\n ScenarioResultNodeData(output=('kilowatt_hour', 9.0), results={'ReCiPe 2016 v1.03, endpoint (E) no LT_human health no LT_climate change: human health no LT': 4.878224409151405e-06, 'EDIP 2003_human toxicity_via air': 241147.96159099418, 'EF v3.1 no LT_human toxicity: carcinogenic no LT_comparative toxic unit for human (CTUh) no LT': 8.020724651494174e-10, 'ReCiPe 2016 v1.03, endpoint (H) no LT_human health no LT_ozone depletion no LT': 3.339681187979162e-11}, bw_activity='electricity production, solar tower power plant, 20 MW' (kilowatt hour, ES, None)),\n ScenarioResultNodeData(output=('kilowatt_hour', 8.0), results={'ReCiPe 2016 v1.03, endpoint (E) no LT_human health no LT_climate change: human health no LT': 4.848781349339833e-06, 'EDIP 2003_human toxicity_via air': 1399446.4240894017, 'EF v3.1 no LT_human toxicity: carcinogenic no LT_comparative toxic unit for human (CTUh) no LT': 6.25152086292249e-10, 'ReCiPe 2016 v1.03, endpoint (H) no LT_human health no LT_ozone depletion no LT': 9.412075818224454e-11}, bw_activity='electricity production, solar thermal parabolic trough, 50 MW' (kilowatt hour, ES, None))]"
     },
     "execution_count": 32,
     "metadata": {},
     "output_type": "execute_result"
    }
   ],
   "source": [
    "activities = list(exp.scenarios[0].result_tree.get_leaves())\n",
    "[a._data for a in activities]"
   ],
   "metadata": {
    "collapsed": false,
    "ExecuteTime": {
     "end_time": "2023-09-18T14:56:08.482514264Z",
     "start_time": "2023-09-18T14:56:08.423198636Z"
    }
   }
  },
  {
   "cell_type": "code",
   "execution_count": 31,
   "outputs": [
    {
     "ename": "AssertionError",
     "evalue": "data shoould be set before (node: 'electricity production, wind, >3MW turbine, onshore')",
     "output_type": "error",
     "traceback": [
      "\u001B[0;31m---------------------------------------------------------------------------\u001B[0m",
      "\u001B[0;31mAssertionError\u001B[0m                            Traceback (most recent call last)",
      "Cell \u001B[0;32mIn[31], line 1\u001B[0m\n\u001B[0;32m----> 1\u001B[0m \u001B[43mexp\u001B[49m\u001B[38;5;241;43m.\u001B[39;49m\u001B[43mscenarios\u001B[49m\u001B[43m[\u001B[49m\u001B[38;5;241;43m0\u001B[39;49m\u001B[43m]\u001B[49m\u001B[38;5;241;43m.\u001B[39;49m\u001B[43mrearrange_results\u001B[49m\u001B[43m(\u001B[49m\u001B[43m{\u001B[49m\n\u001B[1;32m      2\u001B[0m \u001B[43m    \u001B[49m\u001B[38;5;124;43m\"\u001B[39;49m\u001B[38;5;124;43mgroup1\u001B[39;49m\u001B[38;5;124;43m\"\u001B[39;49m\u001B[43m:\u001B[49m\u001B[43m \u001B[49m\u001B[43m[\u001B[49m\n\u001B[1;32m      3\u001B[0m \u001B[43m        \u001B[49m\u001B[38;5;124;43m'\u001B[39;49m\u001B[38;5;124;43melectricity production, wind, >3MW turbine, onshore\u001B[39;49m\u001B[38;5;124;43m'\u001B[39;49m\u001B[43m,\u001B[49m\n\u001B[1;32m      4\u001B[0m \u001B[43m        \u001B[49m\u001B[38;5;124;43m'\u001B[39;49m\u001B[38;5;124;43melectricity production, wind, 1-3MW turbine, onshore\u001B[39;49m\u001B[38;5;124;43m'\u001B[39;49m\u001B[43m,\u001B[49m\n\u001B[1;32m      5\u001B[0m \u001B[43m        \u001B[49m\u001B[38;5;124;43m'\u001B[39;49m\u001B[38;5;124;43melectricity production, wind, 1-3MW turbine, offshore\u001B[39;49m\u001B[38;5;124;43m'\u001B[39;49m\n\u001B[1;32m      6\u001B[0m \u001B[43m    \u001B[49m\u001B[43m]\u001B[49m\u001B[43m,\u001B[49m\n\u001B[1;32m      7\u001B[0m \u001B[43m    \u001B[49m\u001B[38;5;124;43m\"\u001B[39;49m\u001B[38;5;124;43mgroup2\u001B[39;49m\u001B[38;5;124;43m\"\u001B[39;49m\u001B[43m:\u001B[49m\u001B[43m \u001B[49m\u001B[43m[\u001B[49m\n\u001B[1;32m      8\u001B[0m \u001B[43m        \u001B[49m\u001B[38;5;124;43m'\u001B[39;49m\u001B[38;5;124;43melectricity production, wind, <1MW turbine, onshore\u001B[39;49m\u001B[38;5;124;43m'\u001B[39;49m\u001B[43m,\u001B[49m\n\u001B[1;32m      9\u001B[0m \u001B[43m        \u001B[49m\u001B[38;5;124;43m'\u001B[39;49m\u001B[38;5;124;43melectricity production, solar tower power plant, 20 MW\u001B[39;49m\u001B[38;5;124;43m'\u001B[39;49m\u001B[43m,\u001B[49m\n\u001B[1;32m     10\u001B[0m \u001B[43m        \u001B[49m\u001B[38;5;124;43m'\u001B[39;49m\u001B[38;5;124;43melectricity production, solar thermal parabolic trough, 50 MW\u001B[39;49m\u001B[38;5;124;43m'\u001B[39;49m\u001B[43m]\u001B[49m\n\u001B[1;32m     11\u001B[0m \u001B[43m}\u001B[49m\u001B[43m)\u001B[49m\n",
      "File \u001B[0;32m~/projects/enbios2/enbios2/base/scenario.py:286\u001B[0m, in \u001B[0;36mScenario.rearrange_results\u001B[0;34m(self, hierarchy)\u001B[0m\n\u001B[1;32m    284\u001B[0m \u001B[38;5;28;01mfor\u001B[39;00m node \u001B[38;5;129;01min\u001B[39;00m activity_nodes:\n\u001B[1;32m    285\u001B[0m     alt_node \u001B[38;5;241m=\u001B[39m \u001B[38;5;28mnext\u001B[39m(\u001B[38;5;28mfilter\u001B[39m(\u001B[38;5;28;01mlambda\u001B[39;00m n: n\u001B[38;5;241m.\u001B[39mname \u001B[38;5;241m==\u001B[39m node\u001B[38;5;241m.\u001B[39mname, alt_activity_nodes))\n\u001B[0;32m--> 286\u001B[0m     node\u001B[38;5;241m.\u001B[39m_data \u001B[38;5;241m=\u001B[39m \u001B[43malt_node\u001B[49m\u001B[38;5;241;43m.\u001B[39;49m\u001B[43mdata\u001B[49m\n\u001B[1;32m    288\u001B[0m alt_result_tree\u001B[38;5;241m.\u001B[39mrecursive_apply(Scenario\u001B[38;5;241m.\u001B[39m_recursive_resolve_outputs,\n\u001B[1;32m    289\u001B[0m                                 depth_first\u001B[38;5;241m=\u001B[39m\u001B[38;5;28;01mTrue\u001B[39;00m,\n\u001B[1;32m    290\u001B[0m                                 scenario\u001B[38;5;241m=\u001B[39m\u001B[38;5;28mself\u001B[39m,\n\u001B[1;32m    291\u001B[0m                                 cancel_parents_of\u001B[38;5;241m=\u001B[39m\u001B[38;5;28mset\u001B[39m())\n\u001B[1;32m    293\u001B[0m alt_result_tree\u001B[38;5;241m.\u001B[39mrecursive_apply(Scenario\u001B[38;5;241m.\u001B[39m_propagate_results_upwards, depth_first\u001B[38;5;241m=\u001B[39m\u001B[38;5;28;01mTrue\u001B[39;00m)\n",
      "File \u001B[0;32m~/projects/enbios2/enbios2/generic/tree/basic_tree.py:74\u001B[0m, in \u001B[0;36mBasicTreeNode.data\u001B[0;34m(self)\u001B[0m\n\u001B[1;32m     72\u001B[0m \u001B[38;5;129m@property\u001B[39m\n\u001B[1;32m     73\u001B[0m \u001B[38;5;28;01mdef\u001B[39;00m \u001B[38;5;21mdata\u001B[39m(\u001B[38;5;28mself\u001B[39m) \u001B[38;5;241m-\u001B[39m\u001B[38;5;241m>\u001B[39m T:\n\u001B[0;32m---> 74\u001B[0m     \u001B[38;5;28;01massert\u001B[39;00m \u001B[38;5;28mself\u001B[39m\u001B[38;5;241m.\u001B[39m_data \u001B[38;5;129;01mis\u001B[39;00m \u001B[38;5;129;01mnot\u001B[39;00m \u001B[38;5;28;01mNone\u001B[39;00m, \u001B[38;5;124mf\u001B[39m\u001B[38;5;124m\"\u001B[39m\u001B[38;5;124mdata shoould be set before (node: \u001B[39m\u001B[38;5;124m'\u001B[39m\u001B[38;5;132;01m{\u001B[39;00m\u001B[38;5;28mself\u001B[39m\u001B[38;5;241m.\u001B[39mname\u001B[38;5;132;01m}\u001B[39;00m\u001B[38;5;124m'\u001B[39m\u001B[38;5;124m)\u001B[39m\u001B[38;5;124m\"\u001B[39m\n\u001B[1;32m     75\u001B[0m     \u001B[38;5;28;01mreturn\u001B[39;00m \u001B[38;5;28mself\u001B[39m\u001B[38;5;241m.\u001B[39m_data\n",
      "\u001B[0;31mAssertionError\u001B[0m: data shoould be set before (node: 'electricity production, wind, >3MW turbine, onshore')"
     ]
    }
   ],
   "source": [
    "exp.scenarios[0].rearrange_results(\n",
    "    {\n",
    "        \"group1\": [\n",
    "            \"electricity production, wind, >3MW turbine, onshore\",\n",
    "            \"electricity production, wind, 1-3MW turbine, onshore\",\n",
    "            \"electricity production, wind, 1-3MW turbine, offshore\",\n",
    "        ],\n",
    "        \"group2\": [\n",
    "            \"electricity production, wind, <1MW turbine, onshore\",\n",
    "            \"electricity production, solar tower power plant, 20 MW\",\n",
    "            \"electricity production, solar thermal parabolic trough, 50 MW\",\n",
    "        ],\n",
    "    }\n",
    ")"
   ],
   "metadata": {
    "collapsed": false,
    "ExecuteTime": {
     "end_time": "2023-09-18T14:49:35.946042226Z",
     "start_time": "2023-09-18T14:49:35.804637442Z"
    }
   }
  },
  {
   "cell_type": "code",
   "execution_count": null,
   "outputs": [],
   "source": [],
   "metadata": {
    "collapsed": false
   }
  }
 ],
 "metadata": {
  "kernelspec": {
   "display_name": "Python 3 (ipykernel)",
   "language": "python",
   "name": "python3"
  },
  "language_info": {
   "codemirror_mode": {
    "name": "ipython",
    "version": 3
   },
   "file_extension": ".py",
   "mimetype": "text/x-python",
   "name": "python",
   "nbconvert_exporter": "python",
   "pygments_lexer": "ipython3",
   "version": "3.11.4"
  }
 },
 "nbformat": 4,
 "nbformat_minor": 1
}
