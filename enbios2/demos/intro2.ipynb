{
 "cells": [
  {
   "cell_type": "code",
   "execution_count": 1,
   "outputs": [],
   "source": [
    "%load_ext autoreload\n",
    "%autoreload 2"
   ],
   "metadata": {
    "collapsed": false,
    "ExecuteTime": {
     "end_time": "2023-09-20T09:11:37.206602065Z",
     "start_time": "2023-09-20T09:11:36.920629660Z"
    }
   }
  },
  {
   "cell_type": "code",
   "execution_count": 2,
   "outputs": [],
   "source": [
    "import json\n",
    "import pandas as pd\n",
    "from enbios2.base.experiment import Experiment\n",
    "import bw2data\n",
    "\n",
    "from enbios2.bw2.util import report\n",
    "from enbios2.models.experiment_models import ExperimentData"
   ],
   "metadata": {
    "collapsed": false,
    "ExecuteTime": {
     "end_time": "2023-09-20T09:11:43.153452479Z",
     "start_time": "2023-09-20T09:11:36.957909777Z"
    }
   }
  },
  {
   "cell_type": "code",
   "execution_count": 3,
   "metadata": {
    "ExecuteTime": {
     "end_time": "2023-09-20T09:11:43.270480235Z",
     "start_time": "2023-09-20T09:11:43.159139161Z"
    }
   },
   "outputs": [
    {
     "name": "stdout",
     "output_type": "stream",
     "text": [
      "Project: default\n",
      "['biosphere3']\n",
      "Project: ecoinvent_391\n",
      "['biosphere3', 'ecoinvent_391_cutoff']\n",
      "Project: ecoinvent\n",
      "[]\n"
     ]
    }
   ],
   "source": [
    "# get an overview of brighway projects and databases\n",
    "report()"
   ]
  },
  {
   "cell_type": "code",
   "execution_count": 4,
   "metadata": {
    "ExecuteTime": {
     "end_time": "2023-09-20T09:11:43.342768218Z",
     "start_time": "2023-09-20T09:11:43.263349920Z"
    }
   },
   "outputs": [],
   "source": [
    "# select the brightway project and database (some ecoinvent database)\n",
    "PROJECT_NAME = \"ecoinvent_391\"\n",
    "DATABASE = \"ecoinvent_391_cutoff\"\n",
    "\n",
    "bw2data.projects.set_current(PROJECT_NAME)\n",
    "db = bw2data.Database(DATABASE)"
   ]
  },
  {
   "cell_type": "code",
   "execution_count": 5,
   "metadata": {
    "ExecuteTime": {
     "end_time": "2023-09-20T09:11:43.697883532Z",
     "start_time": "2023-09-20T09:11:43.332967909Z"
    }
   },
   "outputs": [
    {
     "name": "stdout",
     "output_type": "stream",
     "text": [
      "Excluding 319 filtered results\n"
     ]
    },
    {
     "data": {
      "text/plain": "['electricity production, wind, >3MW turbine, onshore' (kilowatt hour, ES, None)]"
     },
     "execution_count": 5,
     "metadata": {},
     "output_type": "execute_result"
    }
   ],
   "source": [
    "wind_turbines_spain = db.search(\n",
    "    \"electricity production, wind, 1-3MW turbine, onshore\", filter={\"location\": \"ES\"}\n",
    ")[:1]\n",
    "wind_turbines_spain"
   ]
  },
  {
   "cell_type": "code",
   "execution_count": 6,
   "outputs": [
    {
     "name": "stdout",
     "output_type": "stream",
     "text": [
      "Excluding 465 filtered results\n"
     ]
    },
    {
     "data": {
      "text/plain": "['electricity production, solar tower power plant, 20 MW' (kilowatt hour, ES, None),\n 'electricity production, solar thermal parabolic trough, 50 MW' (kilowatt hour, ES, None)]"
     },
     "execution_count": 6,
     "metadata": {},
     "output_type": "execute_result"
    }
   ],
   "source": [
    "solar_spain = db.search(\"solar\", filter={\"location\": \"ES\"})[:2]\n",
    "solar_spain"
   ],
   "metadata": {
    "collapsed": false,
    "ExecuteTime": {
     "end_time": "2023-09-20T09:11:43.916632681Z",
     "start_time": "2023-09-20T09:11:43.682494754Z"
    }
   }
  },
  {
   "cell_type": "code",
   "execution_count": 7,
   "metadata": {
    "ExecuteTime": {
     "end_time": "2023-09-20T09:11:43.944163439Z",
     "start_time": "2023-09-20T09:11:43.855070766Z"
    }
   },
   "outputs": [
    {
     "data": {
      "text/plain": "[{'id': {'name': 'electricity production, wind, >3MW turbine, onshore',\n   'code': '0d48975a3766c13e68cedeb6c24f6f74',\n   'alias': 'electricity production, wind, >3MW turbine, onshore'}},\n {'id': {'name': 'electricity production, solar tower power plant, 20 MW',\n   'code': 'f2700b2ffcb6b32143a6f95d9cca1721',\n   'alias': 'electricity production, solar tower power plant, 20 MW'}},\n {'id': {'name': 'electricity production, solar thermal parabolic trough, 50 MW',\n   'code': '19040cdacdbf038e2f6ad59814f7a9ed',\n   'alias': 'electricity production, solar thermal parabolic trough, 50 MW'}}]"
     },
     "execution_count": 7,
     "metadata": {},
     "output_type": "execute_result"
    }
   ],
   "source": [
    "# for the experiment we need to create a list of activities (or a dict, where the keys represent the aliases)\n",
    "# We need to add the codes, otherwise the brightway search will not be not uniquely identify the activities\n",
    "# adding name is just for convenience\n",
    "experiment_activities = []\n",
    "\n",
    "for activity in wind_turbines_spain + solar_spain:\n",
    "    experiment_activities.append(\n",
    "        {\n",
    "            \"id\": {\n",
    "                \"name\": activity[\"name\"],\n",
    "                \"code\": activity[\"code\"],\n",
    "                \"alias\": activity[\"name\"],\n",
    "            }\n",
    "        }\n",
    "    )\n",
    "\n",
    "experiment_activities"
   ]
  },
  {
   "cell_type": "code",
   "execution_count": 8,
   "metadata": {
    "ExecuteTime": {
     "end_time": "2023-09-20T09:11:44.088107642Z",
     "start_time": "2023-09-20T09:11:43.902386402Z"
    }
   },
   "outputs": [
    {
     "data": {
      "text/plain": "[{'id': ('ReCiPe 2016 v1.03, midpoint (E)',\n   'particulate matter formation',\n   'particulate matter formation potential (PMFP)')}]"
     },
     "execution_count": 8,
     "metadata": {},
     "output_type": "execute_result"
    }
   ],
   "source": [
    "# select 2 random methods and convert them into the form for enbios2\n",
    "methods = [bw2data.methods.random() for _ in range(1)]\n",
    "experiment_methods = [{\"id\": method} for method in methods]\n",
    "\n",
    "experiment_methods"
   ]
  },
  {
   "cell_type": "code",
   "execution_count": 9,
   "outputs": [],
   "source": [
    "hierarchy = {\n",
    "    \"wind\": [wind_act[\"name\"] for wind_act in wind_turbines_spain],\n",
    "    \"solar\": [solar_act[\"name\"] for solar_act in solar_spain],\n",
    "}"
   ],
   "metadata": {
    "collapsed": false,
    "ExecuteTime": {
     "end_time": "2023-09-20T09:11:44.118276296Z",
     "start_time": "2023-09-20T09:11:43.951201227Z"
    }
   }
  },
  {
   "cell_type": "code",
   "execution_count": 10,
   "outputs": [],
   "source": [
    "from random import randint\n",
    "\n",
    "\n",
    "def create_random_scenario():\n",
    "    return {\n",
    "        \"activities\": {\n",
    "            act[\"id\"][\"alias\"]: [\"kilowatt_hour\", randint(1, 10)]\n",
    "            for act in experiment_activities\n",
    "        }\n",
    "    }\n",
    "\n",
    "\n",
    "scenarios = [create_random_scenario() for _ in range(8)]"
   ],
   "metadata": {
    "collapsed": false,
    "ExecuteTime": {
     "end_time": "2023-09-20T09:11:44.185566658Z",
     "start_time": "2023-09-20T09:11:43.995337631Z"
    }
   }
  },
  {
   "cell_type": "code",
   "execution_count": 11,
   "metadata": {
    "ExecuteTime": {
     "end_time": "2023-09-20T09:11:44.280506097Z",
     "start_time": "2023-09-20T09:11:44.068640971Z"
    }
   },
   "outputs": [],
   "source": [
    "# let's store the raw data, because we want to modify it later\n",
    "raw_data = {\n",
    "    \"bw_project\": PROJECT_NAME,\n",
    "    \"activities\": \"/home/ram/projects/enbios2/data/test_data/experiment_separated/a/single_activity.json\",\n",
    "    \"methods\": experiment_methods,\n",
    "    \"hierarchy\": hierarchy,\n",
    "    \"scenarios\": scenarios,\n",
    "}"
   ]
  },
  {
   "cell_type": "code",
   "execution_count": 16,
   "metadata": {
    "ExecuteTime": {
     "end_time": "2023-09-20T09:15:30.175708496Z",
     "start_time": "2023-09-20T09:12:01.154157221Z"
    }
   },
   "outputs": [
    {
     "name": "stdout",
     "output_type": "stream",
     "text": [
      "Excluding 0 filtered results\n",
      "Excluding 104 filtered results\n",
      "Unexpected exception formatting exception. Falling back to standard exception\n"
     ]
    },
    {
     "name": "stderr",
     "output_type": "stream",
     "text": [
      "Traceback (most recent call last):\n",
      "  File \"/home/ram/projects/enbios2/venv/lib/python3.11/site-packages/IPython/core/interactiveshell.py\", line 3508, in run_code\n",
      "    exec(code_obj, self.user_global_ns, self.user_ns)\n",
      "  File \"/tmp/ipykernel_23628/1918707259.py\", line 2, in <module>\n",
      "    exp: Experiment = Experiment(raw_data)\n",
      "                      ^^^^^^^^^^^^^^^^^^^^\n",
      "  File \"/home/ram/projects/enbios2/enbios2/base/experiment.py\", line 75, in __init__\n",
      "  File \"/home/ram/projects/enbios2/enbios2/base/experiment.py\", line 537, in validate_hierarchy\n",
      "    missing = set(self.activities_aliases) - set(\n",
      "                                      ^^^^^^^^^^^^\n",
      "  File \"/home/ram/projects/enbios2/enbios2/base/experiment.py\", line 393, in get_activity\n",
      "    return activity\n",
      "        ^^^^^^^^^^^^\n",
      "ValueError: Activity with id electricity production, wind, >3MW turbine, onshore not found\n",
      "\n",
      "During handling of the above exception, another exception occurred:\n",
      "\n",
      "Traceback (most recent call last):\n",
      "  File \"/home/ram/projects/enbios2/venv/lib/python3.11/site-packages/IPython/core/interactiveshell.py\", line 2105, in showtraceback\n",
      "    stb = self.InteractiveTB.structured_traceback(\n",
      "          ^^^^^^^^^^^^^^^^^^^^^^^^^^^^^^^^^^^^^^^^\n",
      "  File \"/home/ram/projects/enbios2/venv/lib/python3.11/site-packages/IPython/core/ultratb.py\", line 1428, in structured_traceback\n",
      "    return FormattedTB.structured_traceback(\n",
      "           ^^^^^^^^^^^^^^^^^^^^^^^^^^^^^^^^^\n",
      "  File \"/home/ram/projects/enbios2/venv/lib/python3.11/site-packages/IPython/core/ultratb.py\", line 1319, in structured_traceback\n",
      "    return VerboseTB.structured_traceback(\n",
      "           ^^^^^^^^^^^^^^^^^^^^^^^^^^^^^^^\n",
      "  File \"/home/ram/projects/enbios2/venv/lib/python3.11/site-packages/IPython/core/ultratb.py\", line 1172, in structured_traceback\n",
      "    formatted_exception = self.format_exception_as_a_whole(etype, evalue, etb, number_of_lines_of_context,\n",
      "                          ^^^^^^^^^^^^^^^^^^^^^^^^^^^^^^^^^^^^^^^^^^^^^^^^^^^^^^^^^^^^^^^^^^^^^^^^^^^^^^^^\n",
      "  File \"/home/ram/projects/enbios2/venv/lib/python3.11/site-packages/IPython/core/ultratb.py\", line 1087, in format_exception_as_a_whole\n",
      "    frames.append(self.format_record(record))\n",
      "                  ^^^^^^^^^^^^^^^^^^^^^^^^^^\n",
      "  File \"/home/ram/projects/enbios2/venv/lib/python3.11/site-packages/IPython/core/ultratb.py\", line 969, in format_record\n",
      "    frame_info.lines, Colors, self.has_colors, lvals\n",
      "    ^^^^^^^^^^^^^^^^\n",
      "  File \"/home/ram/projects/enbios2/venv/lib/python3.11/site-packages/IPython/core/ultratb.py\", line 792, in lines\n",
      "    return self._sd.lines\n",
      "           ^^^^^^^^^^^^^^\n",
      "  File \"/home/ram/projects/enbios2/venv/lib/python3.11/site-packages/stack_data/utils.py\", line 144, in cached_property_wrapper\n",
      "    value = obj.__dict__[self.func.__name__] = self.func(obj)\n",
      "                                               ^^^^^^^^^^^^^^\n",
      "  File \"/home/ram/projects/enbios2/venv/lib/python3.11/site-packages/stack_data/core.py\", line 734, in lines\n",
      "    pieces = self.included_pieces\n",
      "             ^^^^^^^^^^^^^^^^^^^^\n",
      "  File \"/home/ram/projects/enbios2/venv/lib/python3.11/site-packages/stack_data/utils.py\", line 144, in cached_property_wrapper\n",
      "    value = obj.__dict__[self.func.__name__] = self.func(obj)\n",
      "                                               ^^^^^^^^^^^^^^\n",
      "  File \"/home/ram/projects/enbios2/venv/lib/python3.11/site-packages/stack_data/core.py\", line 681, in included_pieces\n",
      "    pos = scope_pieces.index(self.executing_piece)\n",
      "                             ^^^^^^^^^^^^^^^^^^^^\n",
      "  File \"/home/ram/projects/enbios2/venv/lib/python3.11/site-packages/stack_data/utils.py\", line 144, in cached_property_wrapper\n",
      "    value = obj.__dict__[self.func.__name__] = self.func(obj)\n",
      "                                               ^^^^^^^^^^^^^^\n",
      "  File \"/home/ram/projects/enbios2/venv/lib/python3.11/site-packages/stack_data/core.py\", line 660, in executing_piece\n",
      "    return only(\n",
      "           ^^^^^\n",
      "  File \"/home/ram/projects/enbios2/venv/lib/python3.11/site-packages/executing/executing.py\", line 190, in only\n",
      "    raise NotOneValueFound('Expected one value, found 0')\n",
      "executing.executing.NotOneValueFound: Expected one value, found 0\n"
     ]
    }
   ],
   "source": [
    "# create a experiment object. This will validate the activities, their outputs, the methods and the scenarios.\n",
    "exp: Experiment = Experiment(raw_data)"
   ]
  },
  {
   "cell_type": "code",
   "execution_count": 19,
   "metadata": {
    "ExecuteTime": {
     "end_time": "2023-09-18T14:16:19.749771061Z",
     "start_time": "2023-09-18T14:16:19.705362299Z"
    }
   },
   "outputs": [
    {
     "name": "stdout",
     "output_type": "stream",
     "text": [
      "Experiment: \n",
      "Activities: 6\n",
      "  electricity production, wind, >3MW turbine, onshore - electricity production, wind, >3MW turbine, onshore\n",
      "  electricity production, wind, 1-3MW turbine, onshore - electricity production, wind, 1-3MW turbine, onshore\n",
      "  electricity production, wind, 1-3MW turbine, offshore - electricity production, wind, 1-3MW turbine, offshore\n",
      "  electricity production, wind, <1MW turbine, onshore - electricity production, wind, <1MW turbine, onshore\n",
      "  electricity production, solar tower power plant, 20 MW - electricity production, solar tower power plant, 20 MW\n",
      "  electricity production, solar thermal parabolic trough, 50 MW - electricity production, solar thermal parabolic trough, 50 MW\n",
      "Methods: 4\n",
      " ('ReCiPe 2016 v1.03, endpoint (E) no LT', 'human health no LT', 'climate change: human health no LT')\n",
      " ('EDIP 2003', 'human toxicity', 'via air')\n",
      " ('EF v3.1 no LT', 'human toxicity: carcinogenic no LT', 'comparative toxic unit for human (CTUh) no LT')\n",
      " ('ReCiPe 2016 v1.03, endpoint (H) no LT', 'human health no LT', 'ozone depletion no LT')\n",
      "Hierarchy (depth): 3\n",
      "Scenarios: 8\n"
     ]
    }
   ],
   "source": [
    "print(exp.info())"
   ]
  },
  {
   "cell_type": "code",
   "execution_count": 20,
   "metadata": {
    "ExecuteTime": {
     "end_time": "2023-09-18T14:16:21.190107524Z",
     "start_time": "2023-09-18T14:16:20.637793078Z"
    }
   },
   "outputs": [],
   "source": [
    "exp = Experiment(raw_data)"
   ]
  },
  {
   "cell_type": "code",
   "execution_count": 30,
   "outputs": [],
   "source": [
    "_ = exp.run()"
   ],
   "metadata": {
    "collapsed": false,
    "ExecuteTime": {
     "end_time": "2023-09-19T08:04:07.759187797Z",
     "start_time": "2023-09-19T07:50:37.912546619Z"
    }
   }
  },
  {
   "cell_type": "code",
   "execution_count": 31,
   "outputs": [
    {
     "data": {
      "text/plain": "'0:13:29'"
     },
     "execution_count": 31,
     "metadata": {},
     "output_type": "execute_result"
    }
   ],
   "source": [
    "exp.execution_time"
   ],
   "metadata": {
    "collapsed": false,
    "ExecuteTime": {
     "end_time": "2023-09-19T08:04:07.864905822Z",
     "start_time": "2023-09-19T08:04:07.802040376Z"
    }
   }
  },
  {
   "cell_type": "code",
   "execution_count": null,
   "outputs": [],
   "source": [
    "from pathlib import Path\n",
    "\n",
    "exp.results_to_csv(\"s1.csv\", level_names=[\"root\", \"technology\", \"activity\"])\n",
    "df = pd.read_csv(\"s1.csv\").fillna(\"\")\n",
    "Path(\"s1.csv\").unlink()\n",
    "df"
   ],
   "metadata": {
    "collapsed": false
   }
  },
  {
   "cell_type": "code",
   "execution_count": 23,
   "outputs": [],
   "source": [
    "from enbios2.generic.files import DataPath\n",
    "import pickle\n",
    "\n",
    "pickle.dump(exp, DataPath(\"test_data/exp.pkl\").open(\"wb\"))"
   ],
   "metadata": {
    "collapsed": false,
    "ExecuteTime": {
     "end_time": "2023-09-18T14:46:34.451863362Z",
     "start_time": "2023-09-18T14:46:34.359510237Z"
    }
   }
  },
  {
   "cell_type": "code",
   "execution_count": 32,
   "outputs": [
    {
     "data": {
      "text/plain": "[ScenarioResultNodeData(output=('kilowatt_hour', 8.0), results={'ReCiPe 2016 v1.03, endpoint (E) no LT_human health no LT_climate change: human health no LT': 2.2459819913683697e-06, 'EDIP 2003_human toxicity_via air': 791976.7223746454, 'EF v3.1 no LT_human toxicity: carcinogenic no LT_comparative toxic unit for human (CTUh) no LT': 9.410761255249915e-10, 'ReCiPe 2016 v1.03, endpoint (H) no LT_human health no LT_ozone depletion no LT': 3.7767645697409365e-11}, bw_activity='electricity production, wind, >3MW turbine, onshore' (kilowatt hour, ES, None)),\n ScenarioResultNodeData(output=('kilowatt_hour', 3.0), results={'ReCiPe 2016 v1.03, endpoint (E) no LT_human health no LT_climate change: human health no LT': 5.091191665386904e-07, 'EDIP 2003_human toxicity_via air': 83543.30934557733, 'EF v3.1 no LT_human toxicity: carcinogenic no LT_comparative toxic unit for human (CTUh) no LT': 2.3228561898088935e-10, 'ReCiPe 2016 v1.03, endpoint (H) no LT_human health no LT_ozone depletion no LT': 7.182120176006624e-12}, bw_activity='electricity production, wind, 1-3MW turbine, onshore' (kilowatt hour, ES, None)),\n ScenarioResultNodeData(output=('kilowatt_hour', 5.0), results={'ReCiPe 2016 v1.03, endpoint (E) no LT_human health no LT_climate change: human health no LT': 9.528971100928675e-07, 'EDIP 2003_human toxicity_via air': 155382.05430096044, 'EF v3.1 no LT_human toxicity: carcinogenic no LT_comparative toxic unit for human (CTUh) no LT': 5.517928401206116e-10, 'ReCiPe 2016 v1.03, endpoint (H) no LT_human health no LT_ozone depletion no LT': 1.672878002884798e-11}, bw_activity='electricity production, wind, 1-3MW turbine, offshore' (kilowatt hour, ES, None)),\n ScenarioResultNodeData(output=('kilowatt_hour', 7.0), results={'ReCiPe 2016 v1.03, endpoint (E) no LT_human health no LT_climate change: human health no LT': 1.1400490192310413e-06, 'EDIP 2003_human toxicity_via air': 186487.5551586023, 'EF v3.1 no LT_human toxicity: carcinogenic no LT_comparative toxic unit for human (CTUh) no LT': 7.645579393879784e-10, 'ReCiPe 2016 v1.03, endpoint (H) no LT_human health no LT_ozone depletion no LT': 1.8792178430756492e-11}, bw_activity='electricity production, wind, <1MW turbine, onshore' (kilowatt hour, ES, None)),\n ScenarioResultNodeData(output=('kilowatt_hour', 9.0), results={'ReCiPe 2016 v1.03, endpoint (E) no LT_human health no LT_climate change: human health no LT': 4.878224409151405e-06, 'EDIP 2003_human toxicity_via air': 241147.96159099418, 'EF v3.1 no LT_human toxicity: carcinogenic no LT_comparative toxic unit for human (CTUh) no LT': 8.020724651494174e-10, 'ReCiPe 2016 v1.03, endpoint (H) no LT_human health no LT_ozone depletion no LT': 3.339681187979162e-11}, bw_activity='electricity production, solar tower power plant, 20 MW' (kilowatt hour, ES, None)),\n ScenarioResultNodeData(output=('kilowatt_hour', 8.0), results={'ReCiPe 2016 v1.03, endpoint (E) no LT_human health no LT_climate change: human health no LT': 4.848781349339833e-06, 'EDIP 2003_human toxicity_via air': 1399446.4240894017, 'EF v3.1 no LT_human toxicity: carcinogenic no LT_comparative toxic unit for human (CTUh) no LT': 6.25152086292249e-10, 'ReCiPe 2016 v1.03, endpoint (H) no LT_human health no LT_ozone depletion no LT': 9.412075818224454e-11}, bw_activity='electricity production, solar thermal parabolic trough, 50 MW' (kilowatt hour, ES, None))]"
     },
     "execution_count": 32,
     "metadata": {},
     "output_type": "execute_result"
    }
   ],
   "source": [
    "activities = list(exp.scenarios[0].result_tree.get_leaves())\n",
    "[a._data for a in activities]"
   ],
   "metadata": {
    "collapsed": false,
    "ExecuteTime": {
     "end_time": "2023-09-18T14:56:08.482514264Z",
     "start_time": "2023-09-18T14:56:08.423198636Z"
    }
   }
  },
  {
   "cell_type": "code",
   "execution_count": 31,
   "outputs": [
    {
     "ename": "AssertionError",
     "evalue": "data shoould be set before (node: 'electricity production, wind, >3MW turbine, onshore')",
     "output_type": "error",
     "traceback": [
      "\u001B[0;31m---------------------------------------------------------------------------\u001B[0m",
      "\u001B[0;31mAssertionError\u001B[0m                            Traceback (most recent call last)",
      "Cell \u001B[0;32mIn[31], line 1\u001B[0m\n\u001B[0;32m----> 1\u001B[0m \u001B[43mexp\u001B[49m\u001B[38;5;241;43m.\u001B[39;49m\u001B[43mscenarios\u001B[49m\u001B[43m[\u001B[49m\u001B[38;5;241;43m0\u001B[39;49m\u001B[43m]\u001B[49m\u001B[38;5;241;43m.\u001B[39;49m\u001B[43mrearrange_results\u001B[49m\u001B[43m(\u001B[49m\u001B[43m{\u001B[49m\n\u001B[1;32m      2\u001B[0m \u001B[43m    \u001B[49m\u001B[38;5;124;43m\"\u001B[39;49m\u001B[38;5;124;43mgroup1\u001B[39;49m\u001B[38;5;124;43m\"\u001B[39;49m\u001B[43m:\u001B[49m\u001B[43m \u001B[49m\u001B[43m[\u001B[49m\n\u001B[1;32m      3\u001B[0m \u001B[43m        \u001B[49m\u001B[38;5;124;43m'\u001B[39;49m\u001B[38;5;124;43melectricity production, wind, >3MW turbine, onshore\u001B[39;49m\u001B[38;5;124;43m'\u001B[39;49m\u001B[43m,\u001B[49m\n\u001B[1;32m      4\u001B[0m \u001B[43m        \u001B[49m\u001B[38;5;124;43m'\u001B[39;49m\u001B[38;5;124;43melectricity production, wind, 1-3MW turbine, onshore\u001B[39;49m\u001B[38;5;124;43m'\u001B[39;49m\u001B[43m,\u001B[49m\n\u001B[1;32m      5\u001B[0m \u001B[43m        \u001B[49m\u001B[38;5;124;43m'\u001B[39;49m\u001B[38;5;124;43melectricity production, wind, 1-3MW turbine, offshore\u001B[39;49m\u001B[38;5;124;43m'\u001B[39;49m\n\u001B[1;32m      6\u001B[0m \u001B[43m    \u001B[49m\u001B[43m]\u001B[49m\u001B[43m,\u001B[49m\n\u001B[1;32m      7\u001B[0m \u001B[43m    \u001B[49m\u001B[38;5;124;43m\"\u001B[39;49m\u001B[38;5;124;43mgroup2\u001B[39;49m\u001B[38;5;124;43m\"\u001B[39;49m\u001B[43m:\u001B[49m\u001B[43m \u001B[49m\u001B[43m[\u001B[49m\n\u001B[1;32m      8\u001B[0m \u001B[43m        \u001B[49m\u001B[38;5;124;43m'\u001B[39;49m\u001B[38;5;124;43melectricity production, wind, <1MW turbine, onshore\u001B[39;49m\u001B[38;5;124;43m'\u001B[39;49m\u001B[43m,\u001B[49m\n\u001B[1;32m      9\u001B[0m \u001B[43m        \u001B[49m\u001B[38;5;124;43m'\u001B[39;49m\u001B[38;5;124;43melectricity production, solar tower power plant, 20 MW\u001B[39;49m\u001B[38;5;124;43m'\u001B[39;49m\u001B[43m,\u001B[49m\n\u001B[1;32m     10\u001B[0m \u001B[43m        \u001B[49m\u001B[38;5;124;43m'\u001B[39;49m\u001B[38;5;124;43melectricity production, solar thermal parabolic trough, 50 MW\u001B[39;49m\u001B[38;5;124;43m'\u001B[39;49m\u001B[43m]\u001B[49m\n\u001B[1;32m     11\u001B[0m \u001B[43m}\u001B[49m\u001B[43m)\u001B[49m\n",
      "File \u001B[0;32m~/projects/enbios2/enbios2/base/scenario.py:286\u001B[0m, in \u001B[0;36mScenario.rearrange_results\u001B[0;34m(self, hierarchy)\u001B[0m\n\u001B[1;32m    284\u001B[0m \u001B[38;5;28;01mfor\u001B[39;00m node \u001B[38;5;129;01min\u001B[39;00m activity_nodes:\n\u001B[1;32m    285\u001B[0m     alt_node \u001B[38;5;241m=\u001B[39m \u001B[38;5;28mnext\u001B[39m(\u001B[38;5;28mfilter\u001B[39m(\u001B[38;5;28;01mlambda\u001B[39;00m n: n\u001B[38;5;241m.\u001B[39mname \u001B[38;5;241m==\u001B[39m node\u001B[38;5;241m.\u001B[39mname, alt_activity_nodes))\n\u001B[0;32m--> 286\u001B[0m     node\u001B[38;5;241m.\u001B[39m_data \u001B[38;5;241m=\u001B[39m \u001B[43malt_node\u001B[49m\u001B[38;5;241;43m.\u001B[39;49m\u001B[43mdata\u001B[49m\n\u001B[1;32m    288\u001B[0m alt_result_tree\u001B[38;5;241m.\u001B[39mrecursive_apply(Scenario\u001B[38;5;241m.\u001B[39m_recursive_resolve_outputs,\n\u001B[1;32m    289\u001B[0m                                 depth_first\u001B[38;5;241m=\u001B[39m\u001B[38;5;28;01mTrue\u001B[39;00m,\n\u001B[1;32m    290\u001B[0m                                 scenario\u001B[38;5;241m=\u001B[39m\u001B[38;5;28mself\u001B[39m,\n\u001B[1;32m    291\u001B[0m                                 cancel_parents_of\u001B[38;5;241m=\u001B[39m\u001B[38;5;28mset\u001B[39m())\n\u001B[1;32m    293\u001B[0m alt_result_tree\u001B[38;5;241m.\u001B[39mrecursive_apply(Scenario\u001B[38;5;241m.\u001B[39m_propagate_results_upwards, depth_first\u001B[38;5;241m=\u001B[39m\u001B[38;5;28;01mTrue\u001B[39;00m)\n",
      "File \u001B[0;32m~/projects/enbios2/enbios2/generic/tree/basic_tree.py:74\u001B[0m, in \u001B[0;36mBasicTreeNode.data\u001B[0;34m(self)\u001B[0m\n\u001B[1;32m     72\u001B[0m \u001B[38;5;129m@property\u001B[39m\n\u001B[1;32m     73\u001B[0m \u001B[38;5;28;01mdef\u001B[39;00m \u001B[38;5;21mdata\u001B[39m(\u001B[38;5;28mself\u001B[39m) \u001B[38;5;241m-\u001B[39m\u001B[38;5;241m>\u001B[39m T:\n\u001B[0;32m---> 74\u001B[0m     \u001B[38;5;28;01massert\u001B[39;00m \u001B[38;5;28mself\u001B[39m\u001B[38;5;241m.\u001B[39m_data \u001B[38;5;129;01mis\u001B[39;00m \u001B[38;5;129;01mnot\u001B[39;00m \u001B[38;5;28;01mNone\u001B[39;00m, \u001B[38;5;124mf\u001B[39m\u001B[38;5;124m\"\u001B[39m\u001B[38;5;124mdata shoould be set before (node: \u001B[39m\u001B[38;5;124m'\u001B[39m\u001B[38;5;132;01m{\u001B[39;00m\u001B[38;5;28mself\u001B[39m\u001B[38;5;241m.\u001B[39mname\u001B[38;5;132;01m}\u001B[39;00m\u001B[38;5;124m'\u001B[39m\u001B[38;5;124m)\u001B[39m\u001B[38;5;124m\"\u001B[39m\n\u001B[1;32m     75\u001B[0m     \u001B[38;5;28;01mreturn\u001B[39;00m \u001B[38;5;28mself\u001B[39m\u001B[38;5;241m.\u001B[39m_data\n",
      "\u001B[0;31mAssertionError\u001B[0m: data shoould be set before (node: 'electricity production, wind, >3MW turbine, onshore')"
     ]
    }
   ],
   "source": [
    "exp.scenarios[0].rearrange_results(\n",
    "    {\n",
    "        \"group1\": [\n",
    "            \"electricity production, wind, >3MW turbine, onshore\",\n",
    "            \"electricity production, wind, 1-3MW turbine, onshore\",\n",
    "            \"electricity production, wind, 1-3MW turbine, offshore\",\n",
    "        ],\n",
    "        \"group2\": [\n",
    "            \"electricity production, wind, <1MW turbine, onshore\",\n",
    "            \"electricity production, solar tower power plant, 20 MW\",\n",
    "            \"electricity production, solar thermal parabolic trough, 50 MW\",\n",
    "        ],\n",
    "    }\n",
    ")"
   ],
   "metadata": {
    "collapsed": false,
    "ExecuteTime": {
     "end_time": "2023-09-18T14:49:35.946042226Z",
     "start_time": "2023-09-18T14:49:35.804637442Z"
    }
   }
  },
  {
   "cell_type": "code",
   "execution_count": null,
   "outputs": [],
   "source": [],
   "metadata": {
    "collapsed": false
   }
  }
 ],
 "metadata": {
  "kernelspec": {
   "display_name": "Python 3 (ipykernel)",
   "language": "python",
   "name": "python3"
  },
  "language_info": {
   "codemirror_mode": {
    "name": "ipython",
    "version": 3
   },
   "file_extension": ".py",
   "mimetype": "text/x-python",
   "name": "python",
   "nbconvert_exporter": "python",
   "pygments_lexer": "ipython3",
   "version": "3.11.4"
  }
 },
 "nbformat": 4,
 "nbformat_minor": 1
}
