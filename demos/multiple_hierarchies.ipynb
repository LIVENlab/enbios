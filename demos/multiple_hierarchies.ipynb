{
 "cells": [
  {
   "cell_type": "code",
   "id": "initial_id",
   "metadata": {
    "collapsed": true,
    "ExecuteTime": {
     "end_time": "2024-04-09T08:40:32.007873Z",
     "start_time": "2024-04-09T08:40:30.123976Z"
    }
   },
   "source": [
    "import pickle\n",
    "from pathlib import Path\n",
    "\n",
    "from enbios import Experiment"
   ],
   "execution_count": 1,
   "outputs": []
  },
  {
   "cell_type": "code",
   "source": [
    "# Open a pickled experiment object. If it does not exist, it will be created\n",
    "BRIGHTWAY_ECOINVENT_391_PROJECT_NAME = \"ecoinvent_391\"\n",
    "existing_experiment = Path(\"exp.pickle\")\n",
    "if existing_experiment.exists():\n",
    "    experiment = pickle.load(existing_experiment.open(\"rb\"))\n",
    "else:\n",
    "    experiment = Experiment(\n",
    "        {\n",
    "            \"adapters\": [\n",
    "                {\n",
    "                    \"adapter_name\": \"brightway-adapter\",\n",
    "                    \"config\": {\"bw_project\": BRIGHTWAY_ECOINVENT_391_PROJECT_NAME},\n",
    "                    \"methods\": {\n",
    "                        \"GWP1000\": (\n",
    "                            \"ReCiPe 2016 v1.03, midpoint (H)\",\n",
    "                            \"climate change\",\n",
    "                            \"global warming potential (GWP1000)\",\n",
    "                        )\n",
    "                    },\n",
    "                }\n",
    "            ],\n",
    "            \"hierarchy\": {\n",
    "                \"name\": \"root\",\n",
    "                \"aggregator\": \"sum\",\n",
    "                \"children\": [\n",
    "                    {\n",
    "                        \"name\": \"wind\",\n",
    "                        \"aggregator\": \"sum\",\n",
    "                        \"children\": [\n",
    "                            {\n",
    "                                \"name\": \"electricity production, wind, 1-3MW turbine, onshore\",\n",
    "                                \"adapter\": \"bw\",\n",
    "                                \"config\": {\n",
    "                                    \"code\": \"ed3da88fc23311ee183e9ffd376de89b\",\n",
    "                                    \"default_output\": {\n",
    "                                        \"unit\": \"kilowatt_hour\",\n",
    "                                        \"magnitude\": 3,\n",
    "                                    },\n",
    "                                },\n",
    "                            },\n",
    "                            {\n",
    "                                \"name\": \"electricity production, wind, 1-3MW turbine, offshore\",\n",
    "                                \"adapter\": \"bw\",\n",
    "                                \"config\": {\"code\": \"6ebfe52dc3ef5b4d35bb603b03559023\"},\n",
    "                            },\n",
    "                        ],\n",
    "                    },\n",
    "                    {\n",
    "                        \"name\": \"solar\",\n",
    "                        \"aggregator\": \"sum\",\n",
    "                        \"children\": [\n",
    "                            {\n",
    "                                \"name\": \"electricity production, solar tower power plant, 20 MW\",\n",
    "                                \"adapter\": \"bw\",\n",
    "                                \"config\": {\"code\": \"f2700b2ffcb6b32143a6f95d9cca1721\"},\n",
    "                            },\n",
    "                            {\n",
    "                                \"name\": \"electricity production, solar thermal parabolic trough, 50 MW\",\n",
    "                                \"adapter\": \"bw\",\n",
    "                                \"config\": {\"code\": \"19040cdacdbf038e2f6ad59814f7a9ed\"},\n",
    "                            },\n",
    "                        ],\n",
    "                    },\n",
    "                ],\n",
    "            },\n",
    "        }\n",
    "    )\n",
    "    experiment.run()"
   ],
   "metadata": {
    "collapsed": false,
    "ExecuteTime": {
     "end_time": "2024-04-09T08:40:32.018574Z",
     "start_time": "2024-04-09T08:40:32.009679Z"
    }
   },
   "id": "664eeffc63230f08",
   "execution_count": 2,
   "outputs": []
  },
  {
   "metadata": {
    "ExecuteTime": {
     "end_time": "2024-04-09T09:00:18.058200Z",
     "start_time": "2024-04-09T09:00:18.055291Z"
    }
   },
   "cell_type": "code",
   "source": "experiment.get_simplified_hierarchy(print_it=True);",
   "id": "da49383fa21fc897",
   "execution_count": 10,
   "outputs": []
  },
  {
   "cell_type": "code",
   "source": [
    "# let's try a flat hierarchy with all nodes directly under the root. These are all structural (bottom) nodes of our hierarchy\n",
    "experiment.structural_nodes_names"
   ],
   "metadata": {
    "collapsed": false,
    "ExecuteTime": {
     "end_time": "2024-04-09T08:40:32.043591Z",
     "start_time": "2024-04-09T08:40:32.036601Z"
    }
   },
   "id": "e6e7cf38d4f978b0",
   "execution_count": 4,
   "outputs": []
  },
  {
   "metadata": {
    "ExecuteTime": {
     "end_time": "2024-04-09T08:40:32.249855Z",
     "start_time": "2024-04-09T08:40:32.245653Z"
    }
   },
   "cell_type": "code",
   "source": [
    "# let's build the flat hierarchy\n",
    "alt_hierarchy = {\n",
    "    \"name\": \"root\",\n",
    "    \"aggregator\": \"sum\",\n",
    "    \"children\": experiment.structural_nodes_names,\n",
    "}\n",
    "\n",
    "alt_hierarchy"
   ],
   "id": "292d23f99af616c1",
   "execution_count": 5,
   "outputs": []
  },
  {
   "metadata": {},
   "cell_type": "markdown",
   "source": "__Note how, we can simply pass the names of structural nodes in a list as children.__ That is because when calculating the results for an alternative hierarchy, we do not change the outputs and thus the results of the structural nodes - __Only aggregation of outputs and results is reevaluated!__This also allows new and different aggregators and structural nodes. ",
   "id": "a360fb8bdebff3df"
  },
  {
   "metadata": {
    "ExecuteTime": {
     "end_time": "2024-04-09T08:41:44.359951Z",
     "start_time": "2024-04-09T08:41:44.349421Z"
    }
   },
   "cell_type": "code",
   "source": [
    "import json\n",
    "\n",
    "# we can pass the new hierarchy to result_to_dict, for the whole experiment (all scenarios in a list)\n",
    "rearranged_result_tree = experiment.result_to_dict(\n",
    "    include_output=False, alternative_hierarchy=alt_hierarchy\n",
    ")\n",
    "\n",
    "print(json.dumps(rearranged_result_tree, indent=2))"
   ],
   "id": "3eed052f8274d4d6",
   "execution_count": 9,
   "outputs": []
  },
  {
   "cell_type": "code",
   "source": [
    "# or to a single scenario\n",
    "rearranged_result_tree = experiment.scenarios[0].result_to_dict(\n",
    "    alternative_hierarchy=alt_hierarchy\n",
    ")\n",
    "\n",
    "rearranged_result_tree"
   ],
   "metadata": {
    "collapsed": false,
    "ExecuteTime": {
     "end_time": "2024-04-09T07:29:28.357989Z",
     "start_time": "2024-04-09T07:29:28.349433Z"
    }
   },
   "id": "100295acd9c780b6",
   "execution_count": 5,
   "outputs": []
  },
  {
   "cell_type": "code",
   "source": [
    "import pandas as pd\n",
    "\n",
    "experiment.scenarios[0].results_to_csv(\"s1.csv\", level_names=[\"root\", \"tech\", \"activity\"])\n",
    "pd.read_csv(\"s1.csv\").fillna(\"\")\n",
    "Path(\"s1.csv\").unlink()  # delete the file again"
   ],
   "metadata": {
    "collapsed": false,
    "ExecuteTime": {
     "end_time": "2024-04-09T07:30:20.296302Z",
     "start_time": "2024-04-09T07:30:20.287328Z"
    }
   },
   "id": "2c78a05b602f3bcc",
   "execution_count": 8,
   "outputs": []
  },
  {
   "cell_type": "code",
   "source": [
    "import pandas as pd\n",
    "\n",
    "experiment.scenarios[0].results_to_csv(\n",
    "    \"s1.csv\", alternative_hierarchy=alt_hierarchy, level_names=[\"root\", \"activity\"]\n",
    ")\n",
    "pd.read_csv(\"s1.csv\").fillna(\"\")\n",
    "Path(\"s1.csv\").unlink()  # delete the file again"
   ],
   "metadata": {
    "collapsed": false,
    "ExecuteTime": {
     "end_time": "2024-04-09T07:30:28.387146Z",
     "start_time": "2024-04-09T07:30:28.373651Z"
    }
   },
   "id": "222d40231ddaf996",
   "execution_count": 9,
   "outputs": []
  }
 ],
 "metadata": {
  "kernelspec": {
   "display_name": "Python 3",
   "language": "python",
   "name": "python3"
  },
  "language_info": {
   "codemirror_mode": {
    "name": "ipython",
    "version": 2
   },
   "file_extension": ".py",
   "mimetype": "text/x-python",
   "name": "python",
   "nbconvert_exporter": "python",
   "pygments_lexer": "ipython2",
   "version": "2.7.6"
  }
 },
 "nbformat": 4,
 "nbformat_minor": 5
}
