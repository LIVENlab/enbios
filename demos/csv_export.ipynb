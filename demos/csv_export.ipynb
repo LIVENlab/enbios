{
 "cells": [
  {
   "cell_type": "code",
   "id": "initial_id",
   "metadata": {
    "collapsed": true,
    "ExecuteTime": {
     "end_time": "2024-04-29T07:13:09.581854Z",
     "start_time": "2024-04-29T07:13:07.406953Z"
    }
   },
   "source": [
    "from demos.demo_experiment import get_demo_experiment\n",
    "from enbios import Experiment\n",
    "\n",
    "exp: Experiment = get_demo_experiment()"
   ],
   "execution_count": 1,
   "outputs": []
  },
  {
   "metadata": {
    "ExecuteTime": {
     "end_time": "2024-04-29T07:13:09.593568Z",
     "start_time": "2024-04-29T07:13:09.582985Z"
    }
   },
   "cell_type": "code",
   "source": [
    "# The destination file path is the only required parameter\n",
    "csv_file_destination = \"experiment_export.csv\"\n",
    "exp.results_to_csv(csv_file_destination)"
   ],
   "id": "5e37f5c052d8918b",
   "execution_count": 2,
   "outputs": []
  },
  {
   "metadata": {
    "ExecuteTime": {
     "end_time": "2024-04-29T07:13:09.975083Z",
     "start_time": "2024-04-29T07:13:09.947426Z"
    }
   },
   "cell_type": "code",
   "source": [
    "# let's display that csv file\n",
    "import pandas\n",
    "\n",
    "pandas.read_csv(csv_file_destination).fillna(\"\")"
   ],
   "id": "69b8bcc2d0ff4dc8",
   "execution_count": 3,
   "outputs": []
  },
  {
   "metadata": {},
   "cell_type": "markdown",
   "source": [
    "# parameters for the results_to_csv function\n",
    "\n",
    "file_path: string or Path object\n",
    "\n",
    "scenario_name: Optional string. If not given, all scenarios are included (default).\n",
    "\n",
    "level_names: alternative list of string (level names) to use in the csv file (instead of `level_{i}`). Only used when `flat_hierarchy=False`\n",
    "\n",
    "include_method_units: Optional bool. If True, the units of the method are included in the csv file. (default: True)\n",
    "\n",
    "include_output: Optional bool. If True, the outputs of all nodes are included (unit, magnitude).  (default: True)\n",
    "\n",
    "flat_hierarchy: Optional bool. If True, the hierarchy is flattened, meaning there will only be one column indicating the level of a node.  (default: False)\n",
    "\n",
    "include_extras: Optional bool. If True, the extra information are provided for each, depending on their adapter/aggregator. (default: True)\n",
    "\n",
    "repeat_parent_name: Repeat node name, for all children. Only used when `flat_hierarchy=False`. (default: False)\n",
    "\n",
    "alternative_hierarchy: Optional dict. If given, the hierarchy is replaced by the given hierarchy.\n"
   ],
   "id": "f1cbee59916816e7"
  },
  {
   "metadata": {
    "ExecuteTime": {
     "end_time": "2024-04-29T07:13:15.869379Z",
     "start_time": "2024-04-29T07:13:15.852297Z"
    }
   },
   "cell_type": "code",
   "source": [
    "# Flat hierarchy: Just one level columns\n",
    "exp.results_to_csv(csv_file_destination, flat_hierarchy=True, include_output=False)\n",
    "pandas.read_csv(csv_file_destination).fillna(\"\")"
   ],
   "id": "2c2ee9e3396f3187",
   "execution_count": 4,
   "outputs": []
  },
  {
   "metadata": {
    "ExecuteTime": {
     "end_time": "2024-04-29T07:13:17.228266Z",
     "start_time": "2024-04-29T07:13:17.214111Z"
    }
   },
   "cell_type": "code",
   "source": [
    "exp.results_to_csv(\n",
    "    csv_file_destination,\n",
    "    scenarios=\"scenario 2\",\n",
    "    repeat_parent_name=True,\n",
    "    level_names=[\"root\", \"tech\", \"activity\"],\n",
    "    include_method_units=False,\n",
    "    include_extras=False,\n",
    "    include_output=False,\n",
    ")\n",
    "pandas.read_csv(csv_file_destination).fillna(\"\")"
   ],
   "id": "907588964e17e380",
   "execution_count": 5,
   "outputs": []
  },
  {
   "metadata": {
    "ExecuteTime": {
     "end_time": "2024-04-24T09:58:43.102781Z",
     "start_time": "2024-04-24T09:58:43.096769Z"
    }
   },
   "cell_type": "code",
   "source": [
    "# let's try with a different hierarchy (a trivial one)\n",
    "# first, let's get the snames of the structural nodes:\n",
    "exp.structural_nodes_names"
   ],
   "id": "3ecdb33d023572af",
   "execution_count": 6,
   "outputs": []
  },
  {
   "metadata": {
    "ExecuteTime": {
     "end_time": "2024-04-24T10:00:40.083622Z",
     "start_time": "2024-04-24T10:00:40.075454Z"
    }
   },
   "cell_type": "code",
   "source": [
    "# construct a new hierarchy. Note that we only need the names to refer to the structural nodes, no configuration!\n",
    "alt_hierarchy = {\n",
    "    \"name\": \"root\",\n",
    "    \"agregator\": \"sum\",\n",
    "    \"children\": [{\"name\": node} for node in exp.structural_nodes_names],\n",
    "}\n",
    "alt_hierarchy"
   ],
   "id": "edfb094c52e97554",
   "execution_count": 10,
   "outputs": []
  },
  {
   "metadata": {
    "ExecuteTime": {
     "end_time": "2024-04-24T10:02:06.880182Z",
     "start_time": "2024-04-24T10:02:06.859638Z"
    }
   },
   "cell_type": "code",
   "source": [
    "exp.results_to_csv(\n",
    "    csv_file_destination, flat_hierarchy=True, alternative_hierarchy=alt_hierarchy\n",
    ")\n",
    "pandas.read_csv(csv_file_destination).fillna(\"\")"
   ],
   "id": "e42642e381f13e86",
   "execution_count": 14,
   "outputs": []
  }
 ],
 "metadata": {
  "kernelspec": {
   "display_name": "Python 3",
   "language": "python",
   "name": "python3"
  },
  "language_info": {
   "codemirror_mode": {
    "name": "ipython",
    "version": 2
   },
   "file_extension": ".py",
   "mimetype": "text/x-python",
   "name": "python",
   "nbconvert_exporter": "python",
   "pygments_lexer": "ipython2",
   "version": "2.7.6"
  }
 },
 "nbformat": 4,
 "nbformat_minor": 5
}
