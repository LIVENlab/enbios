{
 "cells": [
  {
   "cell_type": "code",
   "id": "initial_id",
   "metadata": {
    "collapsed": true,
    "ExecuteTime": {
     "end_time": "2024-06-03T09:44:12.004920Z",
     "start_time": "2024-06-03T09:44:11.997964Z"
    }
   },
   "source": [
    "import json\n",
    "\n",
    "config = json.load(open(\"config.json\", encoding=\"utf-8\"))"
   ],
   "outputs": [],
   "execution_count": 1
  },
  {
   "metadata": {},
   "cell_type": "markdown",
   "source": "this configuration value of the configuration of the britghway adapter needs the name of the brightway project we want to operate on.",
   "id": "21bd06bcf8127a17"
  },
  {
   "metadata": {
    "ExecuteTime": {
     "end_time": "2024-06-03T11:19:28.514291Z",
     "start_time": "2024-06-03T11:19:28.511297Z"
    }
   },
   "cell_type": "code",
   "source": "config[\"adapters\"][0][\"config\"][\"bw_project\"]",
   "id": "b973a2a096b9bee1",
   "outputs": [
    {
     "data": {
      "text/plain": [
       "'ecoinvent_391'"
      ]
     },
     "execution_count": 19,
     "metadata": {},
     "output_type": "execute_result"
    }
   ],
   "execution_count": 19
  },
  {
   "metadata": {},
   "cell_type": "markdown",
   "source": [
    "Regionalizations are defined by hierarchical location names, which are described in lists of strings for each activity.\n",
    "Setting the regions of brighway activities we have two possibilities. Activities that are included in the 'hierarchy' can include their location in teir config with field `enb_location`. Like so:\n"
   ],
   "id": "4d12ee711711d71"
  },
  {
   "metadata": {
    "ExecuteTime": {
     "end_time": "2024-06-03T09:44:13.116023Z",
     "start_time": "2024-06-03T09:44:13.112323Z"
    }
   },
   "cell_type": "code",
   "source": "config[\"hierarchy\"][\"children\"][0][\"config\"][\"enb_location\"]",
   "id": "64a458e7e97789ec",
   "outputs": [
    {
     "data": {
      "text/plain": [
       "['EU', 'ESP', 'CAT']"
      ]
     },
     "execution_count": 3,
     "metadata": {},
     "output_type": "execute_result"
    }
   ],
   "execution_count": 3
  },
  {
   "metadata": {},
   "cell_type": "markdown",
   "source": [
    "For all other activities, for which the functional units are not required,  we can specify regions lists in the field `set_node_regions`, which is a dictionary, where the keys are brightway activity codes and the values are lists of region names. (Note that it's required but under normal circumstances the case that brightway activities in one project have unique code, tho it's not strickty required for brightway, since it also uses activities database as identifier, which we omitt here, under the given assumption).\n",
    "\n",
    "It is also important to note, that a region that is described as a string, must be on the same index on all specified lists it is included. For example here:\n",
    "\n",
    "```\n",
    "{\n",
    "\"activity_0\": [\"EU\", \"DK\"],\n",
    "\"activity_1\": [\"EU\", \"SW\"],\n",
    "\"activity_4\": [\"EU\", \"ES\", \"CAT\"],\n",
    "\"activity_5\": [\"EU\", \"ES\", \"BAC\"],\n",
    "}\n",
    "```  \n",
    "\n",
    "but not\n",
    "\n",
    "```\n",
    "{\n",
    "\"activity_0\": [\"EU\", \"DK\"],\n",
    "\"activity_1\": [\"ES\", \"CAT\"],\n",
    "\"activity_2\": [\"EU\", \"ES\", \"BAC\"],\n",
    "}\n",
    "```  \n",
    "\n",
    "since \"ES\" (Spain) appears on index 1 for activity 1 but on index 2 for activity 2.\n"
   ],
   "id": "4da96aaa7bc7d333"
  },
  {
   "metadata": {
    "ExecuteTime": {
     "end_time": "2024-06-03T12:01:25.341661Z",
     "start_time": "2024-06-03T12:01:25.338291Z"
    }
   },
   "cell_type": "code",
   "source": "config[\"adapters\"][0][\"config\"][\"simple_regionalization\"][\"set_node_regions\"]\n",
   "id": "e38516141887871b",
   "outputs": [
    {
     "data": {
      "text/plain": [
       "{'<code>': ['ES', 'CAT']}"
      ]
     },
     "execution_count": 23,
     "metadata": {},
     "output_type": "execute_result"
    }
   ],
   "execution_count": 23
  },
  {
   "metadata": {
    "ExecuteTime": {
     "end_time": "2024-06-03T15:58:54.703861Z",
     "start_time": "2024-06-03T15:58:53.335329Z"
    }
   },
   "cell_type": "code",
   "source": [
    "from enbios.bw2.brightway_experiment_adapter import BrightwayAdapter\n",
    "from enbios import Experiment\n",
    "\n",
    "exp = Experiment(config)\n",
    "bw_adapter: BrightwayAdapter = exp.get_adapter_by_name(\"brightway-adapter\")\n",
    "bw_adapter.prepare_regionalization()"
   ],
   "id": "f5f15fbc81939f41",
   "outputs": [
    {
     "name": "stdout",
     "output_type": "stream",
     "text": [
      "Excluding 0 filtered results\n",
      "Excluding 104 filtered results\n",
      "2024-06-03 17:58:54,702 - /home/ra/projects/enbios/enbios/bw2/brightway_experiment_adapter.py - WARNING - Some activities specified in 'set_node_regions' are not found: {'<code>'}\n"
     ]
    }
   ],
   "execution_count": 31
  },
  {
   "metadata": {},
   "cell_type": "markdown",
   "source": [
    "```\n",
    "# is the regionalization should be applied (default: false)\n",
    "run_regionalization: boolean\n",
    "\n",
    "# the regions of which we want the regionalization impacts of. a list of strings, which must be included in the defined locations. Which levels of the regional are selected does not matter. (e.g. it could be [\"EU\", \"DK\", \"CAT]) and those regions would be included in the results.\n",
    "select_regions: list of regions\n",
    "# As explained above, locations of activities not included in the hierarchy \n",
    "set_node_regions: dict of regions (as described above)\n",
    "# all other activities get their 'enb_location' field deleted, which acts as a reset (default: false).\n",
    "clear_all_other_node_regions: boolean\n",
    "```\n",
    "The locations that brightway stores in activities coming from Ecoinvent in the activities under the key: \"location\", is not considered for the enbios regionalization. \n",
    "\n",
    "When the `run_regionalization` is set to true, enbios will do modifications to the activities as they ar stored in brightway.\n",
    "All nodes, which are defined in the hierarchy with an `enb_locations` will get that set during the node validation done by the brightway adapter. All other activities and the reset (clear_all_other_node_regions) are performed before the first scenario is run.\n"
   ],
   "id": "fe7074ea446711e3"
  },
  {
   "metadata": {},
   "cell_type": "markdown",
   "source": [
    "## Step by step changes that enbios applies to brightway activities\n",
    "Enbios will search for all relevant activities and also set the key 'enb_location', which is not use by brightway for anything accordingly. When the LCI is calculated it splits the LCI matrix by regions, before applying the characterization, so that it can give regionalized impacts.  "
   ],
   "id": "d978da53298286d8"
  },
  {
   "metadata": {},
   "cell_type": "code",
   "outputs": [
    {
     "data": {
      "text/plain": [
       "Databases dictionary with 2 object(s):\n",
       "\tbiosphere3\n",
       "\tecoinvent_391_cutoff"
      ]
     },
     "execution_count": 4,
     "metadata": {},
     "output_type": "execute_result"
    }
   ],
   "execution_count": 4,
   "source": [
    "import bw2data\n",
    "# first select the project\n",
    "bw2data.projects.set_current(\"ecoinvent_391\")\n",
    "bw2data.databases"
   ],
   "id": "bd1bd7440c93aa47"
  },
  {
   "metadata": {
    "ExecuteTime": {
     "end_time": "2024-06-03T09:56:56.232303Z",
     "start_time": "2024-06-03T09:56:56.227179Z"
    }
   },
   "cell_type": "code",
   "source": [
    "# but we also select the right database before searching for activities\n",
    "db = bw2data.Database(\"ecoinvent_391_cutoff\")"
   ],
   "id": "3f9e86c9bf3c64c8",
   "outputs": [],
   "execution_count": 8
  },
  {
   "metadata": {
    "ExecuteTime": {
     "end_time": "2024-06-03T15:11:03.518973Z",
     "start_time": "2024-06-03T15:11:03.510671Z"
    }
   },
   "cell_type": "code",
   "source": [
    "# let's look at the specif of the activity in our hierarchy, as they are needed to pinpoint the activity we are looking for.\n",
    "# Consider that in other examples, we simply used the activities code to identify activities. However, with a combination of name, location and unit, enbioes is able to filter candidates accordingly and works if the result is one single activity. \n",
    "activity_config = config[\"hierarchy\"][\"children\"][0][\"config\"]\n",
    "activity_config"
   ],
   "id": "e0914c20699ab6a2",
   "outputs": [
    {
     "data": {
      "text/plain": [
       "{'name': 'heat and power co-generation, wood chips, 6667 kW, state-of-the-art 2014',\n",
       " 'unit': 'kilowatt hour',\n",
       " 'location': 'DK',\n",
       " 'enb_location': ['EU', 'ESP', 'CAT'],\n",
       " 'default_output': {'unit': 'kWh', 'magnitude': 1}}"
      ]
     },
     "execution_count": 25,
     "metadata": {},
     "output_type": "execute_result"
    }
   ],
   "execution_count": 25
  },
  {
   "metadata": {
    "ExecuteTime": {
     "end_time": "2024-06-03T15:11:11.429877Z",
     "start_time": "2024-06-03T15:11:11.199946Z"
    }
   },
   "cell_type": "code",
   "source": [
    "found_activities = db.search(activity_config[\"name\"], filter={\"location\":\"DK\"})\n",
    "found_activities"
   ],
   "id": "728c65cd471f6d0b",
   "outputs": [
    {
     "name": "stdout",
     "output_type": "stream",
     "text": [
      "Excluding 104 filtered results\n"
     ]
    },
    {
     "data": {
      "text/plain": [
       "['heat and power co-generation, wood chips, 6667 kW, state-of-the-art 2014' (megajoule, DK, None),\n",
       " 'heat and power co-generation, wood chips, 6667 kW, state-of-the-art 2014' (kilowatt hour, DK, None)]"
      ]
     },
     "execution_count": 27,
     "metadata": {},
     "output_type": "execute_result"
    }
   ],
   "execution_count": 27
  },
  {
   "metadata": {
    "ExecuteTime": {
     "end_time": "2024-06-03T09:58:58.310768Z",
     "start_time": "2024-06-03T09:58:58.307816Z"
    }
   },
   "cell_type": "code",
   "source": "# the 2nd activity matches the unit (index 1). We can set its 'enb_location' and save it.",
   "id": "e05c6dc940696e1e",
   "outputs": [
    {
     "data": {
      "text/plain": [
       "'kilowatt hour'"
      ]
     },
     "execution_count": 15,
     "metadata": {},
     "output_type": "execute_result"
    }
   ],
   "execution_count": 15
  },
  {
   "metadata": {},
   "cell_type": "code",
   "outputs": [],
   "execution_count": null,
   "source": [
    "found_activities[1][\"enb_location\"] = [\"EU\", \"DK\"]\n",
    "found_activities[1].save()"
   ],
   "id": "985dbd624afa3189"
  },
  {
   "metadata": {},
   "cell_type": "code",
   "outputs": [],
   "execution_count": null,
   "source": "# Note that enbios, uses other brightway internal mechanisms to set all locations, which is much more performant that as described above. However it also possible to call the function in the adapter that makes these changes directly\n",
   "id": "825ade5147a1b05e"
  }
 ],
 "metadata": {
  "kernelspec": {
   "display_name": "Python 3",
   "language": "python",
   "name": "python3"
  },
  "language_info": {
   "codemirror_mode": {
    "name": "ipython",
    "version": 2
   },
   "file_extension": ".py",
   "mimetype": "text/x-python",
   "name": "python",
   "nbconvert_exporter": "python",
   "pygments_lexer": "ipython2",
   "version": "2.7.6"
  }
 },
 "nbformat": 4,
 "nbformat_minor": 5
}
