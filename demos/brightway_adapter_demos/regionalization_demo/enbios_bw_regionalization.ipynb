{
 "cells": [
  {
   "metadata": {},
   "cell_type": "markdown",
   "source": [
    "# Brightway adapter regionalization demo\n",
    "\n",
    "In this demo, we go through the configuration for the brightway adapter that demonstrates how to get regionalized results.\n",
    "\n",
    "First we load the configuration file."
   ],
   "id": "ee47317b27982213"
  },
  {
   "metadata": {
    "ExecuteTime": {
     "end_time": "2024-06-04T11:17:53.111260Z",
     "start_time": "2024-06-04T11:17:53.101590Z"
    }
   },
   "cell_type": "code",
   "source": [
    "import json\n",
    "\n",
    "config = json.load(open(\"config.json\", encoding=\"utf-8\"))"
   ],
   "id": "initial_id",
   "outputs": [],
   "execution_count": 1
  },
  {
   "metadata": {},
   "cell_type": "markdown",
   "source": "First it is important that we specify the brightway project we want to operate on in the adapter configuration",
   "id": "21bd06bcf8127a17"
  },
  {
   "metadata": {
    "ExecuteTime": {
     "end_time": "2024-06-04T11:17:53.207144Z",
     "start_time": "2024-06-04T11:17:53.201352Z"
    }
   },
   "cell_type": "code",
   "source": [
    "config[\"adapters\"][0][\"config\"][\"bw_project\"]\n",
    "# use\n",
    "# config[\"adapters\"][0][\"config\"][\"bw_project\"] = \"<something else>\"\n",
    "# to assign it"
   ],
   "id": "b973a2a096b9bee1",
   "outputs": [
    {
     "data": {
      "text/plain": [
       "'ecoinvent_391'"
      ]
     },
     "execution_count": 2,
     "metadata": {},
     "output_type": "execute_result"
    }
   ],
   "execution_count": 2
  },
  {
   "metadata": {},
   "cell_type": "markdown",
   "source": [
    "Rationalizations are defined by hierarchical location names, which are described in lists of strings for each activity.\n",
    "Setting the regions of brightway activities we have two possibilities. Activities that are included in the 'hierarchy' can include their location in their config with field `enb_location`. Like so:\n"
   ],
   "id": "4d12ee711711d71"
  },
  {
   "metadata": {
    "ExecuteTime": {
     "end_time": "2024-06-04T11:17:53.231091Z",
     "start_time": "2024-06-04T11:17:53.226381Z"
    }
   },
   "cell_type": "code",
   "source": "config[\"hierarchy\"][\"children\"][0][\"config\"]",
   "id": "eaad01835eddfcbe",
   "outputs": [
    {
     "data": {
      "text/plain": [
       "{'name': 'heat and power co-generation, wood chips, 6667 kW, state-of-the-art 2014',\n",
       " 'unit': 'kilowatt hour',\n",
       " 'location': 'DK',\n",
       " 'enb_location': ['EU', 'DK'],\n",
       " 'default_output': {'unit': 'kWh', 'magnitude': 1}}"
      ]
     },
     "execution_count": 3,
     "metadata": {},
     "output_type": "execute_result"
    }
   ],
   "execution_count": 3
  },
  {
   "metadata": {},
   "cell_type": "markdown",
   "source": [
    "For all other activities, for which the functional units are not required,  we can specify regions lists in the field `set_node_regions`, which is a dictionary, where the keys are brightway activity codes and the values are lists of region names. (Note that it's required but under normal circumstances the case that brightway activities in one project have unique code, tho it's not strickty required for brightway, since it also uses activities database as identifier, which we omit here, under the given assumption). In case, the Brightway adapter contains a helper funciton that can be used to validate that all codes in a brighway project are unique:\n",
    "\n",
    " `BrightwayAdapter.assert_all_codes_unique(raise_error: Optional[bool] = False, bw_project: Optional[str] = None)`\n",
    "Which uses the current bw_project if not specified and writes a warning (or raises an error) if there are duplicate codes.\n",
    "\n",
    "It is also important to note, that a region that is described as a string, must be on the same index on all specified lists it is included. For example here:\n",
    "\n",
    "```\n",
    "{\n",
    "\"activity_0\": [\"EU\", \"DK\"],\n",
    "\"activity_1\": [\"EU\", \"SW\"],\n",
    "\"activity_4\": [\"EU\", \"ES\", \"CAT\"],\n",
    "\"activity_5\": [\"EU\", \"ES\", \"BAC\"],\n",
    "}\n",
    "```  \n",
    "\n",
    "but not\n",
    "\n",
    "```\n",
    "{\n",
    "\"activity_0\": [\"EU\", \"DK\"],\n",
    "\"activity_1\": [\"ES\", \"CAT\"],\n",
    "\"activity_2\": [\"EU\", \"ES\", \"BAC\"],\n",
    "}\n",
    "```  \n",
    "\n",
    "since \"ES\" (Spain) appears on index 1 for activity 1 but on index 2 for activity 2.\n"
   ],
   "id": "4da96aaa7bc7d333"
  },
  {
   "metadata": {},
   "cell_type": "markdown",
   "source": "Lets clear this for now: ",
   "id": "7f980f688f8b18"
  },
  {
   "metadata": {
    "ExecuteTime": {
     "end_time": "2024-06-04T11:17:53.320425Z",
     "start_time": "2024-06-04T11:17:53.314798Z"
    }
   },
   "cell_type": "code",
   "source": "config[\"adapters\"][0][\"config\"][\"simple_regionalization\"][\"set_node_regions\"] = {}",
   "id": "e38516141887871b",
   "outputs": [],
   "execution_count": 4
  },
  {
   "metadata": {},
   "cell_type": "markdown",
   "source": "Let's look at the rest of the configuration for regionalization:",
   "id": "91939dac1c52967a"
  },
  {
   "metadata": {
    "ExecuteTime": {
     "end_time": "2024-06-04T11:17:53.340066Z",
     "start_time": "2024-06-04T11:17:53.333721Z"
    }
   },
   "cell_type": "code",
   "source": "config[\"adapters\"][0][\"config\"][\"simple_regionalization\"]",
   "id": "bf11f4f5e8bdbda5",
   "outputs": [
    {
     "data": {
      "text/plain": [
       "{'run_regionalization': True,\n",
       " 'select_regions': ['EU'],\n",
       " 'set_node_regions': {},\n",
       " 'clear_all_other_node_regions': True}"
      ]
     },
     "execution_count": 5,
     "metadata": {},
     "output_type": "execute_result"
    }
   ],
   "execution_count": 5
  },
  {
   "metadata": {},
   "cell_type": "markdown",
   "source": [
    "These are the parameters:\n",
    "```\n",
    "# is the regionalization should be applied (default: false)\n",
    "run_regionalization: boolean\n",
    "\n",
    "# the regions of which we want the regionalization impacts of. a list of strings, which must be included in the defined locations. Which levels of the regional are selected does not matter. (e.g. it could be [\"EU\", \"DK\", \"CAT]) and those regions would be included in the results.\n",
    "select_regions: list of regions\n",
    "# As explained above, locations of activities not included in the hierarchy \n",
    "set_node_regions: dict of regions (as described above)\n",
    "# all other activities get their 'enb_location' field deleted, which acts as a reset (default: false).\n",
    "clear_all_other_node_regions: boolean\n",
    "```\n",
    "The locations that brightway stores in activities coming from Ecoinvent in the activities under the key: \"location\", is not considered for the enbios regionalization. \n"
   ],
   "id": "6680d6b37f8b9b56"
  },
  {
   "metadata": {},
   "cell_type": "markdown",
   "source": "Finally, we need to select the regions, of which we want the regionalized results of. This is done by setting the `select_regions` field in the configuration. This field is list of strings, which can be any set of region strings we used for the activity locations. ",
   "id": "2a6aaf558836bc3b"
  },
  {
   "metadata": {
    "ExecuteTime": {
     "end_time": "2024-06-04T11:17:53.357332Z",
     "start_time": "2024-06-04T11:17:53.354393Z"
    }
   },
   "cell_type": "code",
   "source": "config[\"adapters\"][0][\"config\"][\"simple_regionalization\"][\"select_regions\"] = [\"DK\"]",
   "id": "8a34c70d28eb9345",
   "outputs": [],
   "execution_count": 6
  },
  {
   "metadata": {},
   "cell_type": "markdown",
   "source": "Create an experiment with the config...",
   "id": "e96f4e508b808220"
  },
  {
   "metadata": {
    "ExecuteTime": {
     "end_time": "2024-06-04T11:17:58.232539Z",
     "start_time": "2024-06-04T11:17:53.381329Z"
    }
   },
   "cell_type": "code",
   "source": [
    "from enbios import Experiment\n",
    "\n",
    "exp = Experiment(config)\n",
    "exp"
   ],
   "id": "d165aadd0c321c5e",
   "outputs": [
    {
     "name": "stdout",
     "output_type": "stream",
     "text": [
      "Excluding 0 filtered results\n",
      "Excluding 104 filtered results\n"
     ]
    },
    {
     "data": {
      "text/plain": [
       "Experiment: (call info() for details)\n",
       "Structural nodes: 1\n",
       "Methods: 1\n",
       "Hierarchy (depth): 2\n",
       "Scenarios: 1"
      ]
     },
     "execution_count": 7,
     "metadata": {},
     "output_type": "execute_result"
    }
   ],
   "execution_count": 7
  },
  {
   "metadata": {},
   "cell_type": "markdown",
   "source": "And run it...",
   "id": "ed0a72dfc69292b1"
  },
  {
   "metadata": {
    "ExecuteTime": {
     "end_time": "2024-06-04T11:18:52.480725Z",
     "start_time": "2024-06-04T11:17:58.234395Z"
    }
   },
   "cell_type": "code",
   "source": "exp.run()",
   "id": "ca008a1292e761b6",
   "outputs": [
    {
     "name": "stdout",
     "output_type": "stream",
     "text": [
      "2024-06-04 13:17:58,236 - demos.brightway_adapter_demos.regionalization_demo.enbios.base - INFO - Running scenario 'default scenario'\n",
      "2024-06-04 13:18:39,544 - enbios.bw2.MultiLCA_util - DEBUG - Demand 0/1\n"
     ]
    },
    {
     "data": {
      "text/plain": [
       "{'default scenario': {'name': 'root',\n",
       "  'results': {'GWP1000.DK': {'unit': 'kg CO2-Eq',\n",
       "    'magnitude': 1.5298065586599818}},\n",
       "  'output': [{'unit': 'kilowatt_hour', 'magnitude': 1.0, 'label': None}],\n",
       "  'children': [{'name': 'single_activity',\n",
       "    'results': {'GWP1000.DK': {'unit': 'kg CO2-Eq',\n",
       "      'magnitude': 1.5298065586599818}},\n",
       "    'output': [{'unit': 'kilowatt_hour', 'magnitude': 1.0, 'label': None}],\n",
       "    'bw_activity_code': 'b9d74efa4fd670b1977a3471ec010737'}]}}"
      ]
     },
     "execution_count": 8,
     "metadata": {},
     "output_type": "execute_result"
    }
   ],
   "execution_count": 8
  },
  {
   "metadata": {},
   "cell_type": "markdown",
   "source": "Lets take some activities of the background system and move them to Denmark too and rerun the experiment",
   "id": "abb53efed2af2b80"
  },
  {
   "metadata": {
    "ExecuteTime": {
     "end_time": "2024-06-04T11:20:04.437234Z",
     "start_time": "2024-06-04T11:18:52.482634Z"
    }
   },
   "cell_type": "code",
   "source": [
    "from bw2data.backends import Activity\n",
    "\n",
    "# Get the bw-adapter and its activities; get the first and only activity\n",
    "activity = list(exp.get_adapter_by_name(\"brightway-adapter\").activityMap.values())[0].bw_activity\n",
    "\n",
    "\n",
    "def recursively_collect_activities(activity, level: int = 1) -> list[Activity]:\n",
    "    if level == 0:\n",
    "        return [activity]\n",
    "    else:\n",
    "        res = []\n",
    "        for exc in activity.exchanges():\n",
    "            res.extend(recursively_collect_activities(exc.input, level - 1))\n",
    "        return list(set(res))\n",
    "\n",
    "move_to_denmark = recursively_collect_activities(activity, 3)\n",
    "print(f\"{len(move_to_denmark)} activities to move to Denmark\")\n",
    "# get its brightway Activity's exchanges\n",
    "for act in move_to_denmark:\n",
    "    config[\"adapters\"][0][\"config\"][\"simple_regionalization\"][\"set_node_regions\"][act[\"code\"]] = [\"EU\", \"DK\"]\n",
    "\n",
    "# \n",
    "# config\n",
    "exp = Experiment(config)\n",
    "exp.run()"
   ],
   "id": "bfd75b76d091f185",
   "outputs": [
    {
     "name": "stdout",
     "output_type": "stream",
     "text": [
      "905 activities to move to Denmark\n",
      "Excluding 0 filtered results\n",
      "Excluding 104 filtered results\n",
      "2024-06-04 13:18:55,439 - demos.brightway_adapter_demos.regionalization_demo.enbios.base - INFO - Running scenario 'default scenario'\n",
      "2024-06-04 13:19:44,714 - enbios.bw2.MultiLCA_util - DEBUG - Demand 0/1\n"
     ]
    },
    {
     "data": {
      "text/plain": [
       "{'default scenario': {'name': 'root',\n",
       "  'results': {'GWP1000.DK': {'unit': 'kg CO2-Eq',\n",
       "    'magnitude': 1.5390792603316303}},\n",
       "  'output': [{'unit': 'kilowatt_hour', 'magnitude': 1.0, 'label': None}],\n",
       "  'children': [{'name': 'single_activity',\n",
       "    'results': {'GWP1000.DK': {'unit': 'kg CO2-Eq',\n",
       "      'magnitude': 1.5390792603316303}},\n",
       "    'output': [{'unit': 'kilowatt_hour', 'magnitude': 1.0, 'label': None}],\n",
       "    'bw_activity_code': 'b9d74efa4fd670b1977a3471ec010737'}]}}"
      ]
     },
     "execution_count": 9,
     "metadata": {},
     "output_type": "execute_result"
    }
   ],
   "execution_count": 9
  },
  {
   "metadata": {
    "ExecuteTime": {
     "end_time": "2024-06-04T11:20:19.007394Z",
     "start_time": "2024-06-04T11:20:04.440453Z"
    }
   },
   "cell_type": "code",
   "source": [
    "from enbios.bw2.brightway_experiment_adapter import BrightwayAdapter\n",
    "from enbios import Experiment\n",
    "\n",
    "exp = Experiment(config)\n",
    "bw_adapter: BrightwayAdapter = exp.get_adapter_by_name(\"brightway-adapter\")\n",
    "bw_adapter.prepare_regionalization()"
   ],
   "id": "f5f15fbc81939f41",
   "outputs": [
    {
     "name": "stdout",
     "output_type": "stream",
     "text": [
      "Excluding 0 filtered results\n",
      "Excluding 104 filtered results\n"
     ]
    }
   ],
   "execution_count": 10
  },
  {
   "metadata": {},
   "cell_type": "markdown",
   "source": [
    "\n",
    "When the `run_regionalization` is set to true, enbios will do modifications to the activities as they ar stored in brightway.\n",
    "All nodes, which are defined in the hierarchy with an `enb_locations` will get that set during the node validation done by the brightway adapter. All other activities and the reset (clear_all_other_node_regions) are performed before the first scenario is run.\n"
   ],
   "id": "fe7074ea446711e3"
  },
  {
   "metadata": {},
   "cell_type": "markdown",
   "source": [
    "## Step by step changes that enbios applies to brightway activities\n",
    "Enbios will search for all relevant activities and also set the key 'enb_location', which is not use by brightway for anything accordingly. When the LCI is calculated it splits the LCI matrix by regions, before applying the characterization, so that it can give regionalized impacts.  "
   ],
   "id": "d978da53298286d8"
  },
  {
   "metadata": {
    "ExecuteTime": {
     "end_time": "2024-06-04T11:20:19.026022Z",
     "start_time": "2024-06-04T11:20:19.009241Z"
    }
   },
   "cell_type": "code",
   "source": [
    "import bw2data\n",
    "\n",
    "# first select the project\n",
    "bw2data.projects.set_current(\"ecoinvent_391\")\n",
    "bw2data.databases"
   ],
   "id": "bd1bd7440c93aa47",
   "outputs": [
    {
     "data": {
      "text/plain": [
       "Databases dictionary with 2 object(s):\n",
       "\tbiosphere3\n",
       "\tecoinvent_391_cutoff"
      ]
     },
     "execution_count": 11,
     "metadata": {},
     "output_type": "execute_result"
    }
   ],
   "execution_count": 11
  },
  {
   "metadata": {
    "ExecuteTime": {
     "end_time": "2024-06-04T11:20:19.031773Z",
     "start_time": "2024-06-04T11:20:19.027795Z"
    }
   },
   "cell_type": "code",
   "source": [
    "# but we also select the right database before searching for activities\n",
    "db = bw2data.Database(\"ecoinvent_391_cutoff\")"
   ],
   "id": "3f9e86c9bf3c64c8",
   "outputs": [],
   "execution_count": 12
  },
  {
   "metadata": {
    "ExecuteTime": {
     "end_time": "2024-06-04T11:20:19.042117Z",
     "start_time": "2024-06-04T11:20:19.033636Z"
    }
   },
   "cell_type": "code",
   "source": [
    "# let's look at the specif of the activity in our hierarchy, as they are needed to pinpoint the activity we are looking for.\n",
    "# Consider that in other examples, we simply used the activities code to identify activities. However, with a combination of name, location and unit, enbioes is able to filter candidates accordingly and works if the result is one single activity. \n",
    "activity_config = config[\"hierarchy\"][\"children\"][0][\"config\"]\n",
    "activity_config"
   ],
   "id": "e0914c20699ab6a2",
   "outputs": [
    {
     "data": {
      "text/plain": [
       "{'name': 'heat and power co-generation, wood chips, 6667 kW, state-of-the-art 2014',\n",
       " 'unit': 'kilowatt hour',\n",
       " 'location': 'DK',\n",
       " 'enb_location': ['EU', 'DK'],\n",
       " 'default_output': {'unit': 'kWh', 'magnitude': 1}}"
      ]
     },
     "execution_count": 13,
     "metadata": {},
     "output_type": "execute_result"
    }
   ],
   "execution_count": 13
  },
  {
   "metadata": {
    "ExecuteTime": {
     "end_time": "2024-06-04T11:20:19.415261Z",
     "start_time": "2024-06-04T11:20:19.044431Z"
    }
   },
   "cell_type": "code",
   "source": [
    "found_activities = db.search(activity_config[\"name\"], filter={\"location\": \"DK\"})\n",
    "found_activities"
   ],
   "id": "728c65cd471f6d0b",
   "outputs": [
    {
     "name": "stdout",
     "output_type": "stream",
     "text": [
      "Excluding 104 filtered results\n"
     ]
    },
    {
     "data": {
      "text/plain": [
       "['heat and power co-generation, wood chips, 6667 kW, state-of-the-art 2014' (megajoule, DK, None),\n",
       " 'heat and power co-generation, wood chips, 6667 kW, state-of-the-art 2014' (kilowatt hour, DK, None)]"
      ]
     },
     "execution_count": 14,
     "metadata": {},
     "output_type": "execute_result"
    }
   ],
   "execution_count": 14
  },
  {
   "metadata": {
    "ExecuteTime": {
     "end_time": "2024-06-04T11:20:19.418530Z",
     "start_time": "2024-06-04T11:20:19.416094Z"
    }
   },
   "cell_type": "code",
   "source": "# the 2nd activity matches the unit (index 1). We can set its 'enb_location' and save it.",
   "id": "e05c6dc940696e1e",
   "outputs": [],
   "execution_count": 15
  },
  {
   "metadata": {
    "ExecuteTime": {
     "end_time": "2024-06-04T11:20:19.517311Z",
     "start_time": "2024-06-04T11:20:19.420246Z"
    }
   },
   "cell_type": "code",
   "source": [
    "found_activities[1][\"enb_location\"] = [\"EU\", \"DK\"]\n",
    "found_activities[1].save()"
   ],
   "id": "985dbd624afa3189",
   "outputs": [],
   "execution_count": 16
  },
  {
   "metadata": {
    "ExecuteTime": {
     "end_time": "2024-06-04T11:20:19.520533Z",
     "start_time": "2024-06-04T11:20:19.518287Z"
    }
   },
   "cell_type": "code",
   "source": "# Note that enbios, uses other brightway internal mechanisms to set all locations, which is much more performant that as described above. However it also possible to call the function in the adapter that makes these changes directly\n",
   "id": "825ade5147a1b05e",
   "outputs": [],
   "execution_count": 17
  }
 ],
 "metadata": {
  "kernelspec": {
   "display_name": "Python 3",
   "language": "python",
   "name": "python3"
  },
  "language_info": {
   "codemirror_mode": {
    "name": "ipython",
    "version": 2
   },
   "file_extension": ".py",
   "mimetype": "text/x-python",
   "name": "python",
   "nbconvert_exporter": "python",
   "pygments_lexer": "ipython2",
   "version": "2.7.6"
  }
 },
 "nbformat": 4,
 "nbformat_minor": 5
}
