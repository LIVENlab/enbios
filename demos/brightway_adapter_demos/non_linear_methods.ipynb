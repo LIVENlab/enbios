{
 "cells": [
  {
   "cell_type": "code",
   "id": "initial_id",
   "metadata": {
    "collapsed": true,
    "ExecuteTime": {
     "end_time": "2024-06-05T10:54:06.037877Z",
     "start_time": "2024-06-05T10:54:04.013917Z"
    }
   },
   "source": [
    "import json\n",
    "\n",
    "import bw2data\n",
    "\n",
    "from enbios import Experiment\n",
    "\n",
    "config = json.load(open(\"non_linear_config.json\", encoding=\"utf-8\"))"
   ],
   "outputs": [],
   "execution_count": 1
  },
  {
   "metadata": {
    "ExecuteTime": {
     "end_time": "2024-06-05T10:54:07.302543Z",
     "start_time": "2024-06-05T10:54:06.039592Z"
    }
   },
   "cell_type": "code",
   "source": [
    "exp = Experiment(config)\n",
    "exp"
   ],
   "id": "a4434c095fe46644",
   "outputs": [
    {
     "name": "stdout",
     "output_type": "stream",
     "text": [
      "Excluding 0 filtered results\n",
      "Excluding 104 filtered results\n"
     ]
    },
    {
     "data": {
      "text/plain": [
       "Experiment: (call info() for details)\n",
       "Structural nodes: 1\n",
       "Methods: 1\n",
       "Hierarchy (depth): 2\n",
       "Scenarios: 1"
      ]
     },
     "execution_count": 2,
     "metadata": {},
     "output_type": "execute_result"
    }
   ],
   "execution_count": 2
  },
  {
   "metadata": {
    "ExecuteTime": {
     "end_time": "2024-06-05T10:54:07.306529Z",
     "start_time": "2024-06-05T10:54:07.303425Z"
    }
   },
   "cell_type": "code",
   "source": [
    "bw_adapter_def: dict = config[\"adapters\"][0]\n",
    "bw_method = bw_adapter_def[\"methods\"]\n",
    "bw_method"
   ],
   "id": "6903e84fbbad7648",
   "outputs": [
    {
     "data": {
      "text/plain": [
       "{'GWP1000': ['ReCiPe 2016 v1.03, midpoint (E)',\n",
       "  'climate change',\n",
       "  'global warming potential (GWP1000)']}"
      ]
     },
     "execution_count": 3,
     "metadata": {},
     "output_type": "execute_result"
    }
   ],
   "execution_count": 3
  },
  {
   "metadata": {
    "ExecuteTime": {
     "end_time": "2024-06-05T10:54:27.008011Z",
     "start_time": "2024-06-05T10:54:07.308384Z"
    }
   },
   "cell_type": "code",
   "source": [
    "result = exp.run()\n",
    "result[Experiment.DEFAULT_SCENARIO_NAME][\"results\"]"
   ],
   "id": "16ee9ebd368e53b3",
   "outputs": [
    {
     "name": "stdout",
     "output_type": "stream",
     "text": [
      "2024-06-05 12:54:07,318 - demos.brightway_adapter_demos.enbios.base - INFO - Running scenario 'default scenario'\n",
      "2024-06-05 12:54:15,342 - enbios.bw2.MultiLCA_util - DEBUG - Demand 0/1\n"
     ]
    },
    {
     "data": {
      "text/plain": [
       "{'GWP1000': {'unit': 'kg CO2-Eq', 'magnitude': 1.570765820650225}}"
      ]
     },
     "execution_count": 4,
     "metadata": {},
     "output_type": "execute_result"
    }
   ],
   "execution_count": 4
  },
  {
   "metadata": {},
   "cell_type": "markdown",
   "source": [
    "Let's have a look at the characterization factors. They can be loaded from brightway like this.\n",
    "Whay we are getting back is a list of tuples. Each tuple has two elements, first a list which identifies the biosphere activity by its database and code, and 2nd the characterization factor for that activity.  `([<database>,<code>], <cf>)`.\n",
    "\n"
   ],
   "id": "26f31f04aed5ef5f"
  },
  {
   "metadata": {
    "ExecuteTime": {
     "end_time": "2024-06-05T10:54:27.026063Z",
     "start_time": "2024-06-05T10:54:27.009652Z"
    }
   },
   "cell_type": "code",
   "source": [
    "method_cfs = bw2data.Method(tuple(bw_method[\"GWP1000\"])).load()\n",
    "# or # bw_adapter.methods[\"GWP1000\"].id\n",
    "method_cfs"
   ],
   "id": "b95a10aad1afa862",
   "outputs": [
    {
     "data": {
      "text/plain": [
       "[(['biosphere3', 'e259263c-d1f1-449f-bb9b-73c6d0a32a00'], 1),\n",
       " (['biosphere3', '16eeda8a-1ea2-408e-ab37-2648495058dd'], 1),\n",
       " (['biosphere3', 'aa7cac3a-3625-41d4-bc54-33e2cf11ec46'], 1),\n",
       " (['biosphere3', '349b29d1-3e58-4c66-98b9-9d1a076efd2e'], 1),\n",
       " (['biosphere3', 'f9749677-9c9f-4678-ab55-c607dfdc2cb9'], 1),\n",
       " (['biosphere3', 'e1c597cc-14cb-4ebb-af07-7a93a5b77d34'], 1),\n",
       " (['biosphere3', '6d89125e-e9b7-4d7e-a1fc-ada45dbd8815'], 1),\n",
       " (['biosphere3', '78eb1859-abd9-44c6-9ce3-f3b5b33d619c'], 1),\n",
       " (['biosphere3', 'e4e9febc-07c1-403d-8d3a-6707bb4d96e6'], 1),\n",
       " (['biosphere3', 'e8787b5e-d927-446d-81a9-f56977bbfeb4'], 1),\n",
       " (['biosphere3', '28e1e2d6-97ad-4dfd-932a-9edad36dcab9'], 1),\n",
       " (['biosphere3', '4e1f0bb0-2703-4303-bf86-972d810612cf'], 1),\n",
       " (['biosphere3', 'd6235194-e4e6-4548-bfa3-ac095131aef4'], 1),\n",
       " (['biosphere3', 'eba59fd6-f37e-41dc-9ca3-c7ea22d602c7'], 1),\n",
       " (['biosphere3', '73ed05cc-9727-4abf-9516-4b5c0fe54a16'], 1),\n",
       " (['biosphere3', '259cf8d6-6ea8-4ccf-84b7-23c930a5b2b3'], -1),\n",
       " (['biosphere3', '8ae4d8bb-3e4b-4825-8325-94696d7a64fd'], -1),\n",
       " (['biosphere3', '60d424f7-d5a9-4549-9540-da06684bc3bb'], -1),\n",
       " (['biosphere3', '375bc95e-6596-4aa1-9716-80ff51b9da77'], -1),\n",
       " (['biosphere3', 'fbf6ab3a-74e3-4cbe-b61d-959728bdce46'], 2.74),\n",
       " (['biosphere3', '4cadbc9f-0472-4bb9-a942-df5b90e37878'], 2.74),\n",
       " (['biosphere3', '81305cda-63f1-4c1a-99c6-2c2568550ec4'], 78.8),\n",
       " (['biosphere3', '473826ae-125a-4b02-8c8e-c84322491d80'], 78.8),\n",
       " (['biosphere3', 'afd6d670-bbb0-4625-9730-04088a5b035e'], 78.8),\n",
       " (['biosphere3', '20185046-64bb-4c09-a8e7-e8a9e144ca98'], 78.8),\n",
       " (['biosphere3', '6dc1b46f-ee89-4495-95c4-b8a637bcd6cb'], 78.8),\n",
       " (['biosphere3', 'e87f039d-d9ce-4242-ac18-c9284cc80f3d'], 218),\n",
       " (['biosphere3', 'fa0c2bee-8dd9-4f8a-8489-b1f3b43de958'], 218),\n",
       " (['biosphere3', 'ce6294f5-2ed7-46ee-a967-33e265e34455'], 26.8),\n",
       " (['biosphere3', '818cee9e-231c-4b53-8ed2-47a0001802d5'], 26.8),\n",
       " (['biosphere3', 'bf580c6b-1b4d-429d-bed7-1e335920941f'], 913),\n",
       " (['biosphere3', '5eb2d548-1694-496d-b3bd-a439984fca7d'], 913),\n",
       " (['biosphere3', '5253e322-7de5-42aa-9167-daf22ff44031'], 913),\n",
       " (['biosphere3', 'e86bfec2-1025-4fa2-90b1-81e35e621e91'], 913),\n",
       " (['biosphere3', 'f43b2b80-f5a6-4d31-9980-0754305a978d'], 913),\n",
       " (['biosphere3', 'cacfd448-6c2d-4061-9363-fd506b979f25'], 1410),\n",
       " (['biosphere3', '9b132374-dce2-4ce0-86aa-53201b30f617'], 1410),\n",
       " (['biosphere3', '843fd145-61ac-4fa7-a608-ce4ac4d88d49'], 131),\n",
       " (['biosphere3', '033d3a16-e1a2-4ce8-8769-f4ea867801ca'], 131),\n",
       " (['biosphere3', '94ca9e00-5268-4663-a0cd-25026c7c6b53'], 23),\n",
       " (['biosphere3', 'fff3d2db-2784-4044-a6a2-2bc7242456ee'], 23),\n",
       " (['biosphere3', '1c4a106a-53bc-40f5-bcae-d30ab191dbfe'], 23),\n",
       " (['biosphere3', '9cf9bf0e-86fe-42c0-90cc-bfed96fbdc8f'], 23),\n",
       " (['biosphere3', '393d0862-04cc-45ae-8d08-9dc2a4461b35'], 23),\n",
       " (['biosphere3', '03758df7-503a-400e-bc7b-ec05825761a5'], 0.15),\n",
       " (['biosphere3', '468bebea-17ee-49d3-b11d-c603d91c67c8'], 0.15),\n",
       " (['biosphere3', '1e060d5a-cd41-4f30-9c93-272403b7e004'], 3490),\n",
       " (['biosphere3', '7d05319a-1260-45e0-8872-d5ff1712ea7e'], 3490),\n",
       " (['biosphere3', '1584734d-c5c8-42a5-aa51-0f6a92a9cc0d'], 3490),\n",
       " (['biosphere3', '8a3a44e4-e2f1-476d-9e9e-a90fda263fe3'], 3490),\n",
       " (['biosphere3', '3b30d058-02ef-4ed2-b357-5fc1a45c63e7'], 3490),\n",
       " (['biosphere3', '50432644-8568-444e-b7e7-8e37a7e1f3e3'], 332),\n",
       " (['biosphere3', '1652c2e3-c6c5-49e1-9ad1-34c188087ca6'], 332),\n",
       " (['biosphere3', '95b6f6da-49f9-413d-8ff5-5342d6cff588'], 332),\n",
       " (['biosphere3', 'ba781ac6-cdf1-4a09-86b5-76b19ed3438b'], 332),\n",
       " (['biosphere3', '400be66e-4383-482a-93e3-c005e96de261'], 332),\n",
       " (['biosphere3', '050da0cd-2957-45a9-ae7a-ace372083fe5'], 13.3),\n",
       " (['biosphere3', 'db907ff7-6cf0-4f88-9376-116262dfad6d'], 13.3),\n",
       " (['biosphere3', '0bf92802-8b5e-43f5-a261-95c06bd5c551'], 88.2),\n",
       " (['biosphere3', '9b7e5cbf-e1eb-420d-ad43-248df23457ee'], 88.2),\n",
       " (['biosphere3', '71a6ea76-6642-4573-bed2-c1884e6792fd'], 88.2),\n",
       " (['biosphere3', '60268f3d-468b-487e-acb1-24d7250cb6b3'], 88.2),\n",
       " (['biosphere3', '27f61651-96a5-45c7-9873-832626cf6905'], 88.2),\n",
       " (['biosphere3', '4925cde1-9f43-43d3-bcf1-4865b8de6634'], 8580),\n",
       " (['biosphere3', '30533fd3-b19c-44fc-9a88-fb6b12409b47'], 8580),\n",
       " (['biosphere3', '6f8ce7a4-d66a-4593-9314-51778aa09d4b'], 8580),\n",
       " (['biosphere3', 'ec8789e5-d140-4ca8-b7ef-b3abfd044414'], 8580),\n",
       " (['biosphere3', '15e54d5b-aba2-40a6-9aa8-aa2b8c432129'], 8580),\n",
       " (['biosphere3', 'b7e0bddf-7b8a-43f4-9319-6f4b3d9fa65a'], 17800),\n",
       " (['biosphere3', '7f62f535-e81a-476c-9c39-4d59f289db1a'], 17800),\n",
       " (['biosphere3', '8f3e0579-d07d-48c9-b41a-fb559728f9c0'], 17800),\n",
       " (['biosphere3', 'acc39720-dda7-4b3a-80c7-c6394cad4191'], 17800),\n",
       " (['biosphere3', 'df5dd437-2e12-4af6-8f7a-9c8224857dc5'], 17800),\n",
       " (['biosphere3', 'dc9520c7-6e4a-42fb-b1f6-9fa8f34667a4'], 546),\n",
       " (['biosphere3', '40022b1f-8906-4c54-a074-bf1a3fc9b13f'], 546),\n",
       " (['biosphere3', '84386543-b148-465b-9265-ad638c12e263'], 546),\n",
       " (['biosphere3', '281e1011-f121-4d5b-ad4d-22d562b2c2cd'], 546),\n",
       " (['biosphere3', '5d1701c5-c4ef-49c7-8a68-ce7c255eee9f'], 546),\n",
       " (['biosphere3', 'd14eb0da-95fd-46c3-90db-55ca33d78701'], 1.97),\n",
       " (['biosphere3', '626dd1d8-5355-40cb-8569-9c87c2c6ab18'], 1.97),\n",
       " (['biosphere3', '8c283de2-50d3-40c8-8bff-1e172c3398f8'], 0.394),\n",
       " (['biosphere3', '4bf1c333-419b-4278-ac14-247c8bf563d6'], 0.394),\n",
       " (['biosphere3', '06a4fedf-dab4-4ef1-90df-1d0ce8fe6477'], 293),\n",
       " (['biosphere3', '50f528ca-45e7-42d0-b399-998ea63ddabf'], 293),\n",
       " (['biosphere3', '494eb62d-3e16-4a81-b344-6d6dfd9fd4e2'], 293),\n",
       " (['biosphere3', 'ee31ac2a-9336-4ed6-8077-9663003bc2f9'], 293),\n",
       " (['biosphere3', '816c43d1-bc30-4a72-81db-08cb6be4da4f'], 293),\n",
       " (['biosphere3', '96b52062-5e2f-40de-921a-f443c08862e4'], 1340),\n",
       " (['biosphere3', 'cf719b78-9834-4649-a1dd-8554c366c83f'], 1340),\n",
       " (['biosphere3', '82957257-07f3-4536-ac8b-175cb2353c75'], 1340),\n",
       " (['biosphere3', '4ac2ffc3-312e-4e2d-88c4-2630d4a73d8c'], 1340),\n",
       " (['biosphere3', '18ddd879-5496-4419-8ab7-e0d3864d977d'], 1340),\n",
       " (['biosphere3', '18c582fe-7336-4138-8797-2db8b7a754c7'], 296),\n",
       " (['biosphere3', '8ca6c84b-7f56-47e6-8d17-4f2dbc49a943'], 296),\n",
       " (['biosphere3', '5dfb74d2-fa15-4f2d-bf7c-5aa45a41ec7f'], 12700),\n",
       " (['biosphere3', 'b9c1ac70-e2eb-4fcd-bc63-befa92866af5'], 12700),\n",
       " (['biosphere3', '23a9f33d-dbab-4fcc-8f49-1df731b0b827'], 12700),\n",
       " (['biosphere3', 'e06e2e1e-ad87-49e2-a184-f2d1c48b7b46'], 12700),\n",
       " (['biosphere3', '43bc4fc0-bfeb-46d6-b3de-f69c3ccd622a'], 12700),\n",
       " (['biosphere3', '432a3326-73f8-4752-bc4d-06b7b4b1243c'], 1.49),\n",
       " (['biosphere3', '2716807d-0266-48ff-bb7a-6e6c5fbfd5c5'], 1.49),\n",
       " (['biosphere3', 'c0e8ec60-a5ae-432e-97a5-cf76b6247a00'], 2710),\n",
       " (['biosphere3', '31a3e44c-4098-461e-aba2-f79540e05087'], 2710),\n",
       " (['biosphere3', '34de4196-871a-4db8-a182-589ab780a935'], 24.6),\n",
       " (['biosphere3', 'de8d76cb-7216-4e6f-8bf2-8cdf76e99902'], 24.6),\n",
       " (['biosphere3', '727835b8-c650-4d46-882f-35b2a366b559'], 24.6),\n",
       " (['biosphere3', '04a6edb8-624a-484e-8f85-d771657adae7'], 24.6),\n",
       " (['biosphere3', '3c8af80d-7ff8-43f4-b1a7-cef73b1b4682'], 24.6),\n",
       " (['biosphere3', '33a791a2-a1e7-446b-b25a-b3be6159bae4'], 113),\n",
       " (['biosphere3', '20d0fc73-b9ce-4001-ac15-893b30ed10a3'], 113),\n",
       " (['biosphere3', '8fbe2c56-c213-4501-b95e-ff57a76fbd6f'], 113),\n",
       " (['biosphere3', '151212b4-079b-43a2-96d5-a6eef59166ac'], 113),\n",
       " (['biosphere3', 'c9028b09-c12d-421b-9944-7d145e196ebc'], 113),\n",
       " (['biosphere3', 'f3bd723a-5276-4ae8-9860-b89537351a90'], 4.9),\n",
       " (['biosphere3', '6b1b495b-70ee-4be6-b1c2-3031aa4d6add'], 4.9),\n",
       " (['biosphere3', '70ef743b-3ed5-4a6d-b192-fb6d62378555'], 4.9),\n",
       " (['biosphere3', '0795345f-c7ae-410c-ad25-1845784c75f5'], 4.9),\n",
       " (['biosphere3', '5f7aad3d-566c-4d0d-ad59-e765f971aa0f'], 4.9),\n",
       " (['biosphere3', 'f757365c-c6fd-41fe-ad32-3594ccd97ef0'], 4.76),\n",
       " (['biosphere3', 'ef4566f0-60d5-4bbe-a2cb-7268a81fecd4'], 4.76),\n",
       " (['biosphere3', '9541a975-800f-4fed-9edf-28f6e411a015'], 4.76),\n",
       " (['biosphere3', '7f0ba7c9-341e-413d-80f6-8753727d65d1'], 4.76),\n",
       " (['biosphere3', '299c6564-426e-48c3-b516-fdf301d12127'], 4.76),\n",
       " (['biosphere3', '18ea247b-edc2-43fe-89bd-cedd04102bcc'], 2.04),\n",
       " (['biosphere3', '370447a7-70d1-47bd-8577-0a32c4f53570'], 2.04),\n",
       " (['biosphere3', '6c977009-5c4e-4901-a4c1-ab20389cb972'], 4.76),\n",
       " (['biosphere3', '258263a0-6be3-4439-bd84-efee0498b849'], 4.76),\n",
       " (['biosphere3', '57bdb443-d4a6-423d-8024-959b8261d02e'], 4.76),\n",
       " (['biosphere3', 'da1157e2-7593-4dfd-80dd-a3449b37a4d8'], 4.76),\n",
       " (['biosphere3', 'baf58fc9-573c-419c-8c16-831ac03203b9'], 4.76),\n",
       " (['biosphere3', '86d12e70-0c64-4ecf-ba52-114fa0c5d402'], 296),\n",
       " (['biosphere3', '5c97dd6c-aaa5-4477-aaf8-dbd0674499c4'], 296),\n",
       " (['biosphere3', 'e59a199f-d4ed-4d43-82b1-71c4a8fae867'], 11000),\n",
       " (['biosphere3', '6d023c39-c04e-4305-b2e4-adc89b53e708'], 11000),\n",
       " (['biosphere3', 'b353e7d2-5b94-4b6e-a3e5-de0a10bef851'], 11000),\n",
       " (['biosphere3', '33681770-a0e1-4ce8-93c3-941fd607fa5f'], 11000),\n",
       " (['biosphere3', 'dfe1da1e-7756-4f7e-a393-6d5e2342a962'], 11000),\n",
       " (['biosphere3', '51e99a55-bcdb-4d18-9484-6de4b142e09d'], 875),\n",
       " (['biosphere3', '33a69662-583b-45b8-8cb9-94f59fca9133'], 875),\n",
       " (['biosphere3', 'dc78690a-2b0a-49fc-8272-b811fb25ff6c'], 5660),\n",
       " (['biosphere3', 'a3724600-89c1-4f35-97c9-0de3adbadc8b'], 5660),\n",
       " (['biosphere3', '5e2e1740-1bb9-4157-b816-6cb5aa006437'], 5660),\n",
       " (['biosphere3', 'e5ba3517-a93f-422e-9ce2-f1007fcf6c06'], 5660),\n",
       " (['biosphere3', '8f87dcf1-0177-4d62-bea0-a5dd8647ef8c'], 5660),\n",
       " (['biosphere3', '4c097625-506e-4dfc-a170-75fda90cf7cb'], 12800),\n",
       " (['biosphere3', 'fdf090d7-ee05-4f33-8b7f-5504c718c3cd'], 12800),\n",
       " (['biosphere3', 'f8cf5fd7-9f94-4870-9e6a-768deae9b766'], 12800),\n",
       " (['biosphere3', 'e79e03c3-5b19-45f6-b3f3-bf710c6663d2'], 12800),\n",
       " (['biosphere3', '1fdc280a-34d3-4513-b110-3f526b17c443'], 12800),\n",
       " (['biosphere3', 'e2ccc98a-6d4e-443b-b11f-d16f32782833'], 12800),\n",
       " (['biosphere3', 'acbae70a-5450-448f-9038-c403cb496e1a'], 34400),\n",
       " (['biosphere3', '44e4d1ce-fa79-4ed5-93f9-445c4ff8df2e'], 34400),\n",
       " (['biosphere3', 'c7c769bb-89b9-4459-afed-e3acecd39339'], 34400),\n",
       " (['biosphere3', '35d1dff5-b535-4628-9826-4a8fce08a1f2'], 34400),\n",
       " (['biosphere3', '856c9aa2-c20c-49a8-9417-c71bdb5f17b0'], 34400)]"
      ]
     },
     "execution_count": 5,
     "metadata": {},
     "output_type": "execute_result"
    }
   ],
   "execution_count": 5
  },
  {
   "metadata": {},
   "cell_type": "markdown",
   "source": "Without going into details of what we are changing, we will change one biosphere cf and recalculate ",
   "id": "7132fc3679af9361"
  },
  {
   "metadata": {
    "ExecuteTime": {
     "end_time": "2024-06-05T10:54:27.045664Z",
     "start_time": "2024-06-05T10:54:27.027443Z"
    }
   },
   "cell_type": "code",
   "source": [
    "non_linear_config = bw_adapter_def[\"config\"][\"nonlinear_characterization\"]\n",
    "non_linear_config"
   ],
   "id": "edcf86644dc1b1e1",
   "outputs": [
    {
     "data": {
      "text/plain": [
       "{'methods': {'GWP1000': {'get_defaults_from_original': True, 'functions': {}}}}"
      ]
     },
     "execution_count": 6,
     "metadata": {},
     "output_type": "execute_result"
    }
   ],
   "execution_count": 6
  },
  {
   "metadata": {
    "ExecuteTime": {
     "end_time": "2024-06-05T10:54:27.054714Z",
     "start_time": "2024-06-05T10:54:27.047140Z"
    }
   },
   "cell_type": "code",
   "source": "method_cfs[0][0]",
   "id": "5c8135e90bd7bdd8",
   "outputs": [
    {
     "data": {
      "text/plain": [
       "['biosphere3', 'e259263c-d1f1-449f-bb9b-73c6d0a32a00']"
      ]
     },
     "execution_count": 7,
     "metadata": {},
     "output_type": "execute_result"
    }
   ],
   "execution_count": 7
  },
  {
   "metadata": {},
   "cell_type": "markdown",
   "source": "The assignment of functions to activities, works similar to how brightway does it. `functions` is a dictionary with activity identifiers as keys (tuples!), of database and code (note lists do not work as dictionary keys!). the value can be any type of function, that takes one float variable as input and returns another float.",
   "id": "392eba4f59860a15"
  },
  {
   "metadata": {
    "ExecuteTime": {
     "end_time": "2024-06-05T10:54:27.061622Z",
     "start_time": "2024-06-05T10:54:27.056551Z"
    }
   },
   "cell_type": "code",
   "source": [
    "# we can directly pass functions to \n",
    "def cf_double(v: float) -> float:\n",
    "    return v * 2\n",
    "\n",
    "\n",
    "non_linear_config[\"methods\"][\"GWP1000\"][\"functions\"] = {\n",
    "    tuple(method_cfs[0][0]): cf_double\n",
    "}"
   ],
   "id": "a73a0574057dbd81",
   "outputs": [],
   "execution_count": 8
  },
  {
   "metadata": {
    "ExecuteTime": {
     "end_time": "2024-06-05T10:54:27.071233Z",
     "start_time": "2024-06-05T10:54:27.063263Z"
    }
   },
   "cell_type": "code",
   "source": "bw_adapter_def[\"config\"][\"nonlinear_characterization\"]",
   "id": "c88f67f11ca8328a",
   "outputs": [
    {
     "data": {
      "text/plain": [
       "{'methods': {'GWP1000': {'get_defaults_from_original': True,\n",
       "   'functions': {('biosphere3',\n",
       "     'e259263c-d1f1-449f-bb9b-73c6d0a32a00'): <function __main__.cf_double(v: float) -> float>}}}}"
      ]
     },
     "execution_count": 9,
     "metadata": {},
     "output_type": "execute_result"
    }
   ],
   "execution_count": 9
  },
  {
   "metadata": {},
   "cell_type": "markdown",
   "source": "Run this...",
   "id": "c36df0d7fbf81893"
  },
  {
   "metadata": {
    "ExecuteTime": {
     "end_time": "2024-06-05T10:54:47.234922Z",
     "start_time": "2024-06-05T10:54:27.076452Z"
    }
   },
   "cell_type": "code",
   "source": "Experiment(config).run()[Experiment.DEFAULT_SCENARIO_NAME][\"results\"]",
   "id": "7842b72a045eb39",
   "outputs": [
    {
     "name": "stdout",
     "output_type": "stream",
     "text": [
      "Excluding 0 filtered results\n",
      "Excluding 104 filtered results\n",
      "2024-06-05 12:54:28,592 - demos.brightway_adapter_demos.enbios.base - INFO - Running scenario 'default scenario'\n",
      "2024-06-05 12:54:39,906 - enbios.bw2.MultiLCA_util - DEBUG - Demand 0/1\n"
     ]
    },
    {
     "data": {
      "text/plain": [
       "{'GWP1000': {'unit': 'kg CO2-Eq', 'magnitude': 1.5707663153907774}}"
      ]
     },
     "execution_count": 10,
     "metadata": {},
     "output_type": "execute_result"
    }
   ],
   "execution_count": 10
  },
  {
   "metadata": {},
   "cell_type": "markdown",
   "source": "In case, that the function can be put into one single expression (generally, one line) one can also use anonymous functions - in python called lambda functions (See https://docs.python.org/3/reference/expressions.html#lambda for details). So the above part could also be expressed with:",
   "id": "9bb2be6050ec3899"
  },
  {
   "metadata": {
    "ExecuteTime": {
     "end_time": "2024-06-05T10:54:47.239839Z",
     "start_time": "2024-06-05T10:54:47.236323Z"
    }
   },
   "cell_type": "code",
   "source": [
    "non_linear_config[\"methods\"][\"GWP1000\"][\"functions\"] = {\n",
    "    tuple(method_cfs[0][0]): lambda v: v * 2\n",
    "}"
   ],
   "id": "7a7ebf98ac44cab9",
   "outputs": [],
   "execution_count": 11
  },
  {
   "metadata": {},
   "cell_type": "markdown",
   "source": [
    "## Using modules (python files)\n",
    "\n",
    "Since functions can not be included in json files and therefor not be part of an experiment configuration file, it is also possible to refer to functions that defined in other modules, that can sit next to the config file.\\nThis is done by including a  `module_path_function_name` for the impact method. The value must be a tuple of 2 strings. The first is the path of the module and the 2nd the name of the function. This function does not take any parameter and must return a dictionary, which must have the same form as the `functions` variable explained before. A dictionary mapping activity ids to functions.  "
   ],
   "id": "cf4a841b0d760625"
  },
  {
   "metadata": {
    "ExecuteTime": {
     "end_time": "2024-06-05T10:55:03.599486Z",
     "start_time": "2024-06-05T10:54:47.241162Z"
    }
   },
   "cell_type": "code",
   "source": [
    "non_linear_config[\"methods\"][\"GWP1000\"][\"module_path_function_name\"] = (\n",
    "\"../data/bw_test_non_linear_methods_module.py\", \"wpg_1000\")\n",
    "\n",
    "Experiment(config).run()[Experiment.DEFAULT_SCENARIO_NAME][\"results\"]"
   ],
   "id": "d54fac0bd770772a",
   "outputs": [
    {
     "name": "stdout",
     "output_type": "stream",
     "text": [
      "Excluding 0 filtered results\n",
      "Excluding 104 filtered results\n",
      "2024-06-05 12:54:48,514 - demos.brightway_adapter_demos.enbios.base - INFO - Running scenario 'default scenario'\n",
      "2024-06-05 12:54:48,517 - /home/ra/projects/enbios/enbios/bw2/brightway_experiment_adapter.py - WARNING - method functions dict for method: 'GWP1000' is not empty, but function will be overwritten by functions received from 'module_path_function_name'\n",
      "2024-06-05 12:54:56,150 - enbios.bw2.MultiLCA_util - DEBUG - Demand 0/1\n"
     ]
    },
    {
     "data": {
      "text/plain": [
       "{'GWP1000': {'unit': 'kg CO2-Eq', 'magnitude': 1.5707663153907774}}"
      ]
     },
     "execution_count": 12,
     "metadata": {},
     "output_type": "execute_result"
    }
   ],
   "execution_count": 12
  },
  {
   "metadata": {},
   "cell_type": "markdown",
   "source": "This is how the module looks like:",
   "id": "65e5914b74ab8fde"
  },
  {
   "metadata": {
    "ExecuteTime": {
     "end_time": "2024-06-05T10:55:03.606086Z",
     "start_time": "2024-06-05T10:55:03.601315Z"
    }
   },
   "cell_type": "code",
   "source": "print(open(\"../data/bw_test_non_linear_methods_module.py\").read())",
   "id": "8044b993b31766dd",
   "outputs": [
    {
     "name": "stdout",
     "output_type": "stream",
     "text": [
      "from typing import Callable\n",
      "\n",
      "def gwp_cf_double(v: float)-> float:\n",
      "    return v * 2\n",
      "\n",
      "\n",
      "def wpg_1000() -> dict[tuple[str, str], Callable[[float], float]]:\n",
      "    return {(\"biosphere3\",'e259263c-d1f1-449f-bb9b-73c6d0a32a00'): gwp_cf_double}\n",
      "\n"
     ]
    }
   ],
   "execution_count": 13
  },
  {
   "metadata": {},
   "cell_type": "markdown",
   "source": [
    "## The complete config:\n",
    "\n",
    "The configuration for `nonlinear_characterization` in the brightway adapter configuration has only one key: `methods` which includes a non-linear configuration for each respective impact method. Methods which are not included here, will do the normal brightway calculation.\n",
    "\n",
    "The configuration for each method contains these parameters:  \n",
    "- functions: dictionary with 2 string tuples as keys (database, code) and functions as values\n",
    "- module_path_function_name: a tuple of two strings: module_path and function-name. result will be assigned to `functions`\n",
    "- get_defaults_from_original: Whether all non-defined biosphere activities should use their characterization factor from the original brightway method for a linear function: v * cf. (default: False)\n",
    "- name: name of the method (will be set by enbios)"
   ],
   "id": "28f732e0a8e3f404"
  },
  {
   "metadata": {},
   "cell_type": "markdown",
   "source": [
    "## A reduced example\n",
    "Creating a tiny new system in order to comprehend the calculations. We will create a new database a new activity and connect it to carbon_dioxide (which is the first biosphere activity in the cf array.\n"
   ],
   "id": "b7ea8d692f6ab2a2"
  },
  {
   "metadata": {
    "ExecuteTime": {
     "end_time": "2024-06-05T10:55:03.623971Z",
     "start_time": "2024-06-05T10:55:03.607896Z"
    }
   },
   "cell_type": "code",
   "source": [
    "from bw2data.backends import Activity\n",
    "\n",
    "# let's get the actual activity\n",
    "carbon_dioxide: Activity = bw2data.Database(\"biosphere3\").get(method_cfs[0][0][1])\n",
    "carbon_dioxide"
   ],
   "id": "7abee5300c839ad9",
   "outputs": [
    {
     "data": {
      "text/plain": [
       "'Carbon dioxide, fossil' (kilogram, None, ('air', 'low population density, long-term'))"
      ]
     },
     "execution_count": 14,
     "metadata": {},
     "output_type": "execute_result"
    }
   ],
   "execution_count": 14
  },
  {
   "metadata": {},
   "cell_type": "markdown",
   "source": "Let's write this function to clean up afterward",
   "id": "40cc53d0419ded3b"
  },
  {
   "metadata": {
    "ExecuteTime": {
     "end_time": "2024-06-05T10:55:03.632329Z",
     "start_time": "2024-06-05T10:55:03.625561Z"
    }
   },
   "cell_type": "code",
   "source": [
    "def delete_exchanges_and_db():\n",
    "    if not \"temporary\" in bw2data.databases:\n",
    "        return\n",
    "    new_db = bw2data.Database(\"temporary\")\n",
    "    for activity in new_db:\n",
    "        for bioflow in activity.biosphere():\n",
    "            bioflow.delete()\n",
    "    del bw2data.databases[\"temporary\"]"
   ],
   "id": "de479bbc42b55824",
   "outputs": [],
   "execution_count": 15
  },
  {
   "metadata": {},
   "cell_type": "markdown",
   "source": "... and create the new system",
   "id": "6f934ac15cc812c3"
  },
  {
   "metadata": {
    "ExecuteTime": {
     "end_time": "2024-06-05T10:55:03.693926Z",
     "start_time": "2024-06-05T10:55:03.633818Z"
    }
   },
   "cell_type": "code",
   "source": [
    "delete_exchanges_and_db()\n",
    "new_db = bw2data.Database(\"temporary\")\n",
    "new_db.register()\n",
    "code_name = \"new_temp_activity\"\n",
    "activity = new_db.new_activity(code_name, name=code_name, unit=\"unit\")\n",
    "activity.save()\n",
    "exc = activity.new_exchange(input=carbon_dioxide, amount=1, type=\"biosphere\")\n",
    "exc.save()"
   ],
   "id": "71f718fcc54fcf7",
   "outputs": [],
   "execution_count": 16
  },
  {
   "metadata": {},
   "cell_type": "markdown",
   "source": "We need to change the hierarchy in order to use this new activity",
   "id": "2fe934b9e3b07cb8"
  },
  {
   "metadata": {
    "ExecuteTime": {
     "end_time": "2024-06-05T10:55:03.699880Z",
     "start_time": "2024-06-05T10:55:03.695721Z"
    }
   },
   "cell_type": "code",
   "source": "config[\"hierarchy\"][\"children\"][0][\"config\"] = {\"code\": code_name, \"default_output\": {\"unit\": \"unit\", \"magnitude\": 1}}",
   "id": "b46ae3636c5ad9d6",
   "outputs": [],
   "execution_count": 17
  },
  {
   "metadata": {},
   "cell_type": "markdown",
   "source": "Running this example will result in 2.0 kg CO2-Eq because our functional unit is 1 (default output) the exchange has an amount of one, and as created before, we have a custom characterization function, which doubles the value.",
   "id": "d35514eb1c10b622"
  },
  {
   "metadata": {
    "ExecuteTime": {
     "end_time": "2024-06-05T10:55:04.943452Z",
     "start_time": "2024-06-05T10:55:03.701743Z"
    }
   },
   "cell_type": "code",
   "source": [
    "exp = Experiment(config)\n",
    "exp.run()[Experiment.DEFAULT_SCENARIO_NAME][\"results\"]"
   ],
   "id": "86fc33902ecfa963",
   "outputs": [
    {
     "name": "stdout",
     "output_type": "stream",
     "text": [
      "2024-06-05 12:55:04,838 - demos.brightway_adapter_demos.enbios.base - INFO - Running scenario 'default scenario'\n",
      "2024-06-05 12:55:04,840 - /home/ra/projects/enbios/enbios/bw2/brightway_experiment_adapter.py - WARNING - method functions dict for method: 'GWP1000' is not empty, but function will be overwritten by functions received from 'module_path_function_name'\n",
      "2024-06-05 12:55:04,940 - enbios.bw2.MultiLCA_util - DEBUG - Demand 0/1\n"
     ]
    },
    {
     "data": {
      "text/plain": [
       "{'GWP1000': {'unit': 'kg CO2-Eq', 'magnitude': 2.0}}"
      ]
     },
     "execution_count": 18,
     "metadata": {},
     "output_type": "execute_result"
    }
   ],
   "execution_count": 18
  },
  {
   "metadata": {},
   "cell_type": "markdown",
   "source": "Doubling the amount of the exchange, will double the result",
   "id": "eb04f1e98e2b0798"
  },
  {
   "metadata": {
    "ExecuteTime": {
     "end_time": "2024-06-05T10:55:05.078185Z",
     "start_time": "2024-06-05T10:55:04.944392Z"
    }
   },
   "cell_type": "code",
   "source": [
    "exc[\"amount\"] = 2\n",
    "exc.save()\n",
    "exp.run()[Experiment.DEFAULT_SCENARIO_NAME][\"results\"]"
   ],
   "id": "fe5afc2284c48d0",
   "outputs": [
    {
     "name": "stdout",
     "output_type": "stream",
     "text": [
      "2024-06-05 12:55:04,958 - demos.brightway_adapter_demos.enbios.base - INFO - Running scenario 'default scenario'\n",
      "2024-06-05 12:55:04,961 - /home/ra/projects/enbios/enbios/bw2/brightway_experiment_adapter.py - WARNING - method functions dict for method: 'GWP1000' is not empty, but function will be overwritten by functions received from 'module_path_function_name'\n",
      "2024-06-05 12:55:05,074 - enbios.bw2.MultiLCA_util - DEBUG - Demand 0/1\n"
     ]
    },
    {
     "data": {
      "text/plain": [
       "{'GWP1000': {'unit': 'kg CO2-Eq', 'magnitude': 4.0}}"
      ]
     },
     "execution_count": 19,
     "metadata": {},
     "output_type": "execute_result"
    }
   ],
   "execution_count": 19
  },
  {
   "metadata": {},
   "cell_type": "markdown",
   "source": "And again, we can do any arbitrary calculation... ",
   "id": "31ab1a018ff69922"
  },
  {
   "metadata": {
    "ExecuteTime": {
     "end_time": "2024-06-05T10:55:06.236222Z",
     "start_time": "2024-06-05T10:55:05.079154Z"
    }
   },
   "cell_type": "code",
   "source": [
    "from math import pi, log\n",
    "\n",
    "exc[\"amount\"] = 1\n",
    "exc.save()\n",
    "\n",
    "\n",
    "def accum_harmonic_tresh(v: float) -> float:\n",
    "    if v < 1:\n",
    "        return 1\n",
    "    else:\n",
    "        return log(v * pow(pi, 2))\n",
    "\n",
    "\n",
    "non_linear_config[\"methods\"][\"GWP1000\"][\"functions\"] = {\n",
    "    tuple(method_cfs[0][0]): accum_harmonic_tresh\n",
    "}\n",
    "\n",
    "if \"module_path_function_name\" in non_linear_config['methods']['GWP1000']:\n",
    "    del non_linear_config['methods']['GWP1000']['module_path_function_name']\n",
    "exp = Experiment(config)\n",
    "exp.run()[Experiment.DEFAULT_SCENARIO_NAME][\"results\"]"
   ],
   "id": "d64628cd111cb6d1",
   "outputs": [
    {
     "name": "stdout",
     "output_type": "stream",
     "text": [
      "2024-06-05 12:55:06,126 - demos.brightway_adapter_demos.enbios.base - INFO - Running scenario 'default scenario'\n",
      "2024-06-05 12:55:06,231 - enbios.bw2.MultiLCA_util - DEBUG - Demand 0/1\n"
     ]
    },
    {
     "data": {
      "text/plain": [
       "{'GWP1000': {'unit': 'kg CO2-Eq', 'magnitude': 2.2894597716988003}}"
      ]
     },
     "execution_count": 20,
     "metadata": {},
     "output_type": "execute_result"
    }
   ],
   "execution_count": 20
  },
  {
   "metadata": {},
   "cell_type": "markdown",
   "source": "And finally, we clean up",
   "id": "bb52a9b807310342"
  },
  {
   "metadata": {
    "ExecuteTime": {
     "end_time": "2024-06-05T10:55:06.263442Z",
     "start_time": "2024-06-05T10:55:06.237518Z"
    }
   },
   "cell_type": "code",
   "source": "delete_exchanges_and_db()",
   "id": "519045da2ed713ba",
   "outputs": [],
   "execution_count": 21
  }
 ],
 "metadata": {
  "kernelspec": {
   "display_name": "Python 3",
   "language": "python",
   "name": "python3"
  },
  "language_info": {
   "codemirror_mode": {
    "name": "ipython",
    "version": 2
   },
   "file_extension": ".py",
   "mimetype": "text/x-python",
   "name": "python",
   "nbconvert_exporter": "python",
   "pygments_lexer": "ipython2",
   "version": "2.7.6"
  }
 },
 "nbformat": 4,
 "nbformat_minor": 5
}
