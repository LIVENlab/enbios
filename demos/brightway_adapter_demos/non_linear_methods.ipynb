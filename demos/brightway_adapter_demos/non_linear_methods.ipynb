{
 "cells": [
  {
   "cell_type": "code",
   "id": "initial_id",
   "metadata": {
    "collapsed": true,
    "ExecuteTime": {
     "end_time": "2024-06-05T10:54:06.037877Z",
     "start_time": "2024-06-05T10:54:04.013917Z"
    }
   },
   "source": [
    "import json\n",
    "\n",
    "import bw2data\n",
    "\n",
    "from enbios import Experiment\n",
    "\n",
    "config = json.load(open(\"non_linear_config.json\", encoding=\"utf-8\"))"
   ],
   "execution_count": 1,
   "outputs": []
  },
  {
   "metadata": {
    "ExecuteTime": {
     "end_time": "2024-06-05T10:54:07.302543Z",
     "start_time": "2024-06-05T10:54:06.039592Z"
    }
   },
   "cell_type": "code",
   "source": [
    "exp = Experiment(config)\n",
    "exp"
   ],
   "id": "a4434c095fe46644",
   "execution_count": 2,
   "outputs": []
  },
  {
   "metadata": {
    "ExecuteTime": {
     "end_time": "2024-06-05T10:54:07.306529Z",
     "start_time": "2024-06-05T10:54:07.303425Z"
    }
   },
   "cell_type": "code",
   "source": [
    "bw_adapter_def: dict = config[\"adapters\"][0]\n",
    "bw_method = bw_adapter_def[\"methods\"]\n",
    "bw_method"
   ],
   "id": "6903e84fbbad7648",
   "execution_count": 3,
   "outputs": []
  },
  {
   "metadata": {
    "ExecuteTime": {
     "end_time": "2024-06-05T10:54:27.008011Z",
     "start_time": "2024-06-05T10:54:07.308384Z"
    }
   },
   "cell_type": "code",
   "source": [
    "result = exp.run()\n",
    "result[Experiment.DEFAULT_SCENARIO_NAME][\"results\"]"
   ],
   "id": "16ee9ebd368e53b3",
   "execution_count": 4,
   "outputs": []
  },
  {
   "metadata": {},
   "cell_type": "markdown",
   "source": [
    "Let's have a look at the characterization factors. They can be loaded from brightway like this.\n",
    "Whay we are getting back is a list of tuples. Each tuple has two elements, first a list which identifies the biosphere activity by its database and code, and 2nd the characterization factor for that activity.  `([<database>,<code>], <cf>)`.\n",
    "\n"
   ],
   "id": "26f31f04aed5ef5f"
  },
  {
   "metadata": {
    "ExecuteTime": {
     "end_time": "2024-06-05T10:54:27.026063Z",
     "start_time": "2024-06-05T10:54:27.009652Z"
    }
   },
   "cell_type": "code",
   "source": [
    "method_cfs = bw2data.Method(tuple(bw_method[\"GWP1000\"])).load()\n",
    "# or # bw_adapter.methods[\"GWP1000\"].id\n",
    "method_cfs"
   ],
   "id": "b95a10aad1afa862",
   "execution_count": 5,
   "outputs": []
  },
  {
   "metadata": {},
   "cell_type": "markdown",
   "source": "Without going into details of what we are changing, we will change one biosphere cf and recalculate ",
   "id": "7132fc3679af9361"
  },
  {
   "metadata": {
    "ExecuteTime": {
     "end_time": "2024-06-05T10:54:27.045664Z",
     "start_time": "2024-06-05T10:54:27.027443Z"
    }
   },
   "cell_type": "code",
   "source": [
    "non_linear_config = bw_adapter_def[\"config\"][\"nonlinear_characterization\"]\n",
    "non_linear_config"
   ],
   "id": "edcf86644dc1b1e1",
   "execution_count": 6,
   "outputs": []
  },
  {
   "metadata": {
    "ExecuteTime": {
     "end_time": "2024-06-05T10:54:27.054714Z",
     "start_time": "2024-06-05T10:54:27.047140Z"
    }
   },
   "cell_type": "code",
   "source": "method_cfs[0][0]",
   "id": "5c8135e90bd7bdd8",
   "execution_count": 7,
   "outputs": []
  },
  {
   "metadata": {},
   "cell_type": "markdown",
   "source": "The assignment of functions to activities, works similar to how brightway does it. `functions` is a dictionary with activity identifiers as keys (tuples!), of database and code (note lists do not work as dictionary keys!). the value can be any type of function, that takes one float variable as input and returns another float.",
   "id": "392eba4f59860a15"
  },
  {
   "metadata": {
    "ExecuteTime": {
     "end_time": "2024-06-05T10:54:27.061622Z",
     "start_time": "2024-06-05T10:54:27.056551Z"
    }
   },
   "cell_type": "code",
   "source": [
    "# we can directly pass functions to\n",
    "def cf_double(v: float) -> float:\n",
    "    return v * 2\n",
    "\n",
    "\n",
    "non_linear_config[\"methods\"][\"GWP1000\"][\"functions\"] = {\n",
    "    tuple(method_cfs[0][0]): cf_double\n",
    "}"
   ],
   "id": "a73a0574057dbd81",
   "execution_count": 8,
   "outputs": []
  },
  {
   "metadata": {
    "ExecuteTime": {
     "end_time": "2024-06-05T10:54:27.071233Z",
     "start_time": "2024-06-05T10:54:27.063263Z"
    }
   },
   "cell_type": "code",
   "source": "bw_adapter_def[\"config\"][\"nonlinear_characterization\"]",
   "id": "c88f67f11ca8328a",
   "execution_count": 9,
   "outputs": []
  },
  {
   "metadata": {},
   "cell_type": "markdown",
   "source": "Run this...",
   "id": "c36df0d7fbf81893"
  },
  {
   "metadata": {
    "ExecuteTime": {
     "end_time": "2024-06-05T10:54:47.234922Z",
     "start_time": "2024-06-05T10:54:27.076452Z"
    }
   },
   "cell_type": "code",
   "source": "Experiment(config).run()[Experiment.DEFAULT_SCENARIO_NAME][\"results\"]",
   "id": "7842b72a045eb39",
   "execution_count": 10,
   "outputs": []
  },
  {
   "metadata": {},
   "cell_type": "markdown",
   "source": "In case, that the function can be put into one single expression (generally, one line) one can also use anonymous functions - in python called lambda functions (See https://docs.python.org/3/reference/expressions.html#lambda for details). So the above part could also be expressed with:",
   "id": "9bb2be6050ec3899"
  },
  {
   "metadata": {
    "ExecuteTime": {
     "end_time": "2024-06-05T10:54:47.239839Z",
     "start_time": "2024-06-05T10:54:47.236323Z"
    }
   },
   "cell_type": "code",
   "source": [
    "non_linear_config[\"methods\"][\"GWP1000\"][\"functions\"] = {\n",
    "    tuple(method_cfs[0][0]): lambda v: v * 2\n",
    "}"
   ],
   "id": "7a7ebf98ac44cab9",
   "execution_count": 11,
   "outputs": []
  },
  {
   "metadata": {},
   "cell_type": "markdown",
   "source": [
    "## Using modules (python files)\n",
    "\n",
    "Since functions can not be included in json files and therefor not be part of an experiment configuration file, it is also possible to refer to functions that defined in other modules, that can sit next to the config file.\\nThis is done by including a  `module_path_function_name` for the impact method. The value must be a tuple of 2 strings. The first is the path of the module and the 2nd the name of the function. This function does not take any parameter and must return a dictionary, which must have the same form as the `functions` variable explained before. A dictionary mapping activity ids to functions.  "
   ],
   "id": "cf4a841b0d760625"
  },
  {
   "metadata": {
    "ExecuteTime": {
     "end_time": "2024-06-05T10:55:03.599486Z",
     "start_time": "2024-06-05T10:54:47.241162Z"
    }
   },
   "cell_type": "code",
   "source": [
    "non_linear_config[\"methods\"][\"GWP1000\"][\"module_path_function_name\"] = (\n",
    "    \"../data/bw_test_non_linear_methods_module.py\",\n",
    "    \"wpg_1000\",\n",
    ")\n",
    "\n",
    "Experiment(config).run()[Experiment.DEFAULT_SCENARIO_NAME][\"results\"]"
   ],
   "id": "d54fac0bd770772a",
   "execution_count": 12,
   "outputs": []
  },
  {
   "metadata": {},
   "cell_type": "markdown",
   "source": "This is how the module looks like:",
   "id": "65e5914b74ab8fde"
  },
  {
   "metadata": {
    "ExecuteTime": {
     "end_time": "2024-06-05T10:55:03.606086Z",
     "start_time": "2024-06-05T10:55:03.601315Z"
    }
   },
   "cell_type": "code",
   "source": "print(open(\"../data/bw_test_non_linear_methods_module.py\").read())",
   "id": "8044b993b31766dd",
   "execution_count": 13,
   "outputs": []
  },
  {
   "metadata": {},
   "cell_type": "markdown",
   "source": [
    "## The complete config:\n",
    "\n",
    "The configuration for `nonlinear_characterization` in the brightway adapter configuration has only one key: `methods` which includes a non-linear configuration for each respective impact method. Methods which are not included here, will do the normal brightway calculation.\n",
    "\n",
    "The configuration for each method contains these parameters:  \n",
    "- functions: dictionary with 2 string tuples as keys (database, code) and functions as values\n",
    "- module_path_function_name: a tuple of two strings: module_path and function-name. result will be assigned to `functions`\n",
    "- get_defaults_from_original: Whether all non-defined biosphere activities should use their characterization factor from the original brightway method for a linear function: v * cf. (default: False)\n",
    "- name: name of the method (will be set by enbios)"
   ],
   "id": "28f732e0a8e3f404"
  },
  {
   "metadata": {},
   "cell_type": "markdown",
   "source": [
    "## A reduced example\n",
    "Creating a tiny new system in order to comprehend the calculations. We will create a new database a new activity and connect it to carbon_dioxide (which is the first biosphere activity in the cf array.\n"
   ],
   "id": "b7ea8d692f6ab2a2"
  },
  {
   "metadata": {
    "ExecuteTime": {
     "end_time": "2024-06-05T10:55:03.623971Z",
     "start_time": "2024-06-05T10:55:03.607896Z"
    }
   },
   "cell_type": "code",
   "source": [
    "from bw2data.backends import Activity\n",
    "\n",
    "# let's get the actual activity\n",
    "carbon_dioxide: Activity = bw2data.Database(\"biosphere3\").get(method_cfs[0][0][1])\n",
    "carbon_dioxide"
   ],
   "id": "7abee5300c839ad9",
   "execution_count": 14,
   "outputs": []
  },
  {
   "metadata": {},
   "cell_type": "markdown",
   "source": "Let's write this function to clean up afterward",
   "id": "40cc53d0419ded3b"
  },
  {
   "metadata": {
    "ExecuteTime": {
     "end_time": "2024-06-05T10:55:03.632329Z",
     "start_time": "2024-06-05T10:55:03.625561Z"
    }
   },
   "cell_type": "code",
   "source": [
    "def delete_exchanges_and_db():\n",
    "    if not \"temporary\" in bw2data.databases:\n",
    "        return\n",
    "    new_db = bw2data.Database(\"temporary\")\n",
    "    for activity in new_db:\n",
    "        for bioflow in activity.biosphere():\n",
    "            bioflow.delete()\n",
    "    del bw2data.databases[\"temporary\"]"
   ],
   "id": "de479bbc42b55824",
   "execution_count": 15,
   "outputs": []
  },
  {
   "metadata": {},
   "cell_type": "markdown",
   "source": "... and create the new system",
   "id": "6f934ac15cc812c3"
  },
  {
   "metadata": {
    "ExecuteTime": {
     "end_time": "2024-06-05T10:55:03.693926Z",
     "start_time": "2024-06-05T10:55:03.633818Z"
    }
   },
   "cell_type": "code",
   "source": [
    "delete_exchanges_and_db()\n",
    "new_db = bw2data.Database(\"temporary\")\n",
    "new_db.register()\n",
    "code_name = \"new_temp_activity\"\n",
    "activity = new_db.new_activity(code_name, name=code_name, unit=\"unit\")\n",
    "activity.save()\n",
    "exc = activity.new_exchange(input=carbon_dioxide, amount=1, type=\"biosphere\")\n",
    "exc.save()"
   ],
   "id": "71f718fcc54fcf7",
   "execution_count": 16,
   "outputs": []
  },
  {
   "metadata": {},
   "cell_type": "markdown",
   "source": "We need to change the hierarchy in order to use this new activity",
   "id": "2fe934b9e3b07cb8"
  },
  {
   "metadata": {
    "ExecuteTime": {
     "end_time": "2024-06-05T10:55:03.699880Z",
     "start_time": "2024-06-05T10:55:03.695721Z"
    }
   },
   "cell_type": "code",
   "source": [
    "config[\"hierarchy\"][\"children\"][0][\"config\"] = {\n",
    "    \"code\": code_name,\n",
    "    \"default_output\": {\"unit\": \"unit\", \"magnitude\": 1},\n",
    "}"
   ],
   "id": "b46ae3636c5ad9d6",
   "execution_count": 17,
   "outputs": []
  },
  {
   "metadata": {},
   "cell_type": "markdown",
   "source": "Running this example will result in 2.0 kg CO2-Eq because our functional unit is 1 (default output) the exchange has an amount of one, and as created before, we have a custom characterization function, which doubles the value.",
   "id": "d35514eb1c10b622"
  },
  {
   "metadata": {
    "ExecuteTime": {
     "end_time": "2024-06-05T10:55:04.943452Z",
     "start_time": "2024-06-05T10:55:03.701743Z"
    }
   },
   "cell_type": "code",
   "source": [
    "exp = Experiment(config)\n",
    "exp.run()[Experiment.DEFAULT_SCENARIO_NAME][\"results\"]"
   ],
   "id": "86fc33902ecfa963",
   "execution_count": 18,
   "outputs": []
  },
  {
   "metadata": {},
   "cell_type": "markdown",
   "source": "Doubling the amount of the exchange, will double the result",
   "id": "eb04f1e98e2b0798"
  },
  {
   "metadata": {
    "ExecuteTime": {
     "end_time": "2024-06-05T10:55:05.078185Z",
     "start_time": "2024-06-05T10:55:04.944392Z"
    }
   },
   "cell_type": "code",
   "source": [
    "exc[\"amount\"] = 2\n",
    "exc.save()\n",
    "exp.run()[Experiment.DEFAULT_SCENARIO_NAME][\"results\"]"
   ],
   "id": "fe5afc2284c48d0",
   "execution_count": 19,
   "outputs": []
  },
  {
   "metadata": {},
   "cell_type": "markdown",
   "source": "And again, we can do any arbitrary calculation... ",
   "id": "31ab1a018ff69922"
  },
  {
   "metadata": {
    "ExecuteTime": {
     "end_time": "2024-06-05T10:55:06.236222Z",
     "start_time": "2024-06-05T10:55:05.079154Z"
    }
   },
   "cell_type": "code",
   "source": [
    "from math import pi, log\n",
    "\n",
    "exc[\"amount\"] = 1\n",
    "exc.save()\n",
    "\n",
    "\n",
    "def accum_harmonic_tresh(v: float) -> float:\n",
    "    if v < 1:\n",
    "        return 1\n",
    "    else:\n",
    "        return log(v * pow(pi, 2))\n",
    "\n",
    "\n",
    "non_linear_config[\"methods\"][\"GWP1000\"][\"functions\"] = {\n",
    "    tuple(method_cfs[0][0]): accum_harmonic_tresh\n",
    "}\n",
    "\n",
    "if \"module_path_function_name\" in non_linear_config[\"methods\"][\"GWP1000\"]:\n",
    "    del non_linear_config[\"methods\"][\"GWP1000\"][\"module_path_function_name\"]\n",
    "exp = Experiment(config)\n",
    "exp.run()[Experiment.DEFAULT_SCENARIO_NAME][\"results\"]"
   ],
   "id": "d64628cd111cb6d1",
   "execution_count": 20,
   "outputs": []
  },
  {
   "metadata": {},
   "cell_type": "markdown",
   "source": "And finally, we clean up",
   "id": "bb52a9b807310342"
  },
  {
   "metadata": {
    "ExecuteTime": {
     "end_time": "2024-06-05T10:55:06.263442Z",
     "start_time": "2024-06-05T10:55:06.237518Z"
    }
   },
   "cell_type": "code",
   "source": "delete_exchanges_and_db()",
   "id": "519045da2ed713ba",
   "execution_count": 21,
   "outputs": []
  }
 ],
 "metadata": {
  "kernelspec": {
   "display_name": "Python 3",
   "language": "python",
   "name": "python3"
  },
  "language_info": {
   "codemirror_mode": {
    "name": "ipython",
    "version": 2
   },
   "file_extension": ".py",
   "mimetype": "text/x-python",
   "name": "python",
   "nbconvert_exporter": "python",
   "pygments_lexer": "ipython2",
   "version": "2.7.6"
  }
 },
 "nbformat": 4,
 "nbformat_minor": 5
}
