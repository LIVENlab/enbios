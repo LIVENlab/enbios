{
 "cells": [
  {
   "cell_type": "code",
   "id": "initial_id",
   "metadata": {
    "collapsed": true,
    "ExecuteTime": {
     "end_time": "2024-04-16T09:36:46.920291Z",
     "start_time": "2024-04-16T09:36:44.625239Z"
    }
   },
   "source": [
    "import json\n",
    "\n",
    "from enbios.bw2.util import report\n",
    "\n",
    "report()"
   ],
   "outputs": [
    {
     "name": "stdout",
     "output_type": "stream",
     "text": [
      "Project: default\n",
      "[]\n",
      "Project: ecoinvent_391\n",
      "['biosphere3', 'ecoinvent_391_cutoff']\n",
      "Project: Spain case study\n",
      "['biosphere', 'food']\n",
      "Project: supply chain graph\n",
      "['bike']\n",
      "Project: matrix-test\n",
      "['db']\n",
      "Project: nonlinear-method-test\n",
      "['db']\n",
      "Project: ecoinvent_391_apos\n",
      "['biosphere3', 'ecoinvent_391_apos']\n",
      "Project: 1\n",
      "[]\n",
      "Project: ecoinvent_391_consequential\n",
      "['biosphere3', 'ecoinvent_391_consequential']\n",
      "Project: super_simple_builder_test\n",
      "['db']\n",
      "Project: builder_test\n",
      "['db']\n",
      "Project: ppp\n",
      "['db']\n",
      "Project: \n",
      "[]\n",
      "Project: seed_import\n",
      "['biosphere3', 'ecoi39co', 'batteries', 'PV', 'cobalt']\n",
      "Project: bw_temporalis example\n",
      "['example']\n",
      "Project: lci-model\n",
      "[]\n",
      "Project: test-del\n",
      "['db']\n",
      "Project: lci_model\n",
      "['biosphere3', 'cutoff391', 'new_db']\n",
      "Project: LIVENreg_ei_391_con\n",
      "['biosphere3', 'ei391cutoff']\n"
     ]
    }
   ],
   "execution_count": 1
  },
  {
   "cell_type": "code",
   "source": [
    "BRIGHTWAY_PROJECT = \"ecoinvent_391\""
   ],
   "metadata": {
    "collapsed": false,
    "ExecuteTime": {
     "end_time": "2024-04-16T09:36:48.074611Z",
     "start_time": "2024-04-16T09:36:48.070382Z"
    }
   },
   "id": "1189b6bea0407463",
   "outputs": [],
   "execution_count": 2
  },
  {
   "cell_type": "code",
   "source": [
    "experiment_data = json.load(open(\"data/uncertainty_experiment_data.json\"))\n",
    "# set the bw project to one that has ecoinvent 3.9.1 datasets\n",
    "experiment_data[\"adapters\"][0][\"config\"][\"bw_project\"] = BRIGHTWAY_PROJECT\n",
    "# samples of the k-distributions:\n",
    "experiment_data[\"adapters\"][0][\"config\"][\"use_k_bw_distributions\"] = 5"
   ],
   "metadata": {
    "collapsed": false,
    "ExecuteTime": {
     "end_time": "2024-04-16T09:36:48.680569Z",
     "start_time": "2024-04-16T09:36:48.673986Z"
    }
   },
   "id": "6d3103743605c287",
   "outputs": [],
   "execution_count": 3
  },
  {
   "cell_type": "code",
   "source": [
    "from enbios.base.experiment import Experiment\n",
    "\n",
    "exp = Experiment(experiment_data)\n",
    "exp"
   ],
   "metadata": {
    "collapsed": false,
    "ExecuteTime": {
     "end_time": "2024-04-16T09:36:50.439124Z",
     "start_time": "2024-04-16T09:36:49.217892Z"
    }
   },
   "id": "8163df7005a1e1be",
   "outputs": [
    {
     "data": {
      "text/plain": [
       "Experiment: (call info() for details)\n",
       "Structural nodes: 6\n",
       "Methods: 2\n",
       "Hierarchy (depth): 4\n",
       "Scenarios: 1"
      ]
     },
     "execution_count": 4,
     "metadata": {},
     "output_type": "execute_result"
    }
   ],
   "execution_count": 4
  },
  {
   "metadata": {
    "ExecuteTime": {
     "end_time": "2024-04-16T09:38:12.555875Z",
     "start_time": "2024-04-16T09:36:50.440843Z"
    }
   },
   "cell_type": "code",
   "source": "result = exp.run()",
   "id": "80e3e479007b1dd5",
   "outputs": [
    {
     "name": "stdout",
     "output_type": "stream",
     "text": [
      "2024-04-16 11:36:50,441 - ............demos.enbios.base - INFO - Running scenario '0'\n"
     ]
    }
   ],
   "execution_count": 5
  },
  {
   "cell_type": "code",
   "source": [
    "import pickle\n",
    "\n",
    "# store the experiment for later use\n",
    "pickle.dump(exp, open(\"data/uncertainty_experiment.pickle\", \"wb\"))"
   ],
   "metadata": {
    "collapsed": false,
    "ExecuteTime": {
     "end_time": "2024-04-16T09:38:12.573276Z",
     "start_time": "2024-04-16T09:38:12.557923Z"
    }
   },
   "id": "175f764550523bb4",
   "outputs": [],
   "execution_count": 6
  }
 ],
 "metadata": {
  "kernelspec": {
   "display_name": "Python 3",
   "language": "python",
   "name": "python3"
  },
  "language_info": {
   "codemirror_mode": {
    "name": "ipython",
    "version": 2
   },
   "file_extension": ".py",
   "mimetype": "text/x-python",
   "name": "python",
   "nbconvert_exporter": "python",
   "pygments_lexer": "ipython2",
   "version": "2.7.6"
  }
 },
 "nbformat": 4,
 "nbformat_minor": 5
}
