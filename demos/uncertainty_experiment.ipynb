{
 "cells": [
  {
   "cell_type": "code",
   "id": "initial_id",
   "metadata": {
    "collapsed": true,
    "ExecuteTime": {
     "end_time": "2024-04-24T10:37:07.634158Z",
     "start_time": "2024-04-24T10:37:05.663305Z"
    }
   },
   "source": [
    "import json\n",
    "\n",
    "from enbios.bw2.util import report\n",
    "\n",
    "report()"
   ],
   "execution_count": 1,
   "outputs": []
  },
  {
   "cell_type": "code",
   "source": [
    "BRIGHTWAY_PROJECT = \"ecoinvent_391\""
   ],
   "metadata": {
    "collapsed": false,
    "ExecuteTime": {
     "end_time": "2024-04-24T10:37:07.638330Z",
     "start_time": "2024-04-24T10:37:07.635640Z"
    }
   },
   "id": "1189b6bea0407463",
   "execution_count": 2,
   "outputs": []
  },
  {
   "cell_type": "code",
   "source": [
    "experiment_data = json.load(open(\"data/uncertainty_experiment_data.json\"))\n",
    "# set the bw project to one that has ecoinvent 3.9.1 datasets\n",
    "experiment_data[\"adapters\"][0][\"config\"][\"bw_project\"] = BRIGHTWAY_PROJECT\n",
    "# samples of the k-distributions:\n",
    "experiment_data[\"adapters\"][0][\"config\"][\"use_k_bw_distributions\"] = 5"
   ],
   "metadata": {
    "collapsed": false,
    "ExecuteTime": {
     "end_time": "2024-04-24T10:37:07.644904Z",
     "start_time": "2024-04-24T10:37:07.639444Z"
    }
   },
   "id": "6d3103743605c287",
   "execution_count": 3,
   "outputs": []
  },
  {
   "cell_type": "code",
   "source": [
    "from enbios.base.experiment import Experiment\n",
    "\n",
    "exp = Experiment(experiment_data)\n",
    "exp"
   ],
   "metadata": {
    "collapsed": false,
    "ExecuteTime": {
     "end_time": "2024-04-24T10:37:08.690855Z",
     "start_time": "2024-04-24T10:37:07.646201Z"
    }
   },
   "id": "8163df7005a1e1be",
   "execution_count": 4,
   "outputs": []
  },
  {
   "metadata": {
    "ExecuteTime": {
     "end_time": "2024-04-24T10:42:12.369339Z",
     "start_time": "2024-04-24T10:37:09.578734Z"
    }
   },
   "cell_type": "code",
   "source": "result = exp.run()",
   "id": "80e3e479007b1dd5",
   "execution_count": 5,
   "outputs": []
  },
  {
   "cell_type": "code",
   "source": [
    "import pickle\n",
    "\n",
    "# store the experiment for later use\n",
    "pickle.dump(exp, open(\"data/uncertainty_experiment.pickle\", \"wb\"))"
   ],
   "metadata": {
    "collapsed": false,
    "ExecuteTime": {
     "end_time": "2024-04-24T10:42:12.385438Z",
     "start_time": "2024-04-24T10:42:12.373645Z"
    }
   },
   "id": "175f764550523bb4",
   "execution_count": 6,
   "outputs": []
  },
  {
   "metadata": {
    "ExecuteTime": {
     "end_time": "2024-04-24T10:43:06.964886Z",
     "start_time": "2024-04-24T10:43:06.439912Z"
    }
   },
   "cell_type": "code",
   "source": [
    "from enbios.base.plot_experiment import plot_multivalue_results\n",
    "\n",
    "plot_multivalue_results(exp, level=2);"
   ],
   "id": "9ed4b2f64e24ad3e",
   "execution_count": 7,
   "outputs": []
  },
  {
   "metadata": {
    "ExecuteTime": {
     "end_time": "2024-04-24T10:43:41.480010Z",
     "start_time": "2024-04-24T10:43:41.474960Z"
    }
   },
   "cell_type": "code",
   "source": "exp.results_to_csv(\"uncert.csv\")",
   "id": "a27d07accb2bef0b",
   "execution_count": 8,
   "outputs": []
  },
  {
   "metadata": {},
   "cell_type": "code",
   "execution_count": null,
   "source": "",
   "id": "2192710ff30285ae",
   "outputs": []
  }
 ],
 "metadata": {
  "kernelspec": {
   "display_name": "Python 3",
   "language": "python",
   "name": "python3"
  },
  "language_info": {
   "codemirror_mode": {
    "name": "ipython",
    "version": 2
   },
   "file_extension": ".py",
   "mimetype": "text/x-python",
   "name": "python",
   "nbconvert_exporter": "python",
   "pygments_lexer": "ipython2",
   "version": "2.7.6"
  }
 },
 "nbformat": 4,
 "nbformat_minor": 5
}
