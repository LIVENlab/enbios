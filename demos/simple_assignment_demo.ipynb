{
 "cells": [
  {
   "cell_type": "markdown",
   "source": [
    "# Simple Assignment (Adapter) Demo\n",
    "In this we look at another builtin adapter, the Simple Assignment Adapter `enbios/base/adapters_aggregators/builtin/simple_assignment_adapter.py`. This adapter does not any specific calculations. Instead, it allows the user to introduce fixed values, that should come from some external source into the enbios tree calculation. This includes not just the outputs of structural nodes, but also their impact results.\n",
    "These values can be either in the experiment configuration file or for convenience in a referenced csv file. The values can be specified in such a way, that scenario outputs and result values have consistent and valid units.\n",
    "\n",
    "In addition, compared to the brightway adapter, this adapter allows to specify multiple outputs for each node, and also nodes that do not specify any output, even tho they have some impacts. \n",
    "\n",
    "The adapters dedicated name is `simple-assignment-adapter` tho for nodes, the indicator `assign` can also be used."
   ],
   "metadata": {
    "collapsed": false
   },
   "id": "1d1809695703fcd6"
  },
  {
   "cell_type": "markdown",
   "source": [
    "We will start with a minimal experiment configuration, that includes one node with a simple assignment "
   ],
   "metadata": {
    "collapsed": false
   },
   "id": "f043930d39f3bcab"
  },
  {
   "cell_type": "code",
   "outputs": [],
   "source": [
    "from enbios import Experiment\n",
    "\n",
    "# let's keep this node separate, so we can manipulate it easier later\n",
    "simple_assignment_node = {\n",
    "    \"name\": \"simple_ass\",\n",
    "    \"adapter\": \"assign\",\n",
    "    # the config of a assign node needs either: default_impacts or scenario_data.impacts\n",
    "    \"config\": {\n",
    "        \"output_units\": [\"l\"],\n",
    "        \"default_impacts\": {\n",
    "            \"co2\": {\"unit\": \"kg\", \"magnitude\": 10}\n",
    "        }}\n",
    "}\n",
    "\n",
    "experiment_data = {\n",
    "    \"adapters\": [{\n",
    "        \"adapter_name\": \"simple-assignment-adapter\",\n",
    "        # by default this adapter does no specific config\n",
    "        \"methods\": {\n",
    "            \"co2\": \"kg\"\n",
    "        }\n",
    "    }],\n",
    "    \"hierarchy\": {\n",
    "        \"name\": \"root\",\n",
    "        \"aggregator\": \"sum\",\n",
    "        \"children\": [\n",
    "            simple_assignment_node\n",
    "        ]\n",
    "    }\n",
    "}"
   ],
   "metadata": {
    "collapsed": false,
    "ExecuteTime": {
     "end_time": "2024-03-20T11:56:10.080657Z",
     "start_time": "2024-03-20T11:56:10.068624Z"
    }
   },
   "id": "51882535d23f9aaf",
   "execution_count": 5
  },
  {
   "cell_type": "code",
   "outputs": [
    {
     "name": "stdout",
     "output_type": "stream",
     "text": [
      "2024-03-20 12:56:10,449 - ............demos.enbios.base - INFO - Running scenario 'default scenario'\n"
     ]
    },
    {
     "data": {
      "text/plain": "{'default scenario': {'name': 'root',\n  'results': {'co2': {'unit': 'kg', 'magnitude': 10.0}},\n  'output': [],\n  'children': [{'name': 'simple_ass',\n    'results': {'co2': {'unit': 'kg', 'magnitude': 10.0}},\n    'output': []}]}}"
     },
     "execution_count": 6,
     "metadata": {},
     "output_type": "execute_result"
    }
   ],
   "source": [
    "experiment = Experiment(experiment_data)\n",
    "experiment.run()"
   ],
   "metadata": {
    "collapsed": false,
    "ExecuteTime": {
     "end_time": "2024-03-20T11:56:10.453662Z",
     "start_time": "2024-03-20T11:56:10.439349Z"
    }
   },
   "id": "ea56828e7a2bd3b0",
   "execution_count": 6
  },
  {
   "cell_type": "code",
   "outputs": [
    {
     "name": "stdout",
     "output_type": "stream",
     "text": [
      "2024-03-20 12:56:22,321 - ............demos.enbios.base - INFO - Running scenario 'scenario1'\n"
     ]
    },
    {
     "data": {
      "text/plain": "{'scenario1': {'name': 'root',\n  'results': {'co2': {'unit': 'pf', 'magnitude': 20.0}},\n  'output': [{'unit': 'liter', 'magnitude': 100.0}],\n  'children': [{'name': 'simple_ass',\n    'results': {'co2': {'unit': 'pf', 'magnitude': 20.0}},\n    'output': [{'unit': 'l', 'magnitude': 100.0}]}]}}"
     },
     "execution_count": 8,
     "metadata": {},
     "output_type": "execute_result"
    }
   ],
   "source": [
    "experiment_data[\"scenarios\"] = [{\n",
    "    \"name\": \"scenario1\",\n",
    "    \"nodes\": {\n",
    "        \"simple_ass\": {\n",
    "            \"outputs\": [{\n",
    "                \"unit\": \"l\", \"magnitude\": 100\n",
    "            }],\n",
    "            \"impacts\": {\n",
    "                \"co2\": {\"unit\": \"pf\", \"magnitude\": 20}\n",
    "            }\n",
    "        }\n",
    "    }\n",
    "}\n",
    "]\n",
    "\n",
    "experiment = Experiment(experiment_data)\n",
    "experiment.run()"
   ],
   "metadata": {
    "collapsed": false,
    "ExecuteTime": {
     "end_time": "2024-03-20T11:56:22.326919Z",
     "start_time": "2024-03-20T11:56:22.311387Z"
    }
   },
   "id": "cc484ac26682b2c0",
   "execution_count": 8
  },
  {
   "cell_type": "code",
   "outputs": [],
   "source": [
    "experiment.adapters[0].nodes"
   ],
   "metadata": {
    "collapsed": false
   },
   "id": "8cb3feb5de016847",
   "execution_count": null
  },
  {
   "cell_type": "code",
   "outputs": [],
   "source": [],
   "metadata": {
    "collapsed": false
   },
   "id": "28ec642feda7a9dd"
  }
 ],
 "metadata": {
  "kernelspec": {
   "display_name": "Python 3",
   "language": "python",
   "name": "python3"
  },
  "language_info": {
   "codemirror_mode": {
    "name": "ipython",
    "version": 2
   },
   "file_extension": ".py",
   "mimetype": "text/x-python",
   "name": "python",
   "nbconvert_exporter": "python",
   "pygments_lexer": "ipython2",
   "version": "2.7.6"
  }
 },
 "nbformat": 4,
 "nbformat_minor": 5
}
