{
 "cells": [
  {
   "cell_type": "markdown",
   "source": [
    "# Assignment-Adapter Demo\n",
    "In this we look at another builtin adapter, the Simple Assignment Adapter `enbios/base/adapters_aggregators/builtin/assignment_adapter.py`. This adapter does not any specific calculations. Instead, it allows the user to introduce fixed values, that should come from some external source into the enbios tree calculation. This includes not just the outputs of structural nodes, but in particular their impact results.\n",
    "\n",
    "These values can be either in the experiment configuration file or for convenience in a referenced csv file. The values can be specified in such a way, that scenario outputs and result values have consistent and valid units.\n",
    "\n",
    "In addition, compared to the brightway adapter, this adapter allows to specify _multiple outputs_ for each node, and also nodes that do not specify any output, even tho they have some impacts. \n",
    "\n",
    "The adapters dedicated name is `assignment-adapter` tho for nodes, the indicator `assign` can also be used."
   ],
   "metadata": {
    "collapsed": false
   },
   "id": "1d1809695703fcd6"
  },
  {
   "cell_type": "markdown",
   "source": [
    "We will start with a minimal experiment configuration, that includes one node with a simple assignment "
   ],
   "metadata": {
    "collapsed": false
   },
   "id": "f043930d39f3bcab"
  },
  {
   "cell_type": "code",
   "source": [
    "import pandas as pd\n",
    "\n",
    "from enbios import Experiment\n",
    "\n",
    "simple_assignment_node = {\n",
    "    \"name\": \"simple_node\",\n",
    "    \"adapter\": \"assign\",\n",
    "    \"config\": {\n",
    "        \"outputs\": [{\"unit\": \"l\"}],\n",
    "        \"default_outputs\": [{\"magnitude\": 4}],\n",
    "        \"default_impacts\": {\"co2\": {\"unit\": \"kg\", \"magnitude\": 10}},\n",
    "    },\n",
    "}\n",
    "\n",
    "experiment_data = {\n",
    "    \"adapters\": [\n",
    "        {\n",
    "            \"adapter_name\": \"assignment-adapter\",\n",
    "            # by default this adapter needs no specific config\n",
    "            \"methods\": {\"co2\": \"kg\"},\n",
    "        }\n",
    "    ],\n",
    "    \"hierarchy\": {\n",
    "        \"name\": \"root\",\n",
    "        \"aggregator\": \"sum\",\n",
    "        \"children\": [simple_assignment_node],\n",
    "    },\n",
    "}\n",
    "\n",
    "experiment = Experiment(experiment_data)\n",
    "experiment.run()"
   ],
   "metadata": {
    "collapsed": false,
    "ExecuteTime": {
     "end_time": "2024-04-16T08:25:57.914066Z",
     "start_time": "2024-04-16T08:25:55.965976Z"
    }
   },
   "id": "51882535d23f9aaf",
   "outputs": [
    {
     "name": "stdout",
     "output_type": "stream",
     "text": [
      "2024-04-16 10:25:57,908 - ............demos.enbios.base - INFO - Running scenario 'default scenario'\n"
     ]
    },
    {
     "data": {
      "text/plain": [
       "{'default scenario': {'name': 'root',\n",
       "  'results': {'co2': {'unit': 'kg', 'magnitude': 10.0}},\n",
       "  'output': [{'unit': 'liter', 'magnitude': 4.0}],\n",
       "  'children': [{'name': 'simple_node',\n",
       "    'results': {'co2': {'unit': 'kg', 'magnitude': 10.0}},\n",
       "    'output': [{'unit': 'l', 'magnitude': 4.0}]}]}}"
      ]
     },
     "execution_count": 1,
     "metadata": {},
     "output_type": "execute_result"
    }
   ],
   "execution_count": 1
  },
  {
   "metadata": {},
   "cell_type": "markdown",
   "source": [
    "The config of an assign node is structured the following way:\n",
    "These are the fields that can/must be set:\n",
    "```\n",
    "    node_name: a unique string\n",
    "    outputs: a list that specifies the outputs\n",
    "    default_outputs: a list of default-outputs (optional) \n",
    "    default_impacts: a dictionary of default impacts\n",
    "```\n",
    "\n",
    "In detail:\n",
    "__outputs:__ each output in that list contains the fields: `unit` and `label` (optional). The unit specifies the unit for that output. When default or scenario outputs do not specify any unit, this one will be used, and if they do, it must be compatible with this unit, e.g. W, kW, MW, TW, ...\n",
    "\n",
    "The label is used in order to indicate if nodes outputs should be merged  or not(by the sum-aggregator). By default, outputs that do not have any label get merged, when their units are compatible with each other. If outputs have labels, they will only be merged with other nodes outputs, when they have the same label. Further down, we will see this in an example.\n",
    "\n",
    "__default_outputs:__ Default outputs are used in scenarios, when there is no output specified. A default output (one item in the list) can also be `None` (`null` in json), meaning an output always needs to be defined. The unit can be omited, in that case the normal output unit will be used (defined in `outputs`).\n",
    "\n",
    "__default_impacts:__ The default impacts, which will be used, when some impact is not specified in a scenario, is a dictionary that maps from a method (as specified in the config of the adapter) to a value (`unit` and `magnitude`)\n"
   ],
   "id": "54383fc16a265102"
  },
  {
   "metadata": {},
   "cell_type": "markdown",
   "source": "In this example, we see how a node can be specified, when there are scenarios, which define specific outputsw and impacts. The two fields for a node in a scenario are `outputs` and `impacts` and the structure is the same as for default values.",
   "id": "17399b27ccb0a7e1"
  },
  {
   "metadata": {
    "ExecuteTime": {
     "end_time": "2024-04-16T08:25:57.927086Z",
     "start_time": "2024-04-16T08:25:57.915607Z"
    }
   },
   "cell_type": "code",
   "source": [
    "from enbios import Experiment\n",
    "from enbios.base.adapters_aggregators.builtin.assignment_adapter import AssignmentAdapter\n",
    "\n",
    "simple_assignment_node = {\n",
    "    \"name\": \"simple_node\",\n",
    "    \"adapter\": \"assign\",\n",
    "    \"config\": {\"outputs\": [{\"unit\": \"l\"}]},\n",
    "}\n",
    "\n",
    "experiment_data = {\n",
    "    \"adapters\": [\n",
    "        {\n",
    "            \"adapter_name\": \"assignment-adapter\",\n",
    "            # by default this adapter needs no specific config\n",
    "            \"methods\": {\"co2\": \"kg\"},\n",
    "        }\n",
    "    ],\n",
    "    \"hierarchy\": {\n",
    "        \"name\": \"root\",\n",
    "        \"aggregator\": \"sum\",\n",
    "        \"children\": [simple_assignment_node],\n",
    "    },\n",
    "    \"scenarios\": [\n",
    "        {\n",
    "            \"name\": \"scenario 1\",\n",
    "            \"nodes\": {\n",
    "                \"simple_node\": {\n",
    "                    \"outputs\": [{\"magnitude\": 4}],\n",
    "                    \"impacts\": {\"co2\": {\"unit\": \"kg\", \"magnitude\": 10}},\n",
    "                }\n",
    "            },\n",
    "        }\n",
    "    ],\n",
    "}\n",
    "\n",
    "experiment = Experiment(experiment_data)\n",
    "experiment.run()"
   ],
   "id": "8ef6ac22c0e5b47f",
   "outputs": [
    {
     "name": "stdout",
     "output_type": "stream",
     "text": [
      "2024-04-16 10:25:57,922 - ............demos.enbios.base - INFO - Running scenario 'scenario 1'\n"
     ]
    },
    {
     "data": {
      "text/plain": [
       "{'scenario 1': {'name': 'root',\n",
       "  'results': {'co2': {'unit': 'kg', 'magnitude': 10.0}},\n",
       "  'output': [{'unit': 'liter', 'magnitude': 4.0}],\n",
       "  'children': [{'name': 'simple_node',\n",
       "    'results': {'co2': {'unit': 'kg', 'magnitude': 10.0}},\n",
       "    'output': [{'unit': 'l', 'magnitude': 4.0}]}]}}"
      ]
     },
     "execution_count": 2,
     "metadata": {},
     "output_type": "execute_result"
    }
   ],
   "execution_count": 2
  },
  {
   "cell_type": "code",
   "source": [
    "experiment.adapters[0].nodes"
   ],
   "metadata": {
    "collapsed": false,
    "ExecuteTime": {
     "end_time": "2024-04-16T08:26:00.006003Z",
     "start_time": "2024-04-16T08:26:00.002125Z"
    }
   },
   "id": "8cb3feb5de016847",
   "outputs": [
    {
     "data": {
      "text/plain": [
       "{'simple_node': AssignmentNode(node_name='simple_node', outputs=[AssignmentNodeOutputConfig(unit='l', label=None)], default_outputs=[], default_impacts={}, scenario_data={'scenario 1': AssignmentNodeScenarioData(outputs=[NodeOutput(unit='l', magnitude=4.0, label=None)], impacts={'co2': ResultValue(unit='kg', magnitude=10.0, multi_magnitude=[])})})}"
      ]
     },
     "execution_count": 3,
     "metadata": {},
     "output_type": "execute_result"
    }
   ],
   "execution_count": 3
  },
  {
   "metadata": {
    "ExecuteTime": {
     "end_time": "2024-04-16T08:26:00.636038Z",
     "start_time": "2024-04-16T08:26:00.628239Z"
    }
   },
   "cell_type": "code",
   "source": "AssignmentAdapter.get_config_schemas()",
   "id": "a272470829d8fa95",
   "outputs": [
    {
     "data": {
      "text/plain": [
       "{'node_name': {'$defs': {'AssignmentNodeOutputConfig': {'properties': {'unit': {'title': 'Unit',\n",
       "      'type': 'string'},\n",
       "     'label': {'anyOf': [{'type': 'string'}, {'type': 'null'}],\n",
       "      'default': None,\n",
       "      'title': 'Label'}},\n",
       "    'required': ['unit'],\n",
       "    'title': 'AssignmentNodeOutputConfig',\n",
       "    'type': 'object'},\n",
       "   'AssignmentNodeScenarioData': {'additionalProperties': False,\n",
       "    'properties': {'outputs': {'items': {'$ref': '#/$defs/NodeOutput'},\n",
       "      'title': 'Outputs',\n",
       "      'type': 'array'},\n",
       "     'impacts': {'additionalProperties': {'$ref': '#/$defs/ResultValue'},\n",
       "      'title': 'Impacts',\n",
       "      'type': 'object'}},\n",
       "    'title': 'AssignmentNodeScenarioData',\n",
       "    'type': 'object'},\n",
       "   'NodeOutput': {'additionalProperties': False,\n",
       "    'properties': {'unit': {'title': 'Unit', 'type': 'string'},\n",
       "     'magnitude': {'default': 1.0, 'title': 'Magnitude', 'type': 'number'},\n",
       "     'label': {'anyOf': [{'type': 'string'}, {'type': 'null'}],\n",
       "      'default': None,\n",
       "      'title': 'Label'}},\n",
       "    'required': ['unit'],\n",
       "    'title': 'NodeOutput',\n",
       "    'type': 'object'},\n",
       "   'ResultValue': {'additionalProperties': False,\n",
       "    'properties': {'unit': {'title': 'Unit', 'type': 'string'},\n",
       "     'magnitude': {'anyOf': [{'type': 'number'}, {'type': 'null'}],\n",
       "      'default': None,\n",
       "      'title': 'Magnitude'},\n",
       "     'multi_magnitude': {'anyOf': [{'items': {'type': 'number'},\n",
       "        'type': 'array'},\n",
       "       {'type': 'null'}],\n",
       "      'title': 'Multi Magnitude'}},\n",
       "    'required': ['unit'],\n",
       "    'title': 'ResultValue',\n",
       "    'type': 'object'}},\n",
       "  'additionalProperties': False,\n",
       "  'properties': {'node_name': {'title': 'Node Name', 'type': 'string'},\n",
       "   'outputs': {'items': {'$ref': '#/$defs/AssignmentNodeOutputConfig'},\n",
       "    'title': 'Outputs',\n",
       "    'type': 'array'},\n",
       "   'default_outputs': {'items': {'anyOf': [{'$ref': '#/$defs/NodeOutput'},\n",
       "      {'type': 'null'}]},\n",
       "    'title': 'Default Outputs',\n",
       "    'type': 'array'},\n",
       "   'default_impacts': {'additionalProperties': {'$ref': '#/$defs/ResultValue'},\n",
       "    'title': 'Default Impacts',\n",
       "    'type': 'object'},\n",
       "   'scenario_data': {'additionalProperties': {'$ref': '#/$defs/AssignmentNodeScenarioData'},\n",
       "    'title': 'Scenario Data',\n",
       "    'type': 'object'}},\n",
       "  'required': ['node_name', 'outputs'],\n",
       "  'title': 'AssignmentNode',\n",
       "  'type': 'object'}}"
      ]
     },
     "execution_count": 4,
     "metadata": {},
     "output_type": "execute_result"
    }
   ],
   "execution_count": 4
  },
  {
   "metadata": {},
   "cell_type": "markdown",
   "source": [
    "## Output merging with labels\n",
    "\n",
    "In this example we create 2 nodes, the first one with 4 outputs and the 2nd one with 2 like so:\n",
    "\n",
    "__1. node__\n",
    "- l (liter)\n",
    "- h (hours)\n",
    "- h (hours), label:labor\n",
    "- kW (kilo-Watt)\n",
    "\n",
    "__2. node__\n",
    "- h (hours)\n",
    "- kW (kilo-Watt)\n",
    "\n",
    "We then just look at the outputs of the root node, which merges the outputs of the 2 nodes.\n",
    "The root node will merge the two hour outputs, which have no labels, and the kW outputs (also without labels), but leave the hour output of the 1. node, which has no label, separate."
   ],
   "id": "948d9e60b53c7357"
  },
  {
   "metadata": {
    "ExecuteTime": {
     "end_time": "2024-04-16T08:26:01.302121Z",
     "start_time": "2024-04-16T08:26:01.285646Z"
    }
   },
   "cell_type": "code",
   "source": [
    "experiment_data = {\n",
    "    \"adapters\": [\n",
    "        {\n",
    "            \"adapter_name\": \"assignment-adapter\",\n",
    "            # by default this adapter needs no specific config\n",
    "            \"methods\": {\"co2\": \"kg\"},\n",
    "        }\n",
    "    ],\n",
    "    \"hierarchy\": {\n",
    "        \"name\": \"root\",\n",
    "        \"aggregator\": \"sum\",\n",
    "        \"children\": [\n",
    "            {\n",
    "                \"name\": \"node1\",\n",
    "                \"adapter\": \"assign\",\n",
    "                \"config\": {\n",
    "                    \"outputs\": [\n",
    "                        {\"unit\": \"l\"},\n",
    "                        {\"unit\": \"h\"},\n",
    "                        {\"unit\": \"h\", \"label\": \"labor\"},\n",
    "                        {\"unit\": \"kW\"},\n",
    "                    ],\n",
    "                    \"default_outputs\": [\n",
    "                        {\"magnitude\": 5},\n",
    "                        {\"magnitude\": 1},\n",
    "                        {\"magnitude\": 4},\n",
    "                        {\"magnitude\": 75},\n",
    "                    ],\n",
    "                    \"default_impacts\": {\"co2\": {\"unit\": \"kg\", \"magnitude\": 10}},\n",
    "                },\n",
    "            },\n",
    "            {\n",
    "                \"name\": \"node2\",\n",
    "                \"adapter\": \"assign\",\n",
    "                \"config\": {\n",
    "                    \"outputs\": [{\"unit\": \"h\"}, {\"unit\": \"kW\"}],\n",
    "                    \"default_outputs\": [{\"magnitude\": 1}, {\"magnitude\": 10}],\n",
    "                    \"default_impacts\": {\"co2\": {\"unit\": \"kg\", \"magnitude\": 10}},\n",
    "                },\n",
    "            },\n",
    "        ],\n",
    "    },\n",
    "}\n",
    "\n",
    "experiment = Experiment(experiment_data)\n",
    "res = experiment.run()\n",
    "res[\"default scenario\"][\"output\"]"
   ],
   "id": "289f71fb4fcefe13",
   "outputs": [
    {
     "name": "stdout",
     "output_type": "stream",
     "text": [
      "2024-04-16 10:26:01,296 - ............demos.enbios.base - INFO - Running scenario 'default scenario'\n"
     ]
    },
    {
     "data": {
      "text/plain": [
       "[{'unit': 'liter', 'magnitude': 5.0},\n",
       " {'unit': 'hour', 'magnitude': 2.0},\n",
       " {'unit': 'hour', 'magnitude': 4.0, 'label': 'labor'},\n",
       " {'unit': 'kilowatt', 'magnitude': 85.0}]"
      ]
     },
     "execution_count": 5,
     "metadata": {},
     "output_type": "execute_result"
    }
   ],
   "execution_count": 5
  },
  {
   "metadata": {},
   "cell_type": "markdown",
   "source": [
    "## Using csv files\n",
    "\n",
    "Next, we demonstrate how to use csv files to specify the outputs and impacts for assignment adapter nodes. Instead of specifying the outputs and impacts directly in the config, we can specify one csv file, which contains the outputs and impacts for all assignment nodes in our experiment, their default values but also their scenario values."
   ],
   "id": "eeac3383eccbde84"
  },
  {
   "metadata": {},
   "cell_type": "markdown",
   "source": [
    "Let's look at the structure of the csv file.\n",
    "A minimal csv file looks like this, where we only specify default value for a single scenario:\n",
    "\n",
    "\n",
    "| node_name | outputs_1_unit | default_outputs_1_unit | default_outputs_1_magnitude | default_impacts_co2_unit | default_impacts_co2_magnitude |\n",
    "\n",
    "\n",
    "\n",
    "```\n",
    "node_name\n",
    "output_{id}_unit\n",
    "output_{id}_label\n",
    "default_outputs_{id}_unit\n",
    "default_outputs_{id}_magnitude \n",
    "default_impacts_{impact_id}_unit\n",
    "default_impacts_{impact_id}_magnitude\n",
    "```\n",
    "Since we can have multiple outputs, we need to specify the `id` of each output in this csv file. These ids have no further purpose other than linking different columns in the csv file. An id can be any string of characters and numbers. The `ìmpact_id`s must match the method names defined in the adapter."
   ],
   "id": "33d62b3463af5dca"
  },
  {
   "metadata": {
    "ExecuteTime": {
     "end_time": "2024-04-16T08:26:02.791408Z",
     "start_time": "2024-04-16T08:26:02.761011Z"
    }
   },
   "cell_type": "code",
   "source": [
    "pd.read_csv(\"data/assigment_csv_files/assignment1.csv\")"
   ],
   "id": "fdba47f7c3f87d0e",
   "outputs": [
    {
     "data": {
      "text/plain": [
       "  node_name outputs_1_unit  default_outputs_1_magnitude  \\\n",
       "0        n1              l                          100   \n",
       "\n",
       "  default_impacts_co2_unit   default_impacts_co2_magnitude  \n",
       "0                       kg                               5  "
      ],
      "text/html": [
       "<div>\n",
       "<style scoped>\n",
       "    .dataframe tbody tr th:only-of-type {\n",
       "        vertical-align: middle;\n",
       "    }\n",
       "\n",
       "    .dataframe tbody tr th {\n",
       "        vertical-align: top;\n",
       "    }\n",
       "\n",
       "    .dataframe thead th {\n",
       "        text-align: right;\n",
       "    }\n",
       "</style>\n",
       "<table border=\"1\" class=\"dataframe\">\n",
       "  <thead>\n",
       "    <tr style=\"text-align: right;\">\n",
       "      <th></th>\n",
       "      <th>node_name</th>\n",
       "      <th>outputs_1_unit</th>\n",
       "      <th>default_outputs_1_magnitude</th>\n",
       "      <th>default_impacts_co2_unit</th>\n",
       "      <th>default_impacts_co2_magnitude</th>\n",
       "    </tr>\n",
       "  </thead>\n",
       "  <tbody>\n",
       "    <tr>\n",
       "      <th>0</th>\n",
       "      <td>n1</td>\n",
       "      <td>l</td>\n",
       "      <td>100</td>\n",
       "      <td>kg</td>\n",
       "      <td>5</td>\n",
       "    </tr>\n",
       "  </tbody>\n",
       "</table>\n",
       "</div>"
      ]
     },
     "execution_count": 6,
     "metadata": {},
     "output_type": "execute_result"
    }
   ],
   "execution_count": 6
  },
  {
   "metadata": {},
   "cell_type": "markdown",
   "source": [
    "Note, how the `default_outputs_{id}_unit` is as with the json format only optional. If it is not specified, the unit from the `outputs` field will be used.\n",
    "\n",
    "It is also important that we still need to the nodes in the hierarchy, with their name and adapter, but we can leave out the config."
   ],
   "id": "4527e642dc8dc213"
  },
  {
   "metadata": {
    "ExecuteTime": {
     "end_time": "2024-04-16T08:26:03.960860Z",
     "start_time": "2024-04-16T08:26:03.943636Z"
    }
   },
   "cell_type": "code",
   "source": [
    "experiment_data = {\n",
    "    \"adapters\": [\n",
    "        {\n",
    "            \"adapter_name\": \"assignment-adapter\",\n",
    "            \"methods\": {\"co2\": \"kg\"},\n",
    "            \"config\": {\"source_csv_file\": \"data/assigment_csv_files/assignment1.csv\"},\n",
    "        }\n",
    "    ],\n",
    "    \"hierarchy\": {\n",
    "        \"name\": \"root\",\n",
    "        \"aggregator\": \"sum\",\n",
    "        \"children\": [{\"name\": \"n1\", \"adapter\": \"assign\"}],\n",
    "    },\n",
    "}\n",
    "\n",
    "from enbios import Experiment\n",
    "\n",
    "experiment = Experiment(experiment_data)\n",
    "experiment.run()"
   ],
   "id": "eba7297785d7a397",
   "outputs": [
    {
     "name": "stdout",
     "output_type": "stream",
     "text": [
      "2024-04-16 10:26:03,953 - ............demos.enbios.base - INFO - Running scenario 'default scenario'\n"
     ]
    },
    {
     "data": {
      "text/plain": [
       "{'default scenario': {'name': 'root',\n",
       "  'results': {'co2': {'unit': 'kg', 'magnitude': 5.0}},\n",
       "  'output': [{'unit': 'liter', 'magnitude': 100.0}],\n",
       "  'children': [{'name': 'n1',\n",
       "    'results': {'co2': {'unit': 'kg', 'magnitude': 5.0}},\n",
       "    'output': [{'unit': 'liter', 'magnitude': 100.0}]}]}}"
      ]
     },
     "execution_count": 7,
     "metadata": {},
     "output_type": "execute_result"
    }
   ],
   "execution_count": 7
  },
  {
   "metadata": {},
   "cell_type": "markdown",
   "source": [
    "Default values should only be defined in the first row of a new node. The other rows are for scenario values, one row per scenario.\n",
    "\n",
    "Similar to the nodes, the scenarios must be defined in the `scenarios` field of the experiment."
   ],
   "id": "454f727677202d4f"
  },
  {
   "metadata": {
    "ExecuteTime": {
     "end_time": "2024-04-16T08:26:05.268962Z",
     "start_time": "2024-04-16T08:26:05.261346Z"
    }
   },
   "cell_type": "code",
   "source": "pd.read_csv(\"data/assigment_csv_files/assignment2.csv\").fillna(\"\")",
   "id": "159f207bd2f24c8d",
   "outputs": [
    {
     "data": {
      "text/plain": [
       "  node_name outputs_1_unit scenario  scenario_outputs_1_magnitude  \\\n",
       "0        n1              l      sc1                           100   \n",
       "1        n1                     sc2                           150   \n",
       "\n",
       "  scenario_impacts_co2_unit  scenario_impacts_co2_magnitude  \n",
       "0                        kg                             5.0  \n",
       "1                        kg                             7.5  "
      ],
      "text/html": [
       "<div>\n",
       "<style scoped>\n",
       "    .dataframe tbody tr th:only-of-type {\n",
       "        vertical-align: middle;\n",
       "    }\n",
       "\n",
       "    .dataframe tbody tr th {\n",
       "        vertical-align: top;\n",
       "    }\n",
       "\n",
       "    .dataframe thead th {\n",
       "        text-align: right;\n",
       "    }\n",
       "</style>\n",
       "<table border=\"1\" class=\"dataframe\">\n",
       "  <thead>\n",
       "    <tr style=\"text-align: right;\">\n",
       "      <th></th>\n",
       "      <th>node_name</th>\n",
       "      <th>outputs_1_unit</th>\n",
       "      <th>scenario</th>\n",
       "      <th>scenario_outputs_1_magnitude</th>\n",
       "      <th>scenario_impacts_co2_unit</th>\n",
       "      <th>scenario_impacts_co2_magnitude</th>\n",
       "    </tr>\n",
       "  </thead>\n",
       "  <tbody>\n",
       "    <tr>\n",
       "      <th>0</th>\n",
       "      <td>n1</td>\n",
       "      <td>l</td>\n",
       "      <td>sc1</td>\n",
       "      <td>100</td>\n",
       "      <td>kg</td>\n",
       "      <td>5.0</td>\n",
       "    </tr>\n",
       "    <tr>\n",
       "      <th>1</th>\n",
       "      <td>n1</td>\n",
       "      <td></td>\n",
       "      <td>sc2</td>\n",
       "      <td>150</td>\n",
       "      <td>kg</td>\n",
       "      <td>7.5</td>\n",
       "    </tr>\n",
       "  </tbody>\n",
       "</table>\n",
       "</div>"
      ]
     },
     "execution_count": 8,
     "metadata": {},
     "output_type": "execute_result"
    }
   ],
   "execution_count": 8
  },
  {
   "metadata": {
    "ExecuteTime": {
     "end_time": "2024-04-16T08:26:06.074272Z",
     "start_time": "2024-04-16T08:26:06.061852Z"
    }
   },
   "cell_type": "code",
   "source": [
    "experiment_data[\"adapters\"][0][\"config\"][\n",
    "    \"source_csv_file\"\n",
    "] = \"data/assigment_csv_files/assignment2.csv\"\n",
    "experiment_data[\"scenarios\"] = [{\"name\": \"sc1\"}, {\"name\": \"sc2\"}]\n",
    "experiment = Experiment(experiment_data)\n",
    "experiment.run()"
   ],
   "id": "f682b6b35c7b386e",
   "outputs": [
    {
     "name": "stdout",
     "output_type": "stream",
     "text": [
      "2024-04-16 10:26:06,067 - ............demos.enbios.base - INFO - Running scenario 'sc1'\n",
      "2024-04-16 10:26:06,069 - ............demos.enbios.base - INFO - Running scenario 'sc2'\n"
     ]
    },
    {
     "data": {
      "text/plain": [
       "{'sc1': {'name': 'root',\n",
       "  'results': {'co2': {'unit': 'kg', 'magnitude': 5.0}},\n",
       "  'output': [{'unit': 'liter', 'magnitude': 100.0}],\n",
       "  'children': [{'name': 'n1',\n",
       "    'results': {'co2': {'unit': 'kg', 'magnitude': 5.0}},\n",
       "    'output': [{'unit': 'liter', 'magnitude': 100.0}]}]},\n",
       " 'sc2': {'name': 'root',\n",
       "  'results': {'co2': {'unit': 'kg', 'magnitude': 7.5}},\n",
       "  'output': [{'unit': 'liter', 'magnitude': 150.0}],\n",
       "  'children': [{'name': 'n1',\n",
       "    'results': {'co2': {'unit': 'kg', 'magnitude': 7.5}},\n",
       "    'output': [{'unit': 'liter', 'magnitude': 150.0}]}]}}"
      ]
     },
     "execution_count": 9,
     "metadata": {},
     "output_type": "execute_result"
    }
   ],
   "execution_count": 9
  },
  {
   "metadata": {
    "ExecuteTime": {
     "end_time": "2024-04-16T08:26:06.934042Z",
     "start_time": "2024-04-16T08:26:06.918382Z"
    }
   },
   "cell_type": "code",
   "source": [
    "# Finally a mixed example\n",
    "pd.read_csv(\"data/assigment_csv_files/assignment3.csv\").fillna(\"\")"
   ],
   "id": "539745704e71bf22",
   "outputs": [
    {
     "data": {
      "text/plain": [
       "  node_name outputs_1_unit scenario default_outputs_1_unit  \\\n",
       "0        n1              l      sc1                          \n",
       "1        n1                     sc2                          \n",
       "2        n2             kg                                   \n",
       "3        n2                     sc1                          \n",
       "\n",
       "  default_outputs_1_magnitude scenario_outputs_1_magnitude  \\\n",
       "0                                                    100.0   \n",
       "1                                                    150.0   \n",
       "2                         4.0                                \n",
       "3                                                            \n",
       "\n",
       "  scenario_impacts_co2_unit scenario_impacts_co2_magnitude  \n",
       "0                        kg                            5.0  \n",
       "1                        kg                            7.5  \n",
       "2                                                           \n",
       "3                        kg                            2.0  "
      ],
      "text/html": [
       "<div>\n",
       "<style scoped>\n",
       "    .dataframe tbody tr th:only-of-type {\n",
       "        vertical-align: middle;\n",
       "    }\n",
       "\n",
       "    .dataframe tbody tr th {\n",
       "        vertical-align: top;\n",
       "    }\n",
       "\n",
       "    .dataframe thead th {\n",
       "        text-align: right;\n",
       "    }\n",
       "</style>\n",
       "<table border=\"1\" class=\"dataframe\">\n",
       "  <thead>\n",
       "    <tr style=\"text-align: right;\">\n",
       "      <th></th>\n",
       "      <th>node_name</th>\n",
       "      <th>outputs_1_unit</th>\n",
       "      <th>scenario</th>\n",
       "      <th>default_outputs_1_unit</th>\n",
       "      <th>default_outputs_1_magnitude</th>\n",
       "      <th>scenario_outputs_1_magnitude</th>\n",
       "      <th>scenario_impacts_co2_unit</th>\n",
       "      <th>scenario_impacts_co2_magnitude</th>\n",
       "    </tr>\n",
       "  </thead>\n",
       "  <tbody>\n",
       "    <tr>\n",
       "      <th>0</th>\n",
       "      <td>n1</td>\n",
       "      <td>l</td>\n",
       "      <td>sc1</td>\n",
       "      <td></td>\n",
       "      <td></td>\n",
       "      <td>100.0</td>\n",
       "      <td>kg</td>\n",
       "      <td>5.0</td>\n",
       "    </tr>\n",
       "    <tr>\n",
       "      <th>1</th>\n",
       "      <td>n1</td>\n",
       "      <td></td>\n",
       "      <td>sc2</td>\n",
       "      <td></td>\n",
       "      <td></td>\n",
       "      <td>150.0</td>\n",
       "      <td>kg</td>\n",
       "      <td>7.5</td>\n",
       "    </tr>\n",
       "    <tr>\n",
       "      <th>2</th>\n",
       "      <td>n2</td>\n",
       "      <td>kg</td>\n",
       "      <td></td>\n",
       "      <td></td>\n",
       "      <td>4.0</td>\n",
       "      <td></td>\n",
       "      <td></td>\n",
       "      <td></td>\n",
       "    </tr>\n",
       "    <tr>\n",
       "      <th>3</th>\n",
       "      <td>n2</td>\n",
       "      <td></td>\n",
       "      <td>sc1</td>\n",
       "      <td></td>\n",
       "      <td></td>\n",
       "      <td></td>\n",
       "      <td>kg</td>\n",
       "      <td>2.0</td>\n",
       "    </tr>\n",
       "  </tbody>\n",
       "</table>\n",
       "</div>"
      ]
     },
     "execution_count": 10,
     "metadata": {},
     "output_type": "execute_result"
    }
   ],
   "execution_count": 10
  },
  {
   "metadata": {
    "ExecuteTime": {
     "end_time": "2024-04-16T08:26:07.641774Z",
     "start_time": "2024-04-16T08:26:07.628460Z"
    }
   },
   "cell_type": "code",
   "source": [
    "import json\n",
    "\n",
    "experiment_data[\"adapters\"][0][\"config\"][\n",
    "    \"source_csv_file\"\n",
    "] = \"data/assigment_csv_files/assignment3.csv\"\n",
    "experiment_data[\"scenarios\"] = [{\"name\": \"sc1\"}, {\"name\": \"sc2\"}]\n",
    "experiment_data[\"hierarchy\"][\"children\"] = [\n",
    "    {\"name\": \"n1\", \"adapter\": \"assign\"},\n",
    "    {\"name\": \"n2\", \"adapter\": \"assign\"},\n",
    "]\n",
    "experiment = Experiment(experiment_data)\n",
    "print(json.dumps(experiment.run(), indent=2))"
   ],
   "id": "ed626bbad0bd2d21",
   "outputs": [
    {
     "name": "stdout",
     "output_type": "stream",
     "text": [
      "2024-04-16 10:26:07,636 - ............demos.enbios.base - INFO - Running scenario 'sc1'\n",
      "2024-04-16 10:26:07,638 - ............demos.enbios.base - INFO - Running scenario 'sc2'\n",
      "{\n",
      "  \"sc1\": {\n",
      "    \"name\": \"root\",\n",
      "    \"results\": {\n",
      "      \"co2\": {\n",
      "        \"unit\": \"kg\",\n",
      "        \"magnitude\": 7.0\n",
      "      }\n",
      "    },\n",
      "    \"output\": [\n",
      "      {\n",
      "        \"unit\": \"liter\",\n",
      "        \"magnitude\": 100.0\n",
      "      },\n",
      "      {\n",
      "        \"unit\": \"kilogram\",\n",
      "        \"magnitude\": 4.0\n",
      "      }\n",
      "    ],\n",
      "    \"children\": [\n",
      "      {\n",
      "        \"name\": \"n1\",\n",
      "        \"results\": {\n",
      "          \"co2\": {\n",
      "            \"unit\": \"kg\",\n",
      "            \"magnitude\": 5.0\n",
      "          }\n",
      "        },\n",
      "        \"output\": [\n",
      "          {\n",
      "            \"unit\": \"liter\",\n",
      "            \"magnitude\": 100.0\n",
      "          }\n",
      "        ]\n",
      "      },\n",
      "      {\n",
      "        \"name\": \"n2\",\n",
      "        \"results\": {\n",
      "          \"co2\": {\n",
      "            \"unit\": \"kg\",\n",
      "            \"magnitude\": 2.0\n",
      "          }\n",
      "        },\n",
      "        \"output\": [\n",
      "          {\n",
      "            \"unit\": \"kilogram\",\n",
      "            \"magnitude\": 4.0\n",
      "          }\n",
      "        ]\n",
      "      }\n",
      "    ]\n",
      "  },\n",
      "  \"sc2\": {\n",
      "    \"name\": \"root\",\n",
      "    \"results\": {\n",
      "      \"co2\": {\n",
      "        \"unit\": \"kg\",\n",
      "        \"magnitude\": 7.5\n",
      "      }\n",
      "    },\n",
      "    \"output\": [\n",
      "      {\n",
      "        \"unit\": \"liter\",\n",
      "        \"magnitude\": 150.0\n",
      "      },\n",
      "      {\n",
      "        \"unit\": \"kilogram\",\n",
      "        \"magnitude\": 4.0\n",
      "      }\n",
      "    ],\n",
      "    \"children\": [\n",
      "      {\n",
      "        \"name\": \"n1\",\n",
      "        \"results\": {\n",
      "          \"co2\": {\n",
      "            \"unit\": \"kg\",\n",
      "            \"magnitude\": 7.5\n",
      "          }\n",
      "        },\n",
      "        \"output\": [\n",
      "          {\n",
      "            \"unit\": \"liter\",\n",
      "            \"magnitude\": 150.0\n",
      "          }\n",
      "        ]\n",
      "      },\n",
      "      {\n",
      "        \"name\": \"n2\",\n",
      "        \"results\": {},\n",
      "        \"output\": [\n",
      "          {\n",
      "            \"unit\": \"kilogram\",\n",
      "            \"magnitude\": 4.0\n",
      "          }\n",
      "        ]\n",
      "      }\n",
      "    ]\n",
      "  }\n",
      "}\n"
     ]
    }
   ],
   "execution_count": 11
  },
  {
   "metadata": {},
   "cell_type": "code",
   "outputs": [],
   "execution_count": null,
   "source": "",
   "id": "2c8ca544ca9f3c7"
  }
 ],
 "metadata": {
  "kernelspec": {
   "display_name": "Python 3",
   "language": "python",
   "name": "python3"
  },
  "language_info": {
   "codemirror_mode": {
    "name": "ipython",
    "version": 2
   },
   "file_extension": ".py",
   "mimetype": "text/x-python",
   "name": "python",
   "nbconvert_exporter": "python",
   "pygments_lexer": "ipython2",
   "version": "2.7.6"
  }
 },
 "nbformat": 4,
 "nbformat_minor": 5
}
