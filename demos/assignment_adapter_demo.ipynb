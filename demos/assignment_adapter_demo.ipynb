{
 "cells": [
  {
   "cell_type": "markdown",
   "source": [
    "# Assignment-Adapter Demo\n",
    "In this we look at another builtin adapter, the Simple Assignment Adapter `enbios/base/adapters_aggregators/builtin/assignment_adapter.py`. This adapter does not any specific calculations. Instead, it allows the user to introduce fixed values, that should come from some external source into the enbios tree calculation. This includes not just the outputs of structural nodes, but in particular their impact results.\n",
    "\n",
    "These values can be either in the experiment configuration file or for convenience in a referenced csv file. The values can be specified in such a way, that scenario outputs and result values have consistent and valid units.\n",
    "\n",
    "In addition, compared to the brightway adapter, this adapter allows to specify _multiple outputs_ for each node, and also nodes that do not specify any output, even tho they have some impacts. \n",
    "\n",
    "The adapters dedicated name is `assignment-adapter` tho for nodes, the indicator `assign` can also be used."
   ],
   "metadata": {
    "collapsed": false
   },
   "id": "1d1809695703fcd6"
  },
  {
   "cell_type": "markdown",
   "source": [
    "We will start with a minimal experiment configuration, that includes one node with a simple assignment "
   ],
   "metadata": {
    "collapsed": false
   },
   "id": "f043930d39f3bcab"
  },
  {
   "cell_type": "code",
   "source": [
    "from enbios import Experiment\n",
    "from enbios.base.adapters_aggregators.builtin.assignment_adapter import AssignmentAdapter\n",
    "\n",
    "# let's keep this node separate, so we can manipulate it easier later\n",
    "simple_assignment_node = {\n",
    "    \"name\": \"simple_node\",\n",
    "    \"adapter\": \"assign\",\n",
    "    # the config of an assign node needs either: default_impacts or scenario_data.impacts\n",
    "    \"config\": {\n",
    "        \"outputs\": [{\"unit\":\"l\"}],\n",
    "        \"default_outputs\": [{\"magnitude\": 4}],\n",
    "        \"default_impacts\": {\"co2\": {\"unit\": \"kg\", \"magnitude\": 10}},\n",
    "    },\n",
    "}\n",
    "\n",
    "experiment_data = {\n",
    "    \"adapters\": [\n",
    "        {\n",
    "            \"adapter_name\": \"assignment-adapter\",\n",
    "            # by default this adapter does no specific config\n",
    "            \"methods\": {\"co2\": \"kg\"},\n",
    "        }\n",
    "    ],\n",
    "    \"hierarchy\": {\n",
    "        \"name\": \"root\",\n",
    "        \"aggregator\": \"sum\",\n",
    "        \"children\": [simple_assignment_node],\n",
    "    },\n",
    "}"
   ],
   "metadata": {
    "collapsed": false,
    "ExecuteTime": {
     "end_time": "2024-04-10T09:30:06.979729Z",
     "start_time": "2024-04-10T09:30:05.385911Z"
    }
   },
   "id": "51882535d23f9aaf",
   "outputs": [],
   "execution_count": 1
  },
  {
   "cell_type": "code",
   "source": [
    "experiment = Experiment(experiment_data)\n",
    "experiment.run()"
   ],
   "metadata": {
    "collapsed": false,
    "ExecuteTime": {
     "end_time": "2024-04-10T09:30:06.995338Z",
     "start_time": "2024-04-10T09:30:06.981077Z"
    }
   },
   "id": "ea56828e7a2bd3b0",
   "outputs": [
    {
     "name": "stdout",
     "output_type": "stream",
     "text": [
      "2024-04-10 11:30:06,989 - ............demos.enbios.base - INFO - Running scenario 'default scenario'\n"
     ]
    },
    {
     "data": {
      "text/plain": [
       "{'default scenario': {'name': 'root',\n",
       "  'results': {'co2': {'unit': 'kg', 'magnitude': 10.0}},\n",
       "  'output': [{'unit': 'liter', 'magnitude': 4.0}],\n",
       "  'children': [{'name': 'simple_node',\n",
       "    'results': {'co2': {'unit': 'kg', 'magnitude': 10.0}},\n",
       "    'output': [{'unit': 'l', 'magnitude': 4.0}]}]}}"
      ]
     },
     "execution_count": 2,
     "metadata": {},
     "output_type": "execute_result"
    }
   ],
   "execution_count": 2
  },
  {
   "metadata": {},
   "cell_type": "markdown",
   "source": [
    "The config of an assign node is structured the following way:\n",
    "These are the fields that can/must be set:\n",
    "```\n",
    "    node_name: a unique string\n",
    "    outputs: a list that specifies the outputs\n",
    "    default_outputs: a list of default-outputs (optional) \n",
    "    default_impacts: a dictionary of default impacts\n",
    "```\n",
    "\n",
    "In detail:\n",
    "\n",
    "\n"
   ],
   "id": "54383fc16a265102"
  },
  {
   "cell_type": "code",
   "source": [
    "experiment_data[\"scenarios\"] = [\n",
    "    {\n",
    "        \"name\": \"scenario1\",\n",
    "        \"nodes\": {\n",
    "            \"simple_node\": {\n",
    "                \"outputs\": [{\"unit\": \"l\", \"magnitude\": 100}],\n",
    "                \"impacts\": {\"co2\": {\"unit\": \"pf\", \"magnitude\": 20}},\n",
    "            }\n",
    "        },\n",
    "    }\n",
    "]\n",
    "\n",
    "experiment = Experiment(experiment_data)\n",
    "experiment.run()"
   ],
   "metadata": {
    "collapsed": false,
    "ExecuteTime": {
     "end_time": "2024-04-09T11:46:47.697596Z",
     "start_time": "2024-04-09T11:46:47.682475Z"
    }
   },
   "id": "cc484ac26682b2c0",
   "outputs": [
    {
     "name": "stdout",
     "output_type": "stream",
     "text": [
      "2024-04-09 13:46:47,692 - ............demos.enbios.base - INFO - Running scenario 'scenario1'\n"
     ]
    },
    {
     "data": {
      "text/plain": [
       "{'scenario1': {'name': 'root',\n",
       "  'results': {'co2': {'unit': 'pf', 'magnitude': 20.0}},\n",
       "  'output': [{'unit': 'liter', 'magnitude': 100.0}],\n",
       "  'children': [{'name': 'simple_node',\n",
       "    'results': {'co2': {'unit': 'pf', 'magnitude': 20.0}},\n",
       "    'output': [{'unit': 'l', 'magnitude': 100.0}]}]}}"
      ]
     },
     "execution_count": 12,
     "metadata": {},
     "output_type": "execute_result"
    }
   ],
   "execution_count": 12
  },
  {
   "cell_type": "code",
   "source": [
    "experiment.adapters[0].nodes"
   ],
   "metadata": {
    "collapsed": false,
    "ExecuteTime": {
     "end_time": "2024-04-09T11:46:48.632012Z",
     "start_time": "2024-04-09T11:46:48.625799Z"
    }
   },
   "id": "8cb3feb5de016847",
   "outputs": [
    {
     "data": {
      "text/plain": [
       "{'simple_node': SimpleAssignmentNodeConfig(node_name='simple_node', outputs=[SimpleAssignmentNodeOutput(unit='l', label=None)], default_outputs=[], default_impacts={'co2': ResultValue(unit='kg', magnitude=10.0, multi_magnitude=[])}, scenario_data={'scenario1': SimpleAssignmentNodeScenarioData(outputs=[NodeOutput(unit='l', magnitude=100.0, label=None)], impacts={'co2': ResultValue(unit='pf', magnitude=20.0, multi_magnitude=[])})})}"
      ]
     },
     "execution_count": 13,
     "metadata": {},
     "output_type": "execute_result"
    }
   ],
   "execution_count": 13
  },
  {
   "metadata": {
    "ExecuteTime": {
     "end_time": "2024-04-09T11:46:49.148106Z",
     "start_time": "2024-04-09T11:46:49.140887Z"
    }
   },
   "cell_type": "code",
   "source": "AssignmentAdapter.get_config_schemas()",
   "id": "a272470829d8fa95",
   "outputs": [
    {
     "data": {
      "text/plain": [
       "{'node_name': {'$defs': {'NodeOutput': {'additionalProperties': False,\n",
       "    'properties': {'unit': {'title': 'Unit', 'type': 'string'},\n",
       "     'magnitude': {'default': 1.0, 'title': 'Magnitude', 'type': 'number'},\n",
       "     'label': {'anyOf': [{'type': 'string'}, {'type': 'null'}],\n",
       "      'default': None,\n",
       "      'title': 'Label'}},\n",
       "    'required': ['unit'],\n",
       "    'title': 'NodeOutput',\n",
       "    'type': 'object'},\n",
       "   'ResultValue': {'additionalProperties': False,\n",
       "    'properties': {'unit': {'title': 'Unit', 'type': 'string'},\n",
       "     'magnitude': {'anyOf': [{'type': 'number'}, {'type': 'null'}],\n",
       "      'default': None,\n",
       "      'title': 'Magnitude'},\n",
       "     'multi_magnitude': {'anyOf': [{'items': {'type': 'number'},\n",
       "        'type': 'array'},\n",
       "       {'type': 'null'}],\n",
       "      'title': 'Multi Magnitude'}},\n",
       "    'required': ['unit'],\n",
       "    'title': 'ResultValue',\n",
       "    'type': 'object'},\n",
       "   'SimpleAssignmentNodeOutput': {'properties': {'unit': {'title': 'Unit',\n",
       "      'type': 'string'},\n",
       "     'label': {'anyOf': [{'type': 'string'}, {'type': 'null'}],\n",
       "      'default': None,\n",
       "      'title': 'Label'}},\n",
       "    'required': ['unit'],\n",
       "    'title': 'SimpleAssignmentNodeOutput',\n",
       "    'type': 'object'},\n",
       "   'SimpleAssignmentNodeScenarioData': {'additionalProperties': False,\n",
       "    'properties': {'outputs': {'items': {'$ref': '#/$defs/NodeOutput'},\n",
       "      'title': 'Outputs',\n",
       "      'type': 'array'},\n",
       "     'impacts': {'additionalProperties': {'$ref': '#/$defs/ResultValue'},\n",
       "      'title': 'Impacts',\n",
       "      'type': 'object'}},\n",
       "    'title': 'SimpleAssignmentNodeScenarioData',\n",
       "    'type': 'object'}},\n",
       "  'additionalProperties': False,\n",
       "  'properties': {'node_name': {'title': 'Node Name', 'type': 'string'},\n",
       "   'outputs': {'items': {'$ref': '#/$defs/SimpleAssignmentNodeOutput'},\n",
       "    'title': 'Outputs',\n",
       "    'type': 'array'},\n",
       "   'default_outputs': {'items': {'$ref': '#/$defs/NodeOutput'},\n",
       "    'title': 'Default Outputs',\n",
       "    'type': 'array'},\n",
       "   'default_impacts': {'additionalProperties': {'$ref': '#/$defs/ResultValue'},\n",
       "    'title': 'Default Impacts',\n",
       "    'type': 'object'},\n",
       "   'scenario_data': {'additionalProperties': {'$ref': '#/$defs/SimpleAssignmentNodeScenarioData'},\n",
       "    'title': 'Scenario Data',\n",
       "    'type': 'object'}},\n",
       "  'required': ['node_name', 'outputs'],\n",
       "  'title': 'SimpleAssignmentNodeConfig',\n",
       "  'type': 'object'}}"
      ]
     },
     "execution_count": 14,
     "metadata": {},
     "output_type": "execute_result"
    }
   ],
   "execution_count": 14
  },
  {
   "metadata": {},
   "cell_type": "code",
   "outputs": [],
   "execution_count": null,
   "source": "",
   "id": "83d20560c303cb3"
  }
 ],
 "metadata": {
  "kernelspec": {
   "display_name": "Python 3",
   "language": "python",
   "name": "python3"
  },
  "language_info": {
   "codemirror_mode": {
    "name": "ipython",
    "version": 2
   },
   "file_extension": ".py",
   "mimetype": "text/x-python",
   "name": "python",
   "nbconvert_exporter": "python",
   "pygments_lexer": "ipython2",
   "version": "2.7.6"
  }
 },
 "nbformat": 4,
 "nbformat_minor": 5
}
