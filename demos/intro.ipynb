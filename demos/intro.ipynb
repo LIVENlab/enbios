{
 "cells": [
  {
   "cell_type": "code",
   "source": [
    "from copy import deepcopy\n",
    "from pathlib import Path\n",
    "\n",
    "import bw2data\n",
    "import pandas as pd\n",
    "\n",
    "from enbios import Experiment, report\n",
    "from enbios.base.models import ExperimentData"
   ],
   "metadata": {
    "collapsed": false,
    "ExecuteTime": {
     "end_time": "2024-05-17T11:12:11.523581Z",
     "start_time": "2024-05-17T11:12:11.520849Z"
    }
   },
   "execution_count": 28,
   "outputs": []
  },
  {
   "cell_type": "markdown",
   "source": [
    "In this demo, we demonstrate the basic working of Enbios. There are 4 main parts to this introduction. The first three parts, incrementally extend the experiment, while the 4. part displays some useful functionalities, that helps to understand how to configure enbios.\n",
    "\n",
    "For this introduction, we are going to use Brightway to do LCA calculations of ecoinvent (v.3.9.1) activities, that are at the bottom of the MuSIASEM hierarchy, so one should have a brigthway project, with some the ecoinvent dataset created before starting.\n",
    "\n",
    "In the first step, we get some brighway activities are construct the enbios configuration step by step."
   ],
   "metadata": {
    "collapsed": false
   }
  },
  {
   "cell_type": "code",
   "metadata": {
    "ExecuteTime": {
     "end_time": "2024-05-17T11:12:12.329603Z",
     "start_time": "2024-05-17T11:12:12.235604Z"
    }
   },
   "source": [
    "# get an overview of brightway projects and databases\n",
    "report()"
   ],
   "execution_count": 29,
   "outputs": []
  },
  {
   "cell_type": "code",
   "metadata": {
    "ExecuteTime": {
     "end_time": "2024-05-17T11:12:13.028669Z",
     "start_time": "2024-05-17T11:12:13.013715Z"
    }
   },
   "source": [
    "# select the brightway project and database (e.g. some ecoinvent database)\n",
    "PROJECT_NAME = \"ecoinvent_391\"\n",
    "DATABASE = \"ecoinvent_391_cutoff\"\n",
    "\n",
    "bw2data.projects.set_current(PROJECT_NAME)\n",
    "db = bw2data.Database(DATABASE)"
   ],
   "execution_count": 30,
   "outputs": []
  },
  {
   "cell_type": "markdown",
   "metadata": {},
   "source": [
    "# Simple example experiment\n",
    "Let's get 2 wind turbines from Spain"
   ]
  },
  {
   "cell_type": "code",
   "metadata": {
    "ExecuteTime": {
     "end_time": "2024-05-17T11:12:14.358343Z",
     "start_time": "2024-05-17T11:12:14.133329Z"
    }
   },
   "source": [
    "wind_turbines_spain = db.search(\n",
    "    \"electricity production, wind, 1-3MW turbine, onshore\", filter={\"location\": \"ES\"}\n",
    ")[:2]\n",
    "wind_turbines_spain"
   ],
   "execution_count": 31,
   "outputs": []
  },
  {
   "cell_type": "code",
   "metadata": {
    "ExecuteTime": {
     "end_time": "2024-05-17T11:12:14.592590Z",
     "start_time": "2024-05-17T11:12:14.589492Z"
    }
   },
   "source": [
    "# Now we use those, to define 2 leaf-nodes in our hierarchy.\n",
    "experiment_nodes = []\n",
    "\n",
    "for activity in wind_turbines_spain:\n",
    "    experiment_nodes.append(\n",
    "        {\n",
    "            \"name\": activity[\"name\"],\n",
    "            \"adapter\": \"brightway-adapter\",\n",
    "            \"config\": {\"code\": activity[\"code\"]},\n",
    "        }\n",
    "    )"
   ],
   "execution_count": 32,
   "outputs": []
  },
  {
   "cell_type": "code",
   "metadata": {
    "ExecuteTime": {
     "end_time": "2024-05-17T11:12:15.161676Z",
     "start_time": "2024-05-17T11:12:15.158016Z"
    }
   },
   "source": [
    "# we can modify the output of the activities, by default it is the reference product (1 of the activity unit)\n",
    "experiment_nodes[0][\"config\"][\"default_output\"] = {\n",
    "    \"unit\": \"kilowatt_hour\",\n",
    "    \"magnitude\": 3,\n",
    "}\n",
    "experiment_nodes"
   ],
   "execution_count": 33,
   "outputs": []
  },
  {
   "cell_type": "code",
   "source": [
    "hierarchy = {\n",
    "    \"name\": \"root\",\n",
    "    \"aggregator\": \"sum-aggregator\",\n",
    "    \"children\": experiment_nodes,\n",
    "}"
   ],
   "metadata": {
    "collapsed": false,
    "ExecuteTime": {
     "end_time": "2024-05-17T11:12:15.589822Z",
     "start_time": "2024-05-17T11:12:15.586388Z"
    }
   },
   "execution_count": 34,
   "outputs": []
  },
  {
   "cell_type": "code",
   "metadata": {
    "ExecuteTime": {
     "end_time": "2024-05-17T11:12:16.044461Z",
     "start_time": "2024-05-17T11:12:16.040684Z"
    }
   },
   "source": [
    "# select 2 random methods and convert them into the form for enbios2\n",
    "experiment_methods = [bw2data.methods.random() for _ in range(2)]\n",
    "\n",
    "experiment_methods = {m[-1]: m for m in experiment_methods}\n",
    "experiment_methods"
   ],
   "execution_count": 35,
   "outputs": []
  },
  {
   "metadata": {
    "ExecuteTime": {
     "end_time": "2024-05-17T11:12:16.609024Z",
     "start_time": "2024-05-17T11:12:16.603501Z"
    }
   },
   "cell_type": "code",
   "source": [
    "# todo, demo on how to select certain methods\n",
    "bw2data.methods"
   ],
   "execution_count": 36,
   "outputs": []
  },
  {
   "cell_type": "code",
   "source": [
    "# alternatively, we could just specify two methods\n",
    "experiment_methods = {\n",
    "    \"GWP1000\": (\n",
    "        \"ReCiPe 2016 v1.03, midpoint (H)\",\n",
    "        \"climate change\",\n",
    "        \"global warming potential (GWP1000)\",\n",
    "    ),\n",
    "    \"LOP\": (\n",
    "        \"ReCiPe 2016 v1.03, midpoint (E)\",\n",
    "        \"land use\",\n",
    "        \"agricultural land occupation (LOP)\",\n",
    "    ),\n",
    "    \"WCP\": (\n",
    "        \"ReCiPe 2016 v1.03, midpoint (E)\",\n",
    "        \"water use\",\n",
    "        \"water consumption potential (WCP)\",\n",
    "    ),\n",
    "}"
   ],
   "metadata": {
    "collapsed": false,
    "ExecuteTime": {
     "end_time": "2024-05-17T11:12:17.109605Z",
     "start_time": "2024-05-17T11:12:17.105497Z"
    }
   },
   "execution_count": 37,
   "outputs": []
  },
  {
   "cell_type": "code",
   "metadata": {
    "ExecuteTime": {
     "end_time": "2024-05-17T11:12:17.646243Z",
     "start_time": "2024-05-17T11:12:17.641408Z"
    }
   },
   "source": [
    "# let's store the raw data, because we want to modify it later\n",
    "simple_raw_data = {\n",
    "    \"adapters\": [\n",
    "        {\n",
    "            \"adapter_name\": \"brightway-adapter\",\n",
    "            \"config\": {\"bw_project\": PROJECT_NAME},\n",
    "            \"methods\": experiment_methods,\n",
    "        }\n",
    "    ],\n",
    "    \"hierarchy\": hierarchy,\n",
    "}\n",
    "\n",
    "# make a first validation of the experiment data\n",
    "exp_data = ExperimentData(**simple_raw_data)\n",
    "exp_data.model_dump(exclude_unset=True)"
   ],
   "execution_count": 38,
   "outputs": []
  },
  {
   "cell_type": "code",
   "metadata": {
    "ExecuteTime": {
     "end_time": "2024-05-17T11:12:19.366240Z",
     "start_time": "2024-05-17T11:12:18.184021Z"
    }
   },
   "source": [
    "# create experiment object. This will validate the activities, their outputs, the methods and the scenarios.\n",
    "simple_experiment: Experiment = Experiment(simple_raw_data)"
   ],
   "execution_count": 39,
   "outputs": []
  },
  {
   "cell_type": "code",
   "metadata": {
    "ExecuteTime": {
     "end_time": "2024-05-17T11:12:19.370008Z",
     "start_time": "2024-05-17T11:12:19.367514Z"
    }
   },
   "source": [
    "print(simple_experiment.info())"
   ],
   "execution_count": 40,
   "outputs": []
  },
  {
   "cell_type": "markdown",
   "metadata": {},
   "source": [
    "## Running the experiment"
   ]
  },
  {
   "cell_type": "code",
   "metadata": {
    "ExecuteTime": {
     "end_time": "2024-05-17T11:12:51.338541Z",
     "start_time": "2024-05-17T11:12:19.792341Z"
    }
   },
   "source": [
    "# run all scenarios at once, Results will be returned as dictionary\n",
    "# <scenario_name : str> : <scenario_result : dict>\n",
    "# <scenario_result> : dict represents the root node of the results tree, with the following keys:\n",
    "# name, output, results, children\n",
    "# where results, is a dictionary of impacts to dict: unit, magnitude | multi_magnitude\n",
    "# The first and only positional parameter 'results_as_dict' can be set to False, to get the tree unserialized as :  BasicTreeNode[ScenarioResultNodeData]\n",
    "results = simple_experiment.run()"
   ],
   "execution_count": 41,
   "outputs": []
  },
  {
   "cell_type": "markdown",
   "metadata": {},
   "source": [
    "# Result\n",
    "The result is a dictionary of scenario names, where for each scenario we have a tree (representing the activity hierarchy). Each node (`BasicTreeNode`) in the tree has a `data` object, which is of the type `ScenarioResultNodeData`, which have the fields `output`, `result`."
   ]
  },
  {
   "cell_type": "code",
   "metadata": {
    "ExecuteTime": {
     "end_time": "2024-05-17T11:12:51.354774Z",
     "start_time": "2024-05-17T11:12:51.341831Z"
    }
   },
   "source": "results",
   "execution_count": 42,
   "outputs": []
  },
  {
   "cell_type": "code",
   "metadata": {
    "ExecuteTime": {
     "end_time": "2024-05-17T11:12:51.389706Z",
     "start_time": "2024-05-17T11:12:51.356980Z"
    }
   },
   "source": [
    "# we can dump the results into a csv file\n",
    "simple_experiment.results_to_csv(\"test.csv\")\n",
    "pd.read_csv(\"test.csv\").fillna(\"\")"
   ],
   "execution_count": 43,
   "outputs": []
  },
  {
   "cell_type": "code",
   "metadata": {
    "ExecuteTime": {
     "end_time": "2024-05-17T11:12:51.398987Z",
     "start_time": "2024-05-17T11:12:51.393239Z"
    }
   },
   "source": [
    "simple_experiment.scenarios[0].result_to_dict()"
   ],
   "execution_count": 44,
   "outputs": []
  },
  {
   "cell_type": "markdown",
   "metadata": {},
   "source": [
    "## Add a technology hierarchy (dendrogram) \n",
    "Let's now add a few more activities to the experiment and create a hierarchy of activities."
   ]
  },
  {
   "cell_type": "code",
   "metadata": {
    "ExecuteTime": {
     "end_time": "2024-05-17T11:12:51.498845Z",
     "start_time": "2024-05-17T11:12:51.400073Z"
    }
   },
   "source": [
    "solar_spain = db.search(\"solar\", filter={\"location\": \"ES\"})[:2]\n",
    "solar_spain"
   ],
   "execution_count": 45,
   "outputs": []
  },
  {
   "cell_type": "code",
   "source": [
    "experiment_nodes_solar = []\n",
    "for activity in solar_spain:\n",
    "    experiment_nodes_solar.append(\n",
    "        {\"name\": activity[\"name\"], \"adapter\": \"bw\", \"config\": {\"code\": activity[\"code\"]}}\n",
    "    )\n",
    "\n",
    "hierarchy_raw_data = deepcopy(simple_raw_data)\n",
    "\n",
    "hierarchy_raw_data[\"hierarchy\"] = {\n",
    "    \"name\": \"root\",\n",
    "    \"aggregator\": \"sum\",\n",
    "    \"children\": [\n",
    "        {\"name\": \"wind\", \"aggregator\": \"sum\", \"children\": experiment_nodes},\n",
    "        {\"name\": \"solar\", \"aggregator\": \"sum\", \"children\": experiment_nodes_solar},\n",
    "    ],\n",
    "}"
   ],
   "metadata": {
    "collapsed": false,
    "ExecuteTime": {
     "end_time": "2024-05-17T11:12:51.503687Z",
     "start_time": "2024-05-17T11:12:51.499863Z"
    }
   },
   "execution_count": 46,
   "outputs": []
  },
  {
   "metadata": {
    "ExecuteTime": {
     "end_time": "2024-05-17T11:12:51.512827Z",
     "start_time": "2024-05-17T11:12:51.504831Z"
    }
   },
   "cell_type": "code",
   "source": "hierarchy_raw_data",
   "execution_count": 47,
   "outputs": []
  },
  {
   "cell_type": "code",
   "metadata": {
    "ExecuteTime": {
     "end_time": "2024-05-17T11:12:52.635475Z",
     "start_time": "2024-05-17T11:12:51.513847Z"
    }
   },
   "source": [
    "hierarchy_experiment: Experiment = Experiment(hierarchy_raw_data)"
   ],
   "execution_count": 48,
   "outputs": []
  },
  {
   "cell_type": "markdown",
   "source": [
    "# Run the 2nd experiment"
   ],
   "metadata": {
    "collapsed": false
   }
  },
  {
   "cell_type": "code",
   "metadata": {
    "ExecuteTime": {
     "end_time": "2024-05-17T11:13:39.423431Z",
     "start_time": "2024-05-17T11:12:52.636518Z"
    }
   },
   "source": [
    "hierarchy_experiment.run()"
   ],
   "execution_count": 49,
   "outputs": []
  },
  {
   "metadata": {
    "ExecuteTime": {
     "end_time": "2024-05-17T11:13:39.444634Z",
     "start_time": "2024-05-17T11:13:39.433853Z"
    }
   },
   "cell_type": "code",
   "source": [
    "# optional storing, to use it in other notebooks\n",
    "import pickle\n",
    "\n",
    "pickle.dump(hierarchy_experiment, open(\"exp.pickle\", \"bw\"))"
   ],
   "execution_count": 50,
   "outputs": []
  },
  {
   "cell_type": "code",
   "metadata": {
    "ExecuteTime": {
     "end_time": "2024-05-17T11:13:39.474801Z",
     "start_time": "2024-05-17T11:13:39.449326Z"
    }
   },
   "source": [
    "# print(json.dumps((exp.scenarios[0].result_to_dict()), indent=2))\n",
    "hierarchy_experiment.scenarios[0].result_to_csv(\n",
    "    \"test.csv\", level_names=[\"root\", \"technology\", \"activity\"]\n",
    ")\n",
    "pd.read_csv(\"test.csv\").fillna(\"\")"
   ],
   "execution_count": 51,
   "outputs": []
  },
  {
   "cell_type": "markdown",
   "source": [
    "## Create several scenarios"
   ],
   "metadata": {
    "collapsed": false
   }
  },
  {
   "cell_type": "code",
   "source": [
    "from typing import Optional\n",
    "from random import randint\n",
    "\n",
    "\n",
    "def create_normal_scenario():\n",
    "    return {\n",
    "        \"name\": \"normal scenario\",\n",
    "        \"nodes\": {\n",
    "            act: (\"kilowatt_hour\", 1)\n",
    "            for act in hierarchy_experiment.structural_nodes_names\n",
    "        },\n",
    "    }\n",
    "\n",
    "\n",
    "def create_random_scenario(scneario_name: Optional[str] = None):\n",
    "    return {\n",
    "        \"name\": scneario_name,\n",
    "        \"nodes\": {\n",
    "            act: (\"kilowatt_hour\", randint(1, 10))\n",
    "            for act in hierarchy_experiment.structural_nodes_names\n",
    "        },\n",
    "    }\n",
    "\n",
    "\n",
    "scenarios_raw_data = deepcopy(hierarchy_raw_data)\n",
    "scenarios_raw_data[\"scenarios\"] = [\n",
    "    create_normal_scenario(),\n",
    "    create_random_scenario(),\n",
    "    create_random_scenario(),\n",
    "]\n",
    "\n",
    "scenarios_raw_data[\"scenarios\"][0]"
   ],
   "metadata": {
    "collapsed": false,
    "ExecuteTime": {
     "end_time": "2024-05-17T11:13:39.486376Z",
     "start_time": "2024-05-17T11:13:39.476331Z"
    }
   },
   "execution_count": 52,
   "outputs": []
  },
  {
   "cell_type": "code",
   "source": [
    "scenarios_raw_data"
   ],
   "metadata": {
    "collapsed": false,
    "ExecuteTime": {
     "end_time": "2024-05-17T11:13:39.499710Z",
     "start_time": "2024-05-17T11:13:39.487862Z"
    }
   },
   "execution_count": 53,
   "outputs": []
  },
  {
   "cell_type": "code",
   "source": [
    "scenarios_experiment = Experiment(scenarios_raw_data)"
   ],
   "metadata": {
    "collapsed": false,
    "ExecuteTime": {
     "end_time": "2024-05-17T11:13:41.291170Z",
     "start_time": "2024-05-17T11:13:39.501323Z"
    }
   },
   "execution_count": 54,
   "outputs": []
  },
  {
   "cell_type": "markdown",
   "source": [
    " ## Run the experiment for the 3rd time\n",
    "This time will likely take some more time since we need to run 2 scenarios. "
   ],
   "metadata": {
    "collapsed": false
   }
  },
  {
   "cell_type": "code",
   "source": [
    "_ = scenarios_experiment.run()\n",
    "# don't print the whole result"
   ],
   "metadata": {
    "collapsed": false,
    "ExecuteTime": {
     "end_time": "2024-05-17T11:15:59.820408Z",
     "start_time": "2024-05-17T11:13:41.292428Z"
    }
   },
   "execution_count": 55,
   "outputs": []
  },
  {
   "cell_type": "code",
   "source": [
    "scenarios_experiment.scenarios[0].results_to_csv(\n",
    "    \"s1.csv\", level_names=[\"root\", \"technology\", \"activity\"]\n",
    ")\n",
    "pd.read_csv(\"s1.csv\").fillna(\"\")\n",
    "Path(\"s1.csv\").unlink()  # delete the file again"
   ],
   "metadata": {
    "collapsed": false,
    "ExecuteTime": {
     "end_time": "2024-05-17T11:15:59.981306Z",
     "start_time": "2024-05-17T11:15:59.824279Z"
    }
   },
   "execution_count": 56,
   "outputs": []
  },
  {
   "cell_type": "markdown",
   "source": [
    "We can also now run any new scenario configuration for the given experiment using `run_scenario_config`"
   ],
   "metadata": {
    "collapsed": false
   }
  },
  {
   "cell_type": "code",
   "source": [
    "new_random_scenario = create_random_scenario()\n",
    "new_random_scenario[\"name\"] = \"new scenario\"\n",
    "new_results = scenarios_experiment.run_scenario_config(new_random_scenario)"
   ],
   "metadata": {
    "collapsed": false
   },
   "execution_count": null,
   "outputs": []
  },
  {
   "cell_type": "markdown",
   "source": [
    "## Inspecting the results\n",
    "\n",
    "We can now do some transformations of the results. For that is useful to know how to retrieve is singular result from a scenario result. \n",
    "The result of a scenario is a tree structure, where the nodes `name`s are activity aliases or names defined in the hierarchy. With the function of BasicTreeNode.find_child_by_name we can directly access the result of a node.    \n",
    "\n",
    "Following we transform the results into a dictionary of the following structure:\n",
    "```json\n",
    "{\n",
    "    \"node\": {\n",
    "        \"method\": \"[list of results for each scenario]\"\n",
    "    }\n",
    "}\n",
    "```"
   ],
   "metadata": {
    "collapsed": false
   }
  },
  {
   "cell_type": "code",
   "source": [
    "all_results = {}\n",
    "for node in scenarios_experiment.structural_nodes_names:\n",
    "    all_results[node] = {method: [] for method in scenarios_experiment.method_names}\n",
    "    for scenario in scenarios_experiment.scenarios:\n",
    "        activity_result = scenario.result_tree.find_subnode_by_name(node)\n",
    "        for method, score in activity_result.data.results.items():\n",
    "            all_results[node][method].append(score.model_dump(exclude_defaults=True))\n",
    "\n",
    "all_results"
   ],
   "metadata": {
    "collapsed": false
   },
   "execution_count": null,
   "outputs": []
  }
 ],
 "metadata": {
  "kernelspec": {
   "display_name": "Python 3 (ipykernel)",
   "language": "python",
   "name": "python3"
  },
  "language_info": {
   "codemirror_mode": {
    "name": "ipython",
    "version": 3
   },
   "file_extension": ".py",
   "mimetype": "text/x-python",
   "name": "python",
   "nbconvert_exporter": "python",
   "pygments_lexer": "ipython3",
   "version": "3.11.4"
  }
 },
 "nbformat": 4,
 "nbformat_minor": 1
}
