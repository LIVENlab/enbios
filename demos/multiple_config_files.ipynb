{
 "cells": [
  {
   "cell_type": "code",
   "execution_count": 1,
   "id": "initial_id",
   "metadata": {
    "collapsed": true,
    "ExecuteTime": {
     "end_time": "2024-02-14T10:45:35.536210596Z",
     "start_time": "2024-02-14T10:45:24.265332246Z"
    }
   },
   "outputs": [],
   "source": [
    "from pathlib import Path\n",
    "\n",
    "from enbios.base.experiment import Experiment\n",
    "from enbios.bw2.util import report"
   ]
  },
  {
   "cell_type": "code",
   "outputs": [
    {
     "name": "stdout",
     "output_type": "stream",
     "text": [
      "Project: default\n",
      "[]\n",
      "Project: ecoinvent_391\n",
      "['biosphere3', 'ecoinvent_391_cutoff']\n",
      "Project: Spain case study\n",
      "['biosphere', 'food']\n",
      "Project: supply chain graph\n",
      "['bike']\n",
      "Project: matrix-test\n",
      "['db']\n",
      "Project: nonlinear-method-test\n",
      "['db']\n",
      "Project: ecoinvent_391_apos\n",
      "['biosphere3', 'ecoinvent_391_apos']\n",
      "Project: 1\n",
      "[]\n",
      "Project: ecoinvent_391_consequential\n",
      "['biosphere3', 'ecoinvent_391_consequential']\n",
      "Project: super_simple_builder_test\n",
      "['db']\n",
      "Project: builder_test\n",
      "['db']\n",
      "Project: ppp\n",
      "['db']\n",
      "Project: \n",
      "[]\n"
     ]
    }
   ],
   "source": [
    "report()"
   ],
   "metadata": {
    "collapsed": false,
    "ExecuteTime": {
     "end_time": "2024-02-14T10:45:35.906849474Z",
     "start_time": "2024-02-14T10:45:35.499392971Z"
    }
   },
   "id": "ff48a157fd952cc7",
   "execution_count": 2
  },
  {
   "cell_type": "code",
   "outputs": [],
   "source": [
    "base_experiment_data = {\n",
    "    \"adapters\": [\n",
    "        {\n",
    "            \"adapter_name\": \"brightway-adapter\",\n",
    "            \"config\": {\"bw_project\": \"ecoinvent_391\"},\n",
    "            \"methods\": {\n",
    "                \"GWP1000\": [\n",
    "                    \"ReCiPe 2016 v1.03, midpoint (H)\",\n",
    "                    \"climate change\",\n",
    "                    \"global warming potential (GWP1000)\",\n",
    "                ],\n",
    "                \"FETP\": [\n",
    "                    \"ReCiPe 2016 v1.03, midpoint (H)\",\n",
    "                    \"ecotoxicity: freshwater\",\n",
    "                    \"freshwater ecotoxicity potential (FETP)\",\n",
    "                ],\n",
    "            },\n",
    "        }\n",
    "    ]\n",
    "}"
   ],
   "metadata": {
    "collapsed": false,
    "ExecuteTime": {
     "end_time": "2024-02-14T10:45:35.972045155Z",
     "start_time": "2024-02-14T10:45:35.768192192Z"
    }
   },
   "id": "23fb01e4a272fd72",
   "execution_count": 3
  },
  {
   "cell_type": "code",
   "outputs": [],
   "source": [
    "from enbios.const import BASE_TEST_DATA_PATH\n",
    "\n",
    "PROJECT_NAME = \"ecoinvent_391\"\n",
    "\n",
    "BASE_PATH = Path(BASE_TEST_DATA_PATH / \"experiment_separated/a\")"
   ],
   "metadata": {
    "collapsed": false,
    "ExecuteTime": {
     "end_time": "2024-01-19T09:55:30.027108106Z",
     "start_time": "2024-01-19T09:55:30.001954360Z"
    }
   },
   "id": "c63a84a1b1eb812a",
   "execution_count": 4
  },
  {
   "cell_type": "code",
   "execution_count": 5,
   "outputs": [
    {
     "data": {
      "text/plain": "Experiment: (call info() for details)\nActivities: 4\nMethods: 2\nHierarchy (depth): 3\nScenarios: 3"
     },
     "execution_count": 5,
     "metadata": {},
     "output_type": "execute_result"
    }
   ],
   "source": [
    "experiment_data = base_experiment_data | {\n",
    "    \"hierarchy\": (BASE_PATH / \"hierarchy.json\").as_posix(),\n",
    "    \"scenarios\": (BASE_PATH / \"scenarios.json\").as_posix(),\n",
    "}\n",
    "experiment = Experiment(experiment_data)\n",
    "experiment"
   ],
   "metadata": {
    "collapsed": false,
    "ExecuteTime": {
     "end_time": "2024-01-19T09:55:30.245296704Z",
     "start_time": "2024-01-19T09:55:30.015753292Z"
    }
   },
   "id": "c4323efc61aaa7fe"
  },
  {
   "cell_type": "code",
   "outputs": [],
   "source": [
    "experiment.run()"
   ],
   "metadata": {
    "collapsed": false
   },
   "id": "9d002a5166add9c6",
   "execution_count": null
  }
 ],
 "metadata": {
  "kernelspec": {
   "display_name": "Python 3",
   "language": "python",
   "name": "python3"
  },
  "language_info": {
   "codemirror_mode": {
    "name": "ipython",
    "version": 2
   },
   "file_extension": ".py",
   "mimetype": "text/x-python",
   "name": "python",
   "nbconvert_exporter": "python",
   "pygments_lexer": "ipython2",
   "version": "2.7.6"
  }
 },
 "nbformat": 4,
 "nbformat_minor": 5
}
