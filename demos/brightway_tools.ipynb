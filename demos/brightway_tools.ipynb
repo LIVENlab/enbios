{
 "cells": [
  {
   "cell_type": "code",
   "source": [
    "from enbios.bw2.util import report\n",
    "\n",
    "report()"
   ],
   "metadata": {
    "collapsed": false,
    "ExecuteTime": {
     "end_time": "2024-06-19T10:01:49.352846Z",
     "start_time": "2024-06-19T10:01:47.351752Z"
    }
   },
   "id": "f49bd0a71458be5c",
   "outputs": [
    {
     "name": "stdout",
     "output_type": "stream",
     "text": [
      "Project: default\n",
      "[]\n",
      "Project: ecoinvent_391\n",
      "['biosphere3', 'ecoinvent_391_cutoff']\n",
      "Project: Spain case study\n",
      "['biosphere', 'food']\n",
      "Project: supply chain graph\n",
      "['bike']\n",
      "Project: matrix-test\n",
      "['db']\n",
      "Project: nonlinear-method-test\n",
      "['db']\n",
      "Project: ecoinvent_391_apos\n",
      "['biosphere3', 'ecoinvent_391_apos']\n",
      "Project: 1\n",
      "[]\n",
      "Project: ecoinvent_391_consequential\n",
      "['biosphere3', 'ecoinvent_391_consequential']\n",
      "Project: builder_test\n",
      "['db']\n",
      "Project: ppp\n",
      "['db']\n",
      "Project: \n",
      "[]\n",
      "Project: seed_import\n",
      "['biosphere3', 'ecoi39co', 'batteries', 'PV', 'cobalt']\n",
      "Project: bw_temporalis example\n",
      "['example']\n",
      "Project: lci-model\n",
      "[]\n",
      "Project: test-del\n",
      "['db']\n",
      "Project: lci_model\n",
      "['biosphere3', 'cutoff391', 'new_db']\n",
      "Project: LIVENreg_ei_391_con\n",
      "['biosphere3', 'ei391cutoff']\n",
      "Project: test-project_a197ca0f-a234-471f-8975-33ed9edd6f6a\n",
      "['test-db']\n",
      "Project: test-project_831f7103-69f1-430d-b2f9-3a5fe8faafb4\n",
      "['test-db']\n",
      "Project: test-project_00914747-8f0c-4fa3-94cb-b5e54ba2529e\n",
      "['test-db', 'test-db2']\n",
      "Project: test-project_369da44c-031b-4f02-8cd7-7962b4efb84e\n",
      "['test-db', 'test-db2']\n",
      "Project: super_simple_builder_test\n",
      "['db']\n"
     ]
    }
   ],
   "execution_count": 1
  },
  {
   "cell_type": "code",
   "source": [
    "from bw_tools.setup_project import safe_setup_ecoinvent\n",
    "\n",
    "# this will read the ecoinvent dataset from the specified location and create a new project (name='project_name')\n",
    "# with data dataset imported and stored to 'db_name'\n",
    "\n",
    "safe_setup_ecoinvent(\n",
    "    project_name=\"my_new_ecoinvent_project\",\n",
    "    ecoinvent_db_path=\"/home/ra/projects/enbios/data/ecoinvent/ecoinvent 3.9.1_cutoff_ecoSpold02/datasets\",\n",
    "    db_name=\"Ecoinvent_391_cutoff\",\n",
    "    delete_project=False,\n",
    "    delete_if_unlinked=True,\n",
    ")"
   ],
   "metadata": {
    "collapsed": false,
    "ExecuteTime": {
     "end_time": "2024-06-19T10:09:53.869708Z",
     "start_time": "2024-06-19T10:03:07.150680Z"
    }
   },
   "id": "ad7e06708409ee55",
   "outputs": [
    {
     "name": "stdout",
     "output_type": "stream",
     "text": [
      "Creating default biosphere\n",
      "\n",
      "Applying strategy: normalize_units\n",
      "Applying strategy: drop_unspecified_subcategories\n",
      "Applying strategy: ensure_categories_are_tuples\n",
      "Applied 3 strategies in 0.00 seconds\n"
     ]
    },
    {
     "name": "stderr",
     "output_type": "stream",
     "text": [
      "100%|██████████| 4709/4709 [00:00<00:00, 28143.67it/s]\n"
     ]
    },
    {
     "name": "stdout",
     "output_type": "stream",
     "text": [
      "Vacuuming database \n",
      "Created database: biosphere3\n",
      "Creating default LCIA methods\n",
      "\n",
      "Wrote 762 LCIA methods with 227223 characterization factors\n",
      "Creating core data migrations\n",
      "\n",
      "Extracting XML data from 21238 datasets\n",
      "Extracted 21238 datasets in 50.11 seconds\n",
      "Applying strategy: normalize_units\n",
      "Applying strategy: update_ecoinvent_locations\n",
      "Applying strategy: remove_zero_amount_coproducts\n",
      "Applying strategy: remove_zero_amount_inputs_with_no_activity\n",
      "Applying strategy: remove_unnamed_parameters\n",
      "Applying strategy: es2_assign_only_product_with_amount_as_reference_product\n",
      "Applying strategy: assign_single_product_as_activity\n",
      "Applying strategy: create_composite_code\n",
      "Applying strategy: drop_unspecified_subcategories\n",
      "Applying strategy: fix_ecoinvent_flows_pre35\n",
      "Applying strategy: drop_temporary_outdated_biosphere_flows\n",
      "Applying strategy: link_biosphere_by_flow_uuid\n",
      "Applying strategy: link_internal_technosphere_by_composite_code\n",
      "Applying strategy: delete_exchanges_missing_activity\n",
      "Applying strategy: delete_ghost_exchanges\n",
      "Applying strategy: remove_uncertainty_from_negative_loss_exchanges\n",
      "Applying strategy: fix_unreasonably_high_lognormal_uncertainties\n",
      "Applying strategy: convert_activity_parameters_to_list\n",
      "Applying strategy: add_cpc_classification_from_single_reference_product\n",
      "Applying strategy: delete_none_synonyms\n",
      "Applying strategy: update_social_flows_in_older_consequential\n",
      "Applying strategy: set_lognormal_loc_value\n",
      "Applied 22 strategies in 6.65 seconds\n",
      "21238 datasets\n",
      "674593 exchanges\n",
      "0 unlinked exchanges\n",
      "  \n",
      "Not able to determine geocollections for all datasets. This database is not ready for regionalization.\n"
     ]
    },
    {
     "name": "stderr",
     "output_type": "stream",
     "text": [
      "100%|██████████| 21238/21238 [00:33<00:00, 625.19it/s]\n"
     ]
    },
    {
     "name": "stdout",
     "output_type": "stream",
     "text": [
      "Vacuuming database \n",
      "Created database: Ecoinvent_391_cutoff\n"
     ]
    }
   ],
   "execution_count": 4
  },
  {
   "cell_type": "code",
   "source": [
    "from enbios.bw2.util import delete_all_projects\n",
    "\n",
    "# delete_all_projects()"
   ],
   "metadata": {
    "collapsed": false
   },
   "id": "dfca96575477f3a8",
   "execution_count": null,
   "outputs": []
  },
  {
   "metadata": {
    "ExecuteTime": {
     "end_time": "2024-06-19T10:09:54.026286Z",
     "start_time": "2024-06-19T10:09:53.872364Z"
    }
   },
   "cell_type": "code",
   "source": [
    "\n",
    "report()"
   ],
   "id": "50803dc01dfdfaa4",
   "outputs": [
    {
     "name": "stdout",
     "output_type": "stream",
     "text": [
      "Project: default\n",
      "[]\n",
      "Project: ecoinvent_391\n",
      "['biosphere3', 'ecoinvent_391_cutoff']\n",
      "Project: Spain case study\n",
      "['biosphere', 'food']\n",
      "Project: supply chain graph\n",
      "['bike']\n",
      "Project: matrix-test\n",
      "['db']\n",
      "Project: nonlinear-method-test\n",
      "['db']\n",
      "Project: ecoinvent_391_apos\n",
      "['biosphere3', 'ecoinvent_391_apos']\n",
      "Project: 1\n",
      "[]\n",
      "Project: ecoinvent_391_consequential\n",
      "['biosphere3', 'ecoinvent_391_consequential']\n",
      "Project: builder_test\n",
      "['db']\n",
      "Project: ppp\n",
      "['db']\n",
      "Project: \n",
      "[]\n",
      "Project: seed_import\n",
      "['biosphere3', 'ecoi39co', 'batteries', 'PV', 'cobalt']\n",
      "Project: bw_temporalis example\n",
      "['example']\n",
      "Project: lci-model\n",
      "[]\n",
      "Project: test-del\n",
      "['db']\n",
      "Project: lci_model\n",
      "['biosphere3', 'cutoff391', 'new_db']\n",
      "Project: LIVENreg_ei_391_con\n",
      "['biosphere3', 'ei391cutoff']\n",
      "Project: test-project_a197ca0f-a234-471f-8975-33ed9edd6f6a\n",
      "['test-db']\n",
      "Project: test-project_831f7103-69f1-430d-b2f9-3a5fe8faafb4\n",
      "['test-db']\n",
      "Project: test-project_00914747-8f0c-4fa3-94cb-b5e54ba2529e\n",
      "['test-db', 'test-db2']\n",
      "Project: test-project_369da44c-031b-4f02-8cd7-7962b4efb84e\n",
      "['test-db', 'test-db2']\n",
      "Project: super_simple_builder_test\n",
      "['db']\n",
      "Project: my_new_ecoinvent_project\n",
      "['biosphere3', 'Ecoinvent_391_cutoff']\n"
     ]
    }
   ],
   "execution_count": 5
  },
  {
   "metadata": {},
   "cell_type": "code",
   "outputs": [],
   "execution_count": null,
   "source": "",
   "id": "8aac2d06981110ad"
  }
 ],
 "metadata": {
  "kernelspec": {
   "display_name": "Python 3",
   "language": "python",
   "name": "python3"
  },
  "language_info": {
   "codemirror_mode": {
    "name": "ipython",
    "version": 2
   },
   "file_extension": ".py",
   "mimetype": "text/x-python",
   "name": "python",
   "nbconvert_exporter": "python",
   "pygments_lexer": "ipython2",
   "version": "2.7.6"
  }
 },
 "nbformat": 4,
 "nbformat_minor": 5
}
