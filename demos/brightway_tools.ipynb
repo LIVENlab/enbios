{
 "cells": [
  {
   "cell_type": "code",
   "source": [
    "from enbios.bw2.util import report\n",
    "\n",
    "report()"
   ],
   "metadata": {
    "collapsed": false
   },
   "id": "f49bd0a71458be5c",
   "outputs": [],
   "execution_count": null
  },
  {
   "cell_type": "code",
   "source": [
    "from bw_tools.setup_project import safe_setup_ecoinvent\n",
    "\n",
    "# this will read the ecoinvent dataset from the specified location and create a new project (name='project_name')\n",
    "# with data dataset imported and stored to 'db_name'\n",
    "\n",
    "safe_setup_ecoinvent(\n",
    "    project_name=\"my_ecoinvent_project\",\n",
    "    ecoinvent_db_path=\".../ecoinvent 3.9.1_cutoff_ecoSpold02/dataset\",\n",
    "    db_name=\"Ecoinvent_391_cutoff\",\n",
    "    delete_project=False,\n",
    "    delete_if_unlinked=True,\n",
    ")"
   ],
   "metadata": {
    "collapsed": false
   },
   "id": "ad7e06708409ee55",
   "outputs": [],
   "execution_count": null
  },
  {
   "cell_type": "code",
   "source": [
    "from enbios.bw2.util import delete_all_projects\n",
    "\n",
    "delete_all_projects()"
   ],
   "metadata": {
    "collapsed": false
   },
   "id": "dfca96575477f3a8",
   "outputs": [],
   "execution_count": null
  }
 ],
 "metadata": {
  "kernelspec": {
   "display_name": "Python 3",
   "language": "python",
   "name": "python3"
  },
  "language_info": {
   "codemirror_mode": {
    "name": "ipython",
    "version": 2
   },
   "file_extension": ".py",
   "mimetype": "text/x-python",
   "name": "python",
   "nbconvert_exporter": "python",
   "pygments_lexer": "ipython2",
   "version": "2.7.6"
  }
 },
 "nbformat": 4,
 "nbformat_minor": 5
}
