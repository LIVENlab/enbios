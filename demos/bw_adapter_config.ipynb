{
 "cells": [
  {
   "cell_type": "code",
   "source": [
    "bw_test_non_linear_methods_module_path = \"data/bw_test_non_linear_methods_module.py\"\n",
    "\n",
    "config_data = {\n",
    "    \"adapters\": [\n",
    "        {\n",
    "            \"adapter_name\": \"brightway-adapter\",\n",
    "            # \"module_path\": \"...\",\n",
    "            \"config\": {\n",
    "                # mandatory\n",
    "                \"bw_project\": \"ecoinvent_391\",\n",
    "                # optional: default: 1\n",
    "                \"use_k_bw_distributions\": 2,\n",
    "                \"store_raw_results\": True,\n",
    "                \"store_lca_object\": True,\n",
    "                # config for regionalization\n",
    "                \"simple_regionalization\": {\n",
    "                    # active (default: False)\n",
    "                    \"run_regionalization\": False,\n",
    "                    # select regions to include in the results\n",
    "                    \"select_regions\": [\"CAT\"],\n",
    "                    # set activities locations as included in this dict\n",
    "                    \"set_node_regions\": {\"<code>\": [\"ES\", \"CAT\"]},\n",
    "                    # Set all activities 'enb_location' that are not in the 'hierarchy' nor 'set_node_regions'\n",
    "                    \"clear_all_other_node_regions\": False,\n",
    "                },\n",
    "                # config for nonlinear characterization\n",
    "                \"nonlinear_characterization\": {\n",
    "                    # just methods...\n",
    "                    \"methods\": {\n",
    "                        # name as defined in 'methods' in the adapter definition (see below)\n",
    "                        \"GWP1000\": {\n",
    "                            # load method data and create initial linear methods.\n",
    "                            # will be overwritten by functions defined here\n",
    "                            \"get_defaults_from_original\": True,\n",
    "                            \"functions\": {\n",
    "                                # (database, code): <function-name> or anonymous function (e.g. lambda v: v * 1)\n",
    "                            },\n",
    "                            # instead of functions field we can also include module_path_function_name a 2 string tuple,\n",
    "                            # where the first string is a absolute module path and the second a function name\n",
    "                            # that function will be called and should return the same as functions, which is\n",
    "                            # a dict of (database, code) tuples and functions (float -> float)\n",
    "                            # \"module_path_function_name\": (\n",
    "                            #     bw_test_non_linear_methods_module_path,\n",
    "                            #     \"wpg_1000\"\n",
    "                            # )\n",
    "                        }\n",
    "                    }\n",
    "                },\n",
    "            },\n",
    "            # the methods we want to incoperate (a dict: arbitrary name (used in results) -> bw identifier tuple\n",
    "            \"methods\": {\n",
    "                \"GWP1000\": [\n",
    "                    \"ReCiPe 2016 v1.03, midpoint (E)\",\n",
    "                    \"climate change\",\n",
    "                    \"global warming potential (GWP1000)\",\n",
    "                ]\n",
    "            },\n",
    "        }\n",
    "    ],\n",
    "    # each node in the hierarchy must contain the fields 'name' and 'aggregator' (non-leaf nodes) or 'adapter'\n",
    "    # the config is passed to the corresponding aggregator/adapter\n",
    "    # the config for 'single_activity' is used to find the activity and to set a default output\n",
    "    \"hierarchy\": {\n",
    "        \"name\": \"root\",\n",
    "        \"aggregator\": \"sum\",\n",
    "        \"children\": [\n",
    "            {\n",
    "                \"name\": \"single_activity\",\n",
    "                \"adapter\": \"bw\",\n",
    "                \"config\": {\n",
    "                    \"name\": \"heat and power co-generation, wood chips, 6667 kW, state-of-the-art 2014\",\n",
    "                    \"unit\": \"kilowatt hour\",\n",
    "                    # \"code\": 'b9d74efa4fd670b1977a3471ec010737',\n",
    "                    \"location\": \"DK\",\n",
    "                    \"default_output\": {\"unit\": \"kWh\", \"magnitude\": 1},\n",
    "                },\n",
    "            }\n",
    "        ],\n",
    "    },\n",
    "    \"config\": {\"run_adapters_concurrently\": False},\n",
    "}"
   ],
   "metadata": {
    "collapsed": false,
    "ExecuteTime": {
     "end_time": "2024-04-16T09:21:19.643682Z",
     "start_time": "2024-04-16T09:21:19.634409Z"
    }
   },
   "id": "b8b8855393292e65",
   "outputs": [],
   "execution_count": 1
  },
  {
   "cell_type": "code",
   "source": [
    "from enbios.base.experiment import Experiment\n",
    "\n",
    "exp = Experiment(config_data)\n",
    "exp.run()"
   ],
   "metadata": {
    "collapsed": false,
    "ExecuteTime": {
     "end_time": "2024-04-16T09:22:04.673375Z",
     "start_time": "2024-04-16T09:21:20.321206Z"
    }
   },
   "id": "e1c866cd74d55594",
   "outputs": [
    {
     "name": "stdout",
     "output_type": "stream",
     "text": [
      "Excluding 0 filtered results\n",
      "Excluding 104 filtered results\n",
      "2024-04-16 11:21:23,628 - ............demos.enbios.base - INFO - Running scenario 'default scenario'\n",
      "2024-04-16 11:21:23,682 - ............demos.(brightway-adapter) - INFO - Brightway adapter: Run distribution 1/2\n",
      "2024-04-16 11:21:44,774 - ............demos.(brightway-adapter) - INFO - Brightway adapter: Run distribution 2/2\n"
     ]
    },
    {
     "data": {
      "text/plain": [
       "{'default scenario': {'name': 'root',\n",
       "  'results': {'GWP1000': {'unit': 'kg CO2-Eq',\n",
       "    'magnitude': 0.0,\n",
       "    'multi_magnitude': [1.5785744795597512, 1.5705884323610946]}},\n",
       "  'output': [{'unit': 'kilowatt_hour', 'magnitude': 1.0}],\n",
       "  'children': [{'name': 'single_activity',\n",
       "    'results': {'GWP1000': {'unit': 'kg CO2-Eq',\n",
       "      'multi_magnitude': [1.5785744795597512, 1.5705884323610946]}},\n",
       "    'output': [{'unit': 'kilowatt_hour', 'magnitude': 1.0}]}]}}"
      ]
     },
     "execution_count": 2,
     "metadata": {},
     "output_type": "execute_result"
    }
   ],
   "execution_count": 2
  },
  {
   "cell_type": "code",
   "source": [
    "from enbios.bw2.MultiLCA_util import BaseStackedMultiLCA\n",
    "from enbios.bw2.brightway_experiment_adapter import BrightwayAdapter\n",
    "\n",
    "bw_adapter: BrightwayAdapter = exp.get_adapter_by_name(\"brightway-adapter\")\n",
    "# bw_adapter.lca_objects\n",
    "print(bw_adapter.raw_results)\n",
    "\n",
    "multi_lca: list[BaseStackedMultiLCA] = bw_adapter.lca_objects[\"default scenario\"]"
   ],
   "metadata": {
    "collapsed": false,
    "ExecuteTime": {
     "end_time": "2024-04-16T09:22:36.510884Z",
     "start_time": "2024-04-16T09:22:36.506345Z"
    }
   },
   "id": "4b7ff60c2edf5ccb",
   "outputs": [
    {
     "name": "stdout",
     "output_type": "stream",
     "text": [
      "{'default scenario': [array([[1.57857448]]), array([[1.57058843]])]}\n"
     ]
    },
    {
     "data": {
      "text/plain": [
       "[<enbios.bw2.MultiLCA_util.BaseStackedMultiLCA at 0x734be3a10710>,\n",
       " <enbios.bw2.MultiLCA_util.BaseStackedMultiLCA at 0x734c51529d10>]"
      ]
     },
     "execution_count": 7,
     "metadata": {},
     "output_type": "execute_result"
    }
   ],
   "execution_count": 7
  },
  {
   "cell_type": "code",
   "source": [
    "multi_lca[0].results"
   ],
   "metadata": {
    "collapsed": false,
    "ExecuteTime": {
     "end_time": "2024-04-16T09:22:44.127294Z",
     "start_time": "2024-04-16T09:22:44.119654Z"
    }
   },
   "id": "26e38ebc13710817",
   "outputs": [
    {
     "data": {
      "text/plain": [
       "array([[1.57857448]])"
      ]
     },
     "execution_count": 8,
     "metadata": {},
     "output_type": "execute_result"
    }
   ],
   "execution_count": 8
  },
  {
   "cell_type": "code",
   "source": [
    "multi_lca"
   ],
   "metadata": {
    "collapsed": false,
    "ExecuteTime": {
     "end_time": "2024-04-16T09:22:53.170077Z",
     "start_time": "2024-04-16T09:22:53.166347Z"
    }
   },
   "id": "80c8ca0cdec7275f",
   "outputs": [
    {
     "data": {
      "text/plain": [
       "[<enbios.bw2.MultiLCA_util.BaseStackedMultiLCA at 0x734be3a10710>,\n",
       " <enbios.bw2.MultiLCA_util.BaseStackedMultiLCA at 0x734c51529d10>]"
      ]
     },
     "execution_count": 9,
     "metadata": {},
     "output_type": "execute_result"
    }
   ],
   "execution_count": 9
  }
 ],
 "metadata": {
  "kernelspec": {
   "display_name": "Python 3",
   "language": "python",
   "name": "python3"
  },
  "language_info": {
   "codemirror_mode": {
    "name": "ipython",
    "version": 2
   },
   "file_extension": ".py",
   "mimetype": "text/x-python",
   "name": "python",
   "nbconvert_exporter": "python",
   "pygments_lexer": "ipython2",
   "version": "2.7.6"
  }
 },
 "nbformat": 4,
 "nbformat_minor": 5
}
