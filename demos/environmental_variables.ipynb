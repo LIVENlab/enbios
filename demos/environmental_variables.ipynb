{
 "cells": [
  {
   "metadata": {},
   "cell_type": "markdown",
   "source": [
    "# Using environment variables\n",
    "\n",
    "In this short demo, we show the usage of environmal variables. Note that it depends on your operating system, who environmental variables can be set.\n",
    "\n",
    "First we create a experiment config file and then set its path to as environmental variable.\n",
    "We also specify which scenarios to run as environmental variables before running the experiment"
   ],
   "id": "7d45eb64af73127a"
  },
  {
   "metadata": {
    "ExecuteTime": {
     "end_time": "2024-05-13T14:06:14.150153Z",
     "start_time": "2024-05-13T14:06:14.144674Z"
    }
   },
   "cell_type": "code",
   "source": [
    "import json\n",
    "from pathlib import Path\n",
    "\n",
    "from demos.demo_experiment import create_experiment_config\n",
    "\n",
    "experiment_config = create_experiment_config(4)\n",
    "\n",
    "config_path = Path(\"data/demo_experiment_2_config.json\")\n",
    "json.dump(\n",
    "    experiment_config,\n",
    "    config_path.open(\"w\", encoding=\"utf-8\"),\n",
    "    indent=2,\n",
    "    ensure_ascii=False,\n",
    ")\n",
    "\n",
    "config_path.absolute().as_posix()"
   ],
   "id": "initial_id",
   "outputs": [
    {
     "name": "stdout",
     "output_type": "stream",
     "text": [
      "note that all experiments beyond the first 2 ones, have randomized outputs\n"
     ]
    },
    {
     "data": {
      "text/plain": [
       "'/home/ra/projects/enbios/demos/data/demo_experiment_2_config.json'"
      ]
     },
     "execution_count": 48,
     "metadata": {},
     "output_type": "execute_result"
    }
   ],
   "execution_count": 48
  },
  {
   "metadata": {},
   "cell_type": "code",
   "outputs": [],
   "execution_count": 41,
   "source": [
    "! export CONFIG_FILE=/home/ra/projects/enbios/demos/data/demo_experiment_2_config.json\n",
    "! export RUN_SCENARIOS=[\"scenario 1\",\"scenario 4\"]"
   ],
   "id": "aa3b1da4299bc356"
  },
  {
   "metadata": {},
   "cell_type": "code",
   "outputs": [
    {
     "name": "stdout",
     "output_type": "stream",
     "text": [
      "env: CONFIG_FILE=/home/ra/projects/enbios/demos/data/demo_experiment_2_config.json\n",
      "env: RUN_SCENARIOS=[\"scenario 1\",\"scenario 4\"]\n"
     ]
    }
   ],
   "execution_count": 45,
   "source": [
    "%env CONFIG_FILE=/home/ra/projects/enbios/demos/data/demo_experiment_2_config.json\n",
    "%env RUN_SCENARIOS=[\"scenario 1\",\"scenario 4\"]"
   ],
   "id": "a4465c0e05293774"
  },
  {
   "metadata": {},
   "cell_type": "code",
   "outputs": [
    {
     "name": "stdout",
     "output_type": "stream",
     "text": [
      "PATH /home/ra/projects/enbios/venv311/bin:/home/ra/.local/bin:/usr/local/sbin:/usr/local/bin:/usr/sbin:/usr/bin:/sbin:/bin:/usr/games:/usr/local/games:/snap/bin\n",
      "XAUTHORITY /run/user/1000/gdm/Xauthority\n",
      "INVOCATION_ID 6dbc90165e74404a9de9f98007eac35d\n",
      "XMODIFIERS @im=ibus\n",
      "XDG_DATA_DIRS /usr/share/pop:/usr/share/gnome:/home/ra/.local/share/flatpak/exports/share:/var/lib/flatpak/exports/share:/usr/local/share/:/usr/share/\n",
      "GDMSESSION pop\n",
      "MANDATORY_PATH /usr/share/gconf/pop.mandatory.path\n",
      "GTK_IM_MODULE ibus\n",
      "DBUS_SESSION_BUS_ADDRESS unix:path=/run/user/1000/bus\n",
      "DEFAULTS_PATH /usr/share/gconf/pop.default.path\n",
      "PS1 (venv311) \n",
      "XDG_CURRENT_DESKTOP pop:GNOME\n",
      "JOURNAL_STREAM 8:9176\n",
      "SESSION_MANAGER local/pop-os:@/tmp/.ICE-unix/1145,unix/pop-os:/tmp/.ICE-unix/1145\n",
      "USERNAME ra\n",
      "LOGNAME ra\n",
      "PWD /home/ra/projects/enbios\n",
      "MANAGERPID 976\n",
      "LANGUAGE \n",
      "GJS_DEBUG_TOPICS JS ERROR;JS LOG\n",
      "PYTHONPATH /home/ra/projects/enbios:/home/ra/projects/enbios_tools\n",
      "SHELL /bin/bash\n",
      "GIO_LAUNCHED_DESKTOP_FILE /home/ra/.local/share/applications/pycharm.desktop\n",
      "GNOME_DESKTOP_SESSION_ID this-is-deprecated\n",
      "GTK_MODULES gail:atk-bridge\n",
      "VIRTUAL_ENV /home/ra/projects/enbios/venv311\n",
      "LC_ALL en_US.UTF-8\n",
      "SYSTEMD_EXEC_PID 1173\n",
      "XDG_SESSION_DESKTOP pop\n",
      "SSH_AGENT_LAUNCHER gnome-keyring\n",
      "SHLVL 0\n",
      "QT_IM_MODULE ibus\n",
      "XDG_CONFIG_DIRS /etc/xdg/xdg-pop:/etc/xdg\n",
      "LANG en_US.UTF-8\n",
      "XDG_SESSION_TYPE x11\n",
      "DISPLAY :0\n",
      "XDG_SESSION_CLASS user\n",
      "GPG_AGENT_INFO /run/user/1000/gnupg/S.gpg-agent:0:1\n",
      "DESKTOP_SESSION pop\n",
      "USER ra\n",
      "XDG_MENU_PREFIX gnome-\n",
      "GIO_LAUNCHED_DESKTOP_FILE_PID 3637\n",
      "QT_ACCESSIBILITY 1\n",
      "WINDOWPATH 2\n",
      "GJS_DEBUG_OUTPUT stderr\n",
      "SSH_AUTH_SOCK /run/user/1000/keyring/ssh\n",
      "GNOME_SHELL_SESSION_MODE pop\n",
      "XDG_RUNTIME_DIR /run/user/1000\n",
      "HOME /home/ra\n",
      "JPY_SESSION_NAME demos/environmental variables.ipynb\n",
      "JPY_PARENT_PID 8433\n",
      "PYDEVD_USE_FRAME_EVAL NO\n",
      "TERM xterm-color\n",
      "CLICOLOR 1\n",
      "FORCE_COLOR 1\n",
      "CLICOLOR_FORCE 1\n",
      "PAGER cat\n",
      "GIT_PAGER cat\n",
      "MPLBACKEND module://matplotlib_inline.backend_inline\n",
      "KMP_DUPLICATE_LIB_OK True\n",
      "CONFIG_FILE /home/ra/projects/enbios/demos/data/demo_experiment_2_config.json\n",
      "RUN_SCENARIOS [\"scenario 1\",\"scenario 4\"]\n"
     ]
    }
   ],
   "execution_count": 46,
   "source": [
    "import os\n",
    "\n",
    "for e, v in os.environ.items():\n",
    "    print(e, v)"
   ],
   "id": "1359c827049f7310"
  },
  {
   "metadata": {},
   "cell_type": "code",
   "outputs": [
    {
     "name": "stdout",
     "output_type": "stream",
     "text": [
      "2024-05-13 16:02:40,252 - demos.enbios.base - INFO - Running selected scenarios: ['scenario 1', 'scenario 4']\n",
      "2024-05-13 16:02:40,252 - demos.enbios.base - INFO - Running scenario 'scenario 1'\n",
      "2024-05-13 16:02:48,725 - enbios.bw2.MultiLCA_util - DEBUG - Demand 0/4\n",
      "2024-05-13 16:02:56,659 - enbios.bw2.MultiLCA_util - DEBUG - Demand 1/4\n",
      "2024-05-13 16:03:06,111 - enbios.bw2.MultiLCA_util - DEBUG - Demand 2/4\n",
      "2024-05-13 16:03:18,756 - enbios.bw2.MultiLCA_util - DEBUG - Demand 3/4\n",
      "2024-05-13 16:03:34,808 - demos.enbios.base - INFO - Running scenario 'scenario 4'\n",
      "2024-05-13 16:03:43,923 - enbios.bw2.MultiLCA_util - DEBUG - Demand 0/4\n",
      "2024-05-13 16:03:58,075 - enbios.bw2.MultiLCA_util - DEBUG - Demand 1/4\n",
      "2024-05-13 16:04:09,529 - enbios.bw2.MultiLCA_util - DEBUG - Demand 2/4\n",
      "2024-05-13 16:04:23,178 - enbios.bw2.MultiLCA_util - DEBUG - Demand 3/4\n"
     ]
    },
    {
     "data": {
      "text/plain": [
       "{'scenario 1': {'name': 'root',\n",
       "  'results': {'GWP1000': {'unit': 'kg CO2-Eq',\n",
       "    'magnitude': 0.16306923943120674},\n",
       "   'WCP': {'unit': 'cubic meter', 'magnitude': 0.001251373138300656},\n",
       "   'HToxicity': {'unit': 'kg 1,4-DCB-Eq',\n",
       "    'magnitude': 0.00011847526548009656}},\n",
       "  'output': [{'unit': 'kilowatt_hour', 'magnitude': 7.0, 'label': None}],\n",
       "  'children': [{'name': 'wind',\n",
       "    'results': {'GWP1000': {'unit': 'kg CO2-Eq',\n",
       "      'magnitude': 0.07122001720393131},\n",
       "     'WCP': {'unit': 'cubic meter', 'magnitude': 0.0007851621139689587},\n",
       "     'HToxicity': {'unit': 'kg 1,4-DCB-Eq',\n",
       "      'magnitude': 7.274170558592495e-05}},\n",
       "    'output': [{'unit': 'kilowatt_hour', 'magnitude': 5.0, 'label': None}],\n",
       "    'children': [{'name': 'electricity production, wind, 1-3MW turbine, onshore',\n",
       "      'results': {'GWP1000': {'unit': 'kg CO2-Eq',\n",
       "        'magnitude': 0.040728182627565654},\n",
       "       'WCP': {'unit': 'cubic meter', 'magnitude': 0.0004090798127341177},\n",
       "       'HToxicity': {'unit': 'kg 1,4-DCB-Eq',\n",
       "        'magnitude': 3.854642835950125e-05}},\n",
       "      'output': [{'unit': 'kilowatt_hour', 'magnitude': 3.0, 'label': None}],\n",
       "      'bw_activity_code': 'ed3da88fc23311ee183e9ffd376de89b'},\n",
       "     {'name': 'electricity production, wind, 1-3MW turbine, offshore',\n",
       "      'results': {'GWP1000': {'unit': 'kg CO2-Eq',\n",
       "        'magnitude': 0.03049183457636566},\n",
       "       'WCP': {'unit': 'cubic meter', 'magnitude': 0.00037608230123484097},\n",
       "       'HToxicity': {'unit': 'kg 1,4-DCB-Eq',\n",
       "        'magnitude': 3.4195277226423696e-05}},\n",
       "      'output': [{'unit': 'kilowatt_hour', 'magnitude': 2.0, 'label': None}],\n",
       "      'bw_activity_code': '6ebfe52dc3ef5b4d35bb603b03559023'}]},\n",
       "   {'name': 'solar',\n",
       "    'results': {'GWP1000': {'unit': 'kg CO2-Eq',\n",
       "      'magnitude': 0.09184922222727543},\n",
       "     'WCP': {'unit': 'cubic meter', 'magnitude': 0.00046621102433169726},\n",
       "     'HToxicity': {'unit': 'kg 1,4-DCB-Eq',\n",
       "      'magnitude': 4.573355989417161e-05}},\n",
       "    'output': [{'unit': 'kilowatt_hour', 'magnitude': 2.0, 'label': None}],\n",
       "    'children': [{'name': 'electricity production, solar tower power plant, 20 MW',\n",
       "      'results': {'GWP1000': {'unit': 'kg CO2-Eq',\n",
       "        'magnitude': 0.04336171689968771},\n",
       "       'WCP': {'unit': 'cubic meter', 'magnitude': 0.00021147976571951987},\n",
       "       'HToxicity': {'unit': 'kg 1,4-DCB-Eq',\n",
       "        'magnitude': 1.8985554764160898e-05}},\n",
       "      'output': [{'unit': 'kilowatt_hour', 'magnitude': 1.0, 'label': None}],\n",
       "      'bw_activity_code': 'f2700b2ffcb6b32143a6f95d9cca1721'},\n",
       "     {'name': 'electricity production, solar thermal parabolic trough, 50 MW',\n",
       "      'results': {'GWP1000': {'unit': 'kg CO2-Eq',\n",
       "        'magnitude': 0.04848750532758773},\n",
       "       'WCP': {'unit': 'cubic meter', 'magnitude': 0.00025473125861217737},\n",
       "       'HToxicity': {'unit': 'kg 1,4-DCB-Eq',\n",
       "        'magnitude': 2.6748005130010717e-05}},\n",
       "      'output': [{'unit': 'kilowatt_hour', 'magnitude': 1.0, 'label': None}],\n",
       "      'bw_activity_code': '19040cdacdbf038e2f6ad59814f7a9ed'}]}]},\n",
       " 'scenario 4': {'name': 'root',\n",
       "  'results': {'GWP1000': {'unit': 'kg CO2-Eq', 'magnitude': 0.463982952261464},\n",
       "   'WCP': {'unit': 'cubic meter', 'magnitude': 0.002982837019638149},\n",
       "   'HToxicity': {'unit': 'kg 1,4-DCB-Eq', 'magnitude': 0.0002821087720230723}},\n",
       "  'output': [{'unit': 'kilowatt_hour', 'magnitude': 15.0, 'label': None}],\n",
       "  'children': [{'name': 'wind',\n",
       "    'results': {'GWP1000': {'unit': 'kg CO2-Eq',\n",
       "      'magnitude': 0.10171185178029697},\n",
       "     'WCP': {'unit': 'cubic meter', 'magnitude': 0.0011612444152037996},\n",
       "     'HToxicity': {'unit': 'kg 1,4-DCB-Eq',\n",
       "      'magnitude': 0.00010693698281234864}},\n",
       "    'output': [{'unit': 'kilowatt_hour', 'magnitude': 7.0, 'label': None}],\n",
       "    'children': [{'name': 'electricity production, wind, 1-3MW turbine, onshore',\n",
       "      'results': {'GWP1000': {'unit': 'kg CO2-Eq',\n",
       "        'magnitude': 0.040728182627565654},\n",
       "       'WCP': {'unit': 'cubic meter', 'magnitude': 0.0004090798127341177},\n",
       "       'HToxicity': {'unit': 'kg 1,4-DCB-Eq',\n",
       "        'magnitude': 3.854642835950125e-05}},\n",
       "      'output': [{'unit': 'kilowatt_hour', 'magnitude': 3.0, 'label': None}],\n",
       "      'bw_activity_code': 'ed3da88fc23311ee183e9ffd376de89b'},\n",
       "     {'name': 'electricity production, wind, 1-3MW turbine, offshore',\n",
       "      'results': {'GWP1000': {'unit': 'kg CO2-Eq',\n",
       "        'magnitude': 0.06098366915273132},\n",
       "       'WCP': {'unit': 'cubic meter', 'magnitude': 0.0007521646024696819},\n",
       "       'HToxicity': {'unit': 'kg 1,4-DCB-Eq',\n",
       "        'magnitude': 6.839055445284739e-05}},\n",
       "      'output': [{'unit': 'kilowatt_hour', 'magnitude': 4.0, 'label': None}],\n",
       "      'bw_activity_code': '6ebfe52dc3ef5b4d35bb603b03559023'}]},\n",
       "   {'name': 'solar',\n",
       "    'results': {'GWP1000': {'unit': 'kg CO2-Eq',\n",
       "      'magnitude': 0.36227110048116706},\n",
       "     'WCP': {'unit': 'cubic meter', 'magnitude': 0.0018215926044343495},\n",
       "     'HToxicity': {'unit': 'kg 1,4-DCB-Eq',\n",
       "      'magnitude': 0.00017517178921072364}},\n",
       "    'output': [{'unit': 'kilowatt_hour', 'magnitude': 8.0, 'label': None}],\n",
       "    'children': [{'name': 'electricity production, solar tower power plant, 20 MW',\n",
       "      'results': {'GWP1000': {'unit': 'kg CO2-Eq',\n",
       "        'magnitude': 0.2168085844984155},\n",
       "       'WCP': {'unit': 'cubic meter', 'magnitude': 0.0010573988285983104},\n",
       "       'HToxicity': {'unit': 'kg 1,4-DCB-Eq',\n",
       "        'magnitude': 9.492777382073567e-05}},\n",
       "      'output': [{'unit': 'kilowatt_hour', 'magnitude': 5.0, 'label': None}],\n",
       "      'bw_activity_code': 'f2700b2ffcb6b32143a6f95d9cca1721'},\n",
       "     {'name': 'electricity production, solar thermal parabolic trough, 50 MW',\n",
       "      'results': {'GWP1000': {'unit': 'kg CO2-Eq',\n",
       "        'magnitude': 0.1454625159827516},\n",
       "       'WCP': {'unit': 'cubic meter', 'magnitude': 0.0007641937758360391},\n",
       "       'HToxicity': {'unit': 'kg 1,4-DCB-Eq',\n",
       "        'magnitude': 8.024401538998796e-05}},\n",
       "      'output': [{'unit': 'kilowatt_hour', 'magnitude': 3.0, 'label': None}],\n",
       "      'bw_activity_code': '19040cdacdbf038e2f6ad59814f7a9ed'}]}]}}"
      ]
     },
     "execution_count": 47,
     "metadata": {},
     "output_type": "execute_result"
    }
   ],
   "execution_count": 47,
   "source": [
    "from enbios import Experiment\n",
    "\n",
    "exp = Experiment()\n",
    "exp.run()"
   ],
   "id": "2fa390c78f7638d4"
  },
  {
   "metadata": {},
   "cell_type": "code",
   "outputs": [],
   "execution_count": null,
   "source": "",
   "id": "2d893c615b63c16d"
  }
 ],
 "metadata": {
  "kernelspec": {
   "display_name": "Python 3",
   "language": "python",
   "name": "python3"
  },
  "language_info": {
   "codemirror_mode": {
    "name": "ipython",
    "version": 2
   },
   "file_extension": ".py",
   "mimetype": "text/x-python",
   "name": "python",
   "nbconvert_exporter": "python",
   "pygments_lexer": "ipython2",
   "version": "2.7.6"
  }
 },
 "nbformat": 4,
 "nbformat_minor": 5
}
