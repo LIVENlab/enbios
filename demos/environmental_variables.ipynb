{
 "cells": [
  {
   "metadata": {},
   "cell_type": "markdown",
   "source": [
    "# Using environment variables\n",
    "\n",
    "In this short demo, we show the usage of environmal variables. Note that it depends on your operating system, who environmental variables can be set.\n",
    "\n",
    "First we create a experiment config file and then set its path to as environmental variable.\n",
    "We also specify which scenarios to run as environmental variables before running the experiment"
   ],
   "id": "7d45eb64af73127a"
  },
  {
   "metadata": {
    "ExecuteTime": {
     "end_time": "2024-05-13T14:06:14.150153Z",
     "start_time": "2024-05-13T14:06:14.144674Z"
    }
   },
   "cell_type": "code",
   "source": [
    "import json\n",
    "from pathlib import Path\n",
    "\n",
    "from demos.demo_experiment import create_experiment_config\n",
    "\n",
    "experiment_config = create_experiment_config(4)\n",
    "\n",
    "config_path = Path(\"data/demo_experiment_2_config.json\")\n",
    "json.dump(\n",
    "    experiment_config,\n",
    "    config_path.open(\"w\", encoding=\"utf-8\"),\n",
    "    indent=2,\n",
    "    ensure_ascii=False,\n",
    ")\n",
    "\n",
    "config_path.absolute().as_posix()"
   ],
   "id": "initial_id",
   "execution_count": 48,
   "outputs": []
  },
  {
   "metadata": {},
   "cell_type": "code",
   "execution_count": 41,
   "source": [
    "! export CONFIG_FILE=/home/ra/projects/enbios/demos/data/demo_experiment_2_config.json\n",
    "! export RUN_SCENARIOS=[\"scenario 1\",\"scenario 4\"]"
   ],
   "id": "aa3b1da4299bc356",
   "outputs": []
  },
  {
   "metadata": {},
   "cell_type": "code",
   "execution_count": 45,
   "source": [
    "%env CONFIG_FILE=/home/ra/projects/enbios/demos/data/demo_experiment_2_config.json\n",
    "%env RUN_SCENARIOS=[\"scenario 1\",\"scenario 4\"]"
   ],
   "id": "a4465c0e05293774",
   "outputs": []
  },
  {
   "metadata": {},
   "cell_type": "code",
   "execution_count": 46,
   "source": [
    "import os\n",
    "\n",
    "for e, v in os.environ.items():\n",
    "    print(e, v)"
   ],
   "id": "1359c827049f7310",
   "outputs": []
  },
  {
   "metadata": {},
   "cell_type": "code",
   "execution_count": 47,
   "source": [
    "from enbios import Experiment\n",
    "\n",
    "exp = Experiment()\n",
    "exp.run()"
   ],
   "id": "2fa390c78f7638d4",
   "outputs": []
  },
  {
   "metadata": {},
   "cell_type": "code",
   "execution_count": null,
   "source": "",
   "id": "2d893c615b63c16d",
   "outputs": []
  }
 ],
 "metadata": {
  "kernelspec": {
   "display_name": "Python 3",
   "language": "python",
   "name": "python3"
  },
  "language_info": {
   "codemirror_mode": {
    "name": "ipython",
    "version": 2
   },
   "file_extension": ".py",
   "mimetype": "text/x-python",
   "name": "python",
   "nbconvert_exporter": "python",
   "pygments_lexer": "ipython2",
   "version": "2.7.6"
  }
 },
 "nbformat": 4,
 "nbformat_minor": 5
}
