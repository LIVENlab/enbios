{
 "cells": [
  {
   "metadata": {},
   "cell_type": "markdown",
   "source": [
    "# Writing a custom aggregator\n",
    "\n",
    "In this demo, we have a look on how to write a new aggregator and include it into enbios.\n",
    "\n",
    "We actually are not gonna write a whole new Aggregator class from scratch, but create one derrived from the already existing SumAggregator class.\n",
    "If you are not familiar with the concept of class inheritence, you can read about it here [python class inheritance](https://docs.python.org/3/tutorial/classes.html#inheritance) or with a [simple explanation here](https://pythonbasics.org/inheritance/).\n",
    "\n",
    "In our example that means that our new aggregator (ThresholdAggregator) will behave in exactly the same way as the SumAggregator, but except when we define it to do otherwise.\n",
    "\n",
    "In this example we create an aggregator that behaves exactly like the SumAggreagator, but for nodes using this aggregator, we can define specific thresholds for its methods, and the result-data will include boolean values, which indicate if the threshold is exceeded or not. Therefor we do not change the results in any way but augment it with additional information.\n",
    "\n",
    "Since each new aggregator (and adapter) that we want to add to enbios we neet to provide the path to the module (python file) containing the aggregator class. You can find the `threshold_aggregator.py` file in the `data` directory of this demo folder of this repository."
   ],
   "id": "2abbdcb7ceaf2445"
  },
  {
   "metadata": {
    "ExecuteTime": {
     "end_time": "2024-05-13T09:04:21.187214Z",
     "start_time": "2024-05-13T09:04:20.899773Z"
    }
   },
   "cell_type": "code",
   "source": [
    "from pathlib import Path\n",
    "\n",
    "import pandas as pd\n",
    "\n",
    "module_path = Path() / \"data/threshold_aggregator.py\"\n",
    "module_path.exists()"
   ],
   "id": "8015f2a28173909",
   "outputs": [
    {
     "data": {
      "text/plain": [
       "True"
      ]
     },
     "execution_count": 1,
     "metadata": {},
     "output_type": "execute_result"
    }
   ],
   "execution_count": 1
  },
  {
   "metadata": {},
   "cell_type": "markdown",
   "source": "Let's begin by defining a simple experiment config. We are using the assignment adapter, so that the calculation of the results takes no additional time. ",
   "id": "1f0cf7d5877d1a17"
  },
  {
   "metadata": {
    "ExecuteTime": {
     "end_time": "2024-05-13T09:04:25.959027Z",
     "start_time": "2024-05-13T09:04:21.188390Z"
    }
   },
   "cell_type": "code",
   "source": [
    "from enbios import Experiment\n",
    "\n",
    "exp_config = {\n",
    "    \"adapters\": [{\"adapter_name\": \"assignment-adapter\", \"methods\": {\"co2\": \"kg\"}}],\n",
    "    \"hierarchy\": {\n",
    "        \"name\": \"root\",\n",
    "        \"aggregator\": \"sum\",\n",
    "        \"children\": [\n",
    "            {\"name\": \"n1\", \"adapter\": \"assign\", \"config\": {\"outputs\": [{\"unit\": \"kg\"}]}},\n",
    "            {\"name\": \"n2\", \"adapter\": \"assign\", \"config\": {\"outputs\": [{\"unit\": \"l\"}]}},\n",
    "        ],\n",
    "    },\n",
    "    \"scenarios\": [\n",
    "        {\n",
    "            \"name\": \"scenario1\",\n",
    "            \"nodes\": {\n",
    "                \"n1\": {\n",
    "                    \"outputs\": [{\"magnitude\": 100}],\n",
    "                    \"impacts\": {\"co2\": {\"unit\": \"kg\", \"magnitude\": 100}},\n",
    "                },\n",
    "                \"n2\": {\n",
    "                    \"outputs\": [{\"magnitude\": 100}],\n",
    "                    \"impacts\": {\"co2\": {\"unit\": \"kg\", \"magnitude\": 100}},\n",
    "                },\n",
    "            },\n",
    "        }\n",
    "    ],\n",
    "}\n",
    "\n",
    "Experiment(exp_config).run()"
   ],
   "id": "initial_id",
   "outputs": [
    {
     "name": "stdout",
     "output_type": "stream",
     "text": [
      "2024-05-13 11:04:25,954 - demos.enbios.base - INFO - Running scenario 'scenario1'\n"
     ]
    },
    {
     "data": {
      "text/plain": [
       "{'scenario1': {'name': 'root',\n",
       "  'results': {'co2': {'unit': 'kg', 'magnitude': 200.0}},\n",
       "  'output': [{'unit': 'kilogram', 'magnitude': 100.0, 'label': None},\n",
       "   {'unit': 'liter', 'magnitude': 100.0, 'label': None}],\n",
       "  'children': [{'name': 'n1',\n",
       "    'results': {'co2': {'unit': 'kg', 'magnitude': 100.0}},\n",
       "    'output': [{'unit': 'kg', 'magnitude': 100.0, 'label': None}]},\n",
       "   {'name': 'n2',\n",
       "    'results': {'co2': {'unit': 'kg', 'magnitude': 100.0}},\n",
       "    'output': [{'unit': 'l', 'magnitude': 100.0, 'label': None}]}]}}"
      ]
     },
     "execution_count": 2,
     "metadata": {},
     "output_type": "execute_result"
    }
   ],
   "execution_count": 2
  },
  {
   "metadata": {},
   "cell_type": "markdown",
   "source": "Now, we add one aggregator to our experiment config and point to the module path of our new aggregator. Rerunning this, will not change anything. The aggregator is integrated into the config, and loaded, but no node makes use of it.",
   "id": "c9a7e16ff7460604"
  },
  {
   "metadata": {
    "ExecuteTime": {
     "end_time": "2024-05-13T09:04:25.973566Z",
     "start_time": "2024-05-13T09:04:25.960200Z"
    }
   },
   "cell_type": "code",
   "source": [
    "path_string = module_path.as_posix()\n",
    "\n",
    "exp_config[\"aggregators\"] = [\n",
    "    {\"aggregator_name\": \"sum-threshold\", \"module_path\": path_string}\n",
    "]\n",
    "\n",
    "exp = Experiment(exp_config)\n",
    "exp.run()"
   ],
   "id": "eb8874ecde3fbcaa",
   "outputs": [
    {
     "name": "stdout",
     "output_type": "stream",
     "text": [
      "2024-05-13 11:04:25,969 - demos.enbios.base - INFO - Running scenario 'scenario1'\n"
     ]
    },
    {
     "data": {
      "text/plain": [
       "{'scenario1': {'name': 'root',\n",
       "  'results': {'co2': {'unit': 'kg', 'magnitude': 200.0}},\n",
       "  'output': [{'unit': 'kilogram', 'magnitude': 100.0, 'label': None},\n",
       "   {'unit': 'liter', 'magnitude': 100.0, 'label': None}],\n",
       "  'children': [{'name': 'n1',\n",
       "    'results': {'co2': {'unit': 'kg', 'magnitude': 100.0}},\n",
       "    'output': [{'unit': 'kg', 'magnitude': 100.0, 'label': None}]},\n",
       "   {'name': 'n2',\n",
       "    'results': {'co2': {'unit': 'kg', 'magnitude': 100.0}},\n",
       "    'output': [{'unit': 'l', 'magnitude': 100.0, 'label': None}]}]}}"
      ]
     },
     "execution_count": 3,
     "metadata": {},
     "output_type": "execute_result"
    }
   ],
   "execution_count": 3
  },
  {
   "metadata": {},
   "cell_type": "markdown",
   "source": "Now, let's add the aggregator to the root node and specify a threshold for the `co2` method.",
   "id": "8d9fdfe8c9cd901d"
  },
  {
   "metadata": {
    "ExecuteTime": {
     "end_time": "2024-05-13T09:04:25.985594Z",
     "start_time": "2024-05-13T09:04:25.975255Z"
    }
   },
   "cell_type": "code",
   "source": [
    "exp_config[\"hierarchy\"][\"aggregator\"] = \"threshold\"\n",
    "exp_config[\"hierarchy\"][\"config\"] = {\n",
    "    \"method_thresholds\": [{\"method\": \"co2\", \"threshold\": 300}]\n",
    "}\n",
    "\n",
    "exp = Experiment(exp_config)\n",
    "result = exp.run()\n",
    "result"
   ],
   "id": "24bb1657f77b4922",
   "outputs": [
    {
     "name": "stdout",
     "output_type": "stream",
     "text": [
      "2024-05-13 11:04:25,981 - demos.enbios.base - INFO - Running scenario 'scenario1'\n"
     ]
    },
    {
     "data": {
      "text/plain": [
       "{'scenario1': {'name': 'root',\n",
       "  'results': {'co2': {'unit': 'kg', 'magnitude': 200.0}},\n",
       "  'output': [{'unit': 'kilogram', 'magnitude': 100.0, 'label': None},\n",
       "   {'unit': 'liter', 'magnitude': 100.0, 'label': None}],\n",
       "  'threshold_results': {'co2': False},\n",
       "  'children': [{'name': 'n1',\n",
       "    'results': {'co2': {'unit': 'kg', 'magnitude': 100.0}},\n",
       "    'output': [{'unit': 'kg', 'magnitude': 100.0, 'label': None}]},\n",
       "   {'name': 'n2',\n",
       "    'results': {'co2': {'unit': 'kg', 'magnitude': 100.0}},\n",
       "    'output': [{'unit': 'l', 'magnitude': 100.0, 'label': None}]}]}}"
      ]
     },
     "execution_count": 4,
     "metadata": {},
     "output_type": "execute_result"
    }
   ],
   "execution_count": 4
  },
  {
   "metadata": {
    "ExecuteTime": {
     "end_time": "2024-05-13T09:04:25.990683Z",
     "start_time": "2024-05-13T09:04:25.986895Z"
    }
   },
   "cell_type": "code",
   "source": "result[\"scenario1\"][\"threshold_results\"]",
   "id": "f465402db2aa64bf",
   "outputs": [
    {
     "data": {
      "text/plain": [
       "{'co2': False}"
      ]
     },
     "execution_count": 5,
     "metadata": {},
     "output_type": "execute_result"
    }
   ],
   "execution_count": 5
  },
  {
   "metadata": {
    "ExecuteTime": {
     "end_time": "2024-05-13T09:04:26.011604Z",
     "start_time": "2024-05-13T09:04:25.991751Z"
    }
   },
   "cell_type": "code",
   "source": [
    "exp.results_to_csv(\"temp.csv\", flat_hierarchy=True)\n",
    "\n",
    "pd.read_csv(\"temp.csv\").fillna(\"\")"
   ],
   "id": "2e3bd3869c493821",
   "outputs": [
    {
     "data": {
      "text/plain": [
       "  node_name  level parent_name results_co2_unit  results_co2_magnitude  \\\n",
       "0      root      0                           kg                  200.0   \n",
       "1        n1      1        root               kg                  100.0   \n",
       "2        n2      1        root               kg                  100.0   \n",
       "\n",
       "  output_0_unit  output_0_magnitude output_0_label output_1_unit  \\\n",
       "0      kilogram               100.0                        liter   \n",
       "1            kg               100.0                                \n",
       "2             l               100.0                                \n",
       "\n",
       "  output_1_magnitude output_1_label threshold_results_co2  \n",
       "0              100.0                                False  \n",
       "1                                                          \n",
       "2                                                          "
      ],
      "text/html": [
       "<div>\n",
       "<style scoped>\n",
       "    .dataframe tbody tr th:only-of-type {\n",
       "        vertical-align: middle;\n",
       "    }\n",
       "\n",
       "    .dataframe tbody tr th {\n",
       "        vertical-align: top;\n",
       "    }\n",
       "\n",
       "    .dataframe thead th {\n",
       "        text-align: right;\n",
       "    }\n",
       "</style>\n",
       "<table border=\"1\" class=\"dataframe\">\n",
       "  <thead>\n",
       "    <tr style=\"text-align: right;\">\n",
       "      <th></th>\n",
       "      <th>node_name</th>\n",
       "      <th>level</th>\n",
       "      <th>parent_name</th>\n",
       "      <th>results_co2_unit</th>\n",
       "      <th>results_co2_magnitude</th>\n",
       "      <th>output_0_unit</th>\n",
       "      <th>output_0_magnitude</th>\n",
       "      <th>output_0_label</th>\n",
       "      <th>output_1_unit</th>\n",
       "      <th>output_1_magnitude</th>\n",
       "      <th>output_1_label</th>\n",
       "      <th>threshold_results_co2</th>\n",
       "    </tr>\n",
       "  </thead>\n",
       "  <tbody>\n",
       "    <tr>\n",
       "      <th>0</th>\n",
       "      <td>root</td>\n",
       "      <td>0</td>\n",
       "      <td></td>\n",
       "      <td>kg</td>\n",
       "      <td>200.0</td>\n",
       "      <td>kilogram</td>\n",
       "      <td>100.0</td>\n",
       "      <td></td>\n",
       "      <td>liter</td>\n",
       "      <td>100.0</td>\n",
       "      <td></td>\n",
       "      <td>False</td>\n",
       "    </tr>\n",
       "    <tr>\n",
       "      <th>1</th>\n",
       "      <td>n1</td>\n",
       "      <td>1</td>\n",
       "      <td>root</td>\n",
       "      <td>kg</td>\n",
       "      <td>100.0</td>\n",
       "      <td>kg</td>\n",
       "      <td>100.0</td>\n",
       "      <td></td>\n",
       "      <td></td>\n",
       "      <td></td>\n",
       "      <td></td>\n",
       "      <td></td>\n",
       "    </tr>\n",
       "    <tr>\n",
       "      <th>2</th>\n",
       "      <td>n2</td>\n",
       "      <td>1</td>\n",
       "      <td>root</td>\n",
       "      <td>kg</td>\n",
       "      <td>100.0</td>\n",
       "      <td>l</td>\n",
       "      <td>100.0</td>\n",
       "      <td></td>\n",
       "      <td></td>\n",
       "      <td></td>\n",
       "      <td></td>\n",
       "      <td></td>\n",
       "    </tr>\n",
       "  </tbody>\n",
       "</table>\n",
       "</div>"
      ]
     },
     "execution_count": 6,
     "metadata": {},
     "output_type": "execute_result"
    }
   ],
   "execution_count": 6
  },
  {
   "metadata": {
    "ExecuteTime": {
     "end_time": "2024-05-13T09:04:26.020428Z",
     "start_time": "2024-05-13T09:04:26.012517Z"
    }
   },
   "cell_type": "code",
   "source": [
    "# this is the whole module content:\n",
    "\n",
    "from typing import Any\n",
    "\n",
    "from pydantic import BaseModel, Field\n",
    "\n",
    "from enbios import BasicTreeNode, ScenarioResultNodeData, ResultValue\n",
    "from enbios.base.adapters_aggregators.builtin import SumAggregator\n",
    "\n",
    "\n",
    "class MethodThreshold(BaseModel):\n",
    "    method: str\n",
    "    threshold: float\n",
    "\n",
    "\n",
    "class NodeThresholdConfig(BaseModel):\n",
    "    method_thresholds: list[MethodThreshold] = Field(default_factory=list)\n",
    "\n",
    "\n",
    "class ThresholdAggregator(SumAggregator):\n",
    "    def __init__(self):\n",
    "        super().__init__()\n",
    "        self.node_thresholds: dict[str, NodeThresholdConfig] = {}\n",
    "        self.threshold_results: dict[str, dict[str, bool]] = {}\n",
    "\n",
    "    def validate_node(self, node_name: str, node_config: Any):\n",
    "        if node_config:\n",
    "            self.node_thresholds[node_name] = NodeThresholdConfig.model_validate(\n",
    "                node_config\n",
    "            )\n",
    "\n",
    "    def name(self) -> str:\n",
    "        return \"sum-threshold-aggregator\"\n",
    "\n",
    "    def node_indicator(self) -> str:\n",
    "        return \"threshold\"\n",
    "\n",
    "    def aggregate_node_result(\n",
    "        self, node: BasicTreeNode[ScenarioResultNodeData], scenario_name: str\n",
    "    ) -> dict[str, ResultValue]:\n",
    "        sum_ = super().aggregate_node_result(node, scenario_name)\n",
    "        if node.name in self.node_thresholds:\n",
    "            node_thresholds = self.node_thresholds[node.name]\n",
    "            self.threshold_results[node.name] = {}\n",
    "            for method_threshold in node_thresholds.method_thresholds:\n",
    "                if method_threshold.method in sum_:\n",
    "                    method = method_threshold.method\n",
    "                    self.threshold_results[node.name][method] = (\n",
    "                        sum_[method].magnitude >= method_threshold.threshold\n",
    "                    )\n",
    "        return sum_\n",
    "\n",
    "    def result_extras(self, node_name: str, scenario_name: str) -> dict[str, Any]:\n",
    "        results = self.threshold_results.get(node_name, {})\n",
    "        if results:\n",
    "            return {\"threshold_results\": results}\n",
    "        else:\n",
    "            return {}"
   ],
   "id": "703f28d7cf71e479",
   "outputs": [],
   "execution_count": 7
  },
  {
   "metadata": {},
   "cell_type": "markdown",
   "source": [
    "The aggregator itself requires no specific configuration. However, we need the aggregator to store the configs for the nodes, where we want to use thresholds. To guarantee the node-config valdity, we add two model classes (pydantic BaseModels) which will take care of the validation for us. Each nodes config can have a list of `MethodThreshold` objects (which will be created from the dictionaries we pass). \n",
    "\n",
    "In the `validate_node` method, we store the config in a dictionary, where the key is the nodes name and the config is the `NodeThresholdConfig` object.\n",
    "\n",
    "In the constructor we also create a dictionary (`threshold_results`), where we will store the results of the threshold checks.\n",
    "The most crucial function that we overwrite is `aggregate_node_result`. However, the first thing we do in here, is to call `super().aggregate_node_result(node)` that means we calculate the result aggregation of the node, with the sum aggregator. Afterward, if the node specifies any thresholds in its configs, we iterate and check those and assign the results to the `threshold_results` dictionary.\n",
    "\n",
    "Finally, the `result_extras`, we return the results for each node in the `threshold_results` dictionary.\n",
    "\n",
    "\n"
   ],
   "id": "74c16a893bd7a278"
  },
  {
   "metadata": {
    "ExecuteTime": {
     "end_time": "2024-05-13T09:04:26.029346Z",
     "start_time": "2024-05-13T09:04:26.021518Z"
    }
   },
   "cell_type": "code",
   "source": [
    "exp_config[\"scenarios\"].append(\n",
    "    {\n",
    "        \"name\": \"scenario2\",\n",
    "        \"nodes\": {\n",
    "            \"n1\": {\n",
    "                \"outputs\": [{\"magnitude\": 190}],\n",
    "                \"impacts\": {\"co2\": {\"unit\": \"kg\", \"magnitude\": 200}},\n",
    "            },\n",
    "            \"n2\": {\n",
    "                \"outputs\": [{\"magnitude\": 300}],\n",
    "                \"impacts\": {\"co2\": {\"unit\": \"kg\", \"magnitude\": 500}},\n",
    "            },\n",
    "        },\n",
    "    }\n",
    ")"
   ],
   "id": "9aebd3bec28988ab",
   "outputs": [],
   "execution_count": 8
  },
  {
   "metadata": {
    "ExecuteTime": {
     "end_time": "2024-05-13T09:04:26.052527Z",
     "start_time": "2024-05-13T09:04:26.030843Z"
    }
   },
   "cell_type": "code",
   "source": [
    "# running the epxperiment again with the second scenario included, we see that in the case of the second scenario, the threshold is surpassed and the threshold value is marked True .\n",
    "exp = Experiment(exp_config)\n",
    "exp.run()\n",
    "\n",
    "exp.results_to_csv(\n",
    "    \"temp.csv\", flat_hierarchy=True, include_output=False, include_method_units=False\n",
    ")\n",
    "\n",
    "pd.read_csv(\"temp.csv\").fillna(\"\")"
   ],
   "id": "ea87734f912f51ca",
   "outputs": [
    {
     "name": "stdout",
     "output_type": "stream",
     "text": [
      "2024-05-13 11:04:26,042 - demos.enbios.base - INFO - Running scenario 'scenario1'\n",
      "2024-05-13 11:04:26,043 - demos.enbios.base - INFO - Running scenario 'scenario2'\n"
     ]
    },
    {
     "data": {
      "text/plain": [
       "    scenario node_name  level parent_name  results_co2_magnitude  \\\n",
       "0  scenario1      root      0                              200.0   \n",
       "1  scenario1        n1      1        root                  100.0   \n",
       "2  scenario1        n2      1        root                  100.0   \n",
       "3  scenario2      root      0                              700.0   \n",
       "4  scenario2        n1      1        root                  200.0   \n",
       "5  scenario2        n2      1        root                  500.0   \n",
       "\n",
       "  threshold_results_co2  \n",
       "0                 False  \n",
       "1                        \n",
       "2                        \n",
       "3                  True  \n",
       "4                        \n",
       "5                        "
      ],
      "text/html": [
       "<div>\n",
       "<style scoped>\n",
       "    .dataframe tbody tr th:only-of-type {\n",
       "        vertical-align: middle;\n",
       "    }\n",
       "\n",
       "    .dataframe tbody tr th {\n",
       "        vertical-align: top;\n",
       "    }\n",
       "\n",
       "    .dataframe thead th {\n",
       "        text-align: right;\n",
       "    }\n",
       "</style>\n",
       "<table border=\"1\" class=\"dataframe\">\n",
       "  <thead>\n",
       "    <tr style=\"text-align: right;\">\n",
       "      <th></th>\n",
       "      <th>scenario</th>\n",
       "      <th>node_name</th>\n",
       "      <th>level</th>\n",
       "      <th>parent_name</th>\n",
       "      <th>results_co2_magnitude</th>\n",
       "      <th>threshold_results_co2</th>\n",
       "    </tr>\n",
       "  </thead>\n",
       "  <tbody>\n",
       "    <tr>\n",
       "      <th>0</th>\n",
       "      <td>scenario1</td>\n",
       "      <td>root</td>\n",
       "      <td>0</td>\n",
       "      <td></td>\n",
       "      <td>200.0</td>\n",
       "      <td>False</td>\n",
       "    </tr>\n",
       "    <tr>\n",
       "      <th>1</th>\n",
       "      <td>scenario1</td>\n",
       "      <td>n1</td>\n",
       "      <td>1</td>\n",
       "      <td>root</td>\n",
       "      <td>100.0</td>\n",
       "      <td></td>\n",
       "    </tr>\n",
       "    <tr>\n",
       "      <th>2</th>\n",
       "      <td>scenario1</td>\n",
       "      <td>n2</td>\n",
       "      <td>1</td>\n",
       "      <td>root</td>\n",
       "      <td>100.0</td>\n",
       "      <td></td>\n",
       "    </tr>\n",
       "    <tr>\n",
       "      <th>3</th>\n",
       "      <td>scenario2</td>\n",
       "      <td>root</td>\n",
       "      <td>0</td>\n",
       "      <td></td>\n",
       "      <td>700.0</td>\n",
       "      <td>True</td>\n",
       "    </tr>\n",
       "    <tr>\n",
       "      <th>4</th>\n",
       "      <td>scenario2</td>\n",
       "      <td>n1</td>\n",
       "      <td>1</td>\n",
       "      <td>root</td>\n",
       "      <td>200.0</td>\n",
       "      <td></td>\n",
       "    </tr>\n",
       "    <tr>\n",
       "      <th>5</th>\n",
       "      <td>scenario2</td>\n",
       "      <td>n2</td>\n",
       "      <td>1</td>\n",
       "      <td>root</td>\n",
       "      <td>500.0</td>\n",
       "      <td></td>\n",
       "    </tr>\n",
       "  </tbody>\n",
       "</table>\n",
       "</div>"
      ]
     },
     "execution_count": 9,
     "metadata": {},
     "output_type": "execute_result"
    }
   ],
   "execution_count": 9
  },
  {
   "metadata": {},
   "cell_type": "markdown",
   "source": "Following we make some adjustments to our experiment. We use a modified version of the threshold-aggregotor. We extend it, in such a way, that the threshold can be specified for each scenario. A scenario config for a node using the scenario-sum-threshold aggregator can pass the same threshold config as in the hierarchy. The config in the hierarchy will be used as a default, but if specified in a scenario config, a node will use those configs. We can now pass a new config for the root node for `scenario2`, where we specify a higher threshold for co2.",
   "id": "70de1093d815435f"
  },
  {
   "metadata": {
    "ExecuteTime": {
     "end_time": "2024-05-13T09:15:46.655017Z",
     "start_time": "2024-05-13T09:15:46.556898Z"
    }
   },
   "cell_type": "code",
   "source": [
    "exp_config[\"aggregators\"][0] = {\n",
    "    \"aggregator_name\": \"scenario-sum-threshold\",\n",
    "    \"module_path\": Path() / \"data/threshold_aggregator_scenarios.py\",\n",
    "}\n",
    "\n",
    "exp_config[\"hierarchy\"][\"aggregator\"] = \"scenario-threshold\"\n",
    "\n",
    "exp_config[\"scenarios\"][1][\"nodes\"][\"root\"] = {\n",
    "    \"method_thresholds\": [{\"method\": \"co2\", \"threshold\": 1000}]\n",
    "}\n",
    "\n",
    "exp = Experiment(exp_config)\n",
    "exp.run()\n",
    "\n",
    "exp.results_to_csv(\n",
    "    \"temp.csv\", flat_hierarchy=True, include_output=False, include_method_units=False\n",
    ")\n",
    "pd.read_csv(\"temp.csv\").fillna(\"\")"
   ],
   "id": "20e917a75d19160c",
   "outputs": [
    {
     "name": "stdout",
     "output_type": "stream",
     "text": [
      "2024-05-13 11:15:46,598 - demos.enbios.base - INFO - Running scenario 'scenario1'\n",
      "2024-05-13 11:15:46,605 - demos.enbios.base - INFO - Running scenario 'scenario2'\n"
     ]
    },
    {
     "data": {
      "text/plain": [
       "    scenario node_name  level parent_name  results_co2_magnitude  \\\n",
       "0  scenario1      root      0                              200.0   \n",
       "1  scenario1        n1      1        root                  100.0   \n",
       "2  scenario1        n2      1        root                  100.0   \n",
       "3  scenario2      root      0                              700.0   \n",
       "4  scenario2        n1      1        root                  200.0   \n",
       "5  scenario2        n2      1        root                  500.0   \n",
       "\n",
       "  threshold_results_co2  \n",
       "0                 False  \n",
       "1                        \n",
       "2                        \n",
       "3                 False  \n",
       "4                        \n",
       "5                        "
      ],
      "text/html": [
       "<div>\n",
       "<style scoped>\n",
       "    .dataframe tbody tr th:only-of-type {\n",
       "        vertical-align: middle;\n",
       "    }\n",
       "\n",
       "    .dataframe tbody tr th {\n",
       "        vertical-align: top;\n",
       "    }\n",
       "\n",
       "    .dataframe thead th {\n",
       "        text-align: right;\n",
       "    }\n",
       "</style>\n",
       "<table border=\"1\" class=\"dataframe\">\n",
       "  <thead>\n",
       "    <tr style=\"text-align: right;\">\n",
       "      <th></th>\n",
       "      <th>scenario</th>\n",
       "      <th>node_name</th>\n",
       "      <th>level</th>\n",
       "      <th>parent_name</th>\n",
       "      <th>results_co2_magnitude</th>\n",
       "      <th>threshold_results_co2</th>\n",
       "    </tr>\n",
       "  </thead>\n",
       "  <tbody>\n",
       "    <tr>\n",
       "      <th>0</th>\n",
       "      <td>scenario1</td>\n",
       "      <td>root</td>\n",
       "      <td>0</td>\n",
       "      <td></td>\n",
       "      <td>200.0</td>\n",
       "      <td>False</td>\n",
       "    </tr>\n",
       "    <tr>\n",
       "      <th>1</th>\n",
       "      <td>scenario1</td>\n",
       "      <td>n1</td>\n",
       "      <td>1</td>\n",
       "      <td>root</td>\n",
       "      <td>100.0</td>\n",
       "      <td></td>\n",
       "    </tr>\n",
       "    <tr>\n",
       "      <th>2</th>\n",
       "      <td>scenario1</td>\n",
       "      <td>n2</td>\n",
       "      <td>1</td>\n",
       "      <td>root</td>\n",
       "      <td>100.0</td>\n",
       "      <td></td>\n",
       "    </tr>\n",
       "    <tr>\n",
       "      <th>3</th>\n",
       "      <td>scenario2</td>\n",
       "      <td>root</td>\n",
       "      <td>0</td>\n",
       "      <td></td>\n",
       "      <td>700.0</td>\n",
       "      <td>False</td>\n",
       "    </tr>\n",
       "    <tr>\n",
       "      <th>4</th>\n",
       "      <td>scenario2</td>\n",
       "      <td>n1</td>\n",
       "      <td>1</td>\n",
       "      <td>root</td>\n",
       "      <td>200.0</td>\n",
       "      <td></td>\n",
       "    </tr>\n",
       "    <tr>\n",
       "      <th>5</th>\n",
       "      <td>scenario2</td>\n",
       "      <td>n2</td>\n",
       "      <td>1</td>\n",
       "      <td>root</td>\n",
       "      <td>500.0</td>\n",
       "      <td></td>\n",
       "    </tr>\n",
       "  </tbody>\n",
       "</table>\n",
       "</div>"
      ]
     },
     "execution_count": 13,
     "metadata": {},
     "output_type": "execute_result"
    }
   ],
   "execution_count": 13
  }
 ],
 "metadata": {
  "kernelspec": {
   "display_name": "Python 3",
   "language": "python",
   "name": "python3"
  },
  "language_info": {
   "codemirror_mode": {
    "name": "ipython",
    "version": 2
   },
   "file_extension": ".py",
   "mimetype": "text/x-python",
   "name": "python",
   "nbconvert_exporter": "python",
   "pygments_lexer": "ipython2",
   "version": "2.7.6"
  }
 },
 "nbformat": 4,
 "nbformat_minor": 5
}
