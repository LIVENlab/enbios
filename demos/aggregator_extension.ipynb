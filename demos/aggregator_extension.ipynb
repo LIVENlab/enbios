{
 "cells": [
  {
   "metadata": {},
   "cell_type": "markdown",
   "source": [
    "# Writing a custom aggregator\n",
    "\n",
    "In this demo, we have a look on how to write a new aggregator and include it into enbios.\n",
    "\n",
    "We actually are not gonna write a whole new Aggregator class from scratch, but create one derrived from the already existing SumAggregator class.\n",
    "If you are not familiar with the concept of class inheritence, you can read about it here [python class inheritance](https://docs.python.org/3/tutorial/classes.html#inheritance) or with a [simple explanation here](https://pythonbasics.org/inheritance/).\n",
    "\n",
    "In our example that means that our new aggregator (ThresholdAggregator) will behave in exactly the same way as the SumAggregator, but except when we define it to do otherwise.\n",
    "\n",
    "In this example we create an aggregator that behaves exactly like the SumAggreagator, but for nodes using this aggregator, we can define specific thresholds for its methods, and the result-data will include boolean values, which indicate if the threshold is exceeded or not. Therefor we do not change the results in any way but augment it with additional information.\n",
    "\n",
    "Since each new aggregator (and adapter) that we want to add to enbios we neet to provide the path to the module (python file) containing the aggregator class. You can find the `threshold_aggregator.py` file in the `data` directory of this demo folder of this repository."
   ],
   "id": "2abbdcb7ceaf2445"
  },
  {
   "metadata": {
    "ExecuteTime": {
     "end_time": "2024-05-07T12:55:49.161710Z",
     "start_time": "2024-05-07T12:55:49.153529Z"
    }
   },
   "cell_type": "code",
   "source": [
    "from pathlib import Path\n",
    "\n",
    "module_path = Path() / \"data/threshold_aggregator.py\"\n",
    "module_path.exists()"
   ],
   "id": "8015f2a28173909",
   "outputs": [
    {
     "data": {
      "text/plain": [
       "True"
      ]
     },
     "execution_count": 1,
     "metadata": {},
     "output_type": "execute_result"
    }
   ],
   "execution_count": 1
  },
  {
   "metadata": {},
   "cell_type": "markdown",
   "source": "Let's begin by defining a simple experiment config. We are using the assignment adapter, so that the calculation of the results takes no additional time. ",
   "id": "1f0cf7d5877d1a17"
  },
  {
   "metadata": {
    "ExecuteTime": {
     "end_time": "2024-05-07T12:55:52.854387Z",
     "start_time": "2024-05-07T12:55:51.196466Z"
    }
   },
   "cell_type": "code",
   "source": [
    "from enbios import Experiment\n",
    "\n",
    "exp_config = {\n",
    "    \"adapters\": [\n",
    "        {\n",
    "            \"adapter_name\": \"assignment-adapter\",\n",
    "            \"methods\": {\n",
    "                \"co2\": \"kg\"\n",
    "            }\n",
    "        }\n",
    "    ],\n",
    "    \"hierarchy\": {\n",
    "        \"name\": \"root\",\n",
    "        \"aggregator\": \"sum\",\n",
    "        \"children\": [\n",
    "            {\n",
    "                \"name\": \"n1\",\n",
    "                \"adapter\": \"assign\",\n",
    "                \"config\": {\n",
    "                    \"outputs\": [{\"unit\": \"kg\"}]\n",
    "                }\n",
    "            },\n",
    "            {\n",
    "                \"name\": \"n2\",\n",
    "                \"adapter\": \"assign\",\n",
    "                \"config\": {\n",
    "                    \"outputs\": [{\"unit\": \"l\"}]\n",
    "                }\n",
    "            }\n",
    "        ]\n",
    "    },\n",
    "    \"scenarios\": [\n",
    "        {\n",
    "            \"name\": \"scenario1\",\n",
    "            \"nodes\": {\n",
    "                \"n1\": {\n",
    "                    \"outputs\": [{\"magnitude\": 100}],\n",
    "                    \"impacts\": {\n",
    "                        \"co2\": {\"unit\": \"kg\", \"magnitude\": 100}\n",
    "                    }\n",
    "                },\n",
    "                \"n2\": {\n",
    "                    \"outputs\": [{\"magnitude\": 100}],\n",
    "                    \"impacts\": {\n",
    "                        \"co2\": {\"unit\": \"kg\", \"magnitude\": 100}\n",
    "                    }\n",
    "                }\n",
    "            }\n",
    "        }\n",
    "    ]\n",
    "}\n",
    "\n",
    "Experiment(exp_config).run()"
   ],
   "id": "initial_id",
   "outputs": [
    {
     "name": "stdout",
     "output_type": "stream",
     "text": [
      "2024-05-07 14:55:52,850 - demos.enbios.base - INFO - Running scenario 'scenario1'\n"
     ]
    },
    {
     "data": {
      "text/plain": [
       "{'scenario1': {'name': 'root',\n",
       "  'results': {'co2': {'unit': 'kg', 'magnitude': 200.0}},\n",
       "  'output': [{'unit': 'kilogram', 'magnitude': 100.0, 'label': None},\n",
       "   {'unit': 'liter', 'magnitude': 100.0, 'label': None}],\n",
       "  'children': [{'name': 'n1',\n",
       "    'results': {'co2': {'unit': 'kg', 'magnitude': 100.0}},\n",
       "    'output': [{'unit': 'kg', 'magnitude': 100.0, 'label': None}]},\n",
       "   {'name': 'n2',\n",
       "    'results': {'co2': {'unit': 'kg', 'magnitude': 100.0}},\n",
       "    'output': [{'unit': 'l', 'magnitude': 100.0, 'label': None}]}]}}"
      ]
     },
     "execution_count": 2,
     "metadata": {},
     "output_type": "execute_result"
    }
   ],
   "execution_count": 2
  },
  {
   "metadata": {},
   "cell_type": "markdown",
   "source": "Now, we add one aggregator to our experiment config and point to the module path of our new aggregator. Rerunning this, will not change anything. The aggregator is integrated into the config, and loaded, but no node makes use of it.",
   "id": "c9a7e16ff7460604"
  },
  {
   "metadata": {
    "ExecuteTime": {
     "end_time": "2024-05-07T12:55:55.725207Z",
     "start_time": "2024-05-07T12:55:55.704390Z"
    }
   },
   "cell_type": "code",
   "source": [
    "path_string = module_path.as_posix()\n",
    "\n",
    "exp_config[\"aggregators\"] = [{\n",
    "    \"aggregator_name\": \"sum-threshold\",\n",
    "    \"module_path\": path_string\n",
    "}]\n",
    "\n",
    "exp = Experiment(exp_config)\n",
    "exp.run()"
   ],
   "id": "eb8874ecde3fbcaa",
   "outputs": [
    {
     "name": "stdout",
     "output_type": "stream",
     "text": [
      "2024-05-07 14:55:55,720 - demos.enbios.base - INFO - Running scenario 'scenario1'\n"
     ]
    },
    {
     "data": {
      "text/plain": [
       "{'scenario1': {'name': 'root',\n",
       "  'results': {'co2': {'unit': 'kg', 'magnitude': 200.0}},\n",
       "  'output': [{'unit': 'kilogram', 'magnitude': 100.0, 'label': None},\n",
       "   {'unit': 'liter', 'magnitude': 100.0, 'label': None}],\n",
       "  'children': [{'name': 'n1',\n",
       "    'results': {'co2': {'unit': 'kg', 'magnitude': 100.0}},\n",
       "    'output': [{'unit': 'kg', 'magnitude': 100.0, 'label': None}]},\n",
       "   {'name': 'n2',\n",
       "    'results': {'co2': {'unit': 'kg', 'magnitude': 100.0}},\n",
       "    'output': [{'unit': 'l', 'magnitude': 100.0, 'label': None}]}]}}"
      ]
     },
     "execution_count": 3,
     "metadata": {},
     "output_type": "execute_result"
    }
   ],
   "execution_count": 3
  },
  {
   "metadata": {},
   "cell_type": "markdown",
   "source": "Now, let's add the aggregator to the root node and specify a threshold for the `co2` method.",
   "id": "8d9fdfe8c9cd901d"
  },
  {
   "metadata": {
    "ExecuteTime": {
     "end_time": "2024-05-07T12:56:17.401809Z",
     "start_time": "2024-05-07T12:56:17.381833Z"
    }
   },
   "cell_type": "code",
   "source": [
    "exp_config[\"hierarchy\"][\"aggregator\"] = \"threshold\"\n",
    "exp_config[\"hierarchy\"][\"config\"] = {\n",
    "    \"method_thresholds\": [{\n",
    "        \"method\": \"co2\",\n",
    "        \"threshold\": 200\n",
    "    }]\n",
    "}\n",
    "\n",
    "exp = Experiment(exp_config)\n",
    "result = exp.run()\n",
    "result"
   ],
   "id": "24bb1657f77b4922",
   "outputs": [
    {
     "name": "stdout",
     "output_type": "stream",
     "text": [
      "2024-05-07 14:56:17,396 - demos.enbios.base - INFO - Running scenario 'scenario1'\n"
     ]
    },
    {
     "data": {
      "text/plain": [
       "{'scenario1': {'name': 'root',\n",
       "  'results': {'co2': {'unit': 'kg', 'magnitude': 200.0}},\n",
       "  'output': [{'unit': 'kilogram', 'magnitude': 100.0, 'label': None},\n",
       "   {'unit': 'liter', 'magnitude': 100.0, 'label': None}],\n",
       "  'threshold_results': {'co2': True},\n",
       "  'children': [{'name': 'n1',\n",
       "    'results': {'co2': {'unit': 'kg', 'magnitude': 100.0}},\n",
       "    'output': [{'unit': 'kg', 'magnitude': 100.0, 'label': None}]},\n",
       "   {'name': 'n2',\n",
       "    'results': {'co2': {'unit': 'kg', 'magnitude': 100.0}},\n",
       "    'output': [{'unit': 'l', 'magnitude': 100.0, 'label': None}]}]}}"
      ]
     },
     "execution_count": 6,
     "metadata": {},
     "output_type": "execute_result"
    }
   ],
   "execution_count": 6
  },
  {
   "metadata": {
    "ExecuteTime": {
     "end_time": "2024-05-07T12:56:32.961141Z",
     "start_time": "2024-05-07T12:56:32.957684Z"
    }
   },
   "cell_type": "code",
   "source": "result[\"scenario1\"][\"threshold_results\"]",
   "id": "f465402db2aa64bf",
   "outputs": [
    {
     "data": {
      "text/plain": [
       "{'co2': True}"
      ]
     },
     "execution_count": 8,
     "metadata": {},
     "output_type": "execute_result"
    }
   ],
   "execution_count": 8
  },
  {
   "metadata": {
    "ExecuteTime": {
     "end_time": "2024-05-07T11:22:01.994059Z",
     "start_time": "2024-05-07T11:22:01.982934Z"
    }
   },
   "cell_type": "code",
   "source": [
    "exp.results_to_csv(\"temp.csv\", flat_hierarchy=True)\n",
    "import pandas as pd\n",
    "\n",
    "pd.read_csv(\"temp.csv\").fillna(\"\")"
   ],
   "id": "2e3bd3869c493821",
   "outputs": [
    {
     "data": {
      "text/plain": [
       "  node_name  level parent_name results_co2_unit  results_co2_magnitude  \\\n",
       "0      root      0                           kg                  200.0   \n",
       "1        n1      1        root               kg                  100.0   \n",
       "2        n2      1        root               kg                  100.0   \n",
       "\n",
       "  output_0_unit  output_0_magnitude output_0_label output_1_unit  \\\n",
       "0      kilogram               100.0                        liter   \n",
       "1            kg               100.0                                \n",
       "2             l               100.0                                \n",
       "\n",
       "  output_1_magnitude output_1_label threshold_results_co2  \n",
       "0              100.0                                 True  \n",
       "1                                                          \n",
       "2                                                          "
      ],
      "text/html": [
       "<div>\n",
       "<style scoped>\n",
       "    .dataframe tbody tr th:only-of-type {\n",
       "        vertical-align: middle;\n",
       "    }\n",
       "\n",
       "    .dataframe tbody tr th {\n",
       "        vertical-align: top;\n",
       "    }\n",
       "\n",
       "    .dataframe thead th {\n",
       "        text-align: right;\n",
       "    }\n",
       "</style>\n",
       "<table border=\"1\" class=\"dataframe\">\n",
       "  <thead>\n",
       "    <tr style=\"text-align: right;\">\n",
       "      <th></th>\n",
       "      <th>node_name</th>\n",
       "      <th>level</th>\n",
       "      <th>parent_name</th>\n",
       "      <th>results_co2_unit</th>\n",
       "      <th>results_co2_magnitude</th>\n",
       "      <th>output_0_unit</th>\n",
       "      <th>output_0_magnitude</th>\n",
       "      <th>output_0_label</th>\n",
       "      <th>output_1_unit</th>\n",
       "      <th>output_1_magnitude</th>\n",
       "      <th>output_1_label</th>\n",
       "      <th>threshold_results_co2</th>\n",
       "    </tr>\n",
       "  </thead>\n",
       "  <tbody>\n",
       "    <tr>\n",
       "      <th>0</th>\n",
       "      <td>root</td>\n",
       "      <td>0</td>\n",
       "      <td></td>\n",
       "      <td>kg</td>\n",
       "      <td>200.0</td>\n",
       "      <td>kilogram</td>\n",
       "      <td>100.0</td>\n",
       "      <td></td>\n",
       "      <td>liter</td>\n",
       "      <td>100.0</td>\n",
       "      <td></td>\n",
       "      <td>True</td>\n",
       "    </tr>\n",
       "    <tr>\n",
       "      <th>1</th>\n",
       "      <td>n1</td>\n",
       "      <td>1</td>\n",
       "      <td>root</td>\n",
       "      <td>kg</td>\n",
       "      <td>100.0</td>\n",
       "      <td>kg</td>\n",
       "      <td>100.0</td>\n",
       "      <td></td>\n",
       "      <td></td>\n",
       "      <td></td>\n",
       "      <td></td>\n",
       "      <td></td>\n",
       "    </tr>\n",
       "    <tr>\n",
       "      <th>2</th>\n",
       "      <td>n2</td>\n",
       "      <td>1</td>\n",
       "      <td>root</td>\n",
       "      <td>kg</td>\n",
       "      <td>100.0</td>\n",
       "      <td>l</td>\n",
       "      <td>100.0</td>\n",
       "      <td></td>\n",
       "      <td></td>\n",
       "      <td></td>\n",
       "      <td></td>\n",
       "      <td></td>\n",
       "    </tr>\n",
       "  </tbody>\n",
       "</table>\n",
       "</div>"
      ]
     },
     "execution_count": 7,
     "metadata": {},
     "output_type": "execute_result"
    }
   ],
   "execution_count": 7
  },
  {
   "metadata": {},
   "cell_type": "code",
   "outputs": [],
   "execution_count": null,
   "source": [
    "#this is the whole module content:\n",
    "\n",
    "from typing import Any\n",
    "\n",
    "from pydantic import BaseModel, Field\n",
    "\n",
    "from enbios import BasicTreeNode, ScenarioResultNodeData, ResultValue\n",
    "from enbios.base.adapters_aggregators.builtin import SumAggregator\n",
    "\n",
    "\n",
    "class MethodThreshold(BaseModel):\n",
    "    method: str\n",
    "    threshold: float\n",
    "\n",
    "\n",
    "class NodeThresholdConfig(BaseModel):\n",
    "    method_thresholds: list[MethodThreshold] = Field(default_factory=list)\n",
    "\n",
    "\n",
    "class ThresholdAggregator(SumAggregator):\n",
    "\n",
    "    def __init__(self):\n",
    "        super().__init__()\n",
    "        self.node_thresholds: dict[str, NodeThresholdConfig] = {}\n",
    "        self.threshold_results: dict[str, dict[str, bool]] = {}\n",
    "\n",
    "    def validate_node(self, node_name: str, node_config: Any):\n",
    "        if node_config:\n",
    "            self.node_thresholds[node_name] = NodeThresholdConfig.model_validate(node_config)\n",
    "\n",
    "    def name(self) -> str:\n",
    "        return \"sum-threshold-aggregator\"\n",
    "\n",
    "    def node_indicator(self) -> str:\n",
    "        return \"threshold\"\n",
    "\n",
    "    def aggregate_node_result(\n",
    "            self, node: BasicTreeNode[ScenarioResultNodeData]\n",
    "    ) -> dict[str, ResultValue]:\n",
    "        sum_ = super().aggregate_node_result(node)\n",
    "        if node.name in self.node_thresholds:\n",
    "            node_thresholds = self.node_thresholds[node.name]\n",
    "            self.threshold_results[node.name] = {}\n",
    "            for method_threshold in node_thresholds.method_thresholds:\n",
    "                if method_threshold.method in sum_:\n",
    "                    method = method_threshold.method\n",
    "                    self.threshold_results[node.name][method] = sum_[method].magnitude >= method_threshold.threshold\n",
    "        return sum_\n",
    "\n",
    "    def result_extras(self, node_name: str) -> dict[str, Any]:\n",
    "        results = self.threshold_results.get(node_name, {})\n",
    "        if results:\n",
    "            return {\"threshold_results\": results}\n",
    "        else:\n",
    "            return {}\n"
   ],
   "id": "703f28d7cf71e479"
  },
  {
   "metadata": {},
   "cell_type": "markdown",
   "source": [
    "The aggregator itself requires no specific configuration. However, we need the aggregator to store the configs for the nodes, where we want to use thresholds. To guarantee the node-config valdity, we add two model classes (pydantic BaseModels) which will take care of the validation for us. Each nodes config can have a list of `MethodThreshold` objects (which will be created from the dictionaries we pass). \n",
    "\n",
    "In the `validate_node` method, we store the config in a dictionary, where the key is the nodes name and the config is the `NodeThresholdConfig` object.\n",
    "\n",
    "In the constructor we also create a dictionary (`threshold_results`), where we will store the results of the threshold checks.\n",
    "\n"
   ],
   "id": "74c16a893bd7a278"
  }
 ],
 "metadata": {
  "kernelspec": {
   "display_name": "Python 3",
   "language": "python",
   "name": "python3"
  },
  "language_info": {
   "codemirror_mode": {
    "name": "ipython",
    "version": 2
   },
   "file_extension": ".py",
   "mimetype": "text/x-python",
   "name": "python",
   "nbconvert_exporter": "python",
   "pygments_lexer": "ipython2",
   "version": "2.7.6"
  }
 },
 "nbformat": 4,
 "nbformat_minor": 5
}
