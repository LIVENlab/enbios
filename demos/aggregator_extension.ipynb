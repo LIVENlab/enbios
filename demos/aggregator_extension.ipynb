{
 "cells": [
  {
   "metadata": {},
   "cell_type": "markdown",
   "source": [
    "# Writing a custom aggregator\n",
    "\n",
    "In this demo, we have a look on how to write a new aggregator and include it into enbios.\n",
    "\n",
    "We actually are not gonna write a whole new Aggregator class from scratch, but create one derrived from the already existing SumAggregator class.\n",
    "If you are not familiar with the concept of class inheritence, you can read about it here [python class inheritance](https://docs.python.org/3/tutorial/classes.html#inheritance) or with a [simple explanation here](https://pythonbasics.org/inheritance/).\n",
    "\n",
    "In our example that means that our new aggregator (ThresholdAggregator) will behave in exactly the same way as the SumAggregator, but except when we define it to do otherwise.\n",
    "\n",
    "In this example we create an aggregator that behaves exactly like the SumAggreagator, but for nodes using this aggregator, we can define specific thresholds for its methods, and the result-data will include boolean values, which indicate if the threshold is exceeded or not. Therefor we do not change the results in any way but augment it with additional information.\n",
    "\n",
    "Since each new aggregator (and adapter) that we want to add to enbios we neet to provide the path to the module (python file) containing the aggregator class. You can find the `threshold_aggregator.py` file in the `data` directory of this demo folder of this repository."
   ],
   "id": "2abbdcb7ceaf2445"
  },
  {
   "metadata": {
    "ExecuteTime": {
     "end_time": "2024-05-17T11:27:40.826048Z",
     "start_time": "2024-05-17T11:27:40.559196Z"
    }
   },
   "cell_type": "code",
   "source": [
    "from pathlib import Path\n",
    "\n",
    "import pandas as pd\n",
    "\n",
    "module_path = Path() / \"data/threshold_aggregator.py\"\n",
    "module_path.exists()"
   ],
   "id": "8015f2a28173909",
   "execution_count": 1,
   "outputs": []
  },
  {
   "metadata": {},
   "cell_type": "markdown",
   "source": "Let's begin by defining a simple experiment config. We are using the assignment adapter, so that the calculation of the results takes no additional time. ",
   "id": "1f0cf7d5877d1a17"
  },
  {
   "metadata": {
    "ExecuteTime": {
     "end_time": "2024-05-17T11:27:44.033697Z",
     "start_time": "2024-05-17T11:27:41.882889Z"
    }
   },
   "cell_type": "code",
   "source": [
    "from enbios import Experiment\n",
    "\n",
    "exp_config = {\n",
    "    \"adapters\": [{\"adapter_name\": \"assignment-adapter\", \"methods\": {\"co2\": \"kg\"}}],\n",
    "    \"hierarchy\": {\n",
    "        \"name\": \"root\",\n",
    "        \"aggregator\": \"sum\",\n",
    "        \"children\": [\n",
    "            {\"name\": \"n1\", \"adapter\": \"assign\", \"config\": {\"outputs\": [{\"unit\": \"kg\"}]}},\n",
    "            {\"name\": \"n2\", \"adapter\": \"assign\", \"config\": {\"outputs\": [{\"unit\": \"l\"}]}},\n",
    "        ],\n",
    "    },\n",
    "    \"scenarios\": [\n",
    "        {\n",
    "            \"name\": \"scenario1\",\n",
    "            \"nodes\": {\n",
    "                \"n1\": {\n",
    "                    \"outputs\": [{\"magnitude\": 100}],\n",
    "                    \"impacts\": {\"co2\": {\"unit\": \"kg\", \"magnitude\": 100}},\n",
    "                },\n",
    "                \"n2\": {\n",
    "                    \"outputs\": [{\"magnitude\": 100}],\n",
    "                    \"impacts\": {\"co2\": {\"unit\": \"kg\", \"magnitude\": 100}},\n",
    "                },\n",
    "            },\n",
    "        }\n",
    "    ],\n",
    "}\n",
    "\n",
    "Experiment(exp_config).run()"
   ],
   "id": "initial_id",
   "execution_count": 2,
   "outputs": []
  },
  {
   "metadata": {},
   "cell_type": "markdown",
   "source": "Now, we add one aggregator to our experiment config and point to the module path of our new aggregator. Rerunning this, will not change anything. The aggregator is integrated into the config, and loaded, but no node makes use of it.",
   "id": "c9a7e16ff7460604"
  },
  {
   "metadata": {
    "ExecuteTime": {
     "end_time": "2024-05-17T11:27:44.057079Z",
     "start_time": "2024-05-17T11:27:44.035314Z"
    }
   },
   "cell_type": "code",
   "source": [
    "path_string = module_path.as_posix()\n",
    "\n",
    "exp_config[\"aggregators\"] = [\n",
    "    {\"aggregator_name\": \"sum-threshold\", \"module_path\": path_string}\n",
    "]\n",
    "\n",
    "exp = Experiment(exp_config)\n",
    "exp.run()"
   ],
   "id": "eb8874ecde3fbcaa",
   "execution_count": 3,
   "outputs": []
  },
  {
   "metadata": {},
   "cell_type": "markdown",
   "source": "Now, let's add the aggregator to the root node and specify a threshold for the `co2` method.",
   "id": "8d9fdfe8c9cd901d"
  },
  {
   "metadata": {
    "ExecuteTime": {
     "end_time": "2024-05-17T11:27:44.356113Z",
     "start_time": "2024-05-17T11:27:44.336289Z"
    }
   },
   "cell_type": "code",
   "source": [
    "exp_config[\"hierarchy\"][\"aggregator\"] = \"threshold\"\n",
    "exp_config[\"hierarchy\"][\"config\"] = {\n",
    "    \"method_thresholds\": [{\"method\": \"co2\", \"threshold\": 300}]\n",
    "}\n",
    "\n",
    "exp = Experiment(exp_config)\n",
    "result = exp.run()\n",
    "result"
   ],
   "id": "24bb1657f77b4922",
   "execution_count": 4,
   "outputs": []
  },
  {
   "metadata": {
    "ExecuteTime": {
     "end_time": "2024-05-17T11:27:45.092475Z",
     "start_time": "2024-05-17T11:27:45.087463Z"
    }
   },
   "cell_type": "code",
   "source": "result[\"scenario1\"][\"threshold_results\"]",
   "id": "f465402db2aa64bf",
   "execution_count": 5,
   "outputs": []
  },
  {
   "metadata": {
    "ExecuteTime": {
     "end_time": "2024-05-17T11:27:46.480837Z",
     "start_time": "2024-05-17T11:27:46.463345Z"
    }
   },
   "cell_type": "code",
   "source": [
    "exp.results_to_csv(\"temp.csv\", flat_hierarchy=True)\n",
    "\n",
    "pd.read_csv(\"temp.csv\").fillna(\"\")"
   ],
   "id": "2e3bd3869c493821",
   "execution_count": 6,
   "outputs": []
  },
  {
   "metadata": {
    "ExecuteTime": {
     "end_time": "2024-05-17T11:27:48.826199Z",
     "start_time": "2024-05-17T11:27:48.818098Z"
    }
   },
   "cell_type": "code",
   "source": [
    "# this is the whole module content:\n",
    "\n",
    "from typing import Any\n",
    "\n",
    "from pydantic import BaseModel, Field\n",
    "\n",
    "from enbios import BasicTreeNode, ScenarioResultNodeData, ResultValue\n",
    "from enbios.base.adapters_aggregators.builtin import SumAggregator\n",
    "\n",
    "\n",
    "class MethodThreshold(BaseModel):\n",
    "    method: str\n",
    "    threshold: float\n",
    "\n",
    "\n",
    "class NodeThresholdConfig(BaseModel):\n",
    "    method_thresholds: list[MethodThreshold] = Field(default_factory=list)\n",
    "\n",
    "\n",
    "class ThresholdAggregator(SumAggregator):\n",
    "    def __init__(self):\n",
    "        super().__init__()\n",
    "        self.node_thresholds: dict[str, NodeThresholdConfig] = {}\n",
    "        self.threshold_results: dict[str, dict[str, bool]] = {}\n",
    "\n",
    "    def validate_node(self, node_name: str, node_config: Any):\n",
    "        if node_config:\n",
    "            self.node_thresholds[node_name] = NodeThresholdConfig.model_validate(\n",
    "                node_config\n",
    "            )\n",
    "\n",
    "    def name(self) -> str:\n",
    "        return \"sum-threshold-aggregator\"\n",
    "\n",
    "    def node_indicator(self) -> str:\n",
    "        return \"threshold\"\n",
    "\n",
    "    def aggregate_node_result(\n",
    "        self, node: BasicTreeNode[ScenarioResultNodeData], scenario_name: str\n",
    "    ) -> dict[str, ResultValue]:\n",
    "        sum_ = super().aggregate_node_result(node, scenario_name)\n",
    "        if node.name in self.node_thresholds:\n",
    "            node_thresholds = self.node_thresholds[node.name]\n",
    "            self.threshold_results[node.name] = {}\n",
    "            for method_threshold in node_thresholds.method_thresholds:\n",
    "                if method_threshold.method in sum_:\n",
    "                    method = method_threshold.method\n",
    "                    self.threshold_results[node.name][method] = (\n",
    "                        sum_[method].magnitude >= method_threshold.threshold\n",
    "                    )\n",
    "        return sum_\n",
    "\n",
    "    def result_extras(self, node_name: str, scenario_name: str) -> dict[str, Any]:\n",
    "        results = self.threshold_results.get(node_name, {})\n",
    "        if results:\n",
    "            return {\"threshold_results\": results}\n",
    "        else:\n",
    "            return {}"
   ],
   "id": "703f28d7cf71e479",
   "execution_count": 7,
   "outputs": []
  },
  {
   "metadata": {},
   "cell_type": "markdown",
   "source": [
    "The aggregator itself requires no specific configuration. However, we need the aggregator to store the configs for the nodes, where we want to use thresholds. To guarantee the node-config valdity, we add two model classes (pydantic BaseModels) which will take care of the validation for us. Each nodes config can have a list of `MethodThreshold` objects (which will be created from the dictionaries we pass). \n",
    "\n",
    "In the `validate_node` method, we store the config in a dictionary, where the key is the nodes name and the config is the `NodeThresholdConfig` object.\n",
    "\n",
    "In the constructor we also create a dictionary (`threshold_results`), where we will store the results of the threshold checks.\n",
    "The most crucial function that we overwrite is `aggregate_node_result`. However, the first thing we do in here, is to call `super().aggregate_node_result(node)` that means we calculate the result aggregation of the node, with the sum aggregator. Afterward, if the node specifies any thresholds in its configs, we iterate and check those and assign the results to the `threshold_results` dictionary.\n",
    "\n",
    "Finally, the `result_extras`, we return the results for each node in the `threshold_results` dictionary.\n",
    "\n",
    "\n"
   ],
   "id": "74c16a893bd7a278"
  },
  {
   "metadata": {
    "ExecuteTime": {
     "end_time": "2024-05-17T11:28:04.862167Z",
     "start_time": "2024-05-17T11:28:04.851644Z"
    }
   },
   "cell_type": "code",
   "source": [
    "exp_config[\"scenarios\"].append(\n",
    "    {\n",
    "        \"name\": \"scenario2\",\n",
    "        \"nodes\": {\n",
    "            \"n1\": {\n",
    "                \"outputs\": [{\"magnitude\": 190}],\n",
    "                \"impacts\": {\"co2\": {\"unit\": \"kg\", \"magnitude\": 200}},\n",
    "            },\n",
    "            \"n2\": {\n",
    "                \"outputs\": [{\"magnitude\": 300}],\n",
    "                \"impacts\": {\"co2\": {\"unit\": \"kg\", \"magnitude\": 500}},\n",
    "            },\n",
    "        },\n",
    "    }\n",
    ")"
   ],
   "id": "9aebd3bec28988ab",
   "execution_count": 8,
   "outputs": []
  },
  {
   "metadata": {
    "ExecuteTime": {
     "end_time": "2024-05-17T11:28:05.642795Z",
     "start_time": "2024-05-17T11:28:05.622349Z"
    }
   },
   "cell_type": "code",
   "source": [
    "# running the epxperiment again with the second scenario included, we see that in the case of the second scenario, the threshold is surpassed and the threshold value is marked True .\n",
    "exp = Experiment(exp_config)\n",
    "exp.run()\n",
    "\n",
    "exp.results_to_csv(\n",
    "    \"temp.csv\", flat_hierarchy=True, include_output=False, include_method_units=False\n",
    ")\n",
    "\n",
    "pd.read_csv(\"temp.csv\").fillna(\"\")"
   ],
   "id": "ea87734f912f51ca",
   "execution_count": 9,
   "outputs": []
  },
  {
   "metadata": {},
   "cell_type": "markdown",
   "source": "Following we make some adjustments to our experiment. We use a modified version of the threshold-aggregotor. We extend it, in such a way, that the threshold can be specified for each scenario. A scenario config for a node using the scenario-sum-threshold aggregator can pass the same threshold config as in the hierarchy. The config in the hierarchy will be used as a default, but if specified in a scenario config, a node will use those configs. We can now pass a new config for the root node for `scenario2`, where we specify a higher threshold for co2.",
   "id": "70de1093d815435f"
  },
  {
   "metadata": {
    "ExecuteTime": {
     "end_time": "2024-05-17T11:28:07.701838Z",
     "start_time": "2024-05-17T11:28:07.667840Z"
    }
   },
   "cell_type": "code",
   "source": [
    "exp_config[\"aggregators\"][0] = {\n",
    "    \"aggregator_name\": \"scenario-sum-threshold\",\n",
    "    \"module_path\": Path() / \"data/threshold_aggregator_scenarios.py\",\n",
    "}\n",
    "\n",
    "exp_config[\"hierarchy\"][\"aggregator\"] = \"scenario-threshold\"\n",
    "\n",
    "exp_config[\"scenarios\"][1][\"nodes\"][\"root\"] = {\n",
    "    \"method_thresholds\": [{\"method\": \"co2\", \"threshold\": 1000}]\n",
    "}\n",
    "\n",
    "exp = Experiment(exp_config)\n",
    "exp.run()\n",
    "\n",
    "exp.results_to_csv(\n",
    "    \"temp.csv\", flat_hierarchy=True, include_output=False, include_method_units=False\n",
    ")\n",
    "pd.read_csv(\"temp.csv\").fillna(\"\")"
   ],
   "id": "20e917a75d19160c",
   "execution_count": 10,
   "outputs": []
  },
  {
   "metadata": {},
   "cell_type": "code",
   "execution_count": null,
   "source": "",
   "id": "2d5f5c4bfe467437",
   "outputs": []
  }
 ],
 "metadata": {
  "kernelspec": {
   "display_name": "Python 3",
   "language": "python",
   "name": "python3"
  },
  "language_info": {
   "codemirror_mode": {
    "name": "ipython",
    "version": 2
   },
   "file_extension": ".py",
   "mimetype": "text/x-python",
   "name": "python",
   "nbconvert_exporter": "python",
   "pygments_lexer": "ipython2",
   "version": "2.7.6"
  }
 },
 "nbformat": 4,
 "nbformat_minor": 5
}
