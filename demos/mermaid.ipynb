{
 "cells": [
  {
   "cell_type": "code",
   "id": "initial_id",
   "metadata": {
    "collapsed": true,
    "ExecuteTime": {
     "end_time": "2024-06-12T09:02:06.440739Z",
     "start_time": "2024-06-12T09:02:04.561059Z"
    }
   },
   "source": [
    "import json\n",
    "\n",
    "from enbios.generic.mermaid2hierarchy import convert_mermaid_lines"
   ],
   "execution_count": 1,
   "outputs": []
  },
  {
   "cell_type": "code",
   "source": [
    "mermaid1 = \"\"\"graph BT\n",
    "b1-->a\n",
    "b2-->a\"\"\""
   ],
   "metadata": {
    "collapsed": false,
    "ExecuteTime": {
     "end_time": "2024-06-12T09:02:07.237312Z",
     "start_time": "2024-06-12T09:02:07.234273Z"
    }
   },
   "id": "269587c8d24261d2",
   "execution_count": 2,
   "outputs": []
  },
  {
   "cell_type": "code",
   "source": [
    "hierarchy = convert_mermaid_lines(mermaid1)\n",
    "hierarchy"
   ],
   "metadata": {
    "collapsed": false,
    "ExecuteTime": {
     "end_time": "2024-06-12T09:02:13.373939Z",
     "start_time": "2024-06-12T09:02:13.342058Z"
    }
   },
   "id": "145c113799d9b3ec",
   "execution_count": 3,
   "outputs": []
  },
  {
   "cell_type": "code",
   "source": [
    "print(json.dumps(hierarchy, indent=2, ensure_ascii=False))"
   ],
   "metadata": {
    "collapsed": false,
    "ExecuteTime": {
     "end_time": "2024-05-14T08:45:26.764061Z",
     "start_time": "2024-05-14T08:45:26.745874Z"
    }
   },
   "id": "168746708c3dc0d0",
   "execution_count": 4,
   "outputs": []
  },
  {
   "metadata": {},
   "cell_type": "markdown",
   "source": [
    "Specifying adapters and aggregators wtih `:::` (which can be done once per node) OR as link description \n",
    "\n",
    "`<node> -- <adapter_name> --> <parent_node>`"
   ],
   "id": "dd1f313b01d29081"
  },
  {
   "cell_type": "code",
   "source": [
    "mermaid2 = \"\"\"graph BT\n",
    "b1-->a:::sum\n",
    "b2:::bw-->a\"\"\"\n",
    "\n",
    "hierarchy = convert_mermaid_lines(mermaid2)\n",
    "hierarchy"
   ],
   "metadata": {
    "collapsed": false,
    "ExecuteTime": {
     "end_time": "2024-06-12T09:05:45.213046Z",
     "start_time": "2024-06-12T09:05:45.187437Z"
    }
   },
   "id": "12df5263ea771499",
   "execution_count": 4,
   "outputs": []
  },
  {
   "cell_type": "code",
   "source": [
    "mermaid2b = \"\"\"\n",
    "graph BT\n",
    "    b1 --> a:::sum\n",
    "    b2 -- bw --> a\n",
    "\"\"\"\n",
    "\n",
    "print(json.dumps(convert_mermaid_lines(mermaid2), indent=2, ensure_ascii=False))"
   ],
   "metadata": {
    "collapsed": false,
    "ExecuteTime": {
     "end_time": "2024-06-12T09:06:24.424561Z",
     "start_time": "2024-06-12T09:06:24.405591Z"
    }
   },
   "id": "3b46506c200f06e6",
   "execution_count": 5,
   "outputs": []
  },
  {
   "cell_type": "code",
   "source": [
    "mermaid2 = \"\"\"graph BT\n",
    "a:::sum\n",
    "b1:::bw\n",
    "b2:::bw\n",
    "b1-->a\n",
    "b2-->a\"\"\"\n",
    "\n",
    "print(json.dumps(convert_mermaid_lines(mermaid2), indent=2, ensure_ascii=False))"
   ],
   "metadata": {
    "collapsed": false,
    "ExecuteTime": {
     "end_time": "2024-05-14T08:45:26.856238Z",
     "start_time": "2024-05-14T08:45:26.822233Z"
    }
   },
   "id": "fb1cd79819808d2b",
   "execution_count": 7,
   "outputs": []
  },
  {
   "cell_type": "code",
   "source": [
    "mermaid3 = \"\"\"graph BT\n",
    "a:::sum\n",
    "b1:::bw,code:xxx1\n",
    "b2:::bw,code:xxx2\n",
    "\n",
    "b1-->a\n",
    "b2-->a\"\"\"\n",
    "\n",
    "print(json.dumps(convert_mermaid_lines(mermaid3), indent=2, ensure_ascii=False))"
   ],
   "metadata": {
    "collapsed": false,
    "ExecuteTime": {
     "end_time": "2024-06-12T09:07:34.808160Z",
     "start_time": "2024-06-12T09:07:34.777445Z"
    }
   },
   "id": "b26929ea40d599d8",
   "execution_count": 6,
   "outputs": []
  },
  {
   "cell_type": "markdown",
   "source": [
    "## How to read a mermaid file convert it and add it to some experiment configuration"
   ],
   "metadata": {
    "collapsed": false
   },
   "id": "466259576889c6f5"
  },
  {
   "cell_type": "code",
   "source": [
    "from enbios.generic.mermaid2hierarchy import convert_mermaid_file\n",
    "\n",
    "hierarchy = convert_mermaid_file(\"data/mermaid/simple_mermaid.mermaid\")"
   ],
   "metadata": {
    "collapsed": false,
    "ExecuteTime": {
     "end_time": "2024-05-14T08:45:26.922099Z",
     "start_time": "2024-05-14T08:45:26.884511Z"
    }
   },
   "id": "11c9f09bd216af6c",
   "execution_count": 9,
   "outputs": []
  },
  {
   "cell_type": "code",
   "source": [
    "from enbios.base.experiment import Experiment\n",
    "\n",
    "exp_config = {\n",
    "    \"adapters\": [\n",
    "        {\n",
    "            \"adapter_name\": \"brightway-adapter\",\n",
    "            \"config\": {\"bw_project\": \"ecoinvent_391\"},\n",
    "            \"methods\": {\n",
    "                \"GWP1000\": (\n",
    "                    \"ReCiPe 2016 v1.03, midpoint (H)\",\n",
    "                    \"climate change\",\n",
    "                    \"global warming potential (GWP1000)\",\n",
    "                ),\n",
    "                \"LOP\": (\n",
    "                    \"ReCiPe 2016 v1.03, midpoint (E)\",\n",
    "                    \"land use\",\n",
    "                    \"agricultural land occupation (LOP)\",\n",
    "                ),\n",
    "                \"WCP\": (\n",
    "                    \"ReCiPe 2016 v1.03, midpoint (E)\",\n",
    "                    \"water use\",\n",
    "                    \"water consumption potential (WCP)\",\n",
    "                ),\n",
    "            },\n",
    "        }\n",
    "    ],\n",
    "    \"hierarchy\": hierarchy,\n",
    "}\n",
    "\n",
    "exp = Experiment(exp_config)"
   ],
   "metadata": {
    "collapsed": false,
    "ExecuteTime": {
     "end_time": "2024-05-14T08:45:27.923373Z",
     "start_time": "2024-05-14T08:45:26.922957Z"
    }
   },
   "id": "76e948074adecfda",
   "execution_count": 10,
   "outputs": []
  },
  {
   "cell_type": "code",
   "source": [
    "exp.run()"
   ],
   "metadata": {
    "collapsed": false,
    "ExecuteTime": {
     "end_time": "2024-05-14T08:45:51.156725Z",
     "start_time": "2024-05-14T08:45:27.924171Z"
    }
   },
   "id": "e92285b0b4db77cb",
   "execution_count": 11,
   "outputs": []
  },
  {
   "metadata": {},
   "cell_type": "markdown",
   "source": "We can also just pass the file location as a string to the hierarchy ",
   "id": "8177bc2edf04e714"
  },
  {
   "metadata": {
    "ExecuteTime": {
     "end_time": "2024-05-14T08:46:16.288912Z",
     "start_time": "2024-05-14T08:45:51.161444Z"
    }
   },
   "cell_type": "code",
   "source": [
    "exp_config = {\n",
    "    \"adapters\": [\n",
    "        {\n",
    "            \"adapter_name\": \"brightway-adapter\",\n",
    "            \"config\": {\"bw_project\": \"ecoinvent_391\"},\n",
    "            \"methods\": {\n",
    "                \"GWP1000\": (\n",
    "                    \"ReCiPe 2016 v1.03, midpoint (H)\",\n",
    "                    \"climate change\",\n",
    "                    \"global warming potential (GWP1000)\",\n",
    "                ),\n",
    "                \"LOP\": (\n",
    "                    \"ReCiPe 2016 v1.03, midpoint (E)\",\n",
    "                    \"land use\",\n",
    "                    \"agricultural land occupation (LOP)\",\n",
    "                ),\n",
    "                \"WCP\": (\n",
    "                    \"ReCiPe 2016 v1.03, midpoint (E)\",\n",
    "                    \"water use\",\n",
    "                    \"water consumption potential (WCP)\",\n",
    "                ),\n",
    "            },\n",
    "        }\n",
    "    ],\n",
    "    \"hierarchy\": \"data/mermaid/simple_mermaid.mermaid\",\n",
    "}\n",
    "\n",
    "exp = Experiment(exp_config)\n",
    "exp.run()"
   ],
   "id": "35a1c07a7f3700e",
   "execution_count": 12,
   "outputs": []
  },
  {
   "metadata": {
    "ExecuteTime": {
     "end_time": "2024-05-14T08:48:37.224966Z",
     "start_time": "2024-05-14T08:48:37.221629Z"
    }
   },
   "cell_type": "code",
   "source": "exp.result_to_dict()",
   "id": "edec86b85c22acdd",
   "execution_count": 13,
   "outputs": []
  },
  {
   "metadata": {},
   "cell_type": "code",
   "execution_count": null,
   "source": "",
   "id": "c0f24843404bdea3",
   "outputs": []
  }
 ],
 "metadata": {
  "kernelspec": {
   "display_name": "Python 3",
   "language": "python",
   "name": "python3"
  },
  "language_info": {
   "codemirror_mode": {
    "name": "ipython",
    "version": 2
   },
   "file_extension": ".py",
   "mimetype": "text/x-python",
   "name": "python",
   "nbconvert_exporter": "python",
   "pygments_lexer": "ipython2",
   "version": "2.7.6"
  }
 },
 "nbformat": 4,
 "nbformat_minor": 5
}
