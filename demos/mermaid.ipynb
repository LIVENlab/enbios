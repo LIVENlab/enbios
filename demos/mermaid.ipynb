{
 "cells": [
  {
   "cell_type": "code",
   "id": "initial_id",
   "metadata": {
    "collapsed": true,
    "ExecuteTime": {
     "end_time": "2024-05-14T08:36:35.062221Z",
     "start_time": "2024-05-14T08:36:33.056630Z"
    }
   },
   "source": [
    "import json\n",
    "\n",
    "from enbios.generic.mermaid2hierarchy import convert_mermaid_lines"
   ],
   "outputs": [],
   "execution_count": 1
  },
  {
   "cell_type": "code",
   "source": [
    "mermaid1 = \"\"\"graph BT\n",
    "b1-->a\n",
    "b2-->a\"\"\""
   ],
   "metadata": {
    "collapsed": false,
    "ExecuteTime": {
     "end_time": "2024-05-14T08:36:35.065978Z",
     "start_time": "2024-05-14T08:36:35.063514Z"
    }
   },
   "id": "269587c8d24261d2",
   "outputs": [],
   "execution_count": 2
  },
  {
   "cell_type": "code",
   "source": [
    "hierarchy = convert_mermaid_lines(mermaid1)\n",
    "hierarchy"
   ],
   "metadata": {
    "collapsed": false,
    "ExecuteTime": {
     "end_time": "2024-05-14T08:36:35.094162Z",
     "start_time": "2024-05-14T08:36:35.067057Z"
    }
   },
   "id": "145c113799d9b3ec",
   "outputs": [
    {
     "data": {
      "text/plain": [
       "{'name': 'a',\n",
       " 'aggregator': None,\n",
       " 'config': None,\n",
       " 'children': [{'name': 'b1', 'adapter': None, 'config': None},\n",
       "  {'name': 'b2', 'adapter': None, 'config': None}]}"
      ]
     },
     "execution_count": 3,
     "metadata": {},
     "output_type": "execute_result"
    }
   ],
   "execution_count": 3
  },
  {
   "cell_type": "code",
   "source": [
    "print(json.dumps(hierarchy, indent=2, ensure_ascii=False))"
   ],
   "metadata": {
    "collapsed": false,
    "ExecuteTime": {
     "end_time": "2024-05-14T08:36:35.098746Z",
     "start_time": "2024-05-14T08:36:35.095465Z"
    }
   },
   "id": "168746708c3dc0d0",
   "outputs": [
    {
     "name": "stdout",
     "output_type": "stream",
     "text": [
      "{\n",
      "  \"name\": \"a\",\n",
      "  \"aggregator\": null,\n",
      "  \"config\": null,\n",
      "  \"children\": [\n",
      "    {\n",
      "      \"name\": \"b1\",\n",
      "      \"adapter\": null,\n",
      "      \"config\": null\n",
      "    },\n",
      "    {\n",
      "      \"name\": \"b2\",\n",
      "      \"adapter\": null,\n",
      "      \"config\": null\n",
      "    }\n",
      "  ]\n",
      "}\n"
     ]
    }
   ],
   "execution_count": 4
  },
  {
   "cell_type": "code",
   "source": [
    "# Specifying adapters and aggregators wtih ':::' (which can be done once per node)"
   ],
   "metadata": {
    "collapsed": false,
    "ExecuteTime": {
     "end_time": "2024-05-14T08:36:35.922219Z",
     "start_time": "2024-05-14T08:36:35.917285Z"
    }
   },
   "id": "feb46984b5abadcd",
   "outputs": [],
   "execution_count": 5
  },
  {
   "cell_type": "code",
   "source": [
    "mermaid2 = \"\"\"graph BT\n",
    "b1-->a:::sum\n",
    "b2:::bw-->a\"\"\"\n",
    "\n",
    "hierarchy = convert_mermaid_lines(mermaid2)\n",
    "hierarchy"
   ],
   "metadata": {
    "collapsed": false,
    "ExecuteTime": {
     "end_time": "2024-05-14T08:36:36.594875Z",
     "start_time": "2024-05-14T08:36:36.567198Z"
    }
   },
   "id": "12df5263ea771499",
   "outputs": [
    {
     "data": {
      "text/plain": [
       "{'name': 'a',\n",
       " 'aggregator': 'sum',\n",
       " 'config': None,\n",
       " 'children': [{'name': 'b1', 'adapter': None, 'config': None},\n",
       "  {'name': 'b2', 'adapter': 'bw', 'config': None}]}"
      ]
     },
     "execution_count": 6,
     "metadata": {},
     "output_type": "execute_result"
    }
   ],
   "execution_count": 6
  },
  {
   "cell_type": "code",
   "source": [
    "mermaid2b = \"\"\"\n",
    "graph BT\n",
    "    b1 --> a:::sum\n",
    "    b2 -- bw --> a\n",
    "\"\"\"\n",
    "\n",
    "print(json.dumps(convert_mermaid_lines(mermaid2), indent=2, ensure_ascii=False))"
   ],
   "metadata": {
    "collapsed": false,
    "ExecuteTime": {
     "end_time": "2024-05-14T08:36:37.512329Z",
     "start_time": "2024-05-14T08:36:37.495577Z"
    }
   },
   "id": "3b46506c200f06e6",
   "outputs": [
    {
     "name": "stdout",
     "output_type": "stream",
     "text": [
      "{\n",
      "  \"name\": \"a\",\n",
      "  \"aggregator\": \"sum\",\n",
      "  \"config\": null,\n",
      "  \"children\": [\n",
      "    {\n",
      "      \"name\": \"b1\",\n",
      "      \"adapter\": null,\n",
      "      \"config\": null\n",
      "    },\n",
      "    {\n",
      "      \"name\": \"b2\",\n",
      "      \"adapter\": \"bw\",\n",
      "      \"config\": null\n",
      "    }\n",
      "  ]\n",
      "}\n"
     ]
    }
   ],
   "execution_count": 7
  },
  {
   "cell_type": "code",
   "source": [
    "mermaid2 = \"\"\"graph BT\n",
    "a:::sum\n",
    "b1:::bw\n",
    "b2:::bw\n",
    "b1-->a\n",
    "b2-->a\"\"\"\n",
    "\n",
    "print(json.dumps(convert_mermaid_lines(mermaid2), indent=2, ensure_ascii=False))"
   ],
   "metadata": {
    "collapsed": false,
    "ExecuteTime": {
     "end_time": "2024-05-14T08:36:38.377066Z",
     "start_time": "2024-05-14T08:36:38.340547Z"
    }
   },
   "id": "fb1cd79819808d2b",
   "outputs": [
    {
     "name": "stdout",
     "output_type": "stream",
     "text": [
      "{\n",
      "  \"name\": \"a\",\n",
      "  \"aggregator\": \"sum\",\n",
      "  \"config\": null,\n",
      "  \"children\": [\n",
      "    {\n",
      "      \"name\": \"b1\",\n",
      "      \"adapter\": \"bw\",\n",
      "      \"config\": null\n",
      "    },\n",
      "    {\n",
      "      \"name\": \"b2\",\n",
      "      \"adapter\": \"bw\",\n",
      "      \"config\": null\n",
      "    }\n",
      "  ]\n",
      "}\n"
     ]
    }
   ],
   "execution_count": 8
  },
  {
   "cell_type": "code",
   "source": [
    "mermaid3 = \"\"\"graph BT\n",
    "a:::sum\n",
    "b1:::bw,code:xxx1\n",
    "b2:::bw,code:xxx2\n",
    "\n",
    "b1-->a\n",
    "b2-->a\"\"\"\n",
    "\n",
    "print(json.dumps(convert_mermaid_lines(mermaid3), indent=2, ensure_ascii=False))"
   ],
   "metadata": {
    "collapsed": false,
    "ExecuteTime": {
     "end_time": "2024-05-14T08:36:39.272006Z",
     "start_time": "2024-05-14T08:36:39.239653Z"
    }
   },
   "id": "b26929ea40d599d8",
   "outputs": [
    {
     "name": "stdout",
     "output_type": "stream",
     "text": [
      "{\n",
      "  \"name\": \"a\",\n",
      "  \"aggregator\": \"sum\",\n",
      "  \"config\": null,\n",
      "  \"children\": [\n",
      "    {\n",
      "      \"name\": \"b1\",\n",
      "      \"adapter\": \"bw\",\n",
      "      \"config\": {\n",
      "        \"code\": \"xxx1\"\n",
      "      }\n",
      "    },\n",
      "    {\n",
      "      \"name\": \"b2\",\n",
      "      \"adapter\": \"bw\",\n",
      "      \"config\": {\n",
      "        \"code\": \"xxx2\"\n",
      "      }\n",
      "    }\n",
      "  ]\n",
      "}\n"
     ]
    }
   ],
   "execution_count": 9
  },
  {
   "cell_type": "markdown",
   "source": [
    "## How to read a mermaid file convert it and add it to some experiment configuration"
   ],
   "metadata": {
    "collapsed": false
   },
   "id": "466259576889c6f5"
  },
  {
   "cell_type": "code",
   "source": [
    "from enbios.generic.mermaid2hierarchy import convert_mermaid_file\n",
    "\n",
    "hierarchy = convert_mermaid_file(\"data/mermaid/simple_mermaid.mermaid\")"
   ],
   "metadata": {
    "collapsed": false,
    "ExecuteTime": {
     "end_time": "2024-05-14T08:36:41.241713Z",
     "start_time": "2024-05-14T08:36:41.213162Z"
    }
   },
   "id": "11c9f09bd216af6c",
   "outputs": [],
   "execution_count": 10
  },
  {
   "cell_type": "code",
   "source": [
    "from enbios.base.experiment import Experiment\n",
    "\n",
    "exp_config = {\n",
    "    \"adapters\": [\n",
    "        {\n",
    "            \"adapter_name\": \"brightway-adapter\",\n",
    "            \"config\": {\"bw_project\": \"ecoinvent_391\"},\n",
    "            \"methods\": {\n",
    "                \"GWP1000\": (\n",
    "                    \"ReCiPe 2016 v1.03, midpoint (H)\",\n",
    "                    \"climate change\",\n",
    "                    \"global warming potential (GWP1000)\",\n",
    "                ),\n",
    "                \"LOP\": (\n",
    "                    \"ReCiPe 2016 v1.03, midpoint (E)\",\n",
    "                    \"land use\",\n",
    "                    \"agricultural land occupation (LOP)\",\n",
    "                ),\n",
    "                \"WCP\": (\n",
    "                    \"ReCiPe 2016 v1.03, midpoint (E)\",\n",
    "                    \"water use\",\n",
    "                    \"water consumption potential (WCP)\",\n",
    "                ),\n",
    "            },\n",
    "        }\n",
    "    ],\n",
    "    \"hierarchy\": hierarchy,\n",
    "}\n",
    "\n",
    "exp = Experiment(exp_config)"
   ],
   "metadata": {
    "collapsed": false,
    "ExecuteTime": {
     "end_time": "2024-05-14T08:36:44.643481Z",
     "start_time": "2024-05-14T08:36:43.657947Z"
    }
   },
   "id": "76e948074adecfda",
   "outputs": [],
   "execution_count": 11
  },
  {
   "cell_type": "code",
   "outputs": [
    {
     "name": "stdout",
     "output_type": "stream",
     "text": [
      "2024-02-21 14:23:53,782 - ............demos.enbios.base - INFO - Running scenario 'default scenario'\n"
     ]
    },
    {
     "data": {
      "text/plain": "{'default scenario': {'name': 'root',\n  'results': {'GWP1000': {'unit': 'kg CO2-Eq',\n    'magnitude': 0.032264059590470524},\n   'LOP': {'unit': 'm2*a crop-Eq', 'magnitude': 0.001447083969231639},\n   'WCP': {'unit': 'cubic meter', 'magnitude': 0.00032440108814901574}},\n  'output': {'unit': 'kilowatt_hour', 'magnitude': 2.0},\n  'children': [{'name': 'b1',\n    'results': {'GWP1000': {'unit': 'kg CO2-Eq',\n      'magnitude': 0.015243611332791748},\n     'LOP': {'unit': 'm2*a crop-Eq', 'magnitude': 0.0010661197743596256},\n     'WCP': {'unit': 'cubic meter', 'magnitude': 0.000136359937516592}},\n    'output': {'unit': 'kilowatt_hour', 'magnitude': 1.0}},\n   {'name': 'b2',\n    'results': {'GWP1000': {'unit': 'kg CO2-Eq',\n      'magnitude': 0.017020448257678778},\n     'LOP': {'unit': 'm2*a crop-Eq', 'magnitude': 0.00038096419487201346},\n     'WCP': {'unit': 'cubic meter', 'magnitude': 0.00018804115063242375}},\n    'output': {'unit': 'kilowatt_hour', 'magnitude': 1.0}}]}}"
     },
     "execution_count": 4,
     "metadata": {},
     "output_type": "execute_result"
    }
   ],
   "source": [
    "exp.run()"
   ],
   "metadata": {
    "collapsed": false,
    "ExecuteTime": {
     "end_time": "2024-02-21T13:24:39.653040381Z",
     "start_time": "2024-02-21T13:23:53.786854414Z"
    }
   },
   "id": "e92285b0b4db77cb",
   "execution_count": 4
  },
  {
   "metadata": {},
   "cell_type": "markdown",
   "source": "We can also just pass the file location as a string to the hierarchy ",
   "id": "8177bc2edf04e714"
  },
  {
   "metadata": {
    "ExecuteTime": {
     "end_time": "2024-05-14T08:36:48.895506Z",
     "start_time": "2024-05-14T08:36:47.935892Z"
    }
   },
   "cell_type": "code",
   "source": [
    "exp_config = {\n",
    "    \"adapters\": [\n",
    "        {\n",
    "            \"adapter_name\": \"brightway-adapter\",\n",
    "            \"config\": {\"bw_project\": \"ecoinvent_391\"},\n",
    "            \"methods\": {\n",
    "                \"GWP1000\": (\n",
    "                    \"ReCiPe 2016 v1.03, midpoint (H)\",\n",
    "                    \"climate change\",\n",
    "                    \"global warming potential (GWP1000)\",\n",
    "                ),\n",
    "                \"LOP\": (\n",
    "                    \"ReCiPe 2016 v1.03, midpoint (E)\",\n",
    "                    \"land use\",\n",
    "                    \"agricultural land occupation (LOP)\",\n",
    "                ),\n",
    "                \"WCP\": (\n",
    "                    \"ReCiPe 2016 v1.03, midpoint (E)\",\n",
    "                    \"water use\",\n",
    "                    \"water consumption potential (WCP)\",\n",
    "                ),\n",
    "            },\n",
    "        }\n",
    "    ],\n",
    "    \"hierarchy\": \"data/mermaid/simple_mermaid.mermaid\",\n",
    "}\n",
    "\n",
    "exp = Experiment(exp_config)"
   ],
   "id": "35a1c07a7f3700e",
   "outputs": [],
   "execution_count": 12
  },
  {
   "metadata": {
    "ExecuteTime": {
     "end_time": "2024-05-14T08:37:26.921996Z",
     "start_time": "2024-05-14T08:37:00.411211Z"
    }
   },
   "cell_type": "code",
   "source": "exp.run()",
   "id": "3edcd46e6e56a5e7",
   "outputs": [
    {
     "name": "stdout",
     "output_type": "stream",
     "text": [
      "2024-05-14 10:37:00,413 - demos.enbios.base - INFO - Running scenario 'default scenario'\n",
      "2024-05-14 10:37:07,841 - enbios.bw2.MultiLCA_util - DEBUG - Demand 0/2\n",
      "2024-05-14 10:37:15,860 - enbios.bw2.MultiLCA_util - DEBUG - Demand 1/2\n"
     ]
    },
    {
     "data": {
      "text/plain": [
       "{'default scenario': {'name': 'root',\n",
       "  'results': {'GWP1000': {'unit': 'kg CO2-Eq',\n",
       "    'magnitude': 0.03226405959967699},\n",
       "   'LOP': {'unit': 'm2*a crop-Eq', 'magnitude': 0.0014470839901441494},\n",
       "   'WCP': {'unit': 'cubic meter', 'magnitude': 0.00032440108819546665}},\n",
       "  'output': [{'unit': 'kilowatt_hour', 'magnitude': 2.0, 'label': None}],\n",
       "  'children': [{'name': 'b1',\n",
       "    'results': {'GWP1000': {'unit': 'kg CO2-Eq',\n",
       "      'magnitude': 0.015243611343654916},\n",
       "     'LOP': {'unit': 'm2*a crop-Eq', 'magnitude': 0.0010661197824375084},\n",
       "     'WCP': {'unit': 'cubic meter', 'magnitude': 0.00013635993757804614}},\n",
       "    'output': [{'unit': 'kilowatt_hour', 'magnitude': 1.0, 'label': None}],\n",
       "    'bw_activity_code': 'ed3da88fc23311ee183e9ffd376de89b'},\n",
       "   {'name': 'b2',\n",
       "    'results': {'GWP1000': {'unit': 'kg CO2-Eq',\n",
       "      'magnitude': 0.01702044825602208},\n",
       "     'LOP': {'unit': 'm2*a crop-Eq', 'magnitude': 0.0003809642077066412},\n",
       "     'WCP': {'unit': 'cubic meter', 'magnitude': 0.00018804115061742048}},\n",
       "    'output': [{'unit': 'kilowatt_hour', 'magnitude': 1.0, 'label': None}],\n",
       "    'bw_activity_code': '6ebfe52dc3ef5b4d35bb603b03559023'}]}}"
      ]
     },
     "execution_count": 14,
     "metadata": {},
     "output_type": "execute_result"
    }
   ],
   "execution_count": 14
  }
 ],
 "metadata": {
  "kernelspec": {
   "display_name": "Python 3",
   "language": "python",
   "name": "python3"
  },
  "language_info": {
   "codemirror_mode": {
    "name": "ipython",
    "version": 2
   },
   "file_extension": ".py",
   "mimetype": "text/x-python",
   "name": "python",
   "nbconvert_exporter": "python",
   "pygments_lexer": "ipython2",
   "version": "2.7.6"
  }
 },
 "nbformat": 4,
 "nbformat_minor": 5
}
