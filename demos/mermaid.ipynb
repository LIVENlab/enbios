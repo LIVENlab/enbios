{
 "cells": [
  {
   "cell_type": "code",
   "execution_count": 6,
   "id": "initial_id",
   "metadata": {
    "collapsed": true,
    "ExecuteTime": {
     "end_time": "2024-02-20T11:48:15.193209465Z",
     "start_time": "2024-02-20T11:48:15.189170255Z"
    }
   },
   "outputs": [],
   "source": [
    "from enbios.generic.mermaid2hierarchy import convert_mermaid_lines\n",
    "import json"
   ]
  },
  {
   "cell_type": "code",
   "outputs": [],
   "source": [
    "mermaid1=\"\"\"graph BT\n",
    "b1-->a\n",
    "b2-->a\"\"\""
   ],
   "metadata": {
    "collapsed": false,
    "ExecuteTime": {
     "end_time": "2024-02-20T11:47:46.706306262Z",
     "start_time": "2024-02-20T11:47:46.700822407Z"
    }
   },
   "id": "269587c8d24261d2",
   "execution_count": 2
  },
  {
   "cell_type": "code",
   "outputs": [
    {
     "data": {
      "text/plain": "{'name': 'a',\n 'aggregator': None,\n 'config': None,\n 'children': [{'name': 'b1', 'adapter': None, 'config': None},\n  {'name': 'b2', 'adapter': None, 'config': None}]}"
     },
     "execution_count": 4,
     "metadata": {},
     "output_type": "execute_result"
    }
   ],
   "source": [
    "hierarchy = convert_mermaid_lines(mermaid1)\n",
    "hierarchy"
   ],
   "metadata": {
    "collapsed": false,
    "ExecuteTime": {
     "end_time": "2024-02-20T11:47:50.640725179Z",
     "start_time": "2024-02-20T11:47:50.619404403Z"
    }
   },
   "id": "145c113799d9b3ec",
   "execution_count": 4
  },
  {
   "cell_type": "code",
   "outputs": [
    {
     "name": "stdout",
     "output_type": "stream",
     "text": [
      "{\n",
      "  \"name\": \"a\",\n",
      "  \"aggregator\": null,\n",
      "  \"config\": null,\n",
      "  \"children\": [\n",
      "    {\n",
      "      \"name\": \"b1\",\n",
      "      \"adapter\": null,\n",
      "      \"config\": null\n",
      "    },\n",
      "    {\n",
      "      \"name\": \"b2\",\n",
      "      \"adapter\": null,\n",
      "      \"config\": null\n",
      "    }\n",
      "  ]\n",
      "}\n"
     ]
    }
   ],
   "source": [
    "print(json.dumps(hierarchy, indent=2, ensure_ascii=False))"
   ],
   "metadata": {
    "collapsed": false,
    "ExecuteTime": {
     "end_time": "2024-02-20T11:48:17.667354028Z",
     "start_time": "2024-02-20T11:48:17.624777350Z"
    }
   },
   "id": "168746708c3dc0d0",
   "execution_count": 7
  },
  {
   "cell_type": "code",
   "outputs": [],
   "source": [
    "# Specifying adapters and aggregators wtih ':::' (which can be done once per node)"
   ],
   "metadata": {
    "collapsed": false,
    "ExecuteTime": {
     "end_time": "2024-02-20T11:49:35.659288626Z",
     "start_time": "2024-02-20T11:49:35.618681891Z"
    }
   },
   "id": "feb46984b5abadcd",
   "execution_count": 9
  },
  {
   "cell_type": "code",
   "outputs": [
    {
     "data": {
      "text/plain": "{'name': 'a',\n 'aggregator': 'sum',\n 'config': None,\n 'children': [{'name': 'b1', 'adapter': None, 'config': None},\n  {'name': 'b2', 'adapter': 'bw', 'config': None}]}"
     },
     "execution_count": 13,
     "metadata": {},
     "output_type": "execute_result"
    }
   ],
   "source": [
    "mermaid2=\"\"\"graph BT\n",
    "b1-->a:::sum\n",
    "b2:::bw-->a\"\"\"\n",
    "\n",
    "hierarchy = convert_mermaid_lines(mermaid2)\n",
    "hierarchy"
   ],
   "metadata": {
    "collapsed": false,
    "ExecuteTime": {
     "end_time": "2024-02-20T14:03:37.071442806Z",
     "start_time": "2024-02-20T14:03:37.027948381Z"
    }
   },
   "id": "12df5263ea771499",
   "execution_count": 13
  },
  {
   "cell_type": "code",
   "outputs": [
    {
     "name": "stdout",
     "output_type": "stream",
     "text": [
      "{\n",
      "  \"name\": \"a\",\n",
      "  \"aggregator\": \"sum\",\n",
      "  \"config\": null,\n",
      "  \"children\": [\n",
      "    {\n",
      "      \"name\": \"b1\",\n",
      "      \"adapter\": null,\n",
      "      \"config\": null\n",
      "    },\n",
      "    {\n",
      "      \"name\": \"b2\",\n",
      "      \"adapter\": \"bw\",\n",
      "      \"config\": null\n",
      "    }\n",
      "  ]\n",
      "}\n"
     ]
    }
   ],
   "source": [
    "mermaid2b = \"\"\"\n",
    "graph BT\n",
    "    b1 --> a:::sum\n",
    "    b2 -- bw --> a\n",
    "\"\"\"\n",
    "\n",
    "print(json.dumps(convert_mermaid_lines(mermaid2), indent=2, ensure_ascii=False))"
   ],
   "metadata": {
    "collapsed": false,
    "ExecuteTime": {
     "end_time": "2024-02-20T14:04:13.359274965Z",
     "start_time": "2024-02-20T14:04:13.318727267Z"
    }
   },
   "id": "3b46506c200f06e6",
   "execution_count": 14
  },
  {
   "cell_type": "code",
   "outputs": [
    {
     "name": "stdout",
     "output_type": "stream",
     "text": [
      "{\n",
      "  \"name\": \"a\",\n",
      "  \"aggregator\": \"sum\",\n",
      "  \"config\": null,\n",
      "  \"children\": [\n",
      "    {\n",
      "      \"name\": \"b1\",\n",
      "      \"adapter\": \"bw\",\n",
      "      \"config\": null\n",
      "    },\n",
      "    {\n",
      "      \"name\": \"b2\",\n",
      "      \"adapter\": \"bw\",\n",
      "      \"config\": null\n",
      "    }\n",
      "  ]\n",
      "}\n"
     ]
    }
   ],
   "source": [
    "mermaid2=\"\"\"graph BT\n",
    "a:::sum\n",
    "b1:::bw\n",
    "b2:::bw\n",
    "b1-->a\n",
    "b2-->a\"\"\"\n",
    "\n",
    "print(json.dumps(convert_mermaid_lines(mermaid2), indent=2, ensure_ascii=False))"
   ],
   "metadata": {
    "collapsed": false,
    "ExecuteTime": {
     "end_time": "2024-02-20T14:06:21.391366267Z",
     "start_time": "2024-02-20T14:06:21.345096983Z"
    }
   },
   "id": "fb1cd79819808d2b",
   "execution_count": 15
  },
  {
   "cell_type": "code",
   "outputs": [
    {
     "name": "stdout",
     "output_type": "stream",
     "text": [
      "{\n",
      "  \"name\": \"a\",\n",
      "  \"aggregator\": \"sum\",\n",
      "  \"config\": null,\n",
      "  \"children\": [\n",
      "    {\n",
      "      \"name\": \"b1\",\n",
      "      \"adapter\": \"bw\",\n",
      "      \"config\": {\n",
      "        \"code\": \"xxx1\"\n",
      "      }\n",
      "    },\n",
      "    {\n",
      "      \"name\": \"b2\",\n",
      "      \"adapter\": \"bw\",\n",
      "      \"config\": {\n",
      "        \"code\": \"xxx2\"\n",
      "      }\n",
      "    }\n",
      "  ]\n",
      "}\n"
     ]
    }
   ],
   "source": [
    "mermaid3=\"\"\"graph BT\n",
    "a:::sum\n",
    "b1:::bw,code:xxx1\n",
    "b2:::bw,code:xxx2\n",
    "\n",
    "b1-->a\n",
    "b2-->a\"\"\"\n",
    "\n",
    "print(json.dumps(convert_mermaid_lines(mermaid3), indent=2, ensure_ascii=False))"
   ],
   "metadata": {
    "collapsed": false,
    "ExecuteTime": {
     "end_time": "2024-02-20T14:08:46.683705243Z",
     "start_time": "2024-02-20T14:08:46.641192965Z"
    }
   },
   "id": "b26929ea40d599d8",
   "execution_count": 19
  },
  {
   "cell_type": "code",
   "outputs": [],
   "source": [],
   "metadata": {
    "collapsed": false
   },
   "id": "ca34f90835f45e9e"
  }
 ],
 "metadata": {
  "kernelspec": {
   "display_name": "Python 3",
   "language": "python",
   "name": "python3"
  },
  "language_info": {
   "codemirror_mode": {
    "name": "ipython",
    "version": 2
   },
   "file_extension": ".py",
   "mimetype": "text/x-python",
   "name": "python",
   "nbconvert_exporter": "python",
   "pygments_lexer": "ipython2",
   "version": "2.7.6"
  }
 },
 "nbformat": 4,
 "nbformat_minor": 5
}
