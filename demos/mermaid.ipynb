{
 "cells": [
  {
   "cell_type": "code",
   "id": "initial_id",
   "metadata": {
    "collapsed": true,
    "ExecuteTime": {
     "end_time": "2024-05-14T08:45:26.719945Z",
     "start_time": "2024-05-14T08:45:24.632626Z"
    }
   },
   "source": [
    "import json\n",
    "\n",
    "from enbios.generic.mermaid2hierarchy import convert_mermaid_lines"
   ],
   "outputs": [],
   "execution_count": 1
  },
  {
   "cell_type": "code",
   "source": [
    "mermaid1 = \"\"\"graph BT\n",
    "b1-->a\n",
    "b2-->a\"\"\""
   ],
   "metadata": {
    "collapsed": false,
    "ExecuteTime": {
     "end_time": "2024-05-14T08:45:26.723587Z",
     "start_time": "2024-05-14T08:45:26.721127Z"
    }
   },
   "id": "269587c8d24261d2",
   "outputs": [],
   "execution_count": 2
  },
  {
   "cell_type": "code",
   "source": [
    "hierarchy = convert_mermaid_lines(mermaid1)\n",
    "hierarchy"
   ],
   "metadata": {
    "collapsed": false,
    "ExecuteTime": {
     "end_time": "2024-05-14T08:45:26.745063Z",
     "start_time": "2024-05-14T08:45:26.724685Z"
    }
   },
   "id": "145c113799d9b3ec",
   "outputs": [
    {
     "data": {
      "text/plain": [
       "{'name': 'a',\n",
       " 'aggregator': None,\n",
       " 'config': None,\n",
       " 'children': [{'name': 'b1', 'adapter': None, 'config': None},\n",
       "  {'name': 'b2', 'adapter': None, 'config': None}]}"
      ]
     },
     "execution_count": 3,
     "metadata": {},
     "output_type": "execute_result"
    }
   ],
   "execution_count": 3
  },
  {
   "cell_type": "code",
   "source": [
    "print(json.dumps(hierarchy, indent=2, ensure_ascii=False))"
   ],
   "metadata": {
    "collapsed": false,
    "ExecuteTime": {
     "end_time": "2024-05-14T08:45:26.764061Z",
     "start_time": "2024-05-14T08:45:26.745874Z"
    }
   },
   "id": "168746708c3dc0d0",
   "outputs": [
    {
     "name": "stdout",
     "output_type": "stream",
     "text": [
      "{\n",
      "  \"name\": \"a\",\n",
      "  \"aggregator\": null,\n",
      "  \"config\": null,\n",
      "  \"children\": [\n",
      "    {\n",
      "      \"name\": \"b1\",\n",
      "      \"adapter\": null,\n",
      "      \"config\": null\n",
      "    },\n",
      "    {\n",
      "      \"name\": \"b2\",\n",
      "      \"adapter\": null,\n",
      "      \"config\": null\n",
      "    }\n",
      "  ]\n",
      "}\n"
     ]
    }
   ],
   "execution_count": 4
  },
  {
   "metadata": {},
   "cell_type": "markdown",
   "source": [
    "Specifying adapters and aggregators wtih `:::` (which can be done once per node) OR as link description \n",
    "\n",
    "`<node> -- <adapter_name> --> <parent_node>`"
   ],
   "id": "dd1f313b01d29081"
  },
  {
   "cell_type": "code",
   "source": [
    "mermaid2 = \"\"\"graph BT\n",
    "b1-->a:::sum\n",
    "b2:::bw-->a\"\"\"\n",
    "\n",
    "hierarchy = convert_mermaid_lines(mermaid2)\n",
    "hierarchy"
   ],
   "metadata": {
    "collapsed": false,
    "ExecuteTime": {
     "end_time": "2024-05-14T08:45:26.800070Z",
     "start_time": "2024-05-14T08:45:26.767193Z"
    }
   },
   "id": "12df5263ea771499",
   "outputs": [
    {
     "data": {
      "text/plain": [
       "{'name': 'a',\n",
       " 'aggregator': 'sum',\n",
       " 'config': None,\n",
       " 'children': [{'name': 'b1', 'adapter': None, 'config': None},\n",
       "  {'name': 'b2', 'adapter': 'bw', 'config': None}]}"
      ]
     },
     "execution_count": 5,
     "metadata": {},
     "output_type": "execute_result"
    }
   ],
   "execution_count": 5
  },
  {
   "cell_type": "code",
   "source": [
    "mermaid2b = \"\"\"\n",
    "graph BT\n",
    "    b1 --> a:::sum\n",
    "    b2 -- bw --> a\n",
    "\"\"\"\n",
    "\n",
    "print(json.dumps(convert_mermaid_lines(mermaid2), indent=2, ensure_ascii=False))"
   ],
   "metadata": {
    "collapsed": false,
    "ExecuteTime": {
     "end_time": "2024-05-14T08:45:26.821235Z",
     "start_time": "2024-05-14T08:45:26.801207Z"
    }
   },
   "id": "3b46506c200f06e6",
   "outputs": [
    {
     "name": "stdout",
     "output_type": "stream",
     "text": [
      "{\n",
      "  \"name\": \"a\",\n",
      "  \"aggregator\": \"sum\",\n",
      "  \"config\": null,\n",
      "  \"children\": [\n",
      "    {\n",
      "      \"name\": \"b1\",\n",
      "      \"adapter\": null,\n",
      "      \"config\": null\n",
      "    },\n",
      "    {\n",
      "      \"name\": \"b2\",\n",
      "      \"adapter\": \"bw\",\n",
      "      \"config\": null\n",
      "    }\n",
      "  ]\n",
      "}\n"
     ]
    }
   ],
   "execution_count": 6
  },
  {
   "cell_type": "code",
   "source": [
    "mermaid2 = \"\"\"graph BT\n",
    "a:::sum\n",
    "b1:::bw\n",
    "b2:::bw\n",
    "b1-->a\n",
    "b2-->a\"\"\"\n",
    "\n",
    "print(json.dumps(convert_mermaid_lines(mermaid2), indent=2, ensure_ascii=False))"
   ],
   "metadata": {
    "collapsed": false,
    "ExecuteTime": {
     "end_time": "2024-05-14T08:45:26.856238Z",
     "start_time": "2024-05-14T08:45:26.822233Z"
    }
   },
   "id": "fb1cd79819808d2b",
   "outputs": [
    {
     "name": "stdout",
     "output_type": "stream",
     "text": [
      "{\n",
      "  \"name\": \"a\",\n",
      "  \"aggregator\": \"sum\",\n",
      "  \"config\": null,\n",
      "  \"children\": [\n",
      "    {\n",
      "      \"name\": \"b1\",\n",
      "      \"adapter\": \"bw\",\n",
      "      \"config\": null\n",
      "    },\n",
      "    {\n",
      "      \"name\": \"b2\",\n",
      "      \"adapter\": \"bw\",\n",
      "      \"config\": null\n",
      "    }\n",
      "  ]\n",
      "}\n"
     ]
    }
   ],
   "execution_count": 7
  },
  {
   "cell_type": "code",
   "source": [
    "mermaid3 = \"\"\"graph BT\n",
    "a:::sum\n",
    "b1:::bw,code:xxx1\n",
    "b2:::bw,code:xxx2\n",
    "\n",
    "b1-->a\n",
    "b2-->a\"\"\"\n",
    "\n",
    "print(json.dumps(convert_mermaid_lines(mermaid3), indent=2, ensure_ascii=False))"
   ],
   "metadata": {
    "collapsed": false,
    "ExecuteTime": {
     "end_time": "2024-05-14T08:45:26.883359Z",
     "start_time": "2024-05-14T08:45:26.857278Z"
    }
   },
   "id": "b26929ea40d599d8",
   "outputs": [
    {
     "name": "stdout",
     "output_type": "stream",
     "text": [
      "{\n",
      "  \"name\": \"a\",\n",
      "  \"aggregator\": \"sum\",\n",
      "  \"config\": null,\n",
      "  \"children\": [\n",
      "    {\n",
      "      \"name\": \"b1\",\n",
      "      \"adapter\": \"bw\",\n",
      "      \"config\": {\n",
      "        \"code\": \"xxx1\"\n",
      "      }\n",
      "    },\n",
      "    {\n",
      "      \"name\": \"b2\",\n",
      "      \"adapter\": \"bw\",\n",
      "      \"config\": {\n",
      "        \"code\": \"xxx2\"\n",
      "      }\n",
      "    }\n",
      "  ]\n",
      "}\n"
     ]
    }
   ],
   "execution_count": 8
  },
  {
   "cell_type": "markdown",
   "source": [
    "## How to read a mermaid file convert it and add it to some experiment configuration"
   ],
   "metadata": {
    "collapsed": false
   },
   "id": "466259576889c6f5"
  },
  {
   "cell_type": "code",
   "source": [
    "from enbios.generic.mermaid2hierarchy import convert_mermaid_file\n",
    "\n",
    "hierarchy = convert_mermaid_file(\"data/mermaid/simple_mermaid.mermaid\")"
   ],
   "metadata": {
    "collapsed": false,
    "ExecuteTime": {
     "end_time": "2024-05-14T08:45:26.922099Z",
     "start_time": "2024-05-14T08:45:26.884511Z"
    }
   },
   "id": "11c9f09bd216af6c",
   "outputs": [],
   "execution_count": 9
  },
  {
   "cell_type": "code",
   "source": [
    "from enbios.base.experiment import Experiment\n",
    "\n",
    "exp_config = {\n",
    "    \"adapters\": [\n",
    "        {\n",
    "            \"adapter_name\": \"brightway-adapter\",\n",
    "            \"config\": {\"bw_project\": \"ecoinvent_391\"},\n",
    "            \"methods\": {\n",
    "                \"GWP1000\": (\n",
    "                    \"ReCiPe 2016 v1.03, midpoint (H)\",\n",
    "                    \"climate change\",\n",
    "                    \"global warming potential (GWP1000)\",\n",
    "                ),\n",
    "                \"LOP\": (\n",
    "                    \"ReCiPe 2016 v1.03, midpoint (E)\",\n",
    "                    \"land use\",\n",
    "                    \"agricultural land occupation (LOP)\",\n",
    "                ),\n",
    "                \"WCP\": (\n",
    "                    \"ReCiPe 2016 v1.03, midpoint (E)\",\n",
    "                    \"water use\",\n",
    "                    \"water consumption potential (WCP)\",\n",
    "                ),\n",
    "            },\n",
    "        }\n",
    "    ],\n",
    "    \"hierarchy\": hierarchy,\n",
    "}\n",
    "\n",
    "exp = Experiment(exp_config)"
   ],
   "metadata": {
    "collapsed": false,
    "ExecuteTime": {
     "end_time": "2024-05-14T08:45:27.923373Z",
     "start_time": "2024-05-14T08:45:26.922957Z"
    }
   },
   "id": "76e948074adecfda",
   "outputs": [],
   "execution_count": 10
  },
  {
   "cell_type": "code",
   "source": [
    "exp.run()"
   ],
   "metadata": {
    "collapsed": false,
    "ExecuteTime": {
     "end_time": "2024-05-14T08:45:51.156725Z",
     "start_time": "2024-05-14T08:45:27.924171Z"
    }
   },
   "id": "e92285b0b4db77cb",
   "outputs": [
    {
     "name": "stdout",
     "output_type": "stream",
     "text": [
      "2024-05-14 10:45:27,924 - demos.enbios.base - INFO - Running scenario 'default scenario'\n",
      "2024-05-14 10:45:35,376 - enbios.bw2.MultiLCA_util - DEBUG - Demand 0/2\n",
      "2024-05-14 10:45:43,290 - enbios.bw2.MultiLCA_util - DEBUG - Demand 1/2\n"
     ]
    },
    {
     "data": {
      "text/plain": [
       "{'default scenario': {'name': 'root',\n",
       "  'results': {'GWP1000': {'unit': 'kg CO2-Eq',\n",
       "    'magnitude': 0.03226405959967699},\n",
       "   'LOP': {'unit': 'm2*a crop-Eq', 'magnitude': 0.0014470839901441494},\n",
       "   'WCP': {'unit': 'cubic meter', 'magnitude': 0.00032440108819546665}},\n",
       "  'output': [{'unit': 'kilowatt_hour', 'magnitude': 2.0, 'label': None}],\n",
       "  'children': [{'name': 'b1',\n",
       "    'results': {'GWP1000': {'unit': 'kg CO2-Eq',\n",
       "      'magnitude': 0.015243611343654916},\n",
       "     'LOP': {'unit': 'm2*a crop-Eq', 'magnitude': 0.0010661197824375084},\n",
       "     'WCP': {'unit': 'cubic meter', 'magnitude': 0.00013635993757804614}},\n",
       "    'output': [{'unit': 'kilowatt_hour', 'magnitude': 1.0, 'label': None}],\n",
       "    'bw_activity_code': 'ed3da88fc23311ee183e9ffd376de89b'},\n",
       "   {'name': 'b2',\n",
       "    'results': {'GWP1000': {'unit': 'kg CO2-Eq',\n",
       "      'magnitude': 0.01702044825602208},\n",
       "     'LOP': {'unit': 'm2*a crop-Eq', 'magnitude': 0.0003809642077066412},\n",
       "     'WCP': {'unit': 'cubic meter', 'magnitude': 0.00018804115061742048}},\n",
       "    'output': [{'unit': 'kilowatt_hour', 'magnitude': 1.0, 'label': None}],\n",
       "    'bw_activity_code': '6ebfe52dc3ef5b4d35bb603b03559023'}]}}"
      ]
     },
     "execution_count": 11,
     "metadata": {},
     "output_type": "execute_result"
    }
   ],
   "execution_count": 11
  },
  {
   "metadata": {},
   "cell_type": "markdown",
   "source": "We can also just pass the file location as a string to the hierarchy ",
   "id": "8177bc2edf04e714"
  },
  {
   "metadata": {
    "ExecuteTime": {
     "end_time": "2024-05-14T08:46:16.288912Z",
     "start_time": "2024-05-14T08:45:51.161444Z"
    }
   },
   "cell_type": "code",
   "source": [
    "exp_config = {\n",
    "    \"adapters\": [\n",
    "        {\n",
    "            \"adapter_name\": \"brightway-adapter\",\n",
    "            \"config\": {\"bw_project\": \"ecoinvent_391\"},\n",
    "            \"methods\": {\n",
    "                \"GWP1000\": (\n",
    "                    \"ReCiPe 2016 v1.03, midpoint (H)\",\n",
    "                    \"climate change\",\n",
    "                    \"global warming potential (GWP1000)\",\n",
    "                ),\n",
    "                \"LOP\": (\n",
    "                    \"ReCiPe 2016 v1.03, midpoint (E)\",\n",
    "                    \"land use\",\n",
    "                    \"agricultural land occupation (LOP)\",\n",
    "                ),\n",
    "                \"WCP\": (\n",
    "                    \"ReCiPe 2016 v1.03, midpoint (E)\",\n",
    "                    \"water use\",\n",
    "                    \"water consumption potential (WCP)\",\n",
    "                ),\n",
    "            },\n",
    "        }\n",
    "    ],\n",
    "    \"hierarchy\": \"data/mermaid/simple_mermaid.mermaid\",\n",
    "}\n",
    "\n",
    "exp = Experiment(exp_config)\n",
    "exp.run()"
   ],
   "id": "35a1c07a7f3700e",
   "outputs": [
    {
     "name": "stdout",
     "output_type": "stream",
     "text": [
      "2024-05-14 10:45:52,404 - demos.enbios.base - INFO - Running scenario 'default scenario'\n",
      "2024-05-14 10:46:00,080 - enbios.bw2.MultiLCA_util - DEBUG - Demand 0/2\n",
      "2024-05-14 10:46:09,252 - enbios.bw2.MultiLCA_util - DEBUG - Demand 1/2\n"
     ]
    },
    {
     "data": {
      "text/plain": [
       "{'default scenario': {'name': 'root',\n",
       "  'results': {'GWP1000': {'unit': 'kg CO2-Eq',\n",
       "    'magnitude': 0.03226405959967699},\n",
       "   'LOP': {'unit': 'm2*a crop-Eq', 'magnitude': 0.0014470839901441494},\n",
       "   'WCP': {'unit': 'cubic meter', 'magnitude': 0.00032440108819546665}},\n",
       "  'output': [{'unit': 'kilowatt_hour', 'magnitude': 2.0, 'label': None}],\n",
       "  'children': [{'name': 'b1',\n",
       "    'results': {'GWP1000': {'unit': 'kg CO2-Eq',\n",
       "      'magnitude': 0.015243611343654916},\n",
       "     'LOP': {'unit': 'm2*a crop-Eq', 'magnitude': 0.0010661197824375084},\n",
       "     'WCP': {'unit': 'cubic meter', 'magnitude': 0.00013635993757804614}},\n",
       "    'output': [{'unit': 'kilowatt_hour', 'magnitude': 1.0, 'label': None}],\n",
       "    'bw_activity_code': 'ed3da88fc23311ee183e9ffd376de89b'},\n",
       "   {'name': 'b2',\n",
       "    'results': {'GWP1000': {'unit': 'kg CO2-Eq',\n",
       "      'magnitude': 0.01702044825602208},\n",
       "     'LOP': {'unit': 'm2*a crop-Eq', 'magnitude': 0.0003809642077066412},\n",
       "     'WCP': {'unit': 'cubic meter', 'magnitude': 0.00018804115061742048}},\n",
       "    'output': [{'unit': 'kilowatt_hour', 'magnitude': 1.0, 'label': None}],\n",
       "    'bw_activity_code': '6ebfe52dc3ef5b4d35bb603b03559023'}]}}"
      ]
     },
     "execution_count": 12,
     "metadata": {},
     "output_type": "execute_result"
    }
   ],
   "execution_count": 12
  },
  {
   "metadata": {
    "ExecuteTime": {
     "end_time": "2024-05-14T08:48:37.224966Z",
     "start_time": "2024-05-14T08:48:37.221629Z"
    }
   },
   "cell_type": "code",
   "source": "exp.result_to_dict()",
   "id": "edec86b85c22acdd",
   "outputs": [
    {
     "data": {
      "text/plain": [
       "[<Scenario 'default scenario'>]"
      ]
     },
     "execution_count": 13,
     "metadata": {},
     "output_type": "execute_result"
    }
   ],
   "execution_count": 13
  },
  {
   "metadata": {},
   "cell_type": "code",
   "outputs": [],
   "execution_count": null,
   "source": "",
   "id": "c0f24843404bdea3"
  }
 ],
 "metadata": {
  "kernelspec": {
   "display_name": "Python 3",
   "language": "python",
   "name": "python3"
  },
  "language_info": {
   "codemirror_mode": {
    "name": "ipython",
    "version": 2
   },
   "file_extension": ".py",
   "mimetype": "text/x-python",
   "name": "python",
   "nbconvert_exporter": "python",
   "pygments_lexer": "ipython2",
   "version": "2.7.6"
  }
 },
 "nbformat": 4,
 "nbformat_minor": 5
}
