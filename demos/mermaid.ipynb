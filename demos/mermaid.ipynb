{
 "cells": [
  {
   "cell_type": "code",
   "execution_count": 1,
   "id": "initial_id",
   "metadata": {
    "collapsed": true,
    "ExecuteTime": {
     "end_time": "2024-02-20T22:24:12.673410485Z",
     "start_time": "2024-02-20T22:24:09.703137549Z"
    }
   },
   "outputs": [],
   "source": [
    "import json\n",
    "\n",
    "from enbios.generic.mermaid2hierarchy import convert_mermaid_lines"
   ]
  },
  {
   "cell_type": "code",
   "outputs": [],
   "source": [
    "mermaid1 = \"\"\"graph BT\n",
    "b1-->a\n",
    "b2-->a\"\"\""
   ],
   "metadata": {
    "collapsed": false,
    "ExecuteTime": {
     "end_time": "2024-02-20T22:20:46.792655538Z",
     "start_time": "2024-02-20T22:20:46.755027761Z"
    }
   },
   "id": "269587c8d24261d2",
   "execution_count": 2
  },
  {
   "cell_type": "code",
   "outputs": [
    {
     "data": {
      "text/plain": "{'name': 'a',\n 'aggregator': None,\n 'config': None,\n 'children': [{'name': 'b1', 'adapter': None, 'config': None},\n  {'name': 'b2', 'adapter': None, 'config': None}]}"
     },
     "execution_count": 3,
     "metadata": {},
     "output_type": "execute_result"
    }
   ],
   "source": [
    "hierarchy = convert_mermaid_lines(mermaid1)\n",
    "hierarchy"
   ],
   "metadata": {
    "collapsed": false,
    "ExecuteTime": {
     "end_time": "2024-02-20T22:20:46.832960816Z",
     "start_time": "2024-02-20T22:20:46.769810599Z"
    }
   },
   "id": "145c113799d9b3ec",
   "execution_count": 3
  },
  {
   "cell_type": "code",
   "outputs": [
    {
     "name": "stdout",
     "output_type": "stream",
     "text": [
      "{\n",
      "  \"name\": \"a\",\n",
      "  \"aggregator\": null,\n",
      "  \"config\": null,\n",
      "  \"children\": [\n",
      "    {\n",
      "      \"name\": \"b1\",\n",
      "      \"adapter\": null,\n",
      "      \"config\": null\n",
      "    },\n",
      "    {\n",
      "      \"name\": \"b2\",\n",
      "      \"adapter\": null,\n",
      "      \"config\": null\n",
      "    }\n",
      "  ]\n",
      "}\n"
     ]
    }
   ],
   "source": [
    "print(json.dumps(hierarchy, indent=2, ensure_ascii=False))"
   ],
   "metadata": {
    "collapsed": false,
    "ExecuteTime": {
     "end_time": "2024-02-20T22:20:46.856185693Z",
     "start_time": "2024-02-20T22:20:46.843058702Z"
    }
   },
   "id": "168746708c3dc0d0",
   "execution_count": 4
  },
  {
   "cell_type": "code",
   "outputs": [],
   "source": [
    "# Specifying adapters and aggregators wtih ':::' (which can be done once per node)"
   ],
   "metadata": {
    "collapsed": false,
    "ExecuteTime": {
     "end_time": "2024-02-20T22:20:46.941429485Z",
     "start_time": "2024-02-20T22:20:46.845367703Z"
    }
   },
   "id": "feb46984b5abadcd",
   "execution_count": 5
  },
  {
   "cell_type": "code",
   "outputs": [
    {
     "data": {
      "text/plain": "{'name': 'a',\n 'aggregator': 'sum',\n 'config': None,\n 'children': [{'name': 'b1', 'adapter': None, 'config': None},\n  {'name': 'b2', 'adapter': 'bw', 'config': None}]}"
     },
     "execution_count": 6,
     "metadata": {},
     "output_type": "execute_result"
    }
   ],
   "source": [
    "mermaid2 = \"\"\"graph BT\n",
    "b1-->a:::sum\n",
    "b2:::bw-->a\"\"\"\n",
    "\n",
    "hierarchy = convert_mermaid_lines(mermaid2)\n",
    "hierarchy"
   ],
   "metadata": {
    "collapsed": false,
    "ExecuteTime": {
     "end_time": "2024-02-20T22:20:47.018967304Z",
     "start_time": "2024-02-20T22:20:46.887139845Z"
    }
   },
   "id": "12df5263ea771499",
   "execution_count": 6
  },
  {
   "cell_type": "code",
   "outputs": [
    {
     "name": "stdout",
     "output_type": "stream",
     "text": [
      "{\n",
      "  \"name\": \"a\",\n",
      "  \"aggregator\": \"sum\",\n",
      "  \"config\": null,\n",
      "  \"children\": [\n",
      "    {\n",
      "      \"name\": \"b1\",\n",
      "      \"adapter\": null,\n",
      "      \"config\": null\n",
      "    },\n",
      "    {\n",
      "      \"name\": \"b2\",\n",
      "      \"adapter\": \"bw\",\n",
      "      \"config\": null\n",
      "    }\n",
      "  ]\n",
      "}\n"
     ]
    }
   ],
   "source": [
    "mermaid2b = \"\"\"\n",
    "graph BT\n",
    "    b1 --> a:::sum\n",
    "    b2 -- bw --> a\n",
    "\"\"\"\n",
    "\n",
    "print(json.dumps(convert_mermaid_lines(mermaid2), indent=2, ensure_ascii=False))"
   ],
   "metadata": {
    "collapsed": false,
    "ExecuteTime": {
     "end_time": "2024-02-20T22:20:47.022043907Z",
     "start_time": "2024-02-20T22:20:46.947664578Z"
    }
   },
   "id": "3b46506c200f06e6",
   "execution_count": 7
  },
  {
   "cell_type": "code",
   "outputs": [
    {
     "name": "stdout",
     "output_type": "stream",
     "text": [
      "{\n",
      "  \"name\": \"a\",\n",
      "  \"aggregator\": \"sum\",\n",
      "  \"config\": null,\n",
      "  \"children\": [\n",
      "    {\n",
      "      \"name\": \"b1\",\n",
      "      \"adapter\": \"bw\",\n",
      "      \"config\": null\n",
      "    },\n",
      "    {\n",
      "      \"name\": \"b2\",\n",
      "      \"adapter\": \"bw\",\n",
      "      \"config\": null\n",
      "    }\n",
      "  ]\n",
      "}\n"
     ]
    }
   ],
   "source": [
    "mermaid2 = \"\"\"graph BT\n",
    "a:::sum\n",
    "b1:::bw\n",
    "b2:::bw\n",
    "b1-->a\n",
    "b2-->a\"\"\"\n",
    "\n",
    "print(json.dumps(convert_mermaid_lines(mermaid2), indent=2, ensure_ascii=False))"
   ],
   "metadata": {
    "collapsed": false,
    "ExecuteTime": {
     "end_time": "2024-02-20T22:20:47.143059639Z",
     "start_time": "2024-02-20T22:20:47.004806217Z"
    }
   },
   "id": "fb1cd79819808d2b",
   "execution_count": 8
  },
  {
   "cell_type": "code",
   "outputs": [
    {
     "name": "stdout",
     "output_type": "stream",
     "text": [
      "{\n",
      "  \"name\": \"a\",\n",
      "  \"aggregator\": \"sum\",\n",
      "  \"config\": null,\n",
      "  \"children\": [\n",
      "    {\n",
      "      \"name\": \"b1\",\n",
      "      \"adapter\": \"bw\",\n",
      "      \"config\": {\n",
      "        \"code\": \"xxx1\"\n",
      "      }\n",
      "    },\n",
      "    {\n",
      "      \"name\": \"b2\",\n",
      "      \"adapter\": \"bw\",\n",
      "      \"config\": {\n",
      "        \"code\": \"xxx2\"\n",
      "      }\n",
      "    }\n",
      "  ]\n",
      "}\n"
     ]
    }
   ],
   "source": [
    "mermaid3 = \"\"\"graph BT\n",
    "a:::sum\n",
    "b1:::bw,code:xxx1\n",
    "b2:::bw,code:xxx2\n",
    "\n",
    "b1-->a\n",
    "b2-->a\"\"\"\n",
    "\n",
    "print(json.dumps(convert_mermaid_lines(mermaid3), indent=2, ensure_ascii=False))"
   ],
   "metadata": {
    "collapsed": false,
    "ExecuteTime": {
     "end_time": "2024-02-20T22:20:47.248286875Z",
     "start_time": "2024-02-20T22:20:47.163732980Z"
    }
   },
   "id": "b26929ea40d599d8",
   "execution_count": 9
  },
  {
   "cell_type": "markdown",
   "source": [
    "## How to read a mermaid file convert it and add it to some experiment configuration"
   ],
   "metadata": {
    "collapsed": false
   },
   "id": "466259576889c6f5"
  },
  {
   "cell_type": "code",
   "outputs": [],
   "source": [
    "from enbios.generic.mermaid2hierarchy import convert_mermaid_file\n",
    "\n",
    "hierarchy = convert_mermaid_file(\"data/mermaid/simple_mermaid.mmd\")"
   ],
   "metadata": {
    "collapsed": false,
    "ExecuteTime": {
     "end_time": "2024-02-21T13:23:35.530780504Z",
     "start_time": "2024-02-21T13:23:34.101323162Z"
    }
   },
   "id": "11c9f09bd216af6c",
   "execution_count": 1
  },
  {
   "cell_type": "code",
   "outputs": [],
   "source": [
    "from enbios.base.experiment import Experiment\n",
    "\n",
    "exp_config = {\n",
    "    \"adapters\": [\n",
    "        {\n",
    "            \"adapter_name\": \"brightway-adapter\",\n",
    "            \"config\": {\"bw_project\": \"ecoinvent_391\"},\n",
    "            \"methods\": {\n",
    "                \"GWP1000\": (\n",
    "                    \"ReCiPe 2016 v1.03, midpoint (H)\",\n",
    "                    \"climate change\",\n",
    "                    \"global warming potential (GWP1000)\",\n",
    "                ),\n",
    "                \"LOP\": (\n",
    "                    \"ReCiPe 2016 v1.03, midpoint (E)\",\n",
    "                    \"land use\",\n",
    "                    \"agricultural land occupation (LOP)\",\n",
    "                ),\n",
    "                \"WCP\": (\n",
    "                    \"ReCiPe 2016 v1.03, midpoint (E)\",\n",
    "                    \"water use\",\n",
    "                    \"water consumption potential (WCP)\",\n",
    "                ),\n",
    "            },\n",
    "        }\n",
    "    ],\n",
    "    \"hierarchy\": hierarchy,\n",
    "}\n",
    "\n",
    "exp = Experiment(exp_config)"
   ],
   "metadata": {
    "collapsed": false,
    "ExecuteTime": {
     "end_time": "2024-02-21T13:23:53.778139134Z",
     "start_time": "2024-02-21T13:23:49.850060951Z"
    }
   },
   "id": "76e948074adecfda",
   "execution_count": 3
  },
  {
   "cell_type": "code",
   "outputs": [
    {
     "name": "stdout",
     "output_type": "stream",
     "text": [
      "2024-02-21 14:23:53,782 - ............demos.enbios.base - INFO - Running scenario 'default scenario'\n"
     ]
    },
    {
     "data": {
      "text/plain": "{'default scenario': {'name': 'root',\n  'results': {'GWP1000': {'unit': 'kg CO2-Eq',\n    'magnitude': 0.032264059590470524},\n   'LOP': {'unit': 'm2*a crop-Eq', 'magnitude': 0.001447083969231639},\n   'WCP': {'unit': 'cubic meter', 'magnitude': 0.00032440108814901574}},\n  'output': {'unit': 'kilowatt_hour', 'magnitude': 2.0},\n  'children': [{'name': 'b1',\n    'results': {'GWP1000': {'unit': 'kg CO2-Eq',\n      'magnitude': 0.015243611332791748},\n     'LOP': {'unit': 'm2*a crop-Eq', 'magnitude': 0.0010661197743596256},\n     'WCP': {'unit': 'cubic meter', 'magnitude': 0.000136359937516592}},\n    'output': {'unit': 'kilowatt_hour', 'magnitude': 1.0}},\n   {'name': 'b2',\n    'results': {'GWP1000': {'unit': 'kg CO2-Eq',\n      'magnitude': 0.017020448257678778},\n     'LOP': {'unit': 'm2*a crop-Eq', 'magnitude': 0.00038096419487201346},\n     'WCP': {'unit': 'cubic meter', 'magnitude': 0.00018804115063242375}},\n    'output': {'unit': 'kilowatt_hour', 'magnitude': 1.0}}]}}"
     },
     "execution_count": 4,
     "metadata": {},
     "output_type": "execute_result"
    }
   ],
   "source": [
    "exp.run()"
   ],
   "metadata": {
    "collapsed": false,
    "ExecuteTime": {
     "end_time": "2024-02-21T13:24:39.653040381Z",
     "start_time": "2024-02-21T13:23:53.786854414Z"
    }
   },
   "id": "e92285b0b4db77cb",
   "execution_count": 4
  }
 ],
 "metadata": {
  "kernelspec": {
   "display_name": "Python 3",
   "language": "python",
   "name": "python3"
  },
  "language_info": {
   "codemirror_mode": {
    "name": "ipython",
    "version": 2
   },
   "file_extension": ".py",
   "mimetype": "text/x-python",
   "name": "python",
   "nbconvert_exporter": "python",
   "pygments_lexer": "ipython2",
   "version": "2.7.6"
  }
 },
 "nbformat": 4,
 "nbformat_minor": 5
}
